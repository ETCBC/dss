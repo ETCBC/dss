{
 "cells": [
  {
   "cell_type": "markdown",
   "metadata": {},
   "source": [
    "<img align=\"right\" src=\"images/tf.png\" width=\"128\"/>\n",
    "<img align=\"right\" src=\"images/logo.png\" width=\"128\"/>\n",
    "<img align=\"right\" src=\"images/etcbc.png\" width=\"128\"/>\n",
    "<img align=\"right\" src=\"images/dans.png\" width=\"128\"/>\n",
    "\n",
    "---\n",
    "\n",
    "To get started: consult [start](start.ipynb)\n",
    "\n",
    "---\n",
    "\n",
    "# Display\n",
    "\n",
    "We show the ins and outs of displaying Dead Sea Scroll material."
   ]
  },
  {
   "cell_type": "code",
   "execution_count": 1,
   "metadata": {},
   "outputs": [],
   "source": [
    "%load_ext autoreload\n",
    "%autoreload 2"
   ]
  },
  {
   "cell_type": "code",
   "execution_count": 2,
   "metadata": {
    "ExecuteTime": {
     "end_time": "2018-05-18T09:17:16.202764Z",
     "start_time": "2018-05-18T09:17:16.197546Z"
    }
   },
   "outputs": [],
   "source": [
    "from tf.app import use"
   ]
  },
  {
   "cell_type": "markdown",
   "metadata": {},
   "source": [
    "If you want to use a version of the DSS ahead of a release, use the incantation with `hot` in it.\n",
    "That will take time, not only for the download itself, but also for the one-time preprocessing of the data.\n",
    "\n",
    "If you are content with the latest stable release, use the line without the `hot`.\n",
    "\n",
    "I have the data locally in my github clone of the DSS, so I use the variant with `clone`.\n",
    "\n",
    "If you do a `git clone https://github.com/ETCBC/dss` from your directory\n",
    "`~/github/etcbc` you can use this as well."
   ]
  },
  {
   "cell_type": "code",
   "execution_count": 3,
   "metadata": {},
   "outputs": [
    {
     "data": {
      "text/html": [
       "<b title=\"local github\">TF-app:</b> <span title=\"repo clone offline under ~/github\">~/github/annotation/app-dss/code</span>"
      ],
      "text/plain": [
       "<IPython.core.display.HTML object>"
      ]
     },
     "metadata": {},
     "output_type": "display_data"
    },
    {
     "data": {
      "text/html": [
       "<b title=\"local github\">data:</b> <span title=\"repo clone offline under ~/github\">~/github/etcbc/dss/tf/0.9</span>"
      ],
      "text/plain": [
       "<IPython.core.display.HTML object>"
      ]
     },
     "metadata": {},
     "output_type": "display_data"
    },
    {
     "data": {
      "text/html": [
       "<b title=\"local github\">data:</b> <span title=\"repo clone offline under ~/github\">~/github/etcbc/dss/parallels/tf/0.9</span>"
      ],
      "text/plain": [
       "<IPython.core.display.HTML object>"
      ]
     },
     "metadata": {},
     "output_type": "display_data"
    },
    {
     "name": "stdout",
     "output_type": "stream",
     "text": [
      "This is Text-Fabric 9.1.0\n",
      "Api reference : https://annotation.github.io/text-fabric/tf/cheatsheet.html\n",
      "\n",
      "67 features found and 1 ignored\n"
     ]
    },
    {
     "data": {
      "text/html": [
       "<b>Text-Fabric:</b> <a target=\"_blank\" href=\"https://annotation.github.io/text-fabric/tf/cheatsheet.html\" title=\"text-fabric-api\">Text-Fabric API 9.1.0</a>, <a target=\"_blank\" href=\"https://github.com/annotation/app-dss\" title=\"dss TF-app\">app-dss v3</a>, <a target=\"_blank\" href=\"https://annotation.github.io/text-fabric/tf/about/searchusage.html\" title=\"Search Templates Introduction and Reference\">Search Reference</a><br><b>Data:</b> <a target=\"_blank\" href=\"https://github.com/etcbc/dss/blob/master/docs/about.md\" title=\"provenance of Dead Sea Scrolls\">DSS</a>, <a target=\"_blank\" href=\"https://annotation.github.io/text-fabric/tf/writing/hebrew.html\" title=\"How TF features represent text\">Character table</a>, <a target=\"_blank\" href=\"https://github.com/etcbc/dss/blob/master/docs/transcription.md\" title=\"DSS feature documentation\">Feature docs</a><br><b>Features:</b><br><details><summary><b>Parallel Passages</b></summary><b><i><a target=\"_blank\" href=\"https://nbviewer.jupyter.org/github/etcbc/dss/blob/master/programs/parallels.ipynb\" title=\"~/github/etcbc/dss/parallels/tf/0.9/sim.tf\">sim</a></i></b><br></details><details><summary><b>Dead Sea Scrolls</b></summary><a target=\"_blank\" href=\"https://github.com/etcbc/dss/blob/master/docs/transcription.md\" title=\"~/github/etcbc/dss/tf/0.9/after.tf\">after</a><br><a target=\"_blank\" href=\"https://github.com/etcbc/dss/blob/master/docs/transcription.md\" title=\"~/github/etcbc/dss/tf/0.9/alt.tf\">alt</a><br><a target=\"_blank\" href=\"https://github.com/etcbc/dss/blob/master/docs/transcription.md\" title=\"~/github/etcbc/dss/tf/0.9/biblical.tf\">biblical</a><br><a target=\"_blank\" href=\"https://github.com/etcbc/dss/blob/master/docs/transcription.md\" title=\"~/github/etcbc/dss/tf/0.9/book.tf\">book</a><br><a target=\"_blank\" href=\"https://github.com/etcbc/dss/blob/master/docs/transcription.md\" title=\"~/github/etcbc/dss/tf/0.9/chapter.tf\">chapter</a><br><a target=\"_blank\" href=\"https://github.com/etcbc/dss/blob/master/docs/transcription.md\" title=\"~/github/etcbc/dss/tf/0.9/cl.tf\">cl</a><br><a target=\"_blank\" href=\"https://github.com/etcbc/dss/blob/master/docs/transcription.md\" title=\"~/github/etcbc/dss/tf/0.9/cl2.tf\">cl2</a><br><a target=\"_blank\" href=\"https://github.com/etcbc/dss/blob/master/docs/transcription.md\" title=\"~/github/etcbc/dss/tf/0.9/cor.tf\">cor</a><br><a target=\"_blank\" href=\"https://github.com/etcbc/dss/blob/master/docs/transcription.md\" title=\"~/github/etcbc/dss/tf/0.9/fragment.tf\">fragment</a><br><a target=\"_blank\" href=\"https://github.com/etcbc/dss/blob/master/docs/transcription.md\" title=\"~/github/etcbc/dss/tf/0.9/full.tf\">full</a><br><a target=\"_blank\" href=\"https://github.com/etcbc/dss/blob/master/docs/transcription.md\" title=\"~/github/etcbc/dss/tf/0.9/fulle.tf\">fulle</a><br><a target=\"_blank\" href=\"https://github.com/etcbc/dss/blob/master/docs/transcription.md\" title=\"~/github/etcbc/dss/tf/0.9/fullo.tf\">fullo</a><br><a target=\"_blank\" href=\"https://github.com/etcbc/dss/blob/master/docs/transcription.md\" title=\"~/github/etcbc/dss/tf/0.9/g_cons.tf\">g_cons</a><br><a target=\"_blank\" href=\"https://github.com/etcbc/dss/blob/master/docs/transcription.md\" title=\"~/github/etcbc/dss/tf/0.9/glex.tf\">glex</a><br><a target=\"_blank\" href=\"https://github.com/etcbc/dss/blob/master/docs/transcription.md\" title=\"~/github/etcbc/dss/tf/0.9/glexe.tf\">glexe</a><br><a target=\"_blank\" href=\"https://github.com/etcbc/dss/blob/master/docs/transcription.md\" title=\"~/github/etcbc/dss/tf/0.9/glexo.tf\">glexo</a><br><a target=\"_blank\" href=\"https://github.com/etcbc/dss/blob/master/docs/transcription.md\" title=\"~/github/etcbc/dss/tf/0.9/glyph.tf\">glyph</a><br><a target=\"_blank\" href=\"https://github.com/etcbc/dss/blob/master/docs/transcription.md\" title=\"~/github/etcbc/dss/tf/0.9/glyphe.tf\">glyphe</a><br><a target=\"_blank\" href=\"https://github.com/etcbc/dss/blob/master/docs/transcription.md\" title=\"~/github/etcbc/dss/tf/0.9/glypho.tf\">glypho</a><br><a target=\"_blank\" href=\"https://github.com/etcbc/dss/blob/master/docs/transcription.md\" title=\"~/github/etcbc/dss/tf/0.9/gn.tf\">gn</a><br><a target=\"_blank\" href=\"https://github.com/etcbc/dss/blob/master/docs/transcription.md\" title=\"~/github/etcbc/dss/tf/0.9/gn2.tf\">gn2</a><br><a target=\"_blank\" href=\"https://github.com/etcbc/dss/blob/master/docs/transcription.md\" title=\"~/github/etcbc/dss/tf/0.9/gn3.tf\">gn3</a><br><a target=\"_blank\" href=\"https://github.com/etcbc/dss/blob/master/docs/transcription.md\" title=\"~/github/etcbc/dss/tf/0.9/gn_etcbc.tf\">gn_etcbc</a><br><a target=\"_blank\" href=\"https://github.com/etcbc/dss/blob/master/docs/transcription.md\" title=\"~/github/etcbc/dss/tf/0.9/halfverse.tf\">halfverse</a><br><a target=\"_blank\" href=\"https://github.com/etcbc/dss/blob/master/docs/transcription.md\" title=\"~/github/etcbc/dss/tf/0.9/intl.tf\">intl</a><br><a target=\"_blank\" href=\"https://github.com/etcbc/dss/blob/master/docs/transcription.md\" title=\"~/github/etcbc/dss/tf/0.9/lang.tf\">lang</a><br><a target=\"_blank\" href=\"https://github.com/etcbc/dss/blob/master/docs/transcription.md\" title=\"~/github/etcbc/dss/tf/0.9/lex.tf\">lex</a><br><a target=\"_blank\" href=\"https://github.com/etcbc/dss/blob/master/docs/transcription.md\" title=\"~/github/etcbc/dss/tf/0.9/lex_etcbc.tf\">lex_etcbc</a><br><a target=\"_blank\" href=\"https://github.com/etcbc/dss/blob/master/docs/transcription.md\" title=\"~/github/etcbc/dss/tf/0.9/lexe.tf\">lexe</a><br><a target=\"_blank\" href=\"https://github.com/etcbc/dss/blob/master/docs/transcription.md\" title=\"~/github/etcbc/dss/tf/0.9/lexo.tf\">lexo</a><br><a target=\"_blank\" href=\"https://github.com/etcbc/dss/blob/master/docs/transcription.md\" title=\"~/github/etcbc/dss/tf/0.9/line.tf\">line</a><br><a target=\"_blank\" href=\"https://github.com/etcbc/dss/blob/master/docs/transcription.md\" title=\"~/github/etcbc/dss/tf/0.9/md.tf\">md</a><br><a target=\"_blank\" href=\"https://github.com/etcbc/dss/blob/master/docs/transcription.md\" title=\"~/github/etcbc/dss/tf/0.9/merr.tf\">merr</a><br><a target=\"_blank\" href=\"https://github.com/etcbc/dss/blob/master/docs/transcription.md\" title=\"~/github/etcbc/dss/tf/0.9/morpho.tf\">morpho</a><br><a target=\"_blank\" href=\"https://github.com/etcbc/dss/blob/master/docs/transcription.md\" title=\"~/github/etcbc/dss/tf/0.9/nr.tf\">nr</a><br><a target=\"_blank\" href=\"https://github.com/etcbc/dss/blob/master/docs/transcription.md\" title=\"~/github/etcbc/dss/tf/0.9/nu.tf\">nu</a><br><a target=\"_blank\" href=\"https://github.com/etcbc/dss/blob/master/docs/transcription.md\" title=\"~/github/etcbc/dss/tf/0.9/nu2.tf\">nu2</a><br><a target=\"_blank\" href=\"https://github.com/etcbc/dss/blob/master/docs/transcription.md\" title=\"~/github/etcbc/dss/tf/0.9/nu3.tf\">nu3</a><br><a target=\"_blank\" href=\"https://github.com/etcbc/dss/blob/master/docs/transcription.md\" title=\"~/github/etcbc/dss/tf/0.9/nu_etcbc.tf\">nu_etcbc</a><br><a target=\"_blank\" href=\"https://github.com/etcbc/dss/blob/master/docs/transcription.md\" title=\"~/github/etcbc/dss/tf/0.9/otype.tf\">otype</a><br><a target=\"_blank\" href=\"https://github.com/etcbc/dss/blob/master/docs/transcription.md\" title=\"~/github/etcbc/dss/tf/0.9/ps.tf\">ps</a><br><a target=\"_blank\" href=\"https://github.com/etcbc/dss/blob/master/docs/transcription.md\" title=\"~/github/etcbc/dss/tf/0.9/ps2.tf\">ps2</a><br><a target=\"_blank\" href=\"https://github.com/etcbc/dss/blob/master/docs/transcription.md\" title=\"~/github/etcbc/dss/tf/0.9/ps3.tf\">ps3</a><br><a target=\"_blank\" href=\"https://github.com/etcbc/dss/blob/master/docs/transcription.md\" title=\"~/github/etcbc/dss/tf/0.9/ps_etcbc.tf\">ps_etcbc</a><br><a target=\"_blank\" href=\"https://github.com/etcbc/dss/blob/master/docs/transcription.md\" title=\"~/github/etcbc/dss/tf/0.9/punc.tf\">punc</a><br><a target=\"_blank\" href=\"https://github.com/etcbc/dss/blob/master/docs/transcription.md\" title=\"~/github/etcbc/dss/tf/0.9/punce.tf\">punce</a><br><a target=\"_blank\" href=\"https://github.com/etcbc/dss/blob/master/docs/transcription.md\" title=\"~/github/etcbc/dss/tf/0.9/punco.tf\">punco</a><br><a target=\"_blank\" href=\"https://github.com/etcbc/dss/blob/master/docs/transcription.md\" title=\"~/github/etcbc/dss/tf/0.9/rec.tf\">rec</a><br><a target=\"_blank\" href=\"https://github.com/etcbc/dss/blob/master/docs/transcription.md\" title=\"~/github/etcbc/dss/tf/0.9/rem.tf\">rem</a><br><a target=\"_blank\" href=\"https://github.com/etcbc/dss/blob/master/docs/transcription.md\" title=\"~/github/etcbc/dss/tf/0.9/script.tf\">script</a><br><a target=\"_blank\" href=\"https://github.com/etcbc/dss/blob/master/docs/transcription.md\" title=\"~/github/etcbc/dss/tf/0.9/scroll.tf\">scroll</a><br><a target=\"_blank\" href=\"https://github.com/etcbc/dss/blob/master/docs/transcription.md\" title=\"~/github/etcbc/dss/tf/0.9/sp.tf\">sp</a><br><a target=\"_blank\" href=\"https://github.com/etcbc/dss/blob/master/docs/transcription.md\" title=\"~/github/etcbc/dss/tf/0.9/sp_etcbc.tf\">sp_etcbc</a><br><a target=\"_blank\" href=\"https://github.com/etcbc/dss/blob/master/docs/transcription.md\" title=\"~/github/etcbc/dss/tf/0.9/srcLn.tf\">srcLn</a><br><a target=\"_blank\" href=\"https://github.com/etcbc/dss/blob/master/docs/transcription.md\" title=\"~/github/etcbc/dss/tf/0.9/st.tf\">st</a><br><a target=\"_blank\" href=\"https://github.com/etcbc/dss/blob/master/docs/transcription.md\" title=\"~/github/etcbc/dss/tf/0.9/type.tf\">type</a><br><a target=\"_blank\" href=\"https://github.com/etcbc/dss/blob/master/docs/transcription.md\" title=\"~/github/etcbc/dss/tf/0.9/unc.tf\">unc</a><br><a target=\"_blank\" href=\"https://github.com/etcbc/dss/blob/master/docs/transcription.md\" title=\"~/github/etcbc/dss/tf/0.9/vac.tf\">vac</a><br><a target=\"_blank\" href=\"https://github.com/etcbc/dss/blob/master/docs/transcription.md\" title=\"~/github/etcbc/dss/tf/0.9/verse.tf\">verse</a><br><a target=\"_blank\" href=\"https://github.com/etcbc/dss/blob/master/docs/transcription.md\" title=\"~/github/etcbc/dss/tf/0.9/vs.tf\">vs</a><br><a target=\"_blank\" href=\"https://github.com/etcbc/dss/blob/master/docs/transcription.md\" title=\"~/github/etcbc/dss/tf/0.9/vs_etcbc.tf\">vs_etcbc</a><br><a target=\"_blank\" href=\"https://github.com/etcbc/dss/blob/master/docs/transcription.md\" title=\"~/github/etcbc/dss/tf/0.9/vt.tf\">vt</a><br><a target=\"_blank\" href=\"https://github.com/etcbc/dss/blob/master/docs/transcription.md\" title=\"~/github/etcbc/dss/tf/0.9/vt_etcbc.tf\">vt_etcbc</a><br><b><i><a target=\"_blank\" href=\"https://github.com/etcbc/dss/blob/master/docs/transcription.md\" title=\"~/github/etcbc/dss/tf/0.9/occ.tf\">occ</a></i></b><br><b><i><a target=\"_blank\" href=\"https://github.com/etcbc/dss/blob/master/docs/transcription.md\" title=\"~/github/etcbc/dss/tf/0.9/oslots.tf\">oslots</a></i></b><br></details>"
      ],
      "text/plain": [
       "<IPython.core.display.HTML object>"
      ]
     },
     "metadata": {},
     "output_type": "display_data"
    },
    {
     "data": {
      "text/html": [
       "<style>tr.tf.ltr, td.tf.ltr, th.tf.ltr { text-align: left ! important;}\n",
       "tr.tf.rtl, td.tf.rtl, th.tf.rtl { text-align: right ! important;}\n",
       "@font-face {\n",
       "  font-family: \"Gentium Plus\";\n",
       "  src: local('Gentium Plus'), local('GentiumPlus'),\n",
       "    url('/server/static/fonts/GentiumPlus-R.woff') format('woff'),\n",
       "    url('https://github.com/annotation/text-fabric/blob/master/tf/server/static/fonts/GentiumPlus-R.woff?raw=true') format('woff');\n",
       "}\n",
       "\n",
       "@font-face {\n",
       "  font-family: \"Ezra SIL\";\n",
       "  src: local('Ezra SIL'), local('EzraSIL'),\n",
       "    url('/server/static/fonts/SILEOT.woff') format('woff'),\n",
       "    url('https://github.com/annotation/text-fabric/blob/master/tf/server/static/fonts/SILEOT.woff?raw=true') format('woff');\n",
       "}\n",
       "\n",
       "@font-face {\n",
       "  font-family: \"SBL Hebrew\";\n",
       "  src: local('SBL Hebrew'), local('SBLHebrew'),\n",
       "    url('/server/static/fonts/SBL_Hbrw.woff') format('woff'),\n",
       "    url('https://github.com/annotation/text-fabric/blob/master/tf/server/static/fonts/SBL_Hbrw.woff?raw=true') format('woff');\n",
       "}\n",
       "\n",
       "@font-face {\n",
       "  font-family: \"Estrangelo Edessa\";\n",
       "  src: local('Estrangelo Edessa'), local('EstrangeloEdessa');\n",
       "    url('/server/static/fonts/SyrCOMEdessa.woff') format('woff'),\n",
       "    url('https://github.com/annotation/text-fabric/blob/master/tf/server/static/fonts/SyrCOMEdessa.woff?raw=true') format('woff');\n",
       "}\n",
       "\n",
       "@font-face {\n",
       "  font-family: AmiriQuran;\n",
       "  font-style: normal;\n",
       "  font-weight: 400;\n",
       "  src: local('Amiri Quran'), local('AmiriQuran'),\n",
       "    url('/server/static/fonts/AmiriQuran.woff') format('woff'),\n",
       "    url('https://github.com/annotation/text-fabric/blob/master/tf/server/static/fonts/AmiriQuran.woff?raw=true') format('woff');\n",
       "}\n",
       "\n",
       "@font-face {\n",
       "  font-family: AmiriQuranColored;\n",
       "  font-style: normal;\n",
       "  font-weight: 400;\n",
       "  src: local('Amiri Quran Colored'), local('AmiriQuranColored'),\n",
       "    url('/server/static/fonts/AmiriQuranColored.woff') format('woff'),\n",
       "    url('https://github.com/annotation/text-fabric/blob/master/tf/server/static/fonts/AmiriQuranColored.woff?raw=true') format('woff');\n",
       "}\n",
       "\n",
       "@font-face {\n",
       "  font-family: \"Santakku\";\n",
       "  src: local('Santakku'),\n",
       "    url('/server/static/fonts/Santakku.woff') format('woff'),\n",
       "    url('https://github.com/annotation/text-fabric/blob/master/tf/server/static/fonts/Santakku.woff?raw=true') format('woff');\n",
       "}\n",
       "\n",
       "@font-face {\n",
       "  font-family: \"SantakkuM\";\n",
       "  src: local('SantakkuM'),\n",
       "    url('/server/static/fonts/SantakkuM.woff') format('woff'),\n",
       "    url('https://github.com/annotation/text-fabric/blob/master/tf/server/static/fonts/SantakkuM.woff?raw=true') format('woff');\n",
       "}\n",
       "/* bypassing some classical notebook settings */\n",
       "div#notebook {\n",
       "  line-height: unset;\n",
       "}\n",
       "/* neutral text */\n",
       ".txtn,.txtn a:visited,.txtn a:link {\n",
       "    font-family: sans-serif;\n",
       "    font-size: medium;\n",
       "    direction: ltr;\n",
       "    unicode-bidi: embed;\n",
       "    text-decoration: none;\n",
       "    color: var(--text-color);\n",
       "}\n",
       "/* transcription text */\n",
       ".txtt,.txtt a:visited,.txtt a:link {\n",
       "    font-family: monospace;\n",
       "    font-size: medium;\n",
       "    direction: ltr;\n",
       "    unicode-bidi: embed;\n",
       "    text-decoration: none;\n",
       "    color: var(--text-color);\n",
       "}\n",
       "/* source text */\n",
       ".txto,.txto a:visited,.txto a:link {\n",
       "    font-family: serif;\n",
       "    font-size: medium;\n",
       "    direction: ltr;\n",
       "    unicode-bidi: embed;\n",
       "    text-decoration: none;\n",
       "    color: var(--text-color);\n",
       "}\n",
       "/* phonetic text */\n",
       ".txtp,.txtp a:visited,.txtp a:link {\n",
       "    font-family: Gentium, sans-serif;\n",
       "    font-size: medium;\n",
       "    direction: ltr;\n",
       "    unicode-bidi: embed;\n",
       "    text-decoration: none;\n",
       "    color: var(--text-color);\n",
       "}\n",
       "/* original script text */\n",
       ".txtu,.txtu a:visited,.txtu a:link {\n",
       "    font-family: Gentium, sans-serif;\n",
       "    font-size: medium;\n",
       "    text-decoration: none;\n",
       "    color: var(--text-color);\n",
       "}\n",
       "/* hebrew */\n",
       ".txtu.hbo,.lex.hbo {\n",
       "    font-family: \"Ezra SIL\", \"SBL Hebrew\", sans-serif;\n",
       "    font-size: large;\n",
       "    direction: rtl ! important;\n",
       "    unicode-bidi: embed;\n",
       "}\n",
       "/* syriac */\n",
       ".txtu.syc,.lex.syc {\n",
       "    font-family: \"Estrangelo Edessa\", sans-serif;\n",
       "    font-size: medium;\n",
       "    direction: rtl ! important;\n",
       "    unicode-bidi: embed;\n",
       "}\n",
       "/* neo aramaic */\n",
       ".txtu.cld,.lex.cld {\n",
       "    font-family: \"CharisSIL-R\", sans-serif;\n",
       "    font-size: medium;\n",
       "    direction: ltr ! important;\n",
       "    unicode-bidi: embed;\n",
       "}\n",
       "/* standard arabic */\n",
       ".txtu.ara,.lex.ara {\n",
       "    font-family: \"AmiriQuran\", sans-serif;\n",
       "    font-size: large;\n",
       "    direction: rtl ! important;\n",
       "    unicode-bidi: embed;\n",
       "}\n",
       "/* cuneiform */\n",
       ".txtu.akk,.lex.akk {\n",
       "    font-family: Santakku, sans-serif;\n",
       "    font-size: large;\n",
       "    direction: ltr ! important;\n",
       "    unicode-bidi: embed;\n",
       "}\n",
       "/* greek */\n",
       ".txtu.grc,.lex.grc a:link {\n",
       "    font-family: Gentium, sans-serif;\n",
       "    font-size: medium;\n",
       "    direction: ltr ! important;\n",
       "    unicode-bidi: embed;\n",
       "}\n",
       "a:hover {\n",
       "    text-decoration: underline | important;\n",
       "    color: #0000ff | important;\n",
       "}\n",
       ".ltr {\n",
       "    direction: ltr ! important;\n",
       "    unicode-bidi: embed;\n",
       "}\n",
       ".rtl {\n",
       "    direction: rtl ! important;\n",
       "    unicode-bidi: embed;\n",
       "}\n",
       ".ubd {\n",
       "    unicode-bidi: embed;\n",
       "}\n",
       ".col {\n",
       "   display: inline-block;\n",
       "}\n",
       ".features {\n",
       "    font-family: monospace;\n",
       "    font-size: medium;\n",
       "    font-weight: bold;\n",
       "    color: var(--features);\n",
       "    display: flex;\n",
       "    flex-flow: column nowrap;\n",
       "    justify-content: flex-start;\n",
       "    align-items: flex-start;\n",
       "    align-content: flex-start;\n",
       "    padding: 2px;\n",
       "    margin: 2px;\n",
       "    direction: ltr;\n",
       "    unicode-bidi: embed;\n",
       "    border: var(--meta-width) solid var(--meta-color);\n",
       "    border-radius: var(--meta-width);\n",
       "}\n",
       ".features div,.features span {\n",
       "    padding: 0;\n",
       "    margin: -2px 0;\n",
       "}\n",
       ".features .f {\n",
       "    font-family: sans-serif;\n",
       "    font-size: small;\n",
       "    font-weight: normal;\n",
       "    color: #5555bb;\n",
       "}\n",
       ".features .xft {\n",
       "  color: #000000;\n",
       "  background-color: #eeeeee;\n",
       "  font-size: medium;\n",
       "  margin: 2px 0px;\n",
       "}\n",
       ".features .xft .f {\n",
       "  color: #000000;\n",
       "  background-color: #eeeeee;\n",
       "  font-size: small;\n",
       "  font-weight: normal;\n",
       "}\n",
       ".tfsechead {\n",
       "    font-family: sans-serif;\n",
       "    font-size: small;\n",
       "    font-weight: bold;\n",
       "    color: var(--tfsechead);\n",
       "    unicode-bidi: embed;\n",
       "    text-align: start;\n",
       "}\n",
       ".structure {\n",
       "    font-family: sans-serif;\n",
       "    font-size: small;\n",
       "    font-weight: bold;\n",
       "    color: var(--structure);\n",
       "    unicode-bidi: embed;\n",
       "    text-align: start;\n",
       "}\n",
       ".comments {\n",
       "    display: flex;\n",
       "    justify-content: flex-start;\n",
       "    align-items: flex-start;\n",
       "    align-content: flex-start;\n",
       "    flex-flow: column nowrap;\n",
       "}\n",
       ".nd, a:link.nd {\n",
       "    font-family: sans-serif;\n",
       "    font-size: small;\n",
       "    color: var(--node);\n",
       "    vertical-align: super;\n",
       "    direction: ltr ! important;\n",
       "    unicode-bidi: embed;\n",
       "}\n",
       ".lex {\n",
       "  color: var(--lex-color);;\n",
       "}\n",
       ".children,.children.ltr {\n",
       "    display: flex;\n",
       "    border: 0;\n",
       "    background-color: #ffffff;\n",
       "    justify-content: flex-start;\n",
       "    align-items: flex-start;\n",
       "    align-content: flex-start;\n",
       "}\n",
       ".children.stretch {\n",
       "    align-items: stretch;\n",
       "}\n",
       ".children.hor {\n",
       "    flex-flow: row nowrap;\n",
       "}\n",
       ".children.hor.wrap {\n",
       "    flex-flow: row wrap;\n",
       "}\n",
       ".children.ver {\n",
       "    flex-flow: column nowrap;\n",
       "}\n",
       ".children.ver.wrap {\n",
       "    flex-flow: column wrap;\n",
       "}\n",
       ".contnr {\n",
       "    width: fit-content;\n",
       "    display: flex;\n",
       "    justify-content: flex-start;\n",
       "    align-items: flex-start;\n",
       "    align-content: flex-start;\n",
       "    flex-flow: column nowrap;\n",
       "    background: #ffffff none repeat scroll 0 0;\n",
       "    padding:  10px 2px 2px 2px;\n",
       "    margin: 16px 2px 2px 2px;\n",
       "    border-style: solid;\n",
       "    font-size: small;\n",
       "}\n",
       ".contnr.trm {\n",
       "    background-attachment: local;\n",
       "}\n",
       ".contnr.cnul {\n",
       "    padding:  0;\n",
       "    margin: 0;\n",
       "    border-style: solid;\n",
       "    font-size: xx-small;\n",
       "}\n",
       ".contnr.cnul,.lbl.cnul {\n",
       "    border-color: var(--border-color-nul);\n",
       "    border-width: var(--border-width-nul);\n",
       "    border-radius: var(--border-width-nul);\n",
       "}\n",
       ".contnr.c0,.lbl.c0 {\n",
       "    border-color: var(--border-color0);\n",
       "    border-width: var(--border-width0);\n",
       "    border-radius: var(--border-width0);\n",
       "}\n",
       ".contnr.c1,.lbl.c1 {\n",
       "    border-color: var(--border-color1);\n",
       "    border-width: var(--border-width1);\n",
       "    border-radius: var(--border-width1);\n",
       "}\n",
       ".contnr.c2,.lbl.c2 {\n",
       "    border-color: var(--border-color2);\n",
       "    border-width: var(--border-width2);\n",
       "    border-radius: var(--border-width2);\n",
       "}\n",
       ".contnr.c3,.lbl.c3 {\n",
       "    border-color: var(--border-color3);\n",
       "    border-width: var(--border-width3);\n",
       "    border-radius: var(--border-width3);\n",
       "}\n",
       ".contnr.c4,.lbl.c4 {\n",
       "    border-color: var(--border-color4);\n",
       "    border-width: var(--border-width4);\n",
       "    border-radius: var(--border-width4);\n",
       "}\n",
       "span.plain {\n",
       "    display: inline-block;\n",
       "    white-space: pre-wrap;\n",
       "}\n",
       ".plain {\n",
       "    background-color: #ffffff;\n",
       "}\n",
       ".plain.l,.contnr.l,.contnr.l>.lbl {\n",
       "    border-left-style: dotted\n",
       "}\n",
       ".plain.r,.contnr.r,.contnr.r>.lbl {\n",
       "    border-right-style: dotted\n",
       "}\n",
       ".plain.lno,.contnr.lno,.contnr.lno>.lbl {\n",
       "    border-left-style: none\n",
       "}\n",
       ".plain.rno,.contnr.rno,.contnr.rno>.lbl {\n",
       "    border-right-style: none\n",
       "}\n",
       ".plain.l {\n",
       "    padding-left: 4px;\n",
       "    margin-left: 2px;\n",
       "    border-width: var(--border-width-plain);\n",
       "}\n",
       ".plain.r {\n",
       "    padding-right: 4px;\n",
       "    margin-right: 2px;\n",
       "    border-width: var(--border-width-plain);\n",
       "}\n",
       ".lbl {\n",
       "    font-family: monospace;\n",
       "    margin-top: -24px;\n",
       "    margin-left: 20px;\n",
       "    background: #ffffff none repeat scroll 0 0;\n",
       "    padding: 0 6px;\n",
       "    border-style: solid;\n",
       "    display: block;\n",
       "    color: var(--label)\n",
       "}\n",
       ".lbl.trm {\n",
       "    background-attachment: local;\n",
       "    margin-top: 2px;\n",
       "    margin-left: 2px;\n",
       "    padding: 2px 2px;\n",
       "    border-style: none;\n",
       "}\n",
       ".lbl.cnul {\n",
       "    font-size: xx-small;\n",
       "}\n",
       ".lbl.c0 {\n",
       "    font-size: small;\n",
       "}\n",
       ".lbl.c1 {\n",
       "    font-size: small;\n",
       "}\n",
       ".lbl.c2 {\n",
       "    font-size: medium;\n",
       "}\n",
       ".lbl.c3 {\n",
       "    font-size: medium;\n",
       "}\n",
       ".lbl.c4 {\n",
       "    font-size: large;\n",
       "}\n",
       ".occs, a:link.occs {\n",
       "    font-size: small;\n",
       "}\n",
       "\n",
       "/* PROVENANCE */\n",
       "\n",
       "div.prov {\n",
       "\tmargin: 40px;\n",
       "\tpadding: 20px;\n",
       "\tborder: 2px solid var(--fog-rim);\n",
       "}\n",
       "div.pline {\n",
       "\tdisplay: flex;\n",
       "\tflex-flow: row nowrap;\n",
       "\tjustify-content: stretch;\n",
       "\talign-items: baseline;\n",
       "}\n",
       "div.p2line {\n",
       "\tmargin-left: 2em;\n",
       "\tdisplay: flex;\n",
       "\tflex-flow: row nowrap;\n",
       "\tjustify-content: stretch;\n",
       "\talign-items: baseline;\n",
       "}\n",
       "div.psline {\n",
       "\tdisplay: flex;\n",
       "\tflex-flow: row nowrap;\n",
       "\tjustify-content: stretch;\n",
       "\talign-items: baseline;\n",
       "\tbackground-color: var(--gold-mist-back);\n",
       "}\n",
       "div.pname {\n",
       "\tflex: 0 0 5rem;\n",
       "\tfont-weight: bold;\n",
       "}\n",
       "div.pval {\n",
       "    flex: 1 1 auto;\n",
       "}\n",
       "\n",
       ":root {\n",
       "\t--node:               hsla(120, 100%,  20%, 1.0  );\n",
       "\t--label:              hsla(  0, 100%,  20%, 1.0  );\n",
       "\t--tfsechead:          hsla(  0, 100%,  25%, 1.0  );\n",
       "\t--structure:          hsla(120, 100%,  25%, 1.0  );\n",
       "\t--features:           hsla(  0,   0%,  30%, 1.0  );\n",
       "  --text-color:         hsla( 60,  80%,  10%, 1.0  );\n",
       "  --lex-color:          hsla(220,  90%,  60%, 1.0  );\n",
       "  --meta-color:         hsla(  0,   0%,  90%, 0.7  );\n",
       "  --meta-width:         3px;\n",
       "  --border-color-nul:   hsla(  0,   0%,  90%, 0.5  );\n",
       "  --border-color0:      hsla(  0,   0%,  90%, 0.9  );\n",
       "  --border-color1:      hsla(  0,   0%,  80%, 0.9  );\n",
       "  --border-color2:      hsla(  0,   0%,  70%, 0.9  );\n",
       "  --border-color3:      hsla(  0,   0%,  80%, 0.8  );\n",
       "  --border-color4:      hsla(  0,   0%,  60%, 0.9  );\n",
       "  --border-width-nul:   2px;\n",
       "  --border-width0:      2px;\n",
       "  --border-width1:      3px;\n",
       "  --border-width2:      4px;\n",
       "  --border-width3:      6px;\n",
       "  --border-width4:      5px;\n",
       "  --border-width-plain: 2px;\n",
       "}\n",
       ".hl {\n",
       "  background-color: var(--hl-strong);\n",
       "}\n",
       "span.hl {\n",
       "\tbackground-color: var(--hl-strong);\n",
       "\tborder-width: 0;\n",
       "\tborder-radius: 2px;\n",
       "\tborder-style: solid;\n",
       "}\n",
       "div.contnr.hl,div.lbl.hl {\n",
       "  background-color: var(--hl-strong);\n",
       "}\n",
       "div.contnr.hl {\n",
       "  border-color: var(--hl-rim) ! important;\n",
       "\tborder-width: 4px ! important;\n",
       "}\n",
       "\n",
       "span.hlbx {\n",
       "\tborder-color: var(--hl-rim);\n",
       "\tborder-width: 4px ! important;\n",
       "\tborder-style: solid;\n",
       "\tborder-radius: 6px;\n",
       "  padding: 4px;\n",
       "  margin: 4px;\n",
       "}\n",
       "\n",
       "span.plain {\n",
       "  display: inline-block;\n",
       "  white-space: pre-wrap;\n",
       "}\n",
       "\n",
       ":root {\n",
       "\t--hl-strong:        hsla( 60, 100%,  70%, 0.9  );\n",
       "\t--hl-rim:           hsla( 55,  80%,  50%, 1.0  );\n",
       "}\n",
       ".full,.glyph,.punc {\n",
       "    font-family: \"Ezra SIL\", \"SBL Hebrew\", sans-serif;\n",
       "}\n",
       ".scriptpaleohebrew {\n",
       "    border: 1px dashed navy;\n",
       "}\n",
       ".scriptgreekcapital {\n",
       "    border: 1px dashed brown;\n",
       "}\n",
       ".langa {\n",
       "    text-decoration: underline;\n",
       "}\n",
       ".intl1 {\n",
       "    vertical-align: -0.25em;\n",
       "}\n",
       ".intl2 {\n",
       "    vertical-align: -0.5em;\n",
       "}\n",
       ".langg {\n",
       "    font-family: serif;\n",
       "    text-decoration: underline;\n",
       "}\n",
       ".vac1 {\n",
       "    background-color: #aaaaaa;\n",
       "    border 2pt solid #dd3333;\n",
       "    border-radius: 4pt;\n",
       "}\n",
       ".rem1 {\n",
       "    font-weight: bold;\n",
       "    color: red;\n",
       "    text-decoration: line-through;\n",
       "}\n",
       ".rem2 {\n",
       "    font-weight: bold;\n",
       "    color: maroon;\n",
       "    text-decoration: line-through;\n",
       "}\n",
       ".rec1 {\n",
       "    color: teal;\n",
       "    font-size: 80%;\n",
       "}\n",
       ".cor1 {\n",
       "    font-weight: bold;\n",
       "    color: dodgerblue;\n",
       "    text-decoration: overline;\n",
       "}\n",
       ".cor2 {\n",
       "    font-weight: bold;\n",
       "    color: navy;\n",
       "    text-decoration: overline;\n",
       "}\n",
       ".cor3 {\n",
       "    font-weight: bold;\n",
       "    color: navy;\n",
       "    text-decoration: overline;\n",
       "    vertical-align: super;\n",
       "}\n",
       ".alt1 {\n",
       "    text-decoration: overline;\n",
       "}\n",
       "\n",
       "/* UNSURE: italic*/\n",
       "\n",
       ".unc1 {\n",
       "    font-weight: bold;\n",
       "    color: #888888;\n",
       "}\n",
       ".unc2 {\n",
       "    font-weight: bold;\n",
       "    color: #bbbbbb;\n",
       "}\n",
       ".unc3 {\n",
       "    font-weight: bold;\n",
       "    color: #bbbbbb;\n",
       "    text-shadow: #cccccc 1px 1px;\n",
       "}\n",
       ".unc4 {\n",
       "    font-weight: bold;\n",
       "    color: #dddddd;\n",
       "    text-shadow: #eeeeee 2px 2px;\n",
       "}\n",
       "\n",
       ".empty {\n",
       "  color: #ff0000;\n",
       "}\n",
       "\n",
       "</style>"
      ],
      "text/plain": [
       "<IPython.core.display.HTML object>"
      ]
     },
     "metadata": {},
     "output_type": "display_data"
    },
    {
     "data": {
      "text/html": [
       "<div><b>Text-Fabric API:</b> names <a target=\"_blank\" href=\"https://annotation.github.io/text-fabric/tf/cheatsheet.html\" title=\"doc\">N F E L T S C TF</a> directly usable</div><hr>"
      ],
      "text/plain": [
       "<IPython.core.display.HTML object>"
      ]
     },
     "metadata": {},
     "output_type": "display_data"
    }
   ],
   "source": [
    "# A = use('dss', hoist=globals())\n",
    "# A = use('dss:hot', checkout='hot', hoist=globals())\n",
    "A = use(\"dss:clone\", checkout=\"clone\", hoist=globals())"
   ]
  },
  {
   "cell_type": "markdown",
   "metadata": {},
   "source": [
    "We pick an example fragment with which we illustrate many ways to represent the DSS material."
   ]
  },
  {
   "cell_type": "code",
   "execution_count": 5,
   "metadata": {},
   "outputs": [],
   "source": [
    "examplefragment = (\"1Q1\", \"f1\")\n",
    "f = T.nodeFromSection(examplefragment)\n",
    "lines = L.d(f, otype=\"line\")\n",
    "words = L.d(f, otype=\"word\")\n",
    "signs = L.d(f, otype=\"sign\")"
   ]
  },
  {
   "cell_type": "markdown",
   "metadata": {},
   "source": [
    "# Text formats\n",
    "\n",
    "The TF API supports *text formats*. Text formats make selections and apply templates and styles based\n",
    "on the analysed features of the text. For example: a text-format may ignore flags or clusters, or\n",
    "format numerals in special ways.\n",
    "\n",
    "Text formats are not baked into TF, but they are defined in the feature `otext` of the corpus.\n",
    "\n",
    "Moreover, for this corpus a TF app has been build that defines additional text-formats.\n",
    "\n",
    "Whereas the formats defined in `otext` are strictly plain text formats, the formats\n",
    "defined in the app are able to use typographic styles to shape the text, such as bold, italic, colors, etc.\n",
    "\n",
    "Here is the list of all formats."
   ]
  },
  {
   "cell_type": "code",
   "execution_count": 6,
   "metadata": {},
   "outputs": [
    {
     "data": {
      "text/plain": [
       "{'lex-default': 'word',\n",
       " 'lex-orig-full': 'word',\n",
       " 'lex-source-full': 'word',\n",
       " 'lex-trans-full': 'word',\n",
       " 'morph-source-full': 'word',\n",
       " 'text-orig-extra': 'word',\n",
       " 'text-orig-full': 'sign',\n",
       " 'text-source-extra': 'word',\n",
       " 'text-source-full': 'sign',\n",
       " 'text-trans-extra': 'word',\n",
       " 'text-trans-full': 'sign',\n",
       " 'layout-orig-full': 'sign',\n",
       " 'layout-source-full': 'sign',\n",
       " 'layout-trans-full': 'sign'}"
      ]
     },
     "execution_count": 6,
     "metadata": {},
     "output_type": "execute_result"
    }
   ],
   "source": [
    "T.formats"
   ]
  },
  {
   "cell_type": "markdown",
   "metadata": {},
   "source": [
    "## Plain text formats\n",
    "\n",
    "The formats whose names start with `text-` are the plain text formats.\n",
    "\n",
    "### `text-orig-full`\n",
    "\n",
    "This is the plain Hebrew text of the transcriptions, without text-critical signs and brackets.\n",
    "\n",
    "This is the default format. We do not have to specify it."
   ]
  },
  {
   "cell_type": "code",
   "execution_count": 7,
   "metadata": {},
   "outputs": [
    {
     "data": {
      "text/html": [
       "<div class=\"rtl\"><span class=\"tfsechead rtl\"><span class=\"ltr\"><a target=\"_blank\" href=\"https://www.deadseascrolls.org.il/explore-the-archive/search#q='1Q1'\" title=\"Show this scroll in the Leon Levy library\" sec=\"1Q1 f1:1\">1Q1 f1:1</a></span></span>  <span class=\"txtu hbo\">ו</span><span class=\"txtu hbo\">י</span><span class=\"txtu hbo\">ר</span><span class=\"txtu hbo\">א </span><span class=\"txtu hbo\">א</span><span class=\"txtu hbo\">ל</span><span class=\"txtu hbo\">ה</span><span class=\"txtu hbo\">י</span><span class=\"txtu hbo\">ם </span><span class=\"txtu hbo\">כ</span><span class=\"txtu hbo\">י </span><span class=\"txtu hbo\">ט</span><span class=\"txtu hbo\">ו</span><span class=\"txtu hbo\">ב </span><span class=\"txtu hbo\">׃ </span><span class=\"txtu hbo\">ו</span><span class=\"txtu hbo\">י</span><span class=\"txtu hbo\">ה</span><span class=\"txtu hbo\">י </span><span class=\"txtu hbo\">ע</span><span class=\"txtu hbo\">ר</span><span class=\"txtu hbo\">ב </span><span class=\"txtu hbo\">ו</span><span class=\"txtu hbo\">י</span><span class=\"txtu hbo\">ה</span><span class=\"txtu hbo\">י </span><span class=\"txtu hbo\">ב</span><span class=\"txtu hbo\">ק</span><span class=\"txtu hbo\">ר </span><span class=\"txtu hbo\">י</span><span class=\"txtu hbo\">ו</span><span class=\"txtu hbo\">ם </span><span class=\"txtu hbo\">ר</span><span class=\"txtu hbo\">ב</span><span class=\"txtu hbo\">י</span><span class=\"txtu hbo\">ע</span><span class=\"txtu hbo\">י </span><span class=\"txtu hbo\">׃ </span><span class=\"txtu hbo\">ו</span><span class=\"txtu hbo\">י</span><span class=\"txtu hbo\">א</span><span class=\"txtu hbo\">מ</span><span class=\"txtu hbo\">ר </span></div>"
      ],
      "text/plain": [
       "<IPython.core.display.HTML object>"
      ]
     },
     "metadata": {},
     "output_type": "display_data"
    },
    {
     "data": {
      "text/html": [
       "<div class=\"rtl\"><span class=\"tfsechead rtl\"><span class=\"ltr\"><a target=\"_blank\" href=\"https://www.deadseascrolls.org.il/explore-the-archive/search#q='1Q1'\" title=\"Show this scroll in the Leon Levy library\" sec=\"1Q1 f1:2\">1Q1 f1:2</a></span></span>  <span class=\"txtu hbo\">א</span><span class=\"txtu hbo\">ל</span><span class=\"txtu hbo\">ה</span><span class=\"txtu hbo\">י</span><span class=\"txtu hbo\">ם </span><span class=\"txtu hbo\">י</span><span class=\"txtu hbo\">ש</span><span class=\"txtu hbo\">ר</span><span class=\"txtu hbo\">ו</span><span class=\"txtu hbo\">צ</span><span class=\"txtu hbo\">ו </span><span class=\"txtu hbo\">ה</span><span class=\"txtu hbo\">מ</span><span class=\"txtu hbo\">י</span><span class=\"txtu hbo\">ם </span><span class=\"txtu hbo\">ש</span><span class=\"txtu hbo\">ר</span><span class=\"txtu hbo\">ץ </span><span class=\"txtu hbo\">נ</span><span class=\"txtu hbo\">פ</span><span class=\"txtu hbo\">ש </span><span class=\"txtu hbo\">ח</span><span class=\"txtu hbo\">י</span><span class=\"txtu hbo\">ה </span><span class=\"txtu hbo\">ו</span><span class=\"txtu hbo\">ע</span><span class=\"txtu hbo\">ו</span><span class=\"txtu hbo\">ף </span><span class=\"txtu hbo\">י</span><span class=\"txtu hbo\">ע</span><span class=\"txtu hbo\">ו</span><span class=\"txtu hbo\">פ</span><span class=\"txtu hbo\">ף </span><span class=\"txtu hbo\">ע</span><span class=\"txtu hbo\">ל </span><span class=\"txtu hbo\">ה</span><span class=\"txtu hbo\">א</span><span class=\"txtu hbo\">ר</span><span class=\"txtu hbo\">ץ </span><span class=\"txtu hbo\">ע</span><span class=\"txtu hbo\">ל </span><span class=\"txtu hbo\">פ</span><span class=\"txtu hbo\">נ</span><span class=\"txtu hbo\">י </span><span class=\"txtu hbo\">ר</span><span class=\"txtu hbo\">ק</span><span class=\"txtu hbo\">י</span><span class=\"txtu hbo\">ע </span><span class=\"txtu hbo\">ה</span><span class=\"txtu hbo\">ש</span><span class=\"txtu hbo\">מ</span><span class=\"txtu hbo\">י</span><span class=\"txtu hbo\">ם </span><span class=\"txtu hbo\">׃ </span></div>"
      ],
      "text/plain": [
       "<IPython.core.display.HTML object>"
      ]
     },
     "metadata": {},
     "output_type": "display_data"
    },
    {
     "data": {
      "text/html": [
       "<div class=\"rtl\"><span class=\"tfsechead rtl\"><span class=\"ltr\"><a target=\"_blank\" href=\"https://www.deadseascrolls.org.il/explore-the-archive/search#q='1Q1'\" title=\"Show this scroll in the Leon Levy library\" sec=\"1Q1 f1:3\">1Q1 f1:3</a></span></span>  <span class=\"txtu hbo\">ו</span><span class=\"txtu hbo\">י</span><span class=\"txtu hbo\">ב</span><span class=\"txtu hbo\">ר</span><span class=\"txtu hbo\">א </span><span class=\"txtu hbo\">א</span><span class=\"txtu hbo\">ל</span><span class=\"txtu hbo\">ה</span><span class=\"txtu hbo\">י</span><span class=\"txtu hbo\">ם </span><span class=\"txtu hbo\">א</span><span class=\"txtu hbo\">ת </span><span class=\"txtu hbo\">ה</span><span class=\"txtu hbo\">ת</span><span class=\"txtu hbo\">נ</span><span class=\"txtu hbo\">י</span><span class=\"txtu hbo\">נ</span><span class=\"txtu hbo\">ם </span><span class=\"txtu hbo\">ה</span><span class=\"txtu hbo\">ג</span><span class=\"txtu hbo\">ד</span><span class=\"txtu hbo\">ל</span><span class=\"txtu hbo\">י</span><span class=\"txtu hbo\">ם </span><span class=\"txtu hbo\">ו</span><span class=\"txtu hbo\">א</span><span class=\"txtu hbo\">ת </span><span class=\"txtu hbo\">כ</span><span class=\"txtu hbo\">ל </span><span class=\"txtu hbo\">נ</span><span class=\"txtu hbo\">פ</span><span class=\"txtu hbo\">ש </span><span class=\"txtu hbo\">ה</span><span class=\"txtu hbo\">ח</span><span class=\"txtu hbo\">י</span><span class=\"txtu hbo\">ה </span><span class=\"txtu hbo\">ה</span><span class=\"txtu hbo\">ר</span><span class=\"txtu hbo\">מ</span><span class=\"txtu hbo\">ש</span><span class=\"txtu hbo\">ת </span><span class=\"txtu hbo\">א</span><span class=\"txtu hbo\">ש</span><span class=\"txtu hbo\">ר </span><span class=\"txtu hbo\">ש</span><span class=\"txtu hbo\">ר</span><span class=\"txtu hbo\">צ</span><span class=\"txtu hbo\">ו </span><span class=\"txtu hbo\">ה</span><span class=\"txtu hbo\">מ</span><span class=\"txtu hbo\">י</span><span class=\"txtu hbo\">ם </span><span class=\"txtu hbo\">׃ </span></div>"
      ],
      "text/plain": [
       "<IPython.core.display.HTML object>"
      ]
     },
     "metadata": {},
     "output_type": "display_data"
    }
   ],
   "source": [
    "for ln in lines:\n",
    "    A.plain(ln)"
   ]
  },
  {
   "cell_type": "markdown",
   "metadata": {},
   "source": [
    "The `plain()` function focuses on the *contents*, and instead of the line number, it gives a full specification\n",
    "of the location,\n",
    "linked to the [Leon Levy digital library](https://www.deadseascrolls.org.il/home).\n",
    "\n",
    "But we can omit the locations:"
   ]
  },
  {
   "cell_type": "code",
   "execution_count": 8,
   "metadata": {},
   "outputs": [
    {
     "data": {
      "text/html": [
       "<div class=\"rtl\"><span class=\"txtu hbo\">ו</span><span class=\"txtu hbo\">י</span><span class=\"txtu hbo\">ר</span><span class=\"txtu hbo\">א </span><span class=\"txtu hbo\">א</span><span class=\"txtu hbo\">ל</span><span class=\"txtu hbo\">ה</span><span class=\"txtu hbo\">י</span><span class=\"txtu hbo\">ם </span><span class=\"txtu hbo\">כ</span><span class=\"txtu hbo\">י </span><span class=\"txtu hbo\">ט</span><span class=\"txtu hbo\">ו</span><span class=\"txtu hbo\">ב </span><span class=\"txtu hbo\">׃ </span><span class=\"txtu hbo\">ו</span><span class=\"txtu hbo\">י</span><span class=\"txtu hbo\">ה</span><span class=\"txtu hbo\">י </span><span class=\"txtu hbo\">ע</span><span class=\"txtu hbo\">ר</span><span class=\"txtu hbo\">ב </span><span class=\"txtu hbo\">ו</span><span class=\"txtu hbo\">י</span><span class=\"txtu hbo\">ה</span><span class=\"txtu hbo\">י </span><span class=\"txtu hbo\">ב</span><span class=\"txtu hbo\">ק</span><span class=\"txtu hbo\">ר </span><span class=\"txtu hbo\">י</span><span class=\"txtu hbo\">ו</span><span class=\"txtu hbo\">ם </span><span class=\"txtu hbo\">ר</span><span class=\"txtu hbo\">ב</span><span class=\"txtu hbo\">י</span><span class=\"txtu hbo\">ע</span><span class=\"txtu hbo\">י </span><span class=\"txtu hbo\">׃ </span><span class=\"txtu hbo\">ו</span><span class=\"txtu hbo\">י</span><span class=\"txtu hbo\">א</span><span class=\"txtu hbo\">מ</span><span class=\"txtu hbo\">ר </span></div>"
      ],
      "text/plain": [
       "<IPython.core.display.HTML object>"
      ]
     },
     "metadata": {},
     "output_type": "display_data"
    },
    {
     "data": {
      "text/html": [
       "<div class=\"rtl\"><span class=\"txtu hbo\">א</span><span class=\"txtu hbo\">ל</span><span class=\"txtu hbo\">ה</span><span class=\"txtu hbo\">י</span><span class=\"txtu hbo\">ם </span><span class=\"txtu hbo\">י</span><span class=\"txtu hbo\">ש</span><span class=\"txtu hbo\">ר</span><span class=\"txtu hbo\">ו</span><span class=\"txtu hbo\">צ</span><span class=\"txtu hbo\">ו </span><span class=\"txtu hbo\">ה</span><span class=\"txtu hbo\">מ</span><span class=\"txtu hbo\">י</span><span class=\"txtu hbo\">ם </span><span class=\"txtu hbo\">ש</span><span class=\"txtu hbo\">ר</span><span class=\"txtu hbo\">ץ </span><span class=\"txtu hbo\">נ</span><span class=\"txtu hbo\">פ</span><span class=\"txtu hbo\">ש </span><span class=\"txtu hbo\">ח</span><span class=\"txtu hbo\">י</span><span class=\"txtu hbo\">ה </span><span class=\"txtu hbo\">ו</span><span class=\"txtu hbo\">ע</span><span class=\"txtu hbo\">ו</span><span class=\"txtu hbo\">ף </span><span class=\"txtu hbo\">י</span><span class=\"txtu hbo\">ע</span><span class=\"txtu hbo\">ו</span><span class=\"txtu hbo\">פ</span><span class=\"txtu hbo\">ף </span><span class=\"txtu hbo\">ע</span><span class=\"txtu hbo\">ל </span><span class=\"txtu hbo\">ה</span><span class=\"txtu hbo\">א</span><span class=\"txtu hbo\">ר</span><span class=\"txtu hbo\">ץ </span><span class=\"txtu hbo\">ע</span><span class=\"txtu hbo\">ל </span><span class=\"txtu hbo\">פ</span><span class=\"txtu hbo\">נ</span><span class=\"txtu hbo\">י </span><span class=\"txtu hbo\">ר</span><span class=\"txtu hbo\">ק</span><span class=\"txtu hbo\">י</span><span class=\"txtu hbo\">ע </span><span class=\"txtu hbo\">ה</span><span class=\"txtu hbo\">ש</span><span class=\"txtu hbo\">מ</span><span class=\"txtu hbo\">י</span><span class=\"txtu hbo\">ם </span><span class=\"txtu hbo\">׃ </span></div>"
      ],
      "text/plain": [
       "<IPython.core.display.HTML object>"
      ]
     },
     "metadata": {},
     "output_type": "display_data"
    },
    {
     "data": {
      "text/html": [
       "<div class=\"rtl\"><span class=\"txtu hbo\">ו</span><span class=\"txtu hbo\">י</span><span class=\"txtu hbo\">ב</span><span class=\"txtu hbo\">ר</span><span class=\"txtu hbo\">א </span><span class=\"txtu hbo\">א</span><span class=\"txtu hbo\">ל</span><span class=\"txtu hbo\">ה</span><span class=\"txtu hbo\">י</span><span class=\"txtu hbo\">ם </span><span class=\"txtu hbo\">א</span><span class=\"txtu hbo\">ת </span><span class=\"txtu hbo\">ה</span><span class=\"txtu hbo\">ת</span><span class=\"txtu hbo\">נ</span><span class=\"txtu hbo\">י</span><span class=\"txtu hbo\">נ</span><span class=\"txtu hbo\">ם </span><span class=\"txtu hbo\">ה</span><span class=\"txtu hbo\">ג</span><span class=\"txtu hbo\">ד</span><span class=\"txtu hbo\">ל</span><span class=\"txtu hbo\">י</span><span class=\"txtu hbo\">ם </span><span class=\"txtu hbo\">ו</span><span class=\"txtu hbo\">א</span><span class=\"txtu hbo\">ת </span><span class=\"txtu hbo\">כ</span><span class=\"txtu hbo\">ל </span><span class=\"txtu hbo\">נ</span><span class=\"txtu hbo\">פ</span><span class=\"txtu hbo\">ש </span><span class=\"txtu hbo\">ה</span><span class=\"txtu hbo\">ח</span><span class=\"txtu hbo\">י</span><span class=\"txtu hbo\">ה </span><span class=\"txtu hbo\">ה</span><span class=\"txtu hbo\">ר</span><span class=\"txtu hbo\">מ</span><span class=\"txtu hbo\">ש</span><span class=\"txtu hbo\">ת </span><span class=\"txtu hbo\">א</span><span class=\"txtu hbo\">ש</span><span class=\"txtu hbo\">ר </span><span class=\"txtu hbo\">ש</span><span class=\"txtu hbo\">ר</span><span class=\"txtu hbo\">צ</span><span class=\"txtu hbo\">ו </span><span class=\"txtu hbo\">ה</span><span class=\"txtu hbo\">מ</span><span class=\"txtu hbo\">י</span><span class=\"txtu hbo\">ם </span><span class=\"txtu hbo\">׃ </span></div>"
      ],
      "text/plain": [
       "<IPython.core.display.HTML object>"
      ]
     },
     "metadata": {},
     "output_type": "display_data"
    }
   ],
   "source": [
    "for ln in lines:\n",
    "    A.plain(ln, withPassage=False)"
   ]
  },
  {
   "cell_type": "markdown",
   "metadata": {},
   "source": [
    "Now the lines themselves are linked to the Leon Levy library."
   ]
  },
  {
   "cell_type": "markdown",
   "metadata": {},
   "source": [
    "### `text-source-extra`\n",
    "\n",
    "This format is really close to the Abegg transcription. It contains all original information."
   ]
  },
  {
   "cell_type": "code",
   "execution_count": 9,
   "metadata": {},
   "outputs": [
    {
     "data": {
      "text/html": [
       "<div class=\"ltr\"><span class=\"tfsechead ltr\"><span class=\"ltr\"><a target=\"_blank\" href=\"https://www.deadseascrolls.org.il/explore-the-archive/search#q='1Q1'\" title=\"Show this scroll in the Leon Levy library\" sec=\"1Q1 f1:1\">1Q1 f1:1</a></span></span>  <span class=\"txto\">]w</span><span class=\"txto\">yra </span><span class=\"txto\">al[hyM </span><span class=\"txto\">al[hyM </span><span class=\"txto\">ky </span><span class=\"txto\">]fwb </span><span class=\"txto\">. </span><span class=\"txto\">w</span><span class=\"txto\">yhy </span><span class=\"txto\">orb </span><span class=\"txto\">w</span><span class=\"txto\">yhy </span><span class=\"txto\">bqr </span><span class=\"txto\">ywM </span><span class=\"txto\">rbyoy </span><span class=\"txto\">. </span><span class=\"txto\">w</span><span class=\"txto\">yamr[ </span></div>"
      ],
      "text/plain": [
       "<IPython.core.display.HTML object>"
      ]
     },
     "metadata": {},
     "output_type": "display_data"
    },
    {
     "data": {
      "text/html": [
       "<div class=\"ltr\"><span class=\"tfsechead ltr\"><span class=\"ltr\"><a target=\"_blank\" href=\"https://www.deadseascrolls.org.il/explore-the-archive/search#q='1Q1'\" title=\"Show this scroll in the Leon Levy library\" sec=\"1Q1 f1:2\">1Q1 f1:2</a></span></span>  <span class=\"txto\">]alhyM </span><span class=\"txto\">yC[rwxw </span><span class=\"txto\">yC[rwxw </span><span class=\"txto\">h</span><span class=\"txto\">myM </span><span class=\"txto\">Cr«]X </span><span class=\"txto\">Cr«]X </span><span class=\"txto\">npC </span><span class=\"txto\">jyh </span><span class=\"txto\">w</span><span class=\"txto\">owP </span><span class=\"txto\">yowpP </span><span class=\"txto\">ol </span><span class=\"txto\">h</span><span class=\"txto\">arX </span><span class=\"txto\">ol </span><span class=\"txto\">pny </span><span class=\"txto\">rqyo </span><span class=\"txto\">h</span><span class=\"txto\">CmyM </span><span class=\"txto\">. </span></div>"
      ],
      "text/plain": [
       "<IPython.core.display.HTML object>"
      ]
     },
     "metadata": {},
     "output_type": "display_data"
    },
    {
     "data": {
      "text/html": [
       "<div class=\"ltr\"><span class=\"tfsechead ltr\"><span class=\"ltr\"><a target=\"_blank\" href=\"https://www.deadseascrolls.org.il/explore-the-archive/search#q='1Q1'\" title=\"Show this scroll in the Leon Levy library\" sec=\"1Q1 f1:3\">1Q1 f1:3</a></span></span>  <span class=\"txto\">]w</span><span class=\"txto\">ybra </span><span class=\"txto\">a[l]hyM </span><span class=\"txto\">a[l]hyM </span><span class=\"txto\">a[l]hyM </span><span class=\"txto\">at </span><span class=\"txto\">h</span><span class=\"txto\">tnynM </span><span class=\"txto\">h</span><span class=\"txto\">gdlyM </span><span class=\"txto\">w</span><span class=\"txto\">at </span><span class=\"txto\">kl </span><span class=\"txto\">npC </span><span class=\"txto\">h</span><span class=\"txto\">jyh </span><span class=\"txto\">h</span><span class=\"txto\">rmCt </span><span class=\"txto\">aCr </span><span class=\"txto\">Crxw </span><span class=\"txto\">h</span><span class=\"txto\">myM[ </span><span class=\"txto\">. </span></div>"
      ],
      "text/plain": [
       "<IPython.core.display.HTML object>"
      ]
     },
     "metadata": {},
     "output_type": "display_data"
    }
   ],
   "source": [
    "for ln in lines:\n",
    "    A.plain(ln, fmt=\"text-source-extra\")"
   ]
  },
  {
   "cell_type": "markdown",
   "metadata": {},
   "source": [
    "### `text-trans-extra`\n",
    "\n",
    "This format gives the ETCBC transcription:"
   ]
  },
  {
   "cell_type": "code",
   "execution_count": 10,
   "metadata": {},
   "outputs": [
    {
     "data": {
      "text/html": [
       "<div class=\"ltr\"><span class=\"tfsechead ltr\"><span class=\"ltr\"><a target=\"_blank\" href=\"https://www.deadseascrolls.org.il/explore-the-archive/search#q='1Q1'\" title=\"Show this scroll in the Leon Levy library\" sec=\"1Q1 f1:1\">1Q1 f1:1</a></span></span>  <span class=\"txtt\">[ W</span><span class=\"txtt\">JR> </span><span class=\"txtt\">>L ]HJm </span><span class=\"txtt\">>L ]HJm </span><span class=\"txtt\">KJ </span><span class=\"txtt\">[ VWB </span><span class=\"txtt\">00 </span><span class=\"txtt\">W</span><span class=\"txtt\">JHJ </span><span class=\"txtt\">&lt;RB </span><span class=\"txtt\">W</span><span class=\"txtt\">JHJ </span><span class=\"txtt\">BQR </span><span class=\"txtt\">JWm </span><span class=\"txtt\">RBJ&lt;J </span><span class=\"txtt\">00 </span><span class=\"txtt\">W</span><span class=\"txtt\">J>MR ] </span></div>"
      ],
      "text/plain": [
       "<IPython.core.display.HTML object>"
      ]
     },
     "metadata": {},
     "output_type": "display_data"
    },
    {
     "data": {
      "text/html": [
       "<div class=\"ltr\"><span class=\"tfsechead ltr\"><span class=\"ltr\"><a target=\"_blank\" href=\"https://www.deadseascrolls.org.il/explore-the-archive/search#q='1Q1'\" title=\"Show this scroll in the Leon Levy library\" sec=\"1Q1 f1:2\">1Q1 f1:2</a></span></span>  <span class=\"txtt\">[ >LHJm </span><span class=\"txtt\">J# ]RWYW </span><span class=\"txtt\">J# ]RWYW </span><span class=\"txtt\">H</span><span class=\"txtt\">MJm </span><span class=\"txtt\">#R#[ y </span><span class=\"txtt\">#R#[ y </span><span class=\"txtt\">NP# </span><span class=\"txtt\">XJH </span><span class=\"txtt\">W</span><span class=\"txtt\">&lt;Wp </span><span class=\"txtt\">J&lt;WPp </span><span class=\"txtt\">&lt;L </span><span class=\"txtt\">H</span><span class=\"txtt\">>Ry </span><span class=\"txtt\">&lt;L </span><span class=\"txtt\">PNJ </span><span class=\"txtt\">RQJ&lt; </span><span class=\"txtt\">H</span><span class=\"txtt\">#MJm </span><span class=\"txtt\">00 </span></div>"
      ],
      "text/plain": [
       "<IPython.core.display.HTML object>"
      ]
     },
     "metadata": {},
     "output_type": "display_data"
    },
    {
     "data": {
      "text/html": [
       "<div class=\"ltr\"><span class=\"tfsechead ltr\"><span class=\"ltr\"><a target=\"_blank\" href=\"https://www.deadseascrolls.org.il/explore-the-archive/search#q='1Q1'\" title=\"Show this scroll in the Leon Levy library\" sec=\"1Q1 f1:3\">1Q1 f1:3</a></span></span>  <span class=\"txtt\">[ W</span><span class=\"txtt\">JBR> </span><span class=\"txtt\">> ]L[ HJm </span><span class=\"txtt\">> ]L[ HJm </span><span class=\"txtt\">> ]L[ HJm </span><span class=\"txtt\">>T </span><span class=\"txtt\">H</span><span class=\"txtt\">TNJNm </span><span class=\"txtt\">H</span><span class=\"txtt\">GDLJm </span><span class=\"txtt\">W</span><span class=\"txtt\">>T </span><span class=\"txtt\">KL </span><span class=\"txtt\">NP# </span><span class=\"txtt\">H</span><span class=\"txtt\">XJH </span><span class=\"txtt\">H</span><span class=\"txtt\">RM#T </span><span class=\"txtt\">>#R </span><span class=\"txtt\">#RYW </span><span class=\"txtt\">H</span><span class=\"txtt\">MJm ] </span><span class=\"txtt\">00 </span></div>"
      ],
      "text/plain": [
       "<IPython.core.display.HTML object>"
      ]
     },
     "metadata": {},
     "output_type": "display_data"
    }
   ],
   "source": [
    "for ln in lines:\n",
    "    A.plain(ln, fmt=\"text-trans-extra\")"
   ]
  },
  {
   "cell_type": "markdown",
   "metadata": {},
   "source": [
    "## Styled text formats\n",
    "\n",
    "The formats whose names start with `layout-` are the styled text formats.\n",
    "\n",
    "### `layout-orig-full`\n",
    "\n",
    "This format looks like `text-orig-full`, but now we re-introduce the flags and clusters by specific\n",
    "layout devices."
   ]
  },
  {
   "cell_type": "code",
   "execution_count": 11,
   "metadata": {},
   "outputs": [
    {
     "data": {
      "text/html": [
       "<div class=\"rtl\"><span class=\"tfsechead rtl\"><span class=\"ltr\"><a target=\"_blank\" href=\"https://www.deadseascrolls.org.il/explore-the-archive/search#q='1Q1'\" title=\"Show this scroll in the Leon Levy library\" sec=\"1Q1 f1:1\">1Q1 f1:1</a></span></span>  <span class=\"txtu hbo\"><span class=\"rec1\">ו</span></span><span class=\"txtu hbo\"><span class=\"rec1\">י</span></span><span class=\"txtu hbo\"><span class=\"rec1\">ר</span></span><span class=\"txtu hbo\"><span class=\"rec1\">א</span> </span><span class=\"txtu hbo\"><span class=\"rec1\">א</span></span><span class=\"txtu hbo\"><span class=\"rec1\">ל</span></span><span class=\"txtu hbo\">ה</span><span class=\"txtu hbo\">י</span><span class=\"txtu hbo\">ם </span><span class=\"txtu hbo\">כ</span><span class=\"txtu hbo\">י </span><span class=\"txtu hbo\"><span class=\"rec1\">ט</span></span><span class=\"txtu hbo\"><span class=\"rec1\">ו</span></span><span class=\"txtu hbo\"><span class=\"rec1\">ב</span> </span><span class=\"txtu hbo\"><span class=\"rec1 empty\"> </span></span><span class=\"txtu hbo\"><span class=\"rec1\">׃</span> </span><span class=\"txtu hbo\"><span class=\"rec1\">ו</span></span><span class=\"txtu hbo\"><span class=\"rec1\">י</span></span><span class=\"txtu hbo\"><span class=\"rec1\">ה</span></span><span class=\"txtu hbo\"><span class=\"rec1\">י</span> </span><span class=\"txtu hbo\"><span class=\"rec1\">ע</span></span><span class=\"txtu hbo\"><span class=\"rec1\">ר</span></span><span class=\"txtu hbo\"><span class=\"rec1\">ב</span> </span><span class=\"txtu hbo\"><span class=\"rec1\">ו</span></span><span class=\"txtu hbo\"><span class=\"rec1\">י</span></span><span class=\"txtu hbo\"><span class=\"rec1\">ה</span></span><span class=\"txtu hbo\"><span class=\"rec1\">י</span> </span><span class=\"txtu hbo\"><span class=\"rec1\">ב</span></span><span class=\"txtu hbo\"><span class=\"rec1\">ק</span></span><span class=\"txtu hbo\"><span class=\"rec1\">ר</span> </span><span class=\"txtu hbo\"><span class=\"rec1\">י</span></span><span class=\"txtu hbo\"><span class=\"rec1\">ו</span></span><span class=\"txtu hbo\"><span class=\"rec1\">ם</span> </span><span class=\"txtu hbo\"><span class=\"rec1\">ר</span></span><span class=\"txtu hbo\"><span class=\"rec1\">ב</span></span><span class=\"txtu hbo\"><span class=\"rec1\">י</span></span><span class=\"txtu hbo\"><span class=\"rec1\">ע</span></span><span class=\"txtu hbo\"><span class=\"rec1\">י</span> </span><span class=\"txtu hbo\"><span class=\"rec1 empty\"> </span></span><span class=\"txtu hbo\"><span class=\"rec1\">׃</span> </span><span class=\"txtu hbo\"><span class=\"rec1\">ו</span></span><span class=\"txtu hbo\"><span class=\"rec1\">י</span></span><span class=\"txtu hbo\"><span class=\"rec1\">א</span></span><span class=\"txtu hbo\"><span class=\"rec1\">מ</span></span><span class=\"txtu hbo\"><span class=\"rec1\">ר</span> </span></div>"
      ],
      "text/plain": [
       "<IPython.core.display.HTML object>"
      ]
     },
     "metadata": {},
     "output_type": "display_data"
    },
    {
     "data": {
      "text/html": [
       "<div class=\"rtl\"><span class=\"tfsechead rtl\"><span class=\"ltr\"><a target=\"_blank\" href=\"https://www.deadseascrolls.org.il/explore-the-archive/search#q='1Q1'\" title=\"Show this scroll in the Leon Levy library\" sec=\"1Q1 f1:2\">1Q1 f1:2</a></span></span>  <span class=\"txtu hbo\"><span class=\"rec1\">א</span></span><span class=\"txtu hbo\"><span class=\"rec1\">ל</span></span><span class=\"txtu hbo\"><span class=\"rec1\">ה</span></span><span class=\"txtu hbo\"><span class=\"rec1\">י</span></span><span class=\"txtu hbo\"><span class=\"rec1\">ם</span> </span><span class=\"txtu hbo\"><span class=\"rec1\">י</span></span><span class=\"txtu hbo\"><span class=\"rec1\">ש</span></span><span class=\"txtu hbo\">ר</span><span class=\"txtu hbo\">ו</span><span class=\"txtu hbo\">צ</span><span class=\"txtu hbo\">ו </span><span class=\"txtu hbo\">ה</span><span class=\"txtu hbo\">מ</span><span class=\"txtu hbo\">י</span><span class=\"txtu hbo\">ם </span><span class=\"txtu hbo\">ש</span><span class=\"txtu hbo\"><span class=\"unc2\">ר</span></span><span class=\"txtu hbo\"><span class=\"rec1\">ץ</span> </span><span class=\"txtu hbo\"><span class=\"rec1\">נ</span></span><span class=\"txtu hbo\"><span class=\"rec1\">פ</span></span><span class=\"txtu hbo\"><span class=\"rec1\">ש</span> </span><span class=\"txtu hbo\"><span class=\"rec1\">ח</span></span><span class=\"txtu hbo\"><span class=\"rec1\">י</span></span><span class=\"txtu hbo\"><span class=\"rec1\">ה</span> </span><span class=\"txtu hbo\"><span class=\"rec1\">ו</span></span><span class=\"txtu hbo\"><span class=\"rec1\">ע</span></span><span class=\"txtu hbo\"><span class=\"rec1\">ו</span></span><span class=\"txtu hbo\"><span class=\"rec1\">ף</span> </span><span class=\"txtu hbo\"><span class=\"rec1\">י</span></span><span class=\"txtu hbo\"><span class=\"rec1\">ע</span></span><span class=\"txtu hbo\"><span class=\"rec1\">ו</span></span><span class=\"txtu hbo\"><span class=\"rec1\">פ</span></span><span class=\"txtu hbo\"><span class=\"rec1\">ף</span> </span><span class=\"txtu hbo\"><span class=\"rec1\">ע</span></span><span class=\"txtu hbo\"><span class=\"rec1\">ל</span> </span><span class=\"txtu hbo\"><span class=\"rec1\">ה</span></span><span class=\"txtu hbo\"><span class=\"rec1\">א</span></span><span class=\"txtu hbo\"><span class=\"rec1\">ר</span></span><span class=\"txtu hbo\"><span class=\"rec1\">ץ</span> </span><span class=\"txtu hbo\"><span class=\"rec1\">ע</span></span><span class=\"txtu hbo\"><span class=\"rec1\">ל</span> </span><span class=\"txtu hbo\"><span class=\"rec1\">פ</span></span><span class=\"txtu hbo\"><span class=\"rec1\">נ</span></span><span class=\"txtu hbo\"><span class=\"rec1\">י</span> </span><span class=\"txtu hbo\"><span class=\"rec1\">ר</span></span><span class=\"txtu hbo\"><span class=\"rec1\">ק</span></span><span class=\"txtu hbo\"><span class=\"rec1\">י</span></span><span class=\"txtu hbo\"><span class=\"rec1\">ע</span> </span><span class=\"txtu hbo\"><span class=\"rec1\">ה</span></span><span class=\"txtu hbo\"><span class=\"rec1\">ש</span></span><span class=\"txtu hbo\"><span class=\"rec1\">מ</span></span><span class=\"txtu hbo\"><span class=\"rec1\">י</span></span><span class=\"txtu hbo\"><span class=\"rec1\">ם</span> </span><span class=\"txtu hbo\"><span class=\"rec1 empty\"> </span></span><span class=\"txtu hbo\"><span class=\"rec1\">׃</span> </span></div>"
      ],
      "text/plain": [
       "<IPython.core.display.HTML object>"
      ]
     },
     "metadata": {},
     "output_type": "display_data"
    },
    {
     "data": {
      "text/html": [
       "<div class=\"rtl\"><span class=\"tfsechead rtl\"><span class=\"ltr\"><a target=\"_blank\" href=\"https://www.deadseascrolls.org.il/explore-the-archive/search#q='1Q1'\" title=\"Show this scroll in the Leon Levy library\" sec=\"1Q1 f1:3\">1Q1 f1:3</a></span></span>  <span class=\"txtu hbo\"><span class=\"rec1\">ו</span></span><span class=\"txtu hbo\"><span class=\"rec1\">י</span></span><span class=\"txtu hbo\"><span class=\"rec1\">ב</span></span><span class=\"txtu hbo\"><span class=\"rec1\">ר</span></span><span class=\"txtu hbo\"><span class=\"rec1\">א</span> </span><span class=\"txtu hbo\"><span class=\"rec1\">א</span></span><span class=\"txtu hbo\">ל</span><span class=\"txtu hbo\"><span class=\"rec1\">ה</span></span><span class=\"txtu hbo\"><span class=\"rec1\">י</span></span><span class=\"txtu hbo\"><span class=\"rec1\">ם</span> </span><span class=\"txtu hbo\"><span class=\"rec1\">א</span></span><span class=\"txtu hbo\"><span class=\"rec1\">ת</span> </span><span class=\"txtu hbo\"><span class=\"rec1\">ה</span></span><span class=\"txtu hbo\"><span class=\"rec1\">ת</span></span><span class=\"txtu hbo\"><span class=\"rec1\">נ</span></span><span class=\"txtu hbo\"><span class=\"rec1\">י</span></span><span class=\"txtu hbo\"><span class=\"rec1\">נ</span></span><span class=\"txtu hbo\"><span class=\"rec1\">ם</span> </span><span class=\"txtu hbo\"><span class=\"rec1\">ה</span></span><span class=\"txtu hbo\"><span class=\"rec1\">ג</span></span><span class=\"txtu hbo\"><span class=\"rec1\">ד</span></span><span class=\"txtu hbo\"><span class=\"rec1\">ל</span></span><span class=\"txtu hbo\"><span class=\"rec1\">י</span></span><span class=\"txtu hbo\"><span class=\"rec1\">ם</span> </span><span class=\"txtu hbo\"><span class=\"rec1\">ו</span></span><span class=\"txtu hbo\"><span class=\"rec1\">א</span></span><span class=\"txtu hbo\"><span class=\"rec1\">ת</span> </span><span class=\"txtu hbo\"><span class=\"rec1\">כ</span></span><span class=\"txtu hbo\"><span class=\"rec1\">ל</span> </span><span class=\"txtu hbo\"><span class=\"rec1\">נ</span></span><span class=\"txtu hbo\"><span class=\"rec1\">פ</span></span><span class=\"txtu hbo\"><span class=\"rec1\">ש</span> </span><span class=\"txtu hbo\"><span class=\"rec1\">ה</span></span><span class=\"txtu hbo\"><span class=\"rec1\">ח</span></span><span class=\"txtu hbo\"><span class=\"rec1\">י</span></span><span class=\"txtu hbo\"><span class=\"rec1\">ה</span> </span><span class=\"txtu hbo\"><span class=\"rec1\">ה</span></span><span class=\"txtu hbo\"><span class=\"rec1\">ר</span></span><span class=\"txtu hbo\"><span class=\"rec1\">מ</span></span><span class=\"txtu hbo\"><span class=\"rec1\">ש</span></span><span class=\"txtu hbo\"><span class=\"rec1\">ת</span> </span><span class=\"txtu hbo\"><span class=\"rec1\">א</span></span><span class=\"txtu hbo\"><span class=\"rec1\">ש</span></span><span class=\"txtu hbo\"><span class=\"rec1\">ר</span> </span><span class=\"txtu hbo\"><span class=\"rec1\">ש</span></span><span class=\"txtu hbo\"><span class=\"rec1\">ר</span></span><span class=\"txtu hbo\"><span class=\"rec1\">צ</span></span><span class=\"txtu hbo\"><span class=\"rec1\">ו</span> </span><span class=\"txtu hbo\"><span class=\"rec1\">ה</span></span><span class=\"txtu hbo\"><span class=\"rec1\">מ</span></span><span class=\"txtu hbo\"><span class=\"rec1\">י</span></span><span class=\"txtu hbo\"><span class=\"rec1\">ם</span> </span><span class=\"txtu hbo\"> </span><span class=\"txtu hbo\">׃ </span></div>"
      ],
      "text/plain": [
       "<IPython.core.display.HTML object>"
      ]
     },
     "metadata": {},
     "output_type": "display_data"
    }
   ],
   "source": [
    "for ln in lines:\n",
    "    A.plain(ln, fmt=\"layout-orig-full\")"
   ]
  },
  {
   "cell_type": "markdown",
   "metadata": {},
   "source": [
    "The teal font color indicates that the material is a *reconstruction*.\n",
    "In the source, it is between `[ ]` brackets.\n",
    "\n",
    "See below for a detailed list of examples."
   ]
  },
  {
   "cell_type": "markdown",
   "metadata": {},
   "source": [
    "### `layout-trans-full`\n",
    "\n",
    "The same layout, but now using ETCBC transcriptions."
   ]
  },
  {
   "cell_type": "code",
   "execution_count": 12,
   "metadata": {},
   "outputs": [
    {
     "data": {
      "text/html": [
       "<div class=\"ltr\"><span class=\"tfsechead ltr\"><span class=\"ltr\"><a target=\"_blank\" href=\"https://www.deadseascrolls.org.il/explore-the-archive/search#q='1Q1'\" title=\"Show this scroll in the Leon Levy library\" sec=\"1Q1 f1:1\">1Q1 f1:1</a></span></span>  <span class=\"txtt\"><span class=\"rec1\">W</span></span><span class=\"txtt\"><span class=\"rec1\">J</span></span><span class=\"txtt\"><span class=\"rec1\">R</span></span><span class=\"txtt\"><span class=\"rec1\">></span> </span><span class=\"txtt\"><span class=\"rec1\">></span></span><span class=\"txtt\"><span class=\"rec1\">L</span></span><span class=\"txtt\">H</span><span class=\"txtt\">J</span><span class=\"txtt\">m </span><span class=\"txtt\">K</span><span class=\"txtt\">J </span><span class=\"txtt\"><span class=\"rec1\">V</span></span><span class=\"txtt\"><span class=\"rec1\">W</span></span><span class=\"txtt\"><span class=\"rec1\">B</span> </span><span class=\"txtt\"><span class=\"rec1 empty\"> </span></span><span class=\"txtt\"><span class=\"rec1\">00</span> </span><span class=\"txtt\"><span class=\"rec1\">W</span></span><span class=\"txtt\"><span class=\"rec1\">J</span></span><span class=\"txtt\"><span class=\"rec1\">H</span></span><span class=\"txtt\"><span class=\"rec1\">J</span> </span><span class=\"txtt\"><span class=\"rec1\"><</span></span><span class=\"txtt\"><span class=\"rec1\">R</span></span><span class=\"txtt\"><span class=\"rec1\">B</span> </span><span class=\"txtt\"><span class=\"rec1\">W</span></span><span class=\"txtt\"><span class=\"rec1\">J</span></span><span class=\"txtt\"><span class=\"rec1\">H</span></span><span class=\"txtt\"><span class=\"rec1\">J</span> </span><span class=\"txtt\"><span class=\"rec1\">B</span></span><span class=\"txtt\"><span class=\"rec1\">Q</span></span><span class=\"txtt\"><span class=\"rec1\">R</span> </span><span class=\"txtt\"><span class=\"rec1\">J</span></span><span class=\"txtt\"><span class=\"rec1\">W</span></span><span class=\"txtt\"><span class=\"rec1\">m</span> </span><span class=\"txtt\"><span class=\"rec1\">R</span></span><span class=\"txtt\"><span class=\"rec1\">B</span></span><span class=\"txtt\"><span class=\"rec1\">J</span></span><span class=\"txtt\"><span class=\"rec1\"><</span></span><span class=\"txtt\"><span class=\"rec1\">J</span> </span><span class=\"txtt\"><span class=\"rec1 empty\"> </span></span><span class=\"txtt\"><span class=\"rec1\">00</span> </span><span class=\"txtt\"><span class=\"rec1\">W</span></span><span class=\"txtt\"><span class=\"rec1\">J</span></span><span class=\"txtt\"><span class=\"rec1\">></span></span><span class=\"txtt\"><span class=\"rec1\">M</span></span><span class=\"txtt\"><span class=\"rec1\">R</span> </span></div>"
      ],
      "text/plain": [
       "<IPython.core.display.HTML object>"
      ]
     },
     "metadata": {},
     "output_type": "display_data"
    },
    {
     "data": {
      "text/html": [
       "<div class=\"ltr\"><span class=\"tfsechead ltr\"><span class=\"ltr\"><a target=\"_blank\" href=\"https://www.deadseascrolls.org.il/explore-the-archive/search#q='1Q1'\" title=\"Show this scroll in the Leon Levy library\" sec=\"1Q1 f1:2\">1Q1 f1:2</a></span></span>  <span class=\"txtt\"><span class=\"rec1\">></span></span><span class=\"txtt\"><span class=\"rec1\">L</span></span><span class=\"txtt\"><span class=\"rec1\">H</span></span><span class=\"txtt\"><span class=\"rec1\">J</span></span><span class=\"txtt\"><span class=\"rec1\">m</span> </span><span class=\"txtt\"><span class=\"rec1\">J</span></span><span class=\"txtt\"><span class=\"rec1\">#</span></span><span class=\"txtt\">R</span><span class=\"txtt\">W</span><span class=\"txtt\">Y</span><span class=\"txtt\">W </span><span class=\"txtt\">H</span><span class=\"txtt\">M</span><span class=\"txtt\">J</span><span class=\"txtt\">m </span><span class=\"txtt\">#</span><span class=\"txtt\"><span class=\"unc2\">R</span></span><span class=\"txtt\"><span class=\"rec1\">y</span> </span><span class=\"txtt\"><span class=\"rec1\">N</span></span><span class=\"txtt\"><span class=\"rec1\">P</span></span><span class=\"txtt\"><span class=\"rec1\">#</span> </span><span class=\"txtt\"><span class=\"rec1\">X</span></span><span class=\"txtt\"><span class=\"rec1\">J</span></span><span class=\"txtt\"><span class=\"rec1\">H</span> </span><span class=\"txtt\"><span class=\"rec1\">W</span></span><span class=\"txtt\"><span class=\"rec1\"><</span></span><span class=\"txtt\"><span class=\"rec1\">W</span></span><span class=\"txtt\"><span class=\"rec1\">p</span> </span><span class=\"txtt\"><span class=\"rec1\">J</span></span><span class=\"txtt\"><span class=\"rec1\"><</span></span><span class=\"txtt\"><span class=\"rec1\">W</span></span><span class=\"txtt\"><span class=\"rec1\">P</span></span><span class=\"txtt\"><span class=\"rec1\">p</span> </span><span class=\"txtt\"><span class=\"rec1\"><</span></span><span class=\"txtt\"><span class=\"rec1\">L</span> </span><span class=\"txtt\"><span class=\"rec1\">H</span></span><span class=\"txtt\"><span class=\"rec1\">></span></span><span class=\"txtt\"><span class=\"rec1\">R</span></span><span class=\"txtt\"><span class=\"rec1\">y</span> </span><span class=\"txtt\"><span class=\"rec1\"><</span></span><span class=\"txtt\"><span class=\"rec1\">L</span> </span><span class=\"txtt\"><span class=\"rec1\">P</span></span><span class=\"txtt\"><span class=\"rec1\">N</span></span><span class=\"txtt\"><span class=\"rec1\">J</span> </span><span class=\"txtt\"><span class=\"rec1\">R</span></span><span class=\"txtt\"><span class=\"rec1\">Q</span></span><span class=\"txtt\"><span class=\"rec1\">J</span></span><span class=\"txtt\"><span class=\"rec1\"><</span> </span><span class=\"txtt\"><span class=\"rec1\">H</span></span><span class=\"txtt\"><span class=\"rec1\">#</span></span><span class=\"txtt\"><span class=\"rec1\">M</span></span><span class=\"txtt\"><span class=\"rec1\">J</span></span><span class=\"txtt\"><span class=\"rec1\">m</span> </span><span class=\"txtt\"><span class=\"rec1 empty\"> </span></span><span class=\"txtt\"><span class=\"rec1\">00</span> </span></div>"
      ],
      "text/plain": [
       "<IPython.core.display.HTML object>"
      ]
     },
     "metadata": {},
     "output_type": "display_data"
    },
    {
     "data": {
      "text/html": [
       "<div class=\"ltr\"><span class=\"tfsechead ltr\"><span class=\"ltr\"><a target=\"_blank\" href=\"https://www.deadseascrolls.org.il/explore-the-archive/search#q='1Q1'\" title=\"Show this scroll in the Leon Levy library\" sec=\"1Q1 f1:3\">1Q1 f1:3</a></span></span>  <span class=\"txtt\"><span class=\"rec1\">W</span></span><span class=\"txtt\"><span class=\"rec1\">J</span></span><span class=\"txtt\"><span class=\"rec1\">B</span></span><span class=\"txtt\"><span class=\"rec1\">R</span></span><span class=\"txtt\"><span class=\"rec1\">></span> </span><span class=\"txtt\"><span class=\"rec1\">></span></span><span class=\"txtt\">L</span><span class=\"txtt\"><span class=\"rec1\">H</span></span><span class=\"txtt\"><span class=\"rec1\">J</span></span><span class=\"txtt\"><span class=\"rec1\">m</span> </span><span class=\"txtt\"><span class=\"rec1\">></span></span><span class=\"txtt\"><span class=\"rec1\">T</span> </span><span class=\"txtt\"><span class=\"rec1\">H</span></span><span class=\"txtt\"><span class=\"rec1\">T</span></span><span class=\"txtt\"><span class=\"rec1\">N</span></span><span class=\"txtt\"><span class=\"rec1\">J</span></span><span class=\"txtt\"><span class=\"rec1\">N</span></span><span class=\"txtt\"><span class=\"rec1\">m</span> </span><span class=\"txtt\"><span class=\"rec1\">H</span></span><span class=\"txtt\"><span class=\"rec1\">G</span></span><span class=\"txtt\"><span class=\"rec1\">D</span></span><span class=\"txtt\"><span class=\"rec1\">L</span></span><span class=\"txtt\"><span class=\"rec1\">J</span></span><span class=\"txtt\"><span class=\"rec1\">m</span> </span><span class=\"txtt\"><span class=\"rec1\">W</span></span><span class=\"txtt\"><span class=\"rec1\">></span></span><span class=\"txtt\"><span class=\"rec1\">T</span> </span><span class=\"txtt\"><span class=\"rec1\">K</span></span><span class=\"txtt\"><span class=\"rec1\">L</span> </span><span class=\"txtt\"><span class=\"rec1\">N</span></span><span class=\"txtt\"><span class=\"rec1\">P</span></span><span class=\"txtt\"><span class=\"rec1\">#</span> </span><span class=\"txtt\"><span class=\"rec1\">H</span></span><span class=\"txtt\"><span class=\"rec1\">X</span></span><span class=\"txtt\"><span class=\"rec1\">J</span></span><span class=\"txtt\"><span class=\"rec1\">H</span> </span><span class=\"txtt\"><span class=\"rec1\">H</span></span><span class=\"txtt\"><span class=\"rec1\">R</span></span><span class=\"txtt\"><span class=\"rec1\">M</span></span><span class=\"txtt\"><span class=\"rec1\">#</span></span><span class=\"txtt\"><span class=\"rec1\">T</span> </span><span class=\"txtt\"><span class=\"rec1\">></span></span><span class=\"txtt\"><span class=\"rec1\">#</span></span><span class=\"txtt\"><span class=\"rec1\">R</span> </span><span class=\"txtt\"><span class=\"rec1\">#</span></span><span class=\"txtt\"><span class=\"rec1\">R</span></span><span class=\"txtt\"><span class=\"rec1\">Y</span></span><span class=\"txtt\"><span class=\"rec1\">W</span> </span><span class=\"txtt\"><span class=\"rec1\">H</span></span><span class=\"txtt\"><span class=\"rec1\">M</span></span><span class=\"txtt\"><span class=\"rec1\">J</span></span><span class=\"txtt\"><span class=\"rec1\">m</span> </span><span class=\"txtt\"> </span><span class=\"txtt\">00 </span></div>"
      ],
      "text/plain": [
       "<IPython.core.display.HTML object>"
      ]
     },
     "metadata": {},
     "output_type": "display_data"
    }
   ],
   "source": [
    "for ln in lines:\n",
    "    A.plain(ln, fmt=\"layout-trans-full\")"
   ]
  },
  {
   "cell_type": "markdown",
   "metadata": {},
   "source": [
    "### `layout-source-full`\n",
    "\n",
    "The same layout, but now using Abegg's transcriptions."
   ]
  },
  {
   "cell_type": "code",
   "execution_count": 13,
   "metadata": {},
   "outputs": [
    {
     "data": {
      "text/html": [
       "<div class=\"ltr\"><span class=\"tfsechead ltr\"><span class=\"ltr\"><a target=\"_blank\" href=\"https://www.deadseascrolls.org.il/explore-the-archive/search#q='1Q1'\" title=\"Show this scroll in the Leon Levy library\" sec=\"1Q1 f1:1\">1Q1 f1:1</a></span></span>  <span class=\"txto\"><span class=\"rec1\">w</span></span><span class=\"txto\"><span class=\"rec1\">y</span></span><span class=\"txto\"><span class=\"rec1\">r</span></span><span class=\"txto\"><span class=\"rec1\">a</span> </span><span class=\"txto\"><span class=\"rec1\">a</span></span><span class=\"txto\"><span class=\"rec1\">l</span></span><span class=\"txto\">h</span><span class=\"txto\">y</span><span class=\"txto\">M </span><span class=\"txto\">k</span><span class=\"txto\">y </span><span class=\"txto\"><span class=\"rec1\">f</span></span><span class=\"txto\"><span class=\"rec1\">w</span></span><span class=\"txto\"><span class=\"rec1\">b</span> </span><span class=\"txto\"><span class=\"rec1 empty\"> </span></span><span class=\"txto\"><span class=\"rec1\">.</span> </span><span class=\"txto\"><span class=\"rec1\">w</span></span><span class=\"txto\"><span class=\"rec1\">y</span></span><span class=\"txto\"><span class=\"rec1\">h</span></span><span class=\"txto\"><span class=\"rec1\">y</span> </span><span class=\"txto\"><span class=\"rec1\">o</span></span><span class=\"txto\"><span class=\"rec1\">r</span></span><span class=\"txto\"><span class=\"rec1\">b</span> </span><span class=\"txto\"><span class=\"rec1\">w</span></span><span class=\"txto\"><span class=\"rec1\">y</span></span><span class=\"txto\"><span class=\"rec1\">h</span></span><span class=\"txto\"><span class=\"rec1\">y</span> </span><span class=\"txto\"><span class=\"rec1\">b</span></span><span class=\"txto\"><span class=\"rec1\">q</span></span><span class=\"txto\"><span class=\"rec1\">r</span> </span><span class=\"txto\"><span class=\"rec1\">y</span></span><span class=\"txto\"><span class=\"rec1\">w</span></span><span class=\"txto\"><span class=\"rec1\">M</span> </span><span class=\"txto\"><span class=\"rec1\">r</span></span><span class=\"txto\"><span class=\"rec1\">b</span></span><span class=\"txto\"><span class=\"rec1\">y</span></span><span class=\"txto\"><span class=\"rec1\">o</span></span><span class=\"txto\"><span class=\"rec1\">y</span> </span><span class=\"txto\"><span class=\"rec1 empty\"> </span></span><span class=\"txto\"><span class=\"rec1\">.</span> </span><span class=\"txto\"><span class=\"rec1\">w</span></span><span class=\"txto\"><span class=\"rec1\">y</span></span><span class=\"txto\"><span class=\"rec1\">a</span></span><span class=\"txto\"><span class=\"rec1\">m</span></span><span class=\"txto\"><span class=\"rec1\">r</span> </span></div>"
      ],
      "text/plain": [
       "<IPython.core.display.HTML object>"
      ]
     },
     "metadata": {},
     "output_type": "display_data"
    },
    {
     "data": {
      "text/html": [
       "<div class=\"ltr\"><span class=\"tfsechead ltr\"><span class=\"ltr\"><a target=\"_blank\" href=\"https://www.deadseascrolls.org.il/explore-the-archive/search#q='1Q1'\" title=\"Show this scroll in the Leon Levy library\" sec=\"1Q1 f1:2\">1Q1 f1:2</a></span></span>  <span class=\"txto\"><span class=\"rec1\">a</span></span><span class=\"txto\"><span class=\"rec1\">l</span></span><span class=\"txto\"><span class=\"rec1\">h</span></span><span class=\"txto\"><span class=\"rec1\">y</span></span><span class=\"txto\"><span class=\"rec1\">M</span> </span><span class=\"txto\"><span class=\"rec1\">y</span></span><span class=\"txto\"><span class=\"rec1\">C</span></span><span class=\"txto\">r</span><span class=\"txto\">w</span><span class=\"txto\">x</span><span class=\"txto\">w </span><span class=\"txto\">h</span><span class=\"txto\">m</span><span class=\"txto\">y</span><span class=\"txto\">M </span><span class=\"txto\">C</span><span class=\"txto\"><span class=\"unc2\">r</span></span><span class=\"txto\"><span class=\"rec1\">X</span> </span><span class=\"txto\"><span class=\"rec1\">n</span></span><span class=\"txto\"><span class=\"rec1\">p</span></span><span class=\"txto\"><span class=\"rec1\">C</span> </span><span class=\"txto\"><span class=\"rec1\">j</span></span><span class=\"txto\"><span class=\"rec1\">y</span></span><span class=\"txto\"><span class=\"rec1\">h</span> </span><span class=\"txto\"><span class=\"rec1\">w</span></span><span class=\"txto\"><span class=\"rec1\">o</span></span><span class=\"txto\"><span class=\"rec1\">w</span></span><span class=\"txto\"><span class=\"rec1\">P</span> </span><span class=\"txto\"><span class=\"rec1\">y</span></span><span class=\"txto\"><span class=\"rec1\">o</span></span><span class=\"txto\"><span class=\"rec1\">w</span></span><span class=\"txto\"><span class=\"rec1\">p</span></span><span class=\"txto\"><span class=\"rec1\">P</span> </span><span class=\"txto\"><span class=\"rec1\">o</span></span><span class=\"txto\"><span class=\"rec1\">l</span> </span><span class=\"txto\"><span class=\"rec1\">h</span></span><span class=\"txto\"><span class=\"rec1\">a</span></span><span class=\"txto\"><span class=\"rec1\">r</span></span><span class=\"txto\"><span class=\"rec1\">X</span> </span><span class=\"txto\"><span class=\"rec1\">o</span></span><span class=\"txto\"><span class=\"rec1\">l</span> </span><span class=\"txto\"><span class=\"rec1\">p</span></span><span class=\"txto\"><span class=\"rec1\">n</span></span><span class=\"txto\"><span class=\"rec1\">y</span> </span><span class=\"txto\"><span class=\"rec1\">r</span></span><span class=\"txto\"><span class=\"rec1\">q</span></span><span class=\"txto\"><span class=\"rec1\">y</span></span><span class=\"txto\"><span class=\"rec1\">o</span> </span><span class=\"txto\"><span class=\"rec1\">h</span></span><span class=\"txto\"><span class=\"rec1\">C</span></span><span class=\"txto\"><span class=\"rec1\">m</span></span><span class=\"txto\"><span class=\"rec1\">y</span></span><span class=\"txto\"><span class=\"rec1\">M</span> </span><span class=\"txto\"><span class=\"rec1 empty\"> </span></span><span class=\"txto\"><span class=\"rec1\">.</span> </span></div>"
      ],
      "text/plain": [
       "<IPython.core.display.HTML object>"
      ]
     },
     "metadata": {},
     "output_type": "display_data"
    },
    {
     "data": {
      "text/html": [
       "<div class=\"ltr\"><span class=\"tfsechead ltr\"><span class=\"ltr\"><a target=\"_blank\" href=\"https://www.deadseascrolls.org.il/explore-the-archive/search#q='1Q1'\" title=\"Show this scroll in the Leon Levy library\" sec=\"1Q1 f1:3\">1Q1 f1:3</a></span></span>  <span class=\"txto\"><span class=\"rec1\">w</span></span><span class=\"txto\"><span class=\"rec1\">y</span></span><span class=\"txto\"><span class=\"rec1\">b</span></span><span class=\"txto\"><span class=\"rec1\">r</span></span><span class=\"txto\"><span class=\"rec1\">a</span> </span><span class=\"txto\"><span class=\"rec1\">a</span></span><span class=\"txto\">l</span><span class=\"txto\"><span class=\"rec1\">h</span></span><span class=\"txto\"><span class=\"rec1\">y</span></span><span class=\"txto\"><span class=\"rec1\">M</span> </span><span class=\"txto\"><span class=\"rec1\">a</span></span><span class=\"txto\"><span class=\"rec1\">t</span> </span><span class=\"txto\"><span class=\"rec1\">h</span></span><span class=\"txto\"><span class=\"rec1\">t</span></span><span class=\"txto\"><span class=\"rec1\">n</span></span><span class=\"txto\"><span class=\"rec1\">y</span></span><span class=\"txto\"><span class=\"rec1\">n</span></span><span class=\"txto\"><span class=\"rec1\">M</span> </span><span class=\"txto\"><span class=\"rec1\">h</span></span><span class=\"txto\"><span class=\"rec1\">g</span></span><span class=\"txto\"><span class=\"rec1\">d</span></span><span class=\"txto\"><span class=\"rec1\">l</span></span><span class=\"txto\"><span class=\"rec1\">y</span></span><span class=\"txto\"><span class=\"rec1\">M</span> </span><span class=\"txto\"><span class=\"rec1\">w</span></span><span class=\"txto\"><span class=\"rec1\">a</span></span><span class=\"txto\"><span class=\"rec1\">t</span> </span><span class=\"txto\"><span class=\"rec1\">k</span></span><span class=\"txto\"><span class=\"rec1\">l</span> </span><span class=\"txto\"><span class=\"rec1\">n</span></span><span class=\"txto\"><span class=\"rec1\">p</span></span><span class=\"txto\"><span class=\"rec1\">C</span> </span><span class=\"txto\"><span class=\"rec1\">h</span></span><span class=\"txto\"><span class=\"rec1\">j</span></span><span class=\"txto\"><span class=\"rec1\">y</span></span><span class=\"txto\"><span class=\"rec1\">h</span> </span><span class=\"txto\"><span class=\"rec1\">h</span></span><span class=\"txto\"><span class=\"rec1\">r</span></span><span class=\"txto\"><span class=\"rec1\">m</span></span><span class=\"txto\"><span class=\"rec1\">C</span></span><span class=\"txto\"><span class=\"rec1\">t</span> </span><span class=\"txto\"><span class=\"rec1\">a</span></span><span class=\"txto\"><span class=\"rec1\">C</span></span><span class=\"txto\"><span class=\"rec1\">r</span> </span><span class=\"txto\"><span class=\"rec1\">C</span></span><span class=\"txto\"><span class=\"rec1\">r</span></span><span class=\"txto\"><span class=\"rec1\">x</span></span><span class=\"txto\"><span class=\"rec1\">w</span> </span><span class=\"txto\"><span class=\"rec1\">h</span></span><span class=\"txto\"><span class=\"rec1\">m</span></span><span class=\"txto\"><span class=\"rec1\">y</span></span><span class=\"txto\"><span class=\"rec1\">M</span> </span><span class=\"txto\"> </span><span class=\"txto\">. </span></div>"
      ],
      "text/plain": [
       "<IPython.core.display.HTML object>"
      ]
     },
     "metadata": {},
     "output_type": "display_data"
    }
   ],
   "source": [
    "for ln in lines:\n",
    "    A.plain(ln, fmt=\"layout-source-full\")"
   ]
  },
  {
   "cell_type": "markdown",
   "metadata": {},
   "source": [
    "Or, if you want to see all the marks:"
   ]
  },
  {
   "cell_type": "markdown",
   "metadata": {},
   "source": [
    "# Pretty\n",
    "\n",
    "The ultimate of graphical display is by means of the `pretty()` function.\n",
    "\n",
    "This display is less useful for reading, but instead optimized for showing all information that you might\n",
    "wish for.\n",
    "\n",
    "It shows a base representation according to a text format of your choice\n",
    "(here we choose `layout-orig-full`)."
   ]
  },
  {
   "cell_type": "code",
   "execution_count": 14,
   "metadata": {},
   "outputs": [
    {
     "data": {
      "text/html": [
       "<div class=\"tfsechead rtl\"><span class=\"ltr\"><a target=\"_blank\" href=\"https://www.deadseascrolls.org.il/explore-the-archive/search#q='CD'\" title=\"Show this scroll in the Leon Levy library\" sec=\"CD 1:8\">CD 1:8</a></span></div><div class=\"rtl children\"><div class=\"contnr c1 trm rtl  \" ><div class=\"lbl c1 trm \" ><span class=\"nd\">word</span> <a target=\"_blank\" href=\"https://www.deadseascrolls.org.il/explore-the-archive\" title=\"Show this scroll in the Leon Levy library\"><span class=\"txtu hbo\"><span class=\"plain rtl  \" ><span class=\"txtu hbo\">ו</span></span></span></a></div><div class='features'><span class=\"fulle xft\" ><span class=\"f\">fulle=</span>W</span></div></div></div>"
      ],
      "text/plain": [
       "<IPython.core.display.HTML object>"
      ]
     },
     "metadata": {},
     "output_type": "display_data"
    }
   ],
   "source": [
    "A.pretty(F.otype.s(\"word\")[100], extraFeatures=[\"fulle\"])"
   ]
  },
  {
   "cell_type": "code",
   "execution_count": 15,
   "metadata": {},
   "outputs": [
    {
     "data": {
      "text/html": [
       "<div class=\"tfsechead rtl\"><span class=\"ltr\"><a target=\"_blank\" href=\"https://www.deadseascrolls.org.il/explore-the-archive/search#q='CD'\" title=\"Show this scroll in the Leon Levy library\" sec=\"CD 1:8\">CD 1:8</a></span></div><div class=\"rtl children\"><div class=\"contnr c1 trm rtl  \" ><div class=\"lbl c1 trm \" ><span class=\"nd\">word</span> <a target=\"_blank\" href=\"https://www.deadseascrolls.org.il/explore-the-archive\" title=\"Show this scroll in the Leon Levy library\"><span class=\"txtu hbo\"><span class=\"plain rtl  \" ><span class=\"txtu hbo\">ו</span></span></span></a></div><div class='features'><span class=\"sp \" title=\"sp\">ptcl</span><span class=\"lex \" ><span class=\"f\">lex=</span>וְ</span><span class=\"cl \" ><span class=\"f\">cl=</span>conj</span><span class=\"fulle xft\" ><span class=\"f\">fulle=</span>W</span></div></div></div>"
      ],
      "text/plain": [
       "<IPython.core.display.HTML object>"
      ]
     },
     "metadata": {},
     "output_type": "display_data"
    }
   ],
   "source": [
    "A.pretty(F.otype.s(\"word\")[100], extraFeatures=[\"fulle\"], standardFeatures=True)"
   ]
  },
  {
   "cell_type": "markdown",
   "metadata": {},
   "source": [
    "You can enrich the display with the values of a standard set of features."
   ]
  },
  {
   "cell_type": "code",
   "execution_count": 16,
   "metadata": {},
   "outputs": [
    {
     "data": {
      "text/html": [
       "<div class=\"tfsechead rtl\"><span class=\"ltr\"><a target=\"_blank\" href=\"https://www.deadseascrolls.org.il/explore-the-archive/search#q='1Q1'\" title=\"Show this scroll in the Leon Levy library\" sec=\"1Q1 f1:1\">1Q1 f1:1</a></span></div><div class=\"rtl children\"><div class=\"contnr c3  rtl  \" ><div class=\"lbl c3  \" ><span class=\"nd\">line</span></div><div class=\"children hor wrap rtl\"><div class=\"contnr c2  rtl  \" ><div class=\"lbl c2  \" ><span class=\"nd\">cluster</span></div><div class=\"children hor wrap rtl\"><div class=\"contnr c1 trm rtl  \" ><div class=\"lbl c1 trm \" ><span class=\"nd\">word</span> <a target=\"_blank\" href=\"https://www.deadseascrolls.org.il/explore-the-archive\" title=\"Show this scroll in the Leon Levy library\"><span class=\"txtu hbo\"><span class=\"plain rtl  \" ><span class=\"txtu hbo\"><span class=\"rec1\">ו</span></span></span></span></a></div></div><div class=\"contnr c1 trm rtl  \" ><div class=\"lbl c1 trm \" ><span class=\"nd\">word</span> <a target=\"_blank\" href=\"https://www.deadseascrolls.org.il/explore-the-archive\" title=\"Show this scroll in the Leon Levy library\"><span class=\"txtu hbo\"><span class=\"plain rtl  \" ><span class=\"txtu hbo\"><span class=\"rec1\">י</span></span><span class=\"txtu hbo\"><span class=\"rec1\">ר</span></span><span class=\"txtu hbo\"><span class=\"rec1\">א</span> </span></span></span></a></div></div><div class=\"contnr c1 trm rtl lno \" ><div class=\"lbl c1 trm \" ><span class=\"nd\">word</span> <a target=\"_blank\" href=\"https://www.deadseascrolls.org.il/explore-the-archive\" title=\"Show this scroll in the Leon Levy library\"><span class=\"txtu hbo\"><span class=\"plain rtl lno \" ><span class=\"txtu hbo\"><span class=\"rec1\">א</span></span><span class=\"txtu hbo\"><span class=\"rec1\">ל</span></span></span></span></a></div></div></div></div><div class=\"contnr c1 trm rtl rno \" ><div class=\"lbl c1 trm \" ><span class=\"nd\">word</span> <a target=\"_blank\" href=\"https://www.deadseascrolls.org.il/explore-the-archive\" title=\"Show this scroll in the Leon Levy library\"><span class=\"txtu hbo\"><span class=\"plain rtl rno \" ><span class=\"txtu hbo\">ה</span><span class=\"txtu hbo\">י</span><span class=\"txtu hbo\">ם </span></span></span></a></div></div><div class=\"contnr c1 trm rtl  \" ><div class=\"lbl c1 trm \" ><span class=\"nd\">word</span> <a target=\"_blank\" href=\"https://www.deadseascrolls.org.il/explore-the-archive\" title=\"Show this scroll in the Leon Levy library\"><span class=\"txtu hbo\"><span class=\"plain rtl  \" ><span class=\"txtu hbo\">כ</span><span class=\"txtu hbo\">י </span></span></span></a></div></div><div class=\"contnr c2  rtl  \" ><div class=\"lbl c2  \" ><span class=\"nd\">cluster</span></div><div class=\"children hor wrap rtl\"><div class=\"contnr c1 trm rtl  \" ><div class=\"lbl c1 trm \" ><span class=\"nd\">word</span> <a target=\"_blank\" href=\"https://www.deadseascrolls.org.il/explore-the-archive\" title=\"Show this scroll in the Leon Levy library\"><span class=\"txtu hbo\"><span class=\"plain rtl  \" ><span class=\"txtu hbo\"><span class=\"rec1\">ט</span></span><span class=\"txtu hbo\"><span class=\"rec1\">ו</span></span><span class=\"txtu hbo\"><span class=\"rec1\">ב</span> </span></span></span></a></div></div><div class=\"contnr c1 trm rtl  \" ><div class=\"lbl c1 trm \" ><span class=\"nd\">word</span> <span class=\"txtu hbo\"><span class=\"plain rtl  \" ><span class=\"txtu hbo\"><span class=\"rec1 empty\"> </span></span><span class=\"txtu hbo\"><span class=\"rec1\">׃</span> </span></span></span></div></div><div class=\"contnr c1 trm rtl  \" ><div class=\"lbl c1 trm \" ><span class=\"nd\">word</span> <a target=\"_blank\" href=\"https://www.deadseascrolls.org.il/explore-the-archive\" title=\"Show this scroll in the Leon Levy library\"><span class=\"txtu hbo\"><span class=\"plain rtl  \" ><span class=\"txtu hbo\"><span class=\"rec1\">ו</span></span></span></span></a></div></div><div class=\"contnr c1 trm rtl  \" ><div class=\"lbl c1 trm \" ><span class=\"nd\">word</span> <a target=\"_blank\" href=\"https://www.deadseascrolls.org.il/explore-the-archive\" title=\"Show this scroll in the Leon Levy library\"><span class=\"txtu hbo\"><span class=\"plain rtl  \" ><span class=\"txtu hbo\"><span class=\"rec1\">י</span></span><span class=\"txtu hbo\"><span class=\"rec1\">ה</span></span><span class=\"txtu hbo\"><span class=\"rec1\">י</span> </span></span></span></a></div></div><div class=\"contnr c1 trm rtl  \" ><div class=\"lbl c1 trm \" ><span class=\"nd\">word</span> <a target=\"_blank\" href=\"https://www.deadseascrolls.org.il/explore-the-archive\" title=\"Show this scroll in the Leon Levy library\"><span class=\"txtu hbo\"><span class=\"plain rtl  \" ><span class=\"txtu hbo\"><span class=\"rec1\">ע</span></span><span class=\"txtu hbo\"><span class=\"rec1\">ר</span></span><span class=\"txtu hbo\"><span class=\"rec1\">ב</span> </span></span></span></a></div></div><div class=\"contnr c1 trm rtl  \" ><div class=\"lbl c1 trm \" ><span class=\"nd\">word</span> <a target=\"_blank\" href=\"https://www.deadseascrolls.org.il/explore-the-archive\" title=\"Show this scroll in the Leon Levy library\"><span class=\"txtu hbo\"><span class=\"plain rtl  \" ><span class=\"txtu hbo\"><span class=\"rec1\">ו</span></span></span></span></a></div></div><div class=\"contnr c1 trm rtl  \" ><div class=\"lbl c1 trm \" ><span class=\"nd\">word</span> <a target=\"_blank\" href=\"https://www.deadseascrolls.org.il/explore-the-archive\" title=\"Show this scroll in the Leon Levy library\"><span class=\"txtu hbo\"><span class=\"plain rtl  \" ><span class=\"txtu hbo\"><span class=\"rec1\">י</span></span><span class=\"txtu hbo\"><span class=\"rec1\">ה</span></span><span class=\"txtu hbo\"><span class=\"rec1\">י</span> </span></span></span></a></div></div><div class=\"contnr c1 trm rtl  \" ><div class=\"lbl c1 trm \" ><span class=\"nd\">word</span> <a target=\"_blank\" href=\"https://www.deadseascrolls.org.il/explore-the-archive\" title=\"Show this scroll in the Leon Levy library\"><span class=\"txtu hbo\"><span class=\"plain rtl  \" ><span class=\"txtu hbo\"><span class=\"rec1\">ב</span></span><span class=\"txtu hbo\"><span class=\"rec1\">ק</span></span><span class=\"txtu hbo\"><span class=\"rec1\">ר</span> </span></span></span></a></div></div><div class=\"contnr c1 trm rtl  \" ><div class=\"lbl c1 trm \" ><span class=\"nd\">word</span> <a target=\"_blank\" href=\"https://www.deadseascrolls.org.il/explore-the-archive\" title=\"Show this scroll in the Leon Levy library\"><span class=\"txtu hbo\"><span class=\"plain rtl  \" ><span class=\"txtu hbo\"><span class=\"rec1\">י</span></span><span class=\"txtu hbo\"><span class=\"rec1\">ו</span></span><span class=\"txtu hbo\"><span class=\"rec1\">ם</span> </span></span></span></a></div></div><div class=\"contnr c1 trm rtl  \" ><div class=\"lbl c1 trm \" ><span class=\"nd\">word</span> <a target=\"_blank\" href=\"https://www.deadseascrolls.org.il/explore-the-archive\" title=\"Show this scroll in the Leon Levy library\"><span class=\"txtu hbo\"><span class=\"plain rtl  \" ><span class=\"txtu hbo\"><span class=\"rec1\">ר</span></span><span class=\"txtu hbo\"><span class=\"rec1\">ב</span></span><span class=\"txtu hbo\"><span class=\"rec1\">י</span></span><span class=\"txtu hbo\"><span class=\"rec1\">ע</span></span><span class=\"txtu hbo\"><span class=\"rec1\">י</span> </span></span></span></a></div></div><div class=\"contnr c1 trm rtl  \" ><div class=\"lbl c1 trm \" ><span class=\"nd\">word</span> <span class=\"txtu hbo\"><span class=\"plain rtl  \" ><span class=\"txtu hbo\"><span class=\"rec1 empty\"> </span></span><span class=\"txtu hbo\"><span class=\"rec1\">׃</span> </span></span></span></div></div><div class=\"contnr c1 trm rtl  \" ><div class=\"lbl c1 trm \" ><span class=\"nd\">word</span> <a target=\"_blank\" href=\"https://www.deadseascrolls.org.il/explore-the-archive\" title=\"Show this scroll in the Leon Levy library\"><span class=\"txtu hbo\"><span class=\"plain rtl  \" ><span class=\"txtu hbo\"><span class=\"rec1\">ו</span></span></span></span></a></div></div><div class=\"contnr c1 trm rtl  \" ><div class=\"lbl c1 trm \" ><span class=\"nd\">word</span> <a target=\"_blank\" href=\"https://www.deadseascrolls.org.il/explore-the-archive\" title=\"Show this scroll in the Leon Levy library\"><span class=\"txtu hbo\"><span class=\"plain rtl  \" ><span class=\"txtu hbo\"><span class=\"rec1\">י</span></span><span class=\"txtu hbo\"><span class=\"rec1\">א</span></span><span class=\"txtu hbo\"><span class=\"rec1\">מ</span></span><span class=\"txtu hbo\"><span class=\"rec1\">ר</span> </span></span></span></a></div></div></div></div></div></div></div>"
      ],
      "text/plain": [
       "<IPython.core.display.HTML object>"
      ]
     },
     "metadata": {},
     "output_type": "display_data"
    }
   ],
   "source": [
    "A.pretty(lines[0], fmt=\"layout-orig-full\", lineNumbers=False)"
   ]
  },
  {
   "cell_type": "markdown",
   "metadata": {},
   "source": [
    "Normally, pretty displays dig to the word level and not further. But if you want to dig to the sign level, you can do that:"
   ]
  },
  {
   "cell_type": "code",
   "execution_count": 17,
   "metadata": {},
   "outputs": [
    {
     "data": {
      "text/html": [
       "<div class=\"tfsechead rtl\"><span class=\"ltr\"><a target=\"_blank\" href=\"https://www.deadseascrolls.org.il/explore-the-archive/search#q='1Q1'\" title=\"Show this scroll in the Leon Levy library\" sec=\"1Q1 f1:1\">1Q1 f1:1</a></span></div><div class=\"rtl children\"><div class=\"contnr c3  rtl  \" ><div class=\"lbl c3  \" ><span class=\"nd\">line</span></div><div class=\"children hor wrap rtl\"><div class=\"contnr c2  rtl  \" ><div class=\"lbl c2  \" ><span class=\"nd\">cluster</span></div><div class=\"children hor wrap rtl\"><div class=\"contnr c1  rtl  \" ><div class=\"lbl c1  \" ><span class=\"nd\">word</span> <a target=\"_blank\" href=\"https://www.deadseascrolls.org.il/explore-the-archive\" title=\"Show this scroll in the Leon Levy library\"><span class=\"txtu hbo\"><span class=\"rec1\">ו</span></span></a></div><div class=\"children hor  rtl\"><div class=\"contnr c0 trm rtl  \" ><div class=\"lbl c0 trm \" ><span class=\"txtu hbo\"><span class=\"rec1\">ו</span></span></div></div></div></div><div class=\"contnr c1  rtl  \" ><div class=\"lbl c1  \" ><span class=\"nd\">word</span> <a target=\"_blank\" href=\"https://www.deadseascrolls.org.il/explore-the-archive\" title=\"Show this scroll in the Leon Levy library\"><span class=\"txtu hbo\"><span class=\"rec1\">י</span><span class=\"rec1\">ר</span><span class=\"rec1\">א</span> </span></a></div><div class=\"children hor  rtl\"><div class=\"contnr c0 trm rtl  \" ><div class=\"lbl c0 trm \" ><span class=\"txtu hbo\"><span class=\"rec1\">י</span></span></div></div><div class=\"contnr c0 trm rtl  \" ><div class=\"lbl c0 trm \" ><span class=\"txtu hbo\"><span class=\"rec1\">ר</span></span></div></div><div class=\"contnr c0 trm rtl  \" ><div class=\"lbl c0 trm \" ><span class=\"txtu hbo\"><span class=\"rec1\">א</span> </span></div></div></div></div><div class=\"contnr c1  rtl lno \" ><div class=\"lbl c1  \" ><span class=\"nd\">word</span> <a target=\"_blank\" href=\"https://www.deadseascrolls.org.il/explore-the-archive\" title=\"Show this scroll in the Leon Levy library\"><span class=\"txtu hbo\"><span class=\"rec1\">א</span><span class=\"rec1\">ל</span>הים </span></a></div><div class=\"children hor  rtl\"><div class=\"contnr c0 trm rtl  \" ><div class=\"lbl c0 trm \" ><span class=\"txtu hbo\"><span class=\"rec1\">א</span></span></div></div><div class=\"contnr c0 trm rtl  \" ><div class=\"lbl c0 trm \" ><span class=\"txtu hbo\"><span class=\"rec1\">ל</span></span></div></div></div></div></div></div><div class=\"contnr c1  rtl rno \" ><div class=\"lbl c1  \" ><span class=\"nd\">word</span> <a target=\"_blank\" href=\"https://www.deadseascrolls.org.il/explore-the-archive\" title=\"Show this scroll in the Leon Levy library\"><span class=\"txtu hbo\"><span class=\"rec1\">א</span><span class=\"rec1\">ל</span>הים </span></a></div><div class=\"children hor  rtl\"><div class=\"contnr c0 trm rtl  \" ><div class=\"lbl c0 trm \" ><span class=\"txtu hbo\">ה</span></div></div><div class=\"contnr c0 trm rtl  \" ><div class=\"lbl c0 trm \" ><span class=\"txtu hbo\">י</span></div></div><div class=\"contnr c0 trm rtl  \" ><div class=\"lbl c0 trm \" ><span class=\"txtu hbo\">ם </span></div></div></div></div><div class=\"contnr c1  rtl  \" ><div class=\"lbl c1  \" ><span class=\"nd\">word</span> <a target=\"_blank\" href=\"https://www.deadseascrolls.org.il/explore-the-archive\" title=\"Show this scroll in the Leon Levy library\"><span class=\"txtu hbo\">כי </span></a></div><div class=\"children hor  rtl\"><div class=\"contnr c0 trm rtl  \" ><div class=\"lbl c0 trm \" ><span class=\"txtu hbo\">כ</span></div></div><div class=\"contnr c0 trm rtl  \" ><div class=\"lbl c0 trm \" ><span class=\"txtu hbo\">י </span></div></div></div></div><div class=\"contnr c2  rtl  \" ><div class=\"lbl c2  \" ><span class=\"nd\">cluster</span></div><div class=\"children hor wrap rtl\"><div class=\"contnr c1  rtl  \" ><div class=\"lbl c1  \" ><span class=\"nd\">word</span> <a target=\"_blank\" href=\"https://www.deadseascrolls.org.il/explore-the-archive\" title=\"Show this scroll in the Leon Levy library\"><span class=\"txtu hbo\"><span class=\"rec1\">ט</span><span class=\"rec1\">ו</span><span class=\"rec1\">ב</span> </span></a></div><div class=\"children hor  rtl\"><div class=\"contnr c0 trm rtl  \" ><div class=\"lbl c0 trm \" ><span class=\"txtu hbo\"><span class=\"rec1\">ט</span></span></div></div><div class=\"contnr c0 trm rtl  \" ><div class=\"lbl c0 trm \" ><span class=\"txtu hbo\"><span class=\"rec1\">ו</span></span></div></div><div class=\"contnr c0 trm rtl  \" ><div class=\"lbl c0 trm \" ><span class=\"txtu hbo\"><span class=\"rec1\">ב</span> </span></div></div></div></div><div class=\"contnr c1  rtl  \" ><div class=\"lbl c1  \" ><span class=\"nd\">word</span> <span class=\"txtu hbo\"><span class=\"rec1 empty\"> </span><span class=\"rec1\">׃</span> </span></div><div class=\"children hor  rtl\"><div class=\"contnr c0 trm rtl  \" ><div class=\"lbl c0 trm \" ><span class=\"txtu hbo\"><span class=\"rec1 empty\"> </span></span></div></div><div class=\"contnr c0 trm rtl  \" ><div class=\"lbl c0 trm \" ><span class=\"txtu hbo\"><span class=\"rec1\">׃</span> </span></div></div></div></div><div class=\"contnr c1  rtl  \" ><div class=\"lbl c1  \" ><span class=\"nd\">word</span> <a target=\"_blank\" href=\"https://www.deadseascrolls.org.il/explore-the-archive\" title=\"Show this scroll in the Leon Levy library\"><span class=\"txtu hbo\"><span class=\"rec1\">ו</span></span></a></div><div class=\"children hor  rtl\"><div class=\"contnr c0 trm rtl  \" ><div class=\"lbl c0 trm \" ><span class=\"txtu hbo\"><span class=\"rec1\">ו</span></span></div></div></div></div><div class=\"contnr c1  rtl  \" ><div class=\"lbl c1  \" ><span class=\"nd\">word</span> <a target=\"_blank\" href=\"https://www.deadseascrolls.org.il/explore-the-archive\" title=\"Show this scroll in the Leon Levy library\"><span class=\"txtu hbo\"><span class=\"rec1\">י</span><span class=\"rec1\">ה</span><span class=\"rec1\">י</span> </span></a></div><div class=\"children hor  rtl\"><div class=\"contnr c0 trm rtl  \" ><div class=\"lbl c0 trm \" ><span class=\"txtu hbo\"><span class=\"rec1\">י</span></span></div></div><div class=\"contnr c0 trm rtl  \" ><div class=\"lbl c0 trm \" ><span class=\"txtu hbo\"><span class=\"rec1\">ה</span></span></div></div><div class=\"contnr c0 trm rtl  \" ><div class=\"lbl c0 trm \" ><span class=\"txtu hbo\"><span class=\"rec1\">י</span> </span></div></div></div></div><div class=\"contnr c1  rtl  \" ><div class=\"lbl c1  \" ><span class=\"nd\">word</span> <a target=\"_blank\" href=\"https://www.deadseascrolls.org.il/explore-the-archive\" title=\"Show this scroll in the Leon Levy library\"><span class=\"txtu hbo\"><span class=\"rec1\">ע</span><span class=\"rec1\">ר</span><span class=\"rec1\">ב</span> </span></a></div><div class=\"children hor  rtl\"><div class=\"contnr c0 trm rtl  \" ><div class=\"lbl c0 trm \" ><span class=\"txtu hbo\"><span class=\"rec1\">ע</span></span></div></div><div class=\"contnr c0 trm rtl  \" ><div class=\"lbl c0 trm \" ><span class=\"txtu hbo\"><span class=\"rec1\">ר</span></span></div></div><div class=\"contnr c0 trm rtl  \" ><div class=\"lbl c0 trm \" ><span class=\"txtu hbo\"><span class=\"rec1\">ב</span> </span></div></div></div></div><div class=\"contnr c1  rtl  \" ><div class=\"lbl c1  \" ><span class=\"nd\">word</span> <a target=\"_blank\" href=\"https://www.deadseascrolls.org.il/explore-the-archive\" title=\"Show this scroll in the Leon Levy library\"><span class=\"txtu hbo\"><span class=\"rec1\">ו</span></span></a></div><div class=\"children hor  rtl\"><div class=\"contnr c0 trm rtl  \" ><div class=\"lbl c0 trm \" ><span class=\"txtu hbo\"><span class=\"rec1\">ו</span></span></div></div></div></div><div class=\"contnr c1  rtl  \" ><div class=\"lbl c1  \" ><span class=\"nd\">word</span> <a target=\"_blank\" href=\"https://www.deadseascrolls.org.il/explore-the-archive\" title=\"Show this scroll in the Leon Levy library\"><span class=\"txtu hbo\"><span class=\"rec1\">י</span><span class=\"rec1\">ה</span><span class=\"rec1\">י</span> </span></a></div><div class=\"children hor  rtl\"><div class=\"contnr c0 trm rtl  \" ><div class=\"lbl c0 trm \" ><span class=\"txtu hbo\"><span class=\"rec1\">י</span></span></div></div><div class=\"contnr c0 trm rtl  \" ><div class=\"lbl c0 trm \" ><span class=\"txtu hbo\"><span class=\"rec1\">ה</span></span></div></div><div class=\"contnr c0 trm rtl  \" ><div class=\"lbl c0 trm \" ><span class=\"txtu hbo\"><span class=\"rec1\">י</span> </span></div></div></div></div><div class=\"contnr c1  rtl  \" ><div class=\"lbl c1  \" ><span class=\"nd\">word</span> <a target=\"_blank\" href=\"https://www.deadseascrolls.org.il/explore-the-archive\" title=\"Show this scroll in the Leon Levy library\"><span class=\"txtu hbo\"><span class=\"rec1\">ב</span><span class=\"rec1\">ק</span><span class=\"rec1\">ר</span> </span></a></div><div class=\"children hor  rtl\"><div class=\"contnr c0 trm rtl  \" ><div class=\"lbl c0 trm \" ><span class=\"txtu hbo\"><span class=\"rec1\">ב</span></span></div></div><div class=\"contnr c0 trm rtl  \" ><div class=\"lbl c0 trm \" ><span class=\"txtu hbo\"><span class=\"rec1\">ק</span></span></div></div><div class=\"contnr c0 trm rtl  \" ><div class=\"lbl c0 trm \" ><span class=\"txtu hbo\"><span class=\"rec1\">ר</span> </span></div></div></div></div><div class=\"contnr c1  rtl  \" ><div class=\"lbl c1  \" ><span class=\"nd\">word</span> <a target=\"_blank\" href=\"https://www.deadseascrolls.org.il/explore-the-archive\" title=\"Show this scroll in the Leon Levy library\"><span class=\"txtu hbo\"><span class=\"rec1\">י</span><span class=\"rec1\">ו</span><span class=\"rec1\">ם</span> </span></a></div><div class=\"children hor  rtl\"><div class=\"contnr c0 trm rtl  \" ><div class=\"lbl c0 trm \" ><span class=\"txtu hbo\"><span class=\"rec1\">י</span></span></div></div><div class=\"contnr c0 trm rtl  \" ><div class=\"lbl c0 trm \" ><span class=\"txtu hbo\"><span class=\"rec1\">ו</span></span></div></div><div class=\"contnr c0 trm rtl  \" ><div class=\"lbl c0 trm \" ><span class=\"txtu hbo\"><span class=\"rec1\">ם</span> </span></div></div></div></div><div class=\"contnr c1  rtl  \" ><div class=\"lbl c1  \" ><span class=\"nd\">word</span> <a target=\"_blank\" href=\"https://www.deadseascrolls.org.il/explore-the-archive\" title=\"Show this scroll in the Leon Levy library\"><span class=\"txtu hbo\"><span class=\"rec1\">ר</span><span class=\"rec1\">ב</span><span class=\"rec1\">י</span><span class=\"rec1\">ע</span><span class=\"rec1\">י</span> </span></a></div><div class=\"children hor  rtl\"><div class=\"contnr c0 trm rtl  \" ><div class=\"lbl c0 trm \" ><span class=\"txtu hbo\"><span class=\"rec1\">ר</span></span></div></div><div class=\"contnr c0 trm rtl  \" ><div class=\"lbl c0 trm \" ><span class=\"txtu hbo\"><span class=\"rec1\">ב</span></span></div></div><div class=\"contnr c0 trm rtl  \" ><div class=\"lbl c0 trm \" ><span class=\"txtu hbo\"><span class=\"rec1\">י</span></span></div></div><div class=\"contnr c0 trm rtl  \" ><div class=\"lbl c0 trm \" ><span class=\"txtu hbo\"><span class=\"rec1\">ע</span></span></div></div><div class=\"contnr c0 trm rtl  \" ><div class=\"lbl c0 trm \" ><span class=\"txtu hbo\"><span class=\"rec1\">י</span> </span></div></div></div></div><div class=\"contnr c1  rtl  \" ><div class=\"lbl c1  \" ><span class=\"nd\">word</span> <span class=\"txtu hbo\"><span class=\"rec1 empty\"> </span><span class=\"rec1\">׃</span> </span></div><div class=\"children hor  rtl\"><div class=\"contnr c0 trm rtl  \" ><div class=\"lbl c0 trm \" ><span class=\"txtu hbo\"><span class=\"rec1 empty\"> </span></span></div></div><div class=\"contnr c0 trm rtl  \" ><div class=\"lbl c0 trm \" ><span class=\"txtu hbo\"><span class=\"rec1\">׃</span> </span></div></div></div></div><div class=\"contnr c1  rtl  \" ><div class=\"lbl c1  \" ><span class=\"nd\">word</span> <a target=\"_blank\" href=\"https://www.deadseascrolls.org.il/explore-the-archive\" title=\"Show this scroll in the Leon Levy library\"><span class=\"txtu hbo\"><span class=\"rec1\">ו</span></span></a></div><div class=\"children hor  rtl\"><div class=\"contnr c0 trm rtl  \" ><div class=\"lbl c0 trm \" ><span class=\"txtu hbo\"><span class=\"rec1\">ו</span></span></div></div></div></div><div class=\"contnr c1  rtl  \" ><div class=\"lbl c1  \" ><span class=\"nd\">word</span> <a target=\"_blank\" href=\"https://www.deadseascrolls.org.il/explore-the-archive\" title=\"Show this scroll in the Leon Levy library\"><span class=\"txtu hbo\"><span class=\"rec1\">י</span><span class=\"rec1\">א</span><span class=\"rec1\">מ</span><span class=\"rec1\">ר</span> </span></a></div><div class=\"children hor  rtl\"><div class=\"contnr c0 trm rtl  \" ><div class=\"lbl c0 trm \" ><span class=\"txtu hbo\"><span class=\"rec1\">י</span></span></div></div><div class=\"contnr c0 trm rtl  \" ><div class=\"lbl c0 trm \" ><span class=\"txtu hbo\"><span class=\"rec1\">א</span></span></div></div><div class=\"contnr c0 trm rtl  \" ><div class=\"lbl c0 trm \" ><span class=\"txtu hbo\"><span class=\"rec1\">מ</span></span></div></div><div class=\"contnr c0 trm rtl  \" ><div class=\"lbl c0 trm \" ><span class=\"txtu hbo\"><span class=\"rec1\">ר</span> </span></div></div></div></div></div></div></div></div></div>"
      ],
      "text/plain": [
       "<IPython.core.display.HTML object>"
      ]
     },
     "metadata": {},
     "output_type": "display_data"
    }
   ],
   "source": [
    "A.pretty(\n",
    "    lines[0],\n",
    "    fmt=\"layout-orig-full\",\n",
    "    withNodes=False,\n",
    "    lineNumbers=False,\n",
    "    baseTypes=\"sign\",\n",
    ")"
   ]
  },
  {
   "cell_type": "markdown",
   "metadata": {},
   "source": [
    "Later on, in the [search](search.ipynb) tutorial we see that `pretty()` can also display other features,\n",
    "even features that you or other people have created and added later.\n",
    "\n",
    "Here we call for the feature `fullo`, defined word words, not signs, which shows the original source code for the word in question\n",
    "including the bracketing characters.\n",
    "\n",
    "Consult the\n",
    "[feature documentation](https://github.com/etcbc/dss/blob/master/docs//transcription.md)\n",
    "to see what information is stored in all the features.\n",
    "\n",
    "We show it with node numbers, but you could leave them out in an obvious way."
   ]
  },
  {
   "cell_type": "code",
   "execution_count": 18,
   "metadata": {},
   "outputs": [
    {
     "data": {
      "text/html": [
       "<div class=\"tfsechead rtl\"><span class=\"ltr\"><a target=\"_blank\" href=\"https://www.deadseascrolls.org.il/explore-the-archive/search#q='1Q1'\" title=\"Show this scroll in the Leon Levy library\" sec=\"1Q1 f1:1\">1Q1 f1:1</a></span></div><div class=\"rtl children\"><div class=\"contnr c3  rtl  \" ><div class=\"lbl c3  \" ><span class=\"nd\">line:1589604</span></div><div class=\"children hor wrap rtl\"><div class=\"contnr c2  rtl  \" ><div class=\"lbl c2  \" ><span class=\"nd\">cluster:1500732</span></div><div class=\"children hor wrap rtl\"><div class=\"contnr c1 trm rtl  \" ><div class=\"lbl c1 trm \" ><span class=\"nd\">word:1889878</span> <a target=\"_blank\" href=\"https://www.deadseascrolls.org.il/explore-the-archive\" title=\"Show this scroll in the Leon Levy library\"><span class=\"txtu hbo\"><span class=\"plain rtl  \" ><span class=\"txtu hbo\"><span class=\"rec1\">ו</span></span></span></span></a></div><div class='features'><span class=\"fullo xft\" ><span class=\"f\">fullo=</span>]w</span></div></div><div class=\"contnr c1 trm rtl  \" ><div class=\"lbl c1 trm \" ><span class=\"nd\">word:1889879</span> <a target=\"_blank\" href=\"https://www.deadseascrolls.org.il/explore-the-archive\" title=\"Show this scroll in the Leon Levy library\"><span class=\"txtu hbo\"><span class=\"plain rtl  \" ><span class=\"txtu hbo\"><span class=\"rec1\">י</span></span><span class=\"txtu hbo\"><span class=\"rec1\">ר</span></span><span class=\"txtu hbo\"><span class=\"rec1\">א</span> </span></span></span></a></div><div class='features'><span class=\"fullo xft\" ><span class=\"f\">fullo=</span>yra</span></div></div><div class=\"contnr c1 trm rtl lno \" ><div class=\"lbl c1 trm \" ><span class=\"nd\">word:1889880</span> <a target=\"_blank\" href=\"https://www.deadseascrolls.org.il/explore-the-archive\" title=\"Show this scroll in the Leon Levy library\"><span class=\"txtu hbo\"><span class=\"plain rtl lno \" ><span class=\"txtu hbo\"><span class=\"rec1\">א</span></span><span class=\"txtu hbo\"><span class=\"rec1\">ל</span></span></span></span></a></div><div class='features'><span class=\"fullo xft\" ><span class=\"f\">fullo=</span>al[hyM</span></div></div></div></div><div class=\"contnr c1 trm rtl rno \" ><div class=\"lbl c1 trm \" ><span class=\"nd\">word:1889880</span> <a target=\"_blank\" href=\"https://www.deadseascrolls.org.il/explore-the-archive\" title=\"Show this scroll in the Leon Levy library\"><span class=\"txtu hbo\"><span class=\"plain rtl rno \" ><span class=\"txtu hbo\">ה</span><span class=\"txtu hbo\">י</span><span class=\"txtu hbo\">ם </span></span></span></a></div><div class='features'><span class=\"fullo xft\" ><span class=\"f\">fullo=</span>al[hyM</span></div></div><div class=\"contnr c1 trm rtl  \" ><div class=\"lbl c1 trm \" ><span class=\"nd\">word:1889881</span> <a target=\"_blank\" href=\"https://www.deadseascrolls.org.il/explore-the-archive\" title=\"Show this scroll in the Leon Levy library\"><span class=\"txtu hbo\"><span class=\"plain rtl  \" ><span class=\"txtu hbo\">כ</span><span class=\"txtu hbo\">י </span></span></span></a></div><div class='features'><span class=\"fullo xft\" ><span class=\"f\">fullo=</span>ky</span></div></div><div class=\"contnr c2  rtl  \" ><div class=\"lbl c2  \" ><span class=\"nd\">cluster:1500733</span></div><div class=\"children hor wrap rtl\"><div class=\"contnr c1 trm rtl  \" ><div class=\"lbl c1 trm \" ><span class=\"nd\">word:1889882</span> <a target=\"_blank\" href=\"https://www.deadseascrolls.org.il/explore-the-archive\" title=\"Show this scroll in the Leon Levy library\"><span class=\"txtu hbo\"><span class=\"plain rtl  \" ><span class=\"txtu hbo\"><span class=\"rec1\">ט</span></span><span class=\"txtu hbo\"><span class=\"rec1\">ו</span></span><span class=\"txtu hbo\"><span class=\"rec1\">ב</span> </span></span></span></a></div><div class='features'><span class=\"fullo xft\" ><span class=\"f\">fullo=</span>]fwb</span></div></div><div class=\"contnr c1 trm rtl  \" ><div class=\"lbl c1 trm \" ><span class=\"nd\">word:1889883</span> <span class=\"txtu hbo\"><span class=\"plain rtl  \" ><span class=\"txtu hbo\"><span class=\"rec1 empty\"> </span></span><span class=\"txtu hbo\"><span class=\"rec1\">׃</span> </span></span></span></div><div class='features'><span class=\"fullo xft\" ><span class=\"f\">fullo=</span>.</span></div></div><div class=\"contnr c1 trm rtl  \" ><div class=\"lbl c1 trm \" ><span class=\"nd\">word:1889884</span> <a target=\"_blank\" href=\"https://www.deadseascrolls.org.il/explore-the-archive\" title=\"Show this scroll in the Leon Levy library\"><span class=\"txtu hbo\"><span class=\"plain rtl  \" ><span class=\"txtu hbo\"><span class=\"rec1\">ו</span></span></span></span></a></div><div class='features'><span class=\"fullo xft\" ><span class=\"f\">fullo=</span>w</span></div></div><div class=\"contnr c1 trm rtl  \" ><div class=\"lbl c1 trm \" ><span class=\"nd\">word:1889885</span> <a target=\"_blank\" href=\"https://www.deadseascrolls.org.il/explore-the-archive\" title=\"Show this scroll in the Leon Levy library\"><span class=\"txtu hbo\"><span class=\"plain rtl  \" ><span class=\"txtu hbo\"><span class=\"rec1\">י</span></span><span class=\"txtu hbo\"><span class=\"rec1\">ה</span></span><span class=\"txtu hbo\"><span class=\"rec1\">י</span> </span></span></span></a></div><div class='features'><span class=\"fullo xft\" ><span class=\"f\">fullo=</span>yhy</span></div></div><div class=\"contnr c1 trm rtl  \" ><div class=\"lbl c1 trm \" ><span class=\"nd\">word:1889886</span> <a target=\"_blank\" href=\"https://www.deadseascrolls.org.il/explore-the-archive\" title=\"Show this scroll in the Leon Levy library\"><span class=\"txtu hbo\"><span class=\"plain rtl  \" ><span class=\"txtu hbo\"><span class=\"rec1\">ע</span></span><span class=\"txtu hbo\"><span class=\"rec1\">ר</span></span><span class=\"txtu hbo\"><span class=\"rec1\">ב</span> </span></span></span></a></div><div class='features'><span class=\"fullo xft\" ><span class=\"f\">fullo=</span>orb</span></div></div><div class=\"contnr c1 trm rtl  \" ><div class=\"lbl c1 trm \" ><span class=\"nd\">word:1889887</span> <a target=\"_blank\" href=\"https://www.deadseascrolls.org.il/explore-the-archive\" title=\"Show this scroll in the Leon Levy library\"><span class=\"txtu hbo\"><span class=\"plain rtl  \" ><span class=\"txtu hbo\"><span class=\"rec1\">ו</span></span></span></span></a></div><div class='features'><span class=\"fullo xft\" ><span class=\"f\">fullo=</span>w</span></div></div><div class=\"contnr c1 trm rtl  \" ><div class=\"lbl c1 trm \" ><span class=\"nd\">word:1889888</span> <a target=\"_blank\" href=\"https://www.deadseascrolls.org.il/explore-the-archive\" title=\"Show this scroll in the Leon Levy library\"><span class=\"txtu hbo\"><span class=\"plain rtl  \" ><span class=\"txtu hbo\"><span class=\"rec1\">י</span></span><span class=\"txtu hbo\"><span class=\"rec1\">ה</span></span><span class=\"txtu hbo\"><span class=\"rec1\">י</span> </span></span></span></a></div><div class='features'><span class=\"fullo xft\" ><span class=\"f\">fullo=</span>yhy</span></div></div><div class=\"contnr c1 trm rtl  \" ><div class=\"lbl c1 trm \" ><span class=\"nd\">word:1889889</span> <a target=\"_blank\" href=\"https://www.deadseascrolls.org.il/explore-the-archive\" title=\"Show this scroll in the Leon Levy library\"><span class=\"txtu hbo\"><span class=\"plain rtl  \" ><span class=\"txtu hbo\"><span class=\"rec1\">ב</span></span><span class=\"txtu hbo\"><span class=\"rec1\">ק</span></span><span class=\"txtu hbo\"><span class=\"rec1\">ר</span> </span></span></span></a></div><div class='features'><span class=\"fullo xft\" ><span class=\"f\">fullo=</span>bqr</span></div></div><div class=\"contnr c1 trm rtl  \" ><div class=\"lbl c1 trm \" ><span class=\"nd\">word:1889890</span> <a target=\"_blank\" href=\"https://www.deadseascrolls.org.il/explore-the-archive\" title=\"Show this scroll in the Leon Levy library\"><span class=\"txtu hbo\"><span class=\"plain rtl  \" ><span class=\"txtu hbo\"><span class=\"rec1\">י</span></span><span class=\"txtu hbo\"><span class=\"rec1\">ו</span></span><span class=\"txtu hbo\"><span class=\"rec1\">ם</span> </span></span></span></a></div><div class='features'><span class=\"fullo xft\" ><span class=\"f\">fullo=</span>ywM</span></div></div><div class=\"contnr c1 trm rtl  \" ><div class=\"lbl c1 trm \" ><span class=\"nd\">word:1889891</span> <a target=\"_blank\" href=\"https://www.deadseascrolls.org.il/explore-the-archive\" title=\"Show this scroll in the Leon Levy library\"><span class=\"txtu hbo\"><span class=\"plain rtl  \" ><span class=\"txtu hbo\"><span class=\"rec1\">ר</span></span><span class=\"txtu hbo\"><span class=\"rec1\">ב</span></span><span class=\"txtu hbo\"><span class=\"rec1\">י</span></span><span class=\"txtu hbo\"><span class=\"rec1\">ע</span></span><span class=\"txtu hbo\"><span class=\"rec1\">י</span> </span></span></span></a></div><div class='features'><span class=\"fullo xft\" ><span class=\"f\">fullo=</span>rbyoy</span></div></div><div class=\"contnr c1 trm rtl  \" ><div class=\"lbl c1 trm \" ><span class=\"nd\">word:1889892</span> <span class=\"txtu hbo\"><span class=\"plain rtl  \" ><span class=\"txtu hbo\"><span class=\"rec1 empty\"> </span></span><span class=\"txtu hbo\"><span class=\"rec1\">׃</span> </span></span></span></div><div class='features'><span class=\"fullo xft\" ><span class=\"f\">fullo=</span>.</span></div></div><div class=\"contnr c1 trm rtl  \" ><div class=\"lbl c1 trm \" ><span class=\"nd\">word:1889893</span> <a target=\"_blank\" href=\"https://www.deadseascrolls.org.il/explore-the-archive\" title=\"Show this scroll in the Leon Levy library\"><span class=\"txtu hbo\"><span class=\"plain rtl  \" ><span class=\"txtu hbo\"><span class=\"rec1\">ו</span></span></span></span></a></div><div class='features'><span class=\"fullo xft\" ><span class=\"f\">fullo=</span>w</span></div></div><div class=\"contnr c1 trm rtl  \" ><div class=\"lbl c1 trm \" ><span class=\"nd\">word:1889894</span> <a target=\"_blank\" href=\"https://www.deadseascrolls.org.il/explore-the-archive\" title=\"Show this scroll in the Leon Levy library\"><span class=\"txtu hbo\"><span class=\"plain rtl  \" ><span class=\"txtu hbo\"><span class=\"rec1\">י</span></span><span class=\"txtu hbo\"><span class=\"rec1\">א</span></span><span class=\"txtu hbo\"><span class=\"rec1\">מ</span></span><span class=\"txtu hbo\"><span class=\"rec1\">ר</span> </span></span></span></a></div><div class='features'><span class=\"fullo xft\" ><span class=\"f\">fullo=</span>yamr[</span></div></div></div></div></div></div></div>"
      ],
      "text/plain": [
       "<IPython.core.display.HTML object>"
      ]
     },
     "metadata": {},
     "output_type": "display_data"
    }
   ],
   "source": [
    "A.pretty(lines[0], extraFeatures=\"fullo\", fmt=\"layout-orig-full\", withNodes=True)"
   ]
  },
  {
   "cell_type": "markdown",
   "metadata": {},
   "source": [
    "We can even do it for a whole fragment:"
   ]
  },
  {
   "cell_type": "code",
   "execution_count": 19,
   "metadata": {},
   "outputs": [
    {
     "data": {
      "text/html": [
       "<div class=\"tfsechead rtl\"><span class=\"ltr\"><a target=\"_blank\" href=\"https://www.deadseascrolls.org.il/explore-the-archive/search#q='1Q1'\" title=\"Show this scroll in the Leon Levy library\" sec=\"1Q1 f1\">1Q1 f1</a></span></div><div class=\"rtl children\"><div class=\"contnr c4 trm rtl  \" ><div class=\"lbl c4 trm \" ><span class=\"nd\">fragment:1540222</span> <span class=\"txtu hbo\"><span class=\"tfsechead rtl\"><span class=\"ltr\">1Q1 f1</span></span></span></div></div></div>"
      ],
      "text/plain": [
       "<IPython.core.display.HTML object>"
      ]
     },
     "metadata": {},
     "output_type": "display_data"
    }
   ],
   "source": [
    "A.pretty(f, extraFeatures=\"fullo\", fmt=\"layout-orig-rich\", withNodes=True)"
   ]
  },
  {
   "cell_type": "markdown",
   "metadata": {},
   "source": [
    "We do not see much, because the default condense type is `line`, and a `fragment` is bigger than that.\n",
    "Objects bigger than de condense type will be abbreviated to a label that indicates their identity,\n",
    "not their contents.\n",
    "\n",
    "But we can override this by adding `full=True`.\n",
    "\n",
    "See also the documentation on [`pretty`](https://annotation.github.io/text-fabric/tf/advanced/display.html#tf.advanced.display.pretty)."
   ]
  },
  {
   "cell_type": "code",
   "execution_count": 20,
   "metadata": {},
   "outputs": [
    {
     "data": {
      "text/html": [
       "<div class=\"tfsechead rtl\"><span class=\"ltr\"><a target=\"_blank\" href=\"https://www.deadseascrolls.org.il/explore-the-archive/search#q='1Q1'\" title=\"Show this scroll in the Leon Levy library\" sec=\"1Q1 f1\">1Q1 f1</a></span></div><div class=\"rtl children\"><div class=\"contnr c4  rtl  \" ><div class=\"lbl c4  \" ><span class=\"nd\">fragment</span> <span class=\"txtu hbo\"><span class=\"tfsechead rtl\"><span class=\"ltr\">1Q1 f1</span></span></span></div><div class=\"children hor wrap rtl\"><div class=\"contnr c3  rtl  \" ><div class=\"lbl c3  \" ><span class=\"nd\">line</span></div><div class=\"children hor wrap rtl\"><div class=\"contnr c2  rtl  \" ><div class=\"lbl c2  \" ><span class=\"nd\">cluster</span></div><div class=\"children hor wrap rtl\"><div class=\"contnr c1 trm rtl  \" ><div class=\"lbl c1 trm \" ><span class=\"nd\">word</span> <a target=\"_blank\" href=\"https://www.deadseascrolls.org.il/explore-the-archive\" title=\"Show this scroll in the Leon Levy library\"><span class=\"txtu hbo\"><span class=\"plain rtl  \" ><span class=\"txtu hbo\"><span class=\"rec1\">ו</span></span></span></span></a></div><div class='features'><span class=\"full xft\" ><span class=\"f\">full=</span>[ ו</span></div></div><div class=\"contnr c1 trm rtl  \" ><div class=\"lbl c1 trm \" ><span class=\"nd\">word</span> <a target=\"_blank\" href=\"https://www.deadseascrolls.org.il/explore-the-archive\" title=\"Show this scroll in the Leon Levy library\"><span class=\"txtu hbo\"><span class=\"plain rtl  \" ><span class=\"txtu hbo\"><span class=\"rec1\">י</span></span><span class=\"txtu hbo\"><span class=\"rec1\">ר</span></span><span class=\"txtu hbo\"><span class=\"rec1\">א</span> </span></span></span></a></div><div class='features'><span class=\"full xft\" ><span class=\"f\">full=</span>ירא</span></div></div><div class=\"contnr c1 trm rtl lno \" ><div class=\"lbl c1 trm \" ><span class=\"nd\">word</span> <a target=\"_blank\" href=\"https://www.deadseascrolls.org.il/explore-the-archive\" title=\"Show this scroll in the Leon Levy library\"><span class=\"txtu hbo\"><span class=\"plain rtl lno \" ><span class=\"txtu hbo\"><span class=\"rec1\">א</span></span><span class=\"txtu hbo\"><span class=\"rec1\">ל</span></span></span></span></a></div><div class='features'><span class=\"full xft\" ><span class=\"f\">full=</span>אל ]הים</span></div></div></div></div><div class=\"contnr c1 trm rtl rno \" ><div class=\"lbl c1 trm \" ><span class=\"nd\">word</span> <a target=\"_blank\" href=\"https://www.deadseascrolls.org.il/explore-the-archive\" title=\"Show this scroll in the Leon Levy library\"><span class=\"txtu hbo\"><span class=\"plain rtl rno \" ><span class=\"txtu hbo\">ה</span><span class=\"txtu hbo\">י</span><span class=\"txtu hbo\">ם </span></span></span></a></div><div class='features'><span class=\"full xft\" ><span class=\"f\">full=</span>אל ]הים</span></div></div><div class=\"contnr c1 trm rtl  \" ><div class=\"lbl c1 trm \" ><span class=\"nd\">word</span> <a target=\"_blank\" href=\"https://www.deadseascrolls.org.il/explore-the-archive\" title=\"Show this scroll in the Leon Levy library\"><span class=\"txtu hbo\"><span class=\"plain rtl  \" ><span class=\"txtu hbo\">כ</span><span class=\"txtu hbo\">י </span></span></span></a></div><div class='features'><span class=\"full xft\" ><span class=\"f\">full=</span>כי</span></div></div><div class=\"contnr c2  rtl  \" ><div class=\"lbl c2  \" ><span class=\"nd\">cluster</span></div><div class=\"children hor wrap rtl\"><div class=\"contnr c1 trm rtl  \" ><div class=\"lbl c1 trm \" ><span class=\"nd\">word</span> <a target=\"_blank\" href=\"https://www.deadseascrolls.org.il/explore-the-archive\" title=\"Show this scroll in the Leon Levy library\"><span class=\"txtu hbo\"><span class=\"plain rtl  \" ><span class=\"txtu hbo\"><span class=\"rec1\">ט</span></span><span class=\"txtu hbo\"><span class=\"rec1\">ו</span></span><span class=\"txtu hbo\"><span class=\"rec1\">ב</span> </span></span></span></a></div><div class='features'><span class=\"full xft\" ><span class=\"f\">full=</span>[ טוב</span></div></div><div class=\"contnr c1 trm rtl  \" ><div class=\"lbl c1 trm \" ><span class=\"nd\">word</span> <span class=\"txtu hbo\"><span class=\"plain rtl  \" ><span class=\"txtu hbo\"><span class=\"rec1 empty\"> </span></span><span class=\"txtu hbo\"><span class=\"rec1\">׃</span> </span></span></span></div><div class='features'><span class=\"full xft\" ><span class=\"f\">full=</span>׃</span></div></div><div class=\"contnr c1 trm rtl  \" ><div class=\"lbl c1 trm \" ><span class=\"nd\">word</span> <a target=\"_blank\" href=\"https://www.deadseascrolls.org.il/explore-the-archive\" title=\"Show this scroll in the Leon Levy library\"><span class=\"txtu hbo\"><span class=\"plain rtl  \" ><span class=\"txtu hbo\"><span class=\"rec1\">ו</span></span></span></span></a></div><div class='features'><span class=\"full xft\" ><span class=\"f\">full=</span>ו</span></div></div><div class=\"contnr c1 trm rtl  \" ><div class=\"lbl c1 trm \" ><span class=\"nd\">word</span> <a target=\"_blank\" href=\"https://www.deadseascrolls.org.il/explore-the-archive\" title=\"Show this scroll in the Leon Levy library\"><span class=\"txtu hbo\"><span class=\"plain rtl  \" ><span class=\"txtu hbo\"><span class=\"rec1\">י</span></span><span class=\"txtu hbo\"><span class=\"rec1\">ה</span></span><span class=\"txtu hbo\"><span class=\"rec1\">י</span> </span></span></span></a></div><div class='features'><span class=\"full xft\" ><span class=\"f\">full=</span>יהי</span></div></div><div class=\"contnr c1 trm rtl  \" ><div class=\"lbl c1 trm \" ><span class=\"nd\">word</span> <a target=\"_blank\" href=\"https://www.deadseascrolls.org.il/explore-the-archive\" title=\"Show this scroll in the Leon Levy library\"><span class=\"txtu hbo\"><span class=\"plain rtl  \" ><span class=\"txtu hbo\"><span class=\"rec1\">ע</span></span><span class=\"txtu hbo\"><span class=\"rec1\">ר</span></span><span class=\"txtu hbo\"><span class=\"rec1\">ב</span> </span></span></span></a></div><div class='features'><span class=\"full xft\" ><span class=\"f\">full=</span>ערב</span></div></div><div class=\"contnr c1 trm rtl  \" ><div class=\"lbl c1 trm \" ><span class=\"nd\">word</span> <a target=\"_blank\" href=\"https://www.deadseascrolls.org.il/explore-the-archive\" title=\"Show this scroll in the Leon Levy library\"><span class=\"txtu hbo\"><span class=\"plain rtl  \" ><span class=\"txtu hbo\"><span class=\"rec1\">ו</span></span></span></span></a></div><div class='features'><span class=\"full xft\" ><span class=\"f\">full=</span>ו</span></div></div><div class=\"contnr c1 trm rtl  \" ><div class=\"lbl c1 trm \" ><span class=\"nd\">word</span> <a target=\"_blank\" href=\"https://www.deadseascrolls.org.il/explore-the-archive\" title=\"Show this scroll in the Leon Levy library\"><span class=\"txtu hbo\"><span class=\"plain rtl  \" ><span class=\"txtu hbo\"><span class=\"rec1\">י</span></span><span class=\"txtu hbo\"><span class=\"rec1\">ה</span></span><span class=\"txtu hbo\"><span class=\"rec1\">י</span> </span></span></span></a></div><div class='features'><span class=\"full xft\" ><span class=\"f\">full=</span>יהי</span></div></div><div class=\"contnr c1 trm rtl  \" ><div class=\"lbl c1 trm \" ><span class=\"nd\">word</span> <a target=\"_blank\" href=\"https://www.deadseascrolls.org.il/explore-the-archive\" title=\"Show this scroll in the Leon Levy library\"><span class=\"txtu hbo\"><span class=\"plain rtl  \" ><span class=\"txtu hbo\"><span class=\"rec1\">ב</span></span><span class=\"txtu hbo\"><span class=\"rec1\">ק</span></span><span class=\"txtu hbo\"><span class=\"rec1\">ר</span> </span></span></span></a></div><div class='features'><span class=\"full xft\" ><span class=\"f\">full=</span>בקר</span></div></div><div class=\"contnr c1 trm rtl  \" ><div class=\"lbl c1 trm \" ><span class=\"nd\">word</span> <a target=\"_blank\" href=\"https://www.deadseascrolls.org.il/explore-the-archive\" title=\"Show this scroll in the Leon Levy library\"><span class=\"txtu hbo\"><span class=\"plain rtl  \" ><span class=\"txtu hbo\"><span class=\"rec1\">י</span></span><span class=\"txtu hbo\"><span class=\"rec1\">ו</span></span><span class=\"txtu hbo\"><span class=\"rec1\">ם</span> </span></span></span></a></div><div class='features'><span class=\"full xft\" ><span class=\"f\">full=</span>יום</span></div></div><div class=\"contnr c1 trm rtl  \" ><div class=\"lbl c1 trm \" ><span class=\"nd\">word</span> <a target=\"_blank\" href=\"https://www.deadseascrolls.org.il/explore-the-archive\" title=\"Show this scroll in the Leon Levy library\"><span class=\"txtu hbo\"><span class=\"plain rtl  \" ><span class=\"txtu hbo\"><span class=\"rec1\">ר</span></span><span class=\"txtu hbo\"><span class=\"rec1\">ב</span></span><span class=\"txtu hbo\"><span class=\"rec1\">י</span></span><span class=\"txtu hbo\"><span class=\"rec1\">ע</span></span><span class=\"txtu hbo\"><span class=\"rec1\">י</span> </span></span></span></a></div><div class='features'><span class=\"full xft\" ><span class=\"f\">full=</span>רביעי</span></div></div><div class=\"contnr c1 trm rtl  \" ><div class=\"lbl c1 trm \" ><span class=\"nd\">word</span> <span class=\"txtu hbo\"><span class=\"plain rtl  \" ><span class=\"txtu hbo\"><span class=\"rec1 empty\"> </span></span><span class=\"txtu hbo\"><span class=\"rec1\">׃</span> </span></span></span></div><div class='features'><span class=\"full xft\" ><span class=\"f\">full=</span>׃</span></div></div><div class=\"contnr c1 trm rtl  \" ><div class=\"lbl c1 trm \" ><span class=\"nd\">word</span> <a target=\"_blank\" href=\"https://www.deadseascrolls.org.il/explore-the-archive\" title=\"Show this scroll in the Leon Levy library\"><span class=\"txtu hbo\"><span class=\"plain rtl  \" ><span class=\"txtu hbo\"><span class=\"rec1\">ו</span></span></span></span></a></div><div class='features'><span class=\"full xft\" ><span class=\"f\">full=</span>ו</span></div></div><div class=\"contnr c1 trm rtl  \" ><div class=\"lbl c1 trm \" ><span class=\"nd\">word</span> <a target=\"_blank\" href=\"https://www.deadseascrolls.org.il/explore-the-archive\" title=\"Show this scroll in the Leon Levy library\"><span class=\"txtu hbo\"><span class=\"plain rtl  \" ><span class=\"txtu hbo\"><span class=\"rec1\">י</span></span><span class=\"txtu hbo\"><span class=\"rec1\">א</span></span><span class=\"txtu hbo\"><span class=\"rec1\">מ</span></span><span class=\"txtu hbo\"><span class=\"rec1\">ר</span> </span></span></span></a></div><div class='features'><span class=\"full xft\" ><span class=\"f\">full=</span>יאמר ]</span></div></div></div></div></div></div><div class=\"contnr c3  rtl  \" ><div class=\"lbl c3  \" ><span class=\"nd\">line</span></div><div class=\"children hor wrap rtl\"><div class=\"contnr c2  rtl  \" ><div class=\"lbl c2  \" ><span class=\"nd\">cluster</span></div><div class=\"children hor wrap rtl\"><div class=\"contnr c1 trm rtl  \" ><div class=\"lbl c1 trm \" ><span class=\"nd\">word</span> <a target=\"_blank\" href=\"https://www.deadseascrolls.org.il/explore-the-archive\" title=\"Show this scroll in the Leon Levy library\"><span class=\"txtu hbo\"><span class=\"plain rtl  \" ><span class=\"txtu hbo\"><span class=\"rec1\">א</span></span><span class=\"txtu hbo\"><span class=\"rec1\">ל</span></span><span class=\"txtu hbo\"><span class=\"rec1\">ה</span></span><span class=\"txtu hbo\"><span class=\"rec1\">י</span></span><span class=\"txtu hbo\"><span class=\"rec1\">ם</span> </span></span></span></a></div><div class='features'><span class=\"full xft\" ><span class=\"f\">full=</span>[ אלהים</span></div></div><div class=\"contnr c1 trm rtl lno \" ><div class=\"lbl c1 trm \" ><span class=\"nd\">word</span> <a target=\"_blank\" href=\"https://www.deadseascrolls.org.il/explore-the-archive\" title=\"Show this scroll in the Leon Levy library\"><span class=\"txtu hbo\"><span class=\"plain rtl lno \" ><span class=\"txtu hbo\"><span class=\"rec1\">י</span></span><span class=\"txtu hbo\"><span class=\"rec1\">ש</span></span></span></span></a></div><div class='features'><span class=\"full xft\" ><span class=\"f\">full=</span>יש ]רוצו</span></div></div></div></div><div class=\"contnr c1 trm rtl rno \" ><div class=\"lbl c1 trm \" ><span class=\"nd\">word</span> <a target=\"_blank\" href=\"https://www.deadseascrolls.org.il/explore-the-archive\" title=\"Show this scroll in the Leon Levy library\"><span class=\"txtu hbo\"><span class=\"plain rtl rno \" ><span class=\"txtu hbo\">ר</span><span class=\"txtu hbo\">ו</span><span class=\"txtu hbo\">צ</span><span class=\"txtu hbo\">ו </span></span></span></a></div><div class='features'><span class=\"full xft\" ><span class=\"f\">full=</span>יש ]רוצו</span></div></div><div class=\"contnr c1 trm rtl  \" ><div class=\"lbl c1 trm \" ><span class=\"nd\">word</span> <a target=\"_blank\" href=\"https://www.deadseascrolls.org.il/explore-the-archive\" title=\"Show this scroll in the Leon Levy library\"><span class=\"txtu hbo\"><span class=\"plain rtl  \" ><span class=\"txtu hbo\">ה</span></span></span></a></div><div class='features'><span class=\"full xft\" ><span class=\"f\">full=</span>ה</span></div></div><div class=\"contnr c1 trm rtl  \" ><div class=\"lbl c1 trm \" ><span class=\"nd\">word</span> <a target=\"_blank\" href=\"https://www.deadseascrolls.org.il/explore-the-archive\" title=\"Show this scroll in the Leon Levy library\"><span class=\"txtu hbo\"><span class=\"plain rtl  \" ><span class=\"txtu hbo\">מ</span><span class=\"txtu hbo\">י</span><span class=\"txtu hbo\">ם </span></span></span></a></div><div class='features'><span class=\"full xft\" ><span class=\"f\">full=</span>מים</span></div></div><div class=\"contnr c1 trm rtl lno \" ><div class=\"lbl c1 trm \" ><span class=\"nd\">word</span> <a target=\"_blank\" href=\"https://www.deadseascrolls.org.il/explore-the-archive\" title=\"Show this scroll in the Leon Levy library\"><span class=\"txtu hbo\"><span class=\"plain rtl lno \" ><span class=\"txtu hbo\">ש</span><span class=\"txtu hbo\"><span class=\"unc2\">ר</span></span></span></span></a></div><div class='features'><span class=\"full xft\" ><span class=\"f\">full=</span>שר#[ ץ</span></div></div><div class=\"contnr c2  rtl  \" ><div class=\"lbl c2  \" ><span class=\"nd\">cluster</span></div><div class=\"children hor wrap rtl\"><div class=\"contnr c1 trm rtl rno \" ><div class=\"lbl c1 trm \" ><span class=\"nd\">word</span> <a target=\"_blank\" href=\"https://www.deadseascrolls.org.il/explore-the-archive\" title=\"Show this scroll in the Leon Levy library\"><span class=\"txtu hbo\"><span class=\"plain rtl rno \" ><span class=\"txtu hbo\"><span class=\"rec1\">ץ</span> </span></span></span></a></div><div class='features'><span class=\"full xft\" ><span class=\"f\">full=</span>שר#[ ץ</span></div></div><div class=\"contnr c1 trm rtl  \" ><div class=\"lbl c1 trm \" ><span class=\"nd\">word</span> <a target=\"_blank\" href=\"https://www.deadseascrolls.org.il/explore-the-archive\" title=\"Show this scroll in the Leon Levy library\"><span class=\"txtu hbo\"><span class=\"plain rtl  \" ><span class=\"txtu hbo\"><span class=\"rec1\">נ</span></span><span class=\"txtu hbo\"><span class=\"rec1\">פ</span></span><span class=\"txtu hbo\"><span class=\"rec1\">ש</span> </span></span></span></a></div><div class='features'><span class=\"full xft\" ><span class=\"f\">full=</span>נפש</span></div></div><div class=\"contnr c1 trm rtl  \" ><div class=\"lbl c1 trm \" ><span class=\"nd\">word</span> <a target=\"_blank\" href=\"https://www.deadseascrolls.org.il/explore-the-archive\" title=\"Show this scroll in the Leon Levy library\"><span class=\"txtu hbo\"><span class=\"plain rtl  \" ><span class=\"txtu hbo\"><span class=\"rec1\">ח</span></span><span class=\"txtu hbo\"><span class=\"rec1\">י</span></span><span class=\"txtu hbo\"><span class=\"rec1\">ה</span> </span></span></span></a></div><div class='features'><span class=\"full xft\" ><span class=\"f\">full=</span>חיה</span></div></div><div class=\"contnr c1 trm rtl  \" ><div class=\"lbl c1 trm \" ><span class=\"nd\">word</span> <a target=\"_blank\" href=\"https://www.deadseascrolls.org.il/explore-the-archive\" title=\"Show this scroll in the Leon Levy library\"><span class=\"txtu hbo\"><span class=\"plain rtl  \" ><span class=\"txtu hbo\"><span class=\"rec1\">ו</span></span></span></span></a></div><div class='features'><span class=\"full xft\" ><span class=\"f\">full=</span>ו</span></div></div><div class=\"contnr c1 trm rtl  \" ><div class=\"lbl c1 trm \" ><span class=\"nd\">word</span> <a target=\"_blank\" href=\"https://www.deadseascrolls.org.il/explore-the-archive\" title=\"Show this scroll in the Leon Levy library\"><span class=\"txtu hbo\"><span class=\"plain rtl  \" ><span class=\"txtu hbo\"><span class=\"rec1\">ע</span></span><span class=\"txtu hbo\"><span class=\"rec1\">ו</span></span><span class=\"txtu hbo\"><span class=\"rec1\">ף</span> </span></span></span></a></div><div class='features'><span class=\"full xft\" ><span class=\"f\">full=</span>עוף</span></div></div><div class=\"contnr c1 trm rtl  \" ><div class=\"lbl c1 trm \" ><span class=\"nd\">word</span> <a target=\"_blank\" href=\"https://www.deadseascrolls.org.il/explore-the-archive\" title=\"Show this scroll in the Leon Levy library\"><span class=\"txtu hbo\"><span class=\"plain rtl  \" ><span class=\"txtu hbo\"><span class=\"rec1\">י</span></span><span class=\"txtu hbo\"><span class=\"rec1\">ע</span></span><span class=\"txtu hbo\"><span class=\"rec1\">ו</span></span><span class=\"txtu hbo\"><span class=\"rec1\">פ</span></span><span class=\"txtu hbo\"><span class=\"rec1\">ף</span> </span></span></span></a></div><div class='features'><span class=\"full xft\" ><span class=\"f\">full=</span>יעופף</span></div></div><div class=\"contnr c1 trm rtl  \" ><div class=\"lbl c1 trm \" ><span class=\"nd\">word</span> <a target=\"_blank\" href=\"https://www.deadseascrolls.org.il/explore-the-archive\" title=\"Show this scroll in the Leon Levy library\"><span class=\"txtu hbo\"><span class=\"plain rtl  \" ><span class=\"txtu hbo\"><span class=\"rec1\">ע</span></span><span class=\"txtu hbo\"><span class=\"rec1\">ל</span> </span></span></span></a></div><div class='features'><span class=\"full xft\" ><span class=\"f\">full=</span>על</span></div></div><div class=\"contnr c1 trm rtl  \" ><div class=\"lbl c1 trm \" ><span class=\"nd\">word</span> <a target=\"_blank\" href=\"https://www.deadseascrolls.org.il/explore-the-archive\" title=\"Show this scroll in the Leon Levy library\"><span class=\"txtu hbo\"><span class=\"plain rtl  \" ><span class=\"txtu hbo\"><span class=\"rec1\">ה</span></span></span></span></a></div><div class='features'><span class=\"full xft\" ><span class=\"f\">full=</span>ה</span></div></div><div class=\"contnr c1 trm rtl  \" ><div class=\"lbl c1 trm \" ><span class=\"nd\">word</span> <a target=\"_blank\" href=\"https://www.deadseascrolls.org.il/explore-the-archive\" title=\"Show this scroll in the Leon Levy library\"><span class=\"txtu hbo\"><span class=\"plain rtl  \" ><span class=\"txtu hbo\"><span class=\"rec1\">א</span></span><span class=\"txtu hbo\"><span class=\"rec1\">ר</span></span><span class=\"txtu hbo\"><span class=\"rec1\">ץ</span> </span></span></span></a></div><div class='features'><span class=\"full xft\" ><span class=\"f\">full=</span>ארץ</span></div></div><div class=\"contnr c1 trm rtl  \" ><div class=\"lbl c1 trm \" ><span class=\"nd\">word</span> <a target=\"_blank\" href=\"https://www.deadseascrolls.org.il/explore-the-archive\" title=\"Show this scroll in the Leon Levy library\"><span class=\"txtu hbo\"><span class=\"plain rtl  \" ><span class=\"txtu hbo\"><span class=\"rec1\">ע</span></span><span class=\"txtu hbo\"><span class=\"rec1\">ל</span> </span></span></span></a></div><div class='features'><span class=\"full xft\" ><span class=\"f\">full=</span>על</span></div></div><div class=\"contnr c1 trm rtl  \" ><div class=\"lbl c1 trm \" ><span class=\"nd\">word</span> <a target=\"_blank\" href=\"https://www.deadseascrolls.org.il/explore-the-archive\" title=\"Show this scroll in the Leon Levy library\"><span class=\"txtu hbo\"><span class=\"plain rtl  \" ><span class=\"txtu hbo\"><span class=\"rec1\">פ</span></span><span class=\"txtu hbo\"><span class=\"rec1\">נ</span></span><span class=\"txtu hbo\"><span class=\"rec1\">י</span> </span></span></span></a></div><div class='features'><span class=\"full xft\" ><span class=\"f\">full=</span>פני</span></div></div><div class=\"contnr c1 trm rtl  \" ><div class=\"lbl c1 trm \" ><span class=\"nd\">word</span> <a target=\"_blank\" href=\"https://www.deadseascrolls.org.il/explore-the-archive\" title=\"Show this scroll in the Leon Levy library\"><span class=\"txtu hbo\"><span class=\"plain rtl  \" ><span class=\"txtu hbo\"><span class=\"rec1\">ר</span></span><span class=\"txtu hbo\"><span class=\"rec1\">ק</span></span><span class=\"txtu hbo\"><span class=\"rec1\">י</span></span><span class=\"txtu hbo\"><span class=\"rec1\">ע</span> </span></span></span></a></div><div class='features'><span class=\"full xft\" ><span class=\"f\">full=</span>רקיע</span></div></div><div class=\"contnr c1 trm rtl  \" ><div class=\"lbl c1 trm \" ><span class=\"nd\">word</span> <a target=\"_blank\" href=\"https://www.deadseascrolls.org.il/explore-the-archive\" title=\"Show this scroll in the Leon Levy library\"><span class=\"txtu hbo\"><span class=\"plain rtl  \" ><span class=\"txtu hbo\"><span class=\"rec1\">ה</span></span></span></span></a></div><div class='features'><span class=\"full xft\" ><span class=\"f\">full=</span>ה</span></div></div><div class=\"contnr c1 trm rtl  \" ><div class=\"lbl c1 trm \" ><span class=\"nd\">word</span> <a target=\"_blank\" href=\"https://www.deadseascrolls.org.il/explore-the-archive\" title=\"Show this scroll in the Leon Levy library\"><span class=\"txtu hbo\"><span class=\"plain rtl  \" ><span class=\"txtu hbo\"><span class=\"rec1\">ש</span></span><span class=\"txtu hbo\"><span class=\"rec1\">מ</span></span><span class=\"txtu hbo\"><span class=\"rec1\">י</span></span><span class=\"txtu hbo\"><span class=\"rec1\">ם</span> </span></span></span></a></div><div class='features'><span class=\"full xft\" ><span class=\"f\">full=</span>שמים</span></div></div><div class=\"contnr c1 trm rtl  \" ><div class=\"lbl c1 trm \" ><span class=\"nd\">word</span> <span class=\"txtu hbo\"><span class=\"plain rtl  \" ><span class=\"txtu hbo\"><span class=\"rec1 empty\"> </span></span><span class=\"txtu hbo\"><span class=\"rec1\">׃</span> </span></span></span></div><div class='features'><span class=\"full xft\" ><span class=\"f\">full=</span>׃</span></div></div></div></div></div></div><div class=\"contnr c3  rtl  \" ><div class=\"lbl c3  \" ><span class=\"nd\">line</span></div><div class=\"children hor wrap rtl\"><div class=\"contnr c2  rtl  \" ><div class=\"lbl c2  \" ><span class=\"nd\">cluster</span></div><div class=\"children hor wrap rtl\"><div class=\"contnr c1 trm rtl  \" ><div class=\"lbl c1 trm \" ><span class=\"nd\">word</span> <a target=\"_blank\" href=\"https://www.deadseascrolls.org.il/explore-the-archive\" title=\"Show this scroll in the Leon Levy library\"><span class=\"txtu hbo\"><span class=\"plain rtl  \" ><span class=\"txtu hbo\"><span class=\"rec1\">ו</span></span></span></span></a></div><div class='features'><span class=\"full xft\" ><span class=\"f\">full=</span>[ ו</span></div></div><div class=\"contnr c1 trm rtl  \" ><div class=\"lbl c1 trm \" ><span class=\"nd\">word</span> <a target=\"_blank\" href=\"https://www.deadseascrolls.org.il/explore-the-archive\" title=\"Show this scroll in the Leon Levy library\"><span class=\"txtu hbo\"><span class=\"plain rtl  \" ><span class=\"txtu hbo\"><span class=\"rec1\">י</span></span><span class=\"txtu hbo\"><span class=\"rec1\">ב</span></span><span class=\"txtu hbo\"><span class=\"rec1\">ר</span></span><span class=\"txtu hbo\"><span class=\"rec1\">א</span> </span></span></span></a></div><div class='features'><span class=\"full xft\" ><span class=\"f\">full=</span>יברא</span></div></div><div class=\"contnr c1 trm rtl lno \" ><div class=\"lbl c1 trm \" ><span class=\"nd\">word</span> <a target=\"_blank\" href=\"https://www.deadseascrolls.org.il/explore-the-archive\" title=\"Show this scroll in the Leon Levy library\"><span class=\"txtu hbo\"><span class=\"plain rtl lno \" ><span class=\"txtu hbo\"><span class=\"rec1\">א</span></span></span></span></a></div><div class='features'><span class=\"full xft\" ><span class=\"f\">full=</span>א ]ל[ הים</span></div></div></div></div><div class=\"contnr c1 trm rtl rno lno \" ><div class=\"lbl c1 trm \" ><span class=\"nd\">word</span> <a target=\"_blank\" href=\"https://www.deadseascrolls.org.il/explore-the-archive\" title=\"Show this scroll in the Leon Levy library\"><span class=\"txtu hbo\"><span class=\"plain rtl rno lno \" ><span class=\"txtu hbo\">ל</span></span></span></a></div><div class='features'><span class=\"full xft\" ><span class=\"f\">full=</span>א ]ל[ הים</span></div></div><div class=\"contnr c2  rtl  \" ><div class=\"lbl c2  \" ><span class=\"nd\">cluster</span></div><div class=\"children hor wrap rtl\"><div class=\"contnr c1 trm rtl rno \" ><div class=\"lbl c1 trm \" ><span class=\"nd\">word</span> <a target=\"_blank\" href=\"https://www.deadseascrolls.org.il/explore-the-archive\" title=\"Show this scroll in the Leon Levy library\"><span class=\"txtu hbo\"><span class=\"plain rtl rno \" ><span class=\"txtu hbo\"><span class=\"rec1\">ה</span></span><span class=\"txtu hbo\"><span class=\"rec1\">י</span></span><span class=\"txtu hbo\"><span class=\"rec1\">ם</span> </span></span></span></a></div><div class='features'><span class=\"full xft\" ><span class=\"f\">full=</span>א ]ל[ הים</span></div></div><div class=\"contnr c1 trm rtl  \" ><div class=\"lbl c1 trm \" ><span class=\"nd\">word</span> <a target=\"_blank\" href=\"https://www.deadseascrolls.org.il/explore-the-archive\" title=\"Show this scroll in the Leon Levy library\"><span class=\"txtu hbo\"><span class=\"plain rtl  \" ><span class=\"txtu hbo\"><span class=\"rec1\">א</span></span><span class=\"txtu hbo\"><span class=\"rec1\">ת</span> </span></span></span></a></div><div class='features'><span class=\"full xft\" ><span class=\"f\">full=</span>את</span></div></div><div class=\"contnr c1 trm rtl  \" ><div class=\"lbl c1 trm \" ><span class=\"nd\">word</span> <a target=\"_blank\" href=\"https://www.deadseascrolls.org.il/explore-the-archive\" title=\"Show this scroll in the Leon Levy library\"><span class=\"txtu hbo\"><span class=\"plain rtl  \" ><span class=\"txtu hbo\"><span class=\"rec1\">ה</span></span></span></span></a></div><div class='features'><span class=\"full xft\" ><span class=\"f\">full=</span>ה</span></div></div><div class=\"contnr c1 trm rtl  \" ><div class=\"lbl c1 trm \" ><span class=\"nd\">word</span> <a target=\"_blank\" href=\"https://www.deadseascrolls.org.il/explore-the-archive\" title=\"Show this scroll in the Leon Levy library\"><span class=\"txtu hbo\"><span class=\"plain rtl  \" ><span class=\"txtu hbo\"><span class=\"rec1\">ת</span></span><span class=\"txtu hbo\"><span class=\"rec1\">נ</span></span><span class=\"txtu hbo\"><span class=\"rec1\">י</span></span><span class=\"txtu hbo\"><span class=\"rec1\">נ</span></span><span class=\"txtu hbo\"><span class=\"rec1\">ם</span> </span></span></span></a></div><div class='features'><span class=\"full xft\" ><span class=\"f\">full=</span>תנינם</span></div></div><div class=\"contnr c1 trm rtl  \" ><div class=\"lbl c1 trm \" ><span class=\"nd\">word</span> <a target=\"_blank\" href=\"https://www.deadseascrolls.org.il/explore-the-archive\" title=\"Show this scroll in the Leon Levy library\"><span class=\"txtu hbo\"><span class=\"plain rtl  \" ><span class=\"txtu hbo\"><span class=\"rec1\">ה</span></span></span></span></a></div><div class='features'><span class=\"full xft\" ><span class=\"f\">full=</span>ה</span></div></div><div class=\"contnr c1 trm rtl  \" ><div class=\"lbl c1 trm \" ><span class=\"nd\">word</span> <a target=\"_blank\" href=\"https://www.deadseascrolls.org.il/explore-the-archive\" title=\"Show this scroll in the Leon Levy library\"><span class=\"txtu hbo\"><span class=\"plain rtl  \" ><span class=\"txtu hbo\"><span class=\"rec1\">ג</span></span><span class=\"txtu hbo\"><span class=\"rec1\">ד</span></span><span class=\"txtu hbo\"><span class=\"rec1\">ל</span></span><span class=\"txtu hbo\"><span class=\"rec1\">י</span></span><span class=\"txtu hbo\"><span class=\"rec1\">ם</span> </span></span></span></a></div><div class='features'><span class=\"full xft\" ><span class=\"f\">full=</span>גדלים</span></div></div><div class=\"contnr c1 trm rtl  \" ><div class=\"lbl c1 trm \" ><span class=\"nd\">word</span> <a target=\"_blank\" href=\"https://www.deadseascrolls.org.il/explore-the-archive\" title=\"Show this scroll in the Leon Levy library\"><span class=\"txtu hbo\"><span class=\"plain rtl  \" ><span class=\"txtu hbo\"><span class=\"rec1\">ו</span></span></span></span></a></div><div class='features'><span class=\"full xft\" ><span class=\"f\">full=</span>ו</span></div></div><div class=\"contnr c1 trm rtl  \" ><div class=\"lbl c1 trm \" ><span class=\"nd\">word</span> <a target=\"_blank\" href=\"https://www.deadseascrolls.org.il/explore-the-archive\" title=\"Show this scroll in the Leon Levy library\"><span class=\"txtu hbo\"><span class=\"plain rtl  \" ><span class=\"txtu hbo\"><span class=\"rec1\">א</span></span><span class=\"txtu hbo\"><span class=\"rec1\">ת</span> </span></span></span></a></div><div class='features'><span class=\"full xft\" ><span class=\"f\">full=</span>את</span></div></div><div class=\"contnr c1 trm rtl  \" ><div class=\"lbl c1 trm \" ><span class=\"nd\">word</span> <a target=\"_blank\" href=\"https://www.deadseascrolls.org.il/explore-the-archive\" title=\"Show this scroll in the Leon Levy library\"><span class=\"txtu hbo\"><span class=\"plain rtl  \" ><span class=\"txtu hbo\"><span class=\"rec1\">כ</span></span><span class=\"txtu hbo\"><span class=\"rec1\">ל</span> </span></span></span></a></div><div class='features'><span class=\"full xft\" ><span class=\"f\">full=</span>כל</span></div></div><div class=\"contnr c1 trm rtl  \" ><div class=\"lbl c1 trm \" ><span class=\"nd\">word</span> <a target=\"_blank\" href=\"https://www.deadseascrolls.org.il/explore-the-archive\" title=\"Show this scroll in the Leon Levy library\"><span class=\"txtu hbo\"><span class=\"plain rtl  \" ><span class=\"txtu hbo\"><span class=\"rec1\">נ</span></span><span class=\"txtu hbo\"><span class=\"rec1\">פ</span></span><span class=\"txtu hbo\"><span class=\"rec1\">ש</span> </span></span></span></a></div><div class='features'><span class=\"full xft\" ><span class=\"f\">full=</span>נפש</span></div></div><div class=\"contnr c1 trm rtl  \" ><div class=\"lbl c1 trm \" ><span class=\"nd\">word</span> <a target=\"_blank\" href=\"https://www.deadseascrolls.org.il/explore-the-archive\" title=\"Show this scroll in the Leon Levy library\"><span class=\"txtu hbo\"><span class=\"plain rtl  \" ><span class=\"txtu hbo\"><span class=\"rec1\">ה</span></span></span></span></a></div><div class='features'><span class=\"full xft\" ><span class=\"f\">full=</span>ה</span></div></div><div class=\"contnr c1 trm rtl  \" ><div class=\"lbl c1 trm \" ><span class=\"nd\">word</span> <a target=\"_blank\" href=\"https://www.deadseascrolls.org.il/explore-the-archive\" title=\"Show this scroll in the Leon Levy library\"><span class=\"txtu hbo\"><span class=\"plain rtl  \" ><span class=\"txtu hbo\"><span class=\"rec1\">ח</span></span><span class=\"txtu hbo\"><span class=\"rec1\">י</span></span><span class=\"txtu hbo\"><span class=\"rec1\">ה</span> </span></span></span></a></div><div class='features'><span class=\"full xft\" ><span class=\"f\">full=</span>חיה</span></div></div><div class=\"contnr c1 trm rtl  \" ><div class=\"lbl c1 trm \" ><span class=\"nd\">word</span> <a target=\"_blank\" href=\"https://www.deadseascrolls.org.il/explore-the-archive\" title=\"Show this scroll in the Leon Levy library\"><span class=\"txtu hbo\"><span class=\"plain rtl  \" ><span class=\"txtu hbo\"><span class=\"rec1\">ה</span></span></span></span></a></div><div class='features'><span class=\"full xft\" ><span class=\"f\">full=</span>ה</span></div></div><div class=\"contnr c1 trm rtl  \" ><div class=\"lbl c1 trm \" ><span class=\"nd\">word</span> <a target=\"_blank\" href=\"https://www.deadseascrolls.org.il/explore-the-archive\" title=\"Show this scroll in the Leon Levy library\"><span class=\"txtu hbo\"><span class=\"plain rtl  \" ><span class=\"txtu hbo\"><span class=\"rec1\">ר</span></span><span class=\"txtu hbo\"><span class=\"rec1\">מ</span></span><span class=\"txtu hbo\"><span class=\"rec1\">ש</span></span><span class=\"txtu hbo\"><span class=\"rec1\">ת</span> </span></span></span></a></div><div class='features'><span class=\"full xft\" ><span class=\"f\">full=</span>רמשת</span></div></div><div class=\"contnr c1 trm rtl  \" ><div class=\"lbl c1 trm \" ><span class=\"nd\">word</span> <a target=\"_blank\" href=\"https://www.deadseascrolls.org.il/explore-the-archive\" title=\"Show this scroll in the Leon Levy library\"><span class=\"txtu hbo\"><span class=\"plain rtl  \" ><span class=\"txtu hbo\"><span class=\"rec1\">א</span></span><span class=\"txtu hbo\"><span class=\"rec1\">ש</span></span><span class=\"txtu hbo\"><span class=\"rec1\">ר</span> </span></span></span></a></div><div class='features'><span class=\"full xft\" ><span class=\"f\">full=</span>אשר</span></div></div><div class=\"contnr c1 trm rtl  \" ><div class=\"lbl c1 trm \" ><span class=\"nd\">word</span> <a target=\"_blank\" href=\"https://www.deadseascrolls.org.il/explore-the-archive\" title=\"Show this scroll in the Leon Levy library\"><span class=\"txtu hbo\"><span class=\"plain rtl  \" ><span class=\"txtu hbo\"><span class=\"rec1\">ש</span></span><span class=\"txtu hbo\"><span class=\"rec1\">ר</span></span><span class=\"txtu hbo\"><span class=\"rec1\">צ</span></span><span class=\"txtu hbo\"><span class=\"rec1\">ו</span> </span></span></span></a></div><div class='features'><span class=\"full xft\" ><span class=\"f\">full=</span>שרצו</span></div></div><div class=\"contnr c1 trm rtl  \" ><div class=\"lbl c1 trm \" ><span class=\"nd\">word</span> <a target=\"_blank\" href=\"https://www.deadseascrolls.org.il/explore-the-archive\" title=\"Show this scroll in the Leon Levy library\"><span class=\"txtu hbo\"><span class=\"plain rtl  \" ><span class=\"txtu hbo\"><span class=\"rec1\">ה</span></span></span></span></a></div><div class='features'><span class=\"full xft\" ><span class=\"f\">full=</span>ה</span></div></div><div class=\"contnr c1 trm rtl  \" ><div class=\"lbl c1 trm \" ><span class=\"nd\">word</span> <a target=\"_blank\" href=\"https://www.deadseascrolls.org.il/explore-the-archive\" title=\"Show this scroll in the Leon Levy library\"><span class=\"txtu hbo\"><span class=\"plain rtl  \" ><span class=\"txtu hbo\"><span class=\"rec1\">מ</span></span><span class=\"txtu hbo\"><span class=\"rec1\">י</span></span><span class=\"txtu hbo\"><span class=\"rec1\">ם</span> </span></span></span></a></div><div class='features'><span class=\"full xft\" ><span class=\"f\">full=</span>מים ]</span></div></div></div></div><div class=\"contnr c1 trm rtl  \" ><div class=\"lbl c1 trm \" ><span class=\"nd\">word</span> <span class=\"txtu hbo\"><span class=\"plain rtl  \" ><span class=\"txtu hbo\"> </span><span class=\"txtu hbo\">׃ </span></span></span></div><div class='features'><span class=\"full xft\" ><span class=\"f\">full=</span>׃</span></div></div></div></div></div></div></div>"
      ],
      "text/plain": [
       "<IPython.core.display.HTML object>"
      ]
     },
     "metadata": {},
     "output_type": "display_data"
    }
   ],
   "source": [
    "A.pretty(f, extraFeatures=\"full\", fmt=\"layout-orig-full\", withNodes=False, full=True)"
   ]
  },
  {
   "cell_type": "markdown",
   "metadata": {
    "tags": []
   },
   "source": [
    "# Clauses and Phrases\n",
    "\n",
    "Martijn is working on clause and phrase boundaries.\n",
    "\n",
    "A sneak preview is available in version 0.9.\n",
    "\n",
    "You can get that version by\n",
    "\n",
    "```\n",
    "A = use(\"dss:hot\", version=\"0.9\")\n",
    "```\n",
    "\n",
    "Let's pick the first clause that has been marked as such (not the whole corpus has clauses and phrases marked),\n",
    "and show that clause."
   ]
  },
  {
   "cell_type": "code",
   "execution_count": 6,
   "metadata": {},
   "outputs": [],
   "source": [
    "c0 = F.otype.s(\"clause\")[0]"
   ]
  },
  {
   "cell_type": "code",
   "execution_count": 7,
   "metadata": {},
   "outputs": [
    {
     "data": {
      "text/html": [
       "<div class=\"tfsechead rtl\"><span class=\"ltr\"><a target=\"_blank\" href=\"https://www.deadseascrolls.org.il/explore-the-archive/search#q='1Qisaa'\" title=\"Show this scroll in the Leon Levy library\" sec=\"1Qisaa 1:1\">1Qisaa 1:1</a></span></div><div class=\"rtl children\"><div class=\"contnr c2  rtl  \" ><div class=\"lbl c2  \" ><span class=\"nd\">clause</span></div><div class=\"children hor wrap rtl\"><div class=\"contnr c1  rtl lno \" ><div class=\"lbl c1  \" ><span class=\"nd\">phrase</span></div><div class=\"children hor wrap rtl\"><div class=\"contnr c1 trm rtl  \" ><div class=\"lbl c1 trm \" ><span class=\"nd\">word</span> <a target=\"_blank\" href=\"https://www.deadseascrolls.org.il/explore-the-archive\" title=\"Show this scroll in the Leon Levy library\"><span class=\"txtu hbo\"><span class=\"plain rtl  \" ><span class=\"txtu hbo\">ח</span><span class=\"txtu hbo\">ז</span><span class=\"txtu hbo\">ו</span><span class=\"txtu hbo\">ן </span></span></span></a></div></div><div class=\"contnr c1 trm rtl lno \" ><div class=\"lbl c1 trm \" ><span class=\"nd\">word</span> <a target=\"_blank\" href=\"https://www.deadseascrolls.org.il/explore-the-archive\" title=\"Show this scroll in the Leon Levy library\"><span class=\"txtu hbo\"><span class=\"plain rtl lno \" ><span class=\"txtu hbo\">י</span><span class=\"txtu hbo\">ש</span></span></span></a></div></div></div></div><div class=\"contnr c2  rtl  \" ><div class=\"lbl c2  \" ><span class=\"nd\">cluster</span></div><div class=\"children hor wrap rtl\"><div class=\"contnr c1  rtl rno lno \" ><div class=\"lbl c1  \" ><span class=\"nd\">phrase</span></div><div class=\"children hor wrap rtl\"><div class=\"contnr c1 trm rtl rno lno \" ><div class=\"lbl c1 trm \" ><span class=\"nd\">word</span> <a target=\"_blank\" href=\"https://www.deadseascrolls.org.il/explore-the-archive\" title=\"Show this scroll in the Leon Levy library\"><span class=\"txtu hbo\"><span class=\"plain rtl rno lno \" ><span class=\"txtu hbo\">ע</span></span></span></a></div></div></div></div></div></div><div class=\"contnr c1  rtl rno \" ><div class=\"lbl c1  \" ><span class=\"nd\">phrase</span></div><div class=\"children hor wrap rtl\"><div class=\"contnr c1 trm rtl rno \" ><div class=\"lbl c1 trm \" ><span class=\"nd\">word</span> <a target=\"_blank\" href=\"https://www.deadseascrolls.org.il/explore-the-archive\" title=\"Show this scroll in the Leon Levy library\"><span class=\"txtu hbo\"><span class=\"plain rtl rno \" ><span class=\"txtu hbo\">י</span><span class=\"txtu hbo\">ה</span><span class=\"txtu hbo\">ו </span></span></span></a></div></div><div class=\"contnr c1 trm rtl  \" ><div class=\"lbl c1 trm \" ><span class=\"nd\">word</span> <a target=\"_blank\" href=\"https://www.deadseascrolls.org.il/explore-the-archive\" title=\"Show this scroll in the Leon Levy library\"><span class=\"txtu hbo\"><span class=\"plain rtl  \" ><span class=\"txtu hbo\">ב</span><span class=\"txtu hbo\">ן </span></span></span></a></div></div><div class=\"contnr c1 trm rtl  \" ><div class=\"lbl c1 trm \" ><span class=\"nd\">word</span> <a target=\"_blank\" href=\"https://www.deadseascrolls.org.il/explore-the-archive\" title=\"Show this scroll in the Leon Levy library\"><span class=\"txtu hbo\"><span class=\"plain rtl  \" ><span class=\"txtu hbo\">א</span><span class=\"txtu hbo\">מ</span><span class=\"txtu hbo\">ו</span><span class=\"txtu hbo\">ץ </span></span></span></a></div></div></div></div></div></div></div>"
      ],
      "text/plain": [
       "<IPython.core.display.HTML object>"
      ]
     },
     "metadata": {},
     "output_type": "display_data"
    }
   ],
   "source": [
    "A.pretty(c0)"
   ]
  },
  {
   "cell_type": "markdown",
   "metadata": {},
   "source": [
    "# Layout formats: the details\n",
    "\n",
    "We give detailed examples of how the material is styled in the `layout-` formats.\n",
    "\n",
    "We show the representation of all kinds of signs and also what the influence of\n",
    "clustering and flags are.\n",
    "\n",
    "Here are the design principles:\n",
    "\n",
    "* when the color changes as per one the cases below, the font will be bolded, except\n",
    "  for reconstructions\n",
    "* uncertain text `? # (# #) #? ##`\n",
    "  cause the signs in their scope to be in italics, grey and blurry,\n",
    "  increasingly so as the degree of uncertainty goes up from 1 to 4\n",
    "* alternate text `( )` is overlined\n",
    "* vacats `(- -)` have a red border\n",
    "* reconstructions `[ ]` are in color teal and in a smaller font\n",
    "* removed text is striked through, if by an ancient editor `{{ }}` it is set in color maroon\n",
    "  if by a modern editor, the color is red\n",
    "* corrected text is overlined, if by an ancient editor `<< >>` the color is navy,\n",
    "  if supralinear (also ancient editor) `^ ^` the color is also navy\n",
    "  and the text is superscripted, if by a modern editor `< >` the color is dodgerblue\n",
    "* interlinear text is subscripted or extra subscripted (depending on the interlinear value 1 or 2)\n",
    "* non-Hebrew text (Aramaic or Greek) is underlined\n",
    "* text that is marked by script (paleo Hebrew or Greek Capital) gets a straight border around it"
   ]
  },
  {
   "cell_type": "markdown",
   "metadata": {},
   "source": [
    "Just a quick overview of the cluster types:"
   ]
  },
  {
   "cell_type": "code",
   "execution_count": 22,
   "metadata": {},
   "outputs": [
    {
     "data": {
      "text/plain": [
       "(('rec', 93733),\n",
       " ('vac', 3522),\n",
       " ('cor3', 1582),\n",
       " ('unc2', 906),\n",
       " ('rem2', 706),\n",
       " ('alt', 333),\n",
       " ('cor2', 147),\n",
       " ('cor', 95),\n",
       " ('rem', 75))"
      ]
     },
     "execution_count": 22,
     "metadata": {},
     "output_type": "execute_result"
    }
   ],
   "source": [
    "clusterFreqs = F.type.freqList(nodeTypes={\"cluster\"})\n",
    "clusterFreqs"
   ]
  },
  {
   "cell_type": "code",
   "execution_count": 23,
   "metadata": {
    "lines_to_next_cell": 2
   },
   "outputs": [],
   "source": [
    "clusterTypes = [x[0] for x in clusterFreqs]\n",
    "clusterNodes = F.otype.s(\"cluster\")\n",
    "clusterByType = {\n",
    "    typ: [n for n in clusterNodes if F.type.v(n) == typ] for typ in clusterTypes\n",
    "}\n",
    "clusterExamples = {typ: clusterByType[typ][0:2] for typ in clusterTypes}"
   ]
  },
  {
   "cell_type": "markdown",
   "metadata": {
    "lines_to_next_cell": 2
   },
   "source": [
    "We have now example nodes for each type of cluster.\n",
    "\n",
    "Likewise, we want examples of the uncertain flag, the languages, the scripts, the interlinears.\n",
    "\n",
    "We write a generic function to provide example nodes for each value that a `feature` of interest can have.\n",
    "Of all those nodes, we select a sub list, from `start` to `end`."
   ]
  },
  {
   "cell_type": "code",
   "execution_count": 24,
   "metadata": {},
   "outputs": [],
   "source": [
    "def compileExamples(feature, start, end):\n",
    "    print(f'Examples for feature \"{feature}\"')\n",
    "    fObj = Fs(feature)\n",
    "    f = fObj.v\n",
    "    freqs = fObj.freqList()\n",
    "    for (c, amount) in freqs:\n",
    "        print(f\"\\t{c} occurs {amount:>6} x\")\n",
    "    values = [x[0] for x in freqs]\n",
    "    nodes = [n for n in F.otype.s(\"sign\") if f(n)]\n",
    "    nodesByValue = {v: [n for n in nodes if f(n) == v] for v in values}\n",
    "    print(f'\\t{len(nodes)} nodes have the feature \"{feature}\"')\n",
    "    examples = {\n",
    "        f'{feature}{\"\" if v == 0 else v}': nodesByValue[v][start - 1 : end]\n",
    "        for v in values\n",
    "    }\n",
    "    for (v, ns) in examples.items():\n",
    "        print(f'\\t{v:<10} {\", \".join(str(n) for n in ns)}')\n",
    "    return examples"
   ]
  },
  {
   "cell_type": "markdown",
   "metadata": {},
   "source": [
    "We collect the examples in a dictionary `allExamples`, keyed by a string that combines the feature name with\n",
    "a value.\n",
    "\n",
    "**For the technically inclined:**\n",
    "In the TF-app for DSS, we use that key as a CSS class name to trigger special formatting.\n",
    "\n",
    "The following link takes you directly to where that happens.\n",
    "[display.css](https://github.com/annotation/app-dss/blob/d430bfe1601ff961bbed425e1c6a7a3934a81ba8/code/static/display.css#L209-L280)."
   ]
  },
  {
   "cell_type": "code",
   "execution_count": 25,
   "metadata": {},
   "outputs": [
    {
     "name": "stdout",
     "output_type": "stream",
     "text": [
      "Examples for feature \"unc\"\n",
      "\t4 occurs  40167 x\n",
      "\t2 occurs  27146 x\n",
      "\t3 occurs  14629 x\n",
      "\t1 occurs  10324 x\n",
      "\t92266 nodes have the feature \"unc\"\n",
      "\tunc4       1790, 4126\n",
      "\tunc2       1550, 1570\n",
      "\tunc3       1791, 4981\n",
      "\tunc1       113, 1344\n",
      "Examples for feature \"lang\"\n",
      "\ta occurs 185116 x\n",
      "\tg occurs     23 x\n",
      "\t135728 nodes have the feature \"lang\"\n",
      "\tlanga      105433, 105434, 105435, 105436, 105437, 105438, 105439, 105440, 105441\n",
      "\tlangg      140918, 140919, 141116, 141117, 141118, 141207, 141208, 141254, 141255\n",
      "Examples for feature \"script\"\n",
      "\tpaleohebrew occurs   4087 x\n",
      "\tgreekcapital occurs     23 x\n",
      "\t3314 nodes have the feature \"script\"\n",
      "\tscriptpaleohebrew 39204, 39205, 39206, 41066, 41067, 41068, 41069, 41090, 41091\n",
      "\tscriptgreekcapital 140918, 140919, 141116, 141117, 141118, 141207, 141208, 141254, 141255\n",
      "Examples for feature \"intl\"\n",
      "\t1 occurs   1573 x\n",
      "\t2 occurs     59 x\n",
      "\t1189 nodes have the feature \"intl\"\n",
      "\tintl1      103664, 103665\n",
      "\tintl2      196270, 196271\n"
     ]
    }
   ],
   "source": [
    "allExamples = {}\n",
    "allExamples.update(clusterExamples)\n",
    "\n",
    "for (feature, start, end) in (\n",
    "    (\"unc\", 1, 2),\n",
    "    (\"lang\", 2, 10),\n",
    "    (\"script\", 2, 10),\n",
    "    (\"intl\", 1, 2),\n",
    "):\n",
    "    allExamples.update(compileExamples(feature, start, end))"
   ]
  },
  {
   "cell_type": "code",
   "execution_count": 26,
   "metadata": {},
   "outputs": [
    {
     "data": {
      "text/plain": [
       "{'rec': [1430281, 1430324],\n",
       " 'vac': [1430242, 1430243],\n",
       " 'cor3': [1430267, 1430286],\n",
       " 'unc2': [1550, 1570],\n",
       " 'rem2': [1430266, 1430314],\n",
       " 'alt': [1443189, 1443791],\n",
       " 'cor2': [1430297, 1430551],\n",
       " 'cor': [1430246, 1430249],\n",
       " 'rem': [1430248, 1430250],\n",
       " 'unc4': [1790, 4126],\n",
       " 'unc3': [1791, 4981],\n",
       " 'unc1': [113, 1344],\n",
       " 'langa': [105433,\n",
       "  105434,\n",
       "  105435,\n",
       "  105436,\n",
       "  105437,\n",
       "  105438,\n",
       "  105439,\n",
       "  105440,\n",
       "  105441],\n",
       " 'langg': [140918,\n",
       "  140919,\n",
       "  141116,\n",
       "  141117,\n",
       "  141118,\n",
       "  141207,\n",
       "  141208,\n",
       "  141254,\n",
       "  141255],\n",
       " 'scriptpaleohebrew': [39204,\n",
       "  39205,\n",
       "  39206,\n",
       "  41066,\n",
       "  41067,\n",
       "  41068,\n",
       "  41069,\n",
       "  41090,\n",
       "  41091],\n",
       " 'scriptgreekcapital': [140918,\n",
       "  140919,\n",
       "  141116,\n",
       "  141117,\n",
       "  141118,\n",
       "  141207,\n",
       "  141208,\n",
       "  141254,\n",
       "  141255],\n",
       " 'intl1': [103664, 103665],\n",
       " 'intl2': [196270, 196271]}"
      ]
     },
     "execution_count": 26,
     "metadata": {},
     "output_type": "execute_result"
    }
   ],
   "source": [
    "allExamples"
   ]
  },
  {
   "cell_type": "code",
   "execution_count": 27,
   "metadata": {},
   "outputs": [
    {
     "data": {
      "text/markdown": [
       "---\n"
      ],
      "text/plain": [
       "<IPython.core.display.Markdown object>"
      ]
     },
     "metadata": {},
     "output_type": "display_data"
    },
    {
     "name": "stdout",
     "output_type": "stream",
     "text": [
      "Examples of \"alt\"\n"
     ]
    },
    {
     "data": {
      "text/html": [
       "<div class=\"section rtl\"><a target=\"_blank\" href=\"https://www.deadseascrolls.org.il/explore-the-archive/search#q='4Q221'\" title=\"Show this scroll in the Leon Levy library\" sec=\"4Q221 f3:3\">4Q221 f3:3</a></div><div class=\"rtl children\"><div class=\"contnr c1 trm rtl  \" ><div class=\"lbl c1 trm \" ><span class=\"nd\">word:1689343</span> <span class=\"txtu hbo\"><span class=\"plain rtl  \" ><span class=\"txtu hbo\"><span class=\"rec1 alt1\"> </span></span><span class=\"txtu hbo\"><span class=\"rec1 alt1\"> </span> </span></span></span></div></div></div>"
      ],
      "text/plain": [
       "<IPython.core.display.HTML object>"
      ]
     },
     "metadata": {},
     "output_type": "display_data"
    },
    {
     "data": {
      "text/html": [
       "<div class=\"section rtl\"><a target=\"_blank\" href=\"https://www.deadseascrolls.org.il/explore-the-archive/search#q='4Q214a'\" title=\"Show this scroll in the Leon Levy library\" sec=\"4Q214a f1:1\">4Q214a f1:1</a></div><div class=\"rtl children\"><div class=\"contnr c1 trm rtl  \" ><div class=\"lbl c1 trm \" ><span class=\"nd\">word:1685887</span> <a target=\"_blank\" href=\"https://www.deadseascrolls.org.il/explore-the-archive\" title=\"Show this scroll in the Leon Levy library\"><span class=\"txtu hbo\"><span class=\"plain rtl  \" ><span class=\"txtu hbo\"><span class=\"langa rec1 alt1\">ת</span></span><span class=\"txtu hbo\"><span class=\"langa rec1 alt1\">ח</span></span><span class=\"txtu hbo\"><span class=\"langa rec1\">ו</span></span><span class=\"txtu hbo\"><span class=\"langa rec1\">ת</span> </span></span></span></a></div></div></div>"
      ],
      "text/plain": [
       "<IPython.core.display.HTML object>"
      ]
     },
     "metadata": {},
     "output_type": "display_data"
    },
    {
     "data": {
      "text/markdown": [
       "---\n"
      ],
      "text/plain": [
       "<IPython.core.display.Markdown object>"
      ]
     },
     "metadata": {},
     "output_type": "display_data"
    },
    {
     "name": "stdout",
     "output_type": "stream",
     "text": [
      "Examples of \"cor\"\n"
     ]
    },
    {
     "data": {
      "text/html": [
       "<div class=\"section rtl\"><a target=\"_blank\" href=\"https://www.deadseascrolls.org.il/explore-the-archive/search#q='CD'\" title=\"Show this scroll in the Leon Levy library\" sec=\"CD 2:12\">CD 2:12</a></div><div class=\"rtl children\"><div class=\"contnr c1 trm rtl  \" ><div class=\"lbl c1 trm \" ><span class=\"nd\">word:1607315</span> <a target=\"_blank\" href=\"https://www.deadseascrolls.org.il/explore-the-archive\" title=\"Show this scroll in the Leon Levy library\"><span class=\"txtu hbo\"><span class=\"plain rtl  \" ><span class=\"txtu hbo\">מ</span><span class=\"txtu hbo\">ש</span><span class=\"txtu hbo\">י</span><span class=\"txtu hbo\">ח</span><span class=\"txtu hbo\"><span class=\"rem1\">ו</span></span><span class=\"txtu hbo\"><span class=\"cor1\">י</span> </span></span></span></a></div></div></div>"
      ],
      "text/plain": [
       "<IPython.core.display.HTML object>"
      ]
     },
     "metadata": {},
     "output_type": "display_data"
    },
    {
     "data": {
      "text/html": [
       "<div class=\"section rtl\"><a target=\"_blank\" href=\"https://www.deadseascrolls.org.il/explore-the-archive/search#q='CD'\" title=\"Show this scroll in the Leon Levy library\" sec=\"CD 2:6\">CD 2:6</a></div><div class=\"rtl children\"><div class=\"contnr c1 trm rtl  \" ><div class=\"lbl c1 trm \" ><span class=\"nd\">word:1607215</span> <a target=\"_blank\" href=\"https://www.deadseascrolls.org.il/explore-the-archive\" title=\"Show this scroll in the Leon Levy library\"><span class=\"txtu hbo\"><span class=\"plain rtl  \" ><span class=\"txtu hbo\">י</span><span class=\"txtu hbo\"><span class=\"cor1\">ד</span></span><span class=\"txtu hbo\"><span class=\"cor1\">י</span> </span></span></span></a></div></div></div>"
      ],
      "text/plain": [
       "<IPython.core.display.HTML object>"
      ]
     },
     "metadata": {},
     "output_type": "display_data"
    },
    {
     "data": {
      "text/markdown": [
       "---\n"
      ],
      "text/plain": [
       "<IPython.core.display.Markdown object>"
      ]
     },
     "metadata": {},
     "output_type": "display_data"
    },
    {
     "name": "stdout",
     "output_type": "stream",
     "text": [
      "Examples of \"cor2\"\n"
     ]
    },
    {
     "data": {
      "text/html": [
       "<div class=\"section rtl\"><a target=\"_blank\" href=\"https://www.deadseascrolls.org.il/explore-the-archive/search#q='CD'\" title=\"Show this scroll in the Leon Levy library\" sec=\"CD 8:15\">CD 8:15</a></div><div class=\"rtl children\"><div class=\"contnr c1 trm rtl  \" ><div class=\"lbl c1 trm \" ><span class=\"nd\">word:1609162</span> <a target=\"_blank\" href=\"https://www.deadseascrolls.org.il/explore-the-archive\" title=\"Show this scroll in the Leon Levy library\"><span class=\"txtu hbo\"><span class=\"plain rtl  \" ><span class=\"txtu hbo\">א</span><span class=\"txtu hbo\">ב</span><span class=\"txtu hbo\">ו</span><span class=\"txtu hbo\">ת</span><span class=\"txtu hbo\"><span class=\"cor2\">י</span></span><span class=\"txtu hbo\">׳</span><span class=\"txtu hbo\">ך </span></span></span></a></div></div></div>"
      ],
      "text/plain": [
       "<IPython.core.display.HTML object>"
      ]
     },
     "metadata": {},
     "output_type": "display_data"
    },
    {
     "data": {
      "text/html": [
       "<div class=\"section rtl\"><a target=\"_blank\" href=\"https://www.deadseascrolls.org.il/explore-the-archive/search#q='1QS'\" title=\"Show this scroll in the Leon Levy library\" sec=\"1QS 1:16\">1QS 1:16</a></div><div class=\"rtl children\"><div class=\"contnr c1 trm rtl  \" ><div class=\"lbl c1 trm \" ><span class=\"nd\">word:1613222</span> <a target=\"_blank\" href=\"https://www.deadseascrolls.org.il/explore-the-archive\" title=\"Show this scroll in the Leon Levy library\"><span class=\"txtu hbo\"><span class=\"plain rtl  \" ><span class=\"txtu hbo\">י</span><span class=\"txtu hbo\"><span class=\"rem2\">א</span></span><span class=\"txtu hbo\"><span class=\"cor2\">ע</span></span><span class=\"txtu hbo\">ב</span><span class=\"txtu hbo\">ו</span><span class=\"txtu hbo\">ר</span><span class=\"txtu hbo\">ו </span></span></span></a></div></div></div>"
      ],
      "text/plain": [
       "<IPython.core.display.HTML object>"
      ]
     },
     "metadata": {},
     "output_type": "display_data"
    },
    {
     "data": {
      "text/markdown": [
       "---\n"
      ],
      "text/plain": [
       "<IPython.core.display.Markdown object>"
      ]
     },
     "metadata": {},
     "output_type": "display_data"
    },
    {
     "name": "stdout",
     "output_type": "stream",
     "text": [
      "Examples of \"cor3\"\n"
     ]
    },
    {
     "data": {
      "text/html": [
       "<div class=\"section rtl\"><a target=\"_blank\" href=\"https://www.deadseascrolls.org.il/explore-the-archive/search#q='CD'\" title=\"Show this scroll in the Leon Levy library\" sec=\"CD 7:13\">CD 7:13</a></div><div class=\"rtl children\"><div class=\"contnr c1 trm rtl  \" ><div class=\"lbl c1 trm \" ><span class=\"nd\">word:1608826</span> <a target=\"_blank\" href=\"https://www.deadseascrolls.org.il/explore-the-archive\" title=\"Show this scroll in the Leon Levy library\"><span class=\"txtu hbo\"><span class=\"plain rtl  \" ><span class=\"txtu hbo\">ה</span><span class=\"txtu hbo\"><span class=\"unc1 cor3\">ו</span></span><span class=\"txtu hbo\">ס</span><span class=\"txtu hbo\">ג</span><span class=\"txtu hbo\">ר</span><span class=\"txtu hbo\">ו </span></span></span></a></div></div></div>"
      ],
      "text/plain": [
       "<IPython.core.display.HTML object>"
      ]
     },
     "metadata": {},
     "output_type": "display_data"
    },
    {
     "data": {
      "text/html": [
       "<div class=\"section rtl\"><a target=\"_blank\" href=\"https://www.deadseascrolls.org.il/explore-the-archive/search#q='CD'\" title=\"Show this scroll in the Leon Levy library\" sec=\"CD 5:4\">CD 5:4</a></div><div class=\"rtl children\"><div class=\"contnr c1 trm rtl  \" ><div class=\"lbl c1 trm \" ><span class=\"nd\">word:1608092</span> <a target=\"_blank\" href=\"https://www.deadseascrolls.org.il/explore-the-archive\" title=\"Show this scroll in the Leon Levy library\"><span class=\"txtu hbo\"><span class=\"plain rtl  \" ><span class=\"txtu hbo\">י</span><span class=\"txtu hbo\">ו</span><span class=\"txtu hbo\">ש</span><span class=\"txtu hbo\"><span class=\"cor3\">ו</span></span><span class=\"txtu hbo\">ע </span></span></span></a></div></div></div>"
      ],
      "text/plain": [
       "<IPython.core.display.HTML object>"
      ]
     },
     "metadata": {},
     "output_type": "display_data"
    },
    {
     "data": {
      "text/markdown": [
       "---\n"
      ],
      "text/plain": [
       "<IPython.core.display.Markdown object>"
      ]
     },
     "metadata": {},
     "output_type": "display_data"
    },
    {
     "name": "stdout",
     "output_type": "stream",
     "text": [
      "Examples of \"intl1\"\n"
     ]
    },
    {
     "data": {
      "text/html": [
       "<div class=\"section rtl\"><a target=\"_blank\" href=\"https://www.deadseascrolls.org.il/explore-the-archive/search#q='1Q15'\" title=\"Show this scroll in the Leon Levy library\" sec=\"1Q15 f1:2\">1Q15 f1:2</a></div><div class=\"rtl children\"><div class=\"contnr c1 trm rtl  \" ><div class=\"lbl c1 trm \" ><span class=\"nd\">word:1642031</span> <a target=\"_blank\" href=\"https://www.deadseascrolls.org.il/explore-the-archive\" title=\"Show this scroll in the Leon Levy library\"><span class=\"txtu hbo\"><span class=\"plain rtl  \" ><span class=\"txtu hbo\"><span class=\"intl1 rec1 empty\"> </span></span><span class=\"txtu hbo\"><span class=\"intl1 rec1\">ε</span> </span></span></span></a></div></div></div>"
      ],
      "text/plain": [
       "<IPython.core.display.HTML object>"
      ]
     },
     "metadata": {},
     "output_type": "display_data"
    },
    {
     "data": {
      "text/markdown": [
       "---\n"
      ],
      "text/plain": [
       "<IPython.core.display.Markdown object>"
      ]
     },
     "metadata": {},
     "output_type": "display_data"
    },
    {
     "name": "stdout",
     "output_type": "stream",
     "text": [
      "Examples of \"intl2\"\n"
     ]
    },
    {
     "data": {
      "text/html": [
       "<div class=\"section rtl\"><a target=\"_blank\" href=\"https://www.deadseascrolls.org.il/explore-the-archive/search#q='4Q202'\" title=\"Show this scroll in the Leon Levy library\" sec=\"4Q202 f1ii:25\">4Q202 f1ii:25</a></div><div class=\"rtl children\"><div class=\"contnr c1 trm rtl  \" ><div class=\"lbl c1 trm \" ><span class=\"nd\">word:1675084</span> <a target=\"_blank\" href=\"https://www.deadseascrolls.org.il/explore-the-archive\" title=\"Show this scroll in the Leon Levy library\"><span class=\"txtu hbo\"><span class=\"plain rtl  \" ><span class=\"txtu hbo\"><span class=\"langa intl2 rec1\">א</span></span><span class=\"txtu hbo\"><span class=\"langa intl2 rec1\">ד</span></span><span class=\"txtu hbo\"><span class=\"langa intl2 rec1\">י</span></span><span class=\"txtu hbo\"><span class=\"langa intl2 rec1\">ן</span> </span></span></span></a></div></div></div>"
      ],
      "text/plain": [
       "<IPython.core.display.HTML object>"
      ]
     },
     "metadata": {},
     "output_type": "display_data"
    },
    {
     "data": {
      "text/markdown": [
       "---\n"
      ],
      "text/plain": [
       "<IPython.core.display.Markdown object>"
      ]
     },
     "metadata": {},
     "output_type": "display_data"
    },
    {
     "name": "stdout",
     "output_type": "stream",
     "text": [
      "Examples of \"langa\"\n"
     ]
    },
    {
     "data": {
      "text/html": [
       "<div class=\"section rtl\"><a target=\"_blank\" href=\"https://www.deadseascrolls.org.il/explore-the-archive/search#q='1Q20'\" title=\"Show this scroll in the Leon Levy library\" sec=\"1Q20 a0:1\">1Q20 a0:1</a></div><div class=\"rtl children\"><div class=\"contnr c1 trm rtl  \" ><div class=\"lbl c1 trm \" ><span class=\"nd\">word:1642718</span> <a target=\"_blank\" href=\"https://www.deadseascrolls.org.il/explore-the-archive\" title=\"Show this scroll in the Leon Levy library\"><span class=\"txtu hbo\"><span class=\"plain rtl  \" ><span class=\"txtu hbo\"><span class=\"langa rec1 empty\"> </span></span><span class=\"txtu hbo\"><span class=\"langa rec1\">ε</span> </span></span></span></a></div></div></div>"
      ],
      "text/plain": [
       "<IPython.core.display.HTML object>"
      ]
     },
     "metadata": {},
     "output_type": "display_data"
    },
    {
     "data": {
      "text/html": [
       "<div class=\"section rtl\"><a target=\"_blank\" href=\"https://www.deadseascrolls.org.il/explore-the-archive/search#q='1Q20'\" title=\"Show this scroll in the Leon Levy library\" sec=\"1Q20 a0:1\">1Q20 a0:1</a></div><div class=\"rtl children\"><div class=\"contnr c1 trm rtl  \" ><div class=\"lbl c1 trm \" ><span class=\"nd\">word:1642719</span> <a target=\"_blank\" href=\"https://www.deadseascrolls.org.il/explore-the-archive\" title=\"Show this scroll in the Leon Levy library\"><span class=\"txtu hbo\"><span class=\"plain rtl  \" ><span class=\"txtu hbo\"><span class=\"langa\"> # </span></span><span class=\"txtu hbo\"><span class=\"langa\">כ</span></span><span class=\"txtu hbo\"><span class=\"langa\">א</span></span><span class=\"txtu hbo\"><span class=\"langa\"> # </span></span><span class=\"txtu hbo\"><span class=\"langa\"> # </span></span><span class=\"txtu hbo\"><span class=\"langa\">ל</span></span><span class=\"txtu hbo\"><span class=\"langa\"> # </span></span><span class=\"txtu hbo\"><span class=\"langa\"> # </span></span><span class=\"txtu hbo\"><span class=\"langa\"> # </span> </span></span></span></a></div></div></div>"
      ],
      "text/plain": [
       "<IPython.core.display.HTML object>"
      ]
     },
     "metadata": {},
     "output_type": "display_data"
    },
    {
     "data": {
      "text/markdown": [
       "---\n"
      ],
      "text/plain": [
       "<IPython.core.display.Markdown object>"
      ]
     },
     "metadata": {},
     "output_type": "display_data"
    },
    {
     "name": "stdout",
     "output_type": "stream",
     "text": [
      "Examples of \"langg\"\n"
     ]
    },
    {
     "data": {
      "text/html": [
       "<div class=\"section rtl\"><a target=\"_blank\" href=\"https://www.deadseascrolls.org.il/explore-the-archive/search#q='3Q15'\" title=\"Show this scroll in the Leon Levy library\" sec=\"3Q15 2:4\">3Q15 2:4</a></div><div class=\"rtl children\"><div class=\"contnr c1 trm rtl  \" ><div class=\"lbl c1 trm \" ><span class=\"nd\">word:1655600</span> <a target=\"_blank\" href=\"https://www.deadseascrolls.org.il/explore-the-archive\" title=\"Show this scroll in the Leon Levy library\"><span class=\"txtu hbo\"><span class=\"plain rtl  \" ><span class=\"txtu hbo\"><span class=\"langg scriptgreekcapital\">Θ</span></span><span class=\"txtu hbo\"><span class=\"langg scriptgreekcapital\">Ε</span> </span></span></span></a></div></div></div>"
      ],
      "text/plain": [
       "<IPython.core.display.HTML object>"
      ]
     },
     "metadata": {},
     "output_type": "display_data"
    },
    {
     "data": {
      "text/html": [
       "<div class=\"section rtl\"><a target=\"_blank\" href=\"https://www.deadseascrolls.org.il/explore-the-archive/search#q='3Q15'\" title=\"Show this scroll in the Leon Levy library\" sec=\"3Q15 1:4\">3Q15 1:4</a></div><div class=\"rtl children\"><div class=\"contnr c1 trm rtl  \" ><div class=\"lbl c1 trm \" ><span class=\"nd\">word:1655475</span> <a target=\"_blank\" href=\"https://www.deadseascrolls.org.il/explore-the-archive\" title=\"Show this scroll in the Leon Levy library\"><span class=\"txtu hbo\"><span class=\"plain rtl  \" ><span class=\"txtu hbo\"><span class=\"langg scriptgreekcapital\">Κ</span></span><span class=\"txtu hbo\"><span class=\"langg scriptgreekcapital\">Ε</span></span><span class=\"txtu hbo\"><span class=\"langg scriptgreekcapital\">Ν</span> </span></span></span></a></div></div></div>"
      ],
      "text/plain": [
       "<IPython.core.display.HTML object>"
      ]
     },
     "metadata": {},
     "output_type": "display_data"
    },
    {
     "data": {
      "text/html": [
       "<div class=\"section rtl\"><a target=\"_blank\" href=\"https://www.deadseascrolls.org.il/explore-the-archive/search#q='3Q15'\" title=\"Show this scroll in the Leon Levy library\" sec=\"3Q15 1:12\">3Q15 1:12</a></div><div class=\"rtl children\"><div class=\"contnr c1 trm rtl  \" ><div class=\"lbl c1 trm \" ><span class=\"nd\">word:1655549</span> <a target=\"_blank\" href=\"https://www.deadseascrolls.org.il/explore-the-archive\" title=\"Show this scroll in the Leon Levy library\"><span class=\"txtu hbo\"><span class=\"plain rtl  \" ><span class=\"txtu hbo\"><span class=\"langg scriptgreekcapital\">Χ</span></span><span class=\"txtu hbo\"><span class=\"langg scriptgreekcapital\">Α</span></span><span class=\"txtu hbo\"><span class=\"langg scriptgreekcapital\">Γ</span> </span></span></span></a></div></div></div>"
      ],
      "text/plain": [
       "<IPython.core.display.HTML object>"
      ]
     },
     "metadata": {},
     "output_type": "display_data"
    },
    {
     "data": {
      "text/html": [
       "<div class=\"section rtl\"><a target=\"_blank\" href=\"https://www.deadseascrolls.org.il/explore-the-archive/search#q='3Q15'\" title=\"Show this scroll in the Leon Levy library\" sec=\"3Q15 2:2\">3Q15 2:2</a></div><div class=\"rtl children\"><div class=\"contnr c1 trm rtl  \" ><div class=\"lbl c1 trm \" ><span class=\"nd\">word:1655582</span> <a target=\"_blank\" href=\"https://www.deadseascrolls.org.il/explore-the-archive\" title=\"Show this scroll in the Leon Levy library\"><span class=\"txtu hbo\"><span class=\"plain rtl  \" ><span class=\"txtu hbo\"><span class=\"langg scriptgreekcapital\">Η</span></span><span class=\"txtu hbo\"><span class=\"langg scriptgreekcapital\">Ν</span> </span></span></span></a></div></div></div>"
      ],
      "text/plain": [
       "<IPython.core.display.HTML object>"
      ]
     },
     "metadata": {},
     "output_type": "display_data"
    },
    {
     "data": {
      "text/markdown": [
       "---\n"
      ],
      "text/plain": [
       "<IPython.core.display.Markdown object>"
      ]
     },
     "metadata": {},
     "output_type": "display_data"
    },
    {
     "name": "stdout",
     "output_type": "stream",
     "text": [
      "Examples of \"rec\"\n"
     ]
    },
    {
     "data": {
      "text/html": [
       "<div class=\"section rtl\"><a target=\"_blank\" href=\"https://www.deadseascrolls.org.il/explore-the-archive/search#q='CD'\" title=\"Show this scroll in the Leon Levy library\" sec=\"CD 10:14\">CD 10:14</a></div><div class=\"rtl children\"><div class=\"contnr c1 trm rtl  \" ><div class=\"lbl c1 trm \" ><span class=\"nd\">word:1609787</span> <a target=\"_blank\" href=\"https://www.deadseascrolls.org.il/explore-the-archive\" title=\"Show this scroll in the Leon Levy library\"><span class=\"txtu hbo\"><span class=\"plain rtl  \" ><span class=\"txtu hbo\">ש</span><span class=\"txtu hbo\"><span class=\"rec1\">ב</span></span><span class=\"txtu hbo\">ת </span></span></span></a></div></div></div>"
      ],
      "text/plain": [
       "<IPython.core.display.HTML object>"
      ]
     },
     "metadata": {},
     "output_type": "display_data"
    },
    {
     "data": {
      "text/html": [
       "<div class=\"section rtl\"><a target=\"_blank\" href=\"https://www.deadseascrolls.org.il/explore-the-archive/search#q='CD'\" title=\"Show this scroll in the Leon Levy library\" sec=\"CD 6:16\">CD 6:16</a></div><div class=\"rtl children\"><div class=\"contnr c1 trm rtl  \" ><div class=\"lbl c1 trm \" ><span class=\"nd\">word:1608563</span> <a target=\"_blank\" href=\"https://www.deadseascrolls.org.il/explore-the-archive\" title=\"Show this scroll in the Leon Levy library\"><span class=\"txtu hbo\"><span class=\"plain rtl  \" ><span class=\"txtu hbo\">א</span><span class=\"txtu hbo\">ל</span><span class=\"txtu hbo\">מ</span><span class=\"txtu hbo\"><span class=\"unc3\">נ</span></span><span class=\"txtu hbo\"><span class=\"rec1\">ו</span></span><span class=\"txtu hbo\">ת </span></span></span></a></div></div></div>"
      ],
      "text/plain": [
       "<IPython.core.display.HTML object>"
      ]
     },
     "metadata": {},
     "output_type": "display_data"
    },
    {
     "data": {
      "text/markdown": [
       "---\n"
      ],
      "text/plain": [
       "<IPython.core.display.Markdown object>"
      ]
     },
     "metadata": {},
     "output_type": "display_data"
    },
    {
     "name": "stdout",
     "output_type": "stream",
     "text": [
      "Examples of \"rem\"\n"
     ]
    },
    {
     "data": {
      "text/html": [
       "<div class=\"section rtl\"><a target=\"_blank\" href=\"https://www.deadseascrolls.org.il/explore-the-archive/search#q='CD'\" title=\"Show this scroll in the Leon Levy library\" sec=\"CD 2:12\">CD 2:12</a></div><div class=\"rtl children\"><div class=\"contnr c1 trm rtl  \" ><div class=\"lbl c1 trm \" ><span class=\"nd\">word:1607315</span> <a target=\"_blank\" href=\"https://www.deadseascrolls.org.il/explore-the-archive\" title=\"Show this scroll in the Leon Levy library\"><span class=\"txtu hbo\"><span class=\"plain rtl  \" ><span class=\"txtu hbo\">מ</span><span class=\"txtu hbo\">ש</span><span class=\"txtu hbo\">י</span><span class=\"txtu hbo\">ח</span><span class=\"txtu hbo\"><span class=\"rem1\">ו</span></span><span class=\"txtu hbo\"><span class=\"cor1\">י</span> </span></span></span></a></div></div></div>"
      ],
      "text/plain": [
       "<IPython.core.display.HTML object>"
      ]
     },
     "metadata": {},
     "output_type": "display_data"
    },
    {
     "data": {
      "text/html": [
       "<div class=\"section rtl\"><a target=\"_blank\" href=\"https://www.deadseascrolls.org.il/explore-the-archive/search#q='CD'\" title=\"Show this scroll in the Leon Levy library\" sec=\"CD 2:13\">CD 2:13</a></div><div class=\"rtl children\"><div class=\"contnr c1 trm rtl  \" ><div class=\"lbl c1 trm \" ><span class=\"nd\">word:1607324</span> <a target=\"_blank\" href=\"https://www.deadseascrolls.org.il/explore-the-archive\" title=\"Show this scroll in the Leon Levy library\"><span class=\"txtu hbo\"><span class=\"plain rtl  \" ><span class=\"txtu hbo\"><span class=\"rem1\">ש</span></span><span class=\"txtu hbo\"><span class=\"rem1\">מ</span></span><span class=\"txtu hbo\"><span class=\"rem1\">ו</span> </span></span></span></a></div></div></div>"
      ],
      "text/plain": [
       "<IPython.core.display.HTML object>"
      ]
     },
     "metadata": {},
     "output_type": "display_data"
    },
    {
     "data": {
      "text/markdown": [
       "---\n"
      ],
      "text/plain": [
       "<IPython.core.display.Markdown object>"
      ]
     },
     "metadata": {},
     "output_type": "display_data"
    },
    {
     "name": "stdout",
     "output_type": "stream",
     "text": [
      "Examples of \"rem2\"\n"
     ]
    },
    {
     "data": {
      "text/html": [
       "<div class=\"section rtl\"><a target=\"_blank\" href=\"https://www.deadseascrolls.org.il/explore-the-archive/search#q='CD'\" title=\"Show this scroll in the Leon Levy library\" sec=\"CD 5:3\">CD 5:3</a></div><div class=\"rtl children\"><div class=\"contnr c1 trm rtl  \" ><div class=\"lbl c1 trm \" ><span class=\"nd\">word:1608081</span> <a target=\"_blank\" href=\"https://www.deadseascrolls.org.il/explore-the-archive\" title=\"Show this scroll in the Leon Levy library\"><span class=\"txtu hbo\"><span class=\"plain rtl  \" ><span class=\"txtu hbo\"><span class=\"rem2\">נ</span></span><span class=\"txtu hbo\"><span class=\"rem2\">פ</span></span><span class=\"txtu hbo\"><span class=\"rem2\"> # </span></span><span class=\"txtu hbo\"><span class=\"rem2\"> # </span> </span></span></span></a></div></div></div>"
      ],
      "text/plain": [
       "<IPython.core.display.HTML object>"
      ]
     },
     "metadata": {},
     "output_type": "display_data"
    },
    {
     "data": {
      "text/html": [
       "<div class=\"section rtl\"><a target=\"_blank\" href=\"https://www.deadseascrolls.org.il/explore-the-archive/search#q='CD'\" title=\"Show this scroll in the Leon Levy library\" sec=\"CD 9:14\">CD 9:14</a></div><div class=\"rtl children\"><div class=\"contnr c1 trm rtl  \" ><div class=\"lbl c1 trm \" ><span class=\"nd\">word:1609471</span> <a target=\"_blank\" href=\"https://www.deadseascrolls.org.il/explore-the-archive\" title=\"Show this scroll in the Leon Levy library\"><span class=\"txtu hbo\"><span class=\"plain rtl  \" ><span class=\"txtu hbo\"><span class=\"rem2\">ו</span></span></span></span></a></div></div></div>"
      ],
      "text/plain": [
       "<IPython.core.display.HTML object>"
      ]
     },
     "metadata": {},
     "output_type": "display_data"
    },
    {
     "data": {
      "text/markdown": [
       "---\n"
      ],
      "text/plain": [
       "<IPython.core.display.Markdown object>"
      ]
     },
     "metadata": {},
     "output_type": "display_data"
    },
    {
     "name": "stdout",
     "output_type": "stream",
     "text": [
      "Examples of \"scriptgreekcapital\"\n"
     ]
    },
    {
     "data": {
      "text/html": [
       "<div class=\"section rtl\"><a target=\"_blank\" href=\"https://www.deadseascrolls.org.il/explore-the-archive/search#q='3Q15'\" title=\"Show this scroll in the Leon Levy library\" sec=\"3Q15 2:4\">3Q15 2:4</a></div><div class=\"rtl children\"><div class=\"contnr c1 trm rtl  \" ><div class=\"lbl c1 trm \" ><span class=\"nd\">word:1655600</span> <a target=\"_blank\" href=\"https://www.deadseascrolls.org.il/explore-the-archive\" title=\"Show this scroll in the Leon Levy library\"><span class=\"txtu hbo\"><span class=\"plain rtl  \" ><span class=\"txtu hbo\"><span class=\"langg scriptgreekcapital\">Θ</span></span><span class=\"txtu hbo\"><span class=\"langg scriptgreekcapital\">Ε</span> </span></span></span></a></div></div></div>"
      ],
      "text/plain": [
       "<IPython.core.display.HTML object>"
      ]
     },
     "metadata": {},
     "output_type": "display_data"
    },
    {
     "data": {
      "text/html": [
       "<div class=\"section rtl\"><a target=\"_blank\" href=\"https://www.deadseascrolls.org.il/explore-the-archive/search#q='3Q15'\" title=\"Show this scroll in the Leon Levy library\" sec=\"3Q15 1:4\">3Q15 1:4</a></div><div class=\"rtl children\"><div class=\"contnr c1 trm rtl  \" ><div class=\"lbl c1 trm \" ><span class=\"nd\">word:1655475</span> <a target=\"_blank\" href=\"https://www.deadseascrolls.org.il/explore-the-archive\" title=\"Show this scroll in the Leon Levy library\"><span class=\"txtu hbo\"><span class=\"plain rtl  \" ><span class=\"txtu hbo\"><span class=\"langg scriptgreekcapital\">Κ</span></span><span class=\"txtu hbo\"><span class=\"langg scriptgreekcapital\">Ε</span></span><span class=\"txtu hbo\"><span class=\"langg scriptgreekcapital\">Ν</span> </span></span></span></a></div></div></div>"
      ],
      "text/plain": [
       "<IPython.core.display.HTML object>"
      ]
     },
     "metadata": {},
     "output_type": "display_data"
    },
    {
     "data": {
      "text/html": [
       "<div class=\"section rtl\"><a target=\"_blank\" href=\"https://www.deadseascrolls.org.il/explore-the-archive/search#q='3Q15'\" title=\"Show this scroll in the Leon Levy library\" sec=\"3Q15 1:12\">3Q15 1:12</a></div><div class=\"rtl children\"><div class=\"contnr c1 trm rtl  \" ><div class=\"lbl c1 trm \" ><span class=\"nd\">word:1655549</span> <a target=\"_blank\" href=\"https://www.deadseascrolls.org.il/explore-the-archive\" title=\"Show this scroll in the Leon Levy library\"><span class=\"txtu hbo\"><span class=\"plain rtl  \" ><span class=\"txtu hbo\"><span class=\"langg scriptgreekcapital\">Χ</span></span><span class=\"txtu hbo\"><span class=\"langg scriptgreekcapital\">Α</span></span><span class=\"txtu hbo\"><span class=\"langg scriptgreekcapital\">Γ</span> </span></span></span></a></div></div></div>"
      ],
      "text/plain": [
       "<IPython.core.display.HTML object>"
      ]
     },
     "metadata": {},
     "output_type": "display_data"
    },
    {
     "data": {
      "text/html": [
       "<div class=\"section rtl\"><a target=\"_blank\" href=\"https://www.deadseascrolls.org.il/explore-the-archive/search#q='3Q15'\" title=\"Show this scroll in the Leon Levy library\" sec=\"3Q15 2:2\">3Q15 2:2</a></div><div class=\"rtl children\"><div class=\"contnr c1 trm rtl  \" ><div class=\"lbl c1 trm \" ><span class=\"nd\">word:1655582</span> <a target=\"_blank\" href=\"https://www.deadseascrolls.org.il/explore-the-archive\" title=\"Show this scroll in the Leon Levy library\"><span class=\"txtu hbo\"><span class=\"plain rtl  \" ><span class=\"txtu hbo\"><span class=\"langg scriptgreekcapital\">Η</span></span><span class=\"txtu hbo\"><span class=\"langg scriptgreekcapital\">Ν</span> </span></span></span></a></div></div></div>"
      ],
      "text/plain": [
       "<IPython.core.display.HTML object>"
      ]
     },
     "metadata": {},
     "output_type": "display_data"
    },
    {
     "data": {
      "text/markdown": [
       "---\n"
      ],
      "text/plain": [
       "<IPython.core.display.Markdown object>"
      ]
     },
     "metadata": {},
     "output_type": "display_data"
    },
    {
     "name": "stdout",
     "output_type": "stream",
     "text": [
      "Examples of \"scriptpaleohebrew\"\n"
     ]
    },
    {
     "data": {
      "text/html": [
       "<div class=\"section rtl\"><a target=\"_blank\" href=\"https://www.deadseascrolls.org.il/explore-the-archive/search#q='1QpHab'\" title=\"Show this scroll in the Leon Levy library\" sec=\"1QpHab 4:17\">1QpHab 4:17</a></div><div class=\"rtl children\"><div class=\"contnr c1 trm rtl  \" ><div class=\"lbl c1 trm \" ><span class=\"nd\">word:1621232</span> <a target=\"_blank\" href=\"https://www.deadseascrolls.org.il/explore-the-archive\" title=\"Show this scroll in the Leon Levy library\"><span class=\"txtu hbo\"><span class=\"plain rtl  \" ><span class=\"txtu hbo\"><span class=\"scriptpaleohebrew rec1\">י</span></span><span class=\"txtu hbo\"><span class=\"scriptpaleohebrew rec1\">ה</span></span><span class=\"txtu hbo\"><span class=\"scriptpaleohebrew rec1\">ו</span></span><span class=\"txtu hbo\"><span class=\"scriptpaleohebrew rec1\">ה</span> </span></span></span></a></div></div></div>"
      ],
      "text/plain": [
       "<IPython.core.display.HTML object>"
      ]
     },
     "metadata": {},
     "output_type": "display_data"
    },
    {
     "data": {
      "text/html": [
       "<div class=\"section rtl\"><a target=\"_blank\" href=\"https://www.deadseascrolls.org.il/explore-the-archive/search#q='1QpHab'\" title=\"Show this scroll in the Leon Levy library\" sec=\"1QpHab 4:17\">1QpHab 4:17</a></div><div class=\"rtl children\"><div class=\"contnr c1 trm rtl  \" ><div class=\"lbl c1 trm \" ><span class=\"nd\">word:1621226</span> <a target=\"_blank\" href=\"https://www.deadseascrolls.org.il/explore-the-archive\" title=\"Show this scroll in the Leon Levy library\"><span class=\"txtu hbo\"><span class=\"plain rtl  \" ><span class=\"txtu hbo\"><span class=\"scriptpaleohebrew rec1\">י</span></span><span class=\"txtu hbo\"><span class=\"scriptpaleohebrew rec1\">ה</span></span><span class=\"txtu hbo\"><span class=\"scriptpaleohebrew rec1\">ו</span></span><span class=\"txtu hbo\"><span class=\"scriptpaleohebrew rec1\">ה</span> </span></span></span></a></div></div></div>"
      ],
      "text/plain": [
       "<IPython.core.display.HTML object>"
      ]
     },
     "metadata": {},
     "output_type": "display_data"
    },
    {
     "data": {
      "text/html": [
       "<div class=\"section rtl\"><a target=\"_blank\" href=\"https://www.deadseascrolls.org.il/explore-the-archive/search#q='1QpHab'\" title=\"Show this scroll in the Leon Levy library\" sec=\"1QpHab 1:1\">1QpHab 1:1</a></div><div class=\"rtl children\"><div class=\"contnr c1 trm rtl  \" ><div class=\"lbl c1 trm \" ><span class=\"nd\">word:1620581</span> <a target=\"_blank\" href=\"https://www.deadseascrolls.org.il/explore-the-archive\" title=\"Show this scroll in the Leon Levy library\"><span class=\"txtu hbo\"><span class=\"plain rtl  \" ><span class=\"txtu hbo\"><span class=\"scriptpaleohebrew rec1\">י</span></span><span class=\"txtu hbo\"><span class=\"scriptpaleohebrew rec1\">ה</span></span><span class=\"txtu hbo\"><span class=\"scriptpaleohebrew rec1\">ו</span></span><span class=\"txtu hbo\"><span class=\"scriptpaleohebrew rec1\">ה</span> </span></span></span></a></div></div></div>"
      ],
      "text/plain": [
       "<IPython.core.display.HTML object>"
      ]
     },
     "metadata": {},
     "output_type": "display_data"
    },
    {
     "data": {
      "text/markdown": [
       "---\n"
      ],
      "text/plain": [
       "<IPython.core.display.Markdown object>"
      ]
     },
     "metadata": {},
     "output_type": "display_data"
    },
    {
     "name": "stdout",
     "output_type": "stream",
     "text": [
      "Examples of \"unc1\"\n"
     ]
    },
    {
     "data": {
      "text/html": [
       "<div class=\"section rtl\"><a target=\"_blank\" href=\"https://www.deadseascrolls.org.il/explore-the-archive/search#q='CD'\" title=\"Show this scroll in the Leon Levy library\" sec=\"CD 1:4\">CD 1:4</a></div><div class=\"rtl children\"><div class=\"contnr c1 trm rtl  \" ><div class=\"lbl c1 trm \" ><span class=\"nd\">word:1606906</span> <a target=\"_blank\" href=\"https://www.deadseascrolls.org.il/explore-the-archive\" title=\"Show this scroll in the Leon Levy library\"><span class=\"txtu hbo\"><span class=\"plain rtl  \" ><span class=\"txtu hbo\"><span class=\"unc1\">ו</span></span></span></span></a></div></div></div>"
      ],
      "text/plain": [
       "<IPython.core.display.HTML object>"
      ]
     },
     "metadata": {},
     "output_type": "display_data"
    },
    {
     "data": {
      "text/html": [
       "<div class=\"section rtl\"><a target=\"_blank\" href=\"https://www.deadseascrolls.org.il/explore-the-archive/search#q='CD'\" title=\"Show this scroll in the Leon Levy library\" sec=\"CD 2:12\">CD 2:12</a></div><div class=\"rtl children\"><div class=\"contnr c1 trm rtl  \" ><div class=\"lbl c1 trm \" ><span class=\"nd\">word:1607319</span> <a target=\"_blank\" href=\"https://www.deadseascrolls.org.il/explore-the-archive\" title=\"Show this scroll in the Leon Levy library\"><span class=\"txtu hbo\"><span class=\"plain rtl  \" ><span class=\"txtu hbo\">ח</span><span class=\"txtu hbo\">ו</span><span class=\"txtu hbo\"><span class=\"unc1\">ז</span></span><span class=\"txtu hbo\"><span class=\"unc1\">י</span> </span></span></span></a></div></div></div>"
      ],
      "text/plain": [
       "<IPython.core.display.HTML object>"
      ]
     },
     "metadata": {},
     "output_type": "display_data"
    },
    {
     "data": {
      "text/markdown": [
       "---\n"
      ],
      "text/plain": [
       "<IPython.core.display.Markdown object>"
      ]
     },
     "metadata": {},
     "output_type": "display_data"
    },
    {
     "name": "stdout",
     "output_type": "stream",
     "text": [
      "Examples of \"unc2\"\n"
     ]
    },
    {
     "data": {
      "text/html": [
       "<div class=\"section rtl\"><a target=\"_blank\" href=\"https://www.deadseascrolls.org.il/explore-the-archive/search#q='CD'\" title=\"Show this scroll in the Leon Levy library\" sec=\"CD 2:18\">CD 2:18</a></div><div class=\"rtl children\"><div class=\"contnr c1 trm rtl  \" ><div class=\"lbl c1 trm \" ><span class=\"nd\">word:1607400</span> <a target=\"_blank\" href=\"https://www.deadseascrolls.org.il/explore-the-archive\" title=\"Show this scroll in the Leon Levy library\"><span class=\"txtu hbo\"><span class=\"plain rtl  \" ><span class=\"txtu hbo\"><span class=\"rem1\">ע</span></span><span class=\"txtu hbo\"><span class=\"rem1\">י</span></span><span class=\"txtu hbo\"><span class=\"unc2 rem1\">ד</span></span><span class=\"txtu hbo\"><span class=\"rem1\">י</span> </span></span></span></a></div></div></div>"
      ],
      "text/plain": [
       "<IPython.core.display.HTML object>"
      ]
     },
     "metadata": {},
     "output_type": "display_data"
    },
    {
     "data": {
      "text/html": [
       "<div class=\"section rtl\"><a target=\"_blank\" href=\"https://www.deadseascrolls.org.il/explore-the-archive/search#q='CD'\" title=\"Show this scroll in the Leon Levy library\" sec=\"CD 2:17\">CD 2:17</a></div><div class=\"rtl children\"><div class=\"contnr c1 trm rtl  \" ><div class=\"lbl c1 trm \" ><span class=\"nd\">word:1607395</span> <a target=\"_blank\" href=\"https://www.deadseascrolls.org.il/explore-the-archive\" title=\"Show this scroll in the Leon Levy library\"><span class=\"txtu hbo\"><span class=\"plain rtl  \" ><span class=\"txtu hbo\">ל</span><span class=\"txtu hbo\">כ</span><span class=\"txtu hbo\"><span class=\"unc2\">ת</span></span><span class=\"txtu hbo\">׳</span><span class=\"txtu hbo\">ם </span></span></span></a></div></div></div>"
      ],
      "text/plain": [
       "<IPython.core.display.HTML object>"
      ]
     },
     "metadata": {},
     "output_type": "display_data"
    },
    {
     "data": {
      "text/markdown": [
       "---\n"
      ],
      "text/plain": [
       "<IPython.core.display.Markdown object>"
      ]
     },
     "metadata": {},
     "output_type": "display_data"
    },
    {
     "name": "stdout",
     "output_type": "stream",
     "text": [
      "Examples of \"unc3\"\n"
     ]
    },
    {
     "data": {
      "text/html": [
       "<div class=\"section rtl\"><a target=\"_blank\" href=\"https://www.deadseascrolls.org.il/explore-the-archive/search#q='CD'\" title=\"Show this scroll in the Leon Levy library\" sec=\"CD 6:16\">CD 6:16</a></div><div class=\"rtl children\"><div class=\"contnr c1 trm rtl  \" ><div class=\"lbl c1 trm \" ><span class=\"nd\">word:1608563</span> <a target=\"_blank\" href=\"https://www.deadseascrolls.org.il/explore-the-archive\" title=\"Show this scroll in the Leon Levy library\"><span class=\"txtu hbo\"><span class=\"plain rtl  \" ><span class=\"txtu hbo\">א</span><span class=\"txtu hbo\">ל</span><span class=\"txtu hbo\">מ</span><span class=\"txtu hbo\"><span class=\"unc3\">נ</span></span><span class=\"txtu hbo\"><span class=\"rec1\">ו</span></span><span class=\"txtu hbo\">ת </span></span></span></a></div></div></div>"
      ],
      "text/plain": [
       "<IPython.core.display.HTML object>"
      ]
     },
     "metadata": {},
     "output_type": "display_data"
    },
    {
     "data": {
      "text/html": [
       "<div class=\"section rtl\"><a target=\"_blank\" href=\"https://www.deadseascrolls.org.il/explore-the-archive/search#q='CD'\" title=\"Show this scroll in the Leon Levy library\" sec=\"CD 3:2\">CD 3:2</a></div><div class=\"rtl children\"><div class=\"contnr c1 trm rtl  \" ><div class=\"lbl c1 trm \" ><span class=\"nd\">word:1607471</span> <a target=\"_blank\" href=\"https://www.deadseascrolls.org.il/explore-the-archive\" title=\"Show this scroll in the Leon Levy library\"><span class=\"txtu hbo\"><span class=\"plain rtl  \" ><span class=\"txtu hbo\"><span class=\"unc4\">א</span></span><span class=\"txtu hbo\"><span class=\"unc3\">ו</span></span><span class=\"txtu hbo\">ה</span><span class=\"txtu hbo\">ב </span></span></span></a></div></div></div>"
      ],
      "text/plain": [
       "<IPython.core.display.HTML object>"
      ]
     },
     "metadata": {},
     "output_type": "display_data"
    },
    {
     "data": {
      "text/markdown": [
       "---\n"
      ],
      "text/plain": [
       "<IPython.core.display.Markdown object>"
      ]
     },
     "metadata": {},
     "output_type": "display_data"
    },
    {
     "name": "stdout",
     "output_type": "stream",
     "text": [
      "Examples of \"unc4\"\n"
     ]
    },
    {
     "data": {
      "text/html": [
       "<div class=\"section rtl\"><a target=\"_blank\" href=\"https://www.deadseascrolls.org.il/explore-the-archive/search#q='CD'\" title=\"Show this scroll in the Leon Levy library\" sec=\"CD 5:16\">CD 5:16</a></div><div class=\"rtl children\"><div class=\"contnr c1 trm rtl  \" ><div class=\"lbl c1 trm \" ><span class=\"nd\">word:1608260</span> <a target=\"_blank\" href=\"https://www.deadseascrolls.org.il/explore-the-archive\" title=\"Show this scroll in the Leon Levy library\"><span class=\"txtu hbo\"><span class=\"plain rtl  \" ><span class=\"txtu hbo\">מ</span><span class=\"txtu hbo\"><span class=\"unc4\">ע</span></span><span class=\"txtu hbo\">ש</span><span class=\"txtu hbo\">י</span><span class=\"txtu hbo\">׳</span><span class=\"txtu hbo\">ה</span><span class=\"txtu hbo\">ם </span></span></span></a></div></div></div>"
      ],
      "text/plain": [
       "<IPython.core.display.HTML object>"
      ]
     },
     "metadata": {},
     "output_type": "display_data"
    },
    {
     "data": {
      "text/html": [
       "<div class=\"section rtl\"><a target=\"_blank\" href=\"https://www.deadseascrolls.org.il/explore-the-archive/search#q='CD'\" title=\"Show this scroll in the Leon Levy library\" sec=\"CD 3:2\">CD 3:2</a></div><div class=\"rtl children\"><div class=\"contnr c1 trm rtl  \" ><div class=\"lbl c1 trm \" ><span class=\"nd\">word:1607471</span> <a target=\"_blank\" href=\"https://www.deadseascrolls.org.il/explore-the-archive\" title=\"Show this scroll in the Leon Levy library\"><span class=\"txtu hbo\"><span class=\"plain rtl  \" ><span class=\"txtu hbo\"><span class=\"unc4\">א</span></span><span class=\"txtu hbo\"><span class=\"unc3\">ו</span></span><span class=\"txtu hbo\">ה</span><span class=\"txtu hbo\">ב </span></span></span></a></div></div></div>"
      ],
      "text/plain": [
       "<IPython.core.display.HTML object>"
      ]
     },
     "metadata": {},
     "output_type": "display_data"
    },
    {
     "data": {
      "text/markdown": [
       "---\n"
      ],
      "text/plain": [
       "<IPython.core.display.Markdown object>"
      ]
     },
     "metadata": {},
     "output_type": "display_data"
    },
    {
     "name": "stdout",
     "output_type": "stream",
     "text": [
      "Examples of \"vac\"\n"
     ]
    },
    {
     "data": {
      "text/html": [
       "<div class=\"section rtl\"><a target=\"_blank\" href=\"https://www.deadseascrolls.org.il/explore-the-archive/search#q='CD'\" title=\"Show this scroll in the Leon Levy library\" sec=\"CD 1:1\">CD 1:1</a></div><div class=\"rtl children\"><div class=\"contnr c2  rtl  \" ><div class=\"lbl c2  \" ><span class=\"nd\">cluster:1430242</span></div><div class=\"children hor wrap rtl\"><div class=\"contnr c0 trm rtl  \" ><div class=\"lbl c0 trm \" ><span class=\"nd\">1</span> <span class=\"txtu hbo\"><span class=\"vac1 empty\"> </span> </span></div></div></div></div></div>"
      ],
      "text/plain": [
       "<IPython.core.display.HTML object>"
      ]
     },
     "metadata": {},
     "output_type": "display_data"
    },
    {
     "data": {
      "text/html": [
       "<div class=\"section rtl\"><a target=\"_blank\" href=\"https://www.deadseascrolls.org.il/explore-the-archive/search#q='CD'\" title=\"Show this scroll in the Leon Levy library\" sec=\"CD 1:11\">CD 1:11</a></div><div class=\"rtl children\"><div class=\"contnr c2  rtl  \" ><div class=\"lbl c2  \" ><span class=\"nd\">cluster:1430243</span></div><div class=\"children hor wrap rtl\"><div class=\"contnr c0 trm rtl  \" ><div class=\"lbl c0 trm \" ><span class=\"nd\">420</span> <span class=\"txtu hbo\"><span class=\"vac1 empty\"> </span> </span></div></div></div></div></div>"
      ],
      "text/plain": [
       "<IPython.core.display.HTML object>"
      ]
     },
     "metadata": {},
     "output_type": "display_data"
    }
   ],
   "source": [
    "for (typ, examples) in sorted(allExamples.items()):\n",
    "    A.dm(\"---\\n\")\n",
    "    print(f'Examples of \"{typ}\"')\n",
    "    nodes = set()\n",
    "    for n in examples:\n",
    "        isCluster = F.otype.v(n) == \"cluster\"\n",
    "        ref = L.d(n, otype=\"sign\")[0] if isCluster else n\n",
    "        w = L.u(ref, otype=\"word\")\n",
    "        if w:\n",
    "            nodes.add(w[0])\n",
    "        else:\n",
    "            nodes.add(n)\n",
    "    for n in nodes:\n",
    "        A.pretty(n, fmt=\"layout-orig-full\", withNodes=True)"
   ]
  },
  {
   "cell_type": "markdown",
   "metadata": {},
   "source": [
    "---\n",
    "\n",
    "All chapters:\n",
    "\n",
    "* **[start](start.ipynb)** introduction to computing with your corpus\n",
    "* **display** become an expert in creating pretty displays of your text structures\n",
    "* **[search](search.ipynb)** turbo charge your hand-coding with search templates\n",
    "* **[exportExcel](exportExcel.ipynb)** make tailor-made spreadsheets out of your results\n",
    "* **[share](share.ipynb)** draw in other people's data and let them use yours\n",
    "* **[similarLines](similarLines.ipynb)** spot the similarities between lines\n",
    "\n",
    "---\n",
    "\n",
    "See the [cookbook](cookbook) for recipes for small, concrete tasks.\n",
    "\n",
    "CC-BY Dirk Roorda"
   ]
  }
 ],
 "metadata": {
  "kernelspec": {
   "display_name": "Python 3 (ipykernel)",
   "language": "python",
   "name": "python3"
  },
  "language_info": {
   "codemirror_mode": {
    "name": "ipython",
    "version": 3
   },
   "file_extension": ".py",
   "mimetype": "text/x-python",
   "name": "python",
   "nbconvert_exporter": "python",
   "pygments_lexer": "ipython3",
   "version": "3.10.0"
  },
  "toc": {
   "base_numbering": 1,
   "nav_menu": {},
   "number_sections": true,
   "sideBar": true,
   "skip_h1_title": false,
   "title_cell": "Table of Contents",
   "title_sidebar": "Contents",
   "toc_cell": false,
   "toc_position": {},
   "toc_section_display": "block",
   "toc_window_display": false
  },
  "toc-autonumbering": false,
  "toc-showcode": true,
  "toc-showmarkdowntxt": true,
  "toc-showtags": true,
  "widgets": {
   "application/vnd.jupyter.widget-state+json": {
    "state": {},
    "version_major": 2,
    "version_minor": 0
   }
  }
 },
 "nbformat": 4,
 "nbformat_minor": 4
}
