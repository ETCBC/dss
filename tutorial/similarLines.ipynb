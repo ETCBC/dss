{
 "cells": [
  {
   "cell_type": "markdown",
   "metadata": {},
   "source": [
    "<img align=\"right\" src=\"images/tf.png\" width=\"128\"/>\n",
    "<img align=\"right\" src=\"images/logo.png\" width=\"128\"/>\n",
    "<img align=\"right\" src=\"images/etcbc.png\" width=\"128\"/>\n",
    "<img align=\"right\" src=\"images/dans.png\" width=\"128\"/>\n",
    "\n",
    "---\n",
    "\n",
    "To get started: consult [start](start.ipynb)\n",
    "\n",
    "---\n",
    "\n",
    "# Similar lines\n",
    "\n",
    "We spot the many similarities between lines in the corpus.\n",
    "\n",
    "There are ca 50,000 lines in the corpus of which ca 35,000 with real content.\n",
    "To compare these requires more than half a billion comparisons.\n",
    "That is a costly operation.\n",
    "[On this laptop it took 21 whole minutes](https://nbviewer.jupyter.org/github/etcbc/dss/blob/master/programs/parallels.ipynb).\n",
    "\n",
    "The good news it that we have stored the outcome in an extra feature.\n",
    "\n",
    "This feature is packaged in a TF data module,\n",
    "that we will automatically loaded with the DSS."
   ]
  },
  {
   "cell_type": "code",
   "execution_count": 1,
   "metadata": {},
   "outputs": [],
   "source": [
    "%load_ext autoreload\n",
    "%autoreload 2"
   ]
  },
  {
   "cell_type": "code",
   "execution_count": 2,
   "metadata": {
    "ExecuteTime": {
     "end_time": "2018-05-24T10:06:39.818664Z",
     "start_time": "2018-05-24T10:06:39.796588Z"
    }
   },
   "outputs": [],
   "source": [
    "import collections\n",
    "\n",
    "from tf.app import use\n"
   ]
  },
  {
   "cell_type": "code",
   "execution_count": 3,
   "metadata": {},
   "outputs": [
    {
     "data": {
      "text/html": [
       "<b title=\"local github\">TF-app:</b> <span title=\"repo clone offline under ~/github\">~/github/annotation/app-dss/code</span>"
      ],
      "text/plain": [
       "<IPython.core.display.HTML object>"
      ]
     },
     "metadata": {},
     "output_type": "display_data"
    },
    {
     "data": {
      "text/html": [
       "<b title=\"local github\">data:</b> <span title=\"repo clone offline under ~/github\">~/github/etcbc/dss/tf/0.6</span>"
      ],
      "text/plain": [
       "<IPython.core.display.HTML object>"
      ]
     },
     "metadata": {},
     "output_type": "display_data"
    },
    {
     "data": {
      "text/html": [
       "<b title=\"local github\">data:</b> <span title=\"repo clone offline under ~/github\">~/github/etcbc/dss/parallels/tf/0.6</span>"
      ],
      "text/plain": [
       "<IPython.core.display.HTML object>"
      ]
     },
     "metadata": {},
     "output_type": "display_data"
    },
    {
     "data": {
      "text/html": [
       "<b>Text-Fabric:</b> <a target=\"_blank\" href=\"https://annotation.github.io/text-fabric/cheatsheet.html\" title=\"text-fabric-api\">Text-Fabric API 8.3.0</a>, <a target=\"_blank\" href=\"https://github.com/annotation/app-dss\" title=\"dss TF-app\">app-dss</a>, <a target=\"_blank\" href=\"https://annotation.github.io/text-fabric/about/searchusage.html\" title=\"Search Templates Introduction and Reference\">Search Reference</a><br><b>Data:</b> <a target=\"_blank\" href=\"https://github.com/etcbc/dss/blob/master/docs/about.md\" title=\"provenance of Dead Sea Scrolls\">DSS</a>, <a target=\"_blank\" href=\"https://annotation.github.io/text-fabric/writing/hebrew.html\" title=\"How TF features represent text\">Character table</a>, <a target=\"_blank\" href=\"https://github.com/etcbc/dss/blob/master/docs\" title=\"DSS feature documentation\">Feature docs</a><br><b>Features:</b><br><details><summary><b>Parallel Passages</b></summary><b><i><a target=\"_blank\" href=\"https://nbviewer.jupyter.org/github/etcbc/dss/blob/master/programs/parallels.ipynb\" title=\"~/github/etcbc/dss/parallels/tf/0.6/sim.tf\">sim</a></i></b><br></details><details><summary><b>Dead Sea Scrolls</b></summary><a target=\"_blank\" href=\"https://github.com/etcbc/dss/blob/master/docs\" title=\"~/github/etcbc/dss/tf/0.6/after.tf\">after</a><br><a target=\"_blank\" href=\"https://github.com/etcbc/dss/blob/master/docs\" title=\"~/github/etcbc/dss/tf/0.6/alt.tf\">alt</a><br><a target=\"_blank\" href=\"https://github.com/etcbc/dss/blob/master/docs\" title=\"~/github/etcbc/dss/tf/0.6/biblical.tf\">biblical</a><br><a target=\"_blank\" href=\"https://github.com/etcbc/dss/blob/master/docs\" title=\"~/github/etcbc/dss/tf/0.6/book.tf\">book</a><br><a target=\"_blank\" href=\"https://github.com/etcbc/dss/blob/master/docs\" title=\"~/github/etcbc/dss/tf/0.6/chapter.tf\">chapter</a><br><a target=\"_blank\" href=\"https://github.com/etcbc/dss/blob/master/docs\" title=\"~/github/etcbc/dss/tf/0.6/cl.tf\">cl</a><br><a target=\"_blank\" href=\"https://github.com/etcbc/dss/blob/master/docs\" title=\"~/github/etcbc/dss/tf/0.6/cl2.tf\">cl2</a><br><a target=\"_blank\" href=\"https://github.com/etcbc/dss/blob/master/docs\" title=\"~/github/etcbc/dss/tf/0.6/cor.tf\">cor</a><br><a target=\"_blank\" href=\"https://github.com/etcbc/dss/blob/master/docs\" title=\"~/github/etcbc/dss/tf/0.6/fragment.tf\">fragment</a><br><a target=\"_blank\" href=\"https://github.com/etcbc/dss/blob/master/docs\" title=\"~/github/etcbc/dss/tf/0.6/full.tf\">full</a><br><a target=\"_blank\" href=\"https://github.com/etcbc/dss/blob/master/docs\" title=\"~/github/etcbc/dss/tf/0.6/fulle.tf\">fulle</a><br><a target=\"_blank\" href=\"https://github.com/etcbc/dss/blob/master/docs\" title=\"~/github/etcbc/dss/tf/0.6/fullo.tf\">fullo</a><br><a target=\"_blank\" href=\"https://github.com/etcbc/dss/blob/master/docs\" title=\"~/github/etcbc/dss/tf/0.6/glex.tf\">glex</a><br><a target=\"_blank\" href=\"https://github.com/etcbc/dss/blob/master/docs\" title=\"~/github/etcbc/dss/tf/0.6/glexe.tf\">glexe</a><br><a target=\"_blank\" href=\"https://github.com/etcbc/dss/blob/master/docs\" title=\"~/github/etcbc/dss/tf/0.6/glexo.tf\">glexo</a><br><a target=\"_blank\" href=\"https://github.com/etcbc/dss/blob/master/docs\" title=\"~/github/etcbc/dss/tf/0.6/glyph.tf\">glyph</a><br><a target=\"_blank\" href=\"https://github.com/etcbc/dss/blob/master/docs\" title=\"~/github/etcbc/dss/tf/0.6/glyphe.tf\">glyphe</a><br><a target=\"_blank\" href=\"https://github.com/etcbc/dss/blob/master/docs\" title=\"~/github/etcbc/dss/tf/0.6/glypho.tf\">glypho</a><br><a target=\"_blank\" href=\"https://github.com/etcbc/dss/blob/master/docs\" title=\"~/github/etcbc/dss/tf/0.6/gn.tf\">gn</a><br><a target=\"_blank\" href=\"https://github.com/etcbc/dss/blob/master/docs\" title=\"~/github/etcbc/dss/tf/0.6/gn2.tf\">gn2</a><br><a target=\"_blank\" href=\"https://github.com/etcbc/dss/blob/master/docs\" title=\"~/github/etcbc/dss/tf/0.6/gn3.tf\">gn3</a><br><a target=\"_blank\" href=\"https://github.com/etcbc/dss/blob/master/docs\" title=\"~/github/etcbc/dss/tf/0.6/halfverse.tf\">halfverse</a><br><a target=\"_blank\" href=\"https://github.com/etcbc/dss/blob/master/docs\" title=\"~/github/etcbc/dss/tf/0.6/intl.tf\">intl</a><br><a target=\"_blank\" href=\"https://github.com/etcbc/dss/blob/master/docs\" title=\"~/github/etcbc/dss/tf/0.6/lang.tf\">lang</a><br><a target=\"_blank\" href=\"https://github.com/etcbc/dss/blob/master/docs\" title=\"~/github/etcbc/dss/tf/0.6/lex.tf\">lex</a><br><a target=\"_blank\" href=\"https://github.com/etcbc/dss/blob/master/docs\" title=\"~/github/etcbc/dss/tf/0.6/lexe.tf\">lexe</a><br><a target=\"_blank\" href=\"https://github.com/etcbc/dss/blob/master/docs\" title=\"~/github/etcbc/dss/tf/0.6/lexo.tf\">lexo</a><br><a target=\"_blank\" href=\"https://github.com/etcbc/dss/blob/master/docs\" title=\"~/github/etcbc/dss/tf/0.6/line.tf\">line</a><br><a target=\"_blank\" href=\"https://github.com/etcbc/dss/blob/master/docs\" title=\"~/github/etcbc/dss/tf/0.6/md.tf\">md</a><br><a target=\"_blank\" href=\"https://github.com/etcbc/dss/blob/master/docs\" title=\"~/github/etcbc/dss/tf/0.6/merr.tf\">merr</a><br><a target=\"_blank\" href=\"https://github.com/etcbc/dss/blob/master/docs\" title=\"~/github/etcbc/dss/tf/0.6/morpho.tf\">morpho</a><br><a target=\"_blank\" href=\"https://github.com/etcbc/dss/blob/master/docs\" title=\"~/github/etcbc/dss/tf/0.6/nu.tf\">nu</a><br><a target=\"_blank\" href=\"https://github.com/etcbc/dss/blob/master/docs\" title=\"~/github/etcbc/dss/tf/0.6/nu2.tf\">nu2</a><br><a target=\"_blank\" href=\"https://github.com/etcbc/dss/blob/master/docs\" title=\"~/github/etcbc/dss/tf/0.6/nu3.tf\">nu3</a><br><a target=\"_blank\" href=\"https://github.com/etcbc/dss/blob/master/docs\" title=\"~/github/etcbc/dss/tf/0.6/otype.tf\">otype</a><br><a target=\"_blank\" href=\"https://github.com/etcbc/dss/blob/master/docs\" title=\"~/github/etcbc/dss/tf/0.6/ps.tf\">ps</a><br><a target=\"_blank\" href=\"https://github.com/etcbc/dss/blob/master/docs\" title=\"~/github/etcbc/dss/tf/0.6/ps2.tf\">ps2</a><br><a target=\"_blank\" href=\"https://github.com/etcbc/dss/blob/master/docs\" title=\"~/github/etcbc/dss/tf/0.6/ps3.tf\">ps3</a><br><a target=\"_blank\" href=\"https://github.com/etcbc/dss/blob/master/docs\" title=\"~/github/etcbc/dss/tf/0.6/punc.tf\">punc</a><br><a target=\"_blank\" href=\"https://github.com/etcbc/dss/blob/master/docs\" title=\"~/github/etcbc/dss/tf/0.6/punce.tf\">punce</a><br><a target=\"_blank\" href=\"https://github.com/etcbc/dss/blob/master/docs\" title=\"~/github/etcbc/dss/tf/0.6/punco.tf\">punco</a><br><a target=\"_blank\" href=\"https://github.com/etcbc/dss/blob/master/docs\" title=\"~/github/etcbc/dss/tf/0.6/rec.tf\">rec</a><br><a target=\"_blank\" href=\"https://github.com/etcbc/dss/blob/master/docs\" title=\"~/github/etcbc/dss/tf/0.6/rem.tf\">rem</a><br><a target=\"_blank\" href=\"https://github.com/etcbc/dss/blob/master/docs\" title=\"~/github/etcbc/dss/tf/0.6/script.tf\">script</a><br><a target=\"_blank\" href=\"https://github.com/etcbc/dss/blob/master/docs\" title=\"~/github/etcbc/dss/tf/0.6/scroll.tf\">scroll</a><br><a target=\"_blank\" href=\"https://github.com/etcbc/dss/blob/master/docs\" title=\"~/github/etcbc/dss/tf/0.6/sp.tf\">sp</a><br><a target=\"_blank\" href=\"https://github.com/etcbc/dss/blob/master/docs\" title=\"~/github/etcbc/dss/tf/0.6/srcLn.tf\">srcLn</a><br><a target=\"_blank\" href=\"https://github.com/etcbc/dss/blob/master/docs\" title=\"~/github/etcbc/dss/tf/0.6/st.tf\">st</a><br><a target=\"_blank\" href=\"https://github.com/etcbc/dss/blob/master/docs\" title=\"~/github/etcbc/dss/tf/0.6/type.tf\">type</a><br><a target=\"_blank\" href=\"https://github.com/etcbc/dss/blob/master/docs\" title=\"~/github/etcbc/dss/tf/0.6/unc.tf\">unc</a><br><a target=\"_blank\" href=\"https://github.com/etcbc/dss/blob/master/docs\" title=\"~/github/etcbc/dss/tf/0.6/vac.tf\">vac</a><br><a target=\"_blank\" href=\"https://github.com/etcbc/dss/blob/master/docs\" title=\"~/github/etcbc/dss/tf/0.6/verse.tf\">verse</a><br><a target=\"_blank\" href=\"https://github.com/etcbc/dss/blob/master/docs\" title=\"~/github/etcbc/dss/tf/0.6/vs.tf\">vs</a><br><a target=\"_blank\" href=\"https://github.com/etcbc/dss/blob/master/docs\" title=\"~/github/etcbc/dss/tf/0.6/vt.tf\">vt</a><br><b><i><a target=\"_blank\" href=\"https://github.com/etcbc/dss/blob/master/docs\" title=\"~/github/etcbc/dss/tf/0.6/occ.tf\">occ</a></i></b><br><b><i><a target=\"_blank\" href=\"https://github.com/etcbc/dss/blob/master/docs\" title=\"~/github/etcbc/dss/tf/0.6/oslots.tf\">oslots</a></i></b><br></details>"
      ],
      "text/plain": [
       "<IPython.core.display.HTML object>"
      ]
     },
     "metadata": {},
     "output_type": "display_data"
    },
    {
     "data": {
      "text/html": [
       "<style>tr.tf.ltr, td.tf.ltr, th.tf.ltr { text-align: left ! important;}\n",
       "tr.tf.rtl, td.tf.rtl, th.tf.rtl { text-align: right ! important;}\n",
       "@font-face {\n",
       "  font-family: \"Ezra SIL\";\n",
       "  src: local('Ezra SIL'), local('EzraSIL'),\n",
       "    url('/server/static/fonts/SILEOT.woff') format('woff'),\n",
       "    url('https://github.com/annotation/text-fabric/blob/master/tf/server/static/fonts/SILEOT.woff?raw=true') format('woff');\n",
       "}\n",
       "\n",
       "@font-face {\n",
       "  font-family: \"SBL Hebrew\";\n",
       "  src: local('SBL Hebrew'), local('SBLHebrew'),\n",
       "    url('/server/static/fonts/SBL_Hbrw.woff') format('woff'),\n",
       "    url('https://github.com/annotation/text-fabric/blob/master/tf/server/static/fonts/SBL_Hbrw.woff?raw=true') format('woff');\n",
       "}\n",
       "\n",
       "@font-face {\n",
       "  font-family: \"Estrangelo Edessa\";\n",
       "  src: local('Estrangelo Edessa'), local('EstrangeloEdessa');\n",
       "    url('/server/static/fonts/SyrCOMEdessa.woff') format('woff'),\n",
       "    url('https://github.com/annotation/text-fabric/blob/master/tf/server/static/fonts/SyrCOMEdessa.woff?raw=true') format('woff');\n",
       "}\n",
       "\n",
       "@font-face {\n",
       "  font-family: AmiriQuran;\n",
       "  font-style: normal;\n",
       "  font-weight: 400;\n",
       "  src: local('Amiri Quran'), local('AmiriQuran'),\n",
       "    url('/server/static/fonts/AmiriQuran.woff') format('woff'),\n",
       "    url('https://github.com/annotation/text-fabric/blob/master/tf/server/static/fonts/AmiriQuran.woff?raw=true') format('woff');\n",
       "}\n",
       "\n",
       "@font-face {\n",
       "  font-family: AmiriQuranColored;\n",
       "  font-style: normal;\n",
       "  font-weight: 400;\n",
       "  src: local('Amiri Quran Colored'), local('AmiriQuranColored'),\n",
       "    url('/server/static/fonts/AmiriQuranColored.woff') format('woff'),\n",
       "    url('https://github.com/annotation/text-fabric/blob/master/tf/server/static/fonts/AmiriQuranColored.woff?raw=true') format('woff');\n",
       "}\n",
       "\n",
       "@font-face {\n",
       "  font-family: \"Santakku\";\n",
       "  src: local('Santakku'),\n",
       "    url('/server/static/fonts/Santakku.woff') format('woff'),\n",
       "    url('https://github.com/annotation/text-fabric/blob/master/tf/server/static/fonts/Santakku.woff?raw=true') format('woff');\n",
       "}\n",
       "\n",
       "@font-face {\n",
       "  font-family: \"SantakkuM\";\n",
       "  src: local('SantakkuM'),\n",
       "    url('/server/static/fonts/SantakkuM.woff') format('woff'),\n",
       "    url('https://github.com/annotation/text-fabric/blob/master/tf/server/static/fonts/SantakkuM.woff?raw=true') format('woff');\n",
       "}\n",
       "/* bypassing some classical notebook settings */\n",
       "div#notebook {\n",
       "  line-height: unset;\n",
       "}\n",
       "/* neutral text */\n",
       ".txtn,.txtn a:visited,.txtn a:link {\n",
       "    font-family: sans-serif;\n",
       "    font-size: medium;\n",
       "    direction: ltr;\n",
       "    text-decoration: none;\n",
       "    color: var(--text-color);\n",
       "}\n",
       "/* transcription text */\n",
       ".txtt,.txtt a:visited,.txtt a:link {\n",
       "    font-family: monospace;\n",
       "    font-size: medium;\n",
       "    direction: ltr;\n",
       "    text-decoration: none;\n",
       "    color: var(--text-color);\n",
       "}\n",
       "/* source text */\n",
       ".txto,.txto a:visited,.txto a:link {\n",
       "    font-family: serif;\n",
       "    font-size: medium;\n",
       "    direction: ltr;\n",
       "    text-decoration: none;\n",
       "    color: var(--text-color);\n",
       "}\n",
       "/* phonetic text */\n",
       ".txtp,.txtp a:visited,.txtp a:link {\n",
       "    font-family: Gentium, sans-serif;\n",
       "    font-size: medium;\n",
       "    direction: ltr;\n",
       "    text-decoration: none;\n",
       "    color: var(--text-color);\n",
       "}\n",
       "/* original script text */\n",
       ".txtu,.txtu a:visited,.txtu a:link {\n",
       "    font-family: Gentium, sans-serif;\n",
       "    font-size: medium;\n",
       "    text-decoration: none;\n",
       "    color: var(--text-color);\n",
       "}\n",
       "/* hebrew */\n",
       ".txtu.hbo,.lex.hbo {\n",
       "    font-family: \"Ezra SIL\", \"SBL Hebrew\", sans-serif;\n",
       "    font-size: large;\n",
       "    direction: rtl ! important;\n",
       "    unicode-bidi: embed;\n",
       "}\n",
       "/* syriac */\n",
       ".txtu.syc,.lex.syc {\n",
       "    font-family: \"Estrangelo Edessa\", sans-serif;\n",
       "    font-size: medium;\n",
       "    direction: rtl ! important;\n",
       "    unicode-bidi: embed;\n",
       "}\n",
       "/* neo aramaic */\n",
       ".txtu.cld,.lex.cld {\n",
       "    font-family: \"CharisSIL-R\", sans-serif;\n",
       "    font-size: medium;\n",
       "    direction: ltr ! important;\n",
       "    unicode-bidi: embed;\n",
       "}\n",
       "/* standard arabic */\n",
       ".txtu.ara,.lex.ara {\n",
       "    font-family: \"AmiriQuran\", sans-serif;\n",
       "    font-size: large;\n",
       "    direction: rtl ! important;\n",
       "    unicode-bidi: embed;\n",
       "}\n",
       "/* cuneiform */\n",
       ".txtu.akk,.lex.akk {\n",
       "    font-family: Santakku, sans-serif;\n",
       "    font-size: large;\n",
       "    direction: ltr ! important;\n",
       "    unicode-bidi: embed;\n",
       "}\n",
       "/* greek */\n",
       ".txtu.grc,.lex.grc a:link {\n",
       "    font-family: Gentium, sans-serif;\n",
       "    font-size: medium;\n",
       "    direction: ltr ! important;\n",
       "    unicode-bidi: embed;\n",
       "}\n",
       "a:hover {\n",
       "    text-decoration: underline | important;\n",
       "    color: #0000ff | important;\n",
       "}\n",
       ".ltr {\n",
       "    direction: ltr ! important;\n",
       "}\n",
       ".rtl {\n",
       "    direction: rtl ! important;\n",
       "}\n",
       ".features {\n",
       "    font-family: monospace;\n",
       "    font-size: medium;\n",
       "    font-weight: bold;\n",
       "    color: var(--features);\n",
       "    display: flex;\n",
       "    flex-flow: column nowrap;\n",
       "    justify-content: flex-start;\n",
       "    align-items: flex-start;\n",
       "    align-content: flex-start;\n",
       "    padding: 0.1rem;\n",
       "    margin: 0.1rem;\n",
       "    direction: ltr;\n",
       "    border: var(--meta-width) solid var(--meta-color);\n",
       "    border-radius: var(--meta-width);\n",
       "}\n",
       ".features div,.features span {\n",
       "    padding: 0;\n",
       "    margin: -0.1rem 0;\n",
       "}\n",
       ".features .f {\n",
       "    font-family: sans-serif;\n",
       "    font-size: small;\n",
       "    font-weight: normal;\n",
       "    color: #5555bb;\n",
       "}\n",
       ".features .xft {\n",
       "  color: #000000;\n",
       "  background-color: #eeeeee;\n",
       "  font-size: medium;\n",
       "  margin: 0.1rem 0rem;\n",
       "}\n",
       ".features .xft .f {\n",
       "  color: #000000;\n",
       "  background-color: #eeeeee;\n",
       "  font-size: small;\n",
       "  font-weight: normal;\n",
       "}\n",
       ".section {\n",
       "    font-family: sans-serif;\n",
       "    font-size: small;\n",
       "    font-weight: bold;\n",
       "    color: var(--section);\n",
       "    unicode-bidi: embed;\n",
       "    text-align: start;\n",
       "}\n",
       ".structure {\n",
       "    font-family: sans-serif;\n",
       "    font-size: small;\n",
       "    font-weight: bold;\n",
       "    color: var(--structure);\n",
       "    unicode-bidi: embed;\n",
       "    text-align: start;\n",
       "}\n",
       ".comments {\n",
       "    display: flex;\n",
       "    justify-content: flex-start;\n",
       "    align-items: flex-start;\n",
       "    align-content: flex-start;\n",
       "    flex-flow: column nowrap;\n",
       "}\n",
       ".nd, a:link.nd {\n",
       "    font-family: sans-serif;\n",
       "    font-size: small;\n",
       "    color: var(--node);\n",
       "    vertical-align: super;\n",
       "    direction: ltr ! important;\n",
       "    unicode-bidi: embed;\n",
       "}\n",
       ".lex {\n",
       "  color: var(--lex-color);;\n",
       "}\n",
       ".children,.children.ltr {\n",
       "    display: flex;\n",
       "    border: 0;\n",
       "    background-color: #ffffff;\n",
       "    justify-content: flex-start;\n",
       "    align-items: flex-start;\n",
       "    align-content: flex-start;\n",
       "}\n",
       ".children.stretch {\n",
       "    align-items: stretch;\n",
       "}\n",
       ".children.hor {\n",
       "    flex-flow: row nowrap;\n",
       "}\n",
       ".children.hor.wrap {\n",
       "    flex-flow: row wrap;\n",
       "}\n",
       ".children.ver {\n",
       "    flex-flow: column nowrap;\n",
       "}\n",
       ".children.ver.wrap {\n",
       "    flex-flow: column wrap;\n",
       "}\n",
       ".contnr {\n",
       "    width: fit-content;\n",
       "    display: flex;\n",
       "    justify-content: flex-start;\n",
       "    align-items: flex-start;\n",
       "    align-content: flex-start;\n",
       "    flex-flow: column nowrap;\n",
       "    background: #ffffff none repeat scroll 0 0;\n",
       "    padding:  0.5rem 0.1rem 0.1rem 0.1rem;\n",
       "    margin: 0.8rem 0.1rem 0.1rem 0.1rem;\n",
       "    border-style: solid;\n",
       "    font-size: small;\n",
       "}\n",
       ".contnr.trm {\n",
       "    background-attachment: local;\n",
       "}\n",
       ".contnr.cnul {\n",
       "    padding:  0;\n",
       "    margin: 0;\n",
       "    border-style: solid;\n",
       "    font-size: xx-small;\n",
       "}\n",
       ".contnr.cnul,.lbl.cnul {\n",
       "    border-color: var(--border-color-nul);\n",
       "    border-width: var(--border-width-nul);\n",
       "    border-radius: var(--border-width-nul);\n",
       "}\n",
       ".contnr.c0,.lbl.c0 {\n",
       "    border-color: var(--border-color0);\n",
       "    border-width: var(--border-width0);\n",
       "    border-radius: var(--border-width0);\n",
       "}\n",
       ".contnr.c1,.lbl.c1 {\n",
       "    border-color: var(--border-color1);\n",
       "    border-width: var(--border-width1);\n",
       "    border-radius: var(--border-width1);\n",
       "}\n",
       ".contnr.c2,.lbl.c2 {\n",
       "    border-color: var(--border-color2);\n",
       "    border-width: var(--border-width2);\n",
       "    border-radius: var(--border-width2);\n",
       "}\n",
       ".contnr.c3,.lbl.c3 {\n",
       "    border-color: var(--border-color3);\n",
       "    border-width: var(--border-width3);\n",
       "    border-radius: var(--border-width3);\n",
       "}\n",
       ".contnr.c4,.lbl.c4 {\n",
       "    border-color: var(--border-color4);\n",
       "    border-width: var(--border-width4);\n",
       "    border-radius: var(--border-width4);\n",
       "}\n",
       "span.plain {\n",
       "    display: inline-block;\n",
       "    white-space: pre-wrap;\n",
       "}\n",
       ".plain {\n",
       "    background-color: #ffffff;\n",
       "}\n",
       ".plain.l,.contnr.l,.contnr.l>.lbl {\n",
       "    border-left-style: dotted\n",
       "}\n",
       ".plain.r,.contnr.r,.contnr.r>.lbl {\n",
       "    border-right-style: dotted\n",
       "}\n",
       ".plain.lno,.contnr.lno,.contnr.lno>.lbl {\n",
       "    border-left-style: none\n",
       "}\n",
       ".plain.rno,.contnr.rno,.contnr.rno>.lbl {\n",
       "    border-right-style: none\n",
       "}\n",
       ".plain.l {\n",
       "    padding-left: 0.2rem;\n",
       "    margin-left: 0.1rem;\n",
       "    border-width: var(--border-width-plain);\n",
       "}\n",
       ".plain.r {\n",
       "    padding-right: 0.2rem;\n",
       "    margin-right: 0.1rem;\n",
       "    border-width: var(--border-width-plain);\n",
       "}\n",
       ".lbl {\n",
       "    font-family: monospace;\n",
       "    margin-top: -1.2rem;\n",
       "    margin-left: 1rem;\n",
       "    background: #ffffff none repeat scroll 0 0;\n",
       "    padding: 0 0.3rem;\n",
       "    border-style: solid;\n",
       "    display: block;\n",
       "    color: var(--label)\n",
       "}\n",
       ".lbl.trm {\n",
       "    background-attachment: local;\n",
       "    margin-top: 0.1rem;\n",
       "    margin-left: 0.1rem;\n",
       "    padding: 0.1rem 0.1rem;\n",
       "    border-style: none;\n",
       "}\n",
       ".lbl.cnul {\n",
       "    font-size: xx-small;\n",
       "}\n",
       ".lbl.c0 {\n",
       "    font-size: small;\n",
       "}\n",
       ".lbl.c1 {\n",
       "    font-size: small;\n",
       "}\n",
       ".lbl.c2 {\n",
       "    font-size: medium;\n",
       "}\n",
       ".lbl.c3 {\n",
       "    font-size: medium;\n",
       "}\n",
       ".lbl.c4 {\n",
       "    font-size: large;\n",
       "}\n",
       ".occs, a:link.occs {\n",
       "    font-size: small;\n",
       "}\n",
       "\n",
       "/* PROVENANCE */\n",
       "\n",
       "div.prov {\n",
       "\tmargin: 2rem;\n",
       "\tpadding: 1rem;\n",
       "\tborder: 0.1rem solid var(--fog-rim);\n",
       "}\n",
       "div.pline {\n",
       "\tdisplay: flex;\n",
       "\tflex-flow: row nowrap;\n",
       "\tjustify-content: stretch;\n",
       "\talign-items: baseline;\n",
       "}\n",
       "div.p2line {\n",
       "\tmargin-left: 2em;\n",
       "\tdisplay: flex;\n",
       "\tflex-flow: row nowrap;\n",
       "\tjustify-content: stretch;\n",
       "\talign-items: baseline;\n",
       "}\n",
       "div.psline {\n",
       "\tdisplay: flex;\n",
       "\tflex-flow: row nowrap;\n",
       "\tjustify-content: stretch;\n",
       "\talign-items: baseline;\n",
       "\tbackground-color: var(--gold-mist-back);\n",
       "}\n",
       "div.pname {\n",
       "\tflex: 0 0 5rem;\n",
       "\tfont-weight: bold;\n",
       "}\n",
       "div.pval {\n",
       "    flex: 1 1 auto;\n",
       "}\n",
       "\n",
       ":root {\n",
       "\t--node:               hsla(120, 100%,  20%, 1.0  );\n",
       "\t--label:              hsla(  0, 100%,  20%, 1.0  );\n",
       "\t--section:            hsla(  0, 100%,  25%, 1.0  );\n",
       "\t--structure:          hsla(120, 100%,  25%, 1.0  );\n",
       "\t--features:           hsla(  0,   0%,  30%, 1.0  );\n",
       "  --text-color:         hsla( 60,  80%,  10%, 1.0  );\n",
       "  --lex-color:          hsla(220,  90%,  60%, 1.0  );\n",
       "  --meta-color:         hsla(  0,   0%,  90%, 0.7  );\n",
       "  --meta-width:         0.15rem;\n",
       "  --border-color-nul:   hsla(  0,   0%,  90%, 0.5  );\n",
       "  --border-color0:      hsla(  0,   0%,  90%, 0.9  );\n",
       "  --border-color1:      hsla(  0,   0%,  80%, 0.9  );\n",
       "  --border-color2:      hsla(  0,   0%,  70%, 0.9  );\n",
       "  --border-color3:      hsla(  0,   0%,  80%, 0.8  );\n",
       "  --border-color4:      hsla(  0,   0%,  60%, 0.9  );\n",
       "  --border-width-nul:   0.1rem;\n",
       "  --border-width0:      0.1rem;\n",
       "  --border-width1:      0.15rem;\n",
       "  --border-width2:      0.2rem;\n",
       "  --border-width3:      0.3rem;\n",
       "  --border-width4:      0.25rem;\n",
       "  --border-width-plain: 0.1rem;\n",
       "}\n",
       ".hl {\n",
       "  background-color: var(--hl-strong);\n",
       "}\n",
       "span.hl {\n",
       "\tbackground-color: var(--hl-strong);\n",
       "\tborder-width: 0;\n",
       "\tborder-radius: 0.1rem;\n",
       "\tborder-style: solid;\n",
       "}\n",
       "div.contnr.hl,div.lbl.hl {\n",
       "  background-color: var(--hl-strong);\n",
       "}\n",
       "div.contnr.hl {\n",
       "  border-color: var(--hl-rim) ! important;\n",
       "\tborder-width: 0.2rem ! important;\n",
       "}\n",
       "\n",
       "span.hlbx {\n",
       "\tborder-color: var(--hl-rim);\n",
       "\tborder-width: 0.2rem ! important;\n",
       "\tborder-style: solid;\n",
       "\tborder-radius: 0.3rem;\n",
       "  padding: 0.2rem;\n",
       "  margin: 0.2rem;\n",
       "}\n",
       "\n",
       "span.plain {\n",
       "  display: inline-block;\n",
       "  white-space: pre-wrap;\n",
       "}\n",
       "\n",
       ":root {\n",
       "\t--hl-strong:        hsla( 60, 100%,  70%, 0.9  );\n",
       "\t--hl-rim:           hsla( 55,  80%,  50%, 1.0  );\n",
       "}\n",
       ".full,.glyph,.punc {\n",
       "    font-family: \"Ezra SIL\", \"SBL Hebrew\", sans-serif;\n",
       "}\n",
       ".scriptpaleohebrew {\n",
       "    border: 1px dashed navy;\n",
       "}\n",
       ".scriptgreekcapital {\n",
       "    border: 1px dashed brown;\n",
       "}\n",
       ".langa {\n",
       "    text-decoration: underline;\n",
       "}\n",
       ".intl1 {\n",
       "    vertical-align: -0.25em;\n",
       "}\n",
       ".intl2 {\n",
       "    vertical-align: -0.5em;\n",
       "}\n",
       ".langg {\n",
       "    font-family: serif;\n",
       "    text-decoration: underline;\n",
       "}\n",
       ".vac1 {\n",
       "    background-color: #aaaaaa;\n",
       "    border 2pt solid #dd3333;\n",
       "    border-radius: 4pt;\n",
       "}\n",
       ".rem1 {\n",
       "    font-weight: bold;\n",
       "    color: red;\n",
       "    text-decoration: line-through;\n",
       "}\n",
       ".rem2 {\n",
       "    font-weight: bold;\n",
       "    color: maroon;\n",
       "    text-decoration: line-through;\n",
       "}\n",
       ".rec1 {\n",
       "    color: teal;\n",
       "    font-size: 80%;\n",
       "}\n",
       ".cor1 {\n",
       "    font-weight: bold;\n",
       "    color: dodgerblue;\n",
       "    text-decoration: overline;\n",
       "}\n",
       ".cor2 {\n",
       "    font-weight: bold;\n",
       "    color: navy;\n",
       "    text-decoration: overline;\n",
       "}\n",
       ".cor3 {\n",
       "    font-weight: bold;\n",
       "    color: navy;\n",
       "    text-decoration: overline;\n",
       "    vertical-align: super;\n",
       "}\n",
       ".alt1 {\n",
       "    text-decoration: overline;\n",
       "}\n",
       "\n",
       "/* UNSURE: italic*/\n",
       "\n",
       ".unc1 {\n",
       "    font-weight: bold;\n",
       "    color: #888888;\n",
       "}\n",
       ".unc2 {\n",
       "    font-weight: bold;\n",
       "    color: #bbbbbb;\n",
       "}\n",
       ".unc3 {\n",
       "    font-weight: bold;\n",
       "    color: #bbbbbb;\n",
       "    text-shadow: #cccccc 1px 1px;\n",
       "}\n",
       ".unc4 {\n",
       "    font-weight: bold;\n",
       "    color: #dddddd;\n",
       "    text-shadow: #eeeeee 2px 2px;\n",
       "}\n",
       "\n",
       ".empty {\n",
       "  color: #ff0000;\n",
       "}\n",
       "\n",
       "</style>"
      ],
      "text/plain": [
       "<IPython.core.display.HTML object>"
      ]
     },
     "metadata": {},
     "output_type": "display_data"
    },
    {
     "data": {
      "text/html": [
       "<div><b>Text-Fabric API:</b> names <a target=\"_blank\" href=\"https://annotation.github.io/text-fabric/cheatsheet.html\" title=\"doc\">N F E L T S C TF</a> directly usable</div><hr>"
      ],
      "text/plain": [
       "<IPython.core.display.HTML object>"
      ]
     },
     "metadata": {},
     "output_type": "display_data"
    }
   ],
   "source": [
    "# A = use('dss', hoist=globals())\n",
    "A = use(\"dss:clone\", checkout=\"clone\", hoist=globals())"
   ]
  },
  {
   "cell_type": "markdown",
   "metadata": {},
   "source": [
    "The new feature is **sim** and it it an edge feature.\n",
    "It annotates pairs of lines $(l, m)$ where $l$ and $m$ have similar content.\n",
    "The degree of similarity is a percentage (between 60 and 100), and this value\n",
    "is annotated onto the edges.\n",
    "\n",
    "Here is an example:"
   ]
  },
  {
   "cell_type": "code",
   "execution_count": 4,
   "metadata": {},
   "outputs": [
    {
     "name": "stdout",
     "output_type": "stream",
     "text": [
      "1 similar lines\n",
      "1563769 with similarity 69\n"
     ]
    },
    {
     "data": {
      "text/html": [
       "<table><tr class=\"tf rtl\"><th class=\"tf rtl\">n</th><th class=\"tf rtl\">p</th><th class=\"tf rtl\">line</th></tr>\n",
       "<tr class=\"tf rtl\"><td class=\"tf rtl\">1</td><td class=\"tf rtl\"><span class=\"section ltr\"><a target=\"_blank\" href=\"https://www.deadseascrolls.org.il/explore-the-archive/search#q='CD'\" title=\"Show this scroll in the Leon Levy library\" sec=\"CD 1:1\">CD 1:1</a></span></td><td class=\"tf rtl\"><div class=\"rtl\"><span class=\"txtu hbo\">  </span><span class=\"txtu hbo\">ו</span><span class=\"txtu hbo\">ע</span><span class=\"txtu hbo\">ת</span><span class=\"txtu hbo\">ה </span><span class=\"txtu hbo\">ש</span><span class=\"txtu hbo\">מ</span><span class=\"txtu hbo\">ע</span><span class=\"txtu hbo\">ו </span><span class=\"txtu hbo\">כ</span><span class=\"txtu hbo\">ל </span><span class=\"txtu hbo\">י</span><span class=\"txtu hbo\">ו</span><span class=\"txtu hbo\">ד</span><span class=\"txtu hbo\">ע</span><span class=\"txtu hbo\">י </span><span class=\"txtu hbo\">צ</span><span class=\"txtu hbo\">ד</span><span class=\"txtu hbo\">ק </span><span class=\"txtu hbo\">ו</span><span class=\"txtu hbo\">ב</span><span class=\"txtu hbo\">י</span><span class=\"txtu hbo\">נ</span><span class=\"txtu hbo\">ו </span><span class=\"txtu hbo\">ב</span><span class=\"txtu hbo\">מ</span><span class=\"txtu hbo\">ע</span><span class=\"txtu hbo\">ש</span><span class=\"txtu hbo\">י </span></div></td></tr>\n",
       "<tr class=\"tf rtl\"><td class=\"tf rtl\">2</td><td class=\"tf rtl\"><span class=\"section ltr\"><a target=\"_blank\" href=\"https://www.deadseascrolls.org.il/explore-the-archive/search#q='4Q268'\" title=\"Show this scroll in the Leon Levy library\" sec=\"4Q268 f1:9\">4Q268 f1:9</a></span></td><td class=\"tf rtl\"><div class=\"rtl\"><span class=\"txtu hbo\">ו</span><span class=\"txtu hbo\">ע</span><span class=\"txtu hbo\">ת</span><span class=\"txtu hbo\">ה </span><span class=\"txtu hbo\">ש</span><span class=\"txtu hbo\">מ</span><span class=\"txtu hbo\">ע</span><span class=\"txtu hbo\">ו </span><span class=\"txtu hbo\">ל</span><span class=\"txtu hbo\">׳</span><span class=\"txtu hbo\">י </span><span class=\"txtu hbo\">כ</span><span class=\"txtu hbo\">ו</span><span class=\"txtu hbo\">ל </span><span class=\"txtu hbo\">י</span><span class=\"txtu hbo\">ו</span><span class=\"txtu hbo\">ד</span><span class=\"txtu hbo\">ע</span><span class=\"txtu hbo\">י </span><span class=\"txtu hbo\">צ</span><span class=\"txtu hbo\">ד</span><span class=\"txtu hbo\">ק </span><span class=\"txtu hbo\">ו</span><span class=\"txtu hbo\">ב</span><span class=\"txtu hbo\">י</span><span class=\"txtu hbo\">נ</span><span class=\"txtu hbo\">ו </span><span class=\"txtu hbo\">ב</span><span class=\"txtu hbo\">מ</span><span class=\"txtu hbo\">ע</span><span class=\"txtu hbo\">ש</span><span class=\"txtu hbo\">י </span><span class=\"txtu hbo\">א</span><span class=\"txtu hbo\">ל </span><span class=\"txtu hbo\">׃ </span><span class=\"txtu hbo\">כ</span><span class=\"txtu hbo\">י </span><span class=\"txtu hbo\">ר</span><span class=\"txtu hbo\">י</span><span class=\"txtu hbo\">ב </span></div></td></tr></table>"
      ],
      "text/plain": [
       "<IPython.core.display.HTML object>"
      ]
     },
     "metadata": {},
     "output_type": "display_data"
    }
   ],
   "source": [
    "allLines = F.otype.s(\"line\")\n",
    "nLines = len(allLines)\n",
    "exampleLine = allLines[0]\n",
    "sisters = E.sim.b(exampleLine)\n",
    "print(f\"{len(sisters)} similar lines\")\n",
    "print(\"\\n\".join(f\"{s[0]} with similarity {s[1]}\" for s in sisters[0:10]))\n",
    "A.table(tuple((s[0],) for s in ((exampleLine,), *sisters)), end=10)"
   ]
  },
  {
   "cell_type": "markdown",
   "metadata": {},
   "source": [
    "# All similarities\n",
    "\n",
    "Let's first find out the range of similarities:"
   ]
  },
  {
   "cell_type": "code",
   "execution_count": 5,
   "metadata": {},
   "outputs": [
    {
     "name": "stdout",
     "output_type": "stream",
     "text": [
      "minimum similarity is  60\n",
      "maximum similarity is 100\n"
     ]
    }
   ],
   "source": [
    "minSim = None\n",
    "maxSim = None\n",
    "similarity = dict()\n",
    "\n",
    "for ln in F.otype.s(\"line\"):\n",
    "    sisters = E.sim.f(ln)\n",
    "    if not sisters:\n",
    "        continue\n",
    "    for (m, s) in sisters:\n",
    "        similarity[(ln, m)] = s\n",
    "    thisMin = min(s[1] for s in sisters)\n",
    "    thisMax = max(s[1] for s in sisters)\n",
    "    if minSim is None or thisMin < minSim:\n",
    "        minSim = thisMin\n",
    "    if maxSim is None or thisMax > maxSim:\n",
    "        maxSim = thisMax\n",
    "\n",
    "print(f\"minimum similarity is {minSim:>3}\")\n",
    "print(f\"maximum similarity is {maxSim:>3}\")"
   ]
  },
  {
   "cell_type": "markdown",
   "metadata": {},
   "source": [
    "# The bottom lines\n",
    "\n",
    "We give a few examples of the least similar lines.\n",
    "\n",
    "We can use a search template to get the 90% lines."
   ]
  },
  {
   "cell_type": "code",
   "execution_count": 6,
   "metadata": {},
   "outputs": [],
   "source": [
    "query = \"\"\"\n",
    "line\n",
    "-sim=60> line\n",
    "\"\"\""
   ]
  },
  {
   "cell_type": "markdown",
   "metadata": {},
   "source": [
    "In words: find a line connected via a sim-edge with value 60 to an other line."
   ]
  },
  {
   "cell_type": "code",
   "execution_count": 7,
   "metadata": {},
   "outputs": [
    {
     "name": "stdout",
     "output_type": "stream",
     "text": [
      "  0.17s 24546 results\n"
     ]
    }
   ],
   "source": [
    "results = A.search(query)"
   ]
  },
  {
   "cell_type": "code",
   "execution_count": 8,
   "metadata": {},
   "outputs": [
    {
     "data": {
      "text/html": [
       "<table><tr class=\"tf rtl\"><th class=\"tf rtl\">n</th><th class=\"tf rtl\">line</th><th class=\"tf\">line</th></tr>\n",
       "<tr class=\"tf rtl\"><td class=\"tf rtl\">1</td><td class=\"tf rtl\"><div class=\"rtl\"><span class=\"section rtl\"><a target=\"_blank\" href=\"https://www.deadseascrolls.org.il/explore-the-archive/search#q='CD'\" title=\"Show this scroll in the Leon Levy library\" sec=\"CD 3:9\">CD 3:9</a></span>  <span class=\"txtu hbo\">ב</span><span class=\"txtu hbo\">ע</span><span class=\"txtu hbo\">ד</span><span class=\"txtu hbo\">ת</span><span class=\"txtu hbo\">׳</span><span class=\"txtu hbo\">ם </span><span class=\"txtu hbo\">׃ </span><span class=\"txtu hbo\">ו</span><span class=\"txtu hbo\">ב</span><span class=\"txtu hbo\">נ</span><span class=\"txtu hbo\">י</span><span class=\"txtu hbo\">׳</span><span class=\"txtu hbo\">ה</span><span class=\"txtu hbo\">ם </span><span class=\"txtu hbo\">ב</span><span class=\"txtu hbo\">׳</span><span class=\"txtu hbo\">ו </span><span class=\"txtu hbo\">א</span><span class=\"txtu hbo\">ב</span><span class=\"txtu hbo\">ד</span><span class=\"txtu hbo\">ו </span><span class=\"txtu hbo\">ו</span><span class=\"txtu hbo\">מ</span><span class=\"txtu hbo\">ל</span><span class=\"txtu hbo\">כ</span><span class=\"txtu hbo\">י</span><span class=\"txtu hbo\">׳</span><span class=\"txtu hbo\">ה</span><span class=\"txtu hbo\">ם </span><span class=\"txtu hbo\">ב</span><span class=\"txtu hbo\">׳</span><span class=\"txtu hbo\">ו </span><span class=\"txtu hbo\">נ</span><span class=\"txtu hbo\">כ</span><span class=\"txtu hbo\">ר</span><span class=\"txtu hbo\">ת</span><span class=\"txtu hbo\">ו </span><span class=\"txtu hbo\">ו</span><span class=\"txtu hbo\">ג</span><span class=\"txtu hbo\">י</span><span class=\"txtu hbo\">ב</span><span class=\"txtu hbo\">ו</span><span class=\"txtu hbo\">ר</span><span class=\"txtu hbo\">י</span><span class=\"txtu hbo\">׳</span><span class=\"txtu hbo\">ה</span><span class=\"txtu hbo\">ם </span><span class=\"txtu hbo\">ב</span><span class=\"txtu hbo\">׳</span><span class=\"txtu hbo\">ו </span></div></td><td class=\"tf rtl\"><div class=\"rtl\"><span class=\"section rtl\"><a target=\"_blank\" href=\"https://www.deadseascrolls.org.il/explore-the-archive/search#q='4Q269'\" title=\"Show this scroll in the Leon Levy library\" sec=\"4Q269 f2:4\">4Q269 f2:4</a></span>  <span class=\"txtu hbo\">א</span><span class=\"txtu hbo\">ב</span><span class=\"txtu hbo\">ד</span><span class=\"txtu hbo\">ו </span><span class=\"txtu hbo\">ו</span><span class=\"txtu hbo\">מ</span><span class=\"txtu hbo\">ל</span><span class=\"txtu hbo\">כ</span><span class=\"txtu hbo\">י</span><span class=\"txtu hbo\">׳</span><span class=\"txtu hbo\">ה</span><span class=\"txtu hbo\">ם </span><span class=\"txtu hbo\">ב</span><span class=\"txtu hbo\">׳</span><span class=\"txtu hbo\">ו </span><span class=\"txtu hbo\">נ</span><span class=\"txtu hbo\">כ</span><span class=\"txtu hbo\">ר</span><span class=\"txtu hbo\">ת</span><span class=\"txtu hbo\">ו </span><span class=\"txtu hbo\">ו</span><span class=\"txtu hbo\">ג</span><span class=\"txtu hbo\">ב</span><span class=\"txtu hbo\">ו</span><span class=\"txtu hbo\">ר</span><span class=\"txtu hbo\">י</span><span class=\"txtu hbo\">׳</span><span class=\"txtu hbo\">ה</span><span class=\"txtu hbo\">ם </span><span class=\"txtu hbo\">ב</span><span class=\"txtu hbo\">׳</span><span class=\"txtu hbo\">ו </span><span class=\"txtu hbo\">א</span><span class=\"txtu hbo\">ב</span><span class=\"txtu hbo\">ד</span><span class=\"txtu hbo\">ו </span><span class=\"txtu hbo\">ו</span><span class=\"txtu hbo\">א</span><span class=\"txtu hbo\">ר</span><span class=\"txtu hbo\">צ</span><span class=\"txtu hbo\">׳</span><span class=\"txtu hbo\">ם </span><span class=\"txtu hbo\">ב</span><span class=\"txtu hbo\">׳</span><span class=\"txtu hbo\">ו </span><span class=\"txtu hbo\">ש</span><span class=\"txtu hbo\">מ</span><span class=\"txtu hbo\">מ</span><span class=\"txtu hbo\">ה </span><span class=\"txtu hbo\">׃ </span></div></td></tr>\n",
       "<tr class=\"tf rtl\"><td class=\"tf rtl\">2</td><td class=\"tf rtl\"><div class=\"rtl\"><span class=\"section rtl\"><a target=\"_blank\" href=\"https://www.deadseascrolls.org.il/explore-the-archive/search#q='CD'\" title=\"Show this scroll in the Leon Levy library\" sec=\"CD 7:11\">CD 7:11</a></span>  <span class=\"txtu hbo\">א</span><span class=\"txtu hbo\">ש</span><span class=\"txtu hbo\">ר </span><span class=\"txtu hbo\">א</span><span class=\"txtu hbo\">מ</span><span class=\"txtu hbo\">ר </span><span class=\"txtu hbo\">י</span><span class=\"txtu hbo\">ב</span><span class=\"txtu hbo\">ו</span><span class=\"txtu hbo\">א </span><span class=\"txtu hbo\">ע</span><span class=\"txtu hbo\">ל</span><span class=\"txtu hbo\">י</span><span class=\"txtu hbo\">׳</span><span class=\"txtu hbo\">ך </span><span class=\"txtu hbo\">ו</span><span class=\"txtu hbo\">ע</span><span class=\"txtu hbo\">ל </span><span class=\"txtu hbo\">ע</span><span class=\"txtu hbo\">מ</span><span class=\"txtu hbo\">׳</span><span class=\"txtu hbo\">ך </span><span class=\"txtu hbo\">ו</span><span class=\"txtu hbo\">ע</span><span class=\"txtu hbo\">ל </span><span class=\"txtu hbo\">ב</span><span class=\"txtu hbo\">י</span><span class=\"txtu hbo\">ת </span><span class=\"txtu hbo\">א</span><span class=\"txtu hbo\">ב</span><span class=\"txtu hbo\">י</span><span class=\"txtu hbo\">׳</span><span class=\"txtu hbo\">ך </span><span class=\"txtu hbo\">י</span><span class=\"txtu hbo\">מ</span><span class=\"txtu hbo\">י</span><span class=\"txtu hbo\">ם </span><span class=\"txtu hbo\">א</span><span class=\"txtu hbo\">ש</span><span class=\"txtu hbo\">ר </span><span class=\"txtu hbo\">ל</span><span class=\"txtu hbo\">א </span></div></td><td class=\"tf rtl\"><div class=\"rtl\"><span class=\"section rtl\"><a target=\"_blank\" href=\"https://www.deadseascrolls.org.il/explore-the-archive/search#q='4Q59'\" title=\"Show this scroll in the Leon Levy library\" sec=\"4Q59 f2_3:1\">4Q59 f2_3:1</a></span>  <span class=\"txtu hbo\">י</span><span class=\"txtu hbo\">ב</span><span class=\"txtu hbo\">י</span><span class=\"txtu hbo\">א </span><span class=\"txtu hbo\">י</span><span class=\"txtu hbo\">ה</span><span class=\"txtu hbo\">ו</span><span class=\"txtu hbo\">ה </span><span class=\"txtu hbo\">ע</span><span class=\"txtu hbo\">ל</span><span class=\"txtu hbo\">י</span><span class=\"txtu hbo\">׳</span><span class=\"txtu hbo\">ך </span><span class=\"txtu hbo\">ו</span><span class=\"txtu hbo\">ע</span><span class=\"txtu hbo\">ל </span><span class=\"txtu hbo\">ע</span><span class=\"txtu hbo\">מ</span><span class=\"txtu hbo\">׳</span><span class=\"txtu hbo\">ך </span><span class=\"txtu hbo\">ו</span><span class=\"txtu hbo\">ע</span><span class=\"txtu hbo\">ל </span><span class=\"txtu hbo\">ב</span><span class=\"txtu hbo\">י</span><span class=\"txtu hbo\">ת </span><span class=\"txtu hbo\">א</span><span class=\"txtu hbo\">ב</span><span class=\"txtu hbo\">י</span><span class=\"txtu hbo\">׳</span><span class=\"txtu hbo\">ך </span><span class=\"txtu hbo\">י</span><span class=\"txtu hbo\">מ</span><span class=\"txtu hbo\">י</span><span class=\"txtu hbo\">ם </span><span class=\"txtu hbo\">א</span><span class=\"txtu hbo\">ש</span><span class=\"txtu hbo\">ר </span><span class=\"txtu hbo\">ל</span><span class=\"txtu hbo\">א </span><span class=\"txtu hbo\">ב</span><span class=\"txtu hbo\">א</span><span class=\"txtu hbo\">ו </span><span class=\"txtu hbo\">ל</span><span class=\"txtu hbo\">מ</span><span class=\"txtu hbo\">י</span><span class=\"txtu hbo\">ו</span><span class=\"txtu hbo\">ם </span><span class=\"txtu hbo\">ס</span><span class=\"txtu hbo\">ו</span><span class=\"txtu hbo\">ר </span><span class=\"txtu hbo\">א</span><span class=\"txtu hbo\">פ</span><span class=\"txtu hbo\">ר</span><span class=\"txtu hbo\">י</span><span class=\"txtu hbo\">ם </span></div></td></tr>\n",
       "<tr class=\"tf rtl\"><td class=\"tf rtl\">3</td><td class=\"tf rtl\"><div class=\"rtl\"><span class=\"section rtl\"><a target=\"_blank\" href=\"https://www.deadseascrolls.org.il/explore-the-archive/search#q='CD'\" title=\"Show this scroll in the Leon Levy library\" sec=\"CD 10:7\">CD 10:7</a></span>  <span class=\"txtu hbo\">ו</span><span class=\"txtu hbo\">ע</span><span class=\"txtu hbo\">ש</span><span class=\"txtu hbo\">ר</span><span class=\"txtu hbo\">י</span><span class=\"txtu hbo\">ם </span><span class=\"txtu hbo\">ש</span><span class=\"txtu hbo\">נ</span><span class=\"txtu hbo\">ה </span><span class=\"txtu hbo\">ע</span><span class=\"txtu hbo\">ד </span><span class=\"txtu hbo\">ב</span><span class=\"txtu hbo\">נ</span><span class=\"txtu hbo\">י </span><span class=\"txtu hbo\">ש</span><span class=\"txtu hbo\">ש</span><span class=\"txtu hbo\">י</span><span class=\"txtu hbo\">ם </span><span class=\"txtu hbo\">ש</span><span class=\"txtu hbo\">נ</span><span class=\"txtu hbo\">ה </span><span class=\"txtu hbo\">׃ </span><span class=\"txtu hbo\">ו</span><span class=\"txtu hbo\">א</span><span class=\"txtu hbo\">ל </span><span class=\"txtu hbo\">י</span><span class=\"txtu hbo\">ת</span><span class=\"txtu hbo\">י</span><span class=\"txtu hbo\">צ</span><span class=\"txtu hbo\">ב </span><span class=\"txtu hbo\">ע</span><span class=\"txtu hbo\">ו</span><span class=\"txtu hbo\">ד </span><span class=\"txtu hbo\">מ</span><span class=\"txtu hbo\">ב</span><span class=\"txtu hbo\">ן </span></div></td><td class=\"tf rtl\"><div class=\"rtl\"><span class=\"section rtl\"><a target=\"_blank\" href=\"https://www.deadseascrolls.org.il/explore-the-archive/search#q='4Q266'\" title=\"Show this scroll in the Leon Levy library\" sec=\"4Q266 f8iii:6\">4Q266 f8iii:6</a></span>  <span class=\"txtu hbo\">ו</span><span class=\"txtu hbo\">ב</span><span class=\"txtu hbo\">י</span><span class=\"txtu hbo\">ש</span><span class=\"txtu hbo\">ו</span><span class=\"txtu hbo\">ד</span><span class=\"txtu hbo\">י </span><span class=\"txtu hbo\">ה</span><span class=\"txtu hbo\">ב</span><span class=\"txtu hbo\">ר</span><span class=\"txtu hbo\">י</span><span class=\"txtu hbo\">ת </span><span class=\"txtu hbo\">מ</span><span class=\"txtu hbo\">ב</span><span class=\"txtu hbo\">נ</span><span class=\"txtu hbo\">י </span><span class=\"txtu hbo\">ח</span><span class=\"txtu hbo\">מ</span><span class=\"txtu hbo\">ש </span><span class=\"txtu hbo\">ו</span><span class=\"txtu hbo\">ע</span><span class=\"txtu hbo\">ש</span><span class=\"txtu hbo\">ר</span><span class=\"txtu hbo\">י</span><span class=\"txtu hbo\">ם </span><span class=\"txtu hbo\">ש</span><span class=\"txtu hbo\">נ</span><span class=\"txtu hbo\">ה </span><span class=\"txtu hbo\">ו</span><span class=\"txtu hbo\">ע</span><span class=\"txtu hbo\">ד </span><span class=\"txtu hbo\">ב</span><span class=\"txtu hbo\">ן </span><span class=\"txtu hbo\">ש</span><span class=\"txtu hbo\">ש</span><span class=\"txtu hbo\">י</span><span class=\"txtu hbo\">ם </span><span class=\"txtu hbo\">ש</span><span class=\"txtu hbo\">נ</span><span class=\"txtu hbo\">ה </span><span class=\"txtu hbo\">׃ </span><span class=\"txtu hbo\">ו</span><span class=\"txtu hbo\">א</span><span class=\"txtu hbo\">ל </span><span class=\"txtu hbo\">י</span><span class=\"txtu hbo\">ת</span><span class=\"txtu hbo\">י</span><span class=\"txtu hbo\">צ</span><span class=\"txtu hbo\">ב </span></div></td></tr>\n",
       "<tr class=\"tf rtl\"><td class=\"tf rtl\">4</td><td class=\"tf rtl\"><div class=\"rtl\"><span class=\"section rtl\"><a target=\"_blank\" href=\"https://www.deadseascrolls.org.il/explore-the-archive/search#q='CD'\" title=\"Show this scroll in the Leon Levy library\" sec=\"CD 10:16\">CD 10:16</a></span>  <span class=\"txtu hbo\">ר</span><span class=\"txtu hbo\">ח</span><span class=\"txtu hbo\">ו</span><span class=\"txtu hbo\">ק </span><span class=\"txtu hbo\">מ</span><span class=\"txtu hbo\">ן </span><span class=\"txtu hbo\">ה</span><span class=\"txtu hbo\">ש</span><span class=\"txtu hbo\">ע</span><span class=\"txtu hbo\">ר </span><span class=\"txtu hbo\">מ</span><span class=\"txtu hbo\">ל</span><span class=\"txtu hbo\">ו</span><span class=\"txtu hbo\">א</span><span class=\"txtu hbo\">׳</span><span class=\"txtu hbo\">ו </span><span class=\"txtu hbo\">׃ </span><span class=\"txtu hbo\">כ</span><span class=\"txtu hbo\">י </span><span class=\"txtu hbo\">ה</span><span class=\"txtu hbo\">ו</span><span class=\"txtu hbo\">א </span><span class=\"txtu hbo\">א</span><span class=\"txtu hbo\">ש</span><span class=\"txtu hbo\">ר </span><span class=\"txtu hbo\">א</span><span class=\"txtu hbo\">מ</span><span class=\"txtu hbo\">ר </span><span class=\"txtu hbo\">ש</span><span class=\"txtu hbo\">מ</span><span class=\"txtu hbo\">ו</span><span class=\"txtu hbo\">ר </span><span class=\"txtu hbo\">א</span><span class=\"txtu hbo\">ת </span></div></td><td class=\"tf rtl\"><div class=\"rtl\"><span class=\"section rtl\"><a target=\"_blank\" href=\"https://www.deadseascrolls.org.il/explore-the-archive/search#q='4Q270'\" title=\"Show this scroll in the Leon Levy library\" sec=\"4Q270 f6v:2\">4Q270 f6v:2</a></span>  <span class=\"txtu hbo\">מ</span><span class=\"txtu hbo\">ן </span><span class=\"txtu hbo\">ה</span><span class=\"txtu hbo\">ע</span><span class=\"txtu hbo\">ת </span><span class=\"txtu hbo\">א</span><span class=\"txtu hbo\">ש</span><span class=\"txtu hbo\">ר </span><span class=\"txtu hbo\">י</span><span class=\"txtu hbo\">ה</span><span class=\"txtu hbo\">י</span><span class=\"txtu hbo\">ה </span><span class=\"txtu hbo\">ג</span><span class=\"txtu hbo\">ל</span><span class=\"txtu hbo\">ג</span><span class=\"txtu hbo\">ל </span><span class=\"txtu hbo\">ה</span><span class=\"txtu hbo\">ש</span><span class=\"txtu hbo\">מ</span><span class=\"txtu hbo\">ש </span><span class=\"txtu hbo\">ר</span><span class=\"txtu hbo\">ח</span><span class=\"txtu hbo\">ו</span><span class=\"txtu hbo\">ק </span><span class=\"txtu hbo\">מ</span><span class=\"txtu hbo\">ן </span><span class=\"txtu hbo\">ה</span><span class=\"txtu hbo\">ש</span><span class=\"txtu hbo\">ע</span><span class=\"txtu hbo\">ר </span><span class=\"txtu hbo\">מ</span><span class=\"txtu hbo\">ל</span><span class=\"txtu hbo\">ו</span><span class=\"txtu hbo\">א</span><span class=\"txtu hbo\">׳</span><span class=\"txtu hbo\">ו </span><span class=\"txtu hbo\">כ</span><span class=\"txtu hbo\">י </span><span class=\"txtu hbo\">ה</span><span class=\"txtu hbo\">ו</span><span class=\"txtu hbo\">א </span><span class=\"txtu hbo\">א</span><span class=\"txtu hbo\">ש</span><span class=\"txtu hbo\">ר </span><span class=\"txtu hbo\">א</span><span class=\"txtu hbo\">מ</span><span class=\"txtu hbo\">ר </span></div></td></tr>\n",
       "<tr class=\"tf rtl\"><td class=\"tf rtl\">5</td><td class=\"tf rtl\"><div class=\"rtl\"><span class=\"section rtl\"><a target=\"_blank\" href=\"https://www.deadseascrolls.org.il/explore-the-archive/search#q='CD'\" title=\"Show this scroll in the Leon Levy library\" sec=\"CD 11:6\">CD 11:6</a></span>  <span class=\"txtu hbo\">א</span><span class=\"txtu hbo\">ם </span><span class=\"txtu hbo\">א</span><span class=\"txtu hbo\">ל</span><span class=\"txtu hbo\">פ</span><span class=\"txtu hbo\">י</span><span class=\"txtu hbo\">ם </span><span class=\"txtu hbo\">ב</span><span class=\"txtu hbo\">א</span><span class=\"txtu hbo\">מ</span><span class=\"txtu hbo\">ה </span><span class=\"txtu hbo\">׃ </span><span class=\"txtu hbo\">  </span><span class=\"txtu hbo\">א</span><span class=\"txtu hbo\">ל </span><span class=\"txtu hbo\">י</span><span class=\"txtu hbo\">ר</span><span class=\"txtu hbo\">ם </span><span class=\"txtu hbo\">א</span><span class=\"txtu hbo\">ת </span><span class=\"txtu hbo\">י</span><span class=\"txtu hbo\">ד</span><span class=\"txtu hbo\">׳</span><span class=\"txtu hbo\">ו </span><span class=\"txtu hbo\">ל</span><span class=\"txtu hbo\">ה</span><span class=\"txtu hbo\">כ</span><span class=\"txtu hbo\">ו</span><span class=\"txtu hbo\">ת</span><span class=\"txtu hbo\">׳</span><span class=\"txtu hbo\">ה </span><span class=\"txtu hbo\">ב</span><span class=\"txtu hbo\">א</span><span class=\"txtu hbo\">ג</span><span class=\"txtu hbo\">ר</span><span class=\"txtu hbo\">ו</span><span class=\"txtu hbo\">ף </span><span class=\"txtu hbo\">  </span><span class=\"txtu hbo\">א</span><span class=\"txtu hbo\">ם </span></div></td><td class=\"tf rtl\"><div class=\"rtl\"><span class=\"section rtl\"><a target=\"_blank\" href=\"https://www.deadseascrolls.org.il/explore-the-archive/search#q='4Q271'\" title=\"Show this scroll in the Leon Levy library\" sec=\"4Q271 f5i:3\">4Q271 f5i:3</a></span>  <span class=\"txtu hbo\">א</span><span class=\"txtu hbo\">ל </span><span class=\"txtu hbo\">י</span><span class=\"txtu hbo\">ר</span><span class=\"txtu hbo\">ם </span><span class=\"txtu hbo\">א</span><span class=\"txtu hbo\">י</span><span class=\"txtu hbo\">ש </span><span class=\"txtu hbo\">א</span><span class=\"txtu hbo\">ת </span><span class=\"txtu hbo\">י</span><span class=\"txtu hbo\">ד</span><span class=\"txtu hbo\">׳</span><span class=\"txtu hbo\">ו </span><span class=\"txtu hbo\">ל</span><span class=\"txtu hbo\">ה</span><span class=\"txtu hbo\">כ</span><span class=\"txtu hbo\">ו</span><span class=\"txtu hbo\">ת</span><span class=\"txtu hbo\">׳</span><span class=\"txtu hbo\">ה </span><span class=\"txtu hbo\">ב</span><span class=\"txtu hbo\">א</span><span class=\"txtu hbo\">ג</span><span class=\"txtu hbo\">ר</span><span class=\"txtu hbo\">ו</span><span class=\"txtu hbo\">ף </span><span class=\"txtu hbo\">׃ </span><span class=\"txtu hbo\">א</span><span class=\"txtu hbo\">ם </span><span class=\"txtu hbo\">ס</span><span class=\"txtu hbo\">ו</span><span class=\"txtu hbo\">ר</span><span class=\"txtu hbo\">ר</span><span class=\"txtu hbo\">ת </span><span class=\"txtu hbo\">ה</span><span class=\"txtu hbo\">י</span><span class=\"txtu hbo\">א </span><span class=\"txtu hbo\">א</span><span class=\"txtu hbo\">ל </span><span class=\"txtu hbo\">י</span><span class=\"txtu hbo\">ו</span><span class=\"txtu hbo\">צ</span><span class=\"txtu hbo\">י</span><span class=\"txtu hbo\">א</span><span class=\"txtu hbo\">׳</span><span class=\"txtu hbo\">ה </span></div></td></tr>\n",
       "<tr class=\"tf rtl\"><td class=\"tf rtl\">6</td><td class=\"tf rtl\"><div class=\"rtl\"><span class=\"section rtl\"><a target=\"_blank\" href=\"https://www.deadseascrolls.org.il/explore-the-archive/search#q='CD'\" title=\"Show this scroll in the Leon Levy library\" sec=\"CD 11:16\">CD 11:16</a></span>  <span class=\"txtu hbo\">  </span><span class=\"txtu hbo\">ו</span><span class=\"txtu hbo\">כ</span><span class=\"txtu hbo\">ל </span><span class=\"txtu hbo\">נ</span><span class=\"txtu hbo\">פ</span><span class=\"txtu hbo\">ש </span><span class=\"txtu hbo\">א</span><span class=\"txtu hbo\">ד</span><span class=\"txtu hbo\">ם </span><span class=\"txtu hbo\">א</span><span class=\"txtu hbo\">ש</span><span class=\"txtu hbo\">ר </span><span class=\"txtu hbo\">ת</span><span class=\"txtu hbo\">פ</span><span class=\"txtu hbo\">ו</span><span class=\"txtu hbo\">ל </span><span class=\"txtu hbo\">א</span><span class=\"txtu hbo\">ל </span><span class=\"txtu hbo\">מ</span><span class=\"txtu hbo\">י</span><span class=\"txtu hbo\">ם </span><span class=\"txtu hbo\">מ</span><span class=\"txtu hbo\">ק</span><span class=\"txtu hbo\">ו</span><span class=\"txtu hbo\">ם </span><span class=\"txtu hbo\">מ</span><span class=\"txtu hbo\">י</span><span class=\"txtu hbo\">ם </span><span class=\"txtu hbo\">ו</span><span class=\"txtu hbo\">א</span><span class=\"txtu hbo\">ל </span><span class=\"txtu hbo\">מ</span><span class=\"txtu hbo\">ק</span><span class=\"txtu hbo\">ו</span><span class=\"txtu hbo\">ם </span></div></td><td class=\"tf rtl\"><div class=\"rtl\"><span class=\"section rtl\"><a target=\"_blank\" href=\"https://www.deadseascrolls.org.il/explore-the-archive/search#q='4Q270'\" title=\"Show this scroll in the Leon Levy library\" sec=\"4Q270 f6v:19\">4Q270 f6v:19</a></span>  <span class=\"txtu hbo\">ה</span><span class=\"txtu hbo\">ו</span><span class=\"txtu hbo\">ן </span><span class=\"txtu hbo\">ו</span><span class=\"txtu hbo\">ב</span><span class=\"txtu hbo\">צ</span><span class=\"txtu hbo\">ע </span><span class=\"txtu hbo\">ב</span><span class=\"txtu hbo\">ש</span><span class=\"txtu hbo\">ב</span><span class=\"txtu hbo\">ת </span><span class=\"txtu hbo\">׃ </span><span class=\"txtu hbo\">ו</span><span class=\"txtu hbo\">כ</span><span class=\"txtu hbo\">ל </span><span class=\"txtu hbo\">נ</span><span class=\"txtu hbo\">פ</span><span class=\"txtu hbo\">ש </span><span class=\"txtu hbo\">א</span><span class=\"txtu hbo\">ד</span><span class=\"txtu hbo\">ם </span><span class=\"txtu hbo\">א</span><span class=\"txtu hbo\">ש</span><span class=\"txtu hbo\">ר </span><span class=\"txtu hbo\">ת</span><span class=\"txtu hbo\">פ</span><span class=\"txtu hbo\">ו</span><span class=\"txtu hbo\">ל </span><span class=\"txtu hbo\">א</span><span class=\"txtu hbo\">ל </span><span class=\"txtu hbo\">מ</span><span class=\"txtu hbo\">ק</span><span class=\"txtu hbo\">ו</span><span class=\"txtu hbo\">ם </span><span class=\"txtu hbo\">מ</span><span class=\"txtu hbo\">י</span><span class=\"txtu hbo\">ם </span><span class=\"txtu hbo\">ו</span><span class=\"txtu hbo\">א</span><span class=\"txtu hbo\">ל </span><span class=\"txtu hbo\">ב</span><span class=\"txtu hbo\">ו</span><span class=\"txtu hbo\">ר </span><span class=\"txtu hbo\">א</span><span class=\"txtu hbo\">ל </span></div></td></tr>\n",
       "<tr class=\"tf rtl\"><td class=\"tf rtl\">7</td><td class=\"tf rtl\"><div class=\"rtl\"><span class=\"section rtl\"><a target=\"_blank\" href=\"https://www.deadseascrolls.org.il/explore-the-archive/search#q='CD'\" title=\"Show this scroll in the Leon Levy library\" sec=\"CD 12:16\">CD 12:16</a></span>  <span class=\"txtu hbo\">ו</span><span class=\"txtu hbo\">ה</span><span class=\"txtu hbo\">ע</span><span class=\"txtu hbo\">פ</span><span class=\"txtu hbo\">ר </span><span class=\"txtu hbo\">א</span><span class=\"txtu hbo\">ש</span><span class=\"txtu hbo\">ר </span><span class=\"txtu hbo\">י</span><span class=\"txtu hbo\">ג</span><span class=\"txtu hbo\">ו</span><span class=\"txtu hbo\">א</span><span class=\"txtu hbo\">ל</span><span class=\"txtu hbo\">ו </span><span class=\"txtu hbo\">ב</span><span class=\"txtu hbo\">ט</span><span class=\"txtu hbo\">מ</span><span class=\"txtu hbo\">א</span><span class=\"txtu hbo\">ת </span><span class=\"txtu hbo\">ה</span><span class=\"txtu hbo\">א</span><span class=\"txtu hbo\">ד</span><span class=\"txtu hbo\">ם </span><span class=\"txtu hbo\">ל</span><span class=\"txtu hbo\">ג</span><span class=\"txtu hbo\">א</span><span class=\"txtu hbo\">ו</span><span class=\"txtu hbo\">ל</span><span class=\"txtu hbo\">י </span><span class=\"txtu hbo\">ש</span><span class=\"txtu hbo\">מ</span><span class=\"txtu hbo\">ן </span><span class=\"txtu hbo\">ב</span><span class=\"txtu hbo\">׳</span><span class=\"txtu hbo\">ה</span><span class=\"txtu hbo\">ם </span><span class=\"txtu hbo\">כ</span><span class=\"txtu hbo\">פ</span><span class=\"txtu hbo\">י </span></div></td><td class=\"tf rtl\"><div class=\"rtl\"><span class=\"section rtl\"><a target=\"_blank\" href=\"https://www.deadseascrolls.org.il/explore-the-archive/search#q='4Q266'\" title=\"Show this scroll in the Leon Levy library\" sec=\"4Q266 f9ii:3\">4Q266 f9ii:3</a></span>  <span class=\"txtu hbo\">י</span><span class=\"txtu hbo\">ג</span><span class=\"txtu hbo\">ו</span><span class=\"txtu hbo\">א</span><span class=\"txtu hbo\">ל</span><span class=\"txtu hbo\">ו </span><span class=\"txtu hbo\">ב</span><span class=\"txtu hbo\">ט</span><span class=\"txtu hbo\">מ</span><span class=\"txtu hbo\">א</span><span class=\"txtu hbo\">ת </span><span class=\"txtu hbo\">ה</span><span class=\"txtu hbo\">א</span><span class=\"txtu hbo\">ד</span><span class=\"txtu hbo\">ם </span><span class=\"txtu hbo\">ל</span><span class=\"txtu hbo\">ג</span><span class=\"txtu hbo\">א</span><span class=\"txtu hbo\">ו</span><span class=\"txtu hbo\">ל</span><span class=\"txtu hbo\">י </span><span class=\"txtu hbo\">ש</span><span class=\"txtu hbo\">מ</span><span class=\"txtu hbo\">ן </span><span class=\"txtu hbo\">ב</span><span class=\"txtu hbo\">׳</span><span class=\"txtu hbo\">ה</span><span class=\"txtu hbo\">ם </span><span class=\"txtu hbo\">כ</span><span class=\"txtu hbo\">פ</span><span class=\"txtu hbo\">י </span><span class=\"txtu hbo\">ט</span><span class=\"txtu hbo\">מ</span><span class=\"txtu hbo\">א</span><span class=\"txtu hbo\">ת</span><span class=\"txtu hbo\">׳</span><span class=\"txtu hbo\">ם </span><span class=\"txtu hbo\">י</span><span class=\"txtu hbo\">ט</span><span class=\"txtu hbo\">מ</span><span class=\"txtu hbo\">א </span></div></td></tr>\n",
       "<tr class=\"tf rtl\"><td class=\"tf rtl\">8</td><td class=\"tf rtl\"><div class=\"rtl\"><span class=\"section rtl\"><a target=\"_blank\" href=\"https://www.deadseascrolls.org.il/explore-the-archive/search#q='CD'\" title=\"Show this scroll in the Leon Levy library\" sec=\"CD 12:17\">CD 12:17</a></span>  <span class=\"txtu hbo\">ט</span><span class=\"txtu hbo\">מ</span><span class=\"txtu hbo\">א</span><span class=\"txtu hbo\">ת</span><span class=\"txtu hbo\">׳</span><span class=\"txtu hbo\">ם </span><span class=\"txtu hbo\">י</span><span class=\"txtu hbo\">ט</span><span class=\"txtu hbo\">מ</span><span class=\"txtu hbo\">א </span><span class=\"txtu hbo\">ה</span><span class=\"txtu hbo\">נ</span><span class=\"txtu hbo\">ו</span><span class=\"txtu hbo\">ג</span><span class=\"txtu hbo\">ע </span><span class=\"txtu hbo\">ב</span><span class=\"txtu hbo\">׳</span><span class=\"txtu hbo\">ם </span><span class=\"txtu hbo\">׃ </span><span class=\"txtu hbo\">  </span><span class=\"txtu hbo\">ו</span><span class=\"txtu hbo\">כ</span><span class=\"txtu hbo\">ל </span><span class=\"txtu hbo\">כ</span><span class=\"txtu hbo\">ל</span><span class=\"txtu hbo\">י </span><span class=\"txtu hbo\">מ</span><span class=\"txtu hbo\">ס</span><span class=\"txtu hbo\">מ</span><span class=\"txtu hbo\">ר </span><span class=\"txtu hbo\">מ</span><span class=\"txtu hbo\">ס</span><span class=\"txtu hbo\">מ</span><span class=\"txtu hbo\">ר </span><span class=\"txtu hbo\">א</span><span class=\"txtu hbo\">ו </span><span class=\"txtu hbo\">י</span><span class=\"txtu hbo\">ת</span><span class=\"txtu hbo\">ד </span><span class=\"txtu hbo\">ב</span><span class=\"txtu hbo\">כ</span><span class=\"txtu hbo\">ו</span><span class=\"txtu hbo\">ת</span><span class=\"txtu hbo\">ל </span></div></td><td class=\"tf rtl\"><div class=\"rtl\"><span class=\"section rtl\"><a target=\"_blank\" href=\"https://www.deadseascrolls.org.il/explore-the-archive/search#q='4Q266'\" title=\"Show this scroll in the Leon Levy library\" sec=\"4Q266 f9ii:4\">4Q266 f9ii:4</a></span>  <span class=\"txtu hbo\">ה</span><span class=\"txtu hbo\">נ</span><span class=\"txtu hbo\">ו</span><span class=\"txtu hbo\">ג</span><span class=\"txtu hbo\">ע </span><span class=\"txtu hbo\">ב</span><span class=\"txtu hbo\">׳</span><span class=\"txtu hbo\">ם </span><span class=\"txtu hbo\">׃ </span><span class=\"txtu hbo\">ו</span><span class=\"txtu hbo\">כ</span><span class=\"txtu hbo\">ו</span><span class=\"txtu hbo\">ל </span><span class=\"txtu hbo\">כ</span><span class=\"txtu hbo\">ל</span><span class=\"txtu hbo\">י </span><span class=\"txtu hbo\">מ</span><span class=\"txtu hbo\">ס</span><span class=\"txtu hbo\">מ</span><span class=\"txtu hbo\">ר </span><span class=\"txtu hbo\">ו</span><span class=\"txtu hbo\">י</span><span class=\"txtu hbo\">ת</span><span class=\"txtu hbo\">ד </span><span class=\"txtu hbo\">ב</span><span class=\"txtu hbo\">כ</span><span class=\"txtu hbo\">ו</span><span class=\"txtu hbo\">ת</span><span class=\"txtu hbo\">ל </span><span class=\"txtu hbo\">א</span><span class=\"txtu hbo\">ש</span><span class=\"txtu hbo\">ר </span><span class=\"txtu hbo\">י</span><span class=\"txtu hbo\">ה</span><span class=\"txtu hbo\">י</span><span class=\"txtu hbo\">ו </span><span class=\"txtu hbo\">ע</span><span class=\"txtu hbo\">ם </span></div></td></tr>\n",
       "<tr class=\"tf rtl\"><td class=\"tf rtl\">9</td><td class=\"tf rtl\"><div class=\"rtl\"><span class=\"section rtl\"><a target=\"_blank\" href=\"https://www.deadseascrolls.org.il/explore-the-archive/search#q='CD'\" title=\"Show this scroll in the Leon Levy library\" sec=\"CD 13:13\">CD 13:13</a></span>  <span class=\"txtu hbo\">מ</span><span class=\"txtu hbo\">ב</span><span class=\"txtu hbo\">נ</span><span class=\"txtu hbo\">י </span><span class=\"txtu hbo\">ה</span><span class=\"txtu hbo\">מ</span><span class=\"txtu hbo\">ח</span><span class=\"txtu hbo\">נ</span><span class=\"txtu hbo\">ה </span><span class=\"txtu hbo\">ל</span><span class=\"txtu hbo\">ה</span><span class=\"txtu hbo\">ב</span><span class=\"txtu hbo\">י</span><span class=\"txtu hbo\">א </span><span class=\"txtu hbo\">א</span><span class=\"txtu hbo\">י</span><span class=\"txtu hbo\">ש </span><span class=\"txtu hbo\">א</span><span class=\"txtu hbo\">ל </span><span class=\"txtu hbo\">ה</span><span class=\"txtu hbo\">ע</span><span class=\"txtu hbo\">ד</span><span class=\"txtu hbo\">ה </span><span class=\"txtu hbo\">ז</span><span class=\"txtu hbo\">ו</span><span class=\"txtu hbo\">ל</span><span class=\"txtu hbo\">ת </span><span class=\"txtu hbo\">פ</span><span class=\"txtu hbo\">י </span><span class=\"txtu hbo\">ה</span><span class=\"txtu hbo\">מ</span><span class=\"txtu hbo\">ב</span><span class=\"txtu hbo\">ק</span><span class=\"txtu hbo\">ר </span><span class=\"txtu hbo\">א</span><span class=\"txtu hbo\">ש</span><span class=\"txtu hbo\">ר </span><span class=\"txtu hbo\">ל</span><span class=\"txtu hbo\">מ</span><span class=\"txtu hbo\">ח</span><span class=\"txtu hbo\">נ</span><span class=\"txtu hbo\">ה </span><span class=\"txtu hbo\">׃ </span></div></td><td class=\"tf rtl\"><div class=\"rtl\"><span class=\"section rtl\"><a target=\"_blank\" href=\"https://www.deadseascrolls.org.il/explore-the-archive/search#q='4Q267'\" title=\"Show this scroll in the Leon Levy library\" sec=\"4Q267 f9iv:10\">4Q267 f9iv:10</a></span>  <span class=\"txtu hbo\">י</span><span class=\"txtu hbo\">מ</span><span class=\"txtu hbo\">ש</span><span class=\"txtu hbo\">ו</span><span class=\"txtu hbo\">ל </span><span class=\"txtu hbo\">א</span><span class=\"txtu hbo\">י</span><span class=\"txtu hbo\">ש </span><span class=\"txtu hbo\">מ</span><span class=\"txtu hbo\">כ</span><span class=\"txtu hbo\">ו</span><span class=\"txtu hbo\">ל </span><span class=\"txtu hbo\"> ?  </span><span class=\"txtu hbo\">ב</span><span class=\"txtu hbo\">נ</span><span class=\"txtu hbo\">י </span><span class=\"txtu hbo\">ה</span><span class=\"txtu hbo\">מ</span><span class=\"txtu hbo\">ח</span><span class=\"txtu hbo\">נ</span><span class=\"txtu hbo\">ה </span><span class=\"txtu hbo\">ל</span><span class=\"txtu hbo\">ה</span><span class=\"txtu hbo\">ב</span><span class=\"txtu hbo\">י</span><span class=\"txtu hbo\">א </span><span class=\"txtu hbo\">א</span><span class=\"txtu hbo\">י</span><span class=\"txtu hbo\">ש </span><span class=\"txtu hbo\">א</span><span class=\"txtu hbo\">ל </span><span class=\"txtu hbo\">ה</span><span class=\"txtu hbo\">ע</span><span class=\"txtu hbo\">ד</span><span class=\"txtu hbo\">ה </span></div></td></tr>\n",
       "<tr class=\"tf rtl\"><td class=\"tf rtl\">10</td><td class=\"tf rtl\"><div class=\"rtl\"><span class=\"section rtl\"><a target=\"_blank\" href=\"https://www.deadseascrolls.org.il/explore-the-archive/search#q='CD'\" title=\"Show this scroll in the Leon Levy library\" sec=\"CD 14:6\">CD 14:6</a></span>  <span class=\"txtu hbo\">ש</span><span class=\"txtu hbo\">ל</span><span class=\"txtu hbo\">ו</span><span class=\"txtu hbo\">ש</span><span class=\"txtu hbo\">ת</span><span class=\"txtu hbo\">׳</span><span class=\"txtu hbo\">ם </span><span class=\"txtu hbo\">ו</span><span class=\"txtu hbo\">ה</span><span class=\"txtu hbo\">ג</span><span class=\"txtu hbo\">ר </span><span class=\"txtu hbo\">ר</span><span class=\"txtu hbo\">ב</span><span class=\"txtu hbo\">י</span><span class=\"txtu hbo\">ע </span><span class=\"txtu hbo\">׃ </span><span class=\"txtu hbo\">ו</span><span class=\"txtu hbo\">כ</span><span class=\"txtu hbo\">ן </span><span class=\"txtu hbo\">י</span><span class=\"txtu hbo\">ש</span><span class=\"txtu hbo\">ב</span><span class=\"txtu hbo\">ו </span><span class=\"txtu hbo\">ו</span><span class=\"txtu hbo\">כ</span><span class=\"txtu hbo\">ן </span><span class=\"txtu hbo\">י</span><span class=\"txtu hbo\">ש</span><span class=\"txtu hbo\">א</span><span class=\"txtu hbo\">ל</span><span class=\"txtu hbo\">ו </span><span class=\"txtu hbo\">ל</span><span class=\"txtu hbo\">כ</span><span class=\"txtu hbo\">ל </span><span class=\"txtu hbo\">׃ </span><span class=\"txtu hbo\">ו</span><span class=\"txtu hbo\">ה</span><span class=\"txtu hbo\">כ</span><span class=\"txtu hbo\">ה</span><span class=\"txtu hbo\">ן </span><span class=\"txtu hbo\">א</span><span class=\"txtu hbo\">ש</span><span class=\"txtu hbo\">ר </span><span class=\"txtu hbo\">י</span><span class=\"txtu hbo\">פ</span><span class=\"txtu hbo\">ק</span><span class=\"txtu hbo\">ד </span></div></td><td class=\"tf rtl\"><div class=\"rtl\"><span class=\"section rtl\"><a target=\"_blank\" href=\"https://www.deadseascrolls.org.il/explore-the-archive/search#q='4Q269'\" title=\"Show this scroll in the Leon Levy library\" sec=\"4Q269 f10ii:11\">4Q269 f10ii:11</a></span>  <span class=\"txtu hbo\">י</span><span class=\"txtu hbo\">ש</span><span class=\"txtu hbo\">ר</span><span class=\"txtu hbo\">א</span><span class=\"txtu hbo\">ל </span><span class=\"txtu hbo\">ש</span><span class=\"txtu hbo\">ל</span><span class=\"txtu hbo\">ש</span><span class=\"txtu hbo\">י</span><span class=\"txtu hbo\">י</span><span class=\"txtu hbo\">ם </span><span class=\"txtu hbo\">ו</span><span class=\"txtu hbo\">ה</span><span class=\"txtu hbo\">ג</span><span class=\"txtu hbo\">ר </span><span class=\"txtu hbo\">ר</span><span class=\"txtu hbo\">ב</span><span class=\"txtu hbo\">י</span><span class=\"txtu hbo\">ע </span><span class=\"txtu hbo\">׃ </span><span class=\"txtu hbo\">ו</span><span class=\"txtu hbo\">כ</span><span class=\"txtu hbo\">ן </span><span class=\"txtu hbo\">י</span><span class=\"txtu hbo\">ש</span><span class=\"txtu hbo\">ב</span><span class=\"txtu hbo\">ו </span><span class=\"txtu hbo\">ו</span><span class=\"txtu hbo\">כ</span><span class=\"txtu hbo\">ן </span><span class=\"txtu hbo\">י</span><span class=\"txtu hbo\">ש</span><span class=\"txtu hbo\">א</span><span class=\"txtu hbo\">ל</span><span class=\"txtu hbo\">ו </span><span class=\"txtu hbo\">ל</span><span class=\"txtu hbo\">כ</span><span class=\"txtu hbo\">ו</span><span class=\"txtu hbo\">ל </span><span class=\"txtu hbo\">׃ </span></div></td></tr></table>"
      ],
      "text/plain": [
       "<IPython.core.display.HTML object>"
      ]
     },
     "metadata": {},
     "output_type": "display_data"
    }
   ],
   "source": [
    "A.table(results, start=1, end=10, withPassage=\"1 2\")"
   ]
  },
  {
   "cell_type": "markdown",
   "metadata": {},
   "source": [
    "Or in full layout:"
   ]
  },
  {
   "cell_type": "code",
   "execution_count": 9,
   "metadata": {},
   "outputs": [
    {
     "data": {
      "text/html": [
       "<table><tr class=\"tf rtl\"><th class=\"tf rtl\">n</th><th class=\"tf rtl\">line</th><th class=\"tf\">line</th></tr>\n",
       "<tr class=\"tf rtl\"><td class=\"tf rtl\">1</td><td class=\"tf rtl\"><div class=\"rtl\"><span class=\"section rtl\"><a target=\"_blank\" href=\"https://www.deadseascrolls.org.il/explore-the-archive/search#q='CD'\" title=\"Show this scroll in the Leon Levy library\" sec=\"CD 3:9\">CD 3:9</a></span>  <span class=\"txtu hbo\">ב</span><span class=\"txtu hbo\">ע</span><span class=\"txtu hbo\">ד</span><span class=\"txtu hbo\">ת</span><span class=\"txtu hbo\">׳</span><span class=\"txtu hbo\">ם </span><span class=\"txtu hbo\"> </span><span class=\"txtu hbo\">׃ </span><span class=\"txtu hbo\">ו</span><span class=\"txtu hbo\">ב</span><span class=\"txtu hbo\">נ</span><span class=\"txtu hbo\">י</span><span class=\"txtu hbo\">׳</span><span class=\"txtu hbo\">ה</span><span class=\"txtu hbo\">ם </span><span class=\"txtu hbo\">ב</span><span class=\"txtu hbo\">׳</span><span class=\"txtu hbo\">ו </span><span class=\"txtu hbo\">א</span><span class=\"txtu hbo\">ב</span><span class=\"txtu hbo\">ד</span><span class=\"txtu hbo\">ו </span><span class=\"txtu hbo\">ו</span><span class=\"txtu hbo\">מ</span><span class=\"txtu hbo\">ל</span><span class=\"txtu hbo\">כ</span><span class=\"txtu hbo\">י</span><span class=\"txtu hbo\">׳</span><span class=\"txtu hbo\">ה</span><span class=\"txtu hbo\">ם </span><span class=\"txtu hbo\">ב</span><span class=\"txtu hbo\">׳</span><span class=\"txtu hbo\">ו </span><span class=\"txtu hbo\">נ</span><span class=\"txtu hbo\">כ</span><span class=\"txtu hbo\">ר</span><span class=\"txtu hbo\">ת</span><span class=\"txtu hbo\">ו </span><span class=\"txtu hbo\">ו</span><span class=\"txtu hbo\">ג</span><span class=\"txtu hbo\">י</span><span class=\"txtu hbo\">ב</span><span class=\"txtu hbo\">ו</span><span class=\"txtu hbo\">ר</span><span class=\"txtu hbo\">י</span><span class=\"txtu hbo\">׳</span><span class=\"txtu hbo\">ה</span><span class=\"txtu hbo\">ם </span><span class=\"txtu hbo\">ב</span><span class=\"txtu hbo\">׳</span><span class=\"txtu hbo\">ו </span></div></td><td class=\"tf rtl\"><div class=\"rtl\"><span class=\"section rtl\"><a target=\"_blank\" href=\"https://www.deadseascrolls.org.il/explore-the-archive/search#q='4Q269'\" title=\"Show this scroll in the Leon Levy library\" sec=\"4Q269 f2:4\">4Q269 f2:4</a></span>  <span class=\"txtu hbo\"><span class=\"rec1\">א</span></span><span class=\"txtu hbo\"><span class=\"rec1\">ב</span></span><span class=\"txtu hbo\"><span class=\"rec1\">ד</span></span><span class=\"txtu hbo\"><span class=\"rec1\">ו</span> </span><span class=\"txtu hbo\"><span class=\"rec1\">ו</span></span><span class=\"txtu hbo\"><span class=\"rec1\">מ</span></span><span class=\"txtu hbo\"><span class=\"rec1\">ל</span></span><span class=\"txtu hbo\"><span class=\"rec1\">כ</span></span><span class=\"txtu hbo\"><span class=\"rec1\">י</span></span><span class=\"txtu hbo\"><span class=\"rec1\">׳</span></span><span class=\"txtu hbo\"><span class=\"rec1\">ה</span></span><span class=\"txtu hbo\"><span class=\"rec1\">ם</span> </span><span class=\"txtu hbo\"><span class=\"rec1\">ב</span></span><span class=\"txtu hbo\"><span class=\"rec1\">׳</span></span><span class=\"txtu hbo\"><span class=\"rec1\">ו</span> </span><span class=\"txtu hbo\"><span class=\"rec1\">נ</span></span><span class=\"txtu hbo\"><span class=\"rec1\">כ</span></span><span class=\"txtu hbo\"><span class=\"rec1\">ר</span></span><span class=\"txtu hbo\"><span class=\"rec1\">ת</span></span><span class=\"txtu hbo\"><span class=\"rec1\">ו</span> </span><span class=\"txtu hbo\"><span class=\"rec1\">ו</span></span><span class=\"txtu hbo\"><span class=\"rec1\">ג</span></span><span class=\"txtu hbo\"><span class=\"rec1\">ב</span></span><span class=\"txtu hbo\"><span class=\"rec1\">ו</span></span><span class=\"txtu hbo\"><span class=\"rec1\">ר</span></span><span class=\"txtu hbo\"><span class=\"rec1\">י</span></span><span class=\"txtu hbo\"><span class=\"rec1\">׳</span></span><span class=\"txtu hbo\"><span class=\"rec1\">ה</span></span><span class=\"txtu hbo\"><span class=\"unc4\">ם</span> </span><span class=\"txtu hbo\">ב</span><span class=\"txtu hbo\">׳</span><span class=\"txtu hbo\">ו </span><span class=\"txtu hbo\">א</span><span class=\"txtu hbo\">ב</span><span class=\"txtu hbo\">ד</span><span class=\"txtu hbo\">ו </span><span class=\"txtu hbo\">ו</span><span class=\"txtu hbo\">א</span><span class=\"txtu hbo\">ר</span><span class=\"txtu hbo\">צ</span><span class=\"txtu hbo\">׳</span><span class=\"txtu hbo\">ם </span><span class=\"txtu hbo\">ב</span><span class=\"txtu hbo\">׳</span><span class=\"txtu hbo\">ו </span><span class=\"txtu hbo\">ש</span><span class=\"txtu hbo\">מ</span><span class=\"txtu hbo\">מ</span><span class=\"txtu hbo\">ה </span><span class=\"txtu hbo\"> </span><span class=\"txtu hbo\">׃ </span></div></td></tr>\n",
       "<tr class=\"tf rtl\"><td class=\"tf rtl\">2</td><td class=\"tf rtl\"><div class=\"rtl\"><span class=\"section rtl\"><a target=\"_blank\" href=\"https://www.deadseascrolls.org.il/explore-the-archive/search#q='CD'\" title=\"Show this scroll in the Leon Levy library\" sec=\"CD 7:11\">CD 7:11</a></span>  <span class=\"txtu hbo\">א</span><span class=\"txtu hbo\">ש</span><span class=\"txtu hbo\">ר </span><span class=\"txtu hbo\">א</span><span class=\"txtu hbo\">מ</span><span class=\"txtu hbo\">ר </span><span class=\"txtu hbo\">י</span><span class=\"txtu hbo\">ב</span><span class=\"txtu hbo\">ו</span><span class=\"txtu hbo\">א </span><span class=\"txtu hbo\">ע</span><span class=\"txtu hbo\">ל</span><span class=\"txtu hbo\">י</span><span class=\"txtu hbo\">׳</span><span class=\"txtu hbo\">ך </span><span class=\"txtu hbo\">ו</span><span class=\"txtu hbo\">ע</span><span class=\"txtu hbo\">ל </span><span class=\"txtu hbo\">ע</span><span class=\"txtu hbo\">מ</span><span class=\"txtu hbo\">׳</span><span class=\"txtu hbo\">ך </span><span class=\"txtu hbo\">ו</span><span class=\"txtu hbo\">ע</span><span class=\"txtu hbo\">ל </span><span class=\"txtu hbo\">ב</span><span class=\"txtu hbo\">י</span><span class=\"txtu hbo\">ת </span><span class=\"txtu hbo\">א</span><span class=\"txtu hbo\">ב</span><span class=\"txtu hbo\">י</span><span class=\"txtu hbo\">׳</span><span class=\"txtu hbo\">ך </span><span class=\"txtu hbo\">י</span><span class=\"txtu hbo\">מ</span><span class=\"txtu hbo\">י</span><span class=\"txtu hbo\">ם </span><span class=\"txtu hbo\">א</span><span class=\"txtu hbo\">ש</span><span class=\"txtu hbo\">ר </span><span class=\"txtu hbo\"><span class=\"cor1\">ל</span></span><span class=\"txtu hbo\"><span class=\"cor1\">א</span> </span></div></td><td class=\"tf rtl\"><div class=\"rtl\"><span class=\"section rtl\"><a target=\"_blank\" href=\"https://www.deadseascrolls.org.il/explore-the-archive/search#q='4Q59'\" title=\"Show this scroll in the Leon Levy library\" sec=\"4Q59 f2_3:1\">4Q59 f2_3:1</a></span>  <span class=\"txtu hbo\"><span class=\"rec1\">י</span></span><span class=\"txtu hbo\"><span class=\"rec1\">ב</span></span><span class=\"txtu hbo\"><span class=\"rec1\">י</span></span><span class=\"txtu hbo\"><span class=\"rec1\">א</span> </span><span class=\"txtu hbo\"><span class=\"rec1\">י</span></span><span class=\"txtu hbo\"><span class=\"rec1\">ה</span></span><span class=\"txtu hbo\"><span class=\"rec1\">ו</span></span><span class=\"txtu hbo\"><span class=\"rec1\">ה</span> </span><span class=\"txtu hbo\"><span class=\"rec1\">ע</span></span><span class=\"txtu hbo\"><span class=\"rec1\">ל</span></span><span class=\"txtu hbo\"><span class=\"rec1\">י</span></span><span class=\"txtu hbo\"><span class=\"rec1\">׳</span></span><span class=\"txtu hbo\"><span class=\"rec1\">ך</span> </span><span class=\"txtu hbo\"><span class=\"rec1\">ו</span></span><span class=\"txtu hbo\"><span class=\"rec1\">ע</span></span><span class=\"txtu hbo\"><span class=\"rec1\">ל</span> </span><span class=\"txtu hbo\"><span class=\"rec1\">ע</span></span><span class=\"txtu hbo\"><span class=\"rec1\">מ</span></span><span class=\"txtu hbo\"><span class=\"rec1\">׳</span></span><span class=\"txtu hbo\"><span class=\"rec1\">ך</span> </span><span class=\"txtu hbo\"><span class=\"rec1\">ו</span></span><span class=\"txtu hbo\"><span class=\"rec1\">ע</span></span><span class=\"txtu hbo\"><span class=\"rec1\">ל</span> </span><span class=\"txtu hbo\"><span class=\"rec1\">ב</span></span><span class=\"txtu hbo\"><span class=\"rec1\">י</span></span><span class=\"txtu hbo\"><span class=\"rec1\">ת</span> </span><span class=\"txtu hbo\"><span class=\"rec1\">א</span></span><span class=\"txtu hbo\"><span class=\"rec1\">ב</span></span><span class=\"txtu hbo\"><span class=\"rec1\">י</span></span><span class=\"txtu hbo\"><span class=\"rec1\">׳</span></span><span class=\"txtu hbo\"><span class=\"rec1\">ך</span> </span><span class=\"txtu hbo\"><span class=\"rec1\">י</span></span><span class=\"txtu hbo\">מ</span><span class=\"txtu hbo\"><span class=\"unc3\">י</span></span><span class=\"txtu hbo\"><span class=\"unc4\">ם</span> </span><span class=\"txtu hbo\"><span class=\"rec1\">א</span></span><span class=\"txtu hbo\"><span class=\"rec1\">ש</span></span><span class=\"txtu hbo\"><span class=\"rec1\">ר</span> </span><span class=\"txtu hbo\"><span class=\"rec1\">ל</span></span><span class=\"txtu hbo\"><span class=\"rec1\">א</span> </span><span class=\"txtu hbo\"><span class=\"rec1\">ב</span></span><span class=\"txtu hbo\"><span class=\"rec1\">א</span></span><span class=\"txtu hbo\"><span class=\"rec1\">ו</span> </span><span class=\"txtu hbo\"><span class=\"rec1\">ל</span></span><span class=\"txtu hbo\"><span class=\"rec1\">מ</span></span><span class=\"txtu hbo\"><span class=\"rec1\">י</span></span><span class=\"txtu hbo\"><span class=\"rec1\">ו</span></span><span class=\"txtu hbo\"><span class=\"rec1\">ם</span> </span><span class=\"txtu hbo\"><span class=\"rec1\">ס</span></span><span class=\"txtu hbo\"><span class=\"rec1\">ו</span></span><span class=\"txtu hbo\"><span class=\"rec1\">ר</span> </span><span class=\"txtu hbo\"><span class=\"rec1\">א</span></span><span class=\"txtu hbo\"><span class=\"rec1\">פ</span></span><span class=\"txtu hbo\"><span class=\"rec1\">ר</span></span><span class=\"txtu hbo\"><span class=\"rec1\">י</span></span><span class=\"txtu hbo\"><span class=\"rec1\">ם</span> </span></div></td></tr>\n",
       "<tr class=\"tf rtl\"><td class=\"tf rtl\">3</td><td class=\"tf rtl\"><div class=\"rtl\"><span class=\"section rtl\"><a target=\"_blank\" href=\"https://www.deadseascrolls.org.il/explore-the-archive/search#q='CD'\" title=\"Show this scroll in the Leon Levy library\" sec=\"CD 10:7\">CD 10:7</a></span>  <span class=\"txtu hbo\">ו</span><span class=\"txtu hbo\">ע</span><span class=\"txtu hbo\">ש</span><span class=\"txtu hbo\">ר</span><span class=\"txtu hbo\">י</span><span class=\"txtu hbo\">ם </span><span class=\"txtu hbo\">ש</span><span class=\"txtu hbo\">נ</span><span class=\"txtu hbo\">ה </span><span class=\"txtu hbo\">ע</span><span class=\"txtu hbo\">ד </span><span class=\"txtu hbo\">ב</span><span class=\"txtu hbo\">נ</span><span class=\"txtu hbo\">י </span><span class=\"txtu hbo\">ש</span><span class=\"txtu hbo\">ש</span><span class=\"txtu hbo\">י</span><span class=\"txtu hbo\">ם </span><span class=\"txtu hbo\">ש</span><span class=\"txtu hbo\">נ</span><span class=\"txtu hbo\">ה </span><span class=\"txtu hbo\"> </span><span class=\"txtu hbo\">׃ </span><span class=\"txtu hbo\">ו</span><span class=\"txtu hbo\">א</span><span class=\"txtu hbo\">ל </span><span class=\"txtu hbo\">י</span><span class=\"txtu hbo\">ת</span><span class=\"txtu hbo\">י</span><span class=\"txtu hbo\">צ</span><span class=\"txtu hbo\">ב </span><span class=\"txtu hbo\">ע</span><span class=\"txtu hbo\">ו</span><span class=\"txtu hbo\">ד </span><span class=\"txtu hbo\">מ</span><span class=\"txtu hbo\">ב</span><span class=\"txtu hbo\">ן </span></div></td><td class=\"tf rtl\"><div class=\"rtl\"><span class=\"section rtl\"><a target=\"_blank\" href=\"https://www.deadseascrolls.org.il/explore-the-archive/search#q='4Q266'\" title=\"Show this scroll in the Leon Levy library\" sec=\"4Q266 f8iii:6\">4Q266 f8iii:6</a></span>  <span class=\"txtu hbo\">ו</span><span class=\"txtu hbo\">ב</span><span class=\"txtu hbo\">י</span><span class=\"txtu hbo\"><span class=\"unc2\">ש</span></span><span class=\"txtu hbo\"><span class=\"rec1\">ו</span></span><span class=\"txtu hbo\"><span class=\"rec1\">ד</span></span><span class=\"txtu hbo\"><span class=\"rec1\">י</span> </span><span class=\"txtu hbo\"><span class=\"rec1\">ה</span></span><span class=\"txtu hbo\"><span class=\"rec1\">ב</span></span><span class=\"txtu hbo\"><span class=\"rec1\">ר</span></span><span class=\"txtu hbo\"><span class=\"rec1\">י</span></span><span class=\"txtu hbo\"><span class=\"rec1\">ת</span> </span><span class=\"txtu hbo\"><span class=\"rec1\">מ</span></span><span class=\"txtu hbo\"><span class=\"rec1\">ב</span></span><span class=\"txtu hbo\">נ</span><span class=\"txtu hbo\">י </span><span class=\"txtu hbo\">ח</span><span class=\"txtu hbo\">מ</span><span class=\"txtu hbo\">ש </span><span class=\"txtu hbo\"><span class=\"rec1\">ו</span></span><span class=\"txtu hbo\"><span class=\"unc4\">ע</span></span><span class=\"txtu hbo\">ש</span><span class=\"txtu hbo\">ר</span><span class=\"txtu hbo\">י</span><span class=\"txtu hbo\">ם </span><span class=\"txtu hbo\"><span class=\"rec1\">ש</span></span><span class=\"txtu hbo\"><span class=\"rec1\">נ</span></span><span class=\"txtu hbo\"><span class=\"rec1\">ה</span> </span><span class=\"txtu hbo\"><span class=\"rec1\">ו</span></span><span class=\"txtu hbo\"><span class=\"rec1\">ע</span></span><span class=\"txtu hbo\"><span class=\"rec1\">ד</span> </span><span class=\"txtu hbo\">ב</span><span class=\"txtu hbo\">ן </span><span class=\"txtu hbo\">ש</span><span class=\"txtu hbo\">ש</span><span class=\"txtu hbo\">י</span><span class=\"txtu hbo\">ם </span><span class=\"txtu hbo\">ש</span><span class=\"txtu hbo\">נ</span><span class=\"txtu hbo\">ה </span><span class=\"txtu hbo\"> </span><span class=\"txtu hbo\">׃ </span><span class=\"txtu hbo\">ו</span><span class=\"txtu hbo\">א</span><span class=\"txtu hbo\">ל </span><span class=\"txtu hbo\">י</span><span class=\"txtu hbo\">ת</span><span class=\"txtu hbo\"><span class=\"rec1\">י</span></span><span class=\"txtu hbo\"><span class=\"unc4\">צ</span></span><span class=\"txtu hbo\"><span class=\"rec1\">ב</span> </span></div></td></tr>\n",
       "<tr class=\"tf rtl\"><td class=\"tf rtl\">4</td><td class=\"tf rtl\"><div class=\"rtl\"><span class=\"section rtl\"><a target=\"_blank\" href=\"https://www.deadseascrolls.org.il/explore-the-archive/search#q='CD'\" title=\"Show this scroll in the Leon Levy library\" sec=\"CD 10:16\">CD 10:16</a></span>  <span class=\"txtu hbo\">ר</span><span class=\"txtu hbo\">ח</span><span class=\"txtu hbo\">ו</span><span class=\"txtu hbo\">ק </span><span class=\"txtu hbo\">מ</span><span class=\"txtu hbo\">ן </span><span class=\"txtu hbo\">ה</span><span class=\"txtu hbo\">ש</span><span class=\"txtu hbo\">ע</span><span class=\"txtu hbo\">ר </span><span class=\"txtu hbo\">מ</span><span class=\"txtu hbo\">ל</span><span class=\"txtu hbo\">ו</span><span class=\"txtu hbo\">א</span><span class=\"txtu hbo\">׳</span><span class=\"txtu hbo\">ו </span><span class=\"txtu hbo\"> </span><span class=\"txtu hbo\">׃ </span><span class=\"txtu hbo\">כ</span><span class=\"txtu hbo\">י </span><span class=\"txtu hbo\">ה</span><span class=\"txtu hbo\">ו</span><span class=\"txtu hbo\">א </span><span class=\"txtu hbo\">א</span><span class=\"txtu hbo\">ש</span><span class=\"txtu hbo\">ר </span><span class=\"txtu hbo\">א</span><span class=\"txtu hbo\">מ</span><span class=\"txtu hbo\">ר </span><span class=\"txtu hbo\">ש</span><span class=\"txtu hbo\">מ</span><span class=\"txtu hbo\">ו</span><span class=\"txtu hbo\">ר </span><span class=\"txtu hbo\">א</span><span class=\"txtu hbo\">ת </span></div></td><td class=\"tf rtl\"><div class=\"rtl\"><span class=\"section rtl\"><a target=\"_blank\" href=\"https://www.deadseascrolls.org.il/explore-the-archive/search#q='4Q270'\" title=\"Show this scroll in the Leon Levy library\" sec=\"4Q270 f6v:2\">4Q270 f6v:2</a></span>  <span class=\"txtu hbo\"><span class=\"rec1\">מ</span></span><span class=\"txtu hbo\"><span class=\"rec1\">ן</span> </span><span class=\"txtu hbo\"><span class=\"rec1\">ה</span></span><span class=\"txtu hbo\"><span class=\"rec1\">ע</span></span><span class=\"txtu hbo\"><span class=\"rec1\">ת</span> </span><span class=\"txtu hbo\"><span class=\"rec1\">א</span></span><span class=\"txtu hbo\"><span class=\"rec1\">ש</span></span><span class=\"txtu hbo\"><span class=\"rec1\">ר</span> </span><span class=\"txtu hbo\"><span class=\"rec1\">י</span></span><span class=\"txtu hbo\"><span class=\"rec1\">ה</span></span><span class=\"txtu hbo\"><span class=\"rec1\">י</span></span><span class=\"txtu hbo\"><span class=\"rec1\">ה</span> </span><span class=\"txtu hbo\"><span class=\"rec1\">ג</span></span><span class=\"txtu hbo\"><span class=\"rec1\">ל</span></span><span class=\"txtu hbo\"><span class=\"rec1\">ג</span></span><span class=\"txtu hbo\"><span class=\"rec1\">ל</span> </span><span class=\"txtu hbo\"><span class=\"rec1\">ה</span></span><span class=\"txtu hbo\"><span class=\"rec1\">ש</span></span><span class=\"txtu hbo\"><span class=\"rec1\">מ</span></span><span class=\"txtu hbo\"><span class=\"rec1\">ש</span> </span><span class=\"txtu hbo\"><span class=\"rec1\">ר</span></span><span class=\"txtu hbo\"><span class=\"rec1\">ח</span></span><span class=\"txtu hbo\"><span class=\"rec1\">ו</span></span><span class=\"txtu hbo\"><span class=\"rec1\">ק</span> </span><span class=\"txtu hbo\"><span class=\"rec1\">מ</span></span><span class=\"txtu hbo\"><span class=\"rec1\">ן</span> </span><span class=\"txtu hbo\"><span class=\"rec1\">ה</span></span><span class=\"txtu hbo\"><span class=\"rec1\">ש</span></span><span class=\"txtu hbo\"><span class=\"rec1\">ע</span></span><span class=\"txtu hbo\"><span class=\"rec1\">ר</span> </span><span class=\"txtu hbo\"><span class=\"rec1\">מ</span></span><span class=\"txtu hbo\"><span class=\"rec1\">ל</span></span><span class=\"txtu hbo\"><span class=\"rec1\">ו</span></span><span class=\"txtu hbo\"><span class=\"rec1\">א</span></span><span class=\"txtu hbo\"><span class=\"rec1\">׳</span></span><span class=\"txtu hbo\"><span class=\"rec1\">ו</span> </span><span class=\"txtu hbo\"><span class=\"rec1\">כ</span></span><span class=\"txtu hbo\"><span class=\"rec1\">י</span> </span><span class=\"txtu hbo\"><span class=\"rec1\">ה</span></span><span class=\"txtu hbo\"><span class=\"rec1\">ו</span></span><span class=\"txtu hbo\"><span class=\"unc4\">א</span> </span><span class=\"txtu hbo\">א</span><span class=\"txtu hbo\">ש</span><span class=\"txtu hbo\">ר </span><span class=\"txtu hbo\"><span class=\"unc4\">א</span></span><span class=\"txtu hbo\"><span class=\"rec1\">מ</span></span><span class=\"txtu hbo\"><span class=\"rec1\">ר</span> </span></div></td></tr>\n",
       "<tr class=\"tf rtl\"><td class=\"tf rtl\">5</td><td class=\"tf rtl\"><div class=\"rtl\"><span class=\"section rtl\"><a target=\"_blank\" href=\"https://www.deadseascrolls.org.il/explore-the-archive/search#q='CD'\" title=\"Show this scroll in the Leon Levy library\" sec=\"CD 11:6\">CD 11:6</a></span>  <span class=\"txtu hbo\">א</span><span class=\"txtu hbo\">ם </span><span class=\"txtu hbo\">א</span><span class=\"txtu hbo\">ל</span><span class=\"txtu hbo\">פ</span><span class=\"txtu hbo\">י</span><span class=\"txtu hbo\">ם </span><span class=\"txtu hbo\">ב</span><span class=\"txtu hbo\">א</span><span class=\"txtu hbo\">מ</span><span class=\"txtu hbo\">ה </span><span class=\"txtu hbo\"> </span><span class=\"txtu hbo\">׃ </span><span class=\"txtu hbo\"><span class=\"vac1 empty\"> </span> </span><span class=\"txtu hbo\">א</span><span class=\"txtu hbo\">ל </span><span class=\"txtu hbo\">י</span><span class=\"txtu hbo\">ר</span><span class=\"txtu hbo\">ם </span><span class=\"txtu hbo\">א</span><span class=\"txtu hbo\">ת </span><span class=\"txtu hbo\">י</span><span class=\"txtu hbo\">ד</span><span class=\"txtu hbo\">׳</span><span class=\"txtu hbo\">ו </span><span class=\"txtu hbo\">ל</span><span class=\"txtu hbo\">ה</span><span class=\"txtu hbo\">כ</span><span class=\"txtu hbo\">ו</span><span class=\"txtu hbo\">ת</span><span class=\"txtu hbo\">׳</span><span class=\"txtu hbo\">ה </span><span class=\"txtu hbo\">ב</span><span class=\"txtu hbo\">א</span><span class=\"txtu hbo\">ג</span><span class=\"txtu hbo\">ר</span><span class=\"txtu hbo\">ו</span><span class=\"txtu hbo\">ף </span><span class=\"txtu hbo\"><span class=\"vac1 empty\"> </span> </span><span class=\"txtu hbo\">א</span><span class=\"txtu hbo\">ם </span></div></td><td class=\"tf rtl\"><div class=\"rtl\"><span class=\"section rtl\"><a target=\"_blank\" href=\"https://www.deadseascrolls.org.il/explore-the-archive/search#q='4Q271'\" title=\"Show this scroll in the Leon Levy library\" sec=\"4Q271 f5i:3\">4Q271 f5i:3</a></span>  <span class=\"txtu hbo\"><span class=\"rec1\">א</span></span><span class=\"txtu hbo\"><span class=\"rec1\">ל</span> </span><span class=\"txtu hbo\"><span class=\"rec1\">י</span></span><span class=\"txtu hbo\"><span class=\"rec1\">ר</span></span><span class=\"txtu hbo\"><span class=\"rec1\">ם</span> </span><span class=\"txtu hbo\"><span class=\"rec1\">א</span></span><span class=\"txtu hbo\"><span class=\"rec1\">י</span></span><span class=\"txtu hbo\"><span class=\"rec1\">ש</span> </span><span class=\"txtu hbo\"><span class=\"rec1\">א</span></span><span class=\"txtu hbo\"><span class=\"rec1\">ת</span> </span><span class=\"txtu hbo\">י</span><span class=\"txtu hbo\">ד</span><span class=\"txtu hbo\">׳</span><span class=\"txtu hbo\">ו </span><span class=\"txtu hbo\">ל</span><span class=\"txtu hbo\">ה</span><span class=\"txtu hbo\">כ</span><span class=\"txtu hbo\">ו</span><span class=\"txtu hbo\">ת</span><span class=\"txtu hbo\">׳</span><span class=\"txtu hbo\"><span class=\"unc4\">ה</span> </span><span class=\"txtu hbo\"><span class=\"unc4\">ב</span></span><span class=\"txtu hbo\">א</span><span class=\"txtu hbo\">ג</span><span class=\"txtu hbo\">ר</span><span class=\"txtu hbo\">ו</span><span class=\"txtu hbo\">ף </span><span class=\"txtu hbo\"> </span><span class=\"txtu hbo\">׃ </span><span class=\"txtu hbo\">א</span><span class=\"txtu hbo\">ם </span><span class=\"txtu hbo\">ס</span><span class=\"txtu hbo\">ו</span><span class=\"txtu hbo\">ר</span><span class=\"txtu hbo\">ר</span><span class=\"txtu hbo\">ת </span><span class=\"txtu hbo\">ה</span><span class=\"txtu hbo\"><span class=\"unc3\">י</span></span><span class=\"txtu hbo\"><span class=\"rec1\">א</span> </span><span class=\"txtu hbo\"><span class=\"rec1\">א</span></span><span class=\"txtu hbo\"><span class=\"rec1\">ל</span> </span><span class=\"txtu hbo\"><span class=\"rec1\">י</span></span><span class=\"txtu hbo\"><span class=\"rec1\">ו</span></span><span class=\"txtu hbo\"><span class=\"rec1\">צ</span></span><span class=\"txtu hbo\"><span class=\"rec1\">י</span></span><span class=\"txtu hbo\"><span class=\"unc4\">א</span></span><span class=\"txtu hbo\">׳</span><span class=\"txtu hbo\">ה </span></div></td></tr>\n",
       "<tr class=\"tf rtl\"><td class=\"tf rtl\">6</td><td class=\"tf rtl\"><div class=\"rtl\"><span class=\"section rtl\"><a target=\"_blank\" href=\"https://www.deadseascrolls.org.il/explore-the-archive/search#q='CD'\" title=\"Show this scroll in the Leon Levy library\" sec=\"CD 11:16\">CD 11:16</a></span>  <span class=\"txtu hbo\"><span class=\"vac1 empty\"> </span> </span><span class=\"txtu hbo\">ו</span><span class=\"txtu hbo\">כ</span><span class=\"txtu hbo\">ל </span><span class=\"txtu hbo\">נ</span><span class=\"txtu hbo\">פ</span><span class=\"txtu hbo\">ש </span><span class=\"txtu hbo\">א</span><span class=\"txtu hbo\">ד</span><span class=\"txtu hbo\">ם </span><span class=\"txtu hbo\">א</span><span class=\"txtu hbo\">ש</span><span class=\"txtu hbo\">ר </span><span class=\"txtu hbo\">ת</span><span class=\"txtu hbo\">פ</span><span class=\"txtu hbo\">ו</span><span class=\"txtu hbo\">ל </span><span class=\"txtu hbo\">א</span><span class=\"txtu hbo\">ל </span><span class=\"txtu hbo\"><span class=\"rem2\">מ</span></span><span class=\"txtu hbo\"><span class=\"unc1 rem2\">י</span></span><span class=\"txtu hbo\"><span class=\"unc2 rem2\">ם</span> </span><span class=\"txtu hbo\">מ</span><span class=\"txtu hbo\">ק</span><span class=\"txtu hbo\">ו</span><span class=\"txtu hbo\">ם </span><span class=\"txtu hbo\">מ</span><span class=\"txtu hbo\">י</span><span class=\"txtu hbo\">ם </span><span class=\"txtu hbo\">ו</span><span class=\"txtu hbo\">א</span><span class=\"txtu hbo\">ל </span><span class=\"txtu hbo\">מ</span><span class=\"txtu hbo\">ק</span><span class=\"txtu hbo\">ו</span><span class=\"txtu hbo\">ם </span></div></td><td class=\"tf rtl\"><div class=\"rtl\"><span class=\"section rtl\"><a target=\"_blank\" href=\"https://www.deadseascrolls.org.il/explore-the-archive/search#q='4Q270'\" title=\"Show this scroll in the Leon Levy library\" sec=\"4Q270 f6v:19\">4Q270 f6v:19</a></span>  <span class=\"txtu hbo\"><span class=\"unc2\">ה</span></span><span class=\"txtu hbo\">ו</span><span class=\"txtu hbo\">ן </span><span class=\"txtu hbo\">ו</span><span class=\"txtu hbo\">ב</span><span class=\"txtu hbo\">צ</span><span class=\"txtu hbo\">ע </span><span class=\"txtu hbo\">ב</span><span class=\"txtu hbo\">ש</span><span class=\"txtu hbo\">ב</span><span class=\"txtu hbo\">ת </span><span class=\"txtu hbo\"> </span><span class=\"txtu hbo\">׃ </span><span class=\"txtu hbo\">ו</span><span class=\"txtu hbo\">כ</span><span class=\"txtu hbo\">ל </span><span class=\"txtu hbo\">נ</span><span class=\"txtu hbo\">פ</span><span class=\"txtu hbo\">ש </span><span class=\"txtu hbo\">א</span><span class=\"txtu hbo\">ד</span><span class=\"txtu hbo\"><span class=\"rec1\">ם</span> </span><span class=\"txtu hbo\"><span class=\"rec1\">א</span></span><span class=\"txtu hbo\"><span class=\"rec1\">ש</span></span><span class=\"txtu hbo\"><span class=\"rec1\">ר</span> </span><span class=\"txtu hbo\"><span class=\"rec1\">ת</span></span><span class=\"txtu hbo\"><span class=\"rec1\">פ</span></span><span class=\"txtu hbo\"><span class=\"rec1\">ו</span></span><span class=\"txtu hbo\"><span class=\"rec1\">ל</span> </span><span class=\"txtu hbo\"><span class=\"rec1\">א</span></span><span class=\"txtu hbo\"><span class=\"rec1\">ל</span> </span><span class=\"txtu hbo\"><span class=\"rec1\">מ</span></span><span class=\"txtu hbo\"><span class=\"rec1\">ק</span></span><span class=\"txtu hbo\"><span class=\"rec1\">ו</span></span><span class=\"txtu hbo\"><span class=\"rec1\">ם</span> </span><span class=\"txtu hbo\"><span class=\"rec1\">מ</span></span><span class=\"txtu hbo\"><span class=\"rec1\">י</span></span><span class=\"txtu hbo\"><span class=\"rec1\">ם</span> </span><span class=\"txtu hbo\"><span class=\"rec1\">ו</span></span><span class=\"txtu hbo\"><span class=\"rec1\">א</span></span><span class=\"txtu hbo\"><span class=\"rec1\">ל</span> </span><span class=\"txtu hbo\"><span class=\"rec1\">ב</span></span><span class=\"txtu hbo\"><span class=\"rec1\">ו</span></span><span class=\"txtu hbo\"><span class=\"rec1\">ר</span> </span><span class=\"txtu hbo\"><span class=\"rec1\">א</span></span><span class=\"txtu hbo\"><span class=\"rec1\">ל</span> </span></div></td></tr>\n",
       "<tr class=\"tf rtl\"><td class=\"tf rtl\">7</td><td class=\"tf rtl\"><div class=\"rtl\"><span class=\"section rtl\"><a target=\"_blank\" href=\"https://www.deadseascrolls.org.il/explore-the-archive/search#q='CD'\" title=\"Show this scroll in the Leon Levy library\" sec=\"CD 12:16\">CD 12:16</a></span>  <span class=\"txtu hbo\">ו</span><span class=\"txtu hbo\">ה</span><span class=\"txtu hbo\">ע</span><span class=\"txtu hbo\">פ</span><span class=\"txtu hbo\">ר </span><span class=\"txtu hbo\">א</span><span class=\"txtu hbo\">ש</span><span class=\"txtu hbo\">ר </span><span class=\"txtu hbo\">י</span><span class=\"txtu hbo\">ג</span><span class=\"txtu hbo\">ו</span><span class=\"txtu hbo\">א</span><span class=\"txtu hbo\">ל</span><span class=\"txtu hbo\">ו </span><span class=\"txtu hbo\">ב</span><span class=\"txtu hbo\">ט</span><span class=\"txtu hbo\">מ</span><span class=\"txtu hbo\">א</span><span class=\"txtu hbo\">ת </span><span class=\"txtu hbo\">ה</span><span class=\"txtu hbo\">א</span><span class=\"txtu hbo\">ד</span><span class=\"txtu hbo\">ם </span><span class=\"txtu hbo\">ל</span><span class=\"txtu hbo\">ג</span><span class=\"txtu hbo\">א</span><span class=\"txtu hbo\">ו</span><span class=\"txtu hbo\">ל</span><span class=\"txtu hbo\">י </span><span class=\"txtu hbo\">ש</span><span class=\"txtu hbo\">מ</span><span class=\"txtu hbo\">ן </span><span class=\"txtu hbo\">ב</span><span class=\"txtu hbo\">׳</span><span class=\"txtu hbo\">ה</span><span class=\"txtu hbo\">ם </span><span class=\"txtu hbo\">כ</span><span class=\"txtu hbo\">פ</span><span class=\"txtu hbo\">י </span></div></td><td class=\"tf rtl\"><div class=\"rtl\"><span class=\"section rtl\"><a target=\"_blank\" href=\"https://www.deadseascrolls.org.il/explore-the-archive/search#q='4Q266'\" title=\"Show this scroll in the Leon Levy library\" sec=\"4Q266 f9ii:3\">4Q266 f9ii:3</a></span>  <span class=\"txtu hbo\"><span class=\"rec1\">י</span></span><span class=\"txtu hbo\"><span class=\"rec1\">ג</span></span><span class=\"txtu hbo\"><span class=\"rec1\">ו</span></span><span class=\"txtu hbo\"><span class=\"rec1\">א</span></span><span class=\"txtu hbo\"><span class=\"rec1\">ל</span></span><span class=\"txtu hbo\"><span class=\"rec1\">ו</span> </span><span class=\"txtu hbo\"><span class=\"rec1\">ב</span></span><span class=\"txtu hbo\"><span class=\"rec1\">ט</span></span><span class=\"txtu hbo\"><span class=\"rec1\">מ</span></span><span class=\"txtu hbo\"><span class=\"rec1\">א</span></span><span class=\"txtu hbo\"><span class=\"rec1\">ת</span> </span><span class=\"txtu hbo\"><span class=\"rec1\">ה</span></span><span class=\"txtu hbo\"><span class=\"rec1\">א</span></span><span class=\"txtu hbo\"><span class=\"rec1\">ד</span></span><span class=\"txtu hbo\"><span class=\"rec1\">ם</span> </span><span class=\"txtu hbo\"><span class=\"rec1\">ל</span></span><span class=\"txtu hbo\"><span class=\"rec1\">ג</span></span><span class=\"txtu hbo\"><span class=\"rec1\">א</span></span><span class=\"txtu hbo\"><span class=\"rec1\">ו</span></span><span class=\"txtu hbo\"><span class=\"rec1\">ל</span></span><span class=\"txtu hbo\"><span class=\"rec1\">י</span> </span><span class=\"txtu hbo\"><span class=\"rec1\">ש</span></span><span class=\"txtu hbo\"><span class=\"rec1\">מ</span></span><span class=\"txtu hbo\"><span class=\"rec1\">ן</span> </span><span class=\"txtu hbo\"><span class=\"rec1\">ב</span></span><span class=\"txtu hbo\"><span class=\"rec1\">׳</span></span><span class=\"txtu hbo\"><span class=\"rec1\">ה</span></span><span class=\"txtu hbo\"><span class=\"rec1\">ם</span> </span><span class=\"txtu hbo\"><span class=\"rec1\">כ</span></span><span class=\"txtu hbo\"><span class=\"rec1\">פ</span></span><span class=\"txtu hbo\"><span class=\"rec1\">י</span> </span><span class=\"txtu hbo\"><span class=\"rec1\">ט</span></span><span class=\"txtu hbo\"><span class=\"unc2\">מ</span></span><span class=\"txtu hbo\">א</span><span class=\"txtu hbo\">ת</span><span class=\"txtu hbo\">׳</span><span class=\"txtu hbo\">ם </span><span class=\"txtu hbo\"><span class=\"unc1\">י</span></span><span class=\"txtu hbo\"><span class=\"unc4\">ט</span></span><span class=\"txtu hbo\"><span class=\"rec1\">מ</span></span><span class=\"txtu hbo\"><span class=\"rec1\">א</span> </span></div></td></tr>\n",
       "<tr class=\"tf rtl\"><td class=\"tf rtl\">8</td><td class=\"tf rtl\"><div class=\"rtl\"><span class=\"section rtl\"><a target=\"_blank\" href=\"https://www.deadseascrolls.org.il/explore-the-archive/search#q='CD'\" title=\"Show this scroll in the Leon Levy library\" sec=\"CD 12:17\">CD 12:17</a></span>  <span class=\"txtu hbo\">ט</span><span class=\"txtu hbo\">מ</span><span class=\"txtu hbo\">א</span><span class=\"txtu hbo\"><span class=\"unc2\">ת</span></span><span class=\"txtu hbo\">׳</span><span class=\"txtu hbo\">ם </span><span class=\"txtu hbo\">י</span><span class=\"txtu hbo\">ט</span><span class=\"txtu hbo\">מ</span><span class=\"txtu hbo\">א </span><span class=\"txtu hbo\">ה</span><span class=\"txtu hbo\"><span class=\"unc1\">נ</span></span><span class=\"txtu hbo\"><span class=\"rec1\">ו</span></span><span class=\"txtu hbo\">ג</span><span class=\"txtu hbo\">ע </span><span class=\"txtu hbo\">ב</span><span class=\"txtu hbo\">׳</span><span class=\"txtu hbo\">ם </span><span class=\"txtu hbo\"> </span><span class=\"txtu hbo\">׃ </span><span class=\"txtu hbo\"><span class=\"vac1 empty\"> </span> </span><span class=\"txtu hbo\">ו</span><span class=\"txtu hbo\">כ</span><span class=\"txtu hbo\">ל </span><span class=\"txtu hbo\">כ</span><span class=\"txtu hbo\">ל</span><span class=\"txtu hbo\">י </span><span class=\"txtu hbo\"><span class=\"rem2\">מ</span></span><span class=\"txtu hbo\"><span class=\"rem2\">ס</span></span><span class=\"txtu hbo\"><span class=\"rem2\">מ</span></span><span class=\"txtu hbo\"><span class=\"rem2\">ר</span> </span><span class=\"txtu hbo\">מ</span><span class=\"txtu hbo\">ס</span><span class=\"txtu hbo\">מ</span><span class=\"txtu hbo\">ר </span><span class=\"txtu hbo\">א</span><span class=\"txtu hbo\">ו </span><span class=\"txtu hbo\">י</span><span class=\"txtu hbo\">ת</span><span class=\"txtu hbo\">ד </span><span class=\"txtu hbo\">ב</span><span class=\"txtu hbo\">כ</span><span class=\"txtu hbo\"><span class=\"unc1\">ו</span></span><span class=\"txtu hbo\">ת</span><span class=\"txtu hbo\">ל </span></div></td><td class=\"tf rtl\"><div class=\"rtl\"><span class=\"section rtl\"><a target=\"_blank\" href=\"https://www.deadseascrolls.org.il/explore-the-archive/search#q='4Q266'\" title=\"Show this scroll in the Leon Levy library\" sec=\"4Q266 f9ii:4\">4Q266 f9ii:4</a></span>  <span class=\"txtu hbo\"><span class=\"rec1\">ה</span></span><span class=\"txtu hbo\"><span class=\"rec1\">נ</span></span><span class=\"txtu hbo\"><span class=\"rec1\">ו</span></span><span class=\"txtu hbo\"><span class=\"rec1\">ג</span></span><span class=\"txtu hbo\"><span class=\"rec1\">ע</span> </span><span class=\"txtu hbo\"><span class=\"rec1\">ב</span></span><span class=\"txtu hbo\"><span class=\"rec1\">׳</span></span><span class=\"txtu hbo\"><span class=\"rec1\">ם</span> </span><span class=\"txtu hbo\"><span class=\"rec1 empty\"> </span></span><span class=\"txtu hbo\"><span class=\"rec1\">׃</span> </span><span class=\"txtu hbo\"><span class=\"rec1\">ו</span></span><span class=\"txtu hbo\"><span class=\"rec1\">כ</span></span><span class=\"txtu hbo\"><span class=\"rec1\">ו</span></span><span class=\"txtu hbo\"><span class=\"rec1\">ל</span> </span><span class=\"txtu hbo\"><span class=\"rec1\">כ</span></span><span class=\"txtu hbo\"><span class=\"rec1\">ל</span></span><span class=\"txtu hbo\"><span class=\"rec1\">י</span> </span><span class=\"txtu hbo\"><span class=\"rec1\">מ</span></span><span class=\"txtu hbo\"><span class=\"rec1\">ס</span></span><span class=\"txtu hbo\"><span class=\"rec1\">מ</span></span><span class=\"txtu hbo\"><span class=\"rec1\">ר</span> </span><span class=\"txtu hbo\"><span class=\"rec1\">ו</span></span><span class=\"txtu hbo\"><span class=\"rec1\">י</span></span><span class=\"txtu hbo\"><span class=\"rec1\">ת</span></span><span class=\"txtu hbo\"><span class=\"rec1\">ד</span> </span><span class=\"txtu hbo\"><span class=\"rec1\">ב</span></span><span class=\"txtu hbo\"><span class=\"rec1\">כ</span></span><span class=\"txtu hbo\"><span class=\"rec1\">ו</span></span><span class=\"txtu hbo\"><span class=\"rec1\">ת</span></span><span class=\"txtu hbo\"><span class=\"rec1\">ל</span> </span><span class=\"txtu hbo\"><span class=\"rec1\">א</span></span><span class=\"txtu hbo\"><span class=\"rec1\">ש</span></span><span class=\"txtu hbo\"><span class=\"rec1\">ר</span> </span><span class=\"txtu hbo\"><span class=\"rec1\">י</span></span><span class=\"txtu hbo\"><span class=\"rec1\">ה</span></span><span class=\"txtu hbo\"><span class=\"rec1\">י</span></span><span class=\"txtu hbo\">ו </span><span class=\"txtu hbo\">ע</span><span class=\"txtu hbo\">ם </span></div></td></tr>\n",
       "<tr class=\"tf rtl\"><td class=\"tf rtl\">9</td><td class=\"tf rtl\"><div class=\"rtl\"><span class=\"section rtl\"><a target=\"_blank\" href=\"https://www.deadseascrolls.org.il/explore-the-archive/search#q='CD'\" title=\"Show this scroll in the Leon Levy library\" sec=\"CD 13:13\">CD 13:13</a></span>  <span class=\"txtu hbo\">מ</span><span class=\"txtu hbo\">ב</span><span class=\"txtu hbo\">נ</span><span class=\"txtu hbo\">י </span><span class=\"txtu hbo\">ה</span><span class=\"txtu hbo\">מ</span><span class=\"txtu hbo\">ח</span><span class=\"txtu hbo\">נ</span><span class=\"txtu hbo\">ה </span><span class=\"txtu hbo\">ל</span><span class=\"txtu hbo\">ה</span><span class=\"txtu hbo\">ב</span><span class=\"txtu hbo\">י</span><span class=\"txtu hbo\">א </span><span class=\"txtu hbo\">א</span><span class=\"txtu hbo\">י</span><span class=\"txtu hbo\">ש </span><span class=\"txtu hbo\">א</span><span class=\"txtu hbo\">ל </span><span class=\"txtu hbo\">ה</span><span class=\"txtu hbo\">ע</span><span class=\"txtu hbo\">ד</span><span class=\"txtu hbo\">ה </span><span class=\"txtu hbo\"><span class=\"unc1\">ז</span></span><span class=\"txtu hbo\"><span class=\"unc1\">ו</span></span><span class=\"txtu hbo\"><span class=\"unc2\">ל</span></span><span class=\"txtu hbo\">ת </span><span class=\"txtu hbo\">פ</span><span class=\"txtu hbo\">י </span><span class=\"txtu hbo\">ה</span><span class=\"txtu hbo\">מ</span><span class=\"txtu hbo\">ב</span><span class=\"txtu hbo\">ק</span><span class=\"txtu hbo\">ר </span><span class=\"txtu hbo\">א</span><span class=\"txtu hbo\">ש</span><span class=\"txtu hbo\"><span class=\"unc2\">ר</span> </span><span class=\"txtu hbo\">ל</span><span class=\"txtu hbo\">מ</span><span class=\"txtu hbo\">ח</span><span class=\"txtu hbo\">נ</span><span class=\"txtu hbo\"><span class=\"unc4\">ה</span> </span><span class=\"txtu hbo\"> </span><span class=\"txtu hbo\">׃ </span></div></td><td class=\"tf rtl\"><div class=\"rtl\"><span class=\"section rtl\"><a target=\"_blank\" href=\"https://www.deadseascrolls.org.il/explore-the-archive/search#q='4Q267'\" title=\"Show this scroll in the Leon Levy library\" sec=\"4Q267 f9iv:10\">4Q267 f9iv:10</a></span>  <span class=\"txtu hbo\"><span class=\"rec1\">י</span></span><span class=\"txtu hbo\"><span class=\"rec1\">מ</span></span><span class=\"txtu hbo\"><span class=\"rec1\">ש</span></span><span class=\"txtu hbo\"><span class=\"rec1\">ו</span></span><span class=\"txtu hbo\"><span class=\"rec1\">ל</span> </span><span class=\"txtu hbo\"><span class=\"rec1\">א</span></span><span class=\"txtu hbo\"><span class=\"rec1\">י</span></span><span class=\"txtu hbo\"><span class=\"rec1\">ש</span> </span><span class=\"txtu hbo\"><span class=\"cor1 rec1\">מ</span></span><span class=\"txtu hbo\"><span class=\"cor1 rec1\">כ</span></span><span class=\"txtu hbo\"><span class=\"cor1 rec1\">ו</span></span><span class=\"txtu hbo\"><span class=\"cor1 rec1\">ל</span> </span><span class=\"txtu hbo\"><span class=\"rec1\"> ? </span> </span><span class=\"txtu hbo\"><span class=\"rec1\">ב</span></span><span class=\"txtu hbo\"><span class=\"rec1\">נ</span></span><span class=\"txtu hbo\"><span class=\"rec1\">י</span> </span><span class=\"txtu hbo\"><span class=\"rec1\">ה</span></span><span class=\"txtu hbo\"><span class=\"rec1\">מ</span></span><span class=\"txtu hbo\"><span class=\"rec1\">ח</span></span><span class=\"txtu hbo\"><span class=\"rec1\">נ</span></span><span class=\"txtu hbo\"><span class=\"rec1\">ה</span> </span><span class=\"txtu hbo\"><span class=\"rec1\">ל</span></span><span class=\"txtu hbo\"><span class=\"unc4\">ה</span></span><span class=\"txtu hbo\"><span class=\"unc4\">ב</span></span><span class=\"txtu hbo\"><span class=\"unc3\">י</span></span><span class=\"txtu hbo\">א </span><span class=\"txtu hbo\">א</span><span class=\"txtu hbo\">י</span><span class=\"txtu hbo\">ש </span><span class=\"txtu hbo\">א</span><span class=\"txtu hbo\">ל </span><span class=\"txtu hbo\"><span class=\"rec1\">ה</span></span><span class=\"txtu hbo\"><span class=\"rec1\">ע</span></span><span class=\"txtu hbo\">ד</span><span class=\"txtu hbo\">ה </span></div></td></tr>\n",
       "<tr class=\"tf rtl\"><td class=\"tf rtl\">10</td><td class=\"tf rtl\"><div class=\"rtl\"><span class=\"section rtl\"><a target=\"_blank\" href=\"https://www.deadseascrolls.org.il/explore-the-archive/search#q='CD'\" title=\"Show this scroll in the Leon Levy library\" sec=\"CD 14:6\">CD 14:6</a></span>  <span class=\"txtu hbo\">ש</span><span class=\"txtu hbo\">ל</span><span class=\"txtu hbo\">ו</span><span class=\"txtu hbo\">ש</span><span class=\"txtu hbo\">ת</span><span class=\"txtu hbo\">׳</span><span class=\"txtu hbo\">ם </span><span class=\"txtu hbo\">ו</span><span class=\"txtu hbo\">ה</span><span class=\"txtu hbo\">ג</span><span class=\"txtu hbo\">ר </span><span class=\"txtu hbo\">ר</span><span class=\"txtu hbo\">ב</span><span class=\"txtu hbo\">י</span><span class=\"txtu hbo\">ע </span><span class=\"txtu hbo\"> </span><span class=\"txtu hbo\">׃ </span><span class=\"txtu hbo\">ו</span><span class=\"txtu hbo\">כ</span><span class=\"txtu hbo\">ן </span><span class=\"txtu hbo\">י</span><span class=\"txtu hbo\">ש</span><span class=\"txtu hbo\">ב</span><span class=\"txtu hbo\">ו </span><span class=\"txtu hbo\">ו</span><span class=\"txtu hbo\">כ</span><span class=\"txtu hbo\">ן </span><span class=\"txtu hbo\">י</span><span class=\"txtu hbo\">ש</span><span class=\"txtu hbo\">א</span><span class=\"txtu hbo\">ל</span><span class=\"txtu hbo\">ו </span><span class=\"txtu hbo\">ל</span><span class=\"txtu hbo\">כ</span><span class=\"txtu hbo\">ל </span><span class=\"txtu hbo\"> </span><span class=\"txtu hbo\">׃ </span><span class=\"txtu hbo\">ו</span><span class=\"txtu hbo\">ה</span><span class=\"txtu hbo\">כ</span><span class=\"txtu hbo\">ה</span><span class=\"txtu hbo\">ן </span><span class=\"txtu hbo\">א</span><span class=\"txtu hbo\">ש</span><span class=\"txtu hbo\">ר </span><span class=\"txtu hbo\">י</span><span class=\"txtu hbo\"><span class=\"unc2\">פ</span></span><span class=\"txtu hbo\">ק</span><span class=\"txtu hbo\">ד </span></div></td><td class=\"tf rtl\"><div class=\"rtl\"><span class=\"section rtl\"><a target=\"_blank\" href=\"https://www.deadseascrolls.org.il/explore-the-archive/search#q='4Q269'\" title=\"Show this scroll in the Leon Levy library\" sec=\"4Q269 f10ii:11\">4Q269 f10ii:11</a></span>  <span class=\"txtu hbo\">י</span><span class=\"txtu hbo\">ש</span><span class=\"txtu hbo\">ר</span><span class=\"txtu hbo\">א</span><span class=\"txtu hbo\"><span class=\"unc2\">ל</span> </span><span class=\"txtu hbo\"><span class=\"rec1\">ש</span></span><span class=\"txtu hbo\"><span class=\"rec1\">ל</span></span><span class=\"txtu hbo\"><span class=\"rec1\">ש</span></span><span class=\"txtu hbo\"><span class=\"rec1\">י</span></span><span class=\"txtu hbo\"><span class=\"rec1\">י</span></span><span class=\"txtu hbo\"><span class=\"rec1\">ם</span> </span><span class=\"txtu hbo\"><span class=\"rec1\">ו</span></span><span class=\"txtu hbo\"><span class=\"rec1\">ה</span></span><span class=\"txtu hbo\"><span class=\"rec1\">ג</span></span><span class=\"txtu hbo\"><span class=\"rec1\">ר</span> </span><span class=\"txtu hbo\"><span class=\"rec1\">ר</span></span><span class=\"txtu hbo\"><span class=\"rec1\">ב</span></span><span class=\"txtu hbo\"><span class=\"rec1\">י</span></span><span class=\"txtu hbo\"><span class=\"rec1\">ע</span> </span><span class=\"txtu hbo\"><span class=\"rec1 empty\"> </span></span><span class=\"txtu hbo\"><span class=\"rec1\">׃</span> </span><span class=\"txtu hbo\"><span class=\"rec1\">ו</span></span><span class=\"txtu hbo\"><span class=\"rec1\">כ</span></span><span class=\"txtu hbo\"><span class=\"rec1\">ן</span> </span><span class=\"txtu hbo\"><span class=\"rec1\">י</span></span><span class=\"txtu hbo\"><span class=\"rec1\">ש</span></span><span class=\"txtu hbo\"><span class=\"rec1\">ב</span></span><span class=\"txtu hbo\"><span class=\"rec1\">ו</span> </span><span class=\"txtu hbo\"><span class=\"rec1\">ו</span></span><span class=\"txtu hbo\"><span class=\"rec1\">כ</span></span><span class=\"txtu hbo\"><span class=\"rec1\">ן</span> </span><span class=\"txtu hbo\"><span class=\"rec1\">י</span></span><span class=\"txtu hbo\"><span class=\"rec1\">ש</span></span><span class=\"txtu hbo\"><span class=\"rec1\">א</span></span><span class=\"txtu hbo\"><span class=\"rec1\">ל</span></span><span class=\"txtu hbo\"><span class=\"rec1\">ו</span> </span><span class=\"txtu hbo\"><span class=\"rec1\">ל</span></span><span class=\"txtu hbo\"><span class=\"rec1\">כ</span></span><span class=\"txtu hbo\"><span class=\"rec1\">ו</span></span><span class=\"txtu hbo\"><span class=\"rec1\">ל</span> </span><span class=\"txtu hbo\"> </span><span class=\"txtu hbo\">׃ </span></div></td></tr></table>"
      ],
      "text/plain": [
       "<IPython.core.display.HTML object>"
      ]
     },
     "metadata": {},
     "output_type": "display_data"
    }
   ],
   "source": [
    "A.table(results, start=1, end=10, fmt=\"layout-orig-full\", withPassage=\"1 2\")"
   ]
  },
  {
   "cell_type": "markdown",
   "metadata": {},
   "source": [
    "# More research\n",
    "\n",
    "Let's find out which lines have the most correspondences."
   ]
  },
  {
   "cell_type": "code",
   "execution_count": 10,
   "metadata": {},
   "outputs": [
    {
     "name": "stdout",
     "output_type": "stream",
     "text": [
      "16114 out of 52895 lines have at least one similar line\n"
     ]
    }
   ],
   "source": [
    "parallels = {}\n",
    "\n",
    "for (ln, m) in similarity:\n",
    "    parallels.setdefault(ln, set()).add(m)\n",
    "    parallels.setdefault(m, set()).add(ln)\n",
    "\n",
    "print(f\"{len(parallels)} out of {nLines} lines have at least one similar line\")"
   ]
  },
  {
   "cell_type": "code",
   "execution_count": 11,
   "metadata": {},
   "outputs": [],
   "source": [
    "rankedParallels = sorted(\n",
    "    parallels.items(),\n",
    "    key=lambda x: (-len(x[1]), x[0]),\n",
    ")"
   ]
  },
  {
   "cell_type": "code",
   "execution_count": 12,
   "metadata": {},
   "outputs": [
    {
     "name": "stdout",
     "output_type": "stream",
     "text": [
      " 317 siblings of 1554667 = ε  # ם והב #  # ל #  #  #   #  #  #  #  #  #  ε  = -- \\M whb\\\\l\\\\\\ \\\\\\\\\\\\ -- \n",
      " 291 siblings of 1565610 = ε ותי׳כם ε  = -- wty/kM -- \n",
      " 291 siblings of 1569619 = ε  # ותי׳הם  #  ε ׃  = -- \\wty/hM \\ -- . \n",
      " 291 siblings of 1578909 = ε  #   #   # ותי׳כה ε ׃  = -- \\ \\ \\wty/kh -- . \n",
      " 291 siblings of 1579081 = ε  # ותי׳נו ε  = -- \\wty/nw -- \n",
      " 190 siblings of 1555321 = ε ירים למ #  ε  = -- yryM lm\\ -- \n",
      " 190 siblings of 1577062 = ε ות׳ם לה #  ε  = -- wt/M lh\\ -- \n",
      " 190 siblings of 1582371 = ε  # ין ל׳הון ε  = -- \\yN l/hwN -- \n",
      " 181 siblings of 1554556 = ε  #  #  #  # ם וכול  #  #    #  #   = -- \\\\\\\\M wkwl \\\\ □\\\\ \n",
      " 181 siblings of 1559975 = ε ין וכל ε  = -- yN wkl -- \n"
     ]
    }
   ],
   "source": [
    "for (ln, paras) in rankedParallels[0:10]:\n",
    "    print(\n",
    "        f'{len(paras):>4} siblings of {ln} = {T.text(ln)} = {T.text(ln, fmt=\"text-source-full\", descend=True)}'\n",
    "    )"
   ]
  },
  {
   "cell_type": "code",
   "execution_count": 13,
   "metadata": {},
   "outputs": [
    {
     "name": "stdout",
     "output_type": "stream",
     "text": [
      " 102 siblings of ε ם והפריח ε  = -- M whpryj -- \n",
      " 102 siblings of וצואהוא  #  ε  = wxwahwa \\ -- \n",
      " 102 siblings of ε  #  כרם וה   ׃  = -- \\ krM wh □ . \n",
      " 102 siblings of יחדו וית #  ε  = yjdw wyt\\ -- \n",
      " 102 siblings of וכ # ל ε ׳כה  = wk\\l -- /kh \n",
      " 102 siblings of ε ים ואיכה  = -- yM waykh \n",
      " 102 siblings of ε  #  ותוצאת ε  = -- \\ wtwxat -- \n",
      " 102 siblings of וי #   # חוץ ו #  ε  = wy\\ \\jwX w\\ -- \n",
      " 102 siblings of ε י׳הם ודב ε  = -- y/hM wdb -- \n",
      " 102 siblings of ε ת ומנינ #  ε ׃  = -- t wmnyn\\ -- . \n"
     ]
    }
   ],
   "source": [
    "for (ln, paras) in rankedParallels[100:110]:\n",
    "    print(\n",
    "        f'{len(paras):>4} siblings of {T.text(ln)} = {T.text(ln, fmt=\"text-source-full\", descend=True)}'\n",
    "    )"
   ]
  },
  {
   "cell_type": "code",
   "execution_count": 14,
   "metadata": {},
   "outputs": [
    {
     "name": "stdout",
     "output_type": "stream",
     "text": [
      "  45 siblings of ε ב׳כה ובתורה ε  = -- b/kh wbtwrh -- \n",
      "  45 siblings of ε ים אשר ε  = -- yM aCr -- \n",
      "  45 siblings of אלוהים לכול ε  = alwhyM lkwl -- \n",
      "  45 siblings of ובבינת ε  = wbbynt -- \n",
      "  45 siblings of ε ית׳כה אשר ε  = -- yt/kh aCr -- \n",
      "  45 siblings of ε  # י׳כה אשר ε  = -- \\y/kh aCr -- \n",
      "  45 siblings of ובעשרין ε  = wboCryN -- \n",
      "  45 siblings of ε ים אשר ε ׃ ╱  = -- yM aCr -- . ╱ \n",
      "  44 siblings of ε ובעדת׳נו   ε ׃  = -- wbodt/nw □ -- . \n",
      "  44 siblings of ε לכול עולמים ε ׃  = -- lkwl owlmyM -- . \n"
     ]
    }
   ],
   "source": [
    "for (ln, paras) in rankedParallels[500:510]:\n",
    "    print(\n",
    "        f'{len(paras):>4} siblings of {T.text(ln)} = {T.text(ln, fmt=\"text-source-full\", descend=True)}'\n",
    "    )"
   ]
  },
  {
   "cell_type": "markdown",
   "metadata": {},
   "source": [
    "And how many lines have just one correspondence?\n",
    "\n",
    "We look at the tail of rankedParallels."
   ]
  },
  {
   "cell_type": "code",
   "execution_count": 15,
   "metadata": {},
   "outputs": [
    {
     "name": "stdout",
     "output_type": "stream",
     "text": [
      "There are 7426 exclusively parallel pairs of lines\n"
     ]
    }
   ],
   "source": [
    "pairs = [(x, list(paras)[0]) for (x, paras) in rankedParallels if len(paras) == 1]\n",
    "print(f\"There are {len(pairs)} exclusively parallel pairs of lines\")"
   ]
  },
  {
   "cell_type": "code",
   "execution_count": 17,
   "metadata": {},
   "outputs": [
    {
     "data": {
      "text/markdown": [
       "---\n"
      ],
      "text/plain": [
       "<IPython.core.display.Markdown object>"
      ]
     },
     "metadata": {},
     "output_type": "display_data"
    },
    {
     "name": "stdout",
     "output_type": "stream",
     "text": [
      "similarity 69\n"
     ]
    },
    {
     "data": {
      "text/html": [
       "<div class=\"rtl\"><span class=\"section rtl\"><a target=\"_blank\" href=\"https://www.deadseascrolls.org.il/explore-the-archive/search#q='CD'\" title=\"Show this scroll in the Leon Levy library\" sec=\"CD 1:1\">CD 1:1</a></span>  <span class=\"txtu hbo\"><span class=\"vac1 empty\"> </span> </span><span class=\"txtu hbo\">ו</span><span class=\"txtu hbo\">ע</span><span class=\"txtu hbo\">ת</span><span class=\"txtu hbo\">ה </span><span class=\"txtu hbo\">ש</span><span class=\"txtu hbo\">מ</span><span class=\"txtu hbo\">ע</span><span class=\"txtu hbo\">ו </span><span class=\"txtu hbo\">כ</span><span class=\"txtu hbo\">ל </span><span class=\"txtu hbo\">י</span><span class=\"txtu hbo\">ו</span><span class=\"txtu hbo\">ד</span><span class=\"txtu hbo\">ע</span><span class=\"txtu hbo\">י </span><span class=\"txtu hbo\">צ</span><span class=\"txtu hbo\">ד</span><span class=\"txtu hbo\">ק </span><span class=\"txtu hbo\">ו</span><span class=\"txtu hbo\">ב</span><span class=\"txtu hbo\">י</span><span class=\"txtu hbo\">נ</span><span class=\"txtu hbo\">ו </span><span class=\"txtu hbo\">ב</span><span class=\"txtu hbo\">מ</span><span class=\"txtu hbo\">ע</span><span class=\"txtu hbo\">ש</span><span class=\"txtu hbo\">י </span></div>"
      ],
      "text/plain": [
       "<IPython.core.display.HTML object>"
      ]
     },
     "metadata": {},
     "output_type": "display_data"
    },
    {
     "data": {
      "text/html": [
       "<div class=\"rtl\"><span class=\"section rtl\"><a target=\"_blank\" href=\"https://www.deadseascrolls.org.il/explore-the-archive/search#q='4Q268'\" title=\"Show this scroll in the Leon Levy library\" sec=\"4Q268 f1:9\">4Q268 f1:9</a></span>  <span class=\"txtu hbo\"><span class=\"unc3\">ו</span></span><span class=\"txtu hbo\"><span class=\"unc4\">ע</span></span><span class=\"txtu hbo\"><span class=\"unc4\">ת</span></span><span class=\"txtu hbo\"><span class=\"unc2\">ה</span> </span><span class=\"txtu hbo\">ש</span><span class=\"txtu hbo\">מ</span><span class=\"txtu hbo\">ע</span><span class=\"txtu hbo\">ו </span><span class=\"txtu hbo\">ל</span><span class=\"txtu hbo\">׳</span><span class=\"txtu hbo\">י </span><span class=\"txtu hbo\">כ</span><span class=\"txtu hbo\">ו</span><span class=\"txtu hbo\">ל </span><span class=\"txtu hbo\">י</span><span class=\"txtu hbo\">ו</span><span class=\"txtu hbo\">ד</span><span class=\"txtu hbo\">ע</span><span class=\"txtu hbo\">י </span><span class=\"txtu hbo\">צ</span><span class=\"txtu hbo\">ד</span><span class=\"txtu hbo\">ק </span><span class=\"txtu hbo\">ו</span><span class=\"txtu hbo\">ב</span><span class=\"txtu hbo\">י</span><span class=\"txtu hbo\">נ</span><span class=\"txtu hbo\">ו </span><span class=\"txtu hbo\">ב</span><span class=\"txtu hbo\">מ</span><span class=\"txtu hbo\">ע</span><span class=\"txtu hbo\"><span class=\"unc2\">ש</span></span><span class=\"txtu hbo\"><span class=\"rec1\">י</span> </span><span class=\"txtu hbo\"><span class=\"scriptpaleohebrew\">א</span></span><span class=\"txtu hbo\"><span class=\"scriptpaleohebrew\">ל</span> </span><span class=\"txtu hbo\"> </span><span class=\"txtu hbo\">׃ </span><span class=\"txtu hbo\"><span class=\"rec1\">כ</span></span><span class=\"txtu hbo\"><span class=\"rec1\">י</span> </span><span class=\"txtu hbo\"><span class=\"rec1\">ר</span></span><span class=\"txtu hbo\"><span class=\"rec1\">י</span></span><span class=\"txtu hbo\"><span class=\"rec1\">ב</span> </span></div>"
      ],
      "text/plain": [
       "<IPython.core.display.HTML object>"
      ]
     },
     "metadata": {},
     "output_type": "display_data"
    },
    {
     "data": {
      "text/markdown": [
       "---\n"
      ],
      "text/plain": [
       "<IPython.core.display.Markdown object>"
      ]
     },
     "metadata": {},
     "output_type": "display_data"
    },
    {
     "name": "stdout",
     "output_type": "stream",
     "text": [
      "similarity 85\n"
     ]
    },
    {
     "data": {
      "text/html": [
       "<div class=\"rtl\"><span class=\"section rtl\"><a target=\"_blank\" href=\"https://www.deadseascrolls.org.il/explore-the-archive/search#q='CD'\" title=\"Show this scroll in the Leon Levy library\" sec=\"CD 1:3\">CD 1:3</a></span>  <span class=\"txtu hbo\">כ</span><span class=\"txtu hbo\">י </span><span class=\"txtu hbo\">ב</span><span class=\"txtu hbo\">מ</span><span class=\"txtu hbo\">ו</span><span class=\"txtu hbo\">ע</span><span class=\"txtu hbo\">ל</span><span class=\"txtu hbo\">׳</span><span class=\"txtu hbo\">ם </span><span class=\"txtu hbo\">א</span><span class=\"txtu hbo\">ש</span><span class=\"txtu hbo\">ר </span><span class=\"txtu hbo\">ע</span><span class=\"txtu hbo\">ז</span><span class=\"txtu hbo\">ב</span><span class=\"txtu hbo\">ו</span><span class=\"txtu hbo\">׳</span><span class=\"txtu hbo\">ה</span><span class=\"txtu hbo\">ו </span><span class=\"txtu hbo\">ה</span><span class=\"txtu hbo\">ס</span><span class=\"txtu hbo\">ת</span><span class=\"txtu hbo\">י</span><span class=\"txtu hbo\">ר </span><span class=\"txtu hbo\">פ</span><span class=\"txtu hbo\">נ</span><span class=\"txtu hbo\">י</span><span class=\"txtu hbo\">׳</span><span class=\"txtu hbo\">ו </span><span class=\"txtu hbo\">מ</span><span class=\"txtu hbo\">י</span><span class=\"txtu hbo\">ש</span><span class=\"txtu hbo\">ר</span><span class=\"txtu hbo\">א</span><span class=\"txtu hbo\">ל </span><span class=\"txtu hbo\">ו</span><span class=\"txtu hbo\">מ</span><span class=\"txtu hbo\">מ</span><span class=\"txtu hbo\">ק</span><span class=\"txtu hbo\">ד</span><span class=\"txtu hbo\">ש</span><span class=\"txtu hbo\">׳</span><span class=\"txtu hbo\">ו </span></div>"
      ],
      "text/plain": [
       "<IPython.core.display.HTML object>"
      ]
     },
     "metadata": {},
     "output_type": "display_data"
    },
    {
     "data": {
      "text/html": [
       "<div class=\"rtl\"><span class=\"section rtl\"><a target=\"_blank\" href=\"https://www.deadseascrolls.org.il/explore-the-archive/search#q='4Q266'\" title=\"Show this scroll in the Leon Levy library\" sec=\"4Q266 f2i:8\">4Q266 f2i:8</a></span>  <span class=\"txtu hbo\">ב</span><span class=\"txtu hbo\">כ</span><span class=\"txtu hbo\">ו</span><span class=\"txtu hbo\">ל </span><span class=\"txtu hbo\"><span class=\"unc2\">מ</span></span><span class=\"txtu hbo\"><span class=\"unc1\">נ</span></span><span class=\"txtu hbo\">א</span><span class=\"txtu hbo\"><span class=\"rec1\">צ</span></span><span class=\"txtu hbo\"><span class=\"rec1\">׳</span></span><span class=\"txtu hbo\"><span class=\"rec1\">ו</span> </span><span class=\"txtu hbo\"><span class=\"rec1 empty\"> </span></span><span class=\"txtu hbo\"><span class=\"rec1\">׃</span> </span><span class=\"txtu hbo\"><span class=\"rec1\">כ</span></span><span class=\"txtu hbo\"><span class=\"rec1\">י</span> </span><span class=\"txtu hbo\"><span class=\"rec1\">ב</span></span><span class=\"txtu hbo\"><span class=\"rec1\">מ</span></span><span class=\"txtu hbo\"><span class=\"rec1\">ע</span></span><span class=\"txtu hbo\"><span class=\"rec1\">ל</span></span><span class=\"txtu hbo\"><span class=\"rec1\">׳</span></span><span class=\"txtu hbo\"><span class=\"rec1\">ם</span> </span><span class=\"txtu hbo\"><span class=\"rec1\">א</span></span><span class=\"txtu hbo\"><span class=\"rec1\">ש</span></span><span class=\"txtu hbo\"><span class=\"rec1\">ר</span> </span><span class=\"txtu hbo\"><span class=\"rec1\">ע</span></span><span class=\"txtu hbo\"><span class=\"rec1\">ז</span></span><span class=\"txtu hbo\"><span class=\"rec1\">ב</span></span><span class=\"txtu hbo\"><span class=\"rec1\">ו</span></span><span class=\"txtu hbo\"><span class=\"rec1\">׳</span></span><span class=\"txtu hbo\"><span class=\"rec1\">ה</span></span><span class=\"txtu hbo\"><span class=\"rec1\">ו</span> </span><span class=\"txtu hbo\"><span class=\"unc2\">ה</span></span><span class=\"txtu hbo\">ס</span><span class=\"txtu hbo\">ת</span><span class=\"txtu hbo\">י</span><span class=\"txtu hbo\">ר </span><span class=\"txtu hbo\"><span class=\"unc4\">פ</span></span><span class=\"txtu hbo\"><span class=\"rec1\">נ</span></span><span class=\"txtu hbo\"><span class=\"rec1\">י</span></span><span class=\"txtu hbo\"><span class=\"rec1\">׳</span></span><span class=\"txtu hbo\"><span class=\"rec1\">ו</span> </span><span class=\"txtu hbo\"><span class=\"rec1\">מ</span></span><span class=\"txtu hbo\"><span class=\"rec1\">י</span></span><span class=\"txtu hbo\"><span class=\"unc4\">ש</span></span><span class=\"txtu hbo\">ר</span><span class=\"txtu hbo\">א</span><span class=\"txtu hbo\">ל </span><span class=\"txtu hbo\">ו</span><span class=\"txtu hbo\">מ</span><span class=\"txtu hbo\">מ</span><span class=\"txtu hbo\">ק</span><span class=\"txtu hbo\">ד</span><span class=\"txtu hbo\">ש</span><span class=\"txtu hbo\">׳</span><span class=\"txtu hbo\">ו </span></div>"
      ],
      "text/plain": [
       "<IPython.core.display.HTML object>"
      ]
     },
     "metadata": {},
     "output_type": "display_data"
    },
    {
     "data": {
      "text/markdown": [
       "---\n"
      ],
      "text/plain": [
       "<IPython.core.display.Markdown object>"
      ]
     },
     "metadata": {},
     "output_type": "display_data"
    },
    {
     "name": "stdout",
     "output_type": "stream",
     "text": [
      "similarity 83\n"
     ]
    },
    {
     "data": {
      "text/html": [
       "<div class=\"rtl\"><span class=\"section rtl\"><a target=\"_blank\" href=\"https://www.deadseascrolls.org.il/explore-the-archive/search#q='CD'\" title=\"Show this scroll in the Leon Levy library\" sec=\"CD 1:4\">CD 1:4</a></span>  <span class=\"txtu hbo\"><span class=\"unc1\">ו</span></span><span class=\"txtu hbo\">י</span><span class=\"txtu hbo\">ת</span><span class=\"txtu hbo\">נ</span><span class=\"txtu hbo\">׳</span><span class=\"txtu hbo\">ם </span><span class=\"txtu hbo\">ל</span><span class=\"txtu hbo\">ח</span><span class=\"txtu hbo\">ר</span><span class=\"txtu hbo\">ב </span><span class=\"txtu hbo\"> </span><span class=\"txtu hbo\">׃ </span><span class=\"txtu hbo\">ו</span><span class=\"txtu hbo\">ב</span><span class=\"txtu hbo\">ז</span><span class=\"txtu hbo\">כ</span><span class=\"txtu hbo\">ר</span><span class=\"txtu hbo\">׳</span><span class=\"txtu hbo\">ו </span><span class=\"txtu hbo\">ב</span><span class=\"txtu hbo\">ר</span><span class=\"txtu hbo\">י</span><span class=\"txtu hbo\">ת </span><span class=\"txtu hbo\">ר</span><span class=\"txtu hbo\">א</span><span class=\"txtu hbo\">ש</span><span class=\"txtu hbo\">נ</span><span class=\"txtu hbo\">י</span><span class=\"txtu hbo\">ם </span><span class=\"txtu hbo\">ה</span><span class=\"txtu hbo\">ש</span><span class=\"txtu hbo\">א</span><span class=\"txtu hbo\">י</span><span class=\"txtu hbo\">ר </span><span class=\"txtu hbo\">ש</span><span class=\"txtu hbo\">א</span><span class=\"txtu hbo\">י</span><span class=\"txtu hbo\">ר</span><span class=\"txtu hbo\">י</span><span class=\"txtu hbo\">ת </span></div>"
      ],
      "text/plain": [
       "<IPython.core.display.HTML object>"
      ]
     },
     "metadata": {},
     "output_type": "display_data"
    },
    {
     "data": {
      "text/html": [
       "<div class=\"rtl\"><span class=\"section rtl\"><a target=\"_blank\" href=\"https://www.deadseascrolls.org.il/explore-the-archive/search#q='4Q266'\" title=\"Show this scroll in the Leon Levy library\" sec=\"4Q266 f2i:9\">4Q266 f2i:9</a></span>  <span class=\"txtu hbo\">ו</span><span class=\"txtu hbo\">י</span><span class=\"txtu hbo\">ת</span><span class=\"txtu hbo\">נ</span><span class=\"txtu hbo\">׳</span><span class=\"txtu hbo\">ם </span><span class=\"txtu hbo\"><span class=\"rec1\">ל</span></span><span class=\"txtu hbo\"><span class=\"rec1\">ח</span></span><span class=\"txtu hbo\"><span class=\"rec1\">ר</span></span><span class=\"txtu hbo\"><span class=\"rec1\">ב</span> </span><span class=\"txtu hbo\"><span class=\"rec1 empty\"> </span></span><span class=\"txtu hbo\"><span class=\"rec1\">׃</span> </span><span class=\"txtu hbo\"><span class=\"rec1\">ו</span></span><span class=\"txtu hbo\"><span class=\"rec1\">ב</span></span><span class=\"txtu hbo\"><span class=\"rec1\">ז</span></span><span class=\"txtu hbo\"><span class=\"rec1\">כ</span></span><span class=\"txtu hbo\"><span class=\"rec1\">ר</span></span><span class=\"txtu hbo\"><span class=\"rec1\">׳</span></span><span class=\"txtu hbo\"><span class=\"rec1\">ו</span> </span><span class=\"txtu hbo\"><span class=\"rec1\">ב</span></span><span class=\"txtu hbo\"><span class=\"rec1\">ר</span></span><span class=\"txtu hbo\"><span class=\"rec1\">י</span></span><span class=\"txtu hbo\"><span class=\"rec1\">ת</span> </span><span class=\"txtu hbo\"><span class=\"rec1\">ר</span></span><span class=\"txtu hbo\"><span class=\"rec1\">י</span></span><span class=\"txtu hbo\"><span class=\"rec1\">ש</span></span><span class=\"txtu hbo\"><span class=\"rec1\">ו</span></span><span class=\"txtu hbo\"><span class=\"rec1\">נ</span></span><span class=\"txtu hbo\"><span class=\"rec1\">י</span></span><span class=\"txtu hbo\"><span class=\"rec1\">ם</span> </span><span class=\"txtu hbo\"><span class=\"rec1\">ה</span></span><span class=\"txtu hbo\"><span class=\"rec1\">ש</span></span><span class=\"txtu hbo\"><span class=\"rec1\">א</span></span><span class=\"txtu hbo\"><span class=\"rec1\">י</span></span><span class=\"txtu hbo\"><span class=\"rec1\">ר</span> </span><span class=\"txtu hbo\"><span class=\"rec1\">ש</span></span><span class=\"txtu hbo\"><span class=\"rec1\">א</span></span><span class=\"txtu hbo\"><span class=\"rec1\">ר</span></span><span class=\"txtu hbo\"><span class=\"rec1\">י</span></span><span class=\"txtu hbo\"><span class=\"rec1\">ת</span> </span><span class=\"txtu hbo\"><span class=\"unc4\">ל</span></span><span class=\"txtu hbo\">י</span><span class=\"txtu hbo\">ש</span><span class=\"txtu hbo\">ר</span><span class=\"txtu hbo\">א</span><span class=\"txtu hbo\">ל </span><span class=\"txtu hbo\">ו</span><span class=\"txtu hbo\">ל</span><span class=\"txtu hbo\">א </span></div>"
      ],
      "text/plain": [
       "<IPython.core.display.HTML object>"
      ]
     },
     "metadata": {},
     "output_type": "display_data"
    },
    {
     "data": {
      "text/markdown": [
       "---\n"
      ],
      "text/plain": [
       "<IPython.core.display.Markdown object>"
      ]
     },
     "metadata": {},
     "output_type": "display_data"
    },
    {
     "name": "stdout",
     "output_type": "stream",
     "text": [
      "similarity 67\n"
     ]
    },
    {
     "data": {
      "text/html": [
       "<div class=\"rtl\"><span class=\"section rtl\"><a target=\"_blank\" href=\"https://www.deadseascrolls.org.il/explore-the-archive/search#q='CD'\" title=\"Show this scroll in the Leon Levy library\" sec=\"CD 1:5\">CD 1:5</a></span>  <span class=\"txtu hbo\">ל</span><span class=\"txtu hbo\">י</span><span class=\"txtu hbo\">ש</span><span class=\"txtu hbo\">ר</span><span class=\"txtu hbo\">א</span><span class=\"txtu hbo\">ל </span><span class=\"txtu hbo\">ו</span><span class=\"txtu hbo\">ל</span><span class=\"txtu hbo\">א </span><span class=\"txtu hbo\">נ</span><span class=\"txtu hbo\">ת</span><span class=\"txtu hbo\">נ</span><span class=\"txtu hbo\">׳</span><span class=\"txtu hbo\">ם </span><span class=\"txtu hbo\">ל</span><span class=\"txtu hbo\">כ</span><span class=\"txtu hbo\">ל</span><span class=\"txtu hbo\">ה </span><span class=\"txtu hbo\"> </span><span class=\"txtu hbo\">׃ </span><span class=\"txtu hbo\">ו</span><span class=\"txtu hbo\">ב</span><span class=\"txtu hbo\">ק</span><span class=\"txtu hbo\">ץ </span><span class=\"txtu hbo\">ח</span><span class=\"txtu hbo\">ר</span><span class=\"txtu hbo\">ו</span><span class=\"txtu hbo\">ן </span><span class=\"txtu hbo\">ש</span><span class=\"txtu hbo\">נ</span><span class=\"txtu hbo\">י</span><span class=\"txtu hbo\">ם </span><span class=\"txtu hbo\">ש</span><span class=\"txtu hbo\">ל</span><span class=\"txtu hbo\">ו</span><span class=\"txtu hbo\">ש </span><span class=\"txtu hbo\">מ</span><span class=\"txtu hbo\">א</span><span class=\"txtu hbo\">ו</span><span class=\"txtu hbo\">ת </span></div>"
      ],
      "text/plain": [
       "<IPython.core.display.HTML object>"
      ]
     },
     "metadata": {},
     "output_type": "display_data"
    },
    {
     "data": {
      "text/html": [
       "<div class=\"rtl\"><span class=\"section rtl\"><a target=\"_blank\" href=\"https://www.deadseascrolls.org.il/explore-the-archive/search#q='4Q266'\" title=\"Show this scroll in the Leon Levy library\" sec=\"4Q266 f2i:10\">4Q266 f2i:10</a></span>  <span class=\"txtu hbo\">נ</span><span class=\"txtu hbo\">ת</span><span class=\"txtu hbo\">נ</span><span class=\"txtu hbo\">׳</span><span class=\"txtu hbo\">ם </span><span class=\"txtu hbo\"><span class=\"unc4\">ל</span></span><span class=\"txtu hbo\"><span class=\"rec1\">כ</span></span><span class=\"txtu hbo\"><span class=\"rec1\">ל</span></span><span class=\"txtu hbo\"><span class=\"rec1\">ה</span> </span><span class=\"txtu hbo\"><span class=\"rec1 empty\"> </span></span><span class=\"txtu hbo\"><span class=\"rec1\">׃</span> </span><span class=\"txtu hbo\"><span class=\"rec1\">ו</span></span><span class=\"txtu hbo\"><span class=\"rec1\">ב</span></span><span class=\"txtu hbo\"><span class=\"rec1\">ק</span></span><span class=\"txtu hbo\"><span class=\"rec1\">ץ</span> </span><span class=\"txtu hbo\"><span class=\"rec1\">ח</span></span><span class=\"txtu hbo\"><span class=\"rec1\">ר</span></span><span class=\"txtu hbo\"><span class=\"rec1\">ו</span></span><span class=\"txtu hbo\"><span class=\"unc3\">ן</span> </span><span class=\"txtu hbo\">ש</span><span class=\"txtu hbo\">נ</span><span class=\"txtu hbo\">י</span><span class=\"txtu hbo\">ם </span><span class=\"txtu hbo\">ש</span><span class=\"txtu hbo\">ל</span><span class=\"txtu hbo\"><span class=\"unc3\">ו</span></span><span class=\"txtu hbo\"><span class=\"rec1\">ש</span> </span><span class=\"txtu hbo\"><span class=\"rec1\">מ</span></span><span class=\"txtu hbo\"><span class=\"rec1\">א</span></span><span class=\"txtu hbo\"><span class=\"rec1\">ו</span></span><span class=\"txtu hbo\"><span class=\"rec1\">ת</span> </span><span class=\"txtu hbo\"><span class=\"rec1\">ו</span></span><span class=\"txtu hbo\"><span class=\"rec1\">ת</span></span><span class=\"txtu hbo\"><span class=\"rec1\">ש</span></span><span class=\"txtu hbo\"><span class=\"rec1\">ע</span></span><span class=\"txtu hbo\"><span class=\"rec1\">י</span></span><span class=\"txtu hbo\"><span class=\"rec1\">ם</span> </span><span class=\"txtu hbo\">ל</span><span class=\"txtu hbo\">ת</span><span class=\"txtu hbo\">ת</span><span class=\"txtu hbo\">׳</span><span class=\"txtu hbo\">ו </span><span class=\"txtu hbo\">א</span><span class=\"txtu hbo\">ו</span><span class=\"txtu hbo\">ת</span><span class=\"txtu hbo\">׳</span><span class=\"txtu hbo\">ם </span><span class=\"txtu hbo\">ב</span><span class=\"txtu hbo\">י</span><span class=\"txtu hbo\">ד </span></div>"
      ],
      "text/plain": [
       "<IPython.core.display.HTML object>"
      ]
     },
     "metadata": {},
     "output_type": "display_data"
    },
    {
     "data": {
      "text/markdown": [
       "---\n"
      ],
      "text/plain": [
       "<IPython.core.display.Markdown object>"
      ]
     },
     "metadata": {},
     "output_type": "display_data"
    },
    {
     "name": "stdout",
     "output_type": "stream",
     "text": [
      "similarity 83\n"
     ]
    },
    {
     "data": {
      "text/html": [
       "<div class=\"rtl\"><span class=\"section rtl\"><a target=\"_blank\" href=\"https://www.deadseascrolls.org.il/explore-the-archive/search#q='CD'\" title=\"Show this scroll in the Leon Levy library\" sec=\"CD 1:7\">CD 1:7</a></span>  <span class=\"txtu hbo\">פ</span><span class=\"txtu hbo\">ק</span><span class=\"txtu hbo\">ד</span><span class=\"txtu hbo\">׳</span><span class=\"txtu hbo\">ם </span><span class=\"txtu hbo\"> </span><span class=\"txtu hbo\">׃ </span><span class=\"txtu hbo\">ו</span><span class=\"txtu hbo\">י</span><span class=\"txtu hbo\">צ</span><span class=\"txtu hbo\">מ</span><span class=\"txtu hbo\">ח </span><span class=\"txtu hbo\">מ</span><span class=\"txtu hbo\">י</span><span class=\"txtu hbo\">ש</span><span class=\"txtu hbo\">ר</span><span class=\"txtu hbo\">א</span><span class=\"txtu hbo\">ל </span><span class=\"txtu hbo\">ו</span><span class=\"txtu hbo\">מ</span><span class=\"txtu hbo\">א</span><span class=\"txtu hbo\">ה</span><span class=\"txtu hbo\">ר</span><span class=\"txtu hbo\">ן </span><span class=\"txtu hbo\">ש</span><span class=\"txtu hbo\">ו</span><span class=\"txtu hbo\">ר</span><span class=\"txtu hbo\">ש </span><span class=\"txtu hbo\">מ</span><span class=\"txtu hbo\">ט</span><span class=\"txtu hbo\">ע</span><span class=\"txtu hbo\">ת </span><span class=\"txtu hbo\">ל</span><span class=\"txtu hbo\">י</span><span class=\"txtu hbo\">ר</span><span class=\"txtu hbo\">ו</span><span class=\"txtu hbo\">ש </span></div>"
      ],
      "text/plain": [
       "<IPython.core.display.HTML object>"
      ]
     },
     "metadata": {},
     "output_type": "display_data"
    },
    {
     "data": {
      "text/html": [
       "<div class=\"rtl\"><span class=\"section rtl\"><a target=\"_blank\" href=\"https://www.deadseascrolls.org.il/explore-the-archive/search#q='4Q268'\" title=\"Show this scroll in the Leon Levy library\" sec=\"4Q268 f1:14\">4Q268 f1:14</a></span>  <span class=\"txtu hbo\"><span class=\"rec1\">מ</span></span><span class=\"txtu hbo\"><span class=\"rec1\">ל</span></span><span class=\"txtu hbo\"><span class=\"rec1\">ך</span> </span><span class=\"txtu hbo\"><span class=\"rec1\">ב</span></span><span class=\"txtu hbo\"><span class=\"rec1\">ב</span></span><span class=\"txtu hbo\"><span class=\"rec1\">ל</span> </span><span class=\"txtu hbo\"><span class=\"unc4\">פ</span></span><span class=\"txtu hbo\"><span class=\"unc2\">ק</span></span><span class=\"txtu hbo\">ד</span><span class=\"txtu hbo\">׳</span><span class=\"txtu hbo\">ם </span><span class=\"txtu hbo\"> </span><span class=\"txtu hbo\">׃ </span><span class=\"txtu hbo\"><span class=\"unc1\">ו</span></span><span class=\"txtu hbo\"><span class=\"unc3\">י</span></span><span class=\"txtu hbo\"><span class=\"rec1\">צ</span></span><span class=\"txtu hbo\"><span class=\"rec1\">מ</span></span><span class=\"txtu hbo\"><span class=\"rec1\">ח</span> </span><span class=\"txtu hbo\"><span class=\"rec1\">מ</span></span><span class=\"txtu hbo\"><span class=\"rec1\">י</span></span><span class=\"txtu hbo\"><span class=\"rec1\">ש</span></span><span class=\"txtu hbo\"><span class=\"rec1\">ר</span></span><span class=\"txtu hbo\"><span class=\"rec1\">א</span></span><span class=\"txtu hbo\"><span class=\"unc4\">ל</span> </span><span class=\"txtu hbo\">ו</span><span class=\"txtu hbo\">מ</span><span class=\"txtu hbo\">א</span><span class=\"txtu hbo\"><span class=\"rec1\">ה</span></span><span class=\"txtu hbo\"><span class=\"rec1\">ר</span></span><span class=\"txtu hbo\"><span class=\"rec1\">ו</span></span><span class=\"txtu hbo\"><span class=\"unc1\">ן</span> </span><span class=\"txtu hbo\"><span class=\"unc2\">ש</span></span><span class=\"txtu hbo\"><span class=\"unc3\">ו</span></span><span class=\"txtu hbo\"><span class=\"unc4\">ר</span></span><span class=\"txtu hbo\"><span class=\"rec1\">ש</span> </span><span class=\"txtu hbo\"><span class=\"rec1\">מ</span></span><span class=\"txtu hbo\"><span class=\"rec1\">ט</span></span><span class=\"txtu hbo\"><span class=\"rec1\">ע</span></span><span class=\"txtu hbo\"><span class=\"rec1\">ת</span> </span><span class=\"txtu hbo\"><span class=\"rec1\">ל</span></span><span class=\"txtu hbo\"><span class=\"rec1\">י</span></span><span class=\"txtu hbo\"><span class=\"rec1\">ר</span></span><span class=\"txtu hbo\"><span class=\"rec1\">ו</span></span><span class=\"txtu hbo\"><span class=\"rec1\">ש</span> </span></div>"
      ],
      "text/plain": [
       "<IPython.core.display.HTML object>"
      ]
     },
     "metadata": {},
     "output_type": "display_data"
    },
    {
     "data": {
      "text/markdown": [
       "---\n"
      ],
      "text/plain": [
       "<IPython.core.display.Markdown object>"
      ]
     },
     "metadata": {},
     "output_type": "display_data"
    },
    {
     "name": "stdout",
     "output_type": "stream",
     "text": [
      "similarity 73\n"
     ]
    },
    {
     "data": {
      "text/html": [
       "<div class=\"rtl\"><span class=\"section rtl\"><a target=\"_blank\" href=\"https://www.deadseascrolls.org.il/explore-the-archive/search#q='CD'\" title=\"Show this scroll in the Leon Levy library\" sec=\"CD 1:9\">CD 1:9</a></span>  <span class=\"txtu hbo\">א</span><span class=\"txtu hbo\">נ</span><span class=\"txtu hbo\">ש</span><span class=\"txtu hbo\">י</span><span class=\"txtu hbo\">ם </span><span class=\"txtu hbo\">א</span><span class=\"txtu hbo\">ש</span><span class=\"txtu hbo\">י</span><span class=\"txtu hbo\">מ</span><span class=\"txtu hbo\">י</span><span class=\"txtu hbo\">ם </span><span class=\"txtu hbo\">ה</span><span class=\"txtu hbo\">ם </span><span class=\"txtu hbo\"> </span><span class=\"txtu hbo\">׃ </span><span class=\"txtu hbo\">ו</span><span class=\"txtu hbo\">י</span><span class=\"txtu hbo\">ה</span><span class=\"txtu hbo\">י</span><span class=\"txtu hbo\">ו </span><span class=\"txtu hbo\">כ</span><span class=\"txtu hbo\">ע</span><span class=\"txtu hbo\">ו</span><span class=\"txtu hbo\">ר</span><span class=\"txtu hbo\">י</span><span class=\"txtu hbo\">ם </span><span class=\"txtu hbo\">ו</span><span class=\"txtu hbo\">כ</span><span class=\"txtu hbo\">י</span><span class=\"txtu hbo\">מ</span><span class=\"txtu hbo\">ג</span><span class=\"txtu hbo\">ש</span><span class=\"txtu hbo\">ש</span><span class=\"txtu hbo\">י</span><span class=\"txtu hbo\">ם </span><span class=\"txtu hbo\">ד</span><span class=\"txtu hbo\">ר</span><span class=\"txtu hbo\">ך </span></div>"
      ],
      "text/plain": [
       "<IPython.core.display.HTML object>"
      ]
     },
     "metadata": {},
     "output_type": "display_data"
    },
    {
     "data": {
      "text/html": [
       "<div class=\"rtl\"><span class=\"section rtl\"><a target=\"_blank\" href=\"https://www.deadseascrolls.org.il/explore-the-archive/search#q='4Q268'\" title=\"Show this scroll in the Leon Levy library\" sec=\"4Q268 f1:16\">4Q268 f1:16</a></span>  <span class=\"txtu hbo\"><span class=\"rec1\">א</span></span><span class=\"txtu hbo\"><span class=\"rec1\">ש</span></span><span class=\"txtu hbo\"><span class=\"rec1\">מ</span></span><span class=\"txtu hbo\"><span class=\"rec1\">י</span></span><span class=\"txtu hbo\"><span class=\"rec1\">ם</span> </span><span class=\"txtu hbo\"><span class=\"rec1\">ה</span></span><span class=\"txtu hbo\"><span class=\"rec1\">מ</span></span><span class=\"txtu hbo\"><span class=\"rec1\">ה</span> </span><span class=\"txtu hbo\"><span class=\"rec1 empty\"> </span></span><span class=\"txtu hbo\"><span class=\"rec1\">׃</span> </span><span class=\"txtu hbo\"><span class=\"rec1\">ו</span></span><span class=\"txtu hbo\"><span class=\"rec1\">י</span></span><span class=\"txtu hbo\"><span class=\"rec1\">ה</span></span><span class=\"txtu hbo\"><span class=\"rec1\">י</span></span><span class=\"txtu hbo\"><span class=\"rec1\">ו</span> </span><span class=\"txtu hbo\"><span class=\"rec1\">כ</span></span><span class=\"txtu hbo\"><span class=\"rec1\">ע</span></span><span class=\"txtu hbo\"><span class=\"rec1\">ו</span></span><span class=\"txtu hbo\"><span class=\"rec1\">ו</span></span><span class=\"txtu hbo\"><span class=\"rec1\">ר</span></span><span class=\"txtu hbo\"><span class=\"rec1\">י</span></span><span class=\"txtu hbo\"><span class=\"rec1\">ם</span> </span><span class=\"txtu hbo\"><span class=\"rec1\">ו</span></span><span class=\"txtu hbo\"><span class=\"rec1\">כ</span></span><span class=\"txtu hbo\"><span class=\"rec1\">מ</span></span><span class=\"txtu hbo\"><span class=\"rec1\">ג</span></span><span class=\"txtu hbo\"><span class=\"rec1\">ש</span></span><span class=\"txtu hbo\">ש</span><span class=\"txtu hbo\">י</span><span class=\"txtu hbo\">ם </span><span class=\"txtu hbo\">ד</span><span class=\"txtu hbo\"><span class=\"rec1\">ר</span></span><span class=\"txtu hbo\"><span class=\"rec1\">ך</span> </span><span class=\"txtu hbo\"><span class=\"rec1\">ש</span></span><span class=\"txtu hbo\"><span class=\"rec1\">נ</span></span><span class=\"txtu hbo\"><span class=\"rec1\">י</span></span><span class=\"txtu hbo\"><span class=\"rec1\">ם</span> </span><span class=\"txtu hbo\"><span class=\"rec1\">ע</span></span><span class=\"txtu hbo\"><span class=\"rec1\">ש</span></span><span class=\"txtu hbo\"><span class=\"rec1\">ר</span></span><span class=\"txtu hbo\"><span class=\"rec1\">י</span></span><span class=\"txtu hbo\"><span class=\"rec1\">ם</span> </span><span class=\"txtu hbo\"> </span><span class=\"txtu hbo\">׃ </span></div>"
      ],
      "text/plain": [
       "<IPython.core.display.HTML object>"
      ]
     },
     "metadata": {},
     "output_type": "display_data"
    },
    {
     "data": {
      "text/markdown": [
       "---\n"
      ],
      "text/plain": [
       "<IPython.core.display.Markdown object>"
      ]
     },
     "metadata": {},
     "output_type": "display_data"
    },
    {
     "name": "stdout",
     "output_type": "stream",
     "text": [
      "similarity 62\n"
     ]
    },
    {
     "data": {
      "text/html": [
       "<div class=\"rtl\"><span class=\"section rtl\"><a target=\"_blank\" href=\"https://www.deadseascrolls.org.il/explore-the-archive/search#q='CD'\" title=\"Show this scroll in the Leon Levy library\" sec=\"CD 1:10\">CD 1:10</a></span>  <span class=\"txtu hbo\">ש</span><span class=\"txtu hbo\">נ</span><span class=\"txtu hbo\">י</span><span class=\"txtu hbo\">ם </span><span class=\"txtu hbo\">ע</span><span class=\"txtu hbo\">ש</span><span class=\"txtu hbo\">ר</span><span class=\"txtu hbo\">י</span><span class=\"txtu hbo\">ם </span><span class=\"txtu hbo\"> </span><span class=\"txtu hbo\">׃ </span><span class=\"txtu hbo\">ו</span><span class=\"txtu hbo\">י</span><span class=\"txtu hbo\">ב</span><span class=\"txtu hbo\">ן </span><span class=\"txtu hbo\">א</span><span class=\"txtu hbo\">ל </span><span class=\"txtu hbo\">א</span><span class=\"txtu hbo\">ל </span><span class=\"txtu hbo\">מ</span><span class=\"txtu hbo\">ע</span><span class=\"txtu hbo\">ש</span><span class=\"txtu hbo\">י</span><span class=\"txtu hbo\">׳</span><span class=\"txtu hbo\">ה</span><span class=\"txtu hbo\">ם </span><span class=\"txtu hbo\">כ</span><span class=\"txtu hbo\">י </span><span class=\"txtu hbo\">ב</span><span class=\"txtu hbo\">ל</span><span class=\"txtu hbo\">ב </span><span class=\"txtu hbo\">ש</span><span class=\"txtu hbo\">ל</span><span class=\"txtu hbo\">ם </span><span class=\"txtu hbo\">ד</span><span class=\"txtu hbo\">ר</span><span class=\"txtu hbo\">ש</span><span class=\"txtu hbo\">ו</span><span class=\"txtu hbo\">׳</span><span class=\"txtu hbo\">ה</span><span class=\"txtu hbo\">ו </span></div>"
      ],
      "text/plain": [
       "<IPython.core.display.HTML object>"
      ]
     },
     "metadata": {},
     "output_type": "display_data"
    },
    {
     "data": {
      "text/html": [
       "<div class=\"rtl\"><span class=\"section rtl\"><a target=\"_blank\" href=\"https://www.deadseascrolls.org.il/explore-the-archive/search#q='4Q266'\" title=\"Show this scroll in the Leon Levy library\" sec=\"4Q266 f2i:14\">4Q266 f2i:14</a></span>  <span class=\"txtu hbo\">ו</span><span class=\"txtu hbo\">י</span><span class=\"txtu hbo\">ב</span><span class=\"txtu hbo\">ן </span><span class=\"txtu hbo\">א</span><span class=\"txtu hbo\">ל </span><span class=\"txtu hbo\">א</span><span class=\"txtu hbo\">ל </span><span class=\"txtu hbo\">מ</span><span class=\"txtu hbo\">ע</span><span class=\"txtu hbo\">ש</span><span class=\"txtu hbo\"><span class=\"rec1\">י</span></span><span class=\"txtu hbo\"><span class=\"rec1\">׳</span></span><span class=\"txtu hbo\"><span class=\"rec1\">ה</span></span><span class=\"txtu hbo\"><span class=\"rec1\">ם</span> </span><span class=\"txtu hbo\"><span class=\"rec1\">כ</span></span><span class=\"txtu hbo\"><span class=\"rec1\">י</span> </span><span class=\"txtu hbo\"><span class=\"rec1\">ב</span></span><span class=\"txtu hbo\"><span class=\"rec1\">ל</span></span><span class=\"txtu hbo\"><span class=\"rec1\">ב</span> </span><span class=\"txtu hbo\"><span class=\"rec1\">ש</span></span><span class=\"txtu hbo\"><span class=\"rec1\">ל</span></span><span class=\"txtu hbo\"><span class=\"rec1\">ם</span> </span><span class=\"txtu hbo\"><span class=\"rec1\">ד</span></span><span class=\"txtu hbo\"><span class=\"rec1\">ר</span></span><span class=\"txtu hbo\"><span class=\"rec1\">ש</span></span><span class=\"txtu hbo\"><span class=\"rec1\">ו</span></span><span class=\"txtu hbo\"><span class=\"rec1\">׳</span></span><span class=\"txtu hbo\"><span class=\"rec1\">ה</span></span><span class=\"txtu hbo\"><span class=\"rec1\">ו</span> </span><span class=\"txtu hbo\"><span class=\"rec1\">ו</span></span><span class=\"txtu hbo\"><span class=\"rec1\">י</span></span><span class=\"txtu hbo\"><span class=\"rec1\">ק</span></span><span class=\"txtu hbo\"><span class=\"rec1\">ם</span> </span><span class=\"txtu hbo\"><span class=\"rec1\">ל</span></span><span class=\"txtu hbo\"><span class=\"rec1\">׳</span></span><span class=\"txtu hbo\"><span class=\"rec1\">ה</span></span><span class=\"txtu hbo\"><span class=\"rec1\">ם</span> </span><span class=\"txtu hbo\"><span class=\"rec1\">מ</span></span><span class=\"txtu hbo\"><span class=\"rec1\">ו</span></span><span class=\"txtu hbo\"><span class=\"rec1\">ר</span></span><span class=\"txtu hbo\"><span class=\"rec1\">ה</span> </span><span class=\"txtu hbo\"><span class=\"rec1\">צ</span></span><span class=\"txtu hbo\"><span class=\"rec1\">ד</span></span><span class=\"txtu hbo\"><span class=\"rec1\">ק</span> </span></div>"
      ],
      "text/plain": [
       "<IPython.core.display.HTML object>"
      ]
     },
     "metadata": {},
     "output_type": "display_data"
    },
    {
     "data": {
      "text/markdown": [
       "---\n"
      ],
      "text/plain": [
       "<IPython.core.display.Markdown object>"
      ]
     },
     "metadata": {},
     "output_type": "display_data"
    },
    {
     "name": "stdout",
     "output_type": "stream",
     "text": [
      "similarity 64\n"
     ]
    },
    {
     "data": {
      "text/html": [
       "<div class=\"rtl\"><span class=\"section rtl\"><a target=\"_blank\" href=\"https://www.deadseascrolls.org.il/explore-the-archive/search#q='CD'\" title=\"Show this scroll in the Leon Levy library\" sec=\"CD 1:19\">CD 1:19</a></span>  <span class=\"txtu hbo\">ל</span><span class=\"txtu hbo\">פ</span><span class=\"txtu hbo\">ר</span><span class=\"txtu hbo\">צ</span><span class=\"txtu hbo\">ו</span><span class=\"txtu hbo\">ת </span><span class=\"txtu hbo\">ו</span><span class=\"txtu hbo\">י</span><span class=\"txtu hbo\">ב</span><span class=\"txtu hbo\">ח</span><span class=\"txtu hbo\">ר</span><span class=\"txtu hbo\">ו </span><span class=\"txtu hbo\">ב</span><span class=\"txtu hbo\">ט</span><span class=\"txtu hbo\">ו</span><span class=\"txtu hbo\">ב </span><span class=\"txtu hbo\">ה</span><span class=\"txtu hbo\">צ</span><span class=\"txtu hbo\">ו</span><span class=\"txtu hbo\">א</span><span class=\"txtu hbo\">ר </span><span class=\"txtu hbo\">ו</span><span class=\"txtu hbo\">י</span><span class=\"txtu hbo\">צ</span><span class=\"txtu hbo\">ד</span><span class=\"txtu hbo\">י</span><span class=\"txtu hbo\">ק</span><span class=\"txtu hbo\">ו </span><span class=\"txtu hbo\">ר</span><span class=\"txtu hbo\">ש</span><span class=\"txtu hbo\">ע </span><span class=\"txtu hbo\">ו</span><span class=\"txtu hbo\">י</span><span class=\"txtu hbo\">ר</span><span class=\"txtu hbo\">ש</span><span class=\"txtu hbo\">י</span><span class=\"txtu hbo\">ע</span><span class=\"txtu hbo\">ו </span><span class=\"txtu hbo\">צ</span><span class=\"txtu hbo\">ד</span><span class=\"txtu hbo\">י</span><span class=\"txtu hbo\">ק </span><span class=\"txtu hbo\"> </span><span class=\"txtu hbo\">׃ </span></div>"
      ],
      "text/plain": [
       "<IPython.core.display.HTML object>"
      ]
     },
     "metadata": {},
     "output_type": "display_data"
    },
    {
     "data": {
      "text/html": [
       "<div class=\"rtl\"><span class=\"section rtl\"><a target=\"_blank\" href=\"https://www.deadseascrolls.org.il/explore-the-archive/search#q='4Q266'\" title=\"Show this scroll in the Leon Levy library\" sec=\"4Q266 f2i:22\">4Q266 f2i:22</a></span>  <span class=\"txtu hbo\"><span class=\"rec1\">ו</span></span><span class=\"txtu hbo\"><span class=\"rec1\">י</span></span><span class=\"txtu hbo\">ב</span><span class=\"txtu hbo\">ח</span><span class=\"txtu hbo\">ר</span><span class=\"txtu hbo\">ו </span><span class=\"txtu hbo\"><span class=\"rec1\">ב</span></span><span class=\"txtu hbo\"><span class=\"unc4\">מ</span></span><span class=\"txtu hbo\"><span class=\"unc2\">ה</span></span><span class=\"txtu hbo\"><span class=\"rec1\">ת</span></span><span class=\"txtu hbo\"><span class=\"rec1\">ל</span></span><span class=\"txtu hbo\"><span class=\"rec1\">ו</span></span><span class=\"txtu hbo\"><span class=\"rec1\">ת</span> </span><span class=\"txtu hbo\"><span class=\"rec1\">ו</span></span><span class=\"txtu hbo\"><span class=\"rec1\">י</span></span><span class=\"txtu hbo\"><span class=\"rec1\">צ</span></span><span class=\"txtu hbo\"><span class=\"rec1\">פ</span></span><span class=\"txtu hbo\"><span class=\"rec1\">ו</span> </span><span class=\"txtu hbo\"><span class=\"rec1\">ל</span></span><span class=\"txtu hbo\"><span class=\"rec1\">פ</span></span><span class=\"txtu hbo\"><span class=\"rec1\">ר</span></span><span class=\"txtu hbo\"><span class=\"rec1\">צ</span></span><span class=\"txtu hbo\"><span class=\"rec1\">ו</span></span><span class=\"txtu hbo\"><span class=\"rec1\">ת</span> </span><span class=\"txtu hbo\"><span class=\"rec1\">ו</span></span><span class=\"txtu hbo\"><span class=\"rec1\">י</span></span><span class=\"txtu hbo\"><span class=\"rec1\">ב</span></span><span class=\"txtu hbo\"><span class=\"rec1\">ח</span></span><span class=\"txtu hbo\"><span class=\"rec1\">ר</span></span><span class=\"txtu hbo\"><span class=\"rec1\">ו</span> </span><span class=\"txtu hbo\"><span class=\"rec1\">ב</span></span><span class=\"txtu hbo\"><span class=\"rec1\">ט</span></span><span class=\"txtu hbo\"><span class=\"rec1\">ו</span></span><span class=\"txtu hbo\"><span class=\"rec1\">ב</span> </span><span class=\"txtu hbo\"><span class=\"rec1\">ה</span></span><span class=\"txtu hbo\">צ</span><span class=\"txtu hbo\">ו</span><span class=\"txtu hbo\">ר </span><span class=\"txtu hbo\">ו</span><span class=\"txtu hbo\">י</span><span class=\"txtu hbo\">צ</span><span class=\"txtu hbo\">ד</span><span class=\"txtu hbo\">י</span><span class=\"txtu hbo\">ק</span><span class=\"txtu hbo\">ו </span></div>"
      ],
      "text/plain": [
       "<IPython.core.display.HTML object>"
      ]
     },
     "metadata": {},
     "output_type": "display_data"
    },
    {
     "data": {
      "text/markdown": [
       "---\n"
      ],
      "text/plain": [
       "<IPython.core.display.Markdown object>"
      ]
     },
     "metadata": {},
     "output_type": "display_data"
    },
    {
     "name": "stdout",
     "output_type": "stream",
     "text": [
      "similarity 79\n"
     ]
    },
    {
     "data": {
      "text/html": [
       "<div class=\"rtl\"><span class=\"section rtl\"><a target=\"_blank\" href=\"https://www.deadseascrolls.org.il/explore-the-archive/search#q='CD'\" title=\"Show this scroll in the Leon Levy library\" sec=\"CD 2:1\">CD 2:1</a></span>  <span class=\"txtu hbo\">א</span><span class=\"txtu hbo\">ל </span><span class=\"txtu hbo\">ב</span><span class=\"txtu hbo\">ע</span><span class=\"txtu hbo\">ד</span><span class=\"txtu hbo\">ת</span><span class=\"txtu hbo\">׳</span><span class=\"txtu hbo\">ם </span><span class=\"txtu hbo\">ל</span><span class=\"txtu hbo\">ה</span><span class=\"txtu hbo\">ש</span><span class=\"txtu hbo\">ם </span><span class=\"txtu hbo\">א</span><span class=\"txtu hbo\">ת </span><span class=\"txtu hbo\">כ</span><span class=\"txtu hbo\">ל </span><span class=\"txtu hbo\">ה</span><span class=\"txtu hbo\">מ</span><span class=\"txtu hbo\">ו</span><span class=\"txtu hbo\">נ</span><span class=\"txtu hbo\">׳</span><span class=\"txtu hbo\">ם </span><span class=\"txtu hbo\">ו</span><span class=\"txtu hbo\">מ</span><span class=\"txtu hbo\">ע</span><span class=\"txtu hbo\">ש</span><span class=\"txtu hbo\">י</span><span class=\"txtu hbo\">׳</span><span class=\"txtu hbo\">ה</span><span class=\"txtu hbo\">ם </span><span class=\"txtu hbo\">ל</span><span class=\"txtu hbo\">נ</span><span class=\"txtu hbo\">ד</span><span class=\"txtu hbo\">ה </span><span class=\"txtu hbo\">ל</span><span class=\"txtu hbo\">פ</span><span class=\"txtu hbo\">נ</span><span class=\"txtu hbo\">י</span><span class=\"txtu hbo\">׳</span><span class=\"txtu hbo\">ו </span><span class=\"txtu hbo\"> </span><span class=\"txtu hbo\">׃ </span></div>"
      ],
      "text/plain": [
       "<IPython.core.display.HTML object>"
      ]
     },
     "metadata": {},
     "output_type": "display_data"
    },
    {
     "data": {
      "text/html": [
       "<div class=\"rtl\"><span class=\"section rtl\"><a target=\"_blank\" href=\"https://www.deadseascrolls.org.il/explore-the-archive/search#q='4Q266'\" title=\"Show this scroll in the Leon Levy library\" sec=\"4Q266 f2ii:1\">4Q266 f2ii:1</a></span>  <span class=\"txtu hbo\">ו</span><span class=\"txtu hbo\">י</span><span class=\"txtu hbo\">ח</span><span class=\"txtu hbo\">ר </span><span class=\"txtu hbo\">א</span><span class=\"txtu hbo\">ף </span><span class=\"txtu hbo\">א</span><span class=\"txtu hbo\">ל </span><span class=\"txtu hbo\"><span class=\"unc4\">ב</span></span><span class=\"txtu hbo\"><span class=\"rec1\">ע</span></span><span class=\"txtu hbo\"><span class=\"unc4\">ד</span></span><span class=\"txtu hbo\"><span class=\"unc4\">ת</span></span><span class=\"txtu hbo\">׳</span><span class=\"txtu hbo\"><span class=\"unc4\">ם</span> </span><span class=\"txtu hbo\"><span class=\"rec1\">ל</span></span><span class=\"txtu hbo\"><span class=\"rec1\">ה</span></span><span class=\"txtu hbo\"><span class=\"rec1\">ש</span></span><span class=\"txtu hbo\"><span class=\"rec1\">ם</span> </span><span class=\"txtu hbo\"><span class=\"rec1\">א</span></span><span class=\"txtu hbo\"><span class=\"rec1\">ת</span> </span><span class=\"txtu hbo\"><span class=\"rec1\">כ</span></span><span class=\"txtu hbo\"><span class=\"rec1\">ו</span></span><span class=\"txtu hbo\"><span class=\"rec1\">ל</span> </span><span class=\"txtu hbo\"><span class=\"rec1\">ה</span></span><span class=\"txtu hbo\"><span class=\"rec1\">מ</span></span><span class=\"txtu hbo\"><span class=\"rec1\">ו</span></span><span class=\"txtu hbo\"><span class=\"rec1\">נ</span></span><span class=\"txtu hbo\"><span class=\"rec1\">׳</span></span><span class=\"txtu hbo\"><span class=\"rec1\">ם</span> </span><span class=\"txtu hbo\"><span class=\"rec1\">ו</span></span><span class=\"txtu hbo\"><span class=\"rec1\">מ</span></span><span class=\"txtu hbo\"><span class=\"rec1\">ע</span></span><span class=\"txtu hbo\"><span class=\"rec1\">ש</span></span><span class=\"txtu hbo\"><span class=\"rec1\">י</span></span><span class=\"txtu hbo\"><span class=\"rec1\">׳</span></span><span class=\"txtu hbo\"><span class=\"rec1\">ה</span></span><span class=\"txtu hbo\"><span class=\"rec1\">ם</span> </span><span class=\"txtu hbo\"><span class=\"rec1\">ל</span></span><span class=\"txtu hbo\"><span class=\"rec1\">נ</span></span><span class=\"txtu hbo\"><span class=\"rec1\">ד</span></span><span class=\"txtu hbo\"><span class=\"rec1\">ה</span> </span></div>"
      ],
      "text/plain": [
       "<IPython.core.display.HTML object>"
      ]
     },
     "metadata": {},
     "output_type": "display_data"
    },
    {
     "data": {
      "text/markdown": [
       "---\n"
      ],
      "text/plain": [
       "<IPython.core.display.Markdown object>"
      ]
     },
     "metadata": {},
     "output_type": "display_data"
    },
    {
     "name": "stdout",
     "output_type": "stream",
     "text": [
      "similarity 79\n"
     ]
    },
    {
     "data": {
      "text/html": [
       "<div class=\"rtl\"><span class=\"section rtl\"><a target=\"_blank\" href=\"https://www.deadseascrolls.org.il/explore-the-archive/search#q='CD'\" title=\"Show this scroll in the Leon Levy library\" sec=\"CD 2:2\">CD 2:2</a></span>  <span class=\"txtu hbo\"><span class=\"vac1 empty\"> </span> </span><span class=\"txtu hbo\">ו</span><span class=\"txtu hbo\">ע</span><span class=\"txtu hbo\">ת</span><span class=\"txtu hbo\">ה </span><span class=\"txtu hbo\">ש</span><span class=\"txtu hbo\">מ</span><span class=\"txtu hbo\">ע</span><span class=\"txtu hbo\">ו </span><span class=\"txtu hbo\">א</span><span class=\"txtu hbo\">ל</span><span class=\"txtu hbo\">׳</span><span class=\"txtu hbo\">י </span><span class=\"txtu hbo\">כ</span><span class=\"txtu hbo\">ל </span><span class=\"txtu hbo\">ב</span><span class=\"txtu hbo\">א</span><span class=\"txtu hbo\">י </span><span class=\"txtu hbo\">ב</span><span class=\"txtu hbo\">ר</span><span class=\"txtu hbo\">י</span><span class=\"txtu hbo\">ת </span><span class=\"txtu hbo\">ו</span><span class=\"txtu hbo\">א</span><span class=\"txtu hbo\">ג</span><span class=\"txtu hbo\">ל</span><span class=\"txtu hbo\">ה </span><span class=\"txtu hbo\">א</span><span class=\"txtu hbo\">ז</span><span class=\"txtu hbo\">נ</span><span class=\"txtu hbo\">׳</span><span class=\"txtu hbo\">כ</span><span class=\"txtu hbo\">ם </span><span class=\"txtu hbo\">ב</span><span class=\"txtu hbo\">ד</span><span class=\"txtu hbo\">ר</span><span class=\"txtu hbo\">כ</span><span class=\"txtu hbo\">י </span></div>"
      ],
      "text/plain": [
       "<IPython.core.display.HTML object>"
      ]
     },
     "metadata": {},
     "output_type": "display_data"
    },
    {
     "data": {
      "text/html": [
       "<div class=\"rtl\"><span class=\"section rtl\"><a target=\"_blank\" href=\"https://www.deadseascrolls.org.il/explore-the-archive/search#q='4Q266'\" title=\"Show this scroll in the Leon Levy library\" sec=\"4Q266 f2ii:2\">4Q266 f2ii:2</a></span>  <span class=\"txtu hbo\">ל</span><span class=\"txtu hbo\">פ</span><span class=\"txtu hbo\">נ</span><span class=\"txtu hbo\">׳</span><span class=\"txtu hbo\">ו </span><span class=\"txtu hbo\"> </span><span class=\"txtu hbo\">׃ </span><span class=\"txtu hbo\"><span class=\"vac1 empty\"> </span> </span><span class=\"txtu hbo\">ו</span><span class=\"txtu hbo\">ע</span><span class=\"txtu hbo\">ת</span><span class=\"txtu hbo\">ה </span><span class=\"txtu hbo\">ש</span><span class=\"txtu hbo\"><span class=\"unc4\">מ</span></span><span class=\"txtu hbo\"><span class=\"rec1\">ע</span></span><span class=\"txtu hbo\"><span class=\"rec1\">ו</span> </span><span class=\"txtu hbo\"><span class=\"rec1\">א</span></span><span class=\"txtu hbo\"><span class=\"rec1\">ל</span></span><span class=\"txtu hbo\"><span class=\"rec1\">׳</span></span><span class=\"txtu hbo\"><span class=\"rec1\">י</span> </span><span class=\"txtu hbo\"><span class=\"rec1\">כ</span></span><span class=\"txtu hbo\"><span class=\"rec1\">ו</span></span><span class=\"txtu hbo\"><span class=\"rec1\">ל</span> </span><span class=\"txtu hbo\"><span class=\"rec1\">ב</span></span><span class=\"txtu hbo\"><span class=\"rec1\">א</span></span><span class=\"txtu hbo\"><span class=\"rec1\">י</span> </span><span class=\"txtu hbo\"><span class=\"rec1\">ב</span></span><span class=\"txtu hbo\"><span class=\"rec1\">ר</span></span><span class=\"txtu hbo\"><span class=\"rec1\">י</span></span><span class=\"txtu hbo\"><span class=\"rec1\">ת</span> </span><span class=\"txtu hbo\"><span class=\"rec1\">ו</span></span><span class=\"txtu hbo\"><span class=\"rec1\">א</span></span><span class=\"txtu hbo\"><span class=\"rec1\">ג</span></span><span class=\"txtu hbo\"><span class=\"rec1\">ל</span></span><span class=\"txtu hbo\"><span class=\"rec1\">ה</span> </span><span class=\"txtu hbo\"><span class=\"rec1\">א</span></span><span class=\"txtu hbo\"><span class=\"rec1\">ז</span></span><span class=\"txtu hbo\"><span class=\"rec1\">נ</span></span><span class=\"txtu hbo\"><span class=\"rec1\">׳</span></span><span class=\"txtu hbo\"><span class=\"rec1\">כ</span></span><span class=\"txtu hbo\"><span class=\"rec1\">ם</span> </span><span class=\"txtu hbo\"><span class=\"rec1\">ב</span></span><span class=\"txtu hbo\"><span class=\"rec1\">ד</span></span><span class=\"txtu hbo\"><span class=\"rec1\">ר</span></span><span class=\"txtu hbo\"><span class=\"rec1\">כ</span></span><span class=\"txtu hbo\"><span class=\"rec1\">י</span> </span><span class=\"txtu hbo\"><span class=\"rec1\">ר</span></span><span class=\"txtu hbo\"><span class=\"rec1\">ש</span></span><span class=\"txtu hbo\"><span class=\"rec1\">ע</span></span><span class=\"txtu hbo\"><span class=\"rec1\">י</span></span><span class=\"txtu hbo\"><span class=\"rec1\">ם</span> </span></div>"
      ],
      "text/plain": [
       "<IPython.core.display.HTML object>"
      ]
     },
     "metadata": {},
     "output_type": "display_data"
    }
   ],
   "source": [
    "for (x, y) in pairs[0:10]:\n",
    "    A.dm(\"---\\n\")\n",
    "    print(f\"similarity {similarity[(x,y)]}\")\n",
    "    A.plain(x, fmt=\"layout-orig-full\")\n",
    "    A.plain(y, fmt=\"layout-orig-full\")"
   ]
  },
  {
   "cell_type": "markdown",
   "metadata": {},
   "source": [
    "Why not make an overview of exactly how wide-spread parallel lines are?\n",
    "\n",
    "We count how many lines have how many parallels."
   ]
  },
  {
   "cell_type": "code",
   "execution_count": 18,
   "metadata": {},
   "outputs": [
    {
     "name": "stdout",
     "output_type": "stream",
     "text": [
      " 445 lines have        n >  100 sisters\n",
      " 720 lines have  20 <  n <=  50 sisters\n",
      "1047 lines have  10 <  n <=  20 sisters\n",
      "6476 lines have   2 <  n <=  10 sisters\n",
      "7426 lines have        n <=   2 sisters\n"
     ]
    }
   ],
   "source": [
    "parallelCount = collections.Counter()\n",
    "\n",
    "buckets = (2, 10, 20, 50, 100)\n",
    "\n",
    "bucketRep = {}\n",
    "prevBucket = None\n",
    "for bucket in buckets:\n",
    "    if prevBucket is None:\n",
    "        bucketRep[bucket] = f\"       n <= {bucket:>3}\"\n",
    "    elif bucket == buckets[-1]:\n",
    "        bucketRep[bucket] = f\"       n >  {bucket:>3}\"\n",
    "    else:\n",
    "        bucketRep[bucket] = f\"{prevBucket:>3} <  n <= {bucket:>3}\"\n",
    "    prevBucket = bucket\n",
    "\n",
    "for (ln, paras) in rankedParallels:\n",
    "    clusterSize = len(paras) + 1\n",
    "    if clusterSize > buckets[-1]:\n",
    "        theBucket = buckets[-1]\n",
    "    else:\n",
    "        for bucket in buckets:\n",
    "            if clusterSize <= bucket:\n",
    "                theBucket = bucket\n",
    "                break\n",
    "    parallelCount[theBucket] += 1\n",
    "\n",
    "for (bucket, amount) in sorted(\n",
    "    parallelCount.items(),\n",
    "    key=lambda x: (-x[0], x[1]),\n",
    "):\n",
    "    print(f\"{amount:>4} lines have {bucketRep[bucket]} sisters\")"
   ]
  },
  {
   "cell_type": "markdown",
   "metadata": {},
   "source": [
    "# Cluster the lines\n",
    "\n",
    "Before we try to find them, let's see if we can cluster the similar lines in similar clusters."
   ]
  },
  {
   "cell_type": "markdown",
   "metadata": {},
   "source": [
    "From now on we forget about the level of similarity, and focus on whether two lines are just \"similar\", meaning that they have\n",
    "a high degree of similarity."
   ]
  },
  {
   "cell_type": "code",
   "execution_count": 19,
   "metadata": {},
   "outputs": [],
   "source": [
    "SIMILARITY_THRESHOLD = 0.8\n",
    "CLUSTER_THRESHOLD = 0.4\n",
    "\n",
    "\n",
    "def makeClusters():\n",
    "    # determine the domain\n",
    "    domain = set()\n",
    "    for ln in allLines:\n",
    "        ms = E.sim.f(ln)\n",
    "        for (m, s) in ms:\n",
    "            if s > SIMILARITY_THRESHOLD:\n",
    "                domain.add(s)\n",
    "                added = True\n",
    "        if added:\n",
    "            domain.add(m)\n",
    "\n",
    "    A.indent(reset=True)\n",
    "    chunkSize = 1000\n",
    "    b = 0\n",
    "    j = 0\n",
    "    clusters = []\n",
    "    for ln in domain:\n",
    "        j += 1\n",
    "        b += 1\n",
    "        if b == chunkSize:\n",
    "            b = 0\n",
    "            A.info(f\"{j:>5} lines and {len(clusters):>5} clusters\")\n",
    "        lSisters = {x[0] for x in E.sim.b(ln) if x[1] > SIMILARITY_THRESHOLD}\n",
    "        lAdded = False\n",
    "        for cl in clusters:\n",
    "            if len(cl & lSisters) > CLUSTER_THRESHOLD * len(cl):\n",
    "                cl.add(ln)\n",
    "                lAdded = True\n",
    "                break\n",
    "        if not lAdded:\n",
    "            clusters.append({ln})\n",
    "    A.info(f\"{j:>5} lines and {len(clusters)} clusters\")\n",
    "    return clusters"
   ]
  },
  {
   "cell_type": "code",
   "execution_count": 20,
   "metadata": {},
   "outputs": [
    {
     "name": "stdout",
     "output_type": "stream",
     "text": [
      "  0.10s  1000 lines and   811 clusters\n",
      "  0.33s  2000 lines and  1540 clusters\n",
      "  0.75s  3000 lines and  2432 clusters\n",
      "  1.33s  4000 lines and  3298 clusters\n",
      "  2.24s  5000 lines and  4114 clusters\n",
      "  2.87s  5736 lines and 4688 clusters\n"
     ]
    }
   ],
   "source": [
    "clusters = makeClusters()"
   ]
  },
  {
   "cell_type": "markdown",
   "metadata": {},
   "source": [
    "What is the distribution of the clusters, in terms of how many similar lines they contain?\n",
    "We count them."
   ]
  },
  {
   "cell_type": "code",
   "execution_count": 21,
   "metadata": {},
   "outputs": [
    {
     "name": "stdout",
     "output_type": "stream",
     "text": [
      "clusters of size   30:     1\n",
      "clusters of size   21:     1\n",
      "clusters of size   15:     1\n",
      "clusters of size   14:     1\n",
      "clusters of size   10:     2\n",
      "clusters of size    8:     1\n",
      "clusters of size    7:     3\n",
      "clusters of size    6:     6\n",
      "clusters of size    5:    12\n",
      "clusters of size    4:    26\n",
      "clusters of size    3:   183\n",
      "clusters of size    2:   407\n",
      "clusters of size    1:  4044\n"
     ]
    }
   ],
   "source": [
    "clusterSizes = collections.Counter()\n",
    "\n",
    "for cl in clusters:\n",
    "    clusterSizes[len(cl)] += 1\n",
    "\n",
    "for (size, amount) in sorted(\n",
    "    clusterSizes.items(),\n",
    "    key=lambda x: (-x[0], x[1]),\n",
    "):\n",
    "    print(f\"clusters of size {size:>4}: {amount:>5}\")"
   ]
  },
  {
   "cell_type": "markdown",
   "metadata": {},
   "source": [
    "# Interesting groups\n",
    "\n",
    "Exercise: investigate some interesting groups, that lie in some sweet spots.\n",
    "\n",
    "* the biggest clusters: more than 13 members\n",
    "* the medium clusters: between 4 and 13 members\n",
    "* the small clusters: between 2 and 4 members"
   ]
  },
  {
   "cell_type": "markdown",
   "metadata": {},
   "source": [
    "---\n",
    "\n",
    "All chapters:\n",
    "\n",
    "* **[start](start.ipynb)** become an expert in creating pretty displays of your text structures\n",
    "* **[display](display.ipynb)** become an expert in creating pretty displays of your text structures\n",
    "* **[search](search.ipynb)** turbo charge your hand-coding with search templates\n",
    "* **[exportExcel](exportExcel.ipynb)** make tailor-made spreadsheets out of your results\n",
    "* **[share](share.ipynb)** draw in other people's data and let them use yours\n",
    "* **similarLines** spot the similarities between lines\n",
    "\n",
    "---\n",
    "\n",
    "See the [cookbook](cookbook) for recipes for small, concrete tasks.\n",
    "\n",
    "CC-BY Dirk Roorda"
   ]
  }
 ],
 "metadata": {
  "kernelspec": {
   "display_name": "Python 3",
   "language": "python",
   "name": "python3"
  },
  "language_info": {
   "codemirror_mode": {
    "name": "ipython",
    "version": 3
   },
   "file_extension": ".py",
   "mimetype": "text/x-python",
   "name": "python",
   "nbconvert_exporter": "python",
   "pygments_lexer": "ipython3",
   "version": "3.7.7"
  }
 },
 "nbformat": 4,
 "nbformat_minor": 4
}
