{
 "cells": [
  {
   "cell_type": "markdown",
   "metadata": {},
   "source": [
    "<img align=\"right\" src=\"images/tf.png\" width=\"128\"/>\n",
    "<img align=\"right\" src=\"images/logo.png\" width=\"128\"/>\n",
    "<img align=\"right\" src=\"images/etcbc.png\" width=\"128\"/>\n",
    "<img align=\"right\" src=\"images/dans.png\" width=\"128\"/>\n",
    "\n",
    "---\n",
    "\n",
    "To get started: consult [start](start.ipynb)\n",
    "\n",
    "---\n",
    "\n",
    "# Sharing data features\n",
    "\n",
    "## Explore additional data\n",
    "\n",
    "Once you analyse a corpus, it is likely that you produce data that others can reuse.\n",
    "Maybe you have defined a set of proper name occurrences, or special numerals, or you have computed part-of-speech assignments.\n",
    "\n",
    "It is possible to turn these insights into *new features*, i.e. new `.tf` files with values assigned to specific nodes.\n",
    "\n",
    "## Make your own data\n",
    "\n",
    "New data is a product of your own methods and computations in the first place.\n",
    "But how do you turn that data into new TF features?\n",
    "It turns out that the last step is not that difficult.\n",
    "\n",
    "If you can shape your data as a mapping (dictionary) from node numbers (integers) to values\n",
    "(strings or integers), then TF can turn that data into a feature file for you with one command.\n",
    "\n",
    "## Share your new data\n",
    "You can then easily share your new features on GitHub, so that your colleagues everywhere\n",
    "can try it out for themselves.\n",
    "\n",
    "You can add such data on the fly, by passing a `mod={org}/{repo}/{path}` parameter,\n",
    "or a bunch of them separated by commas.\n",
    "\n",
    "If the data is there, it will be auto-downloaded and stored on your machine.\n",
    "\n",
    "Let's do it."
   ]
  },
  {
   "cell_type": "code",
   "execution_count": 1,
   "metadata": {},
   "outputs": [],
   "source": [
    "%load_ext autoreload\n",
    "%autoreload 2"
   ]
  },
  {
   "cell_type": "code",
   "execution_count": 2,
   "metadata": {
    "ExecuteTime": {
     "end_time": "2018-05-24T10:06:39.818664Z",
     "start_time": "2018-05-24T10:06:39.796588Z"
    },
    "lines_to_next_cell": 2
   },
   "outputs": [],
   "source": [
    "import os\n",
    "from tf.app import use"
   ]
  },
  {
   "cell_type": "code",
   "execution_count": 3,
   "metadata": {
    "lines_to_next_cell": 2
   },
   "outputs": [
    {
     "data": {
      "text/html": [
       "<b title=\"local github\">TF-app:</b> <span title=\"repo clone offline under ~/github\">~/github/annotation/app-dss/code</span>"
      ],
      "text/plain": [
       "<IPython.core.display.HTML object>"
      ]
     },
     "metadata": {},
     "output_type": "display_data"
    },
    {
     "data": {
      "text/html": [
       "<b title=\"local github\">data:</b> <span title=\"repo clone offline under ~/github\">~/github/etcbc/dss/tf/0.6</span>"
      ],
      "text/plain": [
       "<IPython.core.display.HTML object>"
      ]
     },
     "metadata": {},
     "output_type": "display_data"
    },
    {
     "data": {
      "text/html": [
       "<b title=\"local github\">data:</b> <span title=\"repo clone offline under ~/github\">~/github/etcbc/dss/parallels/tf/0.6</span>"
      ],
      "text/plain": [
       "<IPython.core.display.HTML object>"
      ]
     },
     "metadata": {},
     "output_type": "display_data"
    },
    {
     "data": {
      "text/html": [
       "<b>Text-Fabric:</b> <a target=\"_blank\" href=\"https://annotation.github.io/text-fabric/cheatsheet.html\" title=\"text-fabric-api\">Text-Fabric API 8.3.0</a>, <a target=\"_blank\" href=\"https://github.com/annotation/app-dss\" title=\"dss TF-app\">app-dss</a>, <a target=\"_blank\" href=\"https://annotation.github.io/text-fabric/about/searchusage.html\" title=\"Search Templates Introduction and Reference\">Search Reference</a><br><b>Data:</b> <a target=\"_blank\" href=\"https://github.com/etcbc/dss/blob/master/docs/about.md\" title=\"provenance of Dead Sea Scrolls\">DSS</a>, <a target=\"_blank\" href=\"https://annotation.github.io/text-fabric/writing/hebrew.html\" title=\"How TF features represent text\">Character table</a>, <a target=\"_blank\" href=\"https://github.com/etcbc/dss/blob/master/docs\" title=\"DSS feature documentation\">Feature docs</a><br><b>Features:</b><br><details><summary><b>Parallel Passages</b></summary><b><i><a target=\"_blank\" href=\"https://nbviewer.jupyter.org/github/etcbc/dss/blob/master/programs/parallels.ipynb\" title=\"~/github/etcbc/dss/parallels/tf/0.6/sim.tf\">sim</a></i></b><br></details><details><summary><b>Dead Sea Scrolls</b></summary><a target=\"_blank\" href=\"https://github.com/etcbc/dss/blob/master/docs\" title=\"~/github/etcbc/dss/tf/0.6/after.tf\">after</a><br><a target=\"_blank\" href=\"https://github.com/etcbc/dss/blob/master/docs\" title=\"~/github/etcbc/dss/tf/0.6/alt.tf\">alt</a><br><a target=\"_blank\" href=\"https://github.com/etcbc/dss/blob/master/docs\" title=\"~/github/etcbc/dss/tf/0.6/biblical.tf\">biblical</a><br><a target=\"_blank\" href=\"https://github.com/etcbc/dss/blob/master/docs\" title=\"~/github/etcbc/dss/tf/0.6/book.tf\">book</a><br><a target=\"_blank\" href=\"https://github.com/etcbc/dss/blob/master/docs\" title=\"~/github/etcbc/dss/tf/0.6/chapter.tf\">chapter</a><br><a target=\"_blank\" href=\"https://github.com/etcbc/dss/blob/master/docs\" title=\"~/github/etcbc/dss/tf/0.6/cl.tf\">cl</a><br><a target=\"_blank\" href=\"https://github.com/etcbc/dss/blob/master/docs\" title=\"~/github/etcbc/dss/tf/0.6/cl2.tf\">cl2</a><br><a target=\"_blank\" href=\"https://github.com/etcbc/dss/blob/master/docs\" title=\"~/github/etcbc/dss/tf/0.6/cor.tf\">cor</a><br><a target=\"_blank\" href=\"https://github.com/etcbc/dss/blob/master/docs\" title=\"~/github/etcbc/dss/tf/0.6/fragment.tf\">fragment</a><br><a target=\"_blank\" href=\"https://github.com/etcbc/dss/blob/master/docs\" title=\"~/github/etcbc/dss/tf/0.6/full.tf\">full</a><br><a target=\"_blank\" href=\"https://github.com/etcbc/dss/blob/master/docs\" title=\"~/github/etcbc/dss/tf/0.6/fulle.tf\">fulle</a><br><a target=\"_blank\" href=\"https://github.com/etcbc/dss/blob/master/docs\" title=\"~/github/etcbc/dss/tf/0.6/fullo.tf\">fullo</a><br><a target=\"_blank\" href=\"https://github.com/etcbc/dss/blob/master/docs\" title=\"~/github/etcbc/dss/tf/0.6/glex.tf\">glex</a><br><a target=\"_blank\" href=\"https://github.com/etcbc/dss/blob/master/docs\" title=\"~/github/etcbc/dss/tf/0.6/glexe.tf\">glexe</a><br><a target=\"_blank\" href=\"https://github.com/etcbc/dss/blob/master/docs\" title=\"~/github/etcbc/dss/tf/0.6/glexo.tf\">glexo</a><br><a target=\"_blank\" href=\"https://github.com/etcbc/dss/blob/master/docs\" title=\"~/github/etcbc/dss/tf/0.6/glyph.tf\">glyph</a><br><a target=\"_blank\" href=\"https://github.com/etcbc/dss/blob/master/docs\" title=\"~/github/etcbc/dss/tf/0.6/glyphe.tf\">glyphe</a><br><a target=\"_blank\" href=\"https://github.com/etcbc/dss/blob/master/docs\" title=\"~/github/etcbc/dss/tf/0.6/glypho.tf\">glypho</a><br><a target=\"_blank\" href=\"https://github.com/etcbc/dss/blob/master/docs\" title=\"~/github/etcbc/dss/tf/0.6/gn.tf\">gn</a><br><a target=\"_blank\" href=\"https://github.com/etcbc/dss/blob/master/docs\" title=\"~/github/etcbc/dss/tf/0.6/gn2.tf\">gn2</a><br><a target=\"_blank\" href=\"https://github.com/etcbc/dss/blob/master/docs\" title=\"~/github/etcbc/dss/tf/0.6/gn3.tf\">gn3</a><br><a target=\"_blank\" href=\"https://github.com/etcbc/dss/blob/master/docs\" title=\"~/github/etcbc/dss/tf/0.6/halfverse.tf\">halfverse</a><br><a target=\"_blank\" href=\"https://github.com/etcbc/dss/blob/master/docs\" title=\"~/github/etcbc/dss/tf/0.6/intl.tf\">intl</a><br><a target=\"_blank\" href=\"https://github.com/etcbc/dss/blob/master/docs\" title=\"~/github/etcbc/dss/tf/0.6/lang.tf\">lang</a><br><a target=\"_blank\" href=\"https://github.com/etcbc/dss/blob/master/docs\" title=\"~/github/etcbc/dss/tf/0.6/lex.tf\">lex</a><br><a target=\"_blank\" href=\"https://github.com/etcbc/dss/blob/master/docs\" title=\"~/github/etcbc/dss/tf/0.6/lexe.tf\">lexe</a><br><a target=\"_blank\" href=\"https://github.com/etcbc/dss/blob/master/docs\" title=\"~/github/etcbc/dss/tf/0.6/lexo.tf\">lexo</a><br><a target=\"_blank\" href=\"https://github.com/etcbc/dss/blob/master/docs\" title=\"~/github/etcbc/dss/tf/0.6/line.tf\">line</a><br><a target=\"_blank\" href=\"https://github.com/etcbc/dss/blob/master/docs\" title=\"~/github/etcbc/dss/tf/0.6/md.tf\">md</a><br><a target=\"_blank\" href=\"https://github.com/etcbc/dss/blob/master/docs\" title=\"~/github/etcbc/dss/tf/0.6/merr.tf\">merr</a><br><a target=\"_blank\" href=\"https://github.com/etcbc/dss/blob/master/docs\" title=\"~/github/etcbc/dss/tf/0.6/morpho.tf\">morpho</a><br><a target=\"_blank\" href=\"https://github.com/etcbc/dss/blob/master/docs\" title=\"~/github/etcbc/dss/tf/0.6/nu.tf\">nu</a><br><a target=\"_blank\" href=\"https://github.com/etcbc/dss/blob/master/docs\" title=\"~/github/etcbc/dss/tf/0.6/nu2.tf\">nu2</a><br><a target=\"_blank\" href=\"https://github.com/etcbc/dss/blob/master/docs\" title=\"~/github/etcbc/dss/tf/0.6/nu3.tf\">nu3</a><br><a target=\"_blank\" href=\"https://github.com/etcbc/dss/blob/master/docs\" title=\"~/github/etcbc/dss/tf/0.6/otype.tf\">otype</a><br><a target=\"_blank\" href=\"https://github.com/etcbc/dss/blob/master/docs\" title=\"~/github/etcbc/dss/tf/0.6/ps.tf\">ps</a><br><a target=\"_blank\" href=\"https://github.com/etcbc/dss/blob/master/docs\" title=\"~/github/etcbc/dss/tf/0.6/ps2.tf\">ps2</a><br><a target=\"_blank\" href=\"https://github.com/etcbc/dss/blob/master/docs\" title=\"~/github/etcbc/dss/tf/0.6/ps3.tf\">ps3</a><br><a target=\"_blank\" href=\"https://github.com/etcbc/dss/blob/master/docs\" title=\"~/github/etcbc/dss/tf/0.6/punc.tf\">punc</a><br><a target=\"_blank\" href=\"https://github.com/etcbc/dss/blob/master/docs\" title=\"~/github/etcbc/dss/tf/0.6/punce.tf\">punce</a><br><a target=\"_blank\" href=\"https://github.com/etcbc/dss/blob/master/docs\" title=\"~/github/etcbc/dss/tf/0.6/punco.tf\">punco</a><br><a target=\"_blank\" href=\"https://github.com/etcbc/dss/blob/master/docs\" title=\"~/github/etcbc/dss/tf/0.6/rec.tf\">rec</a><br><a target=\"_blank\" href=\"https://github.com/etcbc/dss/blob/master/docs\" title=\"~/github/etcbc/dss/tf/0.6/rem.tf\">rem</a><br><a target=\"_blank\" href=\"https://github.com/etcbc/dss/blob/master/docs\" title=\"~/github/etcbc/dss/tf/0.6/script.tf\">script</a><br><a target=\"_blank\" href=\"https://github.com/etcbc/dss/blob/master/docs\" title=\"~/github/etcbc/dss/tf/0.6/scroll.tf\">scroll</a><br><a target=\"_blank\" href=\"https://github.com/etcbc/dss/blob/master/docs\" title=\"~/github/etcbc/dss/tf/0.6/sp.tf\">sp</a><br><a target=\"_blank\" href=\"https://github.com/etcbc/dss/blob/master/docs\" title=\"~/github/etcbc/dss/tf/0.6/srcLn.tf\">srcLn</a><br><a target=\"_blank\" href=\"https://github.com/etcbc/dss/blob/master/docs\" title=\"~/github/etcbc/dss/tf/0.6/st.tf\">st</a><br><a target=\"_blank\" href=\"https://github.com/etcbc/dss/blob/master/docs\" title=\"~/github/etcbc/dss/tf/0.6/type.tf\">type</a><br><a target=\"_blank\" href=\"https://github.com/etcbc/dss/blob/master/docs\" title=\"~/github/etcbc/dss/tf/0.6/unc.tf\">unc</a><br><a target=\"_blank\" href=\"https://github.com/etcbc/dss/blob/master/docs\" title=\"~/github/etcbc/dss/tf/0.6/vac.tf\">vac</a><br><a target=\"_blank\" href=\"https://github.com/etcbc/dss/blob/master/docs\" title=\"~/github/etcbc/dss/tf/0.6/verse.tf\">verse</a><br><a target=\"_blank\" href=\"https://github.com/etcbc/dss/blob/master/docs\" title=\"~/github/etcbc/dss/tf/0.6/vs.tf\">vs</a><br><a target=\"_blank\" href=\"https://github.com/etcbc/dss/blob/master/docs\" title=\"~/github/etcbc/dss/tf/0.6/vt.tf\">vt</a><br><b><i><a target=\"_blank\" href=\"https://github.com/etcbc/dss/blob/master/docs\" title=\"~/github/etcbc/dss/tf/0.6/occ.tf\">occ</a></i></b><br><b><i><a target=\"_blank\" href=\"https://github.com/etcbc/dss/blob/master/docs\" title=\"~/github/etcbc/dss/tf/0.6/oslots.tf\">oslots</a></i></b><br></details>"
      ],
      "text/plain": [
       "<IPython.core.display.HTML object>"
      ]
     },
     "metadata": {},
     "output_type": "display_data"
    },
    {
     "data": {
      "text/html": [
       "<style>tr.tf.ltr, td.tf.ltr, th.tf.ltr { text-align: left ! important;}\n",
       "tr.tf.rtl, td.tf.rtl, th.tf.rtl { text-align: right ! important;}\n",
       "@font-face {\n",
       "  font-family: \"Ezra SIL\";\n",
       "  src: local('Ezra SIL'), local('EzraSIL'),\n",
       "    url('/server/static/fonts/SILEOT.woff') format('woff'),\n",
       "    url('https://github.com/annotation/text-fabric/blob/master/tf/server/static/fonts/SILEOT.woff?raw=true') format('woff');\n",
       "}\n",
       "\n",
       "@font-face {\n",
       "  font-family: \"SBL Hebrew\";\n",
       "  src: local('SBL Hebrew'), local('SBLHebrew'),\n",
       "    url('/server/static/fonts/SBL_Hbrw.woff') format('woff'),\n",
       "    url('https://github.com/annotation/text-fabric/blob/master/tf/server/static/fonts/SBL_Hbrw.woff?raw=true') format('woff');\n",
       "}\n",
       "\n",
       "@font-face {\n",
       "  font-family: \"Estrangelo Edessa\";\n",
       "  src: local('Estrangelo Edessa'), local('EstrangeloEdessa');\n",
       "    url('/server/static/fonts/SyrCOMEdessa.woff') format('woff'),\n",
       "    url('https://github.com/annotation/text-fabric/blob/master/tf/server/static/fonts/SyrCOMEdessa.woff?raw=true') format('woff');\n",
       "}\n",
       "\n",
       "@font-face {\n",
       "  font-family: AmiriQuran;\n",
       "  font-style: normal;\n",
       "  font-weight: 400;\n",
       "  src: local('Amiri Quran'), local('AmiriQuran'),\n",
       "    url('/server/static/fonts/AmiriQuran.woff') format('woff'),\n",
       "    url('https://github.com/annotation/text-fabric/blob/master/tf/server/static/fonts/AmiriQuran.woff?raw=true') format('woff');\n",
       "}\n",
       "\n",
       "@font-face {\n",
       "  font-family: AmiriQuranColored;\n",
       "  font-style: normal;\n",
       "  font-weight: 400;\n",
       "  src: local('Amiri Quran Colored'), local('AmiriQuranColored'),\n",
       "    url('/server/static/fonts/AmiriQuranColored.woff') format('woff'),\n",
       "    url('https://github.com/annotation/text-fabric/blob/master/tf/server/static/fonts/AmiriQuranColored.woff?raw=true') format('woff');\n",
       "}\n",
       "\n",
       "@font-face {\n",
       "  font-family: \"Santakku\";\n",
       "  src: local('Santakku'),\n",
       "    url('/server/static/fonts/Santakku.woff') format('woff'),\n",
       "    url('https://github.com/annotation/text-fabric/blob/master/tf/server/static/fonts/Santakku.woff?raw=true') format('woff');\n",
       "}\n",
       "\n",
       "@font-face {\n",
       "  font-family: \"SantakkuM\";\n",
       "  src: local('SantakkuM'),\n",
       "    url('/server/static/fonts/SantakkuM.woff') format('woff'),\n",
       "    url('https://github.com/annotation/text-fabric/blob/master/tf/server/static/fonts/SantakkuM.woff?raw=true') format('woff');\n",
       "}\n",
       "/* bypassing some classical notebook settings */\n",
       "div#notebook {\n",
       "  line-height: unset;\n",
       "}\n",
       "/* neutral text */\n",
       ".txtn,.txtn a:visited,.txtn a:link {\n",
       "    font-family: sans-serif;\n",
       "    font-size: medium;\n",
       "    direction: ltr;\n",
       "    text-decoration: none;\n",
       "    color: var(--text-color);\n",
       "}\n",
       "/* transcription text */\n",
       ".txtt,.txtt a:visited,.txtt a:link {\n",
       "    font-family: monospace;\n",
       "    font-size: medium;\n",
       "    direction: ltr;\n",
       "    text-decoration: none;\n",
       "    color: var(--text-color);\n",
       "}\n",
       "/* source text */\n",
       ".txto,.txto a:visited,.txto a:link {\n",
       "    font-family: serif;\n",
       "    font-size: medium;\n",
       "    direction: ltr;\n",
       "    text-decoration: none;\n",
       "    color: var(--text-color);\n",
       "}\n",
       "/* phonetic text */\n",
       ".txtp,.txtp a:visited,.txtp a:link {\n",
       "    font-family: Gentium, sans-serif;\n",
       "    font-size: medium;\n",
       "    direction: ltr;\n",
       "    text-decoration: none;\n",
       "    color: var(--text-color);\n",
       "}\n",
       "/* original script text */\n",
       ".txtu,.txtu a:visited,.txtu a:link {\n",
       "    font-family: Gentium, sans-serif;\n",
       "    font-size: medium;\n",
       "    text-decoration: none;\n",
       "    color: var(--text-color);\n",
       "}\n",
       "/* hebrew */\n",
       ".txtu.hbo,.lex.hbo {\n",
       "    font-family: \"Ezra SIL\", \"SBL Hebrew\", sans-serif;\n",
       "    font-size: large;\n",
       "    direction: rtl ! important;\n",
       "    unicode-bidi: embed;\n",
       "}\n",
       "/* syriac */\n",
       ".txtu.syc,.lex.syc {\n",
       "    font-family: \"Estrangelo Edessa\", sans-serif;\n",
       "    font-size: medium;\n",
       "    direction: rtl ! important;\n",
       "    unicode-bidi: embed;\n",
       "}\n",
       "/* neo aramaic */\n",
       ".txtu.cld,.lex.cld {\n",
       "    font-family: \"CharisSIL-R\", sans-serif;\n",
       "    font-size: medium;\n",
       "    direction: ltr ! important;\n",
       "    unicode-bidi: embed;\n",
       "}\n",
       "/* standard arabic */\n",
       ".txtu.ara,.lex.ara {\n",
       "    font-family: \"AmiriQuran\", sans-serif;\n",
       "    font-size: large;\n",
       "    direction: rtl ! important;\n",
       "    unicode-bidi: embed;\n",
       "}\n",
       "/* cuneiform */\n",
       ".txtu.akk,.lex.akk {\n",
       "    font-family: Santakku, sans-serif;\n",
       "    font-size: large;\n",
       "    direction: ltr ! important;\n",
       "    unicode-bidi: embed;\n",
       "}\n",
       "/* greek */\n",
       ".txtu.grc,.lex.grc a:link {\n",
       "    font-family: Gentium, sans-serif;\n",
       "    font-size: medium;\n",
       "    direction: ltr ! important;\n",
       "    unicode-bidi: embed;\n",
       "}\n",
       "a:hover {\n",
       "    text-decoration: underline | important;\n",
       "    color: #0000ff | important;\n",
       "}\n",
       ".ltr {\n",
       "    direction: ltr ! important;\n",
       "}\n",
       ".rtl {\n",
       "    direction: rtl ! important;\n",
       "}\n",
       ".features {\n",
       "    font-family: monospace;\n",
       "    font-size: medium;\n",
       "    font-weight: bold;\n",
       "    color: var(--features);\n",
       "    display: flex;\n",
       "    flex-flow: column nowrap;\n",
       "    justify-content: flex-start;\n",
       "    align-items: flex-start;\n",
       "    align-content: flex-start;\n",
       "    padding: 0.1rem;\n",
       "    margin: 0.1rem;\n",
       "    direction: ltr;\n",
       "    border: var(--meta-width) solid var(--meta-color);\n",
       "    border-radius: var(--meta-width);\n",
       "}\n",
       ".features div,.features span {\n",
       "    padding: 0;\n",
       "    margin: -0.1rem 0;\n",
       "}\n",
       ".features .f {\n",
       "    font-family: sans-serif;\n",
       "    font-size: small;\n",
       "    font-weight: normal;\n",
       "    color: #5555bb;\n",
       "}\n",
       ".features .xft {\n",
       "  color: #000000;\n",
       "  background-color: #eeeeee;\n",
       "  font-size: medium;\n",
       "  margin: 0.1rem 0rem;\n",
       "}\n",
       ".features .xft .f {\n",
       "  color: #000000;\n",
       "  background-color: #eeeeee;\n",
       "  font-size: small;\n",
       "  font-weight: normal;\n",
       "}\n",
       ".section {\n",
       "    font-family: sans-serif;\n",
       "    font-size: small;\n",
       "    font-weight: bold;\n",
       "    color: var(--section);\n",
       "    unicode-bidi: embed;\n",
       "    text-align: start;\n",
       "}\n",
       ".structure {\n",
       "    font-family: sans-serif;\n",
       "    font-size: small;\n",
       "    font-weight: bold;\n",
       "    color: var(--structure);\n",
       "    unicode-bidi: embed;\n",
       "    text-align: start;\n",
       "}\n",
       ".comments {\n",
       "    display: flex;\n",
       "    justify-content: flex-start;\n",
       "    align-items: flex-start;\n",
       "    align-content: flex-start;\n",
       "    flex-flow: column nowrap;\n",
       "}\n",
       ".nd, a:link.nd {\n",
       "    font-family: sans-serif;\n",
       "    font-size: small;\n",
       "    color: var(--node);\n",
       "    vertical-align: super;\n",
       "    direction: ltr ! important;\n",
       "    unicode-bidi: embed;\n",
       "}\n",
       ".lex {\n",
       "  color: var(--lex-color);;\n",
       "}\n",
       ".children,.children.ltr {\n",
       "    display: flex;\n",
       "    border: 0;\n",
       "    background-color: #ffffff;\n",
       "    justify-content: flex-start;\n",
       "    align-items: flex-start;\n",
       "    align-content: flex-start;\n",
       "}\n",
       ".children.stretch {\n",
       "    align-items: stretch;\n",
       "}\n",
       ".children.hor {\n",
       "    flex-flow: row nowrap;\n",
       "}\n",
       ".children.hor.wrap {\n",
       "    flex-flow: row wrap;\n",
       "}\n",
       ".children.ver {\n",
       "    flex-flow: column nowrap;\n",
       "}\n",
       ".children.ver.wrap {\n",
       "    flex-flow: column wrap;\n",
       "}\n",
       ".contnr {\n",
       "    width: fit-content;\n",
       "    display: flex;\n",
       "    justify-content: flex-start;\n",
       "    align-items: flex-start;\n",
       "    align-content: flex-start;\n",
       "    flex-flow: column nowrap;\n",
       "    background: #ffffff none repeat scroll 0 0;\n",
       "    padding:  0.5rem 0.1rem 0.1rem 0.1rem;\n",
       "    margin: 0.8rem 0.1rem 0.1rem 0.1rem;\n",
       "    border-style: solid;\n",
       "    font-size: small;\n",
       "}\n",
       ".contnr.trm {\n",
       "    background-attachment: local;\n",
       "}\n",
       ".contnr.cnul {\n",
       "    padding:  0;\n",
       "    margin: 0;\n",
       "    border-style: solid;\n",
       "    font-size: xx-small;\n",
       "}\n",
       ".contnr.cnul,.lbl.cnul {\n",
       "    border-color: var(--border-color-nul);\n",
       "    border-width: var(--border-width-nul);\n",
       "    border-radius: var(--border-width-nul);\n",
       "}\n",
       ".contnr.c0,.lbl.c0 {\n",
       "    border-color: var(--border-color0);\n",
       "    border-width: var(--border-width0);\n",
       "    border-radius: var(--border-width0);\n",
       "}\n",
       ".contnr.c1,.lbl.c1 {\n",
       "    border-color: var(--border-color1);\n",
       "    border-width: var(--border-width1);\n",
       "    border-radius: var(--border-width1);\n",
       "}\n",
       ".contnr.c2,.lbl.c2 {\n",
       "    border-color: var(--border-color2);\n",
       "    border-width: var(--border-width2);\n",
       "    border-radius: var(--border-width2);\n",
       "}\n",
       ".contnr.c3,.lbl.c3 {\n",
       "    border-color: var(--border-color3);\n",
       "    border-width: var(--border-width3);\n",
       "    border-radius: var(--border-width3);\n",
       "}\n",
       ".contnr.c4,.lbl.c4 {\n",
       "    border-color: var(--border-color4);\n",
       "    border-width: var(--border-width4);\n",
       "    border-radius: var(--border-width4);\n",
       "}\n",
       "span.plain {\n",
       "    display: inline-block;\n",
       "    white-space: pre-wrap;\n",
       "}\n",
       ".plain {\n",
       "    background-color: #ffffff;\n",
       "}\n",
       ".plain.l,.contnr.l,.contnr.l>.lbl {\n",
       "    border-left-style: dotted\n",
       "}\n",
       ".plain.r,.contnr.r,.contnr.r>.lbl {\n",
       "    border-right-style: dotted\n",
       "}\n",
       ".plain.lno,.contnr.lno,.contnr.lno>.lbl {\n",
       "    border-left-style: none\n",
       "}\n",
       ".plain.rno,.contnr.rno,.contnr.rno>.lbl {\n",
       "    border-right-style: none\n",
       "}\n",
       ".plain.l {\n",
       "    padding-left: 0.2rem;\n",
       "    margin-left: 0.1rem;\n",
       "    border-width: var(--border-width-plain);\n",
       "}\n",
       ".plain.r {\n",
       "    padding-right: 0.2rem;\n",
       "    margin-right: 0.1rem;\n",
       "    border-width: var(--border-width-plain);\n",
       "}\n",
       ".lbl {\n",
       "    font-family: monospace;\n",
       "    margin-top: -1.2rem;\n",
       "    margin-left: 1rem;\n",
       "    background: #ffffff none repeat scroll 0 0;\n",
       "    padding: 0 0.3rem;\n",
       "    border-style: solid;\n",
       "    display: block;\n",
       "    color: var(--label)\n",
       "}\n",
       ".lbl.trm {\n",
       "    background-attachment: local;\n",
       "    margin-top: 0.1rem;\n",
       "    margin-left: 0.1rem;\n",
       "    padding: 0.1rem 0.1rem;\n",
       "    border-style: none;\n",
       "}\n",
       ".lbl.cnul {\n",
       "    font-size: xx-small;\n",
       "}\n",
       ".lbl.c0 {\n",
       "    font-size: small;\n",
       "}\n",
       ".lbl.c1 {\n",
       "    font-size: small;\n",
       "}\n",
       ".lbl.c2 {\n",
       "    font-size: medium;\n",
       "}\n",
       ".lbl.c3 {\n",
       "    font-size: medium;\n",
       "}\n",
       ".lbl.c4 {\n",
       "    font-size: large;\n",
       "}\n",
       ".occs, a:link.occs {\n",
       "    font-size: small;\n",
       "}\n",
       "\n",
       "/* PROVENANCE */\n",
       "\n",
       "div.prov {\n",
       "\tmargin: 2rem;\n",
       "\tpadding: 1rem;\n",
       "\tborder: 0.1rem solid var(--fog-rim);\n",
       "}\n",
       "div.pline {\n",
       "\tdisplay: flex;\n",
       "\tflex-flow: row nowrap;\n",
       "\tjustify-content: stretch;\n",
       "\talign-items: baseline;\n",
       "}\n",
       "div.p2line {\n",
       "\tmargin-left: 2em;\n",
       "\tdisplay: flex;\n",
       "\tflex-flow: row nowrap;\n",
       "\tjustify-content: stretch;\n",
       "\talign-items: baseline;\n",
       "}\n",
       "div.psline {\n",
       "\tdisplay: flex;\n",
       "\tflex-flow: row nowrap;\n",
       "\tjustify-content: stretch;\n",
       "\talign-items: baseline;\n",
       "\tbackground-color: var(--gold-mist-back);\n",
       "}\n",
       "div.pname {\n",
       "\tflex: 0 0 5rem;\n",
       "\tfont-weight: bold;\n",
       "}\n",
       "div.pval {\n",
       "    flex: 1 1 auto;\n",
       "}\n",
       "\n",
       ":root {\n",
       "\t--node:               hsla(120, 100%,  20%, 1.0  );\n",
       "\t--label:              hsla(  0, 100%,  20%, 1.0  );\n",
       "\t--section:            hsla(  0, 100%,  25%, 1.0  );\n",
       "\t--structure:          hsla(120, 100%,  25%, 1.0  );\n",
       "\t--features:           hsla(  0,   0%,  30%, 1.0  );\n",
       "  --text-color:         hsla( 60,  80%,  10%, 1.0  );\n",
       "  --lex-color:          hsla(220,  90%,  60%, 1.0  );\n",
       "  --meta-color:         hsla(  0,   0%,  90%, 0.7  );\n",
       "  --meta-width:         0.15rem;\n",
       "  --border-color-nul:   hsla(  0,   0%,  90%, 0.5  );\n",
       "  --border-color0:      hsla(  0,   0%,  90%, 0.9  );\n",
       "  --border-color1:      hsla(  0,   0%,  80%, 0.9  );\n",
       "  --border-color2:      hsla(  0,   0%,  70%, 0.9  );\n",
       "  --border-color3:      hsla(  0,   0%,  80%, 0.8  );\n",
       "  --border-color4:      hsla(  0,   0%,  60%, 0.9  );\n",
       "  --border-width-nul:   0.1rem;\n",
       "  --border-width0:      0.1rem;\n",
       "  --border-width1:      0.15rem;\n",
       "  --border-width2:      0.2rem;\n",
       "  --border-width3:      0.3rem;\n",
       "  --border-width4:      0.25rem;\n",
       "  --border-width-plain: 0.1rem;\n",
       "}\n",
       ".hl {\n",
       "  background-color: var(--hl-strong);\n",
       "}\n",
       "span.hl {\n",
       "\tbackground-color: var(--hl-strong);\n",
       "\tborder-width: 0;\n",
       "\tborder-radius: 0.1rem;\n",
       "\tborder-style: solid;\n",
       "}\n",
       "div.contnr.hl,div.lbl.hl {\n",
       "  background-color: var(--hl-strong);\n",
       "}\n",
       "div.contnr.hl {\n",
       "  border-color: var(--hl-rim) ! important;\n",
       "\tborder-width: 0.2rem ! important;\n",
       "}\n",
       "\n",
       "span.hlbx {\n",
       "\tborder-color: var(--hl-rim);\n",
       "\tborder-width: 0.2rem ! important;\n",
       "\tborder-style: solid;\n",
       "\tborder-radius: 0.3rem;\n",
       "  padding: 0.2rem;\n",
       "  margin: 0.2rem;\n",
       "}\n",
       "\n",
       "span.plain {\n",
       "  display: inline-block;\n",
       "  white-space: pre-wrap;\n",
       "}\n",
       "\n",
       ":root {\n",
       "\t--hl-strong:        hsla( 60, 100%,  70%, 0.9  );\n",
       "\t--hl-rim:           hsla( 55,  80%,  50%, 1.0  );\n",
       "}\n",
       ".full,.glyph,.punc {\n",
       "    font-family: \"Ezra SIL\", \"SBL Hebrew\", sans-serif;\n",
       "}\n",
       ".scriptpaleohebrew {\n",
       "    border: 1px dashed navy;\n",
       "}\n",
       ".scriptgreekcapital {\n",
       "    border: 1px dashed brown;\n",
       "}\n",
       ".langa {\n",
       "    text-decoration: underline;\n",
       "}\n",
       ".intl1 {\n",
       "    vertical-align: -0.25em;\n",
       "}\n",
       ".intl2 {\n",
       "    vertical-align: -0.5em;\n",
       "}\n",
       ".langg {\n",
       "    font-family: serif;\n",
       "    text-decoration: underline;\n",
       "}\n",
       ".vac1 {\n",
       "    background-color: #aaaaaa;\n",
       "    border 2pt solid #dd3333;\n",
       "    border-radius: 4pt;\n",
       "}\n",
       ".rem1 {\n",
       "    font-weight: bold;\n",
       "    color: red;\n",
       "    text-decoration: line-through;\n",
       "}\n",
       ".rem2 {\n",
       "    font-weight: bold;\n",
       "    color: maroon;\n",
       "    text-decoration: line-through;\n",
       "}\n",
       ".rec1 {\n",
       "    color: teal;\n",
       "    font-size: 80%;\n",
       "}\n",
       ".cor1 {\n",
       "    font-weight: bold;\n",
       "    color: dodgerblue;\n",
       "    text-decoration: overline;\n",
       "}\n",
       ".cor2 {\n",
       "    font-weight: bold;\n",
       "    color: navy;\n",
       "    text-decoration: overline;\n",
       "}\n",
       ".cor3 {\n",
       "    font-weight: bold;\n",
       "    color: navy;\n",
       "    text-decoration: overline;\n",
       "    vertical-align: super;\n",
       "}\n",
       ".alt1 {\n",
       "    text-decoration: overline;\n",
       "}\n",
       "\n",
       "/* UNSURE: italic*/\n",
       "\n",
       ".unc1 {\n",
       "    font-weight: bold;\n",
       "    color: #888888;\n",
       "}\n",
       ".unc2 {\n",
       "    font-weight: bold;\n",
       "    color: #bbbbbb;\n",
       "}\n",
       ".unc3 {\n",
       "    font-weight: bold;\n",
       "    color: #bbbbbb;\n",
       "    text-shadow: #cccccc 1px 1px;\n",
       "}\n",
       ".unc4 {\n",
       "    font-weight: bold;\n",
       "    color: #dddddd;\n",
       "    text-shadow: #eeeeee 2px 2px;\n",
       "}\n",
       "\n",
       ".empty {\n",
       "  color: #ff0000;\n",
       "}\n",
       "\n",
       "</style>"
      ],
      "text/plain": [
       "<IPython.core.display.HTML object>"
      ]
     },
     "metadata": {},
     "output_type": "display_data"
    },
    {
     "data": {
      "text/html": [
       "<div><b>Text-Fabric API:</b> names <a target=\"_blank\" href=\"https://annotation.github.io/text-fabric/cheatsheet.html\" title=\"doc\">N F E L T S C TF</a> directly usable</div><hr>"
      ],
      "text/plain": [
       "<IPython.core.display.HTML object>"
      ]
     },
     "metadata": {},
     "output_type": "display_data"
    }
   ],
   "source": [
    "# A = use('dss', hoist=globals())\n",
    "A = use(\"dss:clone\", checkout=\"clone\", hoist=globals())"
   ]
  },
  {
   "cell_type": "markdown",
   "metadata": {
    "lines_to_next_cell": 2
   },
   "source": [
    "# Making data\n",
    "\n",
    "We illustrate the data creation part by creating a new feature, `cert`.\n",
    "The idea is that we mark every consonant sign voor certainty.\n",
    "\n",
    "A certain consonant gets `cert=100`.\n",
    "\n",
    "If the consonant has the uncertain feature `unc`, then 10 times its value is subtracted from 100.\n",
    "\n",
    "If the consonant has the feature `rec`, it loses 45 points.\n",
    "\n",
    "Ancient removal `rem2` leads to minus 20, modern removal `rem` to minus 40.\n",
    "\n",
    "Ancient correction `cor2` leads to minus 12, modern correction `cor` to minus 18.\n",
    "\n",
    "Alternate marking `alt` leads to minus 25.\n",
    "\n",
    "The minimum is `1`.\n",
    "\n",
    "We extend the `cert` measure to words, fragments and scrolls by averaging over signs that\n",
    "have received a `cert` measure."
   ]
  },
  {
   "cell_type": "code",
   "execution_count": 4,
   "metadata": {},
   "outputs": [],
   "source": [
    "def measure(s):\n",
    "    c = 100\n",
    "    d = F.unc.v(s)\n",
    "    if d:\n",
    "        c -= 10 * d\n",
    "    d = F.rec.v(s)\n",
    "    if d:\n",
    "        c -= 45\n",
    "    d = F.rem.v(s)\n",
    "    if d == 1:\n",
    "        c -= 40\n",
    "    elif d == 2:\n",
    "        c -= 20\n",
    "    d = F.cor.v(s)\n",
    "    if d == 2 or d == 3:\n",
    "        c -= 12\n",
    "    elif d == 1:\n",
    "        c -= 18\n",
    "    d = F.alt.v(s)\n",
    "    if d:\n",
    "        c -= 25\n",
    "    if c < 1:\n",
    "        c = 1\n",
    "    return c"
   ]
  },
  {
   "cell_type": "code",
   "execution_count": 5,
   "metadata": {},
   "outputs": [
    {
     "name": "stdout",
     "output_type": "stream",
     "text": [
      "  5.49s 1625373 certainties determined\n"
     ]
    }
   ],
   "source": [
    "CONS = \"cons\"\n",
    "cert = {}\n",
    "\n",
    "A.indent(reset=True)\n",
    "\n",
    "for sc in F.otype.s(\"scroll\"):\n",
    "    fN = 0\n",
    "    fSum = 0\n",
    "    for f in L.d(sc, otype=\"fragment\"):\n",
    "        lN = 0\n",
    "        lSum = 0\n",
    "        for ln in L.d(f, otype=\"line\"):\n",
    "            wN = 0\n",
    "            wSum = 0\n",
    "            for w in L.d(ln, otype=\"word\"):\n",
    "                sN = 0\n",
    "                sSum = 0\n",
    "                for s in L.d(w, otype=\"sign\"):\n",
    "                    if F.type.v(s) != CONS:\n",
    "                        continue\n",
    "                    sCert = measure(s)\n",
    "                    cert[s] = sCert\n",
    "                    sN += 1\n",
    "                    sSum += sCert\n",
    "                if sN:\n",
    "                    wCert = int(round(sSum / sN))\n",
    "                    cert[w] = wCert\n",
    "                    wN += 1\n",
    "                    wSum += wCert\n",
    "            if wN:\n",
    "                lCert = int(round(wSum / wN))\n",
    "                cert[ln] = lCert\n",
    "                lN += 1\n",
    "                lSum += lCert\n",
    "        if lN:\n",
    "            fCert = int(round(lSum / lN))\n",
    "            cert[f] = fCert\n",
    "            fN += 1\n",
    "            fSum += fCert\n",
    "    if fN:\n",
    "        scCert = int(round(fSum / fN))\n",
    "        cert[sc] = scCert\n",
    "\n",
    "A.info(f\"{len(cert)} certainties determined\")"
   ]
  },
  {
   "cell_type": "markdown",
   "metadata": {},
   "source": [
    "# Saving data\n",
    "\n",
    "The [documentation](https://annotation.github.io/text-fabric/tf/core/fabric.html#tf.core.fabric.FabricCore.save) explains how to save this data into a text-fabric\n",
    "data file.\n",
    "\n",
    "We choose a location where to save it, the `exercises` folder in the `dss` repository in the `dss` organization.\n",
    "\n",
    "In order to do this, we restart the TF api, but now with the desired output location in the `locations` parameter."
   ]
  },
  {
   "cell_type": "code",
   "execution_count": 7,
   "metadata": {},
   "outputs": [],
   "source": [
    "GITHUB = os.path.expanduser(\"~/github\")\n",
    "ORG = \"etcbc\"\n",
    "REPO = \"dss\"\n",
    "PATH = \"exercises\"\n",
    "VERSION = A.version"
   ]
  },
  {
   "cell_type": "markdown",
   "metadata": {},
   "source": [
    "Note the version: we have built the version against a specific version of the data:"
   ]
  },
  {
   "cell_type": "code",
   "execution_count": 8,
   "metadata": {},
   "outputs": [
    {
     "data": {
      "text/plain": [
       "'0.6'"
      ]
     },
     "execution_count": 8,
     "metadata": {},
     "output_type": "execute_result"
    }
   ],
   "source": [
    "A.version"
   ]
  },
  {
   "cell_type": "markdown",
   "metadata": {},
   "source": [
    "Later on, we pass this version on, so that users of our data will get the shared data in exactly the same version as their core data."
   ]
  },
  {
   "cell_type": "markdown",
   "metadata": {},
   "source": [
    "We have to specify a bit of metadata for this feature:"
   ]
  },
  {
   "cell_type": "code",
   "execution_count": 9,
   "metadata": {},
   "outputs": [],
   "source": [
    "metaData = {\n",
    "    \"cert\": dict(\n",
    "        valueType=\"int\",\n",
    "        description=\"measure of certainty of material, between 1 and 100 (most certain)\",\n",
    "        creator=\"Dirk Roorda\",\n",
    "    ),\n",
    "}"
   ]
  },
  {
   "cell_type": "markdown",
   "metadata": {},
   "source": [
    "Now we can give the save command:"
   ]
  },
  {
   "cell_type": "code",
   "execution_count": 10,
   "metadata": {},
   "outputs": [
    {
     "name": "stdout",
     "output_type": "stream",
     "text": [
      "  0.00s Exporting 1 node and 0 edge and 0 config features to ~/github/etcbc/dss/exercises/tf/0.6:\n",
      "   |     2.14s T cert                 to ~/github/etcbc/dss/exercises/tf/0.6\n",
      "  2.14s Exported 1 node features and 0 edge features and 0 config features to ~/github/etcbc/dss/exercises/tf/0.6\n"
     ]
    },
    {
     "data": {
      "text/plain": [
       "True"
      ]
     },
     "execution_count": 10,
     "metadata": {},
     "output_type": "execute_result"
    }
   ],
   "source": [
    "TF.save(\n",
    "    nodeFeatures=dict(cert=cert),\n",
    "    metaData=metaData,\n",
    "    location=f\"{GITHUB}/{ORG}/{REPO}/{PATH}/tf\",\n",
    "    module=VERSION,\n",
    ")"
   ]
  },
  {
   "cell_type": "markdown",
   "metadata": {},
   "source": [
    "# Sharing data\n",
    "\n",
    "How to share your own data is explained in the\n",
    "[documentation](https://annotation.github.io/text-fabric/tf/about/datasharing.html).\n",
    "\n",
    "Here we show it step by step for the `cert` feature.\n",
    "\n",
    "If you commit your changes to the exercises repo, and have done a `git push origin master`,\n",
    "you already have shared your data!\n",
    "\n",
    "If you want to make a stable release, so that you can keep developing, while your users fall back\n",
    "on the stable data, you can make a new release.\n",
    "\n",
    "Go to the GitHub website for that, go to your repo, and click *Releases* and follow the nudges.\n",
    "\n",
    "If you want to make it even smoother for your users, you can zip the data and attach it as a binary to the release just created.\n",
    "\n",
    "We need to zip the data in exactly the right directory structure. Text-Fabric can do that for us:"
   ]
  },
  {
   "cell_type": "code",
   "execution_count": 11,
   "metadata": {},
   "outputs": [
    {
     "name": "stdout",
     "output_type": "stream",
     "text": [
      "True\n",
      "Create release data for etcbc/dss/exercises/tf\n",
      "Found 4 versions\n",
      "zip files end up in ~/Downloads/etcbc-release/dss\n",
      "zipping etcbc/dss                  0.3 with   1 features ==> exercises-tf-0.3.zip\n",
      "zipping etcbc/dss                  0.4 with   1 features ==> exercises-tf-0.4.zip\n",
      "zipping etcbc/dss                  0.5 with   1 features ==> exercises-tf-0.5.zip\n",
      "zipping etcbc/dss                  0.6 with   1 features ==> exercises-tf-0.6.zip\n"
     ]
    }
   ],
   "source": [
    "%%sh\n",
    "\n",
    "text-fabric-zip etcbc/dss/exercises/tf"
   ]
  },
  {
   "cell_type": "markdown",
   "metadata": {},
   "source": [
    "All versions have been zipped, but it works OK if you only attach the newest version to the newest release.\n",
    "\n",
    "If a user asks for an older version in this release, the system can still find it."
   ]
  },
  {
   "cell_type": "markdown",
   "metadata": {},
   "source": [
    "# Use the data\n",
    "\n",
    "We can use the data by calling it up when we say `use('dss', ...)`.\n",
    "\n",
    "Here is how:\n",
    "\n",
    "(use the line without `clone` if the data is really published,\n",
    "use the line with `clone` if you want to test your local copy of the feature)."
   ]
  },
  {
   "cell_type": "code",
   "execution_count": 12,
   "metadata": {},
   "outputs": [
    {
     "data": {
      "text/html": [
       "<b title=\"local github\">TF-app:</b> <span title=\"repo clone offline under ~/github\">~/github/annotation/app-dss/code</span>"
      ],
      "text/plain": [
       "<IPython.core.display.HTML object>"
      ]
     },
     "metadata": {},
     "output_type": "display_data"
    },
    {
     "data": {
      "text/html": [
       "<b title=\"local github\">data:</b> <span title=\"repo clone offline under ~/github\">~/github/etcbc/dss/tf/0.6</span>"
      ],
      "text/plain": [
       "<IPython.core.display.HTML object>"
      ]
     },
     "metadata": {},
     "output_type": "display_data"
    },
    {
     "data": {
      "text/html": [
       "<b title=\"local github\">data:</b> <span title=\"repo clone offline under ~/github\">~/github/etcbc/dss/parallels/tf/0.6</span>"
      ],
      "text/plain": [
       "<IPython.core.display.HTML object>"
      ]
     },
     "metadata": {},
     "output_type": "display_data"
    },
    {
     "data": {
      "text/html": [
       "<b title=\"local github\">data:</b> <span title=\"repo clone offline under ~/github\">~/github/etcbc/dss/exercises/tf/0.6</span>"
      ],
      "text/plain": [
       "<IPython.core.display.HTML object>"
      ]
     },
     "metadata": {},
     "output_type": "display_data"
    },
    {
     "name": "stdout",
     "output_type": "stream",
     "text": [
      "   |     2.45s T cert                 from ~/github/etcbc/dss/exercises/tf/0.6\n"
     ]
    },
    {
     "data": {
      "text/html": [
       "<b>Text-Fabric:</b> <a target=\"_blank\" href=\"https://annotation.github.io/text-fabric/cheatsheet.html\" title=\"text-fabric-api\">Text-Fabric API 8.3.0</a>, <a target=\"_blank\" href=\"https://github.com/annotation/app-dss\" title=\"dss TF-app\">app-dss</a>, <a target=\"_blank\" href=\"https://annotation.github.io/text-fabric/about/searchusage.html\" title=\"Search Templates Introduction and Reference\">Search Reference</a><br><b>Data:</b> <a target=\"_blank\" href=\"https://github.com/etcbc/dss/blob/master/docs/about.md\" title=\"provenance of Dead Sea Scrolls\">DSS</a>, <a target=\"_blank\" href=\"https://annotation.github.io/text-fabric/writing/hebrew.html\" title=\"How TF features represent text\">Character table</a>, <a target=\"_blank\" href=\"https://github.com/etcbc/dss/blob/master/docs\" title=\"DSS feature documentation\">Feature docs</a><br><b>Features:</b><br><details><summary><b>etcbc/dss/exercises/tf</b></summary><a target=\"_blank\" href=\"https://github.com/etcbc/dss/tree/master/exercises/tf\" title=\"~/github/etcbc/dss/exercises/tf/0.6/cert.tf\">cert</a><br></details><details><summary><b>Parallel Passages</b></summary><b><i><a target=\"_blank\" href=\"https://nbviewer.jupyter.org/github/etcbc/dss/blob/master/programs/parallels.ipynb\" title=\"~/github/etcbc/dss/parallels/tf/0.6/sim.tf\">sim</a></i></b><br></details><details><summary><b>Dead Sea Scrolls</b></summary><a target=\"_blank\" href=\"https://github.com/etcbc/dss/blob/master/docs\" title=\"~/github/etcbc/dss/tf/0.6/after.tf\">after</a><br><a target=\"_blank\" href=\"https://github.com/etcbc/dss/blob/master/docs\" title=\"~/github/etcbc/dss/tf/0.6/alt.tf\">alt</a><br><a target=\"_blank\" href=\"https://github.com/etcbc/dss/blob/master/docs\" title=\"~/github/etcbc/dss/tf/0.6/biblical.tf\">biblical</a><br><a target=\"_blank\" href=\"https://github.com/etcbc/dss/blob/master/docs\" title=\"~/github/etcbc/dss/tf/0.6/book.tf\">book</a><br><a target=\"_blank\" href=\"https://github.com/etcbc/dss/blob/master/docs\" title=\"~/github/etcbc/dss/tf/0.6/chapter.tf\">chapter</a><br><a target=\"_blank\" href=\"https://github.com/etcbc/dss/blob/master/docs\" title=\"~/github/etcbc/dss/tf/0.6/cl.tf\">cl</a><br><a target=\"_blank\" href=\"https://github.com/etcbc/dss/blob/master/docs\" title=\"~/github/etcbc/dss/tf/0.6/cl2.tf\">cl2</a><br><a target=\"_blank\" href=\"https://github.com/etcbc/dss/blob/master/docs\" title=\"~/github/etcbc/dss/tf/0.6/cor.tf\">cor</a><br><a target=\"_blank\" href=\"https://github.com/etcbc/dss/blob/master/docs\" title=\"~/github/etcbc/dss/tf/0.6/fragment.tf\">fragment</a><br><a target=\"_blank\" href=\"https://github.com/etcbc/dss/blob/master/docs\" title=\"~/github/etcbc/dss/tf/0.6/full.tf\">full</a><br><a target=\"_blank\" href=\"https://github.com/etcbc/dss/blob/master/docs\" title=\"~/github/etcbc/dss/tf/0.6/fulle.tf\">fulle</a><br><a target=\"_blank\" href=\"https://github.com/etcbc/dss/blob/master/docs\" title=\"~/github/etcbc/dss/tf/0.6/fullo.tf\">fullo</a><br><a target=\"_blank\" href=\"https://github.com/etcbc/dss/blob/master/docs\" title=\"~/github/etcbc/dss/tf/0.6/glex.tf\">glex</a><br><a target=\"_blank\" href=\"https://github.com/etcbc/dss/blob/master/docs\" title=\"~/github/etcbc/dss/tf/0.6/glexe.tf\">glexe</a><br><a target=\"_blank\" href=\"https://github.com/etcbc/dss/blob/master/docs\" title=\"~/github/etcbc/dss/tf/0.6/glexo.tf\">glexo</a><br><a target=\"_blank\" href=\"https://github.com/etcbc/dss/blob/master/docs\" title=\"~/github/etcbc/dss/tf/0.6/glyph.tf\">glyph</a><br><a target=\"_blank\" href=\"https://github.com/etcbc/dss/blob/master/docs\" title=\"~/github/etcbc/dss/tf/0.6/glyphe.tf\">glyphe</a><br><a target=\"_blank\" href=\"https://github.com/etcbc/dss/blob/master/docs\" title=\"~/github/etcbc/dss/tf/0.6/glypho.tf\">glypho</a><br><a target=\"_blank\" href=\"https://github.com/etcbc/dss/blob/master/docs\" title=\"~/github/etcbc/dss/tf/0.6/gn.tf\">gn</a><br><a target=\"_blank\" href=\"https://github.com/etcbc/dss/blob/master/docs\" title=\"~/github/etcbc/dss/tf/0.6/gn2.tf\">gn2</a><br><a target=\"_blank\" href=\"https://github.com/etcbc/dss/blob/master/docs\" title=\"~/github/etcbc/dss/tf/0.6/gn3.tf\">gn3</a><br><a target=\"_blank\" href=\"https://github.com/etcbc/dss/blob/master/docs\" title=\"~/github/etcbc/dss/tf/0.6/halfverse.tf\">halfverse</a><br><a target=\"_blank\" href=\"https://github.com/etcbc/dss/blob/master/docs\" title=\"~/github/etcbc/dss/tf/0.6/intl.tf\">intl</a><br><a target=\"_blank\" href=\"https://github.com/etcbc/dss/blob/master/docs\" title=\"~/github/etcbc/dss/tf/0.6/lang.tf\">lang</a><br><a target=\"_blank\" href=\"https://github.com/etcbc/dss/blob/master/docs\" title=\"~/github/etcbc/dss/tf/0.6/lex.tf\">lex</a><br><a target=\"_blank\" href=\"https://github.com/etcbc/dss/blob/master/docs\" title=\"~/github/etcbc/dss/tf/0.6/lexe.tf\">lexe</a><br><a target=\"_blank\" href=\"https://github.com/etcbc/dss/blob/master/docs\" title=\"~/github/etcbc/dss/tf/0.6/lexo.tf\">lexo</a><br><a target=\"_blank\" href=\"https://github.com/etcbc/dss/blob/master/docs\" title=\"~/github/etcbc/dss/tf/0.6/line.tf\">line</a><br><a target=\"_blank\" href=\"https://github.com/etcbc/dss/blob/master/docs\" title=\"~/github/etcbc/dss/tf/0.6/md.tf\">md</a><br><a target=\"_blank\" href=\"https://github.com/etcbc/dss/blob/master/docs\" title=\"~/github/etcbc/dss/tf/0.6/merr.tf\">merr</a><br><a target=\"_blank\" href=\"https://github.com/etcbc/dss/blob/master/docs\" title=\"~/github/etcbc/dss/tf/0.6/morpho.tf\">morpho</a><br><a target=\"_blank\" href=\"https://github.com/etcbc/dss/blob/master/docs\" title=\"~/github/etcbc/dss/tf/0.6/nu.tf\">nu</a><br><a target=\"_blank\" href=\"https://github.com/etcbc/dss/blob/master/docs\" title=\"~/github/etcbc/dss/tf/0.6/nu2.tf\">nu2</a><br><a target=\"_blank\" href=\"https://github.com/etcbc/dss/blob/master/docs\" title=\"~/github/etcbc/dss/tf/0.6/nu3.tf\">nu3</a><br><a target=\"_blank\" href=\"https://github.com/etcbc/dss/blob/master/docs\" title=\"~/github/etcbc/dss/tf/0.6/otype.tf\">otype</a><br><a target=\"_blank\" href=\"https://github.com/etcbc/dss/blob/master/docs\" title=\"~/github/etcbc/dss/tf/0.6/ps.tf\">ps</a><br><a target=\"_blank\" href=\"https://github.com/etcbc/dss/blob/master/docs\" title=\"~/github/etcbc/dss/tf/0.6/ps2.tf\">ps2</a><br><a target=\"_blank\" href=\"https://github.com/etcbc/dss/blob/master/docs\" title=\"~/github/etcbc/dss/tf/0.6/ps3.tf\">ps3</a><br><a target=\"_blank\" href=\"https://github.com/etcbc/dss/blob/master/docs\" title=\"~/github/etcbc/dss/tf/0.6/punc.tf\">punc</a><br><a target=\"_blank\" href=\"https://github.com/etcbc/dss/blob/master/docs\" title=\"~/github/etcbc/dss/tf/0.6/punce.tf\">punce</a><br><a target=\"_blank\" href=\"https://github.com/etcbc/dss/blob/master/docs\" title=\"~/github/etcbc/dss/tf/0.6/punco.tf\">punco</a><br><a target=\"_blank\" href=\"https://github.com/etcbc/dss/blob/master/docs\" title=\"~/github/etcbc/dss/tf/0.6/rec.tf\">rec</a><br><a target=\"_blank\" href=\"https://github.com/etcbc/dss/blob/master/docs\" title=\"~/github/etcbc/dss/tf/0.6/rem.tf\">rem</a><br><a target=\"_blank\" href=\"https://github.com/etcbc/dss/blob/master/docs\" title=\"~/github/etcbc/dss/tf/0.6/script.tf\">script</a><br><a target=\"_blank\" href=\"https://github.com/etcbc/dss/blob/master/docs\" title=\"~/github/etcbc/dss/tf/0.6/scroll.tf\">scroll</a><br><a target=\"_blank\" href=\"https://github.com/etcbc/dss/blob/master/docs\" title=\"~/github/etcbc/dss/tf/0.6/sp.tf\">sp</a><br><a target=\"_blank\" href=\"https://github.com/etcbc/dss/blob/master/docs\" title=\"~/github/etcbc/dss/tf/0.6/srcLn.tf\">srcLn</a><br><a target=\"_blank\" href=\"https://github.com/etcbc/dss/blob/master/docs\" title=\"~/github/etcbc/dss/tf/0.6/st.tf\">st</a><br><a target=\"_blank\" href=\"https://github.com/etcbc/dss/blob/master/docs\" title=\"~/github/etcbc/dss/tf/0.6/type.tf\">type</a><br><a target=\"_blank\" href=\"https://github.com/etcbc/dss/blob/master/docs\" title=\"~/github/etcbc/dss/tf/0.6/unc.tf\">unc</a><br><a target=\"_blank\" href=\"https://github.com/etcbc/dss/blob/master/docs\" title=\"~/github/etcbc/dss/tf/0.6/vac.tf\">vac</a><br><a target=\"_blank\" href=\"https://github.com/etcbc/dss/blob/master/docs\" title=\"~/github/etcbc/dss/tf/0.6/verse.tf\">verse</a><br><a target=\"_blank\" href=\"https://github.com/etcbc/dss/blob/master/docs\" title=\"~/github/etcbc/dss/tf/0.6/vs.tf\">vs</a><br><a target=\"_blank\" href=\"https://github.com/etcbc/dss/blob/master/docs\" title=\"~/github/etcbc/dss/tf/0.6/vt.tf\">vt</a><br><b><i><a target=\"_blank\" href=\"https://github.com/etcbc/dss/blob/master/docs\" title=\"~/github/etcbc/dss/tf/0.6/occ.tf\">occ</a></i></b><br><b><i><a target=\"_blank\" href=\"https://github.com/etcbc/dss/blob/master/docs\" title=\"~/github/etcbc/dss/tf/0.6/oslots.tf\">oslots</a></i></b><br></details>"
      ],
      "text/plain": [
       "<IPython.core.display.HTML object>"
      ]
     },
     "metadata": {},
     "output_type": "display_data"
    },
    {
     "data": {
      "text/html": [
       "<style>tr.tf.ltr, td.tf.ltr, th.tf.ltr { text-align: left ! important;}\n",
       "tr.tf.rtl, td.tf.rtl, th.tf.rtl { text-align: right ! important;}\n",
       "@font-face {\n",
       "  font-family: \"Ezra SIL\";\n",
       "  src: local('Ezra SIL'), local('EzraSIL'),\n",
       "    url('/server/static/fonts/SILEOT.woff') format('woff'),\n",
       "    url('https://github.com/annotation/text-fabric/blob/master/tf/server/static/fonts/SILEOT.woff?raw=true') format('woff');\n",
       "}\n",
       "\n",
       "@font-face {\n",
       "  font-family: \"SBL Hebrew\";\n",
       "  src: local('SBL Hebrew'), local('SBLHebrew'),\n",
       "    url('/server/static/fonts/SBL_Hbrw.woff') format('woff'),\n",
       "    url('https://github.com/annotation/text-fabric/blob/master/tf/server/static/fonts/SBL_Hbrw.woff?raw=true') format('woff');\n",
       "}\n",
       "\n",
       "@font-face {\n",
       "  font-family: \"Estrangelo Edessa\";\n",
       "  src: local('Estrangelo Edessa'), local('EstrangeloEdessa');\n",
       "    url('/server/static/fonts/SyrCOMEdessa.woff') format('woff'),\n",
       "    url('https://github.com/annotation/text-fabric/blob/master/tf/server/static/fonts/SyrCOMEdessa.woff?raw=true') format('woff');\n",
       "}\n",
       "\n",
       "@font-face {\n",
       "  font-family: AmiriQuran;\n",
       "  font-style: normal;\n",
       "  font-weight: 400;\n",
       "  src: local('Amiri Quran'), local('AmiriQuran'),\n",
       "    url('/server/static/fonts/AmiriQuran.woff') format('woff'),\n",
       "    url('https://github.com/annotation/text-fabric/blob/master/tf/server/static/fonts/AmiriQuran.woff?raw=true') format('woff');\n",
       "}\n",
       "\n",
       "@font-face {\n",
       "  font-family: AmiriQuranColored;\n",
       "  font-style: normal;\n",
       "  font-weight: 400;\n",
       "  src: local('Amiri Quran Colored'), local('AmiriQuranColored'),\n",
       "    url('/server/static/fonts/AmiriQuranColored.woff') format('woff'),\n",
       "    url('https://github.com/annotation/text-fabric/blob/master/tf/server/static/fonts/AmiriQuranColored.woff?raw=true') format('woff');\n",
       "}\n",
       "\n",
       "@font-face {\n",
       "  font-family: \"Santakku\";\n",
       "  src: local('Santakku'),\n",
       "    url('/server/static/fonts/Santakku.woff') format('woff'),\n",
       "    url('https://github.com/annotation/text-fabric/blob/master/tf/server/static/fonts/Santakku.woff?raw=true') format('woff');\n",
       "}\n",
       "\n",
       "@font-face {\n",
       "  font-family: \"SantakkuM\";\n",
       "  src: local('SantakkuM'),\n",
       "    url('/server/static/fonts/SantakkuM.woff') format('woff'),\n",
       "    url('https://github.com/annotation/text-fabric/blob/master/tf/server/static/fonts/SantakkuM.woff?raw=true') format('woff');\n",
       "}\n",
       "/* bypassing some classical notebook settings */\n",
       "div#notebook {\n",
       "  line-height: unset;\n",
       "}\n",
       "/* neutral text */\n",
       ".txtn,.txtn a:visited,.txtn a:link {\n",
       "    font-family: sans-serif;\n",
       "    font-size: medium;\n",
       "    direction: ltr;\n",
       "    text-decoration: none;\n",
       "    color: var(--text-color);\n",
       "}\n",
       "/* transcription text */\n",
       ".txtt,.txtt a:visited,.txtt a:link {\n",
       "    font-family: monospace;\n",
       "    font-size: medium;\n",
       "    direction: ltr;\n",
       "    text-decoration: none;\n",
       "    color: var(--text-color);\n",
       "}\n",
       "/* source text */\n",
       ".txto,.txto a:visited,.txto a:link {\n",
       "    font-family: serif;\n",
       "    font-size: medium;\n",
       "    direction: ltr;\n",
       "    text-decoration: none;\n",
       "    color: var(--text-color);\n",
       "}\n",
       "/* phonetic text */\n",
       ".txtp,.txtp a:visited,.txtp a:link {\n",
       "    font-family: Gentium, sans-serif;\n",
       "    font-size: medium;\n",
       "    direction: ltr;\n",
       "    text-decoration: none;\n",
       "    color: var(--text-color);\n",
       "}\n",
       "/* original script text */\n",
       ".txtu,.txtu a:visited,.txtu a:link {\n",
       "    font-family: Gentium, sans-serif;\n",
       "    font-size: medium;\n",
       "    text-decoration: none;\n",
       "    color: var(--text-color);\n",
       "}\n",
       "/* hebrew */\n",
       ".txtu.hbo,.lex.hbo {\n",
       "    font-family: \"Ezra SIL\", \"SBL Hebrew\", sans-serif;\n",
       "    font-size: large;\n",
       "    direction: rtl ! important;\n",
       "    unicode-bidi: embed;\n",
       "}\n",
       "/* syriac */\n",
       ".txtu.syc,.lex.syc {\n",
       "    font-family: \"Estrangelo Edessa\", sans-serif;\n",
       "    font-size: medium;\n",
       "    direction: rtl ! important;\n",
       "    unicode-bidi: embed;\n",
       "}\n",
       "/* neo aramaic */\n",
       ".txtu.cld,.lex.cld {\n",
       "    font-family: \"CharisSIL-R\", sans-serif;\n",
       "    font-size: medium;\n",
       "    direction: ltr ! important;\n",
       "    unicode-bidi: embed;\n",
       "}\n",
       "/* standard arabic */\n",
       ".txtu.ara,.lex.ara {\n",
       "    font-family: \"AmiriQuran\", sans-serif;\n",
       "    font-size: large;\n",
       "    direction: rtl ! important;\n",
       "    unicode-bidi: embed;\n",
       "}\n",
       "/* cuneiform */\n",
       ".txtu.akk,.lex.akk {\n",
       "    font-family: Santakku, sans-serif;\n",
       "    font-size: large;\n",
       "    direction: ltr ! important;\n",
       "    unicode-bidi: embed;\n",
       "}\n",
       "/* greek */\n",
       ".txtu.grc,.lex.grc a:link {\n",
       "    font-family: Gentium, sans-serif;\n",
       "    font-size: medium;\n",
       "    direction: ltr ! important;\n",
       "    unicode-bidi: embed;\n",
       "}\n",
       "a:hover {\n",
       "    text-decoration: underline | important;\n",
       "    color: #0000ff | important;\n",
       "}\n",
       ".ltr {\n",
       "    direction: ltr ! important;\n",
       "}\n",
       ".rtl {\n",
       "    direction: rtl ! important;\n",
       "}\n",
       ".features {\n",
       "    font-family: monospace;\n",
       "    font-size: medium;\n",
       "    font-weight: bold;\n",
       "    color: var(--features);\n",
       "    display: flex;\n",
       "    flex-flow: column nowrap;\n",
       "    justify-content: flex-start;\n",
       "    align-items: flex-start;\n",
       "    align-content: flex-start;\n",
       "    padding: 0.1rem;\n",
       "    margin: 0.1rem;\n",
       "    direction: ltr;\n",
       "    border: var(--meta-width) solid var(--meta-color);\n",
       "    border-radius: var(--meta-width);\n",
       "}\n",
       ".features div,.features span {\n",
       "    padding: 0;\n",
       "    margin: -0.1rem 0;\n",
       "}\n",
       ".features .f {\n",
       "    font-family: sans-serif;\n",
       "    font-size: small;\n",
       "    font-weight: normal;\n",
       "    color: #5555bb;\n",
       "}\n",
       ".features .xft {\n",
       "  color: #000000;\n",
       "  background-color: #eeeeee;\n",
       "  font-size: medium;\n",
       "  margin: 0.1rem 0rem;\n",
       "}\n",
       ".features .xft .f {\n",
       "  color: #000000;\n",
       "  background-color: #eeeeee;\n",
       "  font-size: small;\n",
       "  font-weight: normal;\n",
       "}\n",
       ".section {\n",
       "    font-family: sans-serif;\n",
       "    font-size: small;\n",
       "    font-weight: bold;\n",
       "    color: var(--section);\n",
       "    unicode-bidi: embed;\n",
       "    text-align: start;\n",
       "}\n",
       ".structure {\n",
       "    font-family: sans-serif;\n",
       "    font-size: small;\n",
       "    font-weight: bold;\n",
       "    color: var(--structure);\n",
       "    unicode-bidi: embed;\n",
       "    text-align: start;\n",
       "}\n",
       ".comments {\n",
       "    display: flex;\n",
       "    justify-content: flex-start;\n",
       "    align-items: flex-start;\n",
       "    align-content: flex-start;\n",
       "    flex-flow: column nowrap;\n",
       "}\n",
       ".nd, a:link.nd {\n",
       "    font-family: sans-serif;\n",
       "    font-size: small;\n",
       "    color: var(--node);\n",
       "    vertical-align: super;\n",
       "    direction: ltr ! important;\n",
       "    unicode-bidi: embed;\n",
       "}\n",
       ".lex {\n",
       "  color: var(--lex-color);;\n",
       "}\n",
       ".children,.children.ltr {\n",
       "    display: flex;\n",
       "    border: 0;\n",
       "    background-color: #ffffff;\n",
       "    justify-content: flex-start;\n",
       "    align-items: flex-start;\n",
       "    align-content: flex-start;\n",
       "}\n",
       ".children.stretch {\n",
       "    align-items: stretch;\n",
       "}\n",
       ".children.hor {\n",
       "    flex-flow: row nowrap;\n",
       "}\n",
       ".children.hor.wrap {\n",
       "    flex-flow: row wrap;\n",
       "}\n",
       ".children.ver {\n",
       "    flex-flow: column nowrap;\n",
       "}\n",
       ".children.ver.wrap {\n",
       "    flex-flow: column wrap;\n",
       "}\n",
       ".contnr {\n",
       "    width: fit-content;\n",
       "    display: flex;\n",
       "    justify-content: flex-start;\n",
       "    align-items: flex-start;\n",
       "    align-content: flex-start;\n",
       "    flex-flow: column nowrap;\n",
       "    background: #ffffff none repeat scroll 0 0;\n",
       "    padding:  0.5rem 0.1rem 0.1rem 0.1rem;\n",
       "    margin: 0.8rem 0.1rem 0.1rem 0.1rem;\n",
       "    border-style: solid;\n",
       "    font-size: small;\n",
       "}\n",
       ".contnr.trm {\n",
       "    background-attachment: local;\n",
       "}\n",
       ".contnr.cnul {\n",
       "    padding:  0;\n",
       "    margin: 0;\n",
       "    border-style: solid;\n",
       "    font-size: xx-small;\n",
       "}\n",
       ".contnr.cnul,.lbl.cnul {\n",
       "    border-color: var(--border-color-nul);\n",
       "    border-width: var(--border-width-nul);\n",
       "    border-radius: var(--border-width-nul);\n",
       "}\n",
       ".contnr.c0,.lbl.c0 {\n",
       "    border-color: var(--border-color0);\n",
       "    border-width: var(--border-width0);\n",
       "    border-radius: var(--border-width0);\n",
       "}\n",
       ".contnr.c1,.lbl.c1 {\n",
       "    border-color: var(--border-color1);\n",
       "    border-width: var(--border-width1);\n",
       "    border-radius: var(--border-width1);\n",
       "}\n",
       ".contnr.c2,.lbl.c2 {\n",
       "    border-color: var(--border-color2);\n",
       "    border-width: var(--border-width2);\n",
       "    border-radius: var(--border-width2);\n",
       "}\n",
       ".contnr.c3,.lbl.c3 {\n",
       "    border-color: var(--border-color3);\n",
       "    border-width: var(--border-width3);\n",
       "    border-radius: var(--border-width3);\n",
       "}\n",
       ".contnr.c4,.lbl.c4 {\n",
       "    border-color: var(--border-color4);\n",
       "    border-width: var(--border-width4);\n",
       "    border-radius: var(--border-width4);\n",
       "}\n",
       "span.plain {\n",
       "    display: inline-block;\n",
       "    white-space: pre-wrap;\n",
       "}\n",
       ".plain {\n",
       "    background-color: #ffffff;\n",
       "}\n",
       ".plain.l,.contnr.l,.contnr.l>.lbl {\n",
       "    border-left-style: dotted\n",
       "}\n",
       ".plain.r,.contnr.r,.contnr.r>.lbl {\n",
       "    border-right-style: dotted\n",
       "}\n",
       ".plain.lno,.contnr.lno,.contnr.lno>.lbl {\n",
       "    border-left-style: none\n",
       "}\n",
       ".plain.rno,.contnr.rno,.contnr.rno>.lbl {\n",
       "    border-right-style: none\n",
       "}\n",
       ".plain.l {\n",
       "    padding-left: 0.2rem;\n",
       "    margin-left: 0.1rem;\n",
       "    border-width: var(--border-width-plain);\n",
       "}\n",
       ".plain.r {\n",
       "    padding-right: 0.2rem;\n",
       "    margin-right: 0.1rem;\n",
       "    border-width: var(--border-width-plain);\n",
       "}\n",
       ".lbl {\n",
       "    font-family: monospace;\n",
       "    margin-top: -1.2rem;\n",
       "    margin-left: 1rem;\n",
       "    background: #ffffff none repeat scroll 0 0;\n",
       "    padding: 0 0.3rem;\n",
       "    border-style: solid;\n",
       "    display: block;\n",
       "    color: var(--label)\n",
       "}\n",
       ".lbl.trm {\n",
       "    background-attachment: local;\n",
       "    margin-top: 0.1rem;\n",
       "    margin-left: 0.1rem;\n",
       "    padding: 0.1rem 0.1rem;\n",
       "    border-style: none;\n",
       "}\n",
       ".lbl.cnul {\n",
       "    font-size: xx-small;\n",
       "}\n",
       ".lbl.c0 {\n",
       "    font-size: small;\n",
       "}\n",
       ".lbl.c1 {\n",
       "    font-size: small;\n",
       "}\n",
       ".lbl.c2 {\n",
       "    font-size: medium;\n",
       "}\n",
       ".lbl.c3 {\n",
       "    font-size: medium;\n",
       "}\n",
       ".lbl.c4 {\n",
       "    font-size: large;\n",
       "}\n",
       ".occs, a:link.occs {\n",
       "    font-size: small;\n",
       "}\n",
       "\n",
       "/* PROVENANCE */\n",
       "\n",
       "div.prov {\n",
       "\tmargin: 2rem;\n",
       "\tpadding: 1rem;\n",
       "\tborder: 0.1rem solid var(--fog-rim);\n",
       "}\n",
       "div.pline {\n",
       "\tdisplay: flex;\n",
       "\tflex-flow: row nowrap;\n",
       "\tjustify-content: stretch;\n",
       "\talign-items: baseline;\n",
       "}\n",
       "div.p2line {\n",
       "\tmargin-left: 2em;\n",
       "\tdisplay: flex;\n",
       "\tflex-flow: row nowrap;\n",
       "\tjustify-content: stretch;\n",
       "\talign-items: baseline;\n",
       "}\n",
       "div.psline {\n",
       "\tdisplay: flex;\n",
       "\tflex-flow: row nowrap;\n",
       "\tjustify-content: stretch;\n",
       "\talign-items: baseline;\n",
       "\tbackground-color: var(--gold-mist-back);\n",
       "}\n",
       "div.pname {\n",
       "\tflex: 0 0 5rem;\n",
       "\tfont-weight: bold;\n",
       "}\n",
       "div.pval {\n",
       "    flex: 1 1 auto;\n",
       "}\n",
       "\n",
       ":root {\n",
       "\t--node:               hsla(120, 100%,  20%, 1.0  );\n",
       "\t--label:              hsla(  0, 100%,  20%, 1.0  );\n",
       "\t--section:            hsla(  0, 100%,  25%, 1.0  );\n",
       "\t--structure:          hsla(120, 100%,  25%, 1.0  );\n",
       "\t--features:           hsla(  0,   0%,  30%, 1.0  );\n",
       "  --text-color:         hsla( 60,  80%,  10%, 1.0  );\n",
       "  --lex-color:          hsla(220,  90%,  60%, 1.0  );\n",
       "  --meta-color:         hsla(  0,   0%,  90%, 0.7  );\n",
       "  --meta-width:         0.15rem;\n",
       "  --border-color-nul:   hsla(  0,   0%,  90%, 0.5  );\n",
       "  --border-color0:      hsla(  0,   0%,  90%, 0.9  );\n",
       "  --border-color1:      hsla(  0,   0%,  80%, 0.9  );\n",
       "  --border-color2:      hsla(  0,   0%,  70%, 0.9  );\n",
       "  --border-color3:      hsla(  0,   0%,  80%, 0.8  );\n",
       "  --border-color4:      hsla(  0,   0%,  60%, 0.9  );\n",
       "  --border-width-nul:   0.1rem;\n",
       "  --border-width0:      0.1rem;\n",
       "  --border-width1:      0.15rem;\n",
       "  --border-width2:      0.2rem;\n",
       "  --border-width3:      0.3rem;\n",
       "  --border-width4:      0.25rem;\n",
       "  --border-width-plain: 0.1rem;\n",
       "}\n",
       ".hl {\n",
       "  background-color: var(--hl-strong);\n",
       "}\n",
       "span.hl {\n",
       "\tbackground-color: var(--hl-strong);\n",
       "\tborder-width: 0;\n",
       "\tborder-radius: 0.1rem;\n",
       "\tborder-style: solid;\n",
       "}\n",
       "div.contnr.hl,div.lbl.hl {\n",
       "  background-color: var(--hl-strong);\n",
       "}\n",
       "div.contnr.hl {\n",
       "  border-color: var(--hl-rim) ! important;\n",
       "\tborder-width: 0.2rem ! important;\n",
       "}\n",
       "\n",
       "span.hlbx {\n",
       "\tborder-color: var(--hl-rim);\n",
       "\tborder-width: 0.2rem ! important;\n",
       "\tborder-style: solid;\n",
       "\tborder-radius: 0.3rem;\n",
       "  padding: 0.2rem;\n",
       "  margin: 0.2rem;\n",
       "}\n",
       "\n",
       "span.plain {\n",
       "  display: inline-block;\n",
       "  white-space: pre-wrap;\n",
       "}\n",
       "\n",
       ":root {\n",
       "\t--hl-strong:        hsla( 60, 100%,  70%, 0.9  );\n",
       "\t--hl-rim:           hsla( 55,  80%,  50%, 1.0  );\n",
       "}\n",
       ".full,.glyph,.punc {\n",
       "    font-family: \"Ezra SIL\", \"SBL Hebrew\", sans-serif;\n",
       "}\n",
       ".scriptpaleohebrew {\n",
       "    border: 1px dashed navy;\n",
       "}\n",
       ".scriptgreekcapital {\n",
       "    border: 1px dashed brown;\n",
       "}\n",
       ".langa {\n",
       "    text-decoration: underline;\n",
       "}\n",
       ".intl1 {\n",
       "    vertical-align: -0.25em;\n",
       "}\n",
       ".intl2 {\n",
       "    vertical-align: -0.5em;\n",
       "}\n",
       ".langg {\n",
       "    font-family: serif;\n",
       "    text-decoration: underline;\n",
       "}\n",
       ".vac1 {\n",
       "    background-color: #aaaaaa;\n",
       "    border 2pt solid #dd3333;\n",
       "    border-radius: 4pt;\n",
       "}\n",
       ".rem1 {\n",
       "    font-weight: bold;\n",
       "    color: red;\n",
       "    text-decoration: line-through;\n",
       "}\n",
       ".rem2 {\n",
       "    font-weight: bold;\n",
       "    color: maroon;\n",
       "    text-decoration: line-through;\n",
       "}\n",
       ".rec1 {\n",
       "    color: teal;\n",
       "    font-size: 80%;\n",
       "}\n",
       ".cor1 {\n",
       "    font-weight: bold;\n",
       "    color: dodgerblue;\n",
       "    text-decoration: overline;\n",
       "}\n",
       ".cor2 {\n",
       "    font-weight: bold;\n",
       "    color: navy;\n",
       "    text-decoration: overline;\n",
       "}\n",
       ".cor3 {\n",
       "    font-weight: bold;\n",
       "    color: navy;\n",
       "    text-decoration: overline;\n",
       "    vertical-align: super;\n",
       "}\n",
       ".alt1 {\n",
       "    text-decoration: overline;\n",
       "}\n",
       "\n",
       "/* UNSURE: italic*/\n",
       "\n",
       ".unc1 {\n",
       "    font-weight: bold;\n",
       "    color: #888888;\n",
       "}\n",
       ".unc2 {\n",
       "    font-weight: bold;\n",
       "    color: #bbbbbb;\n",
       "}\n",
       ".unc3 {\n",
       "    font-weight: bold;\n",
       "    color: #bbbbbb;\n",
       "    text-shadow: #cccccc 1px 1px;\n",
       "}\n",
       ".unc4 {\n",
       "    font-weight: bold;\n",
       "    color: #dddddd;\n",
       "    text-shadow: #eeeeee 2px 2px;\n",
       "}\n",
       "\n",
       ".empty {\n",
       "  color: #ff0000;\n",
       "}\n",
       "\n",
       "</style>"
      ],
      "text/plain": [
       "<IPython.core.display.HTML object>"
      ]
     },
     "metadata": {},
     "output_type": "display_data"
    },
    {
     "data": {
      "text/html": [
       "<div><b>Text-Fabric API:</b> names <a target=\"_blank\" href=\"https://annotation.github.io/text-fabric/cheatsheet.html\" title=\"doc\">N F E L T S C TF</a> directly usable</div><hr>"
      ],
      "text/plain": [
       "<IPython.core.display.HTML object>"
      ]
     },
     "metadata": {},
     "output_type": "display_data"
    }
   ],
   "source": [
    "# A = use('dss', hoist=globals(), mod='etcbc/dss/exercises/tf')\n",
    "A = use(\n",
    "    \"dss:clone\", checkout=\"clone\", hoist=globals(), mod=\"etcbc/dss/exercises/tf:clone\"\n",
    ")"
   ]
  },
  {
   "cell_type": "markdown",
   "metadata": {},
   "source": [
    "Above you see a new section in the feature list: **etcbc/dss/exercises/tf** with our foreign feature in it: `cert`.\n",
    "\n",
    "Now, suppose did not know much about this feature, then we would like to do a few basic checks:"
   ]
  },
  {
   "cell_type": "code",
   "execution_count": 13,
   "metadata": {},
   "outputs": [
    {
     "data": {
      "text/plain": [
       "((100, 730507),\n",
       " (55, 667515),\n",
       " (60, 50110),\n",
       " (80, 38107),\n",
       " (70, 20927),\n",
       " (90, 18767),\n",
       " (88, 6423),\n",
       " (85, 4794),\n",
       " (78, 4499),\n",
       " (87, 4226),\n",
       " (95, 4070),\n",
       " (93, 3997),\n",
       " (92, 3529),\n",
       " (58, 3017),\n",
       " (82, 2839),\n",
       " (98, 2833),\n",
       " (72, 2655),\n",
       " (68, 2628),\n",
       " (89, 2562),\n",
       " (56, 2510),\n",
       " (65, 2496),\n",
       " (96, 2436),\n",
       " (57, 2358),\n",
       " (97, 2275),\n",
       " (62, 2117),\n",
       " (63, 2089),\n",
       " (66, 2076),\n",
       " (75, 2011),\n",
       " (73, 1943),\n",
       " (94, 1904),\n",
       " (83, 1818),\n",
       " (84, 1796),\n",
       " (91, 1766),\n",
       " (79, 1762),\n",
       " (61, 1759),\n",
       " (64, 1754),\n",
       " (86, 1694),\n",
       " (74, 1549),\n",
       " (59, 1479),\n",
       " (77, 1402),\n",
       " (43, 1401),\n",
       " (67, 1284),\n",
       " (81, 1272),\n",
       " (76, 1234),\n",
       " (69, 1193),\n",
       " (71, 1118),\n",
       " (99, 1068),\n",
       " (30, 566),\n",
       " (35, 352),\n",
       " (48, 230),\n",
       " (40, 133),\n",
       " (50, 106),\n",
       " (15, 100),\n",
       " (37, 67),\n",
       " (45, 49),\n",
       " (51, 29),\n",
       " (53, 23),\n",
       " (49, 22),\n",
       " (47, 18),\n",
       " (25, 17),\n",
       " (54, 14),\n",
       " (52, 12),\n",
       " (28, 11),\n",
       " (42, 11),\n",
       " (44, 9),\n",
       " (38, 8),\n",
       " (46, 7),\n",
       " (20, 6),\n",
       " (23, 3),\n",
       " (36, 3),\n",
       " (1, 1),\n",
       " (18, 1),\n",
       " (21, 1),\n",
       " (22, 1),\n",
       " (29, 1),\n",
       " (31, 1),\n",
       " (34, 1),\n",
       " (39, 1))"
      ]
     },
     "execution_count": 13,
     "metadata": {},
     "output_type": "execute_result"
    }
   ],
   "source": [
    "F.cert.freqList()"
   ]
  },
  {
   "cell_type": "markdown",
   "metadata": {},
   "source": [
    "Which nodes have the lowest uncertainty?"
   ]
  },
  {
   "cell_type": "code",
   "execution_count": 14,
   "metadata": {},
   "outputs": [
    {
     "data": {
      "text/plain": [
       "{'sign'}"
      ]
     },
     "execution_count": 14,
     "metadata": {},
     "output_type": "execute_result"
    }
   ],
   "source": [
    "{F.otype.v(n) for n in N.walk() if F.cert.v(n) and F.cert.v(n) < 10}"
   ]
  },
  {
   "cell_type": "markdown",
   "metadata": {},
   "source": [
    "Only signs are this uncertain.\n",
    "\n",
    "Let's look for pretty uncertain fragments:"
   ]
  },
  {
   "cell_type": "code",
   "execution_count": 15,
   "metadata": {},
   "outputs": [
    {
     "name": "stdout",
     "output_type": "stream",
     "text": [
      "  0.01s 0 results\n"
     ]
    }
   ],
   "source": [
    "results = A.search(\n",
    "    \"\"\"\n",
    "fragment cert<50\n",
    "\"\"\"\n",
    ")"
   ]
  },
  {
   "cell_type": "code",
   "execution_count": 16,
   "metadata": {},
   "outputs": [
    {
     "name": "stdout",
     "output_type": "stream",
     "text": [
      "  0.01s 380 results\n"
     ]
    }
   ],
   "source": [
    "results = A.search(\n",
    "    \"\"\"\n",
    "fragment cert<60\n",
    "\"\"\"\n",
    ")"
   ]
  },
  {
   "cell_type": "code",
   "execution_count": 17,
   "metadata": {},
   "outputs": [
    {
     "data": {
      "text/html": [
       "<table><tr class=\"tf rtl\"><th class=\"tf rtl\">n</th><th class=\"tf rtl\">p</th><th class=\"tf rtl\">fragment</th></tr>\n",
       "<tr class=\"tf rtl\"><td class=\"tf rtl\">1</td><td class=\"tf rtl\"><span class=\"section ltr\"><a target=\"_blank\" href=\"https://www.deadseascrolls.org.il/explore-the-archive/search#q='1QSb'\" title=\"Show this scroll in the Leon Levy library\" sec=\"1QSb f12\">1QSb f12</a></span></td><td class=\"tf rtl\"><div class=\"rtl\"><span class=\"txtu hbo rtl\"><span class=\"section\">1QSb f12</span></span></div></td></tr>\n",
       "<tr class=\"tf rtl\"><td class=\"tf rtl\">2</td><td class=\"tf rtl\"><span class=\"section ltr\"><a target=\"_blank\" href=\"https://www.deadseascrolls.org.il/explore-the-archive/search#q='1Q21'\" title=\"Show this scroll in the Leon Levy library\" sec=\"1Q21 f3\">1Q21 f3</a></span></td><td class=\"tf rtl\"><div class=\"rtl\"><span class=\"txtu hbo rtl\"><span class=\"section\">1Q21 f3</span></span></div></td></tr>\n",
       "<tr class=\"tf rtl\"><td class=\"tf rtl\">3</td><td class=\"tf rtl\"><span class=\"section ltr\"><a target=\"_blank\" href=\"https://www.deadseascrolls.org.il/explore-the-archive/search#q='2Q18'\" title=\"Show this scroll in the Leon Levy library\" sec=\"2Q18 f1\">2Q18 f1</a></span></td><td class=\"tf rtl\"><div class=\"rtl\"><span class=\"txtu hbo rtl\"><span class=\"section\">2Q18 f1</span></span></div></td></tr>\n",
       "<tr class=\"tf rtl\"><td class=\"tf rtl\">4</td><td class=\"tf rtl\"><span class=\"section ltr\"><a target=\"_blank\" href=\"https://www.deadseascrolls.org.il/explore-the-archive/search#q='2Q18'\" title=\"Show this scroll in the Leon Levy library\" sec=\"2Q18 f2\">2Q18 f2</a></span></td><td class=\"tf rtl\"><div class=\"rtl\"><span class=\"txtu hbo rtl\"><span class=\"section\">2Q18 f2</span></span></div></td></tr>\n",
       "<tr class=\"tf rtl\"><td class=\"tf rtl\">5</td><td class=\"tf rtl\"><span class=\"section ltr\"><a target=\"_blank\" href=\"https://www.deadseascrolls.org.il/explore-the-archive/search#q='2Q29'\" title=\"Show this scroll in the Leon Levy library\" sec=\"2Q29 f1\">2Q29 f1</a></span></td><td class=\"tf rtl\"><div class=\"rtl\"><span class=\"txtu hbo rtl\"><span class=\"section\">2Q29 f1</span></span></div></td></tr>\n",
       "<tr class=\"tf rtl\"><td class=\"tf rtl\">6</td><td class=\"tf rtl\"><span class=\"section ltr\"><a target=\"_blank\" href=\"https://www.deadseascrolls.org.il/explore-the-archive/search#q='4Q163'\" title=\"Show this scroll in the Leon Levy library\" sec=\"4Q163 f26\">4Q163 f26</a></span></td><td class=\"tf rtl\"><div class=\"rtl\"><span class=\"txtu hbo rtl\"><span class=\"section\">4Q163 f26</span></span></div></td></tr>\n",
       "<tr class=\"tf rtl\"><td class=\"tf rtl\">7</td><td class=\"tf rtl\"><span class=\"section ltr\"><a target=\"_blank\" href=\"https://www.deadseascrolls.org.il/explore-the-archive/search#q='4Q201'\" title=\"Show this scroll in the Leon Levy library\" sec=\"4Q201 f1vi\">4Q201 f1vi</a></span></td><td class=\"tf rtl\"><div class=\"rtl\"><span class=\"txtu hbo rtl\"><span class=\"section\">4Q201 f1vi</span></span></div></td></tr>\n",
       "<tr class=\"tf rtl\"><td class=\"tf rtl\">8</td><td class=\"tf rtl\"><span class=\"section ltr\"><a target=\"_blank\" href=\"https://www.deadseascrolls.org.il/explore-the-archive/search#q='4Q202'\" title=\"Show this scroll in the Leon Levy library\" sec=\"4Q202 f1vi\">4Q202 f1vi</a></span></td><td class=\"tf rtl\"><div class=\"rtl\"><span class=\"txtu hbo rtl\"><span class=\"section\">4Q202 f1vi</span></span></div></td></tr>\n",
       "<tr class=\"tf rtl\"><td class=\"tf rtl\">9</td><td class=\"tf rtl\"><span class=\"section ltr\"><a target=\"_blank\" href=\"https://www.deadseascrolls.org.il/explore-the-archive/search#q='4Q204'\" title=\"Show this scroll in the Leon Levy library\" sec=\"4Q204 f1vii\">4Q204 f1vii</a></span></td><td class=\"tf rtl\"><div class=\"rtl\"><span class=\"txtu hbo rtl\"><span class=\"section\">4Q204 f1vii</span></span></div></td></tr>\n",
       "<tr class=\"tf rtl\"><td class=\"tf rtl\">10</td><td class=\"tf rtl\"><span class=\"section ltr\"><a target=\"_blank\" href=\"https://www.deadseascrolls.org.il/explore-the-archive/search#q='4Q204'\" title=\"Show this scroll in the Leon Levy library\" sec=\"4Q204 f5i\">4Q204 f5i</a></span></td><td class=\"tf rtl\"><div class=\"rtl\"><span class=\"txtu hbo rtl\"><span class=\"section\">4Q204 f5i</span></span></div></td></tr>\n",
       "<tr class=\"tf rtl\"><td class=\"tf rtl\">11</td><td class=\"tf rtl\"><span class=\"section ltr\"><a target=\"_blank\" href=\"https://www.deadseascrolls.org.il/explore-the-archive/search#q='4Q205'\" title=\"Show this scroll in the Leon Levy library\" sec=\"4Q205 f1xii\">4Q205 f1xii</a></span></td><td class=\"tf rtl\"><div class=\"rtl\"><span class=\"txtu hbo rtl\"><span class=\"section\">4Q205 f1xii</span></span></div></td></tr>\n",
       "<tr class=\"tf rtl\"><td class=\"tf rtl\">12</td><td class=\"tf rtl\"><span class=\"section ltr\"><a target=\"_blank\" href=\"https://www.deadseascrolls.org.il/explore-the-archive/search#q='4Q221'\" title=\"Show this scroll in the Leon Levy library\" sec=\"4Q221 f3\">4Q221 f3</a></span></td><td class=\"tf rtl\"><div class=\"rtl\"><span class=\"txtu hbo rtl\"><span class=\"section\">4Q221 f3</span></span></div></td></tr>\n",
       "<tr class=\"tf rtl\"><td class=\"tf rtl\">13</td><td class=\"tf rtl\"><span class=\"section ltr\"><a target=\"_blank\" href=\"https://www.deadseascrolls.org.il/explore-the-archive/search#q='4Q249b'\" title=\"Show this scroll in the Leon Levy library\" sec=\"4Q249b f1\">4Q249b f1</a></span></td><td class=\"tf rtl\"><div class=\"rtl\"><span class=\"txtu hbo rtl\"><span class=\"section\">4Q249b f1</span></span></div></td></tr>\n",
       "<tr class=\"tf rtl\"><td class=\"tf rtl\">14</td><td class=\"tf rtl\"><span class=\"section ltr\"><a target=\"_blank\" href=\"https://www.deadseascrolls.org.il/explore-the-archive/search#q='4Q249c'\" title=\"Show this scroll in the Leon Levy library\" sec=\"4Q249c f1\">4Q249c f1</a></span></td><td class=\"tf rtl\"><div class=\"rtl\"><span class=\"txtu hbo rtl\"><span class=\"section\">4Q249c f1</span></span></div></td></tr>\n",
       "<tr class=\"tf rtl\"><td class=\"tf rtl\">15</td><td class=\"tf rtl\"><span class=\"section ltr\"><a target=\"_blank\" href=\"https://www.deadseascrolls.org.il/explore-the-archive/search#q='4Q249d'\" title=\"Show this scroll in the Leon Levy library\" sec=\"4Q249d f1\">4Q249d f1</a></span></td><td class=\"tf rtl\"><div class=\"rtl\"><span class=\"txtu hbo rtl\"><span class=\"section\">4Q249d f1</span></span></div></td></tr>\n",
       "<tr class=\"tf rtl\"><td class=\"tf rtl\">16</td><td class=\"tf rtl\"><span class=\"section ltr\"><a target=\"_blank\" href=\"https://www.deadseascrolls.org.il/explore-the-archive/search#q='4Q249f'\" title=\"Show this scroll in the Leon Levy library\" sec=\"4Q249f f1_3\">4Q249f f1_3</a></span></td><td class=\"tf rtl\"><div class=\"rtl\"><span class=\"txtu hbo rtl\"><span class=\"section\">4Q249f f1_3</span></span></div></td></tr>\n",
       "<tr class=\"tf rtl\"><td class=\"tf rtl\">17</td><td class=\"tf rtl\"><span class=\"section ltr\"><a target=\"_blank\" href=\"https://www.deadseascrolls.org.il/explore-the-archive/search#q='4Q249g'\" title=\"Show this scroll in the Leon Levy library\" sec=\"4Q249g f1_2\">4Q249g f1_2</a></span></td><td class=\"tf rtl\"><div class=\"rtl\"><span class=\"txtu hbo rtl\"><span class=\"section\">4Q249g f1_2</span></span></div></td></tr>\n",
       "<tr class=\"tf rtl\"><td class=\"tf rtl\">18</td><td class=\"tf rtl\"><span class=\"section ltr\"><a target=\"_blank\" href=\"https://www.deadseascrolls.org.il/explore-the-archive/search#q='4Q249g'\" title=\"Show this scroll in the Leon Levy library\" sec=\"4Q249g f3_7\">4Q249g f3_7</a></span></td><td class=\"tf rtl\"><div class=\"rtl\"><span class=\"txtu hbo rtl\"><span class=\"section\">4Q249g f3_7</span></span></div></td></tr>\n",
       "<tr class=\"tf rtl\"><td class=\"tf rtl\">19</td><td class=\"tf rtl\"><span class=\"section ltr\"><a target=\"_blank\" href=\"https://www.deadseascrolls.org.il/explore-the-archive/search#q='4Q249h'\" title=\"Show this scroll in the Leon Levy library\" sec=\"4Q249h f1_2\">4Q249h f1_2</a></span></td><td class=\"tf rtl\"><div class=\"rtl\"><span class=\"txtu hbo rtl\"><span class=\"section\">4Q249h f1_2</span></span></div></td></tr>\n",
       "<tr class=\"tf rtl\"><td class=\"tf rtl\">20</td><td class=\"tf rtl\"><span class=\"section ltr\"><a target=\"_blank\" href=\"https://www.deadseascrolls.org.il/explore-the-archive/search#q='4Q249i'\" title=\"Show this scroll in the Leon Levy library\" sec=\"4Q249i f1\">4Q249i f1</a></span></td><td class=\"tf rtl\"><div class=\"rtl\"><span class=\"txtu hbo rtl\"><span class=\"section\">4Q249i f1</span></span></div></td></tr></table>"
      ],
      "text/plain": [
       "<IPython.core.display.HTML object>"
      ]
     },
     "metadata": {},
     "output_type": "display_data"
    }
   ],
   "source": [
    "A.table(results, start=1, end=20)"
   ]
  },
  {
   "cell_type": "markdown",
   "metadata": {},
   "source": [
    "Same for scrolls:"
   ]
  },
  {
   "cell_type": "code",
   "execution_count": 18,
   "metadata": {},
   "outputs": [
    {
     "name": "stdout",
     "output_type": "stream",
     "text": [
      "  0.00s 0 results\n"
     ]
    }
   ],
   "source": [
    "results = A.search(\n",
    "    \"\"\"\n",
    "scroll cert<50\n",
    "\"\"\"\n",
    ")"
   ]
  },
  {
   "cell_type": "code",
   "execution_count": 19,
   "metadata": {},
   "outputs": [
    {
     "name": "stdout",
     "output_type": "stream",
     "text": [
      "  0.00s 27 results\n"
     ]
    }
   ],
   "source": [
    "results = A.search(\n",
    "    \"\"\"\n",
    "scroll cert<60\n",
    "\"\"\"\n",
    ")"
   ]
  },
  {
   "cell_type": "code",
   "execution_count": 20,
   "metadata": {},
   "outputs": [
    {
     "data": {
      "text/html": [
       "<p><b>result</b> <i>1</i></p>"
      ],
      "text/plain": [
       "<IPython.core.display.HTML object>"
      ]
     },
     "metadata": {},
     "output_type": "display_data"
    },
    {
     "data": {
      "text/html": [
       "<div class=\"section rtl\"><a target=\"_blank\" href=\"https://www.deadseascrolls.org.il/explore-the-archive/search#q='2Q18'\" title=\"Show this scroll in the Leon Levy library\" sec=\"2Q18\">2Q18</a></div><div class=\"rtl children\"><div class=\"contnr c4 trm rtl  \" ><div class=\"lbl c4 trm \" ><span class=\"nd\">scroll</span> <span class=\"txtu hbo\"><span class=\"section\">2Q18</span></span></div><div class='features'><span class=\"cert xft\" ><span class=\"f\">cert=</span>58</span></div></div></div>"
      ],
      "text/plain": [
       "<IPython.core.display.HTML object>"
      ]
     },
     "metadata": {},
     "output_type": "display_data"
    },
    {
     "data": {
      "text/html": [
       "<p><b>result</b> <i>2</i></p>"
      ],
      "text/plain": [
       "<IPython.core.display.HTML object>"
      ]
     },
     "metadata": {},
     "output_type": "display_data"
    },
    {
     "data": {
      "text/html": [
       "<div class=\"section rtl\"><a target=\"_blank\" href=\"https://www.deadseascrolls.org.il/explore-the-archive/search#q='4Q249b'\" title=\"Show this scroll in the Leon Levy library\" sec=\"4Q249b\">4Q249b</a></div><div class=\"rtl children\"><div class=\"contnr c4 trm rtl  \" ><div class=\"lbl c4 trm \" ><span class=\"nd\">scroll</span> <span class=\"txtu hbo\"><span class=\"section\">4Q249b</span></span></div><div class='features'><span class=\"cert xft\" ><span class=\"f\">cert=</span>59</span></div></div></div>"
      ],
      "text/plain": [
       "<IPython.core.display.HTML object>"
      ]
     },
     "metadata": {},
     "output_type": "display_data"
    },
    {
     "data": {
      "text/html": [
       "<p><b>result</b> <i>3</i></p>"
      ],
      "text/plain": [
       "<IPython.core.display.HTML object>"
      ]
     },
     "metadata": {},
     "output_type": "display_data"
    },
    {
     "data": {
      "text/html": [
       "<div class=\"section rtl\"><a target=\"_blank\" href=\"https://www.deadseascrolls.org.il/explore-the-archive/search#q='4Q249c'\" title=\"Show this scroll in the Leon Levy library\" sec=\"4Q249c\">4Q249c</a></div><div class=\"rtl children\"><div class=\"contnr c4 trm rtl  \" ><div class=\"lbl c4 trm \" ><span class=\"nd\">scroll</span> <span class=\"txtu hbo\"><span class=\"section\">4Q249c</span></span></div><div class='features'><span class=\"cert xft\" ><span class=\"f\">cert=</span>57</span></div></div></div>"
      ],
      "text/plain": [
       "<IPython.core.display.HTML object>"
      ]
     },
     "metadata": {},
     "output_type": "display_data"
    },
    {
     "data": {
      "text/html": [
       "<p><b>result</b> <i>4</i></p>"
      ],
      "text/plain": [
       "<IPython.core.display.HTML object>"
      ]
     },
     "metadata": {},
     "output_type": "display_data"
    },
    {
     "data": {
      "text/html": [
       "<div class=\"section rtl\"><a target=\"_blank\" href=\"https://www.deadseascrolls.org.il/explore-the-archive/search#q='4Q249d'\" title=\"Show this scroll in the Leon Levy library\" sec=\"4Q249d\">4Q249d</a></div><div class=\"rtl children\"><div class=\"contnr c4 trm rtl  \" ><div class=\"lbl c4 trm \" ><span class=\"nd\">scroll</span> <span class=\"txtu hbo\"><span class=\"section\">4Q249d</span></span></div><div class='features'><span class=\"cert xft\" ><span class=\"f\">cert=</span>57</span></div></div></div>"
      ],
      "text/plain": [
       "<IPython.core.display.HTML object>"
      ]
     },
     "metadata": {},
     "output_type": "display_data"
    },
    {
     "data": {
      "text/html": [
       "<p><b>result</b> <i>5</i></p>"
      ],
      "text/plain": [
       "<IPython.core.display.HTML object>"
      ]
     },
     "metadata": {},
     "output_type": "display_data"
    },
    {
     "data": {
      "text/html": [
       "<div class=\"section rtl\"><a target=\"_blank\" href=\"https://www.deadseascrolls.org.il/explore-the-archive/search#q='4Q249f'\" title=\"Show this scroll in the Leon Levy library\" sec=\"4Q249f\">4Q249f</a></div><div class=\"rtl children\"><div class=\"contnr c4 trm rtl  \" ><div class=\"lbl c4 trm \" ><span class=\"nd\">scroll</span> <span class=\"txtu hbo\"><span class=\"section\">4Q249f</span></span></div><div class='features'><span class=\"cert xft\" ><span class=\"f\">cert=</span>58</span></div></div></div>"
      ],
      "text/plain": [
       "<IPython.core.display.HTML object>"
      ]
     },
     "metadata": {},
     "output_type": "display_data"
    },
    {
     "data": {
      "text/html": [
       "<p><b>result</b> <i>6</i></p>"
      ],
      "text/plain": [
       "<IPython.core.display.HTML object>"
      ]
     },
     "metadata": {},
     "output_type": "display_data"
    },
    {
     "data": {
      "text/html": [
       "<div class=\"section rtl\"><a target=\"_blank\" href=\"https://www.deadseascrolls.org.il/explore-the-archive/search#q='4Q249g'\" title=\"Show this scroll in the Leon Levy library\" sec=\"4Q249g\">4Q249g</a></div><div class=\"rtl children\"><div class=\"contnr c4 trm rtl  \" ><div class=\"lbl c4 trm \" ><span class=\"nd\">scroll</span> <span class=\"txtu hbo\"><span class=\"section\">4Q249g</span></span></div><div class='features'><span class=\"cert xft\" ><span class=\"f\">cert=</span>58</span></div></div></div>"
      ],
      "text/plain": [
       "<IPython.core.display.HTML object>"
      ]
     },
     "metadata": {},
     "output_type": "display_data"
    },
    {
     "data": {
      "text/html": [
       "<p><b>result</b> <i>7</i></p>"
      ],
      "text/plain": [
       "<IPython.core.display.HTML object>"
      ]
     },
     "metadata": {},
     "output_type": "display_data"
    },
    {
     "data": {
      "text/html": [
       "<div class=\"section rtl\"><a target=\"_blank\" href=\"https://www.deadseascrolls.org.il/explore-the-archive/search#q='4Q249h'\" title=\"Show this scroll in the Leon Levy library\" sec=\"4Q249h\">4Q249h</a></div><div class=\"rtl children\"><div class=\"contnr c4 trm rtl  \" ><div class=\"lbl c4 trm \" ><span class=\"nd\">scroll</span> <span class=\"txtu hbo\"><span class=\"section\">4Q249h</span></span></div><div class='features'><span class=\"cert xft\" ><span class=\"f\">cert=</span>59</span></div></div></div>"
      ],
      "text/plain": [
       "<IPython.core.display.HTML object>"
      ]
     },
     "metadata": {},
     "output_type": "display_data"
    },
    {
     "data": {
      "text/html": [
       "<p><b>result</b> <i>8</i></p>"
      ],
      "text/plain": [
       "<IPython.core.display.HTML object>"
      ]
     },
     "metadata": {},
     "output_type": "display_data"
    },
    {
     "data": {
      "text/html": [
       "<div class=\"section rtl\"><a target=\"_blank\" href=\"https://www.deadseascrolls.org.il/explore-the-archive/search#q='4Q249j'\" title=\"Show this scroll in the Leon Levy library\" sec=\"4Q249j\">4Q249j</a></div><div class=\"rtl children\"><div class=\"contnr c4 trm rtl  \" ><div class=\"lbl c4 trm \" ><span class=\"nd\">scroll</span> <span class=\"txtu hbo\"><span class=\"section\">4Q249j</span></span></div><div class='features'><span class=\"cert xft\" ><span class=\"f\">cert=</span>58</span></div></div></div>"
      ],
      "text/plain": [
       "<IPython.core.display.HTML object>"
      ]
     },
     "metadata": {},
     "output_type": "display_data"
    },
    {
     "data": {
      "text/html": [
       "<p><b>result</b> <i>9</i></p>"
      ],
      "text/plain": [
       "<IPython.core.display.HTML object>"
      ]
     },
     "metadata": {},
     "output_type": "display_data"
    },
    {
     "data": {
      "text/html": [
       "<div class=\"section rtl\"><a target=\"_blank\" href=\"https://www.deadseascrolls.org.il/explore-the-archive/search#q='4Q483'\" title=\"Show this scroll in the Leon Levy library\" sec=\"4Q483\">4Q483</a></div><div class=\"rtl children\"><div class=\"contnr c4 trm rtl  \" ><div class=\"lbl c4 trm \" ><span class=\"nd\">scroll</span> <span class=\"txtu hbo\"><span class=\"section\">4Q483</span></span></div><div class='features'><span class=\"cert xft\" ><span class=\"f\">cert=</span>58</span></div></div></div>"
      ],
      "text/plain": [
       "<IPython.core.display.HTML object>"
      ]
     },
     "metadata": {},
     "output_type": "display_data"
    },
    {
     "data": {
      "text/html": [
       "<p><b>result</b> <i>10</i></p>"
      ],
      "text/plain": [
       "<IPython.core.display.HTML object>"
      ]
     },
     "metadata": {},
     "output_type": "display_data"
    },
    {
     "data": {
      "text/html": [
       "<div class=\"section rtl\"><a target=\"_blank\" href=\"https://www.deadseascrolls.org.il/explore-the-archive/search#q='2Q4'\" title=\"Show this scroll in the Leon Levy library\" sec=\"2Q4\">2Q4</a></div><div class=\"rtl children\"><div class=\"contnr c4 trm rtl  \" ><div class=\"lbl c4 trm \" ><span class=\"nd\">scroll</span> <span class=\"txtu hbo\"><span class=\"section\">2Q4</span></span></div><div class='features'><span class=\"cert xft\" ><span class=\"f\">cert=</span>58</span></div></div></div>"
      ],
      "text/plain": [
       "<IPython.core.display.HTML object>"
      ]
     },
     "metadata": {},
     "output_type": "display_data"
    },
    {
     "data": {
      "text/html": [
       "<p><b>result</b> <i>11</i></p>"
      ],
      "text/plain": [
       "<IPython.core.display.HTML object>"
      ]
     },
     "metadata": {},
     "output_type": "display_data"
    },
    {
     "data": {
      "text/html": [
       "<div class=\"section rtl\"><a target=\"_blank\" href=\"https://www.deadseascrolls.org.il/explore-the-archive/search#q='2Q9'\" title=\"Show this scroll in the Leon Levy library\" sec=\"2Q9\">2Q9</a></div><div class=\"rtl children\"><div class=\"contnr c4 trm rtl  \" ><div class=\"lbl c4 trm \" ><span class=\"nd\">scroll</span> <span class=\"txtu hbo\"><span class=\"section\">2Q9</span></span></div><div class='features'><span class=\"cert xft\" ><span class=\"f\">cert=</span>59</span></div></div></div>"
      ],
      "text/plain": [
       "<IPython.core.display.HTML object>"
      ]
     },
     "metadata": {},
     "output_type": "display_data"
    },
    {
     "data": {
      "text/html": [
       "<p><b>result</b> <i>12</i></p>"
      ],
      "text/plain": [
       "<IPython.core.display.HTML object>"
      ]
     },
     "metadata": {},
     "output_type": "display_data"
    },
    {
     "data": {
      "text/html": [
       "<div class=\"section rtl\"><a target=\"_blank\" href=\"https://www.deadseascrolls.org.il/explore-the-archive/search#q='2Q10'\" title=\"Show this scroll in the Leon Levy library\" sec=\"2Q10\">2Q10</a></div><div class=\"rtl children\"><div class=\"contnr c4 trm rtl  \" ><div class=\"lbl c4 trm \" ><span class=\"nd\">scroll</span> <span class=\"txtu hbo\"><span class=\"section\">2Q10</span></span></div><div class='features'><span class=\"cert xft\" ><span class=\"f\">cert=</span>59</span></div></div></div>"
      ],
      "text/plain": [
       "<IPython.core.display.HTML object>"
      ]
     },
     "metadata": {},
     "output_type": "display_data"
    },
    {
     "data": {
      "text/html": [
       "<p><b>result</b> <i>13</i></p>"
      ],
      "text/plain": [
       "<IPython.core.display.HTML object>"
      ]
     },
     "metadata": {},
     "output_type": "display_data"
    },
    {
     "data": {
      "text/html": [
       "<div class=\"section rtl\"><a target=\"_blank\" href=\"https://www.deadseascrolls.org.il/explore-the-archive/search#q='2Q11'\" title=\"Show this scroll in the Leon Levy library\" sec=\"2Q11\">2Q11</a></div><div class=\"rtl children\"><div class=\"contnr c4 trm rtl  \" ><div class=\"lbl c4 trm \" ><span class=\"nd\">scroll</span> <span class=\"txtu hbo\"><span class=\"section\">2Q11</span></span></div><div class='features'><span class=\"cert xft\" ><span class=\"f\">cert=</span>58</span></div></div></div>"
      ],
      "text/plain": [
       "<IPython.core.display.HTML object>"
      ]
     },
     "metadata": {},
     "output_type": "display_data"
    },
    {
     "data": {
      "text/html": [
       "<p><b>result</b> <i>14</i></p>"
      ],
      "text/plain": [
       "<IPython.core.display.HTML object>"
      ]
     },
     "metadata": {},
     "output_type": "display_data"
    },
    {
     "data": {
      "text/html": [
       "<div class=\"section rtl\"><a target=\"_blank\" href=\"https://www.deadseascrolls.org.il/explore-the-archive/search#q='3Q1'\" title=\"Show this scroll in the Leon Levy library\" sec=\"3Q1\">3Q1</a></div><div class=\"rtl children\"><div class=\"contnr c4 trm rtl  \" ><div class=\"lbl c4 trm \" ><span class=\"nd\">scroll</span> <span class=\"txtu hbo\"><span class=\"section\">3Q1</span></span></div><div class='features'><span class=\"cert xft\" ><span class=\"f\">cert=</span>59</span></div></div></div>"
      ],
      "text/plain": [
       "<IPython.core.display.HTML object>"
      ]
     },
     "metadata": {},
     "output_type": "display_data"
    },
    {
     "data": {
      "text/html": [
       "<p><b>result</b> <i>15</i></p>"
      ],
      "text/plain": [
       "<IPython.core.display.HTML object>"
      ]
     },
     "metadata": {},
     "output_type": "display_data"
    },
    {
     "data": {
      "text/html": [
       "<div class=\"section rtl\"><a target=\"_blank\" href=\"https://www.deadseascrolls.org.il/explore-the-archive/search#q='3Q3'\" title=\"Show this scroll in the Leon Levy library\" sec=\"3Q3\">3Q3</a></div><div class=\"rtl children\"><div class=\"contnr c4 trm rtl  \" ><div class=\"lbl c4 trm \" ><span class=\"nd\">scroll</span> <span class=\"txtu hbo\"><span class=\"section\">3Q3</span></span></div><div class='features'><span class=\"cert xft\" ><span class=\"f\">cert=</span>58</span></div></div></div>"
      ],
      "text/plain": [
       "<IPython.core.display.HTML object>"
      ]
     },
     "metadata": {},
     "output_type": "display_data"
    },
    {
     "data": {
      "text/html": [
       "<p><b>result</b> <i>16</i></p>"
      ],
      "text/plain": [
       "<IPython.core.display.HTML object>"
      ]
     },
     "metadata": {},
     "output_type": "display_data"
    },
    {
     "data": {
      "text/html": [
       "<div class=\"section rtl\"><a target=\"_blank\" href=\"https://www.deadseascrolls.org.il/explore-the-archive/search#q='4Q8b'\" title=\"Show this scroll in the Leon Levy library\" sec=\"4Q8b\">4Q8b</a></div><div class=\"rtl children\"><div class=\"contnr c4 trm rtl  \" ><div class=\"lbl c4 trm \" ><span class=\"nd\">scroll</span> <span class=\"txtu hbo\"><span class=\"section\">4Q8b</span></span></div><div class='features'><span class=\"cert xft\" ><span class=\"f\">cert=</span>59</span></div></div></div>"
      ],
      "text/plain": [
       "<IPython.core.display.HTML object>"
      ]
     },
     "metadata": {},
     "output_type": "display_data"
    },
    {
     "data": {
      "text/html": [
       "<p><b>result</b> <i>17</i></p>"
      ],
      "text/plain": [
       "<IPython.core.display.HTML object>"
      ]
     },
     "metadata": {},
     "output_type": "display_data"
    },
    {
     "data": {
      "text/html": [
       "<div class=\"section rtl\"><a target=\"_blank\" href=\"https://www.deadseascrolls.org.il/explore-the-archive/search#q='4Q69a'\" title=\"Show this scroll in the Leon Levy library\" sec=\"4Q69a\">4Q69a</a></div><div class=\"rtl children\"><div class=\"contnr c4 trm rtl  \" ><div class=\"lbl c4 trm \" ><span class=\"nd\">scroll</span> <span class=\"txtu hbo\"><span class=\"section\">4Q69a</span></span></div><div class='features'><span class=\"cert xft\" ><span class=\"f\">cert=</span>59</span></div></div></div>"
      ],
      "text/plain": [
       "<IPython.core.display.HTML object>"
      ]
     },
     "metadata": {},
     "output_type": "display_data"
    },
    {
     "data": {
      "text/html": [
       "<p><b>result</b> <i>18</i></p>"
      ],
      "text/plain": [
       "<IPython.core.display.HTML object>"
      ]
     },
     "metadata": {},
     "output_type": "display_data"
    },
    {
     "data": {
      "text/html": [
       "<div class=\"section rtl\"><a target=\"_blank\" href=\"https://www.deadseascrolls.org.il/explore-the-archive/search#q='4Q71'\" title=\"Show this scroll in the Leon Levy library\" sec=\"4Q71\">4Q71</a></div><div class=\"rtl children\"><div class=\"contnr c4 trm rtl  \" ><div class=\"lbl c4 trm \" ><span class=\"nd\">scroll</span> <span class=\"txtu hbo\"><span class=\"section\">4Q71</span></span></div><div class='features'><span class=\"cert xft\" ><span class=\"f\">cert=</span>59</span></div></div></div>"
      ],
      "text/plain": [
       "<IPython.core.display.HTML object>"
      ]
     },
     "metadata": {},
     "output_type": "display_data"
    },
    {
     "data": {
      "text/html": [
       "<p><b>result</b> <i>19</i></p>"
      ],
      "text/plain": [
       "<IPython.core.display.HTML object>"
      ]
     },
     "metadata": {},
     "output_type": "display_data"
    },
    {
     "data": {
      "text/html": [
       "<div class=\"section rtl\"><a target=\"_blank\" href=\"https://www.deadseascrolls.org.il/explore-the-archive/search#q='4Q103a'\" title=\"Show this scroll in the Leon Levy library\" sec=\"4Q103a\">4Q103a</a></div><div class=\"rtl children\"><div class=\"contnr c4 trm rtl  \" ><div class=\"lbl c4 trm \" ><span class=\"nd\">scroll</span> <span class=\"txtu hbo\"><span class=\"section\">4Q103a</span></span></div><div class='features'><span class=\"cert xft\" ><span class=\"f\">cert=</span>58</span></div></div></div>"
      ],
      "text/plain": [
       "<IPython.core.display.HTML object>"
      ]
     },
     "metadata": {},
     "output_type": "display_data"
    },
    {
     "data": {
      "text/html": [
       "<p><b>result</b> <i>20</i></p>"
      ],
      "text/plain": [
       "<IPython.core.display.HTML object>"
      ]
     },
     "metadata": {},
     "output_type": "display_data"
    },
    {
     "data": {
      "text/html": [
       "<div class=\"section rtl\"><a target=\"_blank\" href=\"https://www.deadseascrolls.org.il/explore-the-archive/search#q='4Q116'\" title=\"Show this scroll in the Leon Levy library\" sec=\"4Q116\">4Q116</a></div><div class=\"rtl children\"><div class=\"contnr c4 trm rtl  \" ><div class=\"lbl c4 trm \" ><span class=\"nd\">scroll</span> <span class=\"txtu hbo\"><span class=\"section\">4Q116</span></span></div><div class='features'><span class=\"cert xft\" ><span class=\"f\">cert=</span>58</span></div></div></div>"
      ],
      "text/plain": [
       "<IPython.core.display.HTML object>"
      ]
     },
     "metadata": {},
     "output_type": "display_data"
    },
    {
     "data": {
      "text/html": [
       "<p><b>result</b> <i>21</i></p>"
      ],
      "text/plain": [
       "<IPython.core.display.HTML object>"
      ]
     },
     "metadata": {},
     "output_type": "display_data"
    },
    {
     "data": {
      "text/html": [
       "<div class=\"section rtl\"><a target=\"_blank\" href=\"https://www.deadseascrolls.org.il/explore-the-archive/search#q='4Q151'\" title=\"Show this scroll in the Leon Levy library\" sec=\"4Q151\">4Q151</a></div><div class=\"rtl children\"><div class=\"contnr c4 trm rtl  \" ><div class=\"lbl c4 trm \" ><span class=\"nd\">scroll</span> <span class=\"txtu hbo\"><span class=\"section\">4Q151</span></span></div><div class='features'><span class=\"cert xft\" ><span class=\"f\">cert=</span>57</span></div></div></div>"
      ],
      "text/plain": [
       "<IPython.core.display.HTML object>"
      ]
     },
     "metadata": {},
     "output_type": "display_data"
    },
    {
     "data": {
      "text/html": [
       "<p><b>result</b> <i>22</i></p>"
      ],
      "text/plain": [
       "<IPython.core.display.HTML object>"
      ]
     },
     "metadata": {},
     "output_type": "display_data"
    },
    {
     "data": {
      "text/html": [
       "<div class=\"section rtl\"><a target=\"_blank\" href=\"https://www.deadseascrolls.org.il/explore-the-archive/search#q='4Q153'\" title=\"Show this scroll in the Leon Levy library\" sec=\"4Q153\">4Q153</a></div><div class=\"rtl children\"><div class=\"contnr c4 trm rtl  \" ><div class=\"lbl c4 trm \" ><span class=\"nd\">scroll</span> <span class=\"txtu hbo\"><span class=\"section\">4Q153</span></span></div><div class='features'><span class=\"cert xft\" ><span class=\"f\">cert=</span>57</span></div></div></div>"
      ],
      "text/plain": [
       "<IPython.core.display.HTML object>"
      ]
     },
     "metadata": {},
     "output_type": "display_data"
    },
    {
     "data": {
      "text/html": [
       "<p><b>result</b> <i>23</i></p>"
      ],
      "text/plain": [
       "<IPython.core.display.HTML object>"
      ]
     },
     "metadata": {},
     "output_type": "display_data"
    },
    {
     "data": {
      "text/html": [
       "<div class=\"section rtl\"><a target=\"_blank\" href=\"https://www.deadseascrolls.org.il/explore-the-archive/search#q='4Q483'\" title=\"Show this scroll in the Leon Levy library\" sec=\"4Q483\">4Q483</a></div><div class=\"rtl children\"><div class=\"contnr c4 trm rtl  \" ><div class=\"lbl c4 trm \" ><span class=\"nd\">scroll</span> <span class=\"txtu hbo\"><span class=\"section\">4Q483</span></span></div><div class='features'><span class=\"cert xft\" ><span class=\"f\">cert=</span>57</span></div></div></div>"
      ],
      "text/plain": [
       "<IPython.core.display.HTML object>"
      ]
     },
     "metadata": {},
     "output_type": "display_data"
    },
    {
     "data": {
      "text/html": [
       "<p><b>result</b> <i>24</i></p>"
      ],
      "text/plain": [
       "<IPython.core.display.HTML object>"
      ]
     },
     "metadata": {},
     "output_type": "display_data"
    },
    {
     "data": {
      "text/html": [
       "<div class=\"section rtl\"><a target=\"_blank\" href=\"https://www.deadseascrolls.org.il/explore-the-archive/search#q='4Q576'\" title=\"Show this scroll in the Leon Levy library\" sec=\"4Q576\">4Q576</a></div><div class=\"rtl children\"><div class=\"contnr c4 trm rtl  \" ><div class=\"lbl c4 trm \" ><span class=\"nd\">scroll</span> <span class=\"txtu hbo\"><span class=\"section\">4Q576</span></span></div><div class='features'><span class=\"cert xft\" ><span class=\"f\">cert=</span>56</span></div></div></div>"
      ],
      "text/plain": [
       "<IPython.core.display.HTML object>"
      ]
     },
     "metadata": {},
     "output_type": "display_data"
    },
    {
     "data": {
      "text/html": [
       "<p><b>result</b> <i>25</i></p>"
      ],
      "text/plain": [
       "<IPython.core.display.HTML object>"
      ]
     },
     "metadata": {},
     "output_type": "display_data"
    },
    {
     "data": {
      "text/html": [
       "<div class=\"section rtl\"><a target=\"_blank\" href=\"https://www.deadseascrolls.org.il/explore-the-archive/search#q='5Q7'\" title=\"Show this scroll in the Leon Levy library\" sec=\"5Q7\">5Q7</a></div><div class=\"rtl children\"><div class=\"contnr c4 trm rtl  \" ><div class=\"lbl c4 trm \" ><span class=\"nd\">scroll</span> <span class=\"txtu hbo\"><span class=\"section\">5Q7</span></span></div><div class='features'><span class=\"cert xft\" ><span class=\"f\">cert=</span>58</span></div></div></div>"
      ],
      "text/plain": [
       "<IPython.core.display.HTML object>"
      ]
     },
     "metadata": {},
     "output_type": "display_data"
    },
    {
     "data": {
      "text/html": [
       "<p><b>result</b> <i>26</i></p>"
      ],
      "text/plain": [
       "<IPython.core.display.HTML object>"
      ]
     },
     "metadata": {},
     "output_type": "display_data"
    },
    {
     "data": {
      "text/html": [
       "<div class=\"section rtl\"><a target=\"_blank\" href=\"https://www.deadseascrolls.org.il/explore-the-archive/search#q='8Q1'\" title=\"Show this scroll in the Leon Levy library\" sec=\"8Q1\">8Q1</a></div><div class=\"rtl children\"><div class=\"contnr c4 trm rtl  \" ><div class=\"lbl c4 trm \" ><span class=\"nd\">scroll</span> <span class=\"txtu hbo\"><span class=\"section\">8Q1</span></span></div><div class='features'><span class=\"cert xft\" ><span class=\"f\">cert=</span>58</span></div></div></div>"
      ],
      "text/plain": [
       "<IPython.core.display.HTML object>"
      ]
     },
     "metadata": {},
     "output_type": "display_data"
    },
    {
     "data": {
      "text/html": [
       "<p><b>result</b> <i>27</i></p>"
      ],
      "text/plain": [
       "<IPython.core.display.HTML object>"
      ]
     },
     "metadata": {},
     "output_type": "display_data"
    },
    {
     "data": {
      "text/html": [
       "<div class=\"section rtl\"><a target=\"_blank\" href=\"https://www.deadseascrolls.org.il/explore-the-archive/search#q='11Q9'\" title=\"Show this scroll in the Leon Levy library\" sec=\"11Q9\">11Q9</a></div><div class=\"rtl children\"><div class=\"contnr c4 trm rtl  \" ><div class=\"lbl c4 trm \" ><span class=\"nd\">scroll</span> <span class=\"txtu hbo\"><span class=\"section\">11Q9</span></span></div><div class='features'><span class=\"cert xft\" ><span class=\"f\">cert=</span>58</span></div></div></div>"
      ],
      "text/plain": [
       "<IPython.core.display.HTML object>"
      ]
     },
     "metadata": {},
     "output_type": "display_data"
    }
   ],
   "source": [
    "A.show(results)"
   ]
  },
  {
   "cell_type": "markdown",
   "metadata": {},
   "source": [
    "Lines with certainty of 50:"
   ]
  },
  {
   "cell_type": "code",
   "execution_count": 21,
   "metadata": {},
   "outputs": [
    {
     "name": "stdout",
     "output_type": "stream",
     "text": [
      "  0.06s 2061 results\n"
     ]
    }
   ],
   "source": [
    "results = A.search(\n",
    "    \"\"\"\n",
    "line cert<57\n",
    "\"\"\"\n",
    ")"
   ]
  },
  {
   "cell_type": "code",
   "execution_count": 22,
   "metadata": {},
   "outputs": [
    {
     "data": {
      "text/html": [
       "<p><b>result</b> <i>100</i></p>"
      ],
      "text/plain": [
       "<IPython.core.display.HTML object>"
      ]
     },
     "metadata": {},
     "output_type": "display_data"
    },
    {
     "data": {
      "text/html": [
       "<div class=\"section rtl\"><a target=\"_blank\" href=\"https://www.deadseascrolls.org.il/explore-the-archive/search#q='4Q204'\" title=\"Show this scroll in the Leon Levy library\" sec=\"4Q204 f5i:29\">4Q204 f5i:29</a></div><div class=\"rtl children\"><div class=\"contnr c3  rtl  \" ><div class=\"lbl c3  \" ><span class=\"nd\">line</span></div><div class='features'><span class=\"cert xft\" ><span class=\"f\">cert=</span>55</span></div><div class=\"children hor wrap rtl\"><div class=\"contnr c2  rtl  \" ><div class=\"lbl c2  \" ><span class=\"nd\">cluster</span></div><div class=\"children hor wrap rtl\"><div class=\"contnr c1 trm rtl  \" ><div class=\"lbl c1 trm \" ><span class=\"nd\">word</span> <a target=\"_blank\" href=\"https://www.deadseascrolls.org.il/explore-the-archive\" title=\"Show this scroll in the Leon Levy library\"><span class=\"txtu hbo\"><span class=\"plain rtl  \" ><span class=\"txtu hbo\">מ</span><span class=\"txtu hbo\">ן </span></span></span></a></div><div class='features'><span class=\"cert xft\" ><span class=\"f\">cert=</span>55</span></div></div><div class=\"contnr c1 trm rtl  \" ><div class=\"lbl c1 trm \" ><span class=\"nd\">word</span> <a target=\"_blank\" href=\"https://www.deadseascrolls.org.il/explore-the-archive\" title=\"Show this scroll in the Leon Levy library\"><span class=\"txtu hbo\"><span class=\"plain rtl  \" ><span class=\"txtu hbo\">ו</span><span class=\"txtu hbo\">ר</span><span class=\"txtu hbo\">ד</span></span></span></a></div><div class='features'><span class=\"cert xft\" ><span class=\"f\">cert=</span>55</span></div></div><div class=\"contnr c1 trm rtl  \" ><div class=\"lbl c1 trm \" ><span class=\"nd\">word</span> <a target=\"_blank\" href=\"https://www.deadseascrolls.org.il/explore-the-archive\" title=\"Show this scroll in the Leon Levy library\"><span class=\"txtu hbo\"><span class=\"plain rtl  \" ><span class=\"txtu hbo\">א </span></span></span></a></div><div class='features'><span class=\"cert xft\" ><span class=\"f\">cert=</span>55</span></div></div><div class=\"contnr c1 trm rtl  \" ><div class=\"lbl c1 trm \" ><span class=\"nd\">word</span> <a target=\"_blank\" href=\"https://www.deadseascrolls.org.il/explore-the-archive\" title=\"Show this scroll in the Leon Levy library\"><span class=\"txtu hbo\"><span class=\"plain rtl  \" ><span class=\"txtu hbo\">ו</span></span></span></a></div><div class='features'><span class=\"cert xft\" ><span class=\"f\">cert=</span>55</span></div></div><div class=\"contnr c1 trm rtl  \" ><div class=\"lbl c1 trm \" ><span class=\"nd\">word</span> <a target=\"_blank\" href=\"https://www.deadseascrolls.org.il/explore-the-archive\" title=\"Show this scroll in the Leon Levy library\"><span class=\"txtu hbo\"><span class=\"plain rtl  \" ><span class=\"txtu hbo\">כ</span><span class=\"txtu hbo\">ו</span><span class=\"txtu hbo\">ל </span></span></span></a></div><div class='features'><span class=\"cert xft\" ><span class=\"f\">cert=</span>55</span></div></div><div class=\"contnr c1 trm rtl  \" ><div class=\"lbl c1 trm \" ><span class=\"nd\">word</span> <a target=\"_blank\" href=\"https://www.deadseascrolls.org.il/explore-the-archive\" title=\"Show this scroll in the Leon Levy library\"><span class=\"txtu hbo\"><span class=\"plain rtl  \" ><span class=\"txtu hbo\">ש</span><span class=\"txtu hbo\">ע</span><span class=\"txtu hbo\">ר</span><span class=\"txtu hbo\">׳</span><span class=\"txtu hbo\">ה </span></span></span></a></div><div class='features'><span class=\"cert xft\" ><span class=\"f\">cert=</span>55</span></div></div><div class=\"contnr c1 trm rtl  \" ><div class=\"lbl c1 trm \" ><span class=\"nd\">word</span> <a target=\"_blank\" href=\"https://www.deadseascrolls.org.il/explore-the-archive\" title=\"Show this scroll in the Leon Levy library\"><span class=\"txtu hbo\"><span class=\"plain rtl  \" ><span class=\"txtu hbo\">ח</span><span class=\"txtu hbo\">ו</span><span class=\"txtu hbo\">ר </span></span></span></a></div><div class='features'><span class=\"cert xft\" ><span class=\"f\">cert=</span>55</span></div></div><div class=\"contnr c1 trm rtl  \" ><div class=\"lbl c1 trm \" ><span class=\"nd\">word</span> <a target=\"_blank\" href=\"https://www.deadseascrolls.org.il/explore-the-archive\" title=\"Show this scroll in the Leon Levy library\"><span class=\"txtu hbo\"><span class=\"plain rtl  \" ><span class=\"txtu hbo\">כ</span></span></span></a></div><div class='features'><span class=\"cert xft\" ><span class=\"f\">cert=</span>55</span></div></div><div class=\"contnr c1 trm rtl  \" ><div class=\"lbl c1 trm \" ><span class=\"nd\">word</span> <a target=\"_blank\" href=\"https://www.deadseascrolls.org.il/explore-the-archive\" title=\"Show this scroll in the Leon Levy library\"><span class=\"txtu hbo\"><span class=\"plain rtl  \" ><span class=\"txtu hbo\">ע</span><span class=\"txtu hbo\">מ</span><span class=\"txtu hbo\">ר </span></span></span></a></div><div class='features'><span class=\"cert xft\" ><span class=\"f\">cert=</span>55</span></div></div><div class=\"contnr c1 trm rtl  \" ><div class=\"lbl c1 trm \" ><span class=\"nd\">word</span> <a target=\"_blank\" href=\"https://www.deadseascrolls.org.il/explore-the-archive\" title=\"Show this scroll in the Leon Levy library\"><span class=\"txtu hbo\"><span class=\"plain rtl  \" ><span class=\"txtu hbo\">נ</span><span class=\"txtu hbo\">ק</span><span class=\"txtu hbo\">א </span></span></span></a></div><div class='features'><span class=\"cert xft\" ><span class=\"f\">cert=</span>55</span></div></div><div class=\"contnr c1 trm rtl  \" ><div class=\"lbl c1 trm \" ><span class=\"nd\">word</span> <a target=\"_blank\" href=\"https://www.deadseascrolls.org.il/explore-the-archive\" title=\"Show this scroll in the Leon Levy library\"><span class=\"txtu hbo\"><span class=\"plain rtl  \" ><span class=\"txtu hbo\">ו</span></span></span></a></div><div class='features'><span class=\"cert xft\" ><span class=\"f\">cert=</span>55</span></div></div><div class=\"contnr c1 trm rtl  \" ><div class=\"lbl c1 trm \" ><span class=\"nd\">word</span> <a target=\"_blank\" href=\"https://www.deadseascrolls.org.il/explore-the-archive\" title=\"Show this scroll in the Leon Levy library\"><span class=\"txtu hbo\"><span class=\"plain rtl  \" ><span class=\"txtu hbo\">ע</span><span class=\"txtu hbo\">ב</span><span class=\"txtu hbo\">י </span></span></span></a></div><div class='features'><span class=\"cert xft\" ><span class=\"f\">cert=</span>55</span></div></div><div class=\"contnr c1 trm rtl  \" ><div class=\"lbl c1 trm \" ><span class=\"nd\">word</span> <a target=\"_blank\" href=\"https://www.deadseascrolls.org.il/explore-the-archive\" title=\"Show this scroll in the Leon Levy library\"><span class=\"txtu hbo\"><span class=\"plain rtl  \" ><span class=\"txtu hbo\">ו</span></span></span></a></div><div class='features'><span class=\"cert xft\" ><span class=\"f\">cert=</span>55</span></div></div><div class=\"contnr c1 trm rtl  \" ><div class=\"lbl c1 trm \" ><span class=\"nd\">word</span> <a target=\"_blank\" href=\"https://www.deadseascrolls.org.il/explore-the-archive\" title=\"Show this scroll in the Leon Levy library\"><span class=\"txtu hbo\"><span class=\"plain rtl  \" ><span class=\"txtu hbo\">ה</span><span class=\"txtu hbo\">ד</span><span class=\"txtu hbo\">י</span><span class=\"txtu hbo\">ר </span></span></span></a></div><div class='features'><span class=\"cert xft\" ><span class=\"f\">cert=</span>55</span></div></div><div class=\"contnr c1 trm rtl  \" ><div class=\"lbl c1 trm \" ><span class=\"nd\">word</span> <a target=\"_blank\" href=\"https://www.deadseascrolls.org.il/explore-the-archive\" title=\"Show this scroll in the Leon Levy library\"><span class=\"txtu hbo\"><span class=\"plain rtl  \" ><span class=\"txtu hbo\">ו</span></span></span></a></div><div class='features'><span class=\"cert xft\" ><span class=\"f\">cert=</span>55</span></div></div><div class=\"contnr c1 trm rtl  \" ><div class=\"lbl c1 trm \" ><span class=\"nd\">word</span> <a target=\"_blank\" href=\"https://www.deadseascrolls.org.il/explore-the-archive\" title=\"Show this scroll in the Leon Levy library\"><span class=\"txtu hbo\"><span class=\"plain rtl  \" ><span class=\"txtu hbo\">כ</span><span class=\"txtu hbo\">ד</span><span class=\"txtu hbo\">י </span></span></span></a></div><div class='features'><span class=\"cert xft\" ><span class=\"f\">cert=</span>55</span></div></div><div class=\"contnr c1 trm rtl  \" ><div class=\"lbl c1 trm \" ><span class=\"nd\">word</span> <a target=\"_blank\" href=\"https://www.deadseascrolls.org.il/explore-the-archive\" title=\"Show this scroll in the Leon Levy library\"><span class=\"txtu hbo\"><span class=\"plain rtl  \" ><span class=\"txtu hbo\">פ</span><span class=\"txtu hbo\">ת</span><span class=\"txtu hbo\">ח </span></span></span></a></div><div class='features'><span class=\"cert xft\" ><span class=\"f\">cert=</span>55</span></div></div><div class=\"contnr c1 trm rtl  \" ><div class=\"lbl c1 trm \" ><span class=\"nd\">word</span> <a target=\"_blank\" href=\"https://www.deadseascrolls.org.il/explore-the-archive\" title=\"Show this scroll in the Leon Levy library\"><span class=\"txtu hbo\"><span class=\"plain rtl  \" ><span class=\"txtu hbo\">ע</span><span class=\"txtu hbo\">י</span><span class=\"txtu hbo\">נ</span><span class=\"txtu hbo\">ו</span><span class=\"txtu hbo\">׳</span><span class=\"txtu hbo\">ה</span><span class=\"txtu hbo\">י </span></span></span></a></div><div class='features'><span class=\"cert xft\" ><span class=\"f\">cert=</span>55</span></div></div><div class=\"contnr c1 trm rtl  \" ><div class=\"lbl c1 trm \" ><span class=\"nd\">word</span> <a target=\"_blank\" href=\"https://www.deadseascrolls.org.il/explore-the-archive\" title=\"Show this scroll in the Leon Levy library\"><span class=\"txtu hbo\"><span class=\"plain rtl  \" ><span class=\"txtu hbo\">א</span><span class=\"txtu hbo\">נ</span><span class=\"txtu hbo\">י</span><span class=\"txtu hbo\">ר </span></span></span></a></div><div class='features'><span class=\"cert xft\" ><span class=\"f\">cert=</span>55</span></div></div><div class=\"contnr c1 trm rtl lno \" ><div class=\"lbl c1 trm \" ><span class=\"nd\">word</span> <a target=\"_blank\" href=\"https://www.deadseascrolls.org.il/explore-the-archive\" title=\"Show this scroll in the Leon Levy library\"><span class=\"txtu hbo\"><span class=\"plain rtl lno \" ><span class=\"txtu hbo\">כ</span><span class=\"txtu hbo\">ו</span></span></span></a></div><div class='features'><span class=\"cert xft\" ><span class=\"f\">cert=</span>57</span></div></div></div></div><div class=\"contnr c1 trm rtl rno \" ><div class=\"lbl c1 trm \" ><span class=\"nd\">word</span> <a target=\"_blank\" href=\"https://www.deadseascrolls.org.il/explore-the-archive\" title=\"Show this scroll in the Leon Levy library\"><span class=\"txtu hbo\"><span class=\"plain rtl rno \" ><span class=\"txtu hbo\">ל </span></span></span></a></div><div class='features'><span class=\"cert xft\" ><span class=\"f\">cert=</span>57</span></div></div></div></div></div>"
      ],
      "text/plain": [
       "<IPython.core.display.HTML object>"
      ]
     },
     "metadata": {},
     "output_type": "display_data"
    },
    {
     "data": {
      "text/html": [
       "<p><b>result</b> <i>101</i></p>"
      ],
      "text/plain": [
       "<IPython.core.display.HTML object>"
      ]
     },
     "metadata": {},
     "output_type": "display_data"
    },
    {
     "data": {
      "text/html": [
       "<div class=\"section rtl\"><a target=\"_blank\" href=\"https://www.deadseascrolls.org.il/explore-the-archive/search#q='4Q204'\" title=\"Show this scroll in the Leon Levy library\" sec=\"4Q204 f5i:30\">4Q204 f5i:30</a></div><div class=\"rtl children\"><div class=\"contnr c3  rtl  \" ><div class=\"lbl c3  \" ><span class=\"nd\">line</span></div><div class='features'><span class=\"cert xft\" ><span class=\"f\">cert=</span>55</span></div><div class=\"children hor wrap rtl\"><div class=\"contnr c2  rtl  \" ><div class=\"lbl c2  \" ><span class=\"nd\">cluster</span></div><div class=\"children hor wrap rtl\"><div class=\"contnr c1 trm rtl  \" ><div class=\"lbl c1 trm \" ><span class=\"nd\">word</span> <a target=\"_blank\" href=\"https://www.deadseascrolls.org.il/explore-the-archive\" title=\"Show this scroll in the Leon Levy library\"><span class=\"txtu hbo\"><span class=\"plain rtl  \" ><span class=\"txtu hbo\">ב</span><span class=\"txtu hbo\">י</span><span class=\"txtu hbo\">ת</span></span></span></a></div><div class='features'><span class=\"cert xft\" ><span class=\"f\">cert=</span>55</span></div></div><div class=\"contnr c1 trm rtl  \" ><div class=\"lbl c1 trm \" ><span class=\"nd\">word</span> <a target=\"_blank\" href=\"https://www.deadseascrolls.org.il/explore-the-archive\" title=\"Show this scroll in the Leon Levy library\"><span class=\"txtu hbo\"><span class=\"plain rtl  \" ><span class=\"txtu hbo\">א </span></span></span></a></div><div class='features'><span class=\"cert xft\" ><span class=\"f\">cert=</span>55</span></div></div><div class=\"contnr c1 trm rtl  \" ><div class=\"lbl c1 trm \" ><span class=\"nd\">word</span> <a target=\"_blank\" href=\"https://www.deadseascrolls.org.il/explore-the-archive\" title=\"Show this scroll in the Leon Levy library\"><span class=\"txtu hbo\"><span class=\"plain rtl  \" ><span class=\"txtu hbo\">כ</span></span></span></a></div><div class='features'><span class=\"cert xft\" ><span class=\"f\">cert=</span>55</span></div></div><div class=\"contnr c1 trm rtl  \" ><div class=\"lbl c1 trm \" ><span class=\"nd\">word</span> <a target=\"_blank\" href=\"https://www.deadseascrolls.org.il/explore-the-archive\" title=\"Show this scroll in the Leon Levy library\"><span class=\"txtu hbo\"><span class=\"plain rtl  \" ><span class=\"txtu hbo\">ש</span><span class=\"txtu hbo\">מ</span><span class=\"txtu hbo\">ש</span></span></span></a></div><div class='features'><span class=\"cert xft\" ><span class=\"f\">cert=</span>55</span></div></div><div class=\"contnr c1 trm rtl  \" ><div class=\"lbl c1 trm \" ><span class=\"nd\">word</span> <a target=\"_blank\" href=\"https://www.deadseascrolls.org.il/explore-the-archive\" title=\"Show this scroll in the Leon Levy library\"><span class=\"txtu hbo\"><span class=\"plain rtl  \" ><span class=\"txtu hbo\">א </span></span></span></a></div><div class='features'><span class=\"cert xft\" ><span class=\"f\">cert=</span>55</span></div></div><div class=\"contnr c1 trm rtl  \" ><div class=\"lbl c1 trm \" ><span class=\"nd\">word</span> <a target=\"_blank\" href=\"https://www.deadseascrolls.org.il/explore-the-archive\" title=\"Show this scroll in the Leon Levy library\"><span class=\"txtu hbo\"><span class=\"plain rtl  \" ><span class=\"txtu hbo\">ε </span></span></span></a></div></div></div></div><div class=\"contnr c1 trm rtl  \" ><div class=\"lbl c1 trm \" ><span class=\"nd\">word</span> <span class=\"txtu hbo\"><span class=\"plain rtl  \" ><span class=\"txtu hbo\">׃ </span></span></span></div></div></div></div></div>"
      ],
      "text/plain": [
       "<IPython.core.display.HTML object>"
      ]
     },
     "metadata": {},
     "output_type": "display_data"
    },
    {
     "data": {
      "text/html": [
       "<p><b>result</b> <i>102</i></p>"
      ],
      "text/plain": [
       "<IPython.core.display.HTML object>"
      ]
     },
     "metadata": {},
     "output_type": "display_data"
    },
    {
     "data": {
      "text/html": [
       "<div class=\"section rtl\"><a target=\"_blank\" href=\"https://www.deadseascrolls.org.il/explore-the-archive/search#q='4Q204'\" title=\"Show this scroll in the Leon Levy library\" sec=\"4Q204 f5ii:16\">4Q204 f5ii:16</a></div><div class=\"rtl children\"><div class=\"contnr c3  rtl  \" ><div class=\"lbl c3  \" ><span class=\"nd\">line</span></div><div class='features'><span class=\"cert xft\" ><span class=\"f\">cert=</span>55</span></div><div class=\"children hor wrap rtl\"><div class=\"contnr c2  rtl  \" ><div class=\"lbl c2  \" ><span class=\"nd\">cluster</span></div><div class=\"children hor wrap rtl\"><div class=\"contnr c1 trm rtl  \" ><div class=\"lbl c1 trm \" ><span class=\"nd\">word</span> <a target=\"_blank\" href=\"https://www.deadseascrolls.org.il/explore-the-archive\" title=\"Show this scroll in the Leon Levy library\"><span class=\"txtu hbo\"><span class=\"plain rtl  \" ><span class=\"txtu hbo\">ε </span></span></span></a></div></div><div class=\"contnr c1 trm rtl  \" ><div class=\"lbl c1 trm \" ><span class=\"nd\">word</span> <a target=\"_blank\" href=\"https://www.deadseascrolls.org.il/explore-the-archive\" title=\"Show this scroll in the Leon Levy library\"><span class=\"txtu hbo\"><span class=\"plain rtl  \" ><span class=\"txtu hbo\">ב</span></span></span></a></div><div class='features'><span class=\"cert xft\" ><span class=\"f\">cert=</span>55</span></div></div><div class=\"contnr c1 trm rtl  \" ><div class=\"lbl c1 trm \" ><span class=\"nd\">word</span> <a target=\"_blank\" href=\"https://www.deadseascrolls.org.il/explore-the-archive\" title=\"Show this scroll in the Leon Levy library\"><span class=\"txtu hbo\"><span class=\"plain rtl  \" ><span class=\"txtu hbo\">א</span><span class=\"txtu hbo\">ד</span><span class=\"txtu hbo\">י</span><span class=\"txtu hbo\">ן </span></span></span></a></div><div class='features'><span class=\"cert xft\" ><span class=\"f\">cert=</span>55</span></div></div><div class=\"contnr c1 trm rtl  \" ><div class=\"lbl c1 trm \" ><span class=\"nd\">word</span> <a target=\"_blank\" href=\"https://www.deadseascrolls.org.il/explore-the-archive\" title=\"Show this scroll in the Leon Levy library\"><span class=\"txtu hbo\"><span class=\"plain rtl  \" ><span class=\"txtu hbo\">ע</span><span class=\"txtu hbo\">נ</span><span class=\"txtu hbo\">י</span><span class=\"txtu hbo\">ת </span></span></span></a></div><div class='features'><span class=\"cert xft\" ><span class=\"f\">cert=</span>55</span></div></div><div class=\"contnr c1 trm rtl  \" ><div class=\"lbl c1 trm \" ><span class=\"nd\">word</span> <a target=\"_blank\" href=\"https://www.deadseascrolls.org.il/explore-the-archive\" title=\"Show this scroll in the Leon Levy library\"><span class=\"txtu hbo\"><span class=\"plain rtl  \" ><span class=\"txtu hbo\">א</span><span class=\"txtu hbo\">נ</span><span class=\"txtu hbo\">ה </span></span></span></a></div><div class='features'><span class=\"cert xft\" ><span class=\"f\">cert=</span>55</span></div></div><div class=\"contnr c1 trm rtl  \" ><div class=\"lbl c1 trm \" ><span class=\"nd\">word</span> <a target=\"_blank\" href=\"https://www.deadseascrolls.org.il/explore-the-archive\" title=\"Show this scroll in the Leon Levy library\"><span class=\"txtu hbo\"><span class=\"plain rtl  \" ><span class=\"txtu hbo\">ח</span><span class=\"txtu hbo\">נ</span><span class=\"txtu hbo\">ו</span><span class=\"txtu hbo\">ך </span></span></span></a></div><div class='features'><span class=\"cert xft\" ><span class=\"f\">cert=</span>55</span></div></div><div class=\"contnr c1 trm rtl  \" ><div class=\"lbl c1 trm \" ><span class=\"nd\">word</span> <a target=\"_blank\" href=\"https://www.deadseascrolls.org.il/explore-the-archive\" title=\"Show this scroll in the Leon Levy library\"><span class=\"txtu hbo\"><span class=\"plain rtl  \" ><span class=\"txtu hbo\">א</span><span class=\"txtu hbo\">מ</span><span class=\"txtu hbo\">ר </span></span></span></a></div><div class='features'><span class=\"cert xft\" ><span class=\"f\">cert=</span>55</span></div></div></div></div></div></div></div>"
      ],
      "text/plain": [
       "<IPython.core.display.HTML object>"
      ]
     },
     "metadata": {},
     "output_type": "display_data"
    }
   ],
   "source": [
    "A.show(results, start=100, end=102)"
   ]
  },
  {
   "cell_type": "markdown",
   "metadata": {},
   "source": [
    "With highlights and drilled down to sign level:"
   ]
  },
  {
   "cell_type": "code",
   "execution_count": 23,
   "metadata": {},
   "outputs": [],
   "source": [
    "highlights = {}\n",
    "\n",
    "for s in F.otype.s(\"sign\"):\n",
    "    if not F.cert.v(s):\n",
    "        continue\n",
    "    color = \"lightsalmon\" if F.cert.v(s) < 56 else \"mediumaquamarine\"\n",
    "    highlights[s] = color"
   ]
  },
  {
   "cell_type": "code",
   "execution_count": 24,
   "metadata": {},
   "outputs": [
    {
     "data": {
      "text/html": [
       "<p><b>line</b> <i>100</i></p>"
      ],
      "text/plain": [
       "<IPython.core.display.HTML object>"
      ]
     },
     "metadata": {},
     "output_type": "display_data"
    },
    {
     "data": {
      "text/html": [
       "<div class=\"section rtl\"><a target=\"_blank\" href=\"https://www.deadseascrolls.org.il/explore-the-archive/search#q='4Q204'\" title=\"Show this scroll in the Leon Levy library\" sec=\"4Q204 f5i:29\">4Q204 f5i:29</a></div><div class=\"rtl children\"><div class=\"contnr c3  rtl  \" ><div class=\"lbl c3  \" ><span class=\"nd\">line:1559891</span></div><div class='features'><span class=\"cert xft\" ><span class=\"f\">cert=</span>55</span></div><div class=\"children hor wrap rtl\"><div class=\"contnr c2  rtl  \" ><div class=\"lbl c2  \" ><span class=\"nd\">cluster:1441915</span></div><div class=\"children hor wrap rtl\"><div class=\"contnr c1  rtl  \" ><div class=\"lbl c1  \" ><span class=\"nd\">word:1677987</span> <a target=\"_blank\" href=\"https://www.deadseascrolls.org.il/explore-the-archive\" title=\"Show this scroll in the Leon Levy library\"><span class=\"txtu hbo\">מן </span></a></div><div class='features'><span class=\"cert xft\" ><span class=\"f\">cert=</span>55</span></div><div class=\"children hor  rtl\"><div class=\"contnr c0 trm rtl  hl\"  style=\"background-color: lightsalmon;\" ><div class=\"lbl c0 trm hl\"  style=\"background-color: lightsalmon;\" ><span class=\"nd\">204705</span> <span class=\"txtu hbo\">מ</span></div><div class='features'><span class=\"cert xft\" ><span class=\"f\">cert=</span>55</span></div></div><div class=\"contnr c0 trm rtl  hl\"  style=\"background-color: lightsalmon;\" ><div class=\"lbl c0 trm hl\"  style=\"background-color: lightsalmon;\" ><span class=\"nd\">204706</span> <span class=\"txtu hbo\">ן </span></div><div class='features'><span class=\"cert xft\" ><span class=\"f\">cert=</span>55</span></div></div></div></div><div class=\"contnr c1  rtl  \" ><div class=\"lbl c1  \" ><span class=\"nd\">word:1677988</span> <a target=\"_blank\" href=\"https://www.deadseascrolls.org.il/explore-the-archive\" title=\"Show this scroll in the Leon Levy library\"><span class=\"txtu hbo\">ורד</span></a></div><div class='features'><span class=\"cert xft\" ><span class=\"f\">cert=</span>55</span></div><div class=\"children hor  rtl\"><div class=\"contnr c0 trm rtl  hl\"  style=\"background-color: lightsalmon;\" ><div class=\"lbl c0 trm hl\"  style=\"background-color: lightsalmon;\" ><span class=\"nd\">204707</span> <span class=\"txtu hbo\">ו</span></div><div class='features'><span class=\"cert xft\" ><span class=\"f\">cert=</span>55</span></div></div><div class=\"contnr c0 trm rtl  hl\"  style=\"background-color: lightsalmon;\" ><div class=\"lbl c0 trm hl\"  style=\"background-color: lightsalmon;\" ><span class=\"nd\">204708</span> <span class=\"txtu hbo\">ר</span></div><div class='features'><span class=\"cert xft\" ><span class=\"f\">cert=</span>55</span></div></div><div class=\"contnr c0 trm rtl  hl\"  style=\"background-color: lightsalmon;\" ><div class=\"lbl c0 trm hl\"  style=\"background-color: lightsalmon;\" ><span class=\"nd\">204709</span> <span class=\"txtu hbo\">ד</span></div><div class='features'><span class=\"cert xft\" ><span class=\"f\">cert=</span>55</span></div></div></div></div><div class=\"contnr c1  rtl  \" ><div class=\"lbl c1  \" ><span class=\"nd\">word:1677989</span> <a target=\"_blank\" href=\"https://www.deadseascrolls.org.il/explore-the-archive\" title=\"Show this scroll in the Leon Levy library\"><span class=\"txtu hbo\">א </span></a></div><div class='features'><span class=\"cert xft\" ><span class=\"f\">cert=</span>55</span></div><div class=\"children hor  rtl\"><div class=\"contnr c0 trm rtl  hl\"  style=\"background-color: lightsalmon;\" ><div class=\"lbl c0 trm hl\"  style=\"background-color: lightsalmon;\" ><span class=\"nd\">204710</span> <span class=\"txtu hbo\">א </span></div><div class='features'><span class=\"cert xft\" ><span class=\"f\">cert=</span>55</span></div></div></div></div><div class=\"contnr c1  rtl  \" ><div class=\"lbl c1  \" ><span class=\"nd\">word:1677990</span> <a target=\"_blank\" href=\"https://www.deadseascrolls.org.il/explore-the-archive\" title=\"Show this scroll in the Leon Levy library\"><span class=\"txtu hbo\">ו</span></a></div><div class='features'><span class=\"cert xft\" ><span class=\"f\">cert=</span>55</span></div><div class=\"children hor  rtl\"><div class=\"contnr c0 trm rtl  hl\"  style=\"background-color: lightsalmon;\" ><div class=\"lbl c0 trm hl\"  style=\"background-color: lightsalmon;\" ><span class=\"nd\">204711</span> <span class=\"txtu hbo\">ו</span></div><div class='features'><span class=\"cert xft\" ><span class=\"f\">cert=</span>55</span></div></div></div></div><div class=\"contnr c1  rtl  \" ><div class=\"lbl c1  \" ><span class=\"nd\">word:1677991</span> <a target=\"_blank\" href=\"https://www.deadseascrolls.org.il/explore-the-archive\" title=\"Show this scroll in the Leon Levy library\"><span class=\"txtu hbo\">כול </span></a></div><div class='features'><span class=\"cert xft\" ><span class=\"f\">cert=</span>55</span></div><div class=\"children hor  rtl\"><div class=\"contnr c0 trm rtl  hl\"  style=\"background-color: lightsalmon;\" ><div class=\"lbl c0 trm hl\"  style=\"background-color: lightsalmon;\" ><span class=\"nd\">204712</span> <span class=\"txtu hbo\">כ</span></div><div class='features'><span class=\"cert xft\" ><span class=\"f\">cert=</span>55</span></div></div><div class=\"contnr c0 trm rtl  hl\"  style=\"background-color: lightsalmon;\" ><div class=\"lbl c0 trm hl\"  style=\"background-color: lightsalmon;\" ><span class=\"nd\">204713</span> <span class=\"txtu hbo\">ו</span></div><div class='features'><span class=\"cert xft\" ><span class=\"f\">cert=</span>55</span></div></div><div class=\"contnr c0 trm rtl  hl\"  style=\"background-color: lightsalmon;\" ><div class=\"lbl c0 trm hl\"  style=\"background-color: lightsalmon;\" ><span class=\"nd\">204714</span> <span class=\"txtu hbo\">ל </span></div><div class='features'><span class=\"cert xft\" ><span class=\"f\">cert=</span>55</span></div></div></div></div><div class=\"contnr c1  rtl  \" ><div class=\"lbl c1  \" ><span class=\"nd\">word:1677992</span> <a target=\"_blank\" href=\"https://www.deadseascrolls.org.il/explore-the-archive\" title=\"Show this scroll in the Leon Levy library\"><span class=\"txtu hbo\">שער׳ה </span></a></div><div class='features'><span class=\"cert xft\" ><span class=\"f\">cert=</span>55</span></div><div class=\"children hor  rtl\"><div class=\"contnr c0 trm rtl  hl\"  style=\"background-color: lightsalmon;\" ><div class=\"lbl c0 trm hl\"  style=\"background-color: lightsalmon;\" ><span class=\"nd\">204715</span> <span class=\"txtu hbo\">ש</span></div><div class='features'><span class=\"cert xft\" ><span class=\"f\">cert=</span>55</span></div></div><div class=\"contnr c0 trm rtl  hl\"  style=\"background-color: lightsalmon;\" ><div class=\"lbl c0 trm hl\"  style=\"background-color: lightsalmon;\" ><span class=\"nd\">204716</span> <span class=\"txtu hbo\">ע</span></div><div class='features'><span class=\"cert xft\" ><span class=\"f\">cert=</span>55</span></div></div><div class=\"contnr c0 trm rtl  hl\"  style=\"background-color: lightsalmon;\" ><div class=\"lbl c0 trm hl\"  style=\"background-color: lightsalmon;\" ><span class=\"nd\">204717</span> <span class=\"txtu hbo\">ר</span></div><div class='features'><span class=\"cert xft\" ><span class=\"f\">cert=</span>55</span></div></div><div class=\"contnr c0 trm rtl  \" ><div class=\"lbl c0 trm \" ><span class=\"nd\">204718</span> <span class=\"txtu hbo\">׳</span></div></div><div class=\"contnr c0 trm rtl  hl\"  style=\"background-color: lightsalmon;\" ><div class=\"lbl c0 trm hl\"  style=\"background-color: lightsalmon;\" ><span class=\"nd\">204719</span> <span class=\"txtu hbo\">ה </span></div><div class='features'><span class=\"cert xft\" ><span class=\"f\">cert=</span>55</span></div></div></div></div><div class=\"contnr c1  rtl  \" ><div class=\"lbl c1  \" ><span class=\"nd\">word:1677993</span> <a target=\"_blank\" href=\"https://www.deadseascrolls.org.il/explore-the-archive\" title=\"Show this scroll in the Leon Levy library\"><span class=\"txtu hbo\">חור </span></a></div><div class='features'><span class=\"cert xft\" ><span class=\"f\">cert=</span>55</span></div><div class=\"children hor  rtl\"><div class=\"contnr c0 trm rtl  hl\"  style=\"background-color: lightsalmon;\" ><div class=\"lbl c0 trm hl\"  style=\"background-color: lightsalmon;\" ><span class=\"nd\">204720</span> <span class=\"txtu hbo\">ח</span></div><div class='features'><span class=\"cert xft\" ><span class=\"f\">cert=</span>55</span></div></div><div class=\"contnr c0 trm rtl  hl\"  style=\"background-color: lightsalmon;\" ><div class=\"lbl c0 trm hl\"  style=\"background-color: lightsalmon;\" ><span class=\"nd\">204721</span> <span class=\"txtu hbo\">ו</span></div><div class='features'><span class=\"cert xft\" ><span class=\"f\">cert=</span>55</span></div></div><div class=\"contnr c0 trm rtl  hl\"  style=\"background-color: lightsalmon;\" ><div class=\"lbl c0 trm hl\"  style=\"background-color: lightsalmon;\" ><span class=\"nd\">204722</span> <span class=\"txtu hbo\">ר </span></div><div class='features'><span class=\"cert xft\" ><span class=\"f\">cert=</span>55</span></div></div></div></div><div class=\"contnr c1  rtl  \" ><div class=\"lbl c1  \" ><span class=\"nd\">word:1677994</span> <a target=\"_blank\" href=\"https://www.deadseascrolls.org.il/explore-the-archive\" title=\"Show this scroll in the Leon Levy library\"><span class=\"txtu hbo\">כ</span></a></div><div class='features'><span class=\"cert xft\" ><span class=\"f\">cert=</span>55</span></div><div class=\"children hor  rtl\"><div class=\"contnr c0 trm rtl  hl\"  style=\"background-color: lightsalmon;\" ><div class=\"lbl c0 trm hl\"  style=\"background-color: lightsalmon;\" ><span class=\"nd\">204723</span> <span class=\"txtu hbo\">כ</span></div><div class='features'><span class=\"cert xft\" ><span class=\"f\">cert=</span>55</span></div></div></div></div><div class=\"contnr c1  rtl  \" ><div class=\"lbl c1  \" ><span class=\"nd\">word:1677995</span> <a target=\"_blank\" href=\"https://www.deadseascrolls.org.il/explore-the-archive\" title=\"Show this scroll in the Leon Levy library\"><span class=\"txtu hbo\">עמר </span></a></div><div class='features'><span class=\"cert xft\" ><span class=\"f\">cert=</span>55</span></div><div class=\"children hor  rtl\"><div class=\"contnr c0 trm rtl  hl\"  style=\"background-color: lightsalmon;\" ><div class=\"lbl c0 trm hl\"  style=\"background-color: lightsalmon;\" ><span class=\"nd\">204724</span> <span class=\"txtu hbo\">ע</span></div><div class='features'><span class=\"cert xft\" ><span class=\"f\">cert=</span>55</span></div></div><div class=\"contnr c0 trm rtl  hl\"  style=\"background-color: lightsalmon;\" ><div class=\"lbl c0 trm hl\"  style=\"background-color: lightsalmon;\" ><span class=\"nd\">204725</span> <span class=\"txtu hbo\">מ</span></div><div class='features'><span class=\"cert xft\" ><span class=\"f\">cert=</span>55</span></div></div><div class=\"contnr c0 trm rtl  hl\"  style=\"background-color: lightsalmon;\" ><div class=\"lbl c0 trm hl\"  style=\"background-color: lightsalmon;\" ><span class=\"nd\">204726</span> <span class=\"txtu hbo\">ר </span></div><div class='features'><span class=\"cert xft\" ><span class=\"f\">cert=</span>55</span></div></div></div></div><div class=\"contnr c1  rtl  \" ><div class=\"lbl c1  \" ><span class=\"nd\">word:1677996</span> <a target=\"_blank\" href=\"https://www.deadseascrolls.org.il/explore-the-archive\" title=\"Show this scroll in the Leon Levy library\"><span class=\"txtu hbo\">נקא </span></a></div><div class='features'><span class=\"cert xft\" ><span class=\"f\">cert=</span>55</span></div><div class=\"children hor  rtl\"><div class=\"contnr c0 trm rtl  hl\"  style=\"background-color: lightsalmon;\" ><div class=\"lbl c0 trm hl\"  style=\"background-color: lightsalmon;\" ><span class=\"nd\">204727</span> <span class=\"txtu hbo\">נ</span></div><div class='features'><span class=\"cert xft\" ><span class=\"f\">cert=</span>55</span></div></div><div class=\"contnr c0 trm rtl  hl\"  style=\"background-color: lightsalmon;\" ><div class=\"lbl c0 trm hl\"  style=\"background-color: lightsalmon;\" ><span class=\"nd\">204728</span> <span class=\"txtu hbo\">ק</span></div><div class='features'><span class=\"cert xft\" ><span class=\"f\">cert=</span>55</span></div></div><div class=\"contnr c0 trm rtl  hl\"  style=\"background-color: lightsalmon;\" ><div class=\"lbl c0 trm hl\"  style=\"background-color: lightsalmon;\" ><span class=\"nd\">204729</span> <span class=\"txtu hbo\">א </span></div><div class='features'><span class=\"cert xft\" ><span class=\"f\">cert=</span>55</span></div></div></div></div><div class=\"contnr c1  rtl  \" ><div class=\"lbl c1  \" ><span class=\"nd\">word:1677997</span> <a target=\"_blank\" href=\"https://www.deadseascrolls.org.il/explore-the-archive\" title=\"Show this scroll in the Leon Levy library\"><span class=\"txtu hbo\">ו</span></a></div><div class='features'><span class=\"cert xft\" ><span class=\"f\">cert=</span>55</span></div><div class=\"children hor  rtl\"><div class=\"contnr c0 trm rtl  hl\"  style=\"background-color: lightsalmon;\" ><div class=\"lbl c0 trm hl\"  style=\"background-color: lightsalmon;\" ><span class=\"nd\">204730</span> <span class=\"txtu hbo\">ו</span></div><div class='features'><span class=\"cert xft\" ><span class=\"f\">cert=</span>55</span></div></div></div></div><div class=\"contnr c1  rtl  \" ><div class=\"lbl c1  \" ><span class=\"nd\">word:1677998</span> <a target=\"_blank\" href=\"https://www.deadseascrolls.org.il/explore-the-archive\" title=\"Show this scroll in the Leon Levy library\"><span class=\"txtu hbo\">עבי </span></a></div><div class='features'><span class=\"cert xft\" ><span class=\"f\">cert=</span>55</span></div><div class=\"children hor  rtl\"><div class=\"contnr c0 trm rtl  hl\"  style=\"background-color: lightsalmon;\" ><div class=\"lbl c0 trm hl\"  style=\"background-color: lightsalmon;\" ><span class=\"nd\">204731</span> <span class=\"txtu hbo\">ע</span></div><div class='features'><span class=\"cert xft\" ><span class=\"f\">cert=</span>55</span></div></div><div class=\"contnr c0 trm rtl  hl\"  style=\"background-color: lightsalmon;\" ><div class=\"lbl c0 trm hl\"  style=\"background-color: lightsalmon;\" ><span class=\"nd\">204732</span> <span class=\"txtu hbo\">ב</span></div><div class='features'><span class=\"cert xft\" ><span class=\"f\">cert=</span>55</span></div></div><div class=\"contnr c0 trm rtl  hl\"  style=\"background-color: lightsalmon;\" ><div class=\"lbl c0 trm hl\"  style=\"background-color: lightsalmon;\" ><span class=\"nd\">204733</span> <span class=\"txtu hbo\">י </span></div><div class='features'><span class=\"cert xft\" ><span class=\"f\">cert=</span>55</span></div></div></div></div><div class=\"contnr c1  rtl  \" ><div class=\"lbl c1  \" ><span class=\"nd\">word:1677999</span> <a target=\"_blank\" href=\"https://www.deadseascrolls.org.il/explore-the-archive\" title=\"Show this scroll in the Leon Levy library\"><span class=\"txtu hbo\">ו</span></a></div><div class='features'><span class=\"cert xft\" ><span class=\"f\">cert=</span>55</span></div><div class=\"children hor  rtl\"><div class=\"contnr c0 trm rtl  hl\"  style=\"background-color: lightsalmon;\" ><div class=\"lbl c0 trm hl\"  style=\"background-color: lightsalmon;\" ><span class=\"nd\">204734</span> <span class=\"txtu hbo\">ו</span></div><div class='features'><span class=\"cert xft\" ><span class=\"f\">cert=</span>55</span></div></div></div></div><div class=\"contnr c1  rtl  \" ><div class=\"lbl c1  \" ><span class=\"nd\">word:1678000</span> <a target=\"_blank\" href=\"https://www.deadseascrolls.org.il/explore-the-archive\" title=\"Show this scroll in the Leon Levy library\"><span class=\"txtu hbo\">הדיר </span></a></div><div class='features'><span class=\"cert xft\" ><span class=\"f\">cert=</span>55</span></div><div class=\"children hor  rtl\"><div class=\"contnr c0 trm rtl  hl\"  style=\"background-color: lightsalmon;\" ><div class=\"lbl c0 trm hl\"  style=\"background-color: lightsalmon;\" ><span class=\"nd\">204735</span> <span class=\"txtu hbo\">ה</span></div><div class='features'><span class=\"cert xft\" ><span class=\"f\">cert=</span>55</span></div></div><div class=\"contnr c0 trm rtl  hl\"  style=\"background-color: lightsalmon;\" ><div class=\"lbl c0 trm hl\"  style=\"background-color: lightsalmon;\" ><span class=\"nd\">204736</span> <span class=\"txtu hbo\">ד</span></div><div class='features'><span class=\"cert xft\" ><span class=\"f\">cert=</span>55</span></div></div><div class=\"contnr c0 trm rtl  hl\"  style=\"background-color: lightsalmon;\" ><div class=\"lbl c0 trm hl\"  style=\"background-color: lightsalmon;\" ><span class=\"nd\">204737</span> <span class=\"txtu hbo\">י</span></div><div class='features'><span class=\"cert xft\" ><span class=\"f\">cert=</span>55</span></div></div><div class=\"contnr c0 trm rtl  hl\"  style=\"background-color: lightsalmon;\" ><div class=\"lbl c0 trm hl\"  style=\"background-color: lightsalmon;\" ><span class=\"nd\">204738</span> <span class=\"txtu hbo\">ר </span></div><div class='features'><span class=\"cert xft\" ><span class=\"f\">cert=</span>55</span></div></div></div></div><div class=\"contnr c1  rtl  \" ><div class=\"lbl c1  \" ><span class=\"nd\">word:1678001</span> <a target=\"_blank\" href=\"https://www.deadseascrolls.org.il/explore-the-archive\" title=\"Show this scroll in the Leon Levy library\"><span class=\"txtu hbo\">ו</span></a></div><div class='features'><span class=\"cert xft\" ><span class=\"f\">cert=</span>55</span></div><div class=\"children hor  rtl\"><div class=\"contnr c0 trm rtl  hl\"  style=\"background-color: lightsalmon;\" ><div class=\"lbl c0 trm hl\"  style=\"background-color: lightsalmon;\" ><span class=\"nd\">204739</span> <span class=\"txtu hbo\">ו</span></div><div class='features'><span class=\"cert xft\" ><span class=\"f\">cert=</span>55</span></div></div></div></div><div class=\"contnr c1  rtl  \" ><div class=\"lbl c1  \" ><span class=\"nd\">word:1678002</span> <a target=\"_blank\" href=\"https://www.deadseascrolls.org.il/explore-the-archive\" title=\"Show this scroll in the Leon Levy library\"><span class=\"txtu hbo\">כדי </span></a></div><div class='features'><span class=\"cert xft\" ><span class=\"f\">cert=</span>55</span></div><div class=\"children hor  rtl\"><div class=\"contnr c0 trm rtl  hl\"  style=\"background-color: lightsalmon;\" ><div class=\"lbl c0 trm hl\"  style=\"background-color: lightsalmon;\" ><span class=\"nd\">204740</span> <span class=\"txtu hbo\">כ</span></div><div class='features'><span class=\"cert xft\" ><span class=\"f\">cert=</span>55</span></div></div><div class=\"contnr c0 trm rtl  hl\"  style=\"background-color: lightsalmon;\" ><div class=\"lbl c0 trm hl\"  style=\"background-color: lightsalmon;\" ><span class=\"nd\">204741</span> <span class=\"txtu hbo\">ד</span></div><div class='features'><span class=\"cert xft\" ><span class=\"f\">cert=</span>55</span></div></div><div class=\"contnr c0 trm rtl  hl\"  style=\"background-color: lightsalmon;\" ><div class=\"lbl c0 trm hl\"  style=\"background-color: lightsalmon;\" ><span class=\"nd\">204742</span> <span class=\"txtu hbo\">י </span></div><div class='features'><span class=\"cert xft\" ><span class=\"f\">cert=</span>55</span></div></div></div></div><div class=\"contnr c1  rtl  \" ><div class=\"lbl c1  \" ><span class=\"nd\">word:1678003</span> <a target=\"_blank\" href=\"https://www.deadseascrolls.org.il/explore-the-archive\" title=\"Show this scroll in the Leon Levy library\"><span class=\"txtu hbo\">פתח </span></a></div><div class='features'><span class=\"cert xft\" ><span class=\"f\">cert=</span>55</span></div><div class=\"children hor  rtl\"><div class=\"contnr c0 trm rtl  hl\"  style=\"background-color: lightsalmon;\" ><div class=\"lbl c0 trm hl\"  style=\"background-color: lightsalmon;\" ><span class=\"nd\">204743</span> <span class=\"txtu hbo\">פ</span></div><div class='features'><span class=\"cert xft\" ><span class=\"f\">cert=</span>55</span></div></div><div class=\"contnr c0 trm rtl  hl\"  style=\"background-color: lightsalmon;\" ><div class=\"lbl c0 trm hl\"  style=\"background-color: lightsalmon;\" ><span class=\"nd\">204744</span> <span class=\"txtu hbo\">ת</span></div><div class='features'><span class=\"cert xft\" ><span class=\"f\">cert=</span>55</span></div></div><div class=\"contnr c0 trm rtl  hl\"  style=\"background-color: lightsalmon;\" ><div class=\"lbl c0 trm hl\"  style=\"background-color: lightsalmon;\" ><span class=\"nd\">204745</span> <span class=\"txtu hbo\">ח </span></div><div class='features'><span class=\"cert xft\" ><span class=\"f\">cert=</span>55</span></div></div></div></div><div class=\"contnr c1  rtl  \" ><div class=\"lbl c1  \" ><span class=\"nd\">word:1678004</span> <a target=\"_blank\" href=\"https://www.deadseascrolls.org.il/explore-the-archive\" title=\"Show this scroll in the Leon Levy library\"><span class=\"txtu hbo\">עינו׳הי </span></a></div><div class='features'><span class=\"cert xft\" ><span class=\"f\">cert=</span>55</span></div><div class=\"children hor  rtl\"><div class=\"contnr c0 trm rtl  hl\"  style=\"background-color: lightsalmon;\" ><div class=\"lbl c0 trm hl\"  style=\"background-color: lightsalmon;\" ><span class=\"nd\">204746</span> <span class=\"txtu hbo\">ע</span></div><div class='features'><span class=\"cert xft\" ><span class=\"f\">cert=</span>55</span></div></div><div class=\"contnr c0 trm rtl  hl\"  style=\"background-color: lightsalmon;\" ><div class=\"lbl c0 trm hl\"  style=\"background-color: lightsalmon;\" ><span class=\"nd\">204747</span> <span class=\"txtu hbo\">י</span></div><div class='features'><span class=\"cert xft\" ><span class=\"f\">cert=</span>55</span></div></div><div class=\"contnr c0 trm rtl  hl\"  style=\"background-color: lightsalmon;\" ><div class=\"lbl c0 trm hl\"  style=\"background-color: lightsalmon;\" ><span class=\"nd\">204748</span> <span class=\"txtu hbo\">נ</span></div><div class='features'><span class=\"cert xft\" ><span class=\"f\">cert=</span>55</span></div></div><div class=\"contnr c0 trm rtl  hl\"  style=\"background-color: lightsalmon;\" ><div class=\"lbl c0 trm hl\"  style=\"background-color: lightsalmon;\" ><span class=\"nd\">204749</span> <span class=\"txtu hbo\">ו</span></div><div class='features'><span class=\"cert xft\" ><span class=\"f\">cert=</span>55</span></div></div><div class=\"contnr c0 trm rtl  \" ><div class=\"lbl c0 trm \" ><span class=\"nd\">204750</span> <span class=\"txtu hbo\">׳</span></div></div><div class=\"contnr c0 trm rtl  hl\"  style=\"background-color: lightsalmon;\" ><div class=\"lbl c0 trm hl\"  style=\"background-color: lightsalmon;\" ><span class=\"nd\">204751</span> <span class=\"txtu hbo\">ה</span></div><div class='features'><span class=\"cert xft\" ><span class=\"f\">cert=</span>55</span></div></div><div class=\"contnr c0 trm rtl  hl\"  style=\"background-color: lightsalmon;\" ><div class=\"lbl c0 trm hl\"  style=\"background-color: lightsalmon;\" ><span class=\"nd\">204752</span> <span class=\"txtu hbo\">י </span></div><div class='features'><span class=\"cert xft\" ><span class=\"f\">cert=</span>55</span></div></div></div></div><div class=\"contnr c1  rtl  \" ><div class=\"lbl c1  \" ><span class=\"nd\">word:1678005</span> <a target=\"_blank\" href=\"https://www.deadseascrolls.org.il/explore-the-archive\" title=\"Show this scroll in the Leon Levy library\"><span class=\"txtu hbo\">אניר </span></a></div><div class='features'><span class=\"cert xft\" ><span class=\"f\">cert=</span>55</span></div><div class=\"children hor  rtl\"><div class=\"contnr c0 trm rtl  hl\"  style=\"background-color: lightsalmon;\" ><div class=\"lbl c0 trm hl\"  style=\"background-color: lightsalmon;\" ><span class=\"nd\">204753</span> <span class=\"txtu hbo\">א</span></div><div class='features'><span class=\"cert xft\" ><span class=\"f\">cert=</span>55</span></div></div><div class=\"contnr c0 trm rtl  hl\"  style=\"background-color: lightsalmon;\" ><div class=\"lbl c0 trm hl\"  style=\"background-color: lightsalmon;\" ><span class=\"nd\">204754</span> <span class=\"txtu hbo\">נ</span></div><div class='features'><span class=\"cert xft\" ><span class=\"f\">cert=</span>55</span></div></div><div class=\"contnr c0 trm rtl  hl\"  style=\"background-color: lightsalmon;\" ><div class=\"lbl c0 trm hl\"  style=\"background-color: lightsalmon;\" ><span class=\"nd\">204755</span> <span class=\"txtu hbo\">י</span></div><div class='features'><span class=\"cert xft\" ><span class=\"f\">cert=</span>55</span></div></div><div class=\"contnr c0 trm rtl  hl\"  style=\"background-color: lightsalmon;\" ><div class=\"lbl c0 trm hl\"  style=\"background-color: lightsalmon;\" ><span class=\"nd\">204756</span> <span class=\"txtu hbo\">ר </span></div><div class='features'><span class=\"cert xft\" ><span class=\"f\">cert=</span>55</span></div></div></div></div><div class=\"contnr c1  rtl lno \" ><div class=\"lbl c1  \" ><span class=\"nd\">word:1678006</span> <a target=\"_blank\" href=\"https://www.deadseascrolls.org.il/explore-the-archive\" title=\"Show this scroll in the Leon Levy library\"><span class=\"txtu hbo\">כול </span></a></div><div class='features'><span class=\"cert xft\" ><span class=\"f\">cert=</span>57</span></div><div class=\"children hor  rtl\"><div class=\"contnr c0 trm rtl  hl\"  style=\"background-color: lightsalmon;\" ><div class=\"lbl c0 trm hl\"  style=\"background-color: lightsalmon;\" ><span class=\"nd\">204757</span> <span class=\"txtu hbo\">כ</span></div><div class='features'><span class=\"cert xft\" ><span class=\"f\">cert=</span>55</span></div></div><div class=\"contnr c0 trm rtl  hl\"  style=\"background-color: lightsalmon;\" ><div class=\"lbl c0 trm hl\"  style=\"background-color: lightsalmon;\" ><span class=\"nd\">204758</span> <span class=\"txtu hbo\">ו</span></div><div class='features'><span class=\"cert xft\" ><span class=\"f\">cert=</span>55</span></div></div></div></div></div></div><div class=\"contnr c1  rtl rno \" ><div class=\"lbl c1  \" ><span class=\"nd\">word:1678006</span> <a target=\"_blank\" href=\"https://www.deadseascrolls.org.il/explore-the-archive\" title=\"Show this scroll in the Leon Levy library\"><span class=\"txtu hbo\">כול </span></a></div><div class='features'><span class=\"cert xft\" ><span class=\"f\">cert=</span>57</span></div><div class=\"children hor  rtl\"><div class=\"contnr c0 trm rtl  hl\"  style=\"background-color: mediumaquamarine;\" ><div class=\"lbl c0 trm hl\"  style=\"background-color: mediumaquamarine;\" ><span class=\"nd\">204759</span> <span class=\"txtu hbo\">ל </span></div><div class='features'><span class=\"cert xft\" ><span class=\"f\">cert=</span>60</span></div></div></div></div></div></div></div>"
      ],
      "text/plain": [
       "<IPython.core.display.HTML object>"
      ]
     },
     "metadata": {},
     "output_type": "display_data"
    },
    {
     "data": {
      "text/html": [
       "<p><b>line</b> <i>101</i></p>"
      ],
      "text/plain": [
       "<IPython.core.display.HTML object>"
      ]
     },
     "metadata": {},
     "output_type": "display_data"
    },
    {
     "data": {
      "text/html": [
       "<div class=\"section rtl\"><a target=\"_blank\" href=\"https://www.deadseascrolls.org.il/explore-the-archive/search#q='4Q204'\" title=\"Show this scroll in the Leon Levy library\" sec=\"4Q204 f5i:30\">4Q204 f5i:30</a></div><div class=\"rtl children\"><div class=\"contnr c3  rtl  \" ><div class=\"lbl c3  \" ><span class=\"nd\">line:1559892</span></div><div class='features'><span class=\"cert xft\" ><span class=\"f\">cert=</span>55</span></div><div class=\"children hor wrap rtl\"><div class=\"contnr c2  rtl  \" ><div class=\"lbl c2  \" ><span class=\"nd\">cluster:1441916</span></div><div class=\"children hor wrap rtl\"><div class=\"contnr c1  rtl  \" ><div class=\"lbl c1  \" ><span class=\"nd\">word:1678007</span> <a target=\"_blank\" href=\"https://www.deadseascrolls.org.il/explore-the-archive\" title=\"Show this scroll in the Leon Levy library\"><span class=\"txtu hbo\">בית</span></a></div><div class='features'><span class=\"cert xft\" ><span class=\"f\">cert=</span>55</span></div><div class=\"children hor  rtl\"><div class=\"contnr c0 trm rtl  hl\"  style=\"background-color: lightsalmon;\" ><div class=\"lbl c0 trm hl\"  style=\"background-color: lightsalmon;\" ><span class=\"nd\">204760</span> <span class=\"txtu hbo\">ב</span></div><div class='features'><span class=\"cert xft\" ><span class=\"f\">cert=</span>55</span></div></div><div class=\"contnr c0 trm rtl  hl\"  style=\"background-color: lightsalmon;\" ><div class=\"lbl c0 trm hl\"  style=\"background-color: lightsalmon;\" ><span class=\"nd\">204761</span> <span class=\"txtu hbo\">י</span></div><div class='features'><span class=\"cert xft\" ><span class=\"f\">cert=</span>55</span></div></div><div class=\"contnr c0 trm rtl  hl\"  style=\"background-color: lightsalmon;\" ><div class=\"lbl c0 trm hl\"  style=\"background-color: lightsalmon;\" ><span class=\"nd\">204762</span> <span class=\"txtu hbo\">ת</span></div><div class='features'><span class=\"cert xft\" ><span class=\"f\">cert=</span>55</span></div></div></div></div><div class=\"contnr c1  rtl  \" ><div class=\"lbl c1  \" ><span class=\"nd\">word:1678008</span> <a target=\"_blank\" href=\"https://www.deadseascrolls.org.il/explore-the-archive\" title=\"Show this scroll in the Leon Levy library\"><span class=\"txtu hbo\">א </span></a></div><div class='features'><span class=\"cert xft\" ><span class=\"f\">cert=</span>55</span></div><div class=\"children hor  rtl\"><div class=\"contnr c0 trm rtl  hl\"  style=\"background-color: lightsalmon;\" ><div class=\"lbl c0 trm hl\"  style=\"background-color: lightsalmon;\" ><span class=\"nd\">204763</span> <span class=\"txtu hbo\">א </span></div><div class='features'><span class=\"cert xft\" ><span class=\"f\">cert=</span>55</span></div></div></div></div><div class=\"contnr c1  rtl  \" ><div class=\"lbl c1  \" ><span class=\"nd\">word:1678009</span> <a target=\"_blank\" href=\"https://www.deadseascrolls.org.il/explore-the-archive\" title=\"Show this scroll in the Leon Levy library\"><span class=\"txtu hbo\">כ</span></a></div><div class='features'><span class=\"cert xft\" ><span class=\"f\">cert=</span>55</span></div><div class=\"children hor  rtl\"><div class=\"contnr c0 trm rtl  hl\"  style=\"background-color: lightsalmon;\" ><div class=\"lbl c0 trm hl\"  style=\"background-color: lightsalmon;\" ><span class=\"nd\">204764</span> <span class=\"txtu hbo\">כ</span></div><div class='features'><span class=\"cert xft\" ><span class=\"f\">cert=</span>55</span></div></div></div></div><div class=\"contnr c1  rtl  \" ><div class=\"lbl c1  \" ><span class=\"nd\">word:1678010</span> <a target=\"_blank\" href=\"https://www.deadseascrolls.org.il/explore-the-archive\" title=\"Show this scroll in the Leon Levy library\"><span class=\"txtu hbo\">שמש</span></a></div><div class='features'><span class=\"cert xft\" ><span class=\"f\">cert=</span>55</span></div><div class=\"children hor  rtl\"><div class=\"contnr c0 trm rtl  hl\"  style=\"background-color: lightsalmon;\" ><div class=\"lbl c0 trm hl\"  style=\"background-color: lightsalmon;\" ><span class=\"nd\">204765</span> <span class=\"txtu hbo\">ש</span></div><div class='features'><span class=\"cert xft\" ><span class=\"f\">cert=</span>55</span></div></div><div class=\"contnr c0 trm rtl  hl\"  style=\"background-color: lightsalmon;\" ><div class=\"lbl c0 trm hl\"  style=\"background-color: lightsalmon;\" ><span class=\"nd\">204766</span> <span class=\"txtu hbo\">מ</span></div><div class='features'><span class=\"cert xft\" ><span class=\"f\">cert=</span>55</span></div></div><div class=\"contnr c0 trm rtl  hl\"  style=\"background-color: lightsalmon;\" ><div class=\"lbl c0 trm hl\"  style=\"background-color: lightsalmon;\" ><span class=\"nd\">204767</span> <span class=\"txtu hbo\">ש</span></div><div class='features'><span class=\"cert xft\" ><span class=\"f\">cert=</span>55</span></div></div></div></div><div class=\"contnr c1  rtl  \" ><div class=\"lbl c1  \" ><span class=\"nd\">word:1678011</span> <a target=\"_blank\" href=\"https://www.deadseascrolls.org.il/explore-the-archive\" title=\"Show this scroll in the Leon Levy library\"><span class=\"txtu hbo\">א </span></a></div><div class='features'><span class=\"cert xft\" ><span class=\"f\">cert=</span>55</span></div><div class=\"children hor  rtl\"><div class=\"contnr c0 trm rtl  hl\"  style=\"background-color: lightsalmon;\" ><div class=\"lbl c0 trm hl\"  style=\"background-color: lightsalmon;\" ><span class=\"nd\">204768</span> <span class=\"txtu hbo\">א </span></div><div class='features'><span class=\"cert xft\" ><span class=\"f\">cert=</span>55</span></div></div></div></div><div class=\"contnr c1  rtl  \" ><div class=\"lbl c1  \" ><span class=\"nd\">word:1678012</span> <a target=\"_blank\" href=\"https://www.deadseascrolls.org.il/explore-the-archive\" title=\"Show this scroll in the Leon Levy library\"><span class=\"txtu hbo\">ε </span></a></div><div class=\"children hor  rtl\"><div class=\"contnr c0 trm rtl  \" ><div class=\"lbl c0 trm \" ><span class=\"nd\">204769</span></div></div><div class=\"contnr c0 trm rtl  \" ><div class=\"lbl c0 trm \" ><span class=\"nd\">204770</span> <span class=\"txtu hbo\">ε </span></div></div></div></div></div></div><div class=\"contnr c1  rtl  \" ><div class=\"lbl c1  \" ><span class=\"nd\">word:1678013</span> <span class=\"txtu hbo\">׃ </span></div><div class=\"children hor  rtl\"><div class=\"contnr c0 trm rtl  \" ><div class=\"lbl c0 trm \" ><span class=\"nd\">204771</span></div></div><div class=\"contnr c0 trm rtl  \" ><div class=\"lbl c0 trm \" ><span class=\"nd\">204772</span> <span class=\"txtu hbo\">׃ </span></div></div></div></div></div></div></div>"
      ],
      "text/plain": [
       "<IPython.core.display.HTML object>"
      ]
     },
     "metadata": {},
     "output_type": "display_data"
    },
    {
     "data": {
      "text/html": [
       "<p><b>line</b> <i>102</i></p>"
      ],
      "text/plain": [
       "<IPython.core.display.HTML object>"
      ]
     },
     "metadata": {},
     "output_type": "display_data"
    },
    {
     "data": {
      "text/html": [
       "<div class=\"section rtl\"><a target=\"_blank\" href=\"https://www.deadseascrolls.org.il/explore-the-archive/search#q='4Q204'\" title=\"Show this scroll in the Leon Levy library\" sec=\"4Q204 f5ii:16\">4Q204 f5ii:16</a></div><div class=\"rtl children\"><div class=\"contnr c3  rtl  \" ><div class=\"lbl c3  \" ><span class=\"nd\">line:1559893</span></div><div class='features'><span class=\"cert xft\" ><span class=\"f\">cert=</span>55</span></div><div class=\"children hor wrap rtl\"><div class=\"contnr c2  rtl  \" ><div class=\"lbl c2  \" ><span class=\"nd\">cluster:1441917</span></div><div class=\"children hor wrap rtl\"><div class=\"contnr c1  rtl  \" ><div class=\"lbl c1  \" ><span class=\"nd\">word:1678014</span> <a target=\"_blank\" href=\"https://www.deadseascrolls.org.il/explore-the-archive\" title=\"Show this scroll in the Leon Levy library\"><span class=\"txtu hbo\">ε </span></a></div><div class=\"children hor  rtl\"><div class=\"contnr c0 trm rtl  \" ><div class=\"lbl c0 trm \" ><span class=\"nd\">204773</span></div></div><div class=\"contnr c0 trm rtl  \" ><div class=\"lbl c0 trm \" ><span class=\"nd\">204774</span> <span class=\"txtu hbo\">ε </span></div></div></div></div><div class=\"contnr c1  rtl  \" ><div class=\"lbl c1  \" ><span class=\"nd\">word:1678015</span> <a target=\"_blank\" href=\"https://www.deadseascrolls.org.il/explore-the-archive\" title=\"Show this scroll in the Leon Levy library\"><span class=\"txtu hbo\">ב</span></a></div><div class='features'><span class=\"cert xft\" ><span class=\"f\">cert=</span>55</span></div><div class=\"children hor  rtl\"><div class=\"contnr c0 trm rtl  hl\"  style=\"background-color: lightsalmon;\" ><div class=\"lbl c0 trm hl\"  style=\"background-color: lightsalmon;\" ><span class=\"nd\">204775</span> <span class=\"txtu hbo\">ב</span></div><div class='features'><span class=\"cert xft\" ><span class=\"f\">cert=</span>55</span></div></div></div></div><div class=\"contnr c1  rtl  \" ><div class=\"lbl c1  \" ><span class=\"nd\">word:1678016</span> <a target=\"_blank\" href=\"https://www.deadseascrolls.org.il/explore-the-archive\" title=\"Show this scroll in the Leon Levy library\"><span class=\"txtu hbo\">אדין </span></a></div><div class='features'><span class=\"cert xft\" ><span class=\"f\">cert=</span>55</span></div><div class=\"children hor  rtl\"><div class=\"contnr c0 trm rtl  hl\"  style=\"background-color: lightsalmon;\" ><div class=\"lbl c0 trm hl\"  style=\"background-color: lightsalmon;\" ><span class=\"nd\">204776</span> <span class=\"txtu hbo\">א</span></div><div class='features'><span class=\"cert xft\" ><span class=\"f\">cert=</span>55</span></div></div><div class=\"contnr c0 trm rtl  hl\"  style=\"background-color: lightsalmon;\" ><div class=\"lbl c0 trm hl\"  style=\"background-color: lightsalmon;\" ><span class=\"nd\">204777</span> <span class=\"txtu hbo\">ד</span></div><div class='features'><span class=\"cert xft\" ><span class=\"f\">cert=</span>55</span></div></div><div class=\"contnr c0 trm rtl  hl\"  style=\"background-color: lightsalmon;\" ><div class=\"lbl c0 trm hl\"  style=\"background-color: lightsalmon;\" ><span class=\"nd\">204778</span> <span class=\"txtu hbo\">י</span></div><div class='features'><span class=\"cert xft\" ><span class=\"f\">cert=</span>55</span></div></div><div class=\"contnr c0 trm rtl  hl\"  style=\"background-color: lightsalmon;\" ><div class=\"lbl c0 trm hl\"  style=\"background-color: lightsalmon;\" ><span class=\"nd\">204779</span> <span class=\"txtu hbo\">ן </span></div><div class='features'><span class=\"cert xft\" ><span class=\"f\">cert=</span>55</span></div></div></div></div><div class=\"contnr c1  rtl  \" ><div class=\"lbl c1  \" ><span class=\"nd\">word:1678017</span> <a target=\"_blank\" href=\"https://www.deadseascrolls.org.il/explore-the-archive\" title=\"Show this scroll in the Leon Levy library\"><span class=\"txtu hbo\">ענית </span></a></div><div class='features'><span class=\"cert xft\" ><span class=\"f\">cert=</span>55</span></div><div class=\"children hor  rtl\"><div class=\"contnr c0 trm rtl  hl\"  style=\"background-color: lightsalmon;\" ><div class=\"lbl c0 trm hl\"  style=\"background-color: lightsalmon;\" ><span class=\"nd\">204780</span> <span class=\"txtu hbo\">ע</span></div><div class='features'><span class=\"cert xft\" ><span class=\"f\">cert=</span>55</span></div></div><div class=\"contnr c0 trm rtl  hl\"  style=\"background-color: lightsalmon;\" ><div class=\"lbl c0 trm hl\"  style=\"background-color: lightsalmon;\" ><span class=\"nd\">204781</span> <span class=\"txtu hbo\">נ</span></div><div class='features'><span class=\"cert xft\" ><span class=\"f\">cert=</span>55</span></div></div><div class=\"contnr c0 trm rtl  hl\"  style=\"background-color: lightsalmon;\" ><div class=\"lbl c0 trm hl\"  style=\"background-color: lightsalmon;\" ><span class=\"nd\">204782</span> <span class=\"txtu hbo\">י</span></div><div class='features'><span class=\"cert xft\" ><span class=\"f\">cert=</span>55</span></div></div><div class=\"contnr c0 trm rtl  hl\"  style=\"background-color: lightsalmon;\" ><div class=\"lbl c0 trm hl\"  style=\"background-color: lightsalmon;\" ><span class=\"nd\">204783</span> <span class=\"txtu hbo\">ת </span></div><div class='features'><span class=\"cert xft\" ><span class=\"f\">cert=</span>55</span></div></div></div></div><div class=\"contnr c1  rtl  \" ><div class=\"lbl c1  \" ><span class=\"nd\">word:1678018</span> <a target=\"_blank\" href=\"https://www.deadseascrolls.org.il/explore-the-archive\" title=\"Show this scroll in the Leon Levy library\"><span class=\"txtu hbo\">אנה </span></a></div><div class='features'><span class=\"cert xft\" ><span class=\"f\">cert=</span>55</span></div><div class=\"children hor  rtl\"><div class=\"contnr c0 trm rtl  hl\"  style=\"background-color: lightsalmon;\" ><div class=\"lbl c0 trm hl\"  style=\"background-color: lightsalmon;\" ><span class=\"nd\">204784</span> <span class=\"txtu hbo\">א</span></div><div class='features'><span class=\"cert xft\" ><span class=\"f\">cert=</span>55</span></div></div><div class=\"contnr c0 trm rtl  hl\"  style=\"background-color: lightsalmon;\" ><div class=\"lbl c0 trm hl\"  style=\"background-color: lightsalmon;\" ><span class=\"nd\">204785</span> <span class=\"txtu hbo\">נ</span></div><div class='features'><span class=\"cert xft\" ><span class=\"f\">cert=</span>55</span></div></div><div class=\"contnr c0 trm rtl  hl\"  style=\"background-color: lightsalmon;\" ><div class=\"lbl c0 trm hl\"  style=\"background-color: lightsalmon;\" ><span class=\"nd\">204786</span> <span class=\"txtu hbo\">ה </span></div><div class='features'><span class=\"cert xft\" ><span class=\"f\">cert=</span>55</span></div></div></div></div><div class=\"contnr c1  rtl  \" ><div class=\"lbl c1  \" ><span class=\"nd\">word:1678019</span> <a target=\"_blank\" href=\"https://www.deadseascrolls.org.il/explore-the-archive\" title=\"Show this scroll in the Leon Levy library\"><span class=\"txtu hbo\">חנוך </span></a></div><div class='features'><span class=\"cert xft\" ><span class=\"f\">cert=</span>55</span></div><div class=\"children hor  rtl\"><div class=\"contnr c0 trm rtl  hl\"  style=\"background-color: lightsalmon;\" ><div class=\"lbl c0 trm hl\"  style=\"background-color: lightsalmon;\" ><span class=\"nd\">204787</span> <span class=\"txtu hbo\">ח</span></div><div class='features'><span class=\"cert xft\" ><span class=\"f\">cert=</span>55</span></div></div><div class=\"contnr c0 trm rtl  hl\"  style=\"background-color: lightsalmon;\" ><div class=\"lbl c0 trm hl\"  style=\"background-color: lightsalmon;\" ><span class=\"nd\">204788</span> <span class=\"txtu hbo\">נ</span></div><div class='features'><span class=\"cert xft\" ><span class=\"f\">cert=</span>55</span></div></div><div class=\"contnr c0 trm rtl  hl\"  style=\"background-color: lightsalmon;\" ><div class=\"lbl c0 trm hl\"  style=\"background-color: lightsalmon;\" ><span class=\"nd\">204789</span> <span class=\"txtu hbo\">ו</span></div><div class='features'><span class=\"cert xft\" ><span class=\"f\">cert=</span>55</span></div></div><div class=\"contnr c0 trm rtl  hl\"  style=\"background-color: lightsalmon;\" ><div class=\"lbl c0 trm hl\"  style=\"background-color: lightsalmon;\" ><span class=\"nd\">204790</span> <span class=\"txtu hbo\">ך </span></div><div class='features'><span class=\"cert xft\" ><span class=\"f\">cert=</span>55</span></div></div></div></div><div class=\"contnr c1  rtl  \" ><div class=\"lbl c1  \" ><span class=\"nd\">word:1678020</span> <a target=\"_blank\" href=\"https://www.deadseascrolls.org.il/explore-the-archive\" title=\"Show this scroll in the Leon Levy library\"><span class=\"txtu hbo\">אמר </span></a></div><div class='features'><span class=\"cert xft\" ><span class=\"f\">cert=</span>55</span></div><div class=\"children hor  rtl\"><div class=\"contnr c0 trm rtl  hl\"  style=\"background-color: lightsalmon;\" ><div class=\"lbl c0 trm hl\"  style=\"background-color: lightsalmon;\" ><span class=\"nd\">204791</span> <span class=\"txtu hbo\">א</span></div><div class='features'><span class=\"cert xft\" ><span class=\"f\">cert=</span>55</span></div></div><div class=\"contnr c0 trm rtl  hl\"  style=\"background-color: lightsalmon;\" ><div class=\"lbl c0 trm hl\"  style=\"background-color: lightsalmon;\" ><span class=\"nd\">204792</span> <span class=\"txtu hbo\">מ</span></div><div class='features'><span class=\"cert xft\" ><span class=\"f\">cert=</span>55</span></div></div><div class=\"contnr c0 trm rtl  hl\"  style=\"background-color: lightsalmon;\" ><div class=\"lbl c0 trm hl\"  style=\"background-color: lightsalmon;\" ><span class=\"nd\">204793</span> <span class=\"txtu hbo\">ר </span></div><div class='features'><span class=\"cert xft\" ><span class=\"f\">cert=</span>55</span></div></div></div></div></div></div></div></div></div>"
      ],
      "text/plain": [
       "<IPython.core.display.HTML object>"
      ]
     },
     "metadata": {},
     "output_type": "display_data"
    }
   ],
   "source": [
    "A.show(\n",
    "    results,\n",
    "    start=100,\n",
    "    end=102,\n",
    "    withNodes=True,\n",
    "    condensed=True,\n",
    "    highlights=highlights,\n",
    "    baseTypes=\"sign\",\n",
    ")"
   ]
  },
  {
   "cell_type": "markdown",
   "metadata": {},
   "source": [
    "# All together!\n",
    "\n",
    "If more researchers have shared data modules, you can draw them all in.\n",
    "\n",
    "Then you can design queries that use features from all these different sources.\n",
    "\n",
    "In that way, you build your own research on top of the work of others."
   ]
  },
  {
   "cell_type": "markdown",
   "metadata": {},
   "source": [
    "Hover over the features to see where they come from, and you'll see they come from your local github repo."
   ]
  },
  {
   "cell_type": "markdown",
   "metadata": {},
   "source": [
    "---\n",
    "\n",
    "All chapters:\n",
    "\n",
    "* **[start](start.ipynb)** become an expert in creating pretty displays of your text structures\n",
    "* **[display](display.ipynb)** become an expert in creating pretty displays of your text structures\n",
    "* **[search](search.ipynb)** turbo charge your hand-coding with search templates\n",
    "* **[exportExcel](exportExcel.ipynb)** make tailor-made spreadsheets out of your results\n",
    "* **share** draw in other people's data and let them use yours\n",
    "* **[similarLines](similarLines.ipynb)** spot the similarities between lines\n",
    "\n",
    "---\n",
    "\n",
    "See the [cookbook](cookbook) for recipes for small, concrete tasks.\n",
    "\n",
    "CC-BY Dirk Roorda"
   ]
  }
 ],
 "metadata": {
  "kernelspec": {
   "display_name": "Python 3",
   "language": "python",
   "name": "python3"
  },
  "language_info": {
   "codemirror_mode": {
    "name": "ipython",
    "version": 3
   },
   "file_extension": ".py",
   "mimetype": "text/x-python",
   "name": "python",
   "nbconvert_exporter": "python",
   "pygments_lexer": "ipython3",
   "version": "3.7.7"
  }
 },
 "nbformat": 4,
 "nbformat_minor": 4
}
