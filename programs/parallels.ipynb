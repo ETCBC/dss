{
 "cells": [
  {
   "cell_type": "code",
   "execution_count": 1,
   "metadata": {},
   "outputs": [],
   "source": [
    "%load_ext autoreload\n",
    "%autoreload 2"
   ]
  },
  {
   "cell_type": "code",
   "execution_count": 2,
   "metadata": {},
   "outputs": [],
   "source": [
    "import os\n",
    "import collections\n",
    "import pickle\n",
    "import gzip\n",
    "\n",
    "from tf.app import use"
   ]
  },
  {
   "cell_type": "code",
   "execution_count": 3,
   "metadata": {},
   "outputs": [
    {
     "name": "stdout",
     "output_type": "stream",
     "text": [
      "Using TF-app in /Users/dirk/github/annotation/app-dss/code:\n",
      "\trepo clone offline under ~/github (local github)\n",
      "Using data in /Users/dirk/github/etcbc/dss/tf/0.4:\n",
      "\trepo clone offline under ~/github (local github)\n"
     ]
    },
    {
     "data": {
      "text/html": [
       "<b>Documentation:</b> <a target=\"_blank\" href=\"https://github.com/etcbc/dss/blob/master/docs/\" title=\"provenance of Dead Sea Scrolls\">DSS</a> <a target=\"_blank\" href=\"https://annotation.github.io/text-fabric/Writing/Hebrew.html\" title=\"Hebrew characters and transcriptions\">Character table</a> <a target=\"_blank\" href=\"https://github.com/etcbc/dss/blob/master/docs//transcription.md\" title=\"DSS feature documentation\">Feature docs</a> <a target=\"_blank\" href=\"https://github.com/annotation/app-dss\" title=\"dss API documentation\">dss API</a> <a target=\"_blank\" href=\"https://annotation.github.io/text-fabric/Api/Fabric/\" title=\"text-fabric-api\">Text-Fabric API 7.7.0</a> <a target=\"_blank\" href=\"https://annotation.github.io/text-fabric/Use/Search/\" title=\"Search Templates Introduction and Reference\">Search Reference</a><details open><summary><b>Loaded features</b>:</summary>\n",
       "<p><b>Dead Sea Scrolls</b>: <a target=\"_blank\" href=\"https://github.com/etcbc/dss/blob/master/docs//transcription.md\" title=\"/Users/dirk/github/etcbc/dss/tf/0.4/after.tf\">after</a>  <a target=\"_blank\" href=\"https://github.com/etcbc/dss/blob/master/docs//transcription.md\" title=\"/Users/dirk/github/etcbc/dss/tf/0.4/alt.tf\">alt</a>  <a target=\"_blank\" href=\"https://github.com/etcbc/dss/blob/master/docs//transcription.md\" title=\"/Users/dirk/github/etcbc/dss/tf/0.4/biblical.tf\">biblical</a>  <a target=\"_blank\" href=\"https://github.com/etcbc/dss/blob/master/docs//transcription.md\" title=\"/Users/dirk/github/etcbc/dss/tf/0.4/book.tf\">book</a>  <a target=\"_blank\" href=\"https://github.com/etcbc/dss/blob/master/docs//transcription.md\" title=\"/Users/dirk/github/etcbc/dss/tf/0.4/chapter.tf\">chapter</a>  <a target=\"_blank\" href=\"https://github.com/etcbc/dss/blob/master/docs//transcription.md\" title=\"/Users/dirk/github/etcbc/dss/tf/0.4/cl.tf\">cl</a>  <a target=\"_blank\" href=\"https://github.com/etcbc/dss/blob/master/docs//transcription.md\" title=\"/Users/dirk/github/etcbc/dss/tf/0.4/cl2.tf\">cl2</a>  <a target=\"_blank\" href=\"https://github.com/etcbc/dss/blob/master/docs//transcription.md\" title=\"/Users/dirk/github/etcbc/dss/tf/0.4/cor.tf\">cor</a>  <a target=\"_blank\" href=\"https://github.com/etcbc/dss/blob/master/docs//transcription.md\" title=\"/Users/dirk/github/etcbc/dss/tf/0.4/fragment.tf\">fragment</a>  <a target=\"_blank\" href=\"https://github.com/etcbc/dss/blob/master/docs//transcription.md\" title=\"/Users/dirk/github/etcbc/dss/tf/0.4/full.tf\">full</a>  <a target=\"_blank\" href=\"https://github.com/etcbc/dss/blob/master/docs//transcription.md\" title=\"/Users/dirk/github/etcbc/dss/tf/0.4/fulle.tf\">fulle</a>  <a target=\"_blank\" href=\"https://github.com/etcbc/dss/blob/master/docs//transcription.md\" title=\"/Users/dirk/github/etcbc/dss/tf/0.4/fullo.tf\">fullo</a>  <a target=\"_blank\" href=\"https://github.com/etcbc/dss/blob/master/docs//transcription.md\" title=\"/Users/dirk/github/etcbc/dss/tf/0.4/glex.tf\">glex</a>  <a target=\"_blank\" href=\"https://github.com/etcbc/dss/blob/master/docs//transcription.md\" title=\"/Users/dirk/github/etcbc/dss/tf/0.4/glexe.tf\">glexe</a>  <a target=\"_blank\" href=\"https://github.com/etcbc/dss/blob/master/docs//transcription.md\" title=\"/Users/dirk/github/etcbc/dss/tf/0.4/glexo.tf\">glexo</a>  <a target=\"_blank\" href=\"https://github.com/etcbc/dss/blob/master/docs//transcription.md\" title=\"/Users/dirk/github/etcbc/dss/tf/0.4/glyph.tf\">glyph</a>  <a target=\"_blank\" href=\"https://github.com/etcbc/dss/blob/master/docs//transcription.md\" title=\"/Users/dirk/github/etcbc/dss/tf/0.4/glyphe.tf\">glyphe</a>  <a target=\"_blank\" href=\"https://github.com/etcbc/dss/blob/master/docs//transcription.md\" title=\"/Users/dirk/github/etcbc/dss/tf/0.4/glypho.tf\">glypho</a>  <a target=\"_blank\" href=\"https://github.com/etcbc/dss/blob/master/docs//transcription.md\" title=\"/Users/dirk/github/etcbc/dss/tf/0.4/gn.tf\">gn</a>  <a target=\"_blank\" href=\"https://github.com/etcbc/dss/blob/master/docs//transcription.md\" title=\"/Users/dirk/github/etcbc/dss/tf/0.4/gn2.tf\">gn2</a>  <a target=\"_blank\" href=\"https://github.com/etcbc/dss/blob/master/docs//transcription.md\" title=\"/Users/dirk/github/etcbc/dss/tf/0.4/gn3.tf\">gn3</a>  <a target=\"_blank\" href=\"https://github.com/etcbc/dss/blob/master/docs//transcription.md\" title=\"/Users/dirk/github/etcbc/dss/tf/0.4/halfverse.tf\">halfverse</a>  <a target=\"_blank\" href=\"https://github.com/etcbc/dss/blob/master/docs//transcription.md\" title=\"/Users/dirk/github/etcbc/dss/tf/0.4/intl.tf\">intl</a>  <a target=\"_blank\" href=\"https://github.com/etcbc/dss/blob/master/docs//transcription.md\" title=\"/Users/dirk/github/etcbc/dss/tf/0.4/lang.tf\">lang</a>  <a target=\"_blank\" href=\"https://github.com/etcbc/dss/blob/master/docs//transcription.md\" title=\"/Users/dirk/github/etcbc/dss/tf/0.4/lex.tf\">lex</a>  <a target=\"_blank\" href=\"https://github.com/etcbc/dss/blob/master/docs//transcription.md\" title=\"/Users/dirk/github/etcbc/dss/tf/0.4/lexe.tf\">lexe</a>  <a target=\"_blank\" href=\"https://github.com/etcbc/dss/blob/master/docs//transcription.md\" title=\"/Users/dirk/github/etcbc/dss/tf/0.4/lexo.tf\">lexo</a>  <a target=\"_blank\" href=\"https://github.com/etcbc/dss/blob/master/docs//transcription.md\" title=\"/Users/dirk/github/etcbc/dss/tf/0.4/line.tf\">line</a>  <a target=\"_blank\" href=\"https://github.com/etcbc/dss/blob/master/docs//transcription.md\" title=\"/Users/dirk/github/etcbc/dss/tf/0.4/md.tf\">md</a>  <a target=\"_blank\" href=\"https://github.com/etcbc/dss/blob/master/docs//transcription.md\" title=\"/Users/dirk/github/etcbc/dss/tf/0.4/merr.tf\">merr</a>  <a target=\"_blank\" href=\"https://github.com/etcbc/dss/blob/master/docs//transcription.md\" title=\"/Users/dirk/github/etcbc/dss/tf/0.4/morpho.tf\">morpho</a>  <a target=\"_blank\" href=\"https://github.com/etcbc/dss/blob/master/docs//transcription.md\" title=\"/Users/dirk/github/etcbc/dss/tf/0.4/nu.tf\">nu</a>  <a target=\"_blank\" href=\"https://github.com/etcbc/dss/blob/master/docs//transcription.md\" title=\"/Users/dirk/github/etcbc/dss/tf/0.4/nu2.tf\">nu2</a>  <a target=\"_blank\" href=\"https://github.com/etcbc/dss/blob/master/docs//transcription.md\" title=\"/Users/dirk/github/etcbc/dss/tf/0.4/nu3.tf\">nu3</a>  <a target=\"_blank\" href=\"https://github.com/etcbc/dss/blob/master/docs//transcription.md\" title=\"/Users/dirk/github/etcbc/dss/tf/0.4/otype.tf\">otype</a>  <a target=\"_blank\" href=\"https://github.com/etcbc/dss/blob/master/docs//transcription.md\" title=\"/Users/dirk/github/etcbc/dss/tf/0.4/ps.tf\">ps</a>  <a target=\"_blank\" href=\"https://github.com/etcbc/dss/blob/master/docs//transcription.md\" title=\"/Users/dirk/github/etcbc/dss/tf/0.4/ps2.tf\">ps2</a>  <a target=\"_blank\" href=\"https://github.com/etcbc/dss/blob/master/docs//transcription.md\" title=\"/Users/dirk/github/etcbc/dss/tf/0.4/ps3.tf\">ps3</a>  <a target=\"_blank\" href=\"https://github.com/etcbc/dss/blob/master/docs//transcription.md\" title=\"/Users/dirk/github/etcbc/dss/tf/0.4/punc.tf\">punc</a>  <a target=\"_blank\" href=\"https://github.com/etcbc/dss/blob/master/docs//transcription.md\" title=\"/Users/dirk/github/etcbc/dss/tf/0.4/punce.tf\">punce</a>  <a target=\"_blank\" href=\"https://github.com/etcbc/dss/blob/master/docs//transcription.md\" title=\"/Users/dirk/github/etcbc/dss/tf/0.4/punco.tf\">punco</a>  <a target=\"_blank\" href=\"https://github.com/etcbc/dss/blob/master/docs//transcription.md\" title=\"/Users/dirk/github/etcbc/dss/tf/0.4/rec.tf\">rec</a>  <a target=\"_blank\" href=\"https://github.com/etcbc/dss/blob/master/docs//transcription.md\" title=\"/Users/dirk/github/etcbc/dss/tf/0.4/rem.tf\">rem</a>  <a target=\"_blank\" href=\"https://github.com/etcbc/dss/blob/master/docs//transcription.md\" title=\"/Users/dirk/github/etcbc/dss/tf/0.4/script.tf\">script</a>  <a target=\"_blank\" href=\"https://github.com/etcbc/dss/blob/master/docs//transcription.md\" title=\"/Users/dirk/github/etcbc/dss/tf/0.4/scroll.tf\">scroll</a>  <a target=\"_blank\" href=\"https://github.com/etcbc/dss/blob/master/docs//transcription.md\" title=\"/Users/dirk/github/etcbc/dss/tf/0.4/sp.tf\">sp</a>  <a target=\"_blank\" href=\"https://github.com/etcbc/dss/blob/master/docs//transcription.md\" title=\"/Users/dirk/github/etcbc/dss/tf/0.4/srcLn.tf\">srcLn</a>  <a target=\"_blank\" href=\"https://github.com/etcbc/dss/blob/master/docs//transcription.md\" title=\"/Users/dirk/github/etcbc/dss/tf/0.4/st.tf\">st</a>  <a target=\"_blank\" href=\"https://github.com/etcbc/dss/blob/master/docs//transcription.md\" title=\"/Users/dirk/github/etcbc/dss/tf/0.4/type.tf\">type</a>  <a target=\"_blank\" href=\"https://github.com/etcbc/dss/blob/master/docs//transcription.md\" title=\"/Users/dirk/github/etcbc/dss/tf/0.4/unc.tf\">unc</a>  <a target=\"_blank\" href=\"https://github.com/etcbc/dss/blob/master/docs//transcription.md\" title=\"/Users/dirk/github/etcbc/dss/tf/0.4/vac.tf\">vac</a>  <a target=\"_blank\" href=\"https://github.com/etcbc/dss/blob/master/docs//transcription.md\" title=\"/Users/dirk/github/etcbc/dss/tf/0.4/verse.tf\">verse</a>  <a target=\"_blank\" href=\"https://github.com/etcbc/dss/blob/master/docs//transcription.md\" title=\"/Users/dirk/github/etcbc/dss/tf/0.4/vs.tf\">vs</a>  <a target=\"_blank\" href=\"https://github.com/etcbc/dss/blob/master/docs//transcription.md\" title=\"/Users/dirk/github/etcbc/dss/tf/0.4/vt.tf\">vt</a>  <b><i><a target=\"_blank\" href=\"https://github.com/etcbc/dss/blob/master/docs//transcription.md\" title=\"/Users/dirk/github/etcbc/dss/tf/0.4/occ.tf\">occ</a></i></b>  <b><i><a target=\"_blank\" href=\"https://github.com/etcbc/dss/blob/master/docs//transcription.md\" title=\"/Users/dirk/github/etcbc/dss/tf/0.4/oslots.tf\">oslots</a></i></b> </p></details>"
      ],
      "text/plain": [
       "<IPython.core.display.HTML object>"
      ]
     },
     "metadata": {},
     "output_type": "display_data"
    },
    {
     "data": {
      "text/html": [
       "<style>\n",
       "@font-face {\n",
       "  font-family: \"Ezra SIL\";\n",
       "  src:\n",
       "    local(\"SILEOT.ttf\"),\n",
       "    url(\"https://github.com/annotation/text-fabric/blob/master/tf/server/static/fonts/SILEOT.woff?raw=true\");\n",
       "}\n",
       ".txtn,.txtn a:visited,.txtn a:link {\n",
       "    font-family: sans-serif;\n",
       "    font-size: normal;\n",
       "    text-decoration: none;\n",
       "    direction: ltr;\n",
       "}\n",
       ".txte,.txte a:visited,.txte a:link {\n",
       "    font-family: monospace;\n",
       "    font-size: normal;\n",
       "    text-decoration: none;\n",
       "    direction: ltr;\n",
       "}\n",
       ".txto,.txto a:visited,.txto a:link {\n",
       "    font-family: serif;\n",
       "    font-size: large;\n",
       "    text-decoration: none;\n",
       "    direction: ltr;\n",
       "}\n",
       ".txtu,.txtu a:visited,.txtu a:link {\n",
       "    font-family: \"Ezra SIL\", \"SBL Hebrew\", sans-serif;\n",
       "    font-size: x-large;\n",
       "    text-decoration: none;\n",
       "    direction: rtl;\n",
       "}\n",
       ".features {\n",
       "    font-family: monospace;\n",
       "    font-size: medium;\n",
       "    font-weight: bold;\n",
       "    color: #0a6611;\n",
       "    display: flex;\n",
       "    flex-flow: column nowrap;\n",
       "    padding: 0.1em;\n",
       "    margin: 0.1em;\n",
       "    direction: ltr;\n",
       "}\n",
       ".features div,.features span {\n",
       "    padding: 0;\n",
       "    margin: -0.1rem 0;\n",
       "}\n",
       ".features .f {\n",
       "    font-family: sans-serif;\n",
       "    font-size: x-small;\n",
       "    font-weight: normal;\n",
       "    color: #5555bb;\n",
       "}\n",
       ".features .xft {\n",
       "  color: #000000;\n",
       "  background-color: #eeeeee;\n",
       "  font-size: medium;\n",
       "  margin: 0.1em 0em;\n",
       "}\n",
       ".features .xft .f {\n",
       "  color: #000000;\n",
       "  background-color: #eeeeee;\n",
       "  font-style: italic;\n",
       "  font-size: small;\n",
       "  font-weight: normal;\n",
       "}\n",
       ".ltr {\n",
       "    direction: ltr ! important;\n",
       "}\n",
       ".nd {\n",
       "    font-family: monospace;\n",
       "    font-size: x-small;\n",
       "    color: #999999;\n",
       "}\n",
       ".meta {\n",
       "    display: flex;\n",
       "    justify-content: flex-start;\n",
       "    align-items: flex-start;\n",
       "    align-content: flex-start;\n",
       "    flex-flow: row nowrap;\n",
       "}\n",
       ".features {\n",
       "    display: flex;\n",
       "    justify-content: flex-start;\n",
       "    align-items: flex-start;\n",
       "    align-content: flex-start;\n",
       "    flex-flow: column nowrap;\n",
       "}\n",
       ".children {\n",
       "    display: flex;\n",
       "    justify-content: flex-start;\n",
       "    align-items: flex-start;\n",
       "    align-content: flex-start;\n",
       "    border: 0;\n",
       "    background-color: #ffffff;\n",
       "}\n",
       ".children.scroll {\n",
       "    flex-flow: column nowrap;\n",
       "}\n",
       ".children.fragment {\n",
       "    flex-flow: column nowrap;\n",
       "}\n",
       ".children.line {\n",
       "    align-items: stretch;\n",
       "    flex-flow: row wrap;\n",
       "}\n",
       ".children.cluster {\n",
       "    flex-flow: row wrap;\n",
       "}\n",
       ".children.word {\n",
       "    align-items: stretch;\n",
       "    flex-flow: row nowrap;\n",
       "}\n",
       ".children.sign {\n",
       "    flex-flow: column nowrap;\n",
       "}\n",
       ".contnr {\n",
       "    width: fit-content;\n",
       "    direction: rtl;\n",
       "}\n",
       ".contnr.scroll,.contnr.fragment,\n",
       ".contnr.line,\n",
       ".contnr.cluster,\n",
       ".contnr.word,\n",
       ".contnr.sign {\n",
       "    display: flex;\n",
       "    justify-content: flex-start;\n",
       "    align-items: flex-start;\n",
       "    align-content: flex-start;\n",
       "    flex-flow: column nowrap;\n",
       "    background: #ffffff none repeat scroll 0 0;\n",
       "    padding:  0.5em 0.1em 0.1em 0.1em;\n",
       "    margin: 0.8em 0.1em 0.1em 0.1em;\n",
       "    border-radius: 0.2em;\n",
       "    border-style: solid;\n",
       "    border-width: 0.2em;\n",
       "    font-size: small;\n",
       "}\n",
       ".contnr.scroll,.contnr.fragment {\n",
       "    border-color: #bb8800;\n",
       "}\n",
       ".contnr.line {\n",
       "    border-color: #0088bb;\n",
       "}\n",
       ".contnr.cluster {\n",
       "    flex-flow: row wrap;\n",
       "    border: 0;\n",
       "}\n",
       ".contnr.word {\n",
       "    border-color: #44bbff;\n",
       "}\n",
       ".contnr.sign {\n",
       "    border-color: #bbbbbb;\n",
       "}\n",
       ".contnr.hl {\n",
       "    background-color: #ffee66;\n",
       "}\n",
       ".lbl.scroll,.lbl.fragment,\n",
       ".lbl.line,\n",
       ".lbl.cluster,\n",
       ".lbl.sign,.lbl.word {\n",
       "    margin-top: -1.2em;\n",
       "    margin-left: 1em;\n",
       "    background: #ffffff none repeat scroll 0 0;\n",
       "    padding: 0 0.3em;\n",
       "    border-style: solid;\n",
       "    font-size: small;\n",
       "    display: block;\n",
       "}\n",
       ".lbl.scroll,.lbl.fragment {\n",
       "    border-color: #bb8800;\n",
       "    border-width: 0.3em;\n",
       "    border-radius: 0.3em;\n",
       "    color: #bb8800;\n",
       "}\n",
       ".lbl.line {\n",
       "    border-color: #0088bb;\n",
       "    border-width: 0.3em;\n",
       "    border-radius: 0.3em;\n",
       "    color: #0088bb;\n",
       "}\n",
       ".lbl.cluster {\n",
       "    border-color: #dddddd;\n",
       "    border-width: 0.2em;\n",
       "    border-radius: 0.2em;\n",
       "    color: #0000cc;\n",
       "}\n",
       ".lbl.word {\n",
       "    border-color: #44bbff;\n",
       "    border-width: 0.2em;\n",
       "    border-radius: 0.2em;\n",
       "    font-size: medium;\n",
       "    color: #000000;\n",
       "}\n",
       ".lbl.sign {\n",
       "    border-color: #bbbbbb;\n",
       "    border-width: 0.1em;\n",
       "    border-radius: 0.1em;\n",
       "    font-size: small;\n",
       "    color: #000000;\n",
       "}\n",
       ".name {\n",
       "    font-family: monospace;\n",
       "    font-size: medium;\n",
       "    color: #0000bb;\n",
       "}\n",
       ".text {\n",
       "    font-family: sans-serif;\n",
       "    font-size: x-small;\n",
       "    color: #000000;\n",
       "}\n",
       ".srcln {\n",
       "    font-family: monospace;\n",
       "    font-size: x-small;\n",
       "    color: #0000bb;\n",
       "}\n",
       ".scriptpaleohebrew {\n",
       "    border: 1px dashed navy;\n",
       "}\n",
       ".scriptgreekcapital {\n",
       "    border: 1px dashed brown;\n",
       "}\n",
       ".langa {\n",
       "    text-decoration: underline;\n",
       "}\n",
       ".intl1 {\n",
       "    vertical-align: -0.25em;\n",
       "}\n",
       ".intl2 {\n",
       "    vertical-align: -0.5em;\n",
       "}\n",
       ".langg {\n",
       "    font-family: serif;\n",
       "    text-decoration: underline;\n",
       "}\n",
       ".vac1 {\n",
       "    background-color: #aaaaaa;\n",
       "    border 2pt solid #dd3333;\n",
       "    border-radius: 4pt;\n",
       "}\n",
       ".rem1 {\n",
       "    font-weight: bold;\n",
       "    color: red;\n",
       "    text-decoration: line-through;\n",
       "}\n",
       ".rem2 {\n",
       "    font-weight: bold;\n",
       "    color: maroon;\n",
       "    text-decoration: line-through;\n",
       "}\n",
       ".rec1 {\n",
       "    color: teal;\n",
       "    font-size: 80%;\n",
       "}\n",
       ".cor1 {\n",
       "    font-weight: bold;\n",
       "    color: dodgerblue;\n",
       "    text-decoration: overline;\n",
       "}\n",
       ".cor2 {\n",
       "    font-weight: bold;\n",
       "    color: navy;\n",
       "    text-decoration: overline;\n",
       "}\n",
       ".cor3 {\n",
       "    font-weight: bold;\n",
       "    color: navy;\n",
       "    text-decoration: overline;\n",
       "    vertical-align: super;\n",
       "}\n",
       ".alt1 {\n",
       "    text-decoration: overline;\n",
       "}\n",
       "\n",
       "/* UNSURE: italic*/\n",
       "\n",
       ".unc1 {\n",
       "    font-weight: bold;\n",
       "    color: #888888;\n",
       "}\n",
       ".unc2 {\n",
       "    font-weight: bold;\n",
       "    color: #bbbbbb;\n",
       "}\n",
       ".unc3 {\n",
       "    font-weight: bold;\n",
       "    color: #bbbbbb;\n",
       "    text-shadow: #cccccc 1px 1px;\n",
       "}\n",
       ".unc4 {\n",
       "    font-weight: bold;\n",
       "    color: #dddddd;\n",
       "    text-shadow: #eeeeee 2px 2px;\n",
       "}\n",
       "\n",
       "/* cluster */\n",
       ".empty {\n",
       "  color: #ff0000;\n",
       "}\n",
       "\n",
       "\n",
       "tr.tf, td.tf, th.tf {\n",
       "  text-align: left;\n",
       "}\n",
       "\n",
       "span.hldot {\n",
       "\tbackground-color: var(--hl-strong);\n",
       "\tborder: 0.2rem solid var(--hl-rim);\n",
       "\tborder-radius: 0.4rem;\n",
       "\t/*\n",
       "\tdisplay: inline-block;\n",
       "\twidth: 0.8rem;\n",
       "\theight: 0.8rem;\n",
       "\t*/\n",
       "}\n",
       "span.hl {\n",
       "\tbackground-color: var(--hl-strong);\n",
       "\tborder-width: 0;\n",
       "\tborder-radius: 0.1rem;\n",
       "\tborder-style: solid;\n",
       "}\n",
       "\n",
       "span.hlup {\n",
       "\tborder-color: var(--hl-dark);\n",
       "\tborder-width: 0.1rem;\n",
       "\tborder-style: solid;\n",
       "\tborder-radius: 0.2rem;\n",
       "  padding: 0.2rem;\n",
       "}\n",
       "\n",
       ":root {\n",
       "\t--hl-strong:        hsla( 60, 100%,  70%, 0.9  );\n",
       "\t--hl-rim:           hsla( 55, 100%,  60%, 0.9  );\n",
       "\t--hl-dark:          hsla( 55, 100%,  40%, 0.9  );\n",
       "}\n",
       "</style>"
      ],
      "text/plain": [
       "<IPython.core.display.HTML object>"
      ]
     },
     "metadata": {},
     "output_type": "display_data"
    },
    {
     "data": {
      "text/html": [
       "<details open><summary><b>API members</b>:</summary>\n",
       "<a target=\"_blank\" href=\"https://annotation.github.io/text-fabric/Api/Computed/#computed-data\" title=\"doc\">C Computed</a>, <a target=\"_blank\" href=\"https://annotation.github.io/text-fabric/Api/Computed/#computed-data\" title=\"doc\">Call AllComputeds</a>, <a target=\"_blank\" href=\"https://annotation.github.io/text-fabric/Api/Computed/#computed-data\" title=\"doc\">Cs ComputedString</a><br/>\n",
       "<a target=\"_blank\" href=\"https://annotation.github.io/text-fabric/Api/Features/#edge-features\" title=\"doc\">E Edge</a>, <a target=\"_blank\" href=\"https://annotation.github.io/text-fabric/Api/Features/#edge-features\" title=\"doc\">Eall AllEdges</a>, <a target=\"_blank\" href=\"https://annotation.github.io/text-fabric/Api/Features/#edge-features\" title=\"doc\">Es EdgeString</a><br/>\n",
       "<a target=\"_blank\" href=\"https://annotation.github.io/text-fabric/Api/Fabric/#loading\" title=\"doc\">ensureLoaded</a>, <a target=\"_blank\" href=\"https://annotation.github.io/text-fabric/Api/Fabric/#loading\" title=\"doc\">TF</a>, <a target=\"_blank\" href=\"https://annotation.github.io/text-fabric/Api/Fabric/#loading\" title=\"doc\">ignored</a>, <a target=\"_blank\" href=\"https://annotation.github.io/text-fabric/Api/Fabric/#loading\" title=\"doc\">loadLog</a><br/>\n",
       "<a target=\"_blank\" href=\"https://annotation.github.io/text-fabric/Api/Locality/#locality\" title=\"doc\">L Locality</a><br/>\n",
       "<a target=\"_blank\" href=\"https://annotation.github.io/text-fabric/Api/Misc/#messaging\" title=\"doc\">cache</a>, <a target=\"_blank\" href=\"https://annotation.github.io/text-fabric/Api/Misc/#messaging\" title=\"doc\">error</a>, <a target=\"_blank\" href=\"https://annotation.github.io/text-fabric/Api/Misc/#messaging\" title=\"doc\">indent</a>, <a target=\"_blank\" href=\"https://annotation.github.io/text-fabric/Api/Misc/#messaging\" title=\"doc\">info</a>, <a target=\"_blank\" href=\"https://annotation.github.io/text-fabric/Api/Misc/#messaging\" title=\"doc\">reset</a><br/>\n",
       "<a target=\"_blank\" href=\"https://annotation.github.io/text-fabric/Api/Nodes/#navigating-nodes\" title=\"doc\">N Nodes</a>, <a target=\"_blank\" href=\"https://annotation.github.io/text-fabric/Api/Nodes/#navigating-nodes\" title=\"doc\">sortKey</a>, <a target=\"_blank\" href=\"https://annotation.github.io/text-fabric/Api/Nodes/#navigating-nodes\" title=\"doc\">sortKeyTuple</a>, <a target=\"_blank\" href=\"https://annotation.github.io/text-fabric/Api/Nodes/#navigating-nodes\" title=\"doc\">otypeRank</a>, <a target=\"_blank\" href=\"https://annotation.github.io/text-fabric/Api/Nodes/#navigating-nodes\" title=\"doc\">sortNodes</a><br/>\n",
       "<a target=\"_blank\" href=\"https://annotation.github.io/text-fabric/Api/Features/#node-features\" title=\"doc\">F Feature</a>, <a target=\"_blank\" href=\"https://annotation.github.io/text-fabric/Api/Features/#node-features\" title=\"doc\">Fall AllFeatures</a>, <a target=\"_blank\" href=\"https://annotation.github.io/text-fabric/Api/Features/#node-features\" title=\"doc\">Fs FeatureString</a><br/>\n",
       "<a target=\"_blank\" href=\"https://annotation.github.io/text-fabric/Api/Search/#search\" title=\"doc\">S Search</a><br/>\n",
       "<a target=\"_blank\" href=\"https://annotation.github.io/text-fabric/Api/Text/#text\" title=\"doc\">T Text</a></details>"
      ],
      "text/plain": [
       "<IPython.core.display.HTML object>"
      ]
     },
     "metadata": {},
     "output_type": "display_data"
    }
   ],
   "source": [
    "A = use('dss:clone', checkout='clone', hoist=globals())"
   ]
  },
  {
   "cell_type": "markdown",
   "metadata": {},
   "source": [
    "# Parallels\n",
    "\n",
    "We make edges between similar lines.\n",
    "\n",
    "When are lines similar?\n",
    "\n",
    "If a certain distance metric is above a certain threshold.\n",
    "\n",
    "We choose this metric:\n",
    "\n",
    "* we reduce a line to the set of lexemes in it.\n",
    "* the similarity between two lines is the length of the intersection divided by the length of the union of their sets times 100."
   ]
  },
  {
   "cell_type": "markdown",
   "metadata": {},
   "source": [
    "# Preparation\n",
    "\n",
    "We pre-compute all sets for lines.\n",
    "\n",
    "But because not all lines are filled with definite material, we exclude lines with 5 or less consonants."
   ]
  },
  {
   "cell_type": "code",
   "execution_count": 5,
   "metadata": {},
   "outputs": [
    {
     "name": "stdout",
     "output_type": "stream",
     "text": [
      " 3m 41s 37106 contentful lines out of 52895\n"
     ]
    }
   ],
   "source": [
    "CONS = 'cons'\n",
    "\n",
    "valid = set()\n",
    "\n",
    "allLines = F.otype.s('line')\n",
    "\n",
    "for l in F.otype.s('line'):\n",
    "  if l in valid:\n",
    "    continue\n",
    "  if sum(1 for s in L.d(l, otype='sign') if F.type.v(s) == CONS) >= 5:\n",
    "    valid.add(l)\n",
    "      \n",
    "info(f'{len(valid)} contentful lines out of {len(allLines)}')"
   ]
  },
  {
   "cell_type": "code",
   "execution_count": 7,
   "metadata": {},
   "outputs": [],
   "source": [
    "def makeSet(l):\n",
    "  lineSet = set()\n",
    "  for s in L.d(l, otype='word'):\n",
    "    r = F.lex.v(s)\n",
    "    if r:\n",
    "      lineSet.add(r)\n",
    "  return lineSet"
   ]
  },
  {
   "cell_type": "code",
   "execution_count": 8,
   "metadata": {},
   "outputs": [
    {
     "name": "stdout",
     "output_type": "stream",
     "text": [
      "37106 lines\n"
     ]
    }
   ],
   "source": [
    "lines = {}\n",
    "\n",
    "for l in valid:\n",
    "  lineSet = makeSet(l)\n",
    "  if lineSet:\n",
    "    lines[l] = lineSet\n",
    "    \n",
    "nLines = len(lines)\n",
    "print(f'{nLines} lines')"
   ]
  },
  {
   "cell_type": "markdown",
   "metadata": {},
   "source": [
    "# Measure"
   ]
  },
  {
   "cell_type": "code",
   "execution_count": 9,
   "metadata": {},
   "outputs": [],
   "source": [
    "def sim(lSet, mSet):\n",
    "  return int(round(100 * len(lSet & mSet) / len(lSet | mSet)))"
   ]
  },
  {
   "cell_type": "markdown",
   "metadata": {},
   "source": [
    "# Compute all similarities\n",
    "\n",
    "We are going to perform more than half a billion of comparisons, each of which is more than an elemetary operation.\n",
    "\n",
    "Let's measure time."
   ]
  },
  {
   "cell_type": "code",
   "execution_count": 10,
   "metadata": {},
   "outputs": [],
   "source": [
    "THRESHOLD = 60\n",
    "\n",
    "def computeSim(limit=None):\n",
    "  similarity = {}\n",
    "\n",
    "  lineNodes = sorted(lines.keys())\n",
    "  nLines = len(lineNodes)\n",
    "\n",
    "  nComparisons = nLines * (nLines - 1) // 2\n",
    "\n",
    "  print(f'{nComparisons} comparisons to make')\n",
    "  chunkSize = nComparisons // 1000\n",
    "\n",
    "  co = 0\n",
    "  b = 0\n",
    "  si = 0\n",
    "  p = 0\n",
    "\n",
    "  indent(reset=True)\n",
    "\n",
    "  stop = False\n",
    "  for i in range(nLines):\n",
    "    nodeI = lineNodes[i]\n",
    "    lineI = lines[nodeI]\n",
    "    for j in range(i + 1, nLines):\n",
    "      nodeJ = lineNodes[j]\n",
    "      lineJ = lines[nodeJ]\n",
    "      s = sim(lineI, lineJ)\n",
    "      co += 1\n",
    "      b += 1\n",
    "      if b == chunkSize:\n",
    "        p += 1\n",
    "        info(f'{p:>3}‰ - {co:>12} comparisons and {si:>10} similarities')\n",
    "        b = 0\n",
    "        if limit is not None and p >= limit:\n",
    "          stop = True\n",
    "          break\n",
    "\n",
    "      if s < THRESHOLD:\n",
    "        continue\n",
    "      similarity[(nodeI, nodeJ)] = sim(lineI, lineJ)\n",
    "      si += 1\n",
    "    if stop:\n",
    "      break\n",
    "\n",
    "  info(f'{p:>3}% - {co:>12} comparisons and {si:>10} similarities')\n",
    "  return similarity"
   ]
  },
  {
   "cell_type": "markdown",
   "metadata": {},
   "source": [
    "We are going to run it to several ‰ first and do some checks then."
   ]
  },
  {
   "cell_type": "code",
   "execution_count": 11,
   "metadata": {},
   "outputs": [
    {
     "name": "stdout",
     "output_type": "stream",
     "text": [
      "688409065 comparisons to make\n",
      "  1.03s   1‰ -       688409 comparisons and         12 similarities\n",
      "  2.08s   2‰ -      1376818 comparisons and         20 similarities\n",
      "  3.10s   3‰ -      2065227 comparisons and         28 similarities\n",
      "  4.13s   4‰ -      2753636 comparisons and         34 similarities\n",
      "  5.17s   5‰ -      3442045 comparisons and         40 similarities\n",
      "  6.21s   6‰ -      4130454 comparisons and         57 similarities\n",
      "  7.26s   7‰ -      4818863 comparisons and         70 similarities\n",
      "  8.26s   8‰ -      5507272 comparisons and         81 similarities\n",
      "  9.31s   9‰ -      6195681 comparisons and         92 similarities\n",
      "    10s  10‰ -      6884090 comparisons and        107 similarities\n",
      "    10s  10% -      6884090 comparisons and        107 similarities\n"
     ]
    }
   ],
   "source": [
    "similarity = computeSim(limit=10)"
   ]
  },
  {
   "cell_type": "markdown",
   "metadata": {},
   "source": [
    "We check the sanity of the results."
   ]
  },
  {
   "cell_type": "code",
   "execution_count": 12,
   "metadata": {},
   "outputs": [
    {
     "name": "stdout",
     "output_type": "stream",
     "text": [
      "60\n",
      "100\n"
     ]
    }
   ],
   "source": [
    "print(min(similarity.values()))\n",
    "print(max(similarity.values()))"
   ]
  },
  {
   "cell_type": "code",
   "execution_count": 13,
   "metadata": {},
   "outputs": [],
   "source": [
    "eq = [x for x in similarity.items() if x[1] >= 100]\n",
    "neq = [x for x in similarity.items() if x[1] <= 70]"
   ]
  },
  {
   "cell_type": "code",
   "execution_count": 14,
   "metadata": {},
   "outputs": [
    {
     "name": "stdout",
     "output_type": "stream",
     "text": [
      "3\n",
      "38\n"
     ]
    }
   ],
   "source": [
    "print(len(eq))\n",
    "print(len(neq))"
   ]
  },
  {
   "cell_type": "code",
   "execution_count": 15,
   "metadata": {},
   "outputs": [
    {
     "name": "stdout",
     "output_type": "stream",
     "text": [
      "((1552976, 1563771), 100)\n",
      "((1552969, 1563765), 69)\n"
     ]
    }
   ],
   "source": [
    "print(eq[0])\n",
    "print(neq[0])"
   ]
  },
  {
   "cell_type": "code",
   "execution_count": 16,
   "metadata": {},
   "outputs": [
    {
     "data": {
      "text/html": [
       "<a href=\"https://www.deadseascrolls.org.il/explore-the-archive/search#q='CD'\" title=\"CD 1:8\" sec=\"CD 1:8\">CD 1:8&nbsp;</a><span class=\"txtu\">את ארצ׳ו ולדשׁן בטוב אדמת׳ו ׃ ויבינו בעונ׳ם וידעו כי </span>"
      ],
      "text/plain": [
       "<IPython.core.display.HTML object>"
      ]
     },
     "metadata": {},
     "output_type": "display_data"
    },
    {
     "data": {
      "text/html": [
       "<a href=\"https://www.deadseascrolls.org.il/explore-the-archive/search#q='4Q268'\" title=\"4Q268 f1:15\" sec=\"4Q268 f1:15\">4Q268 f1:15&nbsp;</a><span class=\"txtu\">את ארצ׳ו ולדשׁן בטוב אדמת׳ו ׃ ויבינו בעוונ׳מה וידעו כי </span>"
      ],
      "text/plain": [
       "<IPython.core.display.HTML object>"
      ]
     },
     "metadata": {},
     "output_type": "display_data"
    }
   ],
   "source": [
    "A.plain(eq[0][0][0])\n",
    "A.plain(eq[0][0][1])"
   ]
  },
  {
   "cell_type": "code",
   "execution_count": 17,
   "metadata": {},
   "outputs": [
    {
     "data": {
      "text/html": [
       "<a href=\"https://www.deadseascrolls.org.il/explore-the-archive/search#q='CD'\" title=\"CD 1:8\" sec=\"CD 1:8\">CD 1:8&nbsp;</a><span class=\"txte\">>T >RY'W WLDCn BVWB >DMT'W 00 WJBJNW B&lt;WN'm WJD&lt;W KJ </span>"
      ],
      "text/plain": [
       "<IPython.core.display.HTML object>"
      ]
     },
     "metadata": {},
     "output_type": "display_data"
    },
    {
     "data": {
      "text/html": [
       "<a href=\"https://www.deadseascrolls.org.il/explore-the-archive/search#q='4Q268'\" title=\"4Q268 f1:15\" sec=\"4Q268 f1:15\">4Q268 f1:15&nbsp;</a><span class=\"txte\">>T >RY'W WLDCn BVWB >DMT'W 00 WJBJNW B&lt;WWN'MH WJD&lt;W KJ </span>"
      ],
      "text/plain": [
       "<IPython.core.display.HTML object>"
      ]
     },
     "metadata": {},
     "output_type": "display_data"
    }
   ],
   "source": [
    "A.plain(eq[0][0][0], fmt='text-trans-full')\n",
    "A.plain(eq[0][0][1], fmt='text-trans-full')"
   ]
  },
  {
   "cell_type": "markdown",
   "metadata": {},
   "source": [
    "Looks good.\n",
    "\n",
    "Now the whole computation.\n",
    "\n",
    "But if we have done this before, and nothing has changed, we load previous results from disk.\n",
    "\n",
    "If we do not find previous results, we compute them and save the results to disk."
   ]
  },
  {
   "cell_type": "code",
   "execution_count": 18,
   "metadata": {},
   "outputs": [],
   "source": [
    "PARA_DIR = f'{A.tempDir}/parallels'\n",
    "\n",
    "def writeResults(data, location, name):\n",
    "  if not os.path.exists(location):\n",
    "    os.makedirs(location, exist_ok=True)\n",
    "  path = f'{location}/{name}'\n",
    "  with gzip.open(path, 'wb') as f:\n",
    "    pickle.dump(data, f)\n",
    "  print(f'Data written to {path}')\n",
    "  \n",
    "def readResults(location, name):\n",
    "  path = f'{location}/{name}'\n",
    "  if not os.path.exists(path):\n",
    "    print(f'File not found: {path}')\n",
    "    return None\n",
    "  with gzip.open(path, 'rb') as f:\n",
    "    data = pickle.load(f)\n",
    "  print(f'Data read from {path}')\n",
    "  return data"
   ]
  },
  {
   "cell_type": "code",
   "execution_count": 19,
   "metadata": {},
   "outputs": [
    {
     "name": "stdout",
     "output_type": "stream",
     "text": [
      "File not found: /Users/dirk/github/etcbc/dss/_temp/parallels/sim-0.4.zip\n",
      "688409065 comparisons to make\n",
      "  1.03s   1‰ -       688409 comparisons and         12 similarities\n",
      "  2.06s   2‰ -      1376818 comparisons and         20 similarities\n",
      "  3.14s   3‰ -      2065227 comparisons and         28 similarities\n",
      "  4.16s   4‰ -      2753636 comparisons and         34 similarities\n",
      "  5.18s   5‰ -      3442045 comparisons and         40 similarities\n",
      "  6.20s   6‰ -      4130454 comparisons and         57 similarities\n",
      "  7.23s   7‰ -      4818863 comparisons and         70 similarities\n",
      "  8.24s   8‰ -      5507272 comparisons and         81 similarities\n",
      "  9.26s   9‰ -      6195681 comparisons and         92 similarities\n",
      "    10s  10‰ -      6884090 comparisons and        107 similarities\n",
      "    11s  11‰ -      7572499 comparisons and        122 similarities\n",
      "    12s  12‰ -      8260908 comparisons and        135 similarities\n",
      "    13s  13‰ -      8949317 comparisons and        148 similarities\n",
      "    14s  14‰ -      9637726 comparisons and        159 similarities\n",
      "    15s  15‰ -     10326135 comparisons and        169 similarities\n",
      "    16s  16‰ -     11014544 comparisons and        189 similarities\n",
      "    17s  17‰ -     11702953 comparisons and        200 similarities\n",
      "    18s  18‰ -     12391362 comparisons and        240 similarities\n",
      "    19s  19‰ -     13079771 comparisons and        242 similarities\n",
      "    21s  20‰ -     13768180 comparisons and        244 similarities\n",
      "    22s  21‰ -     14456589 comparisons and        245 similarities\n",
      "    23s  22‰ -     15144998 comparisons and        249 similarities\n",
      "    24s  23‰ -     15833407 comparisons and        255 similarities\n",
      "    25s  24‰ -     16521816 comparisons and        266 similarities\n",
      "    26s  25‰ -     17210225 comparisons and        272 similarities\n",
      "    27s  26‰ -     17898634 comparisons and        280 similarities\n",
      "    28s  27‰ -     18587043 comparisons and        287 similarities\n",
      "    29s  28‰ -     19275452 comparisons and        290 similarities\n",
      "    30s  29‰ -     19963861 comparisons and        291 similarities\n",
      "    31s  30‰ -     20652270 comparisons and        297 similarities\n",
      "    32s  31‰ -     21340679 comparisons and        304 similarities\n",
      "    33s  32‰ -     22029088 comparisons and        319 similarities\n",
      "    34s  33‰ -     22717497 comparisons and        331 similarities\n",
      "    35s  34‰ -     23405906 comparisons and        344 similarities\n",
      "    36s  35‰ -     24094315 comparisons and        370 similarities\n",
      "    37s  36‰ -     24782724 comparisons and        382 similarities\n",
      "    38s  37‰ -     25471133 comparisons and        386 similarities\n",
      "    39s  38‰ -     26159542 comparisons and        402 similarities\n",
      "    40s  39‰ -     26847951 comparisons and        410 similarities\n",
      "    41s  40‰ -     27536360 comparisons and        429 similarities\n",
      "    42s  41‰ -     28224769 comparisons and        556 similarities\n",
      "    43s  42‰ -     28913178 comparisons and        630 similarities\n",
      "    44s  43‰ -     29601587 comparisons and        657 similarities\n",
      "    45s  44‰ -     30289996 comparisons and        797 similarities\n",
      "    46s  45‰ -     30978405 comparisons and        801 similarities\n",
      "    47s  46‰ -     31666814 comparisons and        802 similarities\n",
      "    48s  47‰ -     32355223 comparisons and        807 similarities\n",
      "    49s  48‰ -     33043632 comparisons and        807 similarities\n",
      "    50s  49‰ -     33732041 comparisons and        807 similarities\n",
      "    51s  50‰ -     34420450 comparisons and        807 similarities\n",
      "    52s  51‰ -     35108859 comparisons and        816 similarities\n",
      "    53s  52‰ -     35797268 comparisons and        821 similarities\n",
      "    54s  53‰ -     36485677 comparisons and        826 similarities\n",
      "    55s  54‰ -     37174086 comparisons and        827 similarities\n",
      "    56s  55‰ -     37862495 comparisons and        828 similarities\n",
      "    57s  56‰ -     38550904 comparisons and        846 similarities\n",
      "    58s  57‰ -     39239313 comparisons and        847 similarities\n",
      "    59s  58‰ -     39927722 comparisons and        847 similarities\n",
      " 1m 00s  59‰ -     40616131 comparisons and        847 similarities\n",
      " 1m 01s  60‰ -     41304540 comparisons and        849 similarities\n",
      " 1m 02s  61‰ -     41992949 comparisons and        851 similarities\n",
      " 1m 03s  62‰ -     42681358 comparisons and        856 similarities\n",
      " 1m 04s  63‰ -     43369767 comparisons and        859 similarities\n",
      " 1m 05s  64‰ -     44058176 comparisons and        860 similarities\n",
      " 1m 06s  65‰ -     44746585 comparisons and        861 similarities\n",
      " 1m 07s  66‰ -     45434994 comparisons and        874 similarities\n",
      " 1m 08s  67‰ -     46123403 comparisons and        878 similarities\n",
      " 1m 09s  68‰ -     46811812 comparisons and        883 similarities\n",
      " 1m 10s  69‰ -     47500221 comparisons and        960 similarities\n",
      " 1m 11s  70‰ -     48188630 comparisons and        965 similarities\n",
      " 1m 12s  71‰ -     48877039 comparisons and        972 similarities\n",
      " 1m 13s  72‰ -     49565448 comparisons and       1005 similarities\n",
      " 1m 14s  73‰ -     50253857 comparisons and       1028 similarities\n",
      " 1m 15s  74‰ -     50942266 comparisons and       1030 similarities\n",
      " 1m 16s  75‰ -     51630675 comparisons and       1035 similarities\n",
      " 1m 17s  76‰ -     52319084 comparisons and       1155 similarities\n",
      " 1m 18s  77‰ -     53007493 comparisons and       1155 similarities\n",
      " 1m 19s  78‰ -     53695902 comparisons and       1163 similarities\n",
      " 1m 20s  79‰ -     54384311 comparisons and       1380 similarities\n",
      " 1m 21s  80‰ -     55072720 comparisons and       1380 similarities\n",
      " 1m 22s  81‰ -     55761129 comparisons and       1387 similarities\n",
      " 1m 23s  82‰ -     56449538 comparisons and       1388 similarities\n",
      " 1m 25s  83‰ -     57137947 comparisons and       1494 similarities\n",
      " 1m 26s  84‰ -     57826356 comparisons and       1496 similarities\n",
      " 1m 27s  85‰ -     58514765 comparisons and       1817 similarities\n",
      " 1m 28s  86‰ -     59203174 comparisons and       1821 similarities\n",
      " 1m 29s  87‰ -     59891583 comparisons and       1830 similarities\n",
      " 1m 30s  88‰ -     60579992 comparisons and       1832 similarities\n",
      " 1m 31s  89‰ -     61268401 comparisons and       1835 similarities\n",
      " 1m 32s  90‰ -     61956810 comparisons and       1845 similarities\n",
      " 1m 33s  91‰ -     62645219 comparisons and       1851 similarities\n",
      " 1m 35s  92‰ -     63333628 comparisons and       1857 similarities\n",
      " 1m 36s  93‰ -     64022037 comparisons and       1857 similarities\n",
      " 1m 37s  94‰ -     64710446 comparisons and       1865 similarities\n",
      " 1m 38s  95‰ -     65398855 comparisons and       1870 similarities\n",
      " 1m 39s  96‰ -     66087264 comparisons and       1870 similarities\n",
      " 1m 40s  97‰ -     66775673 comparisons and       1875 similarities\n",
      " 1m 41s  98‰ -     67464082 comparisons and       1877 similarities\n",
      " 1m 42s  99‰ -     68152491 comparisons and       1880 similarities\n",
      " 1m 43s 100‰ -     68840900 comparisons and       1883 similarities\n",
      " 1m 44s 101‰ -     69529309 comparisons and       1885 similarities\n",
      " 1m 45s 102‰ -     70217718 comparisons and       1898 similarities\n",
      " 1m 46s 103‰ -     70906127 comparisons and       1907 similarities\n",
      " 1m 47s 104‰ -     71594536 comparisons and       2019 similarities\n",
      " 1m 48s 105‰ -     72282945 comparisons and       2042 similarities\n",
      " 1m 49s 106‰ -     72971354 comparisons and       2045 similarities\n",
      " 1m 50s 107‰ -     73659763 comparisons and       2063 similarities\n",
      " 1m 51s 108‰ -     74348172 comparisons and       2095 similarities\n",
      " 1m 52s 109‰ -     75036581 comparisons and       2109 similarities\n",
      " 1m 53s 110‰ -     75724990 comparisons and       2126 similarities\n",
      " 1m 54s 111‰ -     76413399 comparisons and       2165 similarities\n",
      " 1m 55s 112‰ -     77101808 comparisons and       2327 similarities\n",
      " 1m 56s 113‰ -     77790217 comparisons and       2346 similarities\n",
      " 1m 57s 114‰ -     78478626 comparisons and       2452 similarities\n",
      " 1m 58s 115‰ -     79167035 comparisons and       2653 similarities\n",
      " 1m 59s 116‰ -     79855444 comparisons and       2994 similarities\n",
      " 2m 00s 117‰ -     80543853 comparisons and       3105 similarities\n",
      " 2m 01s 118‰ -     81232262 comparisons and       3271 similarities\n",
      " 2m 02s 119‰ -     81920671 comparisons and       3381 similarities\n",
      " 2m 03s 120‰ -     82609080 comparisons and       3424 similarities\n",
      " 2m 04s 121‰ -     83297489 comparisons and       3528 similarities\n",
      " 2m 05s 122‰ -     83985898 comparisons and       3612 similarities\n",
      " 2m 06s 123‰ -     84674307 comparisons and       3612 similarities\n",
      " 2m 06s 124‰ -     85362716 comparisons and       3629 similarities\n",
      " 2m 07s 125‰ -     86051125 comparisons and       3659 similarities\n",
      " 2m 08s 126‰ -     86739534 comparisons and       3660 similarities\n",
      " 2m 09s 127‰ -     87427943 comparisons and       3663 similarities\n",
      " 2m 10s 128‰ -     88116352 comparisons and       3689 similarities\n",
      " 2m 11s 129‰ -     88804761 comparisons and       3764 similarities\n",
      " 2m 12s 130‰ -     89493170 comparisons and       3772 similarities\n",
      " 2m 13s 131‰ -     90181579 comparisons and       3792 similarities\n",
      " 2m 14s 132‰ -     90869988 comparisons and       3811 similarities\n",
      " 2m 15s 133‰ -     91558397 comparisons and       3811 similarities\n",
      " 2m 16s 134‰ -     92246806 comparisons and       3811 similarities\n",
      " 2m 18s 135‰ -     92935215 comparisons and       3811 similarities\n",
      " 2m 19s 136‰ -     93623624 comparisons and       3811 similarities\n",
      " 2m 20s 137‰ -     94312033 comparisons and       3811 similarities\n",
      " 2m 21s 138‰ -     95000442 comparisons and       3811 similarities\n",
      " 2m 22s 139‰ -     95688851 comparisons and       3813 similarities\n",
      " 2m 23s 140‰ -     96377260 comparisons and       3868 similarities\n",
      " 2m 23s 141‰ -     97065669 comparisons and       4117 similarities\n",
      " 2m 24s 142‰ -     97754078 comparisons and       4117 similarities\n",
      " 2m 25s 143‰ -     98442487 comparisons and       4121 similarities\n",
      " 2m 26s 144‰ -     99130896 comparisons and       4190 similarities\n",
      " 2m 27s 145‰ -     99819305 comparisons and       4364 similarities\n",
      " 2m 28s 146‰ -    100507714 comparisons and       4538 similarities\n",
      " 2m 29s 147‰ -    101196123 comparisons and       4819 similarities\n",
      " 2m 30s 148‰ -    101884532 comparisons and       4867 similarities\n",
      " 2m 31s 149‰ -    102572941 comparisons and       4945 similarities\n",
      " 2m 32s 150‰ -    103261350 comparisons and       4964 similarities\n",
      " 2m 33s 151‰ -    103949759 comparisons and       5145 similarities\n",
      " 2m 33s 152‰ -    104638168 comparisons and       5233 similarities\n",
      " 2m 34s 153‰ -    105326577 comparisons and       5261 similarities\n",
      " 2m 35s 154‰ -    106014986 comparisons and       5342 similarities\n",
      " 2m 36s 155‰ -    106703395 comparisons and       5463 similarities\n",
      " 2m 37s 156‰ -    107391804 comparisons and       5608 similarities\n",
      " 2m 38s 157‰ -    108080213 comparisons and       5734 similarities\n",
      " 2m 39s 158‰ -    108768622 comparisons and       6005 similarities\n",
      " 2m 40s 159‰ -    109457031 comparisons and       6220 similarities\n",
      " 2m 40s 160‰ -    110145440 comparisons and       6547 similarities\n",
      " 2m 41s 161‰ -    110833849 comparisons and       6555 similarities\n",
      " 2m 42s 162‰ -    111522258 comparisons and       6587 similarities\n",
      " 2m 43s 163‰ -    112210667 comparisons and       6653 similarities\n",
      " 2m 44s 164‰ -    112899076 comparisons and       6689 similarities\n",
      " 2m 45s 165‰ -    113587485 comparisons and       6724 similarities\n",
      " 2m 46s 166‰ -    114275894 comparisons and       6900 similarities\n",
      " 2m 47s 167‰ -    114964303 comparisons and       6984 similarities\n",
      " 2m 48s 168‰ -    115652712 comparisons and       7102 similarities\n",
      " 2m 48s 169‰ -    116341121 comparisons and       7234 similarities\n",
      " 2m 49s 170‰ -    117029530 comparisons and       7234 similarities\n",
      " 2m 50s 171‰ -    117717939 comparisons and       7235 similarities\n",
      " 2m 51s 172‰ -    118406348 comparisons and       7237 similarities\n",
      " 2m 52s 173‰ -    119094757 comparisons and       7246 similarities\n",
      " 2m 53s 174‰ -    119783166 comparisons and       7246 similarities\n",
      " 2m 54s 175‰ -    120471575 comparisons and       7246 similarities\n",
      " 2m 55s 176‰ -    121159984 comparisons and       7246 similarities\n",
      " 2m 56s 177‰ -    121848393 comparisons and       7247 similarities\n",
      " 2m 56s 178‰ -    122536802 comparisons and       7251 similarities\n",
      " 2m 57s 179‰ -    123225211 comparisons and       7251 similarities\n",
      " 2m 58s 180‰ -    123913620 comparisons and       7372 similarities\n",
      " 2m 59s 181‰ -    124602029 comparisons and       7383 similarities\n",
      " 3m 00s 182‰ -    125290438 comparisons and       7458 similarities\n",
      " 3m 01s 183‰ -    125978847 comparisons and       7488 similarities\n",
      " 3m 02s 184‰ -    126667256 comparisons and       7514 similarities\n",
      " 3m 03s 185‰ -    127355665 comparisons and       7551 similarities\n",
      " 3m 04s 186‰ -    128044074 comparisons and       7589 similarities\n",
      " 3m 05s 187‰ -    128732483 comparisons and       7593 similarities\n",
      " 3m 05s 188‰ -    129420892 comparisons and       7674 similarities\n",
      " 3m 06s 189‰ -    130109301 comparisons and       7681 similarities\n",
      " 3m 07s 190‰ -    130797710 comparisons and       7689 similarities\n",
      " 3m 08s 191‰ -    131486119 comparisons and       7694 similarities\n",
      " 3m 09s 192‰ -    132174528 comparisons and       7719 similarities\n",
      " 3m 10s 193‰ -    132862937 comparisons and       7840 similarities\n",
      " 3m 11s 194‰ -    133551346 comparisons and       7856 similarities\n",
      " 3m 12s 195‰ -    134239755 comparisons and       7988 similarities\n",
      " 3m 13s 196‰ -    134928164 comparisons and       8051 similarities\n",
      " 3m 14s 197‰ -    135616573 comparisons and       8143 similarities\n",
      " 3m 15s 198‰ -    136304982 comparisons and       8172 similarities\n",
      " 3m 16s 199‰ -    136993391 comparisons and       8224 similarities\n",
      " 3m 17s 200‰ -    137681800 comparisons and       8252 similarities\n",
      " 3m 18s 201‰ -    138370209 comparisons and       8298 similarities\n",
      " 3m 19s 202‰ -    139058618 comparisons and       8306 similarities\n",
      " 3m 20s 203‰ -    139747027 comparisons and       8340 similarities\n",
      " 3m 21s 204‰ -    140435436 comparisons and       8435 similarities\n",
      " 3m 22s 205‰ -    141123845 comparisons and       8564 similarities\n",
      " 3m 23s 206‰ -    141812254 comparisons and       8567 similarities\n",
      " 3m 24s 207‰ -    142500663 comparisons and       8571 similarities\n",
      " 3m 25s 208‰ -    143189072 comparisons and       8586 similarities\n",
      " 3m 26s 209‰ -    143877481 comparisons and       8596 similarities\n",
      " 3m 27s 210‰ -    144565890 comparisons and       8600 similarities\n",
      " 3m 28s 211‰ -    145254299 comparisons and       8609 similarities\n",
      " 3m 28s 212‰ -    145942708 comparisons and       8634 similarities\n",
      " 3m 29s 213‰ -    146631117 comparisons and       8658 similarities\n",
      " 3m 30s 214‰ -    147319526 comparisons and       8666 similarities\n",
      " 3m 31s 215‰ -    148007935 comparisons and       8692 similarities\n",
      " 3m 32s 216‰ -    148696344 comparisons and       8821 similarities\n",
      " 3m 33s 217‰ -    149384753 comparisons and       8848 similarities\n",
      " 3m 34s 218‰ -    150073162 comparisons and       8871 similarities\n",
      " 3m 35s 219‰ -    150761571 comparisons and       8888 similarities\n",
      " 3m 36s 220‰ -    151449980 comparisons and       8934 similarities\n",
      " 3m 37s 221‰ -    152138389 comparisons and       9021 similarities\n",
      " 3m 38s 222‰ -    152826798 comparisons and       9099 similarities\n",
      " 3m 39s 223‰ -    153515207 comparisons and       9099 similarities\n",
      " 3m 40s 224‰ -    154203616 comparisons and       9109 similarities\n",
      " 3m 41s 225‰ -    154892025 comparisons and       9127 similarities\n",
      " 3m 42s 226‰ -    155580434 comparisons and       9212 similarities\n",
      " 3m 43s 227‰ -    156268843 comparisons and       9408 similarities\n",
      " 3m 43s 228‰ -    156957252 comparisons and       9493 similarities\n",
      " 3m 44s 229‰ -    157645661 comparisons and       9502 similarities\n",
      " 3m 45s 230‰ -    158334070 comparisons and       9529 similarities\n",
      " 3m 46s 231‰ -    159022479 comparisons and       9571 similarities\n",
      " 3m 47s 232‰ -    159710888 comparisons and       9598 similarities\n",
      " 3m 48s 233‰ -    160399297 comparisons and       9656 similarities\n",
      " 3m 49s 234‰ -    161087706 comparisons and       9683 similarities\n",
      " 3m 50s 235‰ -    161776115 comparisons and       9712 similarities\n",
      " 3m 51s 236‰ -    162464524 comparisons and       9955 similarities\n",
      " 3m 52s 237‰ -    163152933 comparisons and       9961 similarities\n",
      " 3m 53s 238‰ -    163841342 comparisons and       9968 similarities\n",
      " 3m 54s 239‰ -    164529751 comparisons and      10001 similarities\n",
      " 3m 55s 240‰ -    165218160 comparisons and      10093 similarities\n",
      " 3m 56s 241‰ -    165906569 comparisons and      10095 similarities\n",
      " 3m 57s 242‰ -    166594978 comparisons and      10171 similarities\n",
      " 3m 57s 243‰ -    167283387 comparisons and      10426 similarities\n",
      " 3m 58s 244‰ -    167971796 comparisons and      10426 similarities\n",
      " 3m 59s 245‰ -    168660205 comparisons and      10432 similarities\n",
      " 4m 00s 246‰ -    169348614 comparisons and      10518 similarities\n",
      " 4m 01s 247‰ -    170037023 comparisons and      10537 similarities\n",
      " 4m 02s 248‰ -    170725432 comparisons and      10570 similarities\n",
      " 4m 03s 249‰ -    171413841 comparisons and      10637 similarities\n",
      " 4m 04s 250‰ -    172102250 comparisons and      10644 similarities\n",
      " 4m 05s 251‰ -    172790659 comparisons and      10653 similarities\n",
      " 4m 06s 252‰ -    173479068 comparisons and      10660 similarities\n",
      " 4m 07s 253‰ -    174167477 comparisons and      10667 similarities\n",
      " 4m 08s 254‰ -    174855886 comparisons and      10667 similarities\n",
      " 4m 09s 255‰ -    175544295 comparisons and      10687 similarities\n",
      " 4m 10s 256‰ -    176232704 comparisons and      10721 similarities\n",
      " 4m 11s 257‰ -    176921113 comparisons and      10770 similarities\n",
      " 4m 12s 258‰ -    177609522 comparisons and      10773 similarities\n",
      " 4m 13s 259‰ -    178297931 comparisons and      10776 similarities\n",
      " 4m 14s 260‰ -    178986340 comparisons and      10776 similarities\n",
      " 4m 15s 261‰ -    179674749 comparisons and      10804 similarities\n",
      " 4m 16s 262‰ -    180363158 comparisons and      10804 similarities\n",
      " 4m 17s 263‰ -    181051567 comparisons and      10804 similarities\n",
      " 4m 18s 264‰ -    181739976 comparisons and      10815 similarities\n",
      " 4m 19s 265‰ -    182428385 comparisons and      10815 similarities\n",
      " 4m 20s 266‰ -    183116794 comparisons and      10980 similarities\n",
      " 4m 21s 267‰ -    183805203 comparisons and      10983 similarities\n",
      " 4m 22s 268‰ -    184493612 comparisons and      11057 similarities\n",
      " 4m 23s 269‰ -    185182021 comparisons and      11169 similarities\n",
      " 4m 24s 270‰ -    185870430 comparisons and      11268 similarities\n",
      " 4m 25s 271‰ -    186558839 comparisons and      11403 similarities\n",
      " 4m 25s 272‰ -    187247248 comparisons and      11517 similarities\n",
      " 4m 26s 273‰ -    187935657 comparisons and      11723 similarities\n",
      " 4m 27s 274‰ -    188624066 comparisons and      11868 similarities\n",
      " 4m 28s 275‰ -    189312475 comparisons and      11939 similarities\n",
      " 4m 29s 276‰ -    190000884 comparisons and      11972 similarities\n",
      " 4m 30s 277‰ -    190689293 comparisons and      12002 similarities\n",
      " 4m 31s 278‰ -    191377702 comparisons and      12015 similarities\n",
      " 4m 32s 279‰ -    192066111 comparisons and      12042 similarities\n",
      " 4m 33s 280‰ -    192754520 comparisons and      12045 similarities\n",
      " 4m 34s 281‰ -    193442929 comparisons and      12054 similarities\n",
      " 4m 35s 282‰ -    194131338 comparisons and      12055 similarities\n",
      " 4m 36s 283‰ -    194819747 comparisons and      12056 similarities\n",
      " 4m 37s 284‰ -    195508156 comparisons and      12061 similarities\n",
      " 4m 38s 285‰ -    196196565 comparisons and      12071 similarities\n",
      " 4m 39s 286‰ -    196884974 comparisons and      12107 similarities\n",
      " 4m 40s 287‰ -    197573383 comparisons and      12120 similarities\n",
      " 4m 41s 288‰ -    198261792 comparisons and      12126 similarities\n",
      " 4m 42s 289‰ -    198950201 comparisons and      12153 similarities\n",
      " 4m 43s 290‰ -    199638610 comparisons and      12154 similarities\n",
      " 4m 44s 291‰ -    200327019 comparisons and      12175 similarities\n",
      " 4m 45s 292‰ -    201015428 comparisons and      12175 similarities\n",
      " 4m 46s 293‰ -    201703837 comparisons and      12176 similarities\n",
      " 4m 47s 294‰ -    202392246 comparisons and      12180 similarities\n",
      " 4m 48s 295‰ -    203080655 comparisons and      12237 similarities\n",
      " 4m 49s 296‰ -    203769064 comparisons and      12318 similarities\n",
      " 4m 50s 297‰ -    204457473 comparisons and      12324 similarities\n",
      " 4m 51s 298‰ -    205145882 comparisons and      12346 similarities\n",
      " 4m 52s 299‰ -    205834291 comparisons and      12346 similarities\n",
      " 4m 53s 300‰ -    206522700 comparisons and      12425 similarities\n",
      " 4m 54s 301‰ -    207211109 comparisons and      12499 similarities\n",
      " 4m 55s 302‰ -    207899518 comparisons and      12499 similarities\n",
      " 4m 56s 303‰ -    208587927 comparisons and      12499 similarities\n",
      " 4m 57s 304‰ -    209276336 comparisons and      12501 similarities\n",
      " 4m 58s 305‰ -    209964745 comparisons and      12501 similarities\n",
      " 4m 59s 306‰ -    210653154 comparisons and      12505 similarities\n",
      " 5m 00s 307‰ -    211341563 comparisons and      12511 similarities\n",
      " 5m 01s 308‰ -    212029972 comparisons and      12525 similarities\n",
      " 5m 02s 309‰ -    212718381 comparisons and      12531 similarities\n",
      " 5m 03s 310‰ -    213406790 comparisons and      12592 similarities\n",
      " 5m 04s 311‰ -    214095199 comparisons and      12700 similarities\n",
      " 5m 05s 312‰ -    214783608 comparisons and      12728 similarities\n",
      " 5m 06s 313‰ -    215472017 comparisons and      12770 similarities\n",
      " 5m 07s 314‰ -    216160426 comparisons and      12798 similarities\n",
      " 5m 07s 315‰ -    216848835 comparisons and      12860 similarities\n",
      " 5m 08s 316‰ -    217537244 comparisons and      12883 similarities\n",
      " 5m 09s 317‰ -    218225653 comparisons and      13064 similarities\n",
      " 5m 10s 318‰ -    218914062 comparisons and      13171 similarities\n",
      " 5m 11s 319‰ -    219602471 comparisons and      13178 similarities\n",
      " 5m 12s 320‰ -    220290880 comparisons and      13187 similarities\n",
      " 5m 13s 321‰ -    220979289 comparisons and      13255 similarities\n",
      " 5m 14s 322‰ -    221667698 comparisons and      13259 similarities\n",
      " 5m 15s 323‰ -    222356107 comparisons and      13276 similarities\n",
      " 5m 16s 324‰ -    223044516 comparisons and      13288 similarities\n",
      " 5m 17s 325‰ -    223732925 comparisons and      13358 similarities\n",
      " 5m 18s 326‰ -    224421334 comparisons and      13530 similarities\n",
      " 5m 19s 327‰ -    225109743 comparisons and      13554 similarities\n",
      " 5m 20s 328‰ -    225798152 comparisons and      13580 similarities\n",
      " 5m 21s 329‰ -    226486561 comparisons and      13622 similarities\n",
      " 5m 22s 330‰ -    227174970 comparisons and      13623 similarities\n",
      " 5m 23s 331‰ -    227863379 comparisons and      13637 similarities\n",
      " 5m 24s 332‰ -    228551788 comparisons and      13759 similarities\n",
      " 5m 25s 333‰ -    229240197 comparisons and      13840 similarities\n",
      " 5m 25s 334‰ -    229928606 comparisons and      14040 similarities\n",
      " 5m 26s 335‰ -    230617015 comparisons and      14084 similarities\n",
      " 5m 27s 336‰ -    231305424 comparisons and      14105 similarities\n",
      " 5m 28s 337‰ -    231993833 comparisons and      14123 similarities\n",
      " 5m 29s 338‰ -    232682242 comparisons and      14153 similarities\n",
      " 5m 31s 339‰ -    233370651 comparisons and      14191 similarities\n",
      " 5m 32s 340‰ -    234059060 comparisons and      14207 similarities\n",
      " 5m 33s 341‰ -    234747469 comparisons and      14216 similarities\n",
      " 5m 34s 342‰ -    235435878 comparisons and      14228 similarities\n",
      " 5m 35s 343‰ -    236124287 comparisons and      14233 similarities\n",
      " 5m 36s 344‰ -    236812696 comparisons and      14245 similarities\n",
      " 5m 37s 345‰ -    237501105 comparisons and      14245 similarities\n",
      " 5m 38s 346‰ -    238189514 comparisons and      14247 similarities\n",
      " 5m 39s 347‰ -    238877923 comparisons and      14253 similarities\n",
      " 5m 40s 348‰ -    239566332 comparisons and      14266 similarities\n",
      " 5m 41s 349‰ -    240254741 comparisons and      14272 similarities\n",
      " 5m 42s 350‰ -    240943150 comparisons and      14339 similarities\n",
      " 5m 43s 351‰ -    241631559 comparisons and      14367 similarities\n",
      " 5m 44s 352‰ -    242319968 comparisons and      14484 similarities\n",
      " 5m 45s 353‰ -    243008377 comparisons and      14510 similarities\n",
      " 5m 46s 354‰ -    243696786 comparisons and      14542 similarities\n",
      " 5m 47s 355‰ -    244385195 comparisons and      14548 similarities\n",
      " 5m 48s 356‰ -    245073604 comparisons and      14607 similarities\n",
      " 5m 49s 357‰ -    245762013 comparisons and      14627 similarities\n",
      " 5m 50s 358‰ -    246450422 comparisons and      14632 similarities\n",
      " 5m 51s 359‰ -    247138831 comparisons and      14655 similarities\n",
      " 5m 52s 360‰ -    247827240 comparisons and      14677 similarities\n",
      " 5m 53s 361‰ -    248515649 comparisons and      14700 similarities\n",
      " 5m 53s 362‰ -    249204058 comparisons and      14757 similarities\n",
      " 5m 54s 363‰ -    249892467 comparisons and      14794 similarities\n",
      " 5m 55s 364‰ -    250580876 comparisons and      14802 similarities\n",
      " 5m 56s 365‰ -    251269285 comparisons and      14813 similarities\n",
      " 5m 57s 366‰ -    251957694 comparisons and      14824 similarities\n",
      " 5m 58s 367‰ -    252646103 comparisons and      14834 similarities\n",
      " 5m 59s 368‰ -    253334512 comparisons and      14853 similarities\n",
      " 6m 00s 369‰ -    254022921 comparisons and      15021 similarities\n",
      " 6m 01s 370‰ -    254711330 comparisons and      15152 similarities\n",
      " 6m 02s 371‰ -    255399739 comparisons and      15165 similarities\n",
      " 6m 03s 372‰ -    256088148 comparisons and      15223 similarities\n",
      " 6m 04s 373‰ -    256776557 comparisons and      15322 similarities\n",
      " 6m 05s 374‰ -    257464966 comparisons and      15323 similarities\n",
      " 6m 06s 375‰ -    258153375 comparisons and      15408 similarities\n",
      " 6m 07s 376‰ -    258841784 comparisons and      15414 similarities\n",
      " 6m 08s 377‰ -    259530193 comparisons and      15439 similarities\n",
      " 6m 09s 378‰ -    260218602 comparisons and      15453 similarities\n",
      " 6m 10s 379‰ -    260907011 comparisons and      15455 similarities\n",
      " 6m 11s 380‰ -    261595420 comparisons and      15611 similarities\n",
      " 6m 12s 381‰ -    262283829 comparisons and      15632 similarities\n",
      " 6m 13s 382‰ -    262972238 comparisons and      15639 similarities\n",
      " 6m 14s 383‰ -    263660647 comparisons and      15659 similarities\n",
      " 6m 15s 384‰ -    264349056 comparisons and      15662 similarities\n",
      " 6m 16s 385‰ -    265037465 comparisons and      15665 similarities\n",
      " 6m 17s 386‰ -    265725874 comparisons and      15673 similarities\n",
      " 6m 18s 387‰ -    266414283 comparisons and      15696 similarities\n",
      " 6m 19s 388‰ -    267102692 comparisons and      15699 similarities\n",
      " 6m 20s 389‰ -    267791101 comparisons and      15712 similarities\n",
      " 6m 21s 390‰ -    268479510 comparisons and      15714 similarities\n",
      " 6m 22s 391‰ -    269167919 comparisons and      15719 similarities\n",
      " 6m 23s 392‰ -    269856328 comparisons and      15796 similarities\n",
      " 6m 24s 393‰ -    270544737 comparisons and      15808 similarities\n",
      " 6m 25s 394‰ -    271233146 comparisons and      15836 similarities\n",
      " 6m 26s 395‰ -    271921555 comparisons and      15957 similarities\n",
      " 6m 27s 396‰ -    272609964 comparisons and      15971 similarities\n",
      " 6m 28s 397‰ -    273298373 comparisons and      16063 similarities\n",
      " 6m 29s 398‰ -    273986782 comparisons and      16134 similarities\n",
      " 6m 30s 399‰ -    274675191 comparisons and      16315 similarities\n",
      " 6m 31s 400‰ -    275363600 comparisons and      16367 similarities\n",
      " 6m 32s 401‰ -    276052009 comparisons and      16494 similarities\n",
      " 6m 33s 402‰ -    276740418 comparisons and      16520 similarities\n",
      " 6m 34s 403‰ -    277428827 comparisons and      16555 similarities\n",
      " 6m 35s 404‰ -    278117236 comparisons and      16656 similarities\n",
      " 6m 36s 405‰ -    278805645 comparisons and      16677 similarities\n",
      " 6m 37s 406‰ -    279494054 comparisons and      16739 similarities\n",
      " 6m 37s 407‰ -    280182463 comparisons and      17006 similarities\n",
      " 6m 38s 408‰ -    280870872 comparisons and      17133 similarities\n",
      " 6m 39s 409‰ -    281559281 comparisons and      17211 similarities\n",
      " 6m 40s 410‰ -    282247690 comparisons and      17228 similarities\n",
      " 6m 41s 411‰ -    282936099 comparisons and      17283 similarities\n",
      " 6m 42s 412‰ -    283624508 comparisons and      17430 similarities\n",
      " 6m 43s 413‰ -    284312917 comparisons and      17512 similarities\n",
      " 6m 44s 414‰ -    285001326 comparisons and      17588 similarities\n",
      " 6m 45s 415‰ -    285689735 comparisons and      17661 similarities\n",
      " 6m 46s 416‰ -    286378144 comparisons and      17701 similarities\n",
      " 6m 47s 417‰ -    287066553 comparisons and      17750 similarities\n",
      " 6m 48s 418‰ -    287754962 comparisons and      17879 similarities\n",
      " 6m 48s 419‰ -    288443371 comparisons and      18034 similarities\n",
      " 6m 49s 420‰ -    289131780 comparisons and      18223 similarities\n",
      " 6m 50s 421‰ -    289820189 comparisons and      18429 similarities\n",
      " 6m 51s 422‰ -    290508598 comparisons and      18583 similarities\n",
      " 6m 52s 423‰ -    291197007 comparisons and      18649 similarities\n",
      " 6m 53s 424‰ -    291885416 comparisons and      18838 similarities\n",
      " 6m 54s 425‰ -    292573825 comparisons and      18857 similarities\n",
      " 6m 55s 426‰ -    293262234 comparisons and      18887 similarities\n",
      " 6m 56s 427‰ -    293950643 comparisons and      18982 similarities\n",
      " 6m 57s 428‰ -    294639052 comparisons and      19218 similarities\n",
      " 6m 57s 429‰ -    295327461 comparisons and      19594 similarities\n",
      " 6m 58s 430‰ -    296015870 comparisons and      19616 similarities\n",
      " 6m 59s 431‰ -    296704279 comparisons and      19700 similarities\n",
      " 7m 00s 432‰ -    297392688 comparisons and      20306 similarities\n",
      " 7m 01s 433‰ -    298081097 comparisons and      20455 similarities\n",
      " 7m 02s 434‰ -    298769506 comparisons and      20716 similarities\n",
      " 7m 03s 435‰ -    299457915 comparisons and      20936 similarities\n",
      " 7m 04s 436‰ -    300146324 comparisons and      21114 similarities\n",
      " 7m 05s 437‰ -    300834733 comparisons and      21312 similarities\n",
      " 7m 06s 438‰ -    301523142 comparisons and      21491 similarities\n",
      " 7m 07s 439‰ -    302211551 comparisons and      21503 similarities\n",
      " 7m 08s 440‰ -    302899960 comparisons and      21686 similarities\n",
      " 7m 09s 441‰ -    303588369 comparisons and      21721 similarities\n",
      " 7m 10s 442‰ -    304276778 comparisons and      21776 similarities\n",
      " 7m 11s 443‰ -    304965187 comparisons and      21878 similarities\n",
      " 7m 12s 444‰ -    305653596 comparisons and      21905 similarities\n",
      " 7m 13s 445‰ -    306342005 comparisons and      21922 similarities\n",
      " 7m 13s 446‰ -    307030414 comparisons and      21976 similarities\n",
      " 7m 14s 447‰ -    307718823 comparisons and      22019 similarities\n",
      " 7m 15s 448‰ -    308407232 comparisons and      22051 similarities\n",
      " 7m 16s 449‰ -    309095641 comparisons and      22075 similarities\n",
      " 7m 17s 450‰ -    309784050 comparisons and      22078 similarities\n",
      " 7m 18s 451‰ -    310472459 comparisons and      22095 similarities\n",
      " 7m 19s 452‰ -    311160868 comparisons and      22100 similarities\n",
      " 7m 20s 453‰ -    311849277 comparisons and      22107 similarities\n",
      " 7m 21s 454‰ -    312537686 comparisons and      22148 similarities\n",
      " 7m 22s 455‰ -    313226095 comparisons and      22238 similarities\n",
      " 7m 23s 456‰ -    313914504 comparisons and      22241 similarities\n",
      " 7m 24s 457‰ -    314602913 comparisons and      22247 similarities\n",
      " 7m 25s 458‰ -    315291322 comparisons and      22278 similarities\n",
      " 7m 26s 459‰ -    315979731 comparisons and      22381 similarities\n",
      " 7m 27s 460‰ -    316668140 comparisons and      22381 similarities\n",
      " 7m 27s 461‰ -    317356549 comparisons and      22395 similarities\n",
      " 7m 28s 462‰ -    318044958 comparisons and      22488 similarities\n",
      " 7m 29s 463‰ -    318733367 comparisons and      22511 similarities\n",
      " 7m 30s 464‰ -    319421776 comparisons and      22527 similarities\n",
      " 7m 31s 465‰ -    320110185 comparisons and      22527 similarities\n",
      " 7m 32s 466‰ -    320798594 comparisons and      22532 similarities\n",
      " 7m 33s 467‰ -    321487003 comparisons and      22546 similarities\n",
      " 7m 34s 468‰ -    322175412 comparisons and      22597 similarities\n",
      " 7m 35s 469‰ -    322863821 comparisons and      22608 similarities\n",
      " 7m 36s 470‰ -    323552230 comparisons and      22617 similarities\n",
      " 7m 37s 471‰ -    324240639 comparisons and      22628 similarities\n",
      " 7m 38s 472‰ -    324929048 comparisons and      22650 similarities\n",
      " 7m 39s 473‰ -    325617457 comparisons and      22692 similarities\n",
      " 7m 40s 474‰ -    326305866 comparisons and      22790 similarities\n",
      " 7m 41s 475‰ -    326994275 comparisons and      23003 similarities\n",
      " 7m 42s 476‰ -    327682684 comparisons and      23024 similarities\n",
      " 7m 43s 477‰ -    328371093 comparisons and      23046 similarities\n",
      " 7m 44s 478‰ -    329059502 comparisons and      23072 similarities\n",
      " 7m 45s 479‰ -    329747911 comparisons and      23109 similarities\n",
      " 7m 46s 480‰ -    330436320 comparisons and      23131 similarities\n",
      " 7m 47s 481‰ -    331124729 comparisons and      23142 similarities\n",
      " 7m 48s 482‰ -    331813138 comparisons and      23160 similarities\n",
      " 7m 50s 483‰ -    332501547 comparisons and      23171 similarities\n",
      " 7m 51s 484‰ -    333189956 comparisons and      23181 similarities\n",
      " 7m 51s 485‰ -    333878365 comparisons and      23294 similarities\n",
      " 7m 53s 486‰ -    334566774 comparisons and      23325 similarities\n",
      " 7m 54s 487‰ -    335255183 comparisons and      23354 similarities\n",
      " 7m 55s 488‰ -    335943592 comparisons and      23414 similarities\n",
      " 7m 56s 489‰ -    336632001 comparisons and      23452 similarities\n",
      " 7m 57s 490‰ -    337320410 comparisons and      23459 similarities\n",
      " 7m 58s 491‰ -    338008819 comparisons and      23480 similarities\n",
      " 7m 58s 492‰ -    338697228 comparisons and      23612 similarities\n",
      " 7m 59s 493‰ -    339385637 comparisons and      23626 similarities\n",
      " 8m 00s 494‰ -    340074046 comparisons and      23721 similarities\n",
      " 8m 01s 495‰ -    340762455 comparisons and      23760 similarities\n",
      " 8m 02s 496‰ -    341450864 comparisons and      23777 similarities\n",
      " 8m 03s 497‰ -    342139273 comparisons and      23787 similarities\n",
      " 8m 04s 498‰ -    342827682 comparisons and      24007 similarities\n",
      " 8m 05s 499‰ -    343516091 comparisons and      24145 similarities\n",
      " 8m 06s 500‰ -    344204500 comparisons and      24341 similarities\n",
      " 8m 07s 501‰ -    344892909 comparisons and      24713 similarities\n",
      " 8m 08s 502‰ -    345581318 comparisons and      24766 similarities\n",
      " 8m 09s 503‰ -    346269727 comparisons and      24795 similarities\n",
      " 8m 10s 504‰ -    346958136 comparisons and      25033 similarities\n",
      " 8m 11s 505‰ -    347646545 comparisons and      25119 similarities\n",
      " 8m 11s 506‰ -    348334954 comparisons and      25238 similarities\n",
      " 8m 12s 507‰ -    349023363 comparisons and      25365 similarities\n",
      " 8m 13s 508‰ -    349711772 comparisons and      25421 similarities\n",
      " 8m 14s 509‰ -    350400181 comparisons and      25491 similarities\n",
      " 8m 15s 510‰ -    351088590 comparisons and      25661 similarities\n",
      " 8m 16s 511‰ -    351776999 comparisons and      25805 similarities\n",
      " 8m 17s 512‰ -    352465408 comparisons and      25908 similarities\n",
      " 8m 18s 513‰ -    353153817 comparisons and      25916 similarities\n",
      " 8m 19s 514‰ -    353842226 comparisons and      25969 similarities\n",
      " 8m 20s 515‰ -    354530635 comparisons and      26161 similarities\n",
      " 8m 21s 516‰ -    355219044 comparisons and      26168 similarities\n",
      " 8m 22s 517‰ -    355907453 comparisons and      26269 similarities\n",
      " 8m 23s 518‰ -    356595862 comparisons and      26307 similarities\n",
      " 8m 24s 519‰ -    357284271 comparisons and      26349 similarities\n",
      " 8m 25s 520‰ -    357972680 comparisons and      26472 similarities\n",
      " 8m 25s 521‰ -    358661089 comparisons and      26577 similarities\n",
      " 8m 26s 522‰ -    359349498 comparisons and      26657 similarities\n",
      " 8m 27s 523‰ -    360037907 comparisons and      26752 similarities\n",
      " 8m 28s 524‰ -    360726316 comparisons and      27008 similarities\n",
      " 8m 29s 525‰ -    361414725 comparisons and      27226 similarities\n",
      " 8m 30s 526‰ -    362103134 comparisons and      27637 similarities\n",
      " 8m 31s 527‰ -    362791543 comparisons and      27936 similarities\n",
      " 8m 32s 528‰ -    363479952 comparisons and      28089 similarities\n",
      " 8m 33s 529‰ -    364168361 comparisons and      28219 similarities\n",
      " 8m 34s 530‰ -    364856770 comparisons and      28233 similarities\n",
      " 8m 35s 531‰ -    365545179 comparisons and      28308 similarities\n",
      " 8m 36s 532‰ -    366233588 comparisons and      28353 similarities\n",
      " 8m 36s 533‰ -    366921997 comparisons and      28380 similarities\n",
      " 8m 37s 534‰ -    367610406 comparisons and      28387 similarities\n",
      " 8m 38s 535‰ -    368298815 comparisons and      28426 similarities\n",
      " 8m 39s 536‰ -    368987224 comparisons and      28506 similarities\n",
      " 8m 40s 537‰ -    369675633 comparisons and      28515 similarities\n",
      " 8m 41s 538‰ -    370364042 comparisons and      28634 similarities\n",
      " 8m 42s 539‰ -    371052451 comparisons and      28659 similarities\n",
      " 8m 43s 540‰ -    371740860 comparisons and      28761 similarities\n",
      " 8m 44s 541‰ -    372429269 comparisons and      28843 similarities\n",
      " 8m 45s 542‰ -    373117678 comparisons and      28873 similarities\n",
      " 8m 46s 543‰ -    373806087 comparisons and      28950 similarities\n",
      " 8m 47s 544‰ -    374494496 comparisons and      29079 similarities\n",
      " 8m 48s 545‰ -    375182905 comparisons and      29190 similarities\n",
      " 8m 49s 546‰ -    375871314 comparisons and      29265 similarities\n",
      " 8m 50s 547‰ -    376559723 comparisons and      29342 similarities\n",
      " 8m 51s 548‰ -    377248132 comparisons and      29378 similarities\n",
      " 8m 51s 549‰ -    377936541 comparisons and      29545 similarities\n",
      " 8m 52s 550‰ -    378624950 comparisons and      29622 similarities\n",
      " 8m 53s 551‰ -    379313359 comparisons and      29635 similarities\n",
      " 8m 54s 552‰ -    380001768 comparisons and      29654 similarities\n",
      " 8m 55s 553‰ -    380690177 comparisons and      29677 similarities\n",
      " 8m 56s 554‰ -    381378586 comparisons and      29686 similarities\n",
      " 8m 57s 555‰ -    382066995 comparisons and      29693 similarities\n",
      " 8m 58s 556‰ -    382755404 comparisons and      29699 similarities\n",
      " 8m 59s 557‰ -    383443813 comparisons and      29766 similarities\n",
      " 9m 00s 558‰ -    384132222 comparisons and      29776 similarities\n",
      " 9m 01s 559‰ -    384820631 comparisons and      29874 similarities\n",
      " 9m 02s 560‰ -    385509040 comparisons and      30102 similarities\n",
      " 9m 03s 561‰ -    386197449 comparisons and      30409 similarities\n",
      " 9m 04s 562‰ -    386885858 comparisons and      30513 similarities\n",
      " 9m 05s 563‰ -    387574267 comparisons and      30779 similarities\n",
      " 9m 05s 564‰ -    388262676 comparisons and      31053 similarities\n",
      " 9m 06s 565‰ -    388951085 comparisons and      31105 similarities\n",
      " 9m 07s 566‰ -    389639494 comparisons and      31116 similarities\n",
      " 9m 08s 567‰ -    390327903 comparisons and      31123 similarities\n",
      " 9m 09s 568‰ -    391016312 comparisons and      31204 similarities\n",
      " 9m 10s 569‰ -    391704721 comparisons and      31391 similarities\n",
      " 9m 11s 570‰ -    392393130 comparisons and      31501 similarities\n",
      " 9m 12s 571‰ -    393081539 comparisons and      31533 similarities\n",
      " 9m 13s 572‰ -    393769948 comparisons and      31598 similarities\n",
      " 9m 14s 573‰ -    394458357 comparisons and      31664 similarities\n",
      " 9m 15s 574‰ -    395146766 comparisons and      31702 similarities\n",
      " 9m 16s 575‰ -    395835175 comparisons and      31796 similarities\n",
      " 9m 17s 576‰ -    396523584 comparisons and      32057 similarities\n",
      " 9m 18s 577‰ -    397211993 comparisons and      32224 similarities\n",
      " 9m 19s 578‰ -    397900402 comparisons and      32424 similarities\n",
      " 9m 20s 579‰ -    398588811 comparisons and      32458 similarities\n",
      " 9m 21s 580‰ -    399277220 comparisons and      32537 similarities\n",
      " 9m 22s 581‰ -    399965629 comparisons and      32570 similarities\n",
      " 9m 23s 582‰ -    400654038 comparisons and      32665 similarities\n",
      " 9m 24s 583‰ -    401342447 comparisons and      32883 similarities\n",
      " 9m 25s 584‰ -    402030856 comparisons and      33175 similarities\n",
      " 9m 26s 585‰ -    402719265 comparisons and      33218 similarities\n",
      " 9m 26s 586‰ -    403407674 comparisons and      33268 similarities\n",
      " 9m 27s 587‰ -    404096083 comparisons and      33384 similarities\n",
      " 9m 28s 588‰ -    404784492 comparisons and      33455 similarities\n",
      " 9m 29s 589‰ -    405472901 comparisons and      33479 similarities\n",
      " 9m 30s 590‰ -    406161310 comparisons and      33585 similarities\n",
      " 9m 31s 591‰ -    406849719 comparisons and      33620 similarities\n",
      " 9m 32s 592‰ -    407538128 comparisons and      33645 similarities\n",
      " 9m 33s 593‰ -    408226537 comparisons and      33663 similarities\n",
      " 9m 34s 594‰ -    408914946 comparisons and      33734 similarities\n",
      " 9m 35s 595‰ -    409603355 comparisons and      33817 similarities\n",
      " 9m 36s 596‰ -    410291764 comparisons and      33824 similarities\n",
      " 9m 37s 597‰ -    410980173 comparisons and      33847 similarities\n",
      " 9m 38s 598‰ -    411668582 comparisons and      33875 similarities\n",
      " 9m 39s 599‰ -    412356991 comparisons and      33916 similarities\n",
      " 9m 40s 600‰ -    413045400 comparisons and      34011 similarities\n",
      " 9m 41s 601‰ -    413733809 comparisons and      34043 similarities\n",
      " 9m 42s 602‰ -    414422218 comparisons and      34094 similarities\n",
      " 9m 43s 603‰ -    415110627 comparisons and      34129 similarities\n",
      " 9m 44s 604‰ -    415799036 comparisons and      34181 similarities\n",
      " 9m 45s 605‰ -    416487445 comparisons and      34206 similarities\n",
      " 9m 45s 606‰ -    417175854 comparisons and      34242 similarities\n",
      " 9m 46s 607‰ -    417864263 comparisons and      34255 similarities\n",
      " 9m 47s 608‰ -    418552672 comparisons and      34295 similarities\n",
      " 9m 48s 609‰ -    419241081 comparisons and      34348 similarities\n",
      " 9m 49s 610‰ -    419929490 comparisons and      34399 similarities\n",
      " 9m 50s 611‰ -    420617899 comparisons and      34504 similarities\n",
      " 9m 51s 612‰ -    421306308 comparisons and      34618 similarities\n",
      " 9m 52s 613‰ -    421994717 comparisons and      34745 similarities\n",
      " 9m 53s 614‰ -    422683126 comparisons and      34880 similarities\n",
      " 9m 53s 615‰ -    423371535 comparisons and      35045 similarities\n",
      " 9m 54s 616‰ -    424059944 comparisons and      35141 similarities\n",
      " 9m 55s 617‰ -    424748353 comparisons and      35235 similarities\n",
      " 9m 56s 618‰ -    425436762 comparisons and      35278 similarities\n",
      " 9m 57s 619‰ -    426125171 comparisons and      35349 similarities\n",
      " 9m 58s 620‰ -    426813580 comparisons and      35399 similarities\n",
      " 9m 59s 621‰ -    427501989 comparisons and      35434 similarities\n",
      "10m 00s 622‰ -    428190398 comparisons and      35449 similarities\n",
      "10m 01s 623‰ -    428878807 comparisons and      35500 similarities\n",
      "10m 02s 624‰ -    429567216 comparisons and      35520 similarities\n",
      "10m 03s 625‰ -    430255625 comparisons and      35601 similarities\n",
      "10m 04s 626‰ -    430944034 comparisons and      35619 similarities\n",
      "10m 05s 627‰ -    431632443 comparisons and      35685 similarities\n",
      "10m 06s 628‰ -    432320852 comparisons and      35774 similarities\n",
      "10m 06s 629‰ -    433009261 comparisons and      35810 similarities\n",
      "10m 08s 630‰ -    433697670 comparisons and      35822 similarities\n",
      "10m 09s 631‰ -    434386079 comparisons and      35827 similarities\n",
      "10m 10s 632‰ -    435074488 comparisons and      35866 similarities\n",
      "10m 11s 633‰ -    435762897 comparisons and      35876 similarities\n",
      "10m 12s 634‰ -    436451306 comparisons and      35881 similarities\n",
      "10m 13s 635‰ -    437139715 comparisons and      35897 similarities\n",
      "10m 14s 636‰ -    437828124 comparisons and      35948 similarities\n",
      "10m 15s 637‰ -    438516533 comparisons and      35948 similarities\n",
      "10m 16s 638‰ -    439204942 comparisons and      35963 similarities\n",
      "10m 17s 639‰ -    439893351 comparisons and      35963 similarities\n",
      "10m 18s 640‰ -    440581760 comparisons and      35999 similarities\n",
      "10m 19s 641‰ -    441270169 comparisons and      36016 similarities\n",
      "10m 20s 642‰ -    441958578 comparisons and      36039 similarities\n",
      "10m 21s 643‰ -    442646987 comparisons and      36051 similarities\n",
      "10m 22s 644‰ -    443335396 comparisons and      36085 similarities\n",
      "10m 23s 645‰ -    444023805 comparisons and      36128 similarities\n",
      "10m 24s 646‰ -    444712214 comparisons and      36175 similarities\n",
      "10m 25s 647‰ -    445400623 comparisons and      36246 similarities\n",
      "10m 26s 648‰ -    446089032 comparisons and      36340 similarities\n",
      "10m 27s 649‰ -    446777441 comparisons and      36408 similarities\n",
      "10m 27s 650‰ -    447465850 comparisons and      36438 similarities\n",
      "10m 28s 651‰ -    448154259 comparisons and      36491 similarities\n",
      "10m 29s 652‰ -    448842668 comparisons and      36569 similarities\n",
      "10m 30s 653‰ -    449531077 comparisons and      36623 similarities\n",
      "10m 31s 654‰ -    450219486 comparisons and      36668 similarities\n",
      "10m 32s 655‰ -    450907895 comparisons and      36737 similarities\n",
      "10m 33s 656‰ -    451596304 comparisons and      36812 similarities\n",
      "10m 34s 657‰ -    452284713 comparisons and      36886 similarities\n",
      "10m 35s 658‰ -    452973122 comparisons and      36900 similarities\n",
      "10m 36s 659‰ -    453661531 comparisons and      37001 similarities\n",
      "10m 37s 660‰ -    454349940 comparisons and      37014 similarities\n",
      "10m 38s 661‰ -    455038349 comparisons and      37063 similarities\n",
      "10m 39s 662‰ -    455726758 comparisons and      37139 similarities\n",
      "10m 39s 663‰ -    456415167 comparisons and      37179 similarities\n",
      "10m 40s 664‰ -    457103576 comparisons and      37224 similarities\n",
      "10m 41s 665‰ -    457791985 comparisons and      37287 similarities\n",
      "10m 42s 666‰ -    458480394 comparisons and      37425 similarities\n",
      "10m 43s 667‰ -    459168803 comparisons and      37503 similarities\n",
      "10m 44s 668‰ -    459857212 comparisons and      37551 similarities\n",
      "10m 45s 669‰ -    460545621 comparisons and      37563 similarities\n",
      "10m 46s 670‰ -    461234030 comparisons and      37568 similarities\n",
      "10m 47s 671‰ -    461922439 comparisons and      37578 similarities\n",
      "10m 48s 672‰ -    462610848 comparisons and      37650 similarities\n",
      "10m 49s 673‰ -    463299257 comparisons and      37657 similarities\n",
      "10m 50s 674‰ -    463987666 comparisons and      37703 similarities\n",
      "10m 51s 675‰ -    464676075 comparisons and      37718 similarities\n",
      "10m 52s 676‰ -    465364484 comparisons and      37775 similarities\n",
      "10m 53s 677‰ -    466052893 comparisons and      37951 similarities\n",
      "10m 54s 678‰ -    466741302 comparisons and      37980 similarities\n",
      "10m 55s 679‰ -    467429711 comparisons and      38235 similarities\n",
      "10m 56s 680‰ -    468118120 comparisons and      38368 similarities\n",
      "10m 56s 681‰ -    468806529 comparisons and      38677 similarities\n",
      "10m 57s 682‰ -    469494938 comparisons and      38972 similarities\n",
      "10m 58s 683‰ -    470183347 comparisons and      39240 similarities\n",
      "10m 59s 684‰ -    470871756 comparisons and      39482 similarities\n",
      "11m 00s 685‰ -    471560165 comparisons and      39638 similarities\n",
      "11m 01s 686‰ -    472248574 comparisons and      39971 similarities\n",
      "11m 02s 687‰ -    472936983 comparisons and      40126 similarities\n",
      "11m 03s 688‰ -    473625392 comparisons and      40277 similarities\n",
      "11m 04s 689‰ -    474313801 comparisons and      40381 similarities\n",
      "11m 05s 690‰ -    475002210 comparisons and      40650 similarities\n",
      "11m 06s 691‰ -    475690619 comparisons and      40876 similarities\n",
      "11m 07s 692‰ -    476379028 comparisons and      41098 similarities\n",
      "11m 08s 693‰ -    477067437 comparisons and      41180 similarities\n",
      "11m 08s 694‰ -    477755846 comparisons and      41212 similarities\n",
      "11m 09s 695‰ -    478444255 comparisons and      41231 similarities\n",
      "11m 10s 696‰ -    479132664 comparisons and      41286 similarities\n",
      "11m 11s 697‰ -    479821073 comparisons and      41325 similarities\n",
      "11m 12s 698‰ -    480509482 comparisons and      41363 similarities\n",
      "11m 13s 699‰ -    481197891 comparisons and      41432 similarities\n",
      "11m 14s 700‰ -    481886300 comparisons and      41497 similarities\n",
      "11m 15s 701‰ -    482574709 comparisons and      41539 similarities\n",
      "11m 16s 702‰ -    483263118 comparisons and      41666 similarities\n",
      "11m 17s 703‰ -    483951527 comparisons and      41881 similarities\n",
      "11m 18s 704‰ -    484639936 comparisons and      41962 similarities\n",
      "11m 19s 705‰ -    485328345 comparisons and      42011 similarities\n",
      "11m 20s 706‰ -    486016754 comparisons and      42199 similarities\n",
      "11m 20s 707‰ -    486705163 comparisons and      42235 similarities\n",
      "11m 21s 708‰ -    487393572 comparisons and      42328 similarities\n",
      "11m 22s 709‰ -    488081981 comparisons and      42520 similarities\n",
      "11m 23s 710‰ -    488770390 comparisons and      42599 similarities\n",
      "11m 24s 711‰ -    489458799 comparisons and      42640 similarities\n",
      "11m 25s 712‰ -    490147208 comparisons and      42687 similarities\n",
      "11m 26s 713‰ -    490835617 comparisons and      42838 similarities\n",
      "11m 27s 714‰ -    491524026 comparisons and      42932 similarities\n",
      "11m 28s 715‰ -    492212435 comparisons and      42983 similarities\n",
      "11m 29s 716‰ -    492900844 comparisons and      43007 similarities\n",
      "11m 30s 717‰ -    493589253 comparisons and      43088 similarities\n",
      "11m 31s 718‰ -    494277662 comparisons and      43252 similarities\n",
      "11m 32s 719‰ -    494966071 comparisons and      43460 similarities\n",
      "11m 32s 720‰ -    495654480 comparisons and      43517 similarities\n",
      "11m 33s 721‰ -    496342889 comparisons and      43558 similarities\n",
      "11m 34s 722‰ -    497031298 comparisons and      43587 similarities\n",
      "11m 35s 723‰ -    497719707 comparisons and      43626 similarities\n",
      "11m 36s 724‰ -    498408116 comparisons and      43653 similarities\n",
      "11m 37s 725‰ -    499096525 comparisons and      43699 similarities\n",
      "11m 38s 726‰ -    499784934 comparisons and      43747 similarities\n",
      "11m 39s 727‰ -    500473343 comparisons and      43821 similarities\n",
      "11m 40s 728‰ -    501161752 comparisons and      43835 similarities\n",
      "11m 41s 729‰ -    501850161 comparisons and      43915 similarities\n",
      "11m 42s 730‰ -    502538570 comparisons and      43937 similarities\n",
      "11m 43s 731‰ -    503226979 comparisons and      43961 similarities\n",
      "11m 44s 732‰ -    503915388 comparisons and      44002 similarities\n",
      "11m 45s 733‰ -    504603797 comparisons and      44015 similarities\n",
      "11m 46s 734‰ -    505292206 comparisons and      44030 similarities\n",
      "11m 47s 735‰ -    505980615 comparisons and      44034 similarities\n",
      "11m 48s 736‰ -    506669024 comparisons and      44061 similarities\n",
      "11m 48s 737‰ -    507357433 comparisons and      44093 similarities\n",
      "11m 49s 738‰ -    508045842 comparisons and      44128 similarities\n",
      "11m 50s 739‰ -    508734251 comparisons and      44134 similarities\n",
      "11m 51s 740‰ -    509422660 comparisons and      44191 similarities\n",
      "11m 52s 741‰ -    510111069 comparisons and      44217 similarities\n",
      "11m 53s 742‰ -    510799478 comparisons and      44232 similarities\n",
      "11m 54s 743‰ -    511487887 comparisons and      44276 similarities\n",
      "11m 55s 744‰ -    512176296 comparisons and      44300 similarities\n",
      "11m 56s 745‰ -    512864705 comparisons and      44319 similarities\n",
      "11m 57s 746‰ -    513553114 comparisons and      44327 similarities\n",
      "11m 58s 747‰ -    514241523 comparisons and      44347 similarities\n",
      "11m 59s 748‰ -    514929932 comparisons and      44362 similarities\n",
      "12m 00s 749‰ -    515618341 comparisons and      44376 similarities\n",
      "12m 01s 750‰ -    516306750 comparisons and      44398 similarities\n",
      "12m 02s 751‰ -    516995159 comparisons and      44445 similarities\n",
      "12m 03s 752‰ -    517683568 comparisons and      44511 similarities\n",
      "12m 04s 753‰ -    518371977 comparisons and      44572 similarities\n",
      "12m 05s 754‰ -    519060386 comparisons and      44580 similarities\n",
      "12m 06s 755‰ -    519748795 comparisons and      44629 similarities\n",
      "12m 07s 756‰ -    520437204 comparisons and      44647 similarities\n",
      "12m 08s 757‰ -    521125613 comparisons and      44670 similarities\n",
      "12m 09s 758‰ -    521814022 comparisons and      44704 similarities\n",
      "12m 10s 759‰ -    522502431 comparisons and      44706 similarities\n",
      "12m 11s 760‰ -    523190840 comparisons and      44719 similarities\n",
      "12m 12s 761‰ -    523879249 comparisons and      44755 similarities\n",
      "12m 13s 762‰ -    524567658 comparisons and      44810 similarities\n",
      "12m 14s 763‰ -    525256067 comparisons and      44846 similarities\n",
      "12m 15s 764‰ -    525944476 comparisons and      44880 similarities\n",
      "12m 16s 765‰ -    526632885 comparisons and      44914 similarities\n",
      "12m 17s 766‰ -    527321294 comparisons and      44937 similarities\n",
      "12m 17s 767‰ -    528009703 comparisons and      45004 similarities\n",
      "12m 18s 768‰ -    528698112 comparisons and      45020 similarities\n",
      "12m 19s 769‰ -    529386521 comparisons and      45034 similarities\n",
      "12m 20s 770‰ -    530074930 comparisons and      45077 similarities\n",
      "12m 21s 771‰ -    530763339 comparisons and      45088 similarities\n",
      "12m 22s 772‰ -    531451748 comparisons and      45095 similarities\n",
      "12m 23s 773‰ -    532140157 comparisons and      45113 similarities\n",
      "12m 24s 774‰ -    532828566 comparisons and      45121 similarities\n",
      "12m 25s 775‰ -    533516975 comparisons and      45162 similarities\n",
      "12m 26s 776‰ -    534205384 comparisons and      45182 similarities\n",
      "12m 27s 777‰ -    534893793 comparisons and      45221 similarities\n",
      "12m 28s 778‰ -    535582202 comparisons and      45235 similarities\n",
      "12m 28s 779‰ -    536270611 comparisons and      45244 similarities\n",
      "12m 29s 780‰ -    536959020 comparisons and      45263 similarities\n",
      "12m 30s 781‰ -    537647429 comparisons and      45319 similarities\n",
      "12m 31s 782‰ -    538335838 comparisons and      45382 similarities\n",
      "12m 32s 783‰ -    539024247 comparisons and      45383 similarities\n",
      "12m 33s 784‰ -    539712656 comparisons and      45440 similarities\n",
      "12m 34s 785‰ -    540401065 comparisons and      45478 similarities\n",
      "12m 35s 786‰ -    541089474 comparisons and      45536 similarities\n",
      "12m 36s 787‰ -    541777883 comparisons and      45555 similarities\n",
      "12m 37s 788‰ -    542466292 comparisons and      45598 similarities\n",
      "12m 38s 789‰ -    543154701 comparisons and      45613 similarities\n",
      "12m 39s 790‰ -    543843110 comparisons and      45619 similarities\n",
      "12m 40s 791‰ -    544531519 comparisons and      45619 similarities\n",
      "12m 41s 792‰ -    545219928 comparisons and      45623 similarities\n",
      "12m 42s 793‰ -    545908337 comparisons and      45635 similarities\n",
      "12m 43s 794‰ -    546596746 comparisons and      45636 similarities\n",
      "12m 44s 795‰ -    547285155 comparisons and      45636 similarities\n",
      "12m 45s 796‰ -    547973564 comparisons and      45639 similarities\n",
      "12m 45s 797‰ -    548661973 comparisons and      45639 similarities\n",
      "12m 46s 798‰ -    549350382 comparisons and      45653 similarities\n",
      "12m 48s 799‰ -    550038791 comparisons and      45653 similarities\n",
      "12m 48s 800‰ -    550727200 comparisons and      45656 similarities\n",
      "12m 49s 801‰ -    551415609 comparisons and      45688 similarities\n",
      "12m 51s 802‰ -    552104018 comparisons and      45689 similarities\n",
      "12m 52s 803‰ -    552792427 comparisons and      45690 similarities\n",
      "12m 53s 804‰ -    553480836 comparisons and      45698 similarities\n",
      "12m 54s 805‰ -    554169245 comparisons and      45713 similarities\n",
      "12m 55s 806‰ -    554857654 comparisons and      45718 similarities\n",
      "12m 56s 807‰ -    555546063 comparisons and      45739 similarities\n",
      "12m 57s 808‰ -    556234472 comparisons and      45749 similarities\n",
      "12m 58s 809‰ -    556922881 comparisons and      45754 similarities\n",
      "12m 58s 810‰ -    557611290 comparisons and      45771 similarities\n",
      "12m 59s 811‰ -    558299699 comparisons and      45786 similarities\n",
      "13m 00s 812‰ -    558988108 comparisons and      45805 similarities\n",
      "13m 01s 813‰ -    559676517 comparisons and      45844 similarities\n",
      "13m 02s 814‰ -    560364926 comparisons and      45854 similarities\n",
      "13m 03s 815‰ -    561053335 comparisons and      45890 similarities\n",
      "13m 04s 816‰ -    561741744 comparisons and      45932 similarities\n",
      "13m 05s 817‰ -    562430153 comparisons and      45976 similarities\n",
      "13m 07s 818‰ -    563118562 comparisons and      46009 similarities\n",
      "13m 08s 819‰ -    563806971 comparisons and      46034 similarities\n",
      "13m 09s 820‰ -    564495380 comparisons and      46052 similarities\n",
      "13m 10s 821‰ -    565183789 comparisons and      46086 similarities\n",
      "13m 11s 822‰ -    565872198 comparisons and      46096 similarities\n",
      "13m 12s 823‰ -    566560607 comparisons and      46109 similarities\n",
      "13m 13s 824‰ -    567249016 comparisons and      46130 similarities\n",
      "13m 14s 825‰ -    567937425 comparisons and      46146 similarities\n",
      "13m 15s 826‰ -    568625834 comparisons and      46162 similarities\n",
      "13m 16s 827‰ -    569314243 comparisons and      46170 similarities\n",
      "13m 17s 828‰ -    570002652 comparisons and      46184 similarities\n",
      "13m 18s 829‰ -    570691061 comparisons and      46199 similarities\n",
      "13m 19s 830‰ -    571379470 comparisons and      46217 similarities\n",
      "13m 21s 831‰ -    572067879 comparisons and      46219 similarities\n",
      "13m 22s 832‰ -    572756288 comparisons and      46227 similarities\n",
      "13m 23s 833‰ -    573444697 comparisons and      46251 similarities\n",
      "13m 24s 834‰ -    574133106 comparisons and      46268 similarities\n",
      "13m 25s 835‰ -    574821515 comparisons and      46278 similarities\n",
      "13m 26s 836‰ -    575509924 comparisons and      46281 similarities\n",
      "13m 27s 837‰ -    576198333 comparisons and      46287 similarities\n",
      "13m 28s 838‰ -    576886742 comparisons and      46301 similarities\n",
      "13m 29s 839‰ -    577575151 comparisons and      46320 similarities\n",
      "13m 30s 840‰ -    578263560 comparisons and      46385 similarities\n",
      "13m 31s 841‰ -    578951969 comparisons and      46450 similarities\n",
      "13m 32s 842‰ -    579640378 comparisons and      46505 similarities\n",
      "13m 33s 843‰ -    580328787 comparisons and      46579 similarities\n",
      "13m 34s 844‰ -    581017196 comparisons and      46625 similarities\n",
      "13m 35s 845‰ -    581705605 comparisons and      46678 similarities\n",
      "13m 36s 846‰ -    582394014 comparisons and      46719 similarities\n",
      "13m 37s 847‰ -    583082423 comparisons and      46734 similarities\n",
      "13m 38s 848‰ -    583770832 comparisons and      46775 similarities\n",
      "13m 39s 849‰ -    584459241 comparisons and      46841 similarities\n",
      "13m 40s 850‰ -    585147650 comparisons and      46867 similarities\n",
      "13m 41s 851‰ -    585836059 comparisons and      46905 similarities\n",
      "13m 42s 852‰ -    586524468 comparisons and      46920 similarities\n",
      "13m 43s 853‰ -    587212877 comparisons and      46940 similarities\n",
      "13m 44s 854‰ -    587901286 comparisons and      46983 similarities\n",
      "13m 46s 855‰ -    588589695 comparisons and      46991 similarities\n",
      "13m 47s 856‰ -    589278104 comparisons and      47008 similarities\n",
      "13m 48s 857‰ -    589966513 comparisons and      47030 similarities\n",
      "13m 49s 858‰ -    590654922 comparisons and      47056 similarities\n",
      "13m 50s 859‰ -    591343331 comparisons and      47078 similarities\n",
      "13m 51s 860‰ -    592031740 comparisons and      47112 similarities\n",
      "13m 52s 861‰ -    592720149 comparisons and      47130 similarities\n",
      "13m 53s 862‰ -    593408558 comparisons and      47166 similarities\n",
      "13m 54s 863‰ -    594096967 comparisons and      47192 similarities\n",
      "13m 56s 864‰ -    594785376 comparisons and      47237 similarities\n",
      "13m 57s 865‰ -    595473785 comparisons and      47266 similarities\n",
      "13m 58s 866‰ -    596162194 comparisons and      47285 similarities\n",
      "13m 59s 867‰ -    596850603 comparisons and      47306 similarities\n",
      "14m 00s 868‰ -    597539012 comparisons and      47323 similarities\n",
      "14m 01s 869‰ -    598227421 comparisons and      47332 similarities\n",
      "14m 02s 870‰ -    598915830 comparisons and      47338 similarities\n",
      "14m 04s 871‰ -    599604239 comparisons and      47343 similarities\n",
      "14m 05s 872‰ -    600292648 comparisons and      47358 similarities\n",
      "14m 06s 873‰ -    600981057 comparisons and      47385 similarities\n",
      "14m 07s 874‰ -    601669466 comparisons and      47413 similarities\n",
      "14m 08s 875‰ -    602357875 comparisons and      47442 similarities\n",
      "14m 09s 876‰ -    603046284 comparisons and      47477 similarities\n",
      "14m 11s 877‰ -    603734693 comparisons and      47523 similarities\n",
      "14m 12s 878‰ -    604423102 comparisons and      47538 similarities\n",
      "14m 13s 879‰ -    605111511 comparisons and      47584 similarities\n",
      "14m 14s 880‰ -    605799920 comparisons and      47624 similarities\n",
      "14m 15s 881‰ -    606488329 comparisons and      47657 similarities\n",
      "14m 16s 882‰ -    607176738 comparisons and      47688 similarities\n",
      "14m 17s 883‰ -    607865147 comparisons and      47708 similarities\n",
      "14m 19s 884‰ -    608553556 comparisons and      47744 similarities\n",
      "14m 20s 885‰ -    609241965 comparisons and      47763 similarities\n",
      "14m 21s 886‰ -    609930374 comparisons and      47802 similarities\n",
      "14m 22s 887‰ -    610618783 comparisons and      47825 similarities\n",
      "14m 23s 888‰ -    611307192 comparisons and      47839 similarities\n",
      "14m 24s 889‰ -    611995601 comparisons and      47862 similarities\n",
      "14m 25s 890‰ -    612684010 comparisons and      47889 similarities\n",
      "14m 26s 891‰ -    613372419 comparisons and      47905 similarities\n",
      "14m 27s 892‰ -    614060828 comparisons and      47915 similarities\n",
      "14m 29s 893‰ -    614749237 comparisons and      47924 similarities\n",
      "14m 30s 894‰ -    615437646 comparisons and      47935 similarities\n",
      "14m 31s 895‰ -    616126055 comparisons and      48026 similarities\n",
      "14m 32s 896‰ -    616814464 comparisons and      48086 similarities\n",
      "14m 33s 897‰ -    617502873 comparisons and      48113 similarities\n",
      "14m 34s 898‰ -    618191282 comparisons and      48137 similarities\n",
      "14m 35s 899‰ -    618879691 comparisons and      48208 similarities\n",
      "14m 36s 900‰ -    619568100 comparisons and      48210 similarities\n",
      "14m 37s 901‰ -    620256509 comparisons and      48229 similarities\n",
      "14m 38s 902‰ -    620944918 comparisons and      48238 similarities\n",
      "14m 39s 903‰ -    621633327 comparisons and      48244 similarities\n",
      "14m 40s 904‰ -    622321736 comparisons and      48285 similarities\n",
      "14m 42s 905‰ -    623010145 comparisons and      48355 similarities\n",
      "14m 43s 906‰ -    623698554 comparisons and      48389 similarities\n",
      "14m 44s 907‰ -    624386963 comparisons and      48402 similarities\n",
      "14m 45s 908‰ -    625075372 comparisons and      48427 similarities\n",
      "14m 46s 909‰ -    625763781 comparisons and      48437 similarities\n",
      "14m 47s 910‰ -    626452190 comparisons and      48468 similarities\n",
      "14m 48s 911‰ -    627140599 comparisons and      48500 similarities\n",
      "14m 49s 912‰ -    627829008 comparisons and      48546 similarities\n",
      "14m 50s 913‰ -    628517417 comparisons and      48564 similarities\n",
      "14m 52s 914‰ -    629205826 comparisons and      48570 similarities\n",
      "14m 53s 915‰ -    629894235 comparisons and      48605 similarities\n",
      "14m 54s 916‰ -    630582644 comparisons and      48630 similarities\n",
      "14m 55s 917‰ -    631271053 comparisons and      48664 similarities\n",
      "14m 56s 918‰ -    631959462 comparisons and      48716 similarities\n",
      "14m 57s 919‰ -    632647871 comparisons and      48735 similarities\n",
      "14m 58s 920‰ -    633336280 comparisons and      48758 similarities\n",
      "14m 59s 921‰ -    634024689 comparisons and      48763 similarities\n",
      "15m 00s 922‰ -    634713098 comparisons and      48821 similarities\n",
      "15m 02s 923‰ -    635401507 comparisons and      48821 similarities\n",
      "15m 03s 924‰ -    636089916 comparisons and      48848 similarities\n",
      "15m 04s 925‰ -    636778325 comparisons and      48859 similarities\n",
      "15m 05s 926‰ -    637466734 comparisons and      48862 similarities\n",
      "15m 06s 927‰ -    638155143 comparisons and      48869 similarities\n",
      "15m 07s 928‰ -    638843552 comparisons and      48878 similarities\n",
      "15m 08s 929‰ -    639531961 comparisons and      48885 similarities\n",
      "15m 09s 930‰ -    640220370 comparisons and      48907 similarities\n",
      "15m 11s 931‰ -    640908779 comparisons and      48949 similarities\n",
      "15m 12s 932‰ -    641597188 comparisons and      48990 similarities\n",
      "15m 13s 933‰ -    642285597 comparisons and      49030 similarities\n",
      "15m 14s 934‰ -    642974006 comparisons and      49095 similarities\n",
      "15m 15s 935‰ -    643662415 comparisons and      49138 similarities\n",
      "15m 17s 936‰ -    644350824 comparisons and      49165 similarities\n",
      "15m 18s 937‰ -    645039233 comparisons and      49171 similarities\n",
      "15m 19s 938‰ -    645727642 comparisons and      49192 similarities\n",
      "15m 20s 939‰ -    646416051 comparisons and      49198 similarities\n",
      "15m 21s 940‰ -    647104460 comparisons and      49234 similarities\n",
      "15m 22s 941‰ -    647792869 comparisons and      49236 similarities\n",
      "15m 23s 942‰ -    648481278 comparisons and      49252 similarities\n",
      "15m 24s 943‰ -    649169687 comparisons and      49310 similarities\n",
      "15m 25s 944‰ -    649858096 comparisons and      49337 similarities\n",
      "15m 26s 945‰ -    650546505 comparisons and      49365 similarities\n",
      "15m 28s 946‰ -    651234914 comparisons and      49405 similarities\n",
      "15m 29s 947‰ -    651923323 comparisons and      49426 similarities\n",
      "15m 30s 948‰ -    652611732 comparisons and      49460 similarities\n",
      "15m 31s 949‰ -    653300141 comparisons and      49606 similarities\n",
      "15m 32s 950‰ -    653988550 comparisons and      49774 similarities\n",
      "15m 33s 951‰ -    654676959 comparisons and      49819 similarities\n",
      "15m 34s 952‰ -    655365368 comparisons and      49924 similarities\n",
      "15m 35s 953‰ -    656053777 comparisons and      49969 similarities\n",
      "15m 36s 954‰ -    656742186 comparisons and      50001 similarities\n",
      "15m 37s 955‰ -    657430595 comparisons and      50009 similarities\n",
      "15m 38s 956‰ -    658119004 comparisons and      50013 similarities\n",
      "15m 39s 957‰ -    658807413 comparisons and      50013 similarities\n",
      "15m 40s 958‰ -    659495822 comparisons and      50013 similarities\n",
      "15m 41s 959‰ -    660184231 comparisons and      50015 similarities\n",
      "15m 43s 960‰ -    660872640 comparisons and      50018 similarities\n",
      "15m 44s 961‰ -    661561049 comparisons and      50022 similarities\n",
      "15m 45s 962‰ -    662249458 comparisons and      50022 similarities\n",
      "15m 46s 963‰ -    662937867 comparisons and      50025 similarities\n",
      "15m 47s 964‰ -    663626276 comparisons and      50036 similarities\n",
      "15m 48s 965‰ -    664314685 comparisons and      50047 similarities\n",
      "15m 49s 966‰ -    665003094 comparisons and      50048 similarities\n",
      "15m 50s 967‰ -    665691503 comparisons and      50071 similarities\n",
      "15m 51s 968‰ -    666379912 comparisons and      50104 similarities\n",
      "15m 52s 969‰ -    667068321 comparisons and      50112 similarities\n",
      "15m 53s 970‰ -    667756730 comparisons and      50125 similarities\n",
      "15m 55s 971‰ -    668445139 comparisons and      50134 similarities\n",
      "15m 56s 972‰ -    669133548 comparisons and      50149 similarities\n",
      "15m 57s 973‰ -    669821957 comparisons and      50160 similarities\n",
      "15m 58s 974‰ -    670510366 comparisons and      50175 similarities\n",
      "15m 59s 975‰ -    671198775 comparisons and      50178 similarities\n",
      "16m 00s 976‰ -    671887184 comparisons and      50182 similarities\n",
      "16m 01s 977‰ -    672575593 comparisons and      50190 similarities\n",
      "16m 02s 978‰ -    673264002 comparisons and      50194 similarities\n",
      "16m 03s 979‰ -    673952411 comparisons and      50198 similarities\n",
      "16m 04s 980‰ -    674640820 comparisons and      50247 similarities\n",
      "16m 05s 981‰ -    675329229 comparisons and      50285 similarities\n",
      "16m 06s 982‰ -    676017638 comparisons and      50306 similarities\n",
      "16m 07s 983‰ -    676706047 comparisons and      50346 similarities\n",
      "16m 08s 984‰ -    677394456 comparisons and      50430 similarities\n",
      "16m 09s 985‰ -    678082865 comparisons and      50451 similarities\n",
      "16m 10s 986‰ -    678771274 comparisons and      50497 similarities\n",
      "16m 11s 987‰ -    679459683 comparisons and      50538 similarities\n",
      "16m 12s 988‰ -    680148092 comparisons and      50586 similarities\n",
      "16m 13s 989‰ -    680836501 comparisons and      50610 similarities\n",
      "16m 14s 990‰ -    681524910 comparisons and      50619 similarities\n",
      "16m 15s 991‰ -    682213319 comparisons and      50631 similarities\n",
      "16m 16s 992‰ -    682901728 comparisons and      50650 similarities\n",
      "16m 17s 993‰ -    683590137 comparisons and      51144 similarities\n",
      "16m 18s 994‰ -    684278546 comparisons and      51412 similarities\n",
      "16m 19s 995‰ -    684966955 comparisons and      51545 similarities\n",
      "16m 20s 996‰ -    685655364 comparisons and      51671 similarities\n",
      "16m 21s 997‰ -    686343773 comparisons and      51705 similarities\n",
      "16m 22s 998‰ -    687032182 comparisons and      51766 similarities\n",
      "16m 23s 999‰ -    687720591 comparisons and      51829 similarities\n",
      "16m 24s 1000‰ -    688409000 comparisons and      51860 similarities\n",
      "16m 24s 1000% -    688409065 comparisons and      51860 similarities\n",
      "Data written to /Users/dirk/github/etcbc/dss/_temp/parallels/sim-0.4.zip\n"
     ]
    }
   ],
   "source": [
    "similarity = readResults(PARA_DIR, f'sim-{A.version}.zip')\n",
    "if not similarity:\n",
    "  similarity = computeSim()\n",
    "  writeResults(similarity, PARA_DIR, f'sim-{A.version}.zip')"
   ]
  },
  {
   "cell_type": "code",
   "execution_count": 20,
   "metadata": {},
   "outputs": [
    {
     "data": {
      "text/plain": [
       "51860"
      ]
     },
     "execution_count": 20,
     "metadata": {},
     "output_type": "execute_result"
    }
   ],
   "source": [
    "len(similarity)"
   ]
  },
  {
   "cell_type": "markdown",
   "metadata": {},
   "source": [
    "So, just over 50,000 pairs of similar lines.\n",
    "\n",
    "Let's find out which lines have the most correspondences."
   ]
  },
  {
   "cell_type": "code",
   "execution_count": 21,
   "metadata": {},
   "outputs": [
    {
     "name": "stdout",
     "output_type": "stream",
     "text": [
      "16112 out of 37106 lines have at least one similar line\n"
     ]
    }
   ],
   "source": [
    "parallels = {}\n",
    "\n",
    "for (l, m) in similarity:\n",
    "  parallels.setdefault(l, set()).add(m)\n",
    "  parallels.setdefault(m, set()).add(l)\n",
    "  \n",
    "print(f'{len(parallels)} out of {nLines} lines have at least one similar line')"
   ]
  },
  {
   "cell_type": "code",
   "execution_count": 22,
   "metadata": {},
   "outputs": [],
   "source": [
    "rankedParallels = sorted(\n",
    "  parallels.items(),\n",
    "  key=lambda x: (-len(x[1]), x[0]),\n",
    ")"
   ]
  },
  {
   "cell_type": "code",
   "execution_count": 23,
   "metadata": {},
   "outputs": [
    {
     "name": "stdout",
     "output_type": "stream",
     "text": [
      " 317 siblings of 1554663 = ε  # ם והב #  # ל #  #  #   #  #  #  #  #  #  ε  = -- \\M whb\\\\l\\\\\\ \\\\\\\\\\\\ -- \n",
      " 291 siblings of 1565606 = ε ותי׳כם ε  = -- wty/kM -- \n",
      " 291 siblings of 1569615 = ε  # ותי׳הם  #  ε ׃  = -- \\wty/hM \\ -- . \n",
      " 291 siblings of 1578905 = ε  #   #   # ותי׳כה ε ׃  = -- \\ \\ \\wty/kh -- . \n",
      " 291 siblings of 1579077 = ε  # ותי׳נו ε  = -- \\wty/nw -- \n",
      " 190 siblings of 1555317 = ε ירים למ #  ε  = -- yryM lm\\ -- \n",
      " 190 siblings of 1577058 = ε ות׳ם לה #  ε  = -- wt/M lh\\ -- \n",
      " 190 siblings of 1582367 = ε  # ין ל׳הון ε  = -- \\yN l/hwN -- \n",
      " 181 siblings of 1554552 = ε  #  #  #  # ם וכול  #  #    #  #   = -- \\\\\\\\M wkwl \\\\ □\\\\ \n",
      " 181 siblings of 1559971 = ε ין וכל ε  = -- yN wkl -- \n"
     ]
    }
   ],
   "source": [
    "for (l, paras) in rankedParallels[0:10]:\n",
    "  print(f'{len(paras):>4} siblings of {l} = {T.text(l)} = {T.text(l, fmt=\"text-source-full\", descend=True)}')"
   ]
  },
  {
   "cell_type": "code",
   "execution_count": 24,
   "metadata": {},
   "outputs": [
    {
     "name": "stdout",
     "output_type": "stream",
     "text": [
      " 102 siblings of ε ם והפריח ε  = -- M whpryj -- \n",
      " 102 siblings of וצואהוא  #  ε  = wxwahwa \\ -- \n",
      " 102 siblings of ε  #  כרם וה   ׃  = -- \\ krM wh □ . \n",
      " 102 siblings of יחדו וית #  ε  = yjdw wyt\\ -- \n",
      " 102 siblings of וכ # ל ε ׳כה  = wk\\l -- /kh \n",
      " 102 siblings of ε ים ואיכה  = -- yM waykh \n",
      " 102 siblings of ε  #  ותוצאת ε  = -- \\ wtwxat -- \n",
      " 102 siblings of וי #   # חוץ ו #  ε  = wy\\ \\jwX w\\ -- \n",
      " 102 siblings of ε י׳הם ודב ε  = -- y/hM wdb -- \n",
      " 102 siblings of ε ת ומנינ #  ε ׃  = -- t wmnyn\\ -- . \n"
     ]
    }
   ],
   "source": [
    "for (l, paras) in rankedParallels[100:110]:\n",
    "  print(f'{len(paras):>4} siblings of {T.text(l)} = {T.text(l, fmt=\"text-source-full\", descend=True)}')"
   ]
  },
  {
   "cell_type": "code",
   "execution_count": 25,
   "metadata": {},
   "outputs": [
    {
     "name": "stdout",
     "output_type": "stream",
     "text": [
      "  45 siblings of ε ב׳כה ובתורה ε  = -- b/kh wbtwrh -- \n",
      "  45 siblings of ε ים אשׁר ε  = -- yM aCr -- \n",
      "  45 siblings of אלוהים לכול ε  = alwhyM lkwl -- \n",
      "  45 siblings of ובבינת ε  = wbbynt -- \n",
      "  45 siblings of ε ית׳כה אשׁר ε  = -- yt/kh aCr -- \n",
      "  45 siblings of ε  # י׳כה אשׁר ε  = -- \\y/kh aCr -- \n",
      "  45 siblings of ובעשׁרין ε  = wboCryN -- \n",
      "  45 siblings of ε ים אשׁר ε ׃ ╱  = -- yM aCr -- . ╱ \n",
      "  44 siblings of ε ובעדת׳נו   ε ׃  = -- wbodt/nw □ -- . \n",
      "  44 siblings of ε לכול עולמים ε ׃  = -- lkwl owlmyM -- . \n"
     ]
    }
   ],
   "source": [
    "for (l, paras) in rankedParallels[500:510]:\n",
    "  print(f'{len(paras):>4} siblings of {T.text(l)} = {T.text(l, fmt=\"text-source-full\", descend=True)}')"
   ]
  },
  {
   "cell_type": "markdown",
   "metadata": {},
   "source": [
    "And how many lines have just one correspondence?\n",
    "\n",
    "We look at the tail of rankedParallels."
   ]
  },
  {
   "cell_type": "code",
   "execution_count": 26,
   "metadata": {},
   "outputs": [
    {
     "name": "stdout",
     "output_type": "stream",
     "text": [
      "There are 7424 exclusively parallel pairs of lines\n"
     ]
    }
   ],
   "source": [
    "pairs = [(x, list(paras)[0]) for (x, paras) in rankedParallels if len(paras) == 1]\n",
    "print(f'There are {len(pairs)} exclusively parallel pairs of lines')"
   ]
  },
  {
   "cell_type": "code",
   "execution_count": 27,
   "metadata": {},
   "outputs": [],
   "source": [
    "from tf.applib.helpers import dm"
   ]
  },
  {
   "cell_type": "code",
   "execution_count": 28,
   "metadata": {},
   "outputs": [
    {
     "data": {
      "text/markdown": [
       "---\n"
      ],
      "text/plain": [
       "<IPython.core.display.Markdown object>"
      ]
     },
     "metadata": {},
     "output_type": "display_data"
    },
    {
     "name": "stdout",
     "output_type": "stream",
     "text": [
      "similarity 69\n"
     ]
    },
    {
     "data": {
      "text/html": [
       "<a href=\"https://www.deadseascrolls.org.il/explore-the-archive/search#q='CD'\" title=\"CD 1:1\" sec=\"CD 1:1\">CD 1:1&nbsp;</a><span class=\"txtu\"><span class=\"vac1\"> </span> ועתה שׁמעו כל יודעי צדק ובינו במעשׁי </span>"
      ],
      "text/plain": [
       "<IPython.core.display.HTML object>"
      ]
     },
     "metadata": {},
     "output_type": "display_data"
    },
    {
     "data": {
      "text/html": [
       "<a href=\"https://www.deadseascrolls.org.il/explore-the-archive/search#q='4Q268'\" title=\"4Q268 f1:9\" sec=\"4Q268 f1:9\">4Q268 f1:9&nbsp;</a><span class=\"txtu\"><span class=\"unc3\">ו</span><span class=\"unc4\">ע</span><span class=\"unc4\">ת</span><span class=\"unc2\">ה</span> שׁמעו ל׳י כול יודעי צדק ובינו במע<span class=\"unc2\">שׁ</span><span class=\"rec1\">י</span> <span class=\"scriptpaleohebrew\">א</span><span class=\"scriptpaleohebrew\">ל</span> ׃ <span class=\"rec1\">כ</span><span class=\"rec1\">י</span> <span class=\"rec1\">ר</span><span class=\"rec1\">י</span><span class=\"rec1\">ב</span> </span>"
      ],
      "text/plain": [
       "<IPython.core.display.HTML object>"
      ]
     },
     "metadata": {},
     "output_type": "display_data"
    },
    {
     "data": {
      "text/markdown": [
       "---\n"
      ],
      "text/plain": [
       "<IPython.core.display.Markdown object>"
      ]
     },
     "metadata": {},
     "output_type": "display_data"
    },
    {
     "name": "stdout",
     "output_type": "stream",
     "text": [
      "similarity 85\n"
     ]
    },
    {
     "data": {
      "text/html": [
       "<a href=\"https://www.deadseascrolls.org.il/explore-the-archive/search#q='CD'\" title=\"CD 1:3\" sec=\"CD 1:3\">CD 1:3&nbsp;</a><span class=\"txtu\">כי במועל׳ם אשׁר עזבו׳הו הסתיר פני׳ו מישׁראל וממקדשׁ׳ו </span>"
      ],
      "text/plain": [
       "<IPython.core.display.HTML object>"
      ]
     },
     "metadata": {},
     "output_type": "display_data"
    },
    {
     "data": {
      "text/html": [
       "<a href=\"https://www.deadseascrolls.org.il/explore-the-archive/search#q='4Q266'\" title=\"4Q266 f2i:8\" sec=\"4Q266 f2i:8\">4Q266 f2i:8&nbsp;</a><span class=\"txtu\">בכול <span class=\"unc2\">מ</span><span class=\"unc1\">נ</span>א<span class=\"rec1\">צ</span><span class=\"rec1\">׳</span><span class=\"rec1\">ו</span> <span class=\"rec1\"></span><span class=\"rec1\">׃</span> <span class=\"rec1\">כ</span><span class=\"rec1\">י</span> <span class=\"rec1\">ב</span><span class=\"rec1\">מ</span><span class=\"rec1\">ע</span><span class=\"rec1\">ל</span><span class=\"rec1\">׳</span><span class=\"rec1\">ם</span> <span class=\"rec1\">א</span><span class=\"rec1\">שׁ</span><span class=\"rec1\">ר</span> <span class=\"rec1\">ע</span><span class=\"rec1\">ז</span><span class=\"rec1\">ב</span><span class=\"rec1\">ו</span><span class=\"rec1\">׳</span><span class=\"rec1\">ה</span><span class=\"rec1\">ו</span> <span class=\"unc2\">ה</span>סתיר <span class=\"unc4\">פ</span><span class=\"rec1\">נ</span><span class=\"rec1\">י</span><span class=\"rec1\">׳</span><span class=\"rec1\">ו</span> <span class=\"rec1\">מ</span><span class=\"rec1\">י</span><span class=\"unc4\">שׁ</span>ראל וממקדשׁ׳ו </span>"
      ],
      "text/plain": [
       "<IPython.core.display.HTML object>"
      ]
     },
     "metadata": {},
     "output_type": "display_data"
    },
    {
     "data": {
      "text/markdown": [
       "---\n"
      ],
      "text/plain": [
       "<IPython.core.display.Markdown object>"
      ]
     },
     "metadata": {},
     "output_type": "display_data"
    },
    {
     "name": "stdout",
     "output_type": "stream",
     "text": [
      "similarity 83\n"
     ]
    },
    {
     "data": {
      "text/html": [
       "<a href=\"https://www.deadseascrolls.org.il/explore-the-archive/search#q='CD'\" title=\"CD 1:4\" sec=\"CD 1:4\">CD 1:4&nbsp;</a><span class=\"txtu\"><span class=\"unc1\">ו</span>יתנ׳ם לחרב ׃ ובזכר׳ו ברית ראשׁנים השׁאיר שׁאירית </span>"
      ],
      "text/plain": [
       "<IPython.core.display.HTML object>"
      ]
     },
     "metadata": {},
     "output_type": "display_data"
    },
    {
     "data": {
      "text/html": [
       "<a href=\"https://www.deadseascrolls.org.il/explore-the-archive/search#q='4Q266'\" title=\"4Q266 f2i:9\" sec=\"4Q266 f2i:9\">4Q266 f2i:9&nbsp;</a><span class=\"txtu\">ויתנ׳ם <span class=\"rec1\">ל</span><span class=\"rec1\">ח</span><span class=\"rec1\">ר</span><span class=\"rec1\">ב</span> <span class=\"rec1\"></span><span class=\"rec1\">׃</span> <span class=\"rec1\">ו</span><span class=\"rec1\">ב</span><span class=\"rec1\">ז</span><span class=\"rec1\">כ</span><span class=\"rec1\">ר</span><span class=\"rec1\">׳</span><span class=\"rec1\">ו</span> <span class=\"rec1\">ב</span><span class=\"rec1\">ר</span><span class=\"rec1\">י</span><span class=\"rec1\">ת</span> <span class=\"rec1\">ר</span><span class=\"rec1\">י</span><span class=\"rec1\">שׁ</span><span class=\"rec1\">ו</span><span class=\"rec1\">נ</span><span class=\"rec1\">י</span><span class=\"rec1\">ם</span> <span class=\"rec1\">ה</span><span class=\"rec1\">שׁ</span><span class=\"rec1\">א</span><span class=\"rec1\">י</span><span class=\"rec1\">ר</span> <span class=\"rec1\">שׁ</span><span class=\"rec1\">א</span><span class=\"rec1\">ר</span><span class=\"rec1\">י</span><span class=\"rec1\">ת</span> <span class=\"unc4\">ל</span>ישׁראל ולא </span>"
      ],
      "text/plain": [
       "<IPython.core.display.HTML object>"
      ]
     },
     "metadata": {},
     "output_type": "display_data"
    },
    {
     "data": {
      "text/markdown": [
       "---\n"
      ],
      "text/plain": [
       "<IPython.core.display.Markdown object>"
      ]
     },
     "metadata": {},
     "output_type": "display_data"
    },
    {
     "name": "stdout",
     "output_type": "stream",
     "text": [
      "similarity 67\n"
     ]
    },
    {
     "data": {
      "text/html": [
       "<a href=\"https://www.deadseascrolls.org.il/explore-the-archive/search#q='CD'\" title=\"CD 1:5\" sec=\"CD 1:5\">CD 1:5&nbsp;</a><span class=\"txtu\">לישׁראל ולא נתנ׳ם לכלה ׃ ובקץ חרון שׁנים שׁלושׁ מאות </span>"
      ],
      "text/plain": [
       "<IPython.core.display.HTML object>"
      ]
     },
     "metadata": {},
     "output_type": "display_data"
    },
    {
     "data": {
      "text/html": [
       "<a href=\"https://www.deadseascrolls.org.il/explore-the-archive/search#q='4Q266'\" title=\"4Q266 f2i:10\" sec=\"4Q266 f2i:10\">4Q266 f2i:10&nbsp;</a><span class=\"txtu\">נתנ׳ם <span class=\"unc4\">ל</span><span class=\"rec1\">כ</span><span class=\"rec1\">ל</span><span class=\"rec1\">ה</span> <span class=\"rec1\"></span><span class=\"rec1\">׃</span> <span class=\"rec1\">ו</span><span class=\"rec1\">ב</span><span class=\"rec1\">ק</span><span class=\"rec1\">ץ</span> <span class=\"rec1\">ח</span><span class=\"rec1\">ר</span><span class=\"rec1\">ו</span><span class=\"unc3\">ן</span> שׁנים שׁל<span class=\"unc3\">ו</span><span class=\"rec1\">שׁ</span> <span class=\"rec1\">מ</span><span class=\"rec1\">א</span><span class=\"rec1\">ו</span><span class=\"rec1\">ת</span> <span class=\"rec1\">ו</span><span class=\"rec1\">ת</span><span class=\"rec1\">שׁ</span><span class=\"rec1\">ע</span><span class=\"rec1\">י</span><span class=\"rec1\">ם</span> לתת׳ו אות׳ם ביד </span>"
      ],
      "text/plain": [
       "<IPython.core.display.HTML object>"
      ]
     },
     "metadata": {},
     "output_type": "display_data"
    },
    {
     "data": {
      "text/markdown": [
       "---\n"
      ],
      "text/plain": [
       "<IPython.core.display.Markdown object>"
      ]
     },
     "metadata": {},
     "output_type": "display_data"
    },
    {
     "name": "stdout",
     "output_type": "stream",
     "text": [
      "similarity 83\n"
     ]
    },
    {
     "data": {
      "text/html": [
       "<a href=\"https://www.deadseascrolls.org.il/explore-the-archive/search#q='CD'\" title=\"CD 1:7\" sec=\"CD 1:7\">CD 1:7&nbsp;</a><span class=\"txtu\">פקד׳ם ׃ ויצמח מישׁראל ומאהרן שׁורשׁ מטעת לירושׁ </span>"
      ],
      "text/plain": [
       "<IPython.core.display.HTML object>"
      ]
     },
     "metadata": {},
     "output_type": "display_data"
    },
    {
     "data": {
      "text/html": [
       "<a href=\"https://www.deadseascrolls.org.il/explore-the-archive/search#q='4Q268'\" title=\"4Q268 f1:14\" sec=\"4Q268 f1:14\">4Q268 f1:14&nbsp;</a><span class=\"txtu\"><span class=\"rec1\">מ</span><span class=\"rec1\">ל</span><span class=\"rec1\">ך</span> <span class=\"rec1\">ב</span><span class=\"rec1\">ב</span><span class=\"rec1\">ל</span> <span class=\"unc4\">פ</span><span class=\"unc2\">ק</span>ד׳ם ׃ <span class=\"unc1\">ו</span><span class=\"unc3\">י</span><span class=\"rec1\">צ</span><span class=\"rec1\">מ</span><span class=\"rec1\">ח</span> <span class=\"rec1\">מ</span><span class=\"rec1\">י</span><span class=\"rec1\">שׁ</span><span class=\"rec1\">ר</span><span class=\"rec1\">א</span><span class=\"unc4\">ל</span> ומא<span class=\"rec1\">ה</span><span class=\"rec1\">ר</span><span class=\"rec1\">ו</span><span class=\"unc1\">ן</span> <span class=\"unc2\">שׁ</span><span class=\"unc3\">ו</span><span class=\"unc4\">ר</span><span class=\"rec1\">שׁ</span> <span class=\"rec1\">מ</span><span class=\"rec1\">ט</span><span class=\"rec1\">ע</span><span class=\"rec1\">ת</span> <span class=\"rec1\">ל</span><span class=\"rec1\">י</span><span class=\"rec1\">ר</span><span class=\"rec1\">ו</span><span class=\"rec1\">שׁ</span> </span>"
      ],
      "text/plain": [
       "<IPython.core.display.HTML object>"
      ]
     },
     "metadata": {},
     "output_type": "display_data"
    },
    {
     "data": {
      "text/markdown": [
       "---\n"
      ],
      "text/plain": [
       "<IPython.core.display.Markdown object>"
      ]
     },
     "metadata": {},
     "output_type": "display_data"
    },
    {
     "name": "stdout",
     "output_type": "stream",
     "text": [
      "similarity 73\n"
     ]
    },
    {
     "data": {
      "text/html": [
       "<a href=\"https://www.deadseascrolls.org.il/explore-the-archive/search#q='CD'\" title=\"CD 1:9\" sec=\"CD 1:9\">CD 1:9&nbsp;</a><span class=\"txtu\">אנשׁים אשׁימים הם ׃ ויהיו כעורים וכימגשׁשׁים דרך </span>"
      ],
      "text/plain": [
       "<IPython.core.display.HTML object>"
      ]
     },
     "metadata": {},
     "output_type": "display_data"
    },
    {
     "data": {
      "text/html": [
       "<a href=\"https://www.deadseascrolls.org.il/explore-the-archive/search#q='4Q268'\" title=\"4Q268 f1:16\" sec=\"4Q268 f1:16\">4Q268 f1:16&nbsp;</a><span class=\"txtu\"><span class=\"rec1\">א</span><span class=\"rec1\">שׁ</span><span class=\"rec1\">מ</span><span class=\"rec1\">י</span><span class=\"rec1\">ם</span> <span class=\"rec1\">ה</span><span class=\"rec1\">מ</span><span class=\"rec1\">ה</span> <span class=\"rec1\"></span><span class=\"rec1\">׃</span> <span class=\"rec1\">ו</span><span class=\"rec1\">י</span><span class=\"rec1\">ה</span><span class=\"rec1\">י</span><span class=\"rec1\">ו</span> <span class=\"rec1\">כ</span><span class=\"rec1\">ע</span><span class=\"rec1\">ו</span><span class=\"rec1\">ו</span><span class=\"rec1\">ר</span><span class=\"rec1\">י</span><span class=\"rec1\">ם</span> <span class=\"rec1\">ו</span><span class=\"rec1\">כ</span><span class=\"rec1\">מ</span><span class=\"rec1\">ג</span><span class=\"rec1\">שׁ</span>שׁים ד<span class=\"rec1\">ר</span><span class=\"rec1\">ך</span> <span class=\"rec1\">שׁ</span><span class=\"rec1\">נ</span><span class=\"rec1\">י</span><span class=\"rec1\">ם</span> <span class=\"rec1\">ע</span><span class=\"rec1\">שׁ</span><span class=\"rec1\">ר</span><span class=\"rec1\">י</span><span class=\"rec1\">ם</span> ׃ </span>"
      ],
      "text/plain": [
       "<IPython.core.display.HTML object>"
      ]
     },
     "metadata": {},
     "output_type": "display_data"
    },
    {
     "data": {
      "text/markdown": [
       "---\n"
      ],
      "text/plain": [
       "<IPython.core.display.Markdown object>"
      ]
     },
     "metadata": {},
     "output_type": "display_data"
    },
    {
     "name": "stdout",
     "output_type": "stream",
     "text": [
      "similarity 62\n"
     ]
    },
    {
     "data": {
      "text/html": [
       "<a href=\"https://www.deadseascrolls.org.il/explore-the-archive/search#q='CD'\" title=\"CD 1:10\" sec=\"CD 1:10\">CD 1:10&nbsp;</a><span class=\"txtu\">שׁנים עשׁרים ׃ ויבן אל אל מעשׁי׳הם כי בלב שׁלם דרשׁו׳הו </span>"
      ],
      "text/plain": [
       "<IPython.core.display.HTML object>"
      ]
     },
     "metadata": {},
     "output_type": "display_data"
    },
    {
     "data": {
      "text/html": [
       "<a href=\"https://www.deadseascrolls.org.il/explore-the-archive/search#q='4Q266'\" title=\"4Q266 f2i:14\" sec=\"4Q266 f2i:14\">4Q266 f2i:14&nbsp;</a><span class=\"txtu\">ויבן אל אל מעשׁ<span class=\"rec1\">י</span><span class=\"rec1\">׳</span><span class=\"rec1\">ה</span><span class=\"rec1\">ם</span> <span class=\"rec1\">כ</span><span class=\"rec1\">י</span> <span class=\"rec1\">ב</span><span class=\"rec1\">ל</span><span class=\"rec1\">ב</span> <span class=\"rec1\">שׁ</span><span class=\"rec1\">ל</span><span class=\"rec1\">ם</span> <span class=\"rec1\">ד</span><span class=\"rec1\">ר</span><span class=\"rec1\">שׁ</span><span class=\"rec1\">ו</span><span class=\"rec1\">׳</span><span class=\"rec1\">ה</span><span class=\"rec1\">ו</span> <span class=\"rec1\">ו</span><span class=\"rec1\">י</span><span class=\"rec1\">ק</span><span class=\"rec1\">ם</span> <span class=\"rec1\">ל</span><span class=\"rec1\">׳</span><span class=\"rec1\">ה</span><span class=\"rec1\">ם</span> <span class=\"rec1\">מ</span><span class=\"rec1\">ו</span><span class=\"rec1\">ר</span><span class=\"rec1\">ה</span> <span class=\"rec1\">צ</span><span class=\"rec1\">ד</span><span class=\"rec1\">ק</span> </span>"
      ],
      "text/plain": [
       "<IPython.core.display.HTML object>"
      ]
     },
     "metadata": {},
     "output_type": "display_data"
    },
    {
     "data": {
      "text/markdown": [
       "---\n"
      ],
      "text/plain": [
       "<IPython.core.display.Markdown object>"
      ]
     },
     "metadata": {},
     "output_type": "display_data"
    },
    {
     "name": "stdout",
     "output_type": "stream",
     "text": [
      "similarity 64\n"
     ]
    },
    {
     "data": {
      "text/html": [
       "<a href=\"https://www.deadseascrolls.org.il/explore-the-archive/search#q='CD'\" title=\"CD 1:19\" sec=\"CD 1:19\">CD 1:19&nbsp;</a><span class=\"txtu\">לפרצות ויבחרו בטוב הצואר ויצדיקו רשׁע וירשׁיעו צדיק ׃ </span>"
      ],
      "text/plain": [
       "<IPython.core.display.HTML object>"
      ]
     },
     "metadata": {},
     "output_type": "display_data"
    },
    {
     "data": {
      "text/html": [
       "<a href=\"https://www.deadseascrolls.org.il/explore-the-archive/search#q='4Q266'\" title=\"4Q266 f2i:22\" sec=\"4Q266 f2i:22\">4Q266 f2i:22&nbsp;</a><span class=\"txtu\"><span class=\"rec1\">ו</span><span class=\"rec1\">י</span>בחרו <span class=\"rec1\">ב</span><span class=\"unc4\">מ</span><span class=\"unc2\">ה</span><span class=\"rec1\">ת</span><span class=\"rec1\">ל</span><span class=\"rec1\">ו</span><span class=\"rec1\">ת</span> <span class=\"rec1\">ו</span><span class=\"rec1\">י</span><span class=\"rec1\">צ</span><span class=\"rec1\">פ</span><span class=\"rec1\">ו</span> <span class=\"rec1\">ל</span><span class=\"rec1\">פ</span><span class=\"rec1\">ר</span><span class=\"rec1\">צ</span><span class=\"rec1\">ו</span><span class=\"rec1\">ת</span> <span class=\"rec1\">ו</span><span class=\"rec1\">י</span><span class=\"rec1\">ב</span><span class=\"rec1\">ח</span><span class=\"rec1\">ר</span><span class=\"rec1\">ו</span> <span class=\"rec1\">ב</span><span class=\"rec1\">ט</span><span class=\"rec1\">ו</span><span class=\"rec1\">ב</span> <span class=\"rec1\">ה</span>צור ויצדיקו </span>"
      ],
      "text/plain": [
       "<IPython.core.display.HTML object>"
      ]
     },
     "metadata": {},
     "output_type": "display_data"
    },
    {
     "data": {
      "text/markdown": [
       "---\n"
      ],
      "text/plain": [
       "<IPython.core.display.Markdown object>"
      ]
     },
     "metadata": {},
     "output_type": "display_data"
    },
    {
     "name": "stdout",
     "output_type": "stream",
     "text": [
      "similarity 79\n"
     ]
    },
    {
     "data": {
      "text/html": [
       "<a href=\"https://www.deadseascrolls.org.il/explore-the-archive/search#q='CD'\" title=\"CD 2:1\" sec=\"CD 2:1\">CD 2:1&nbsp;</a><span class=\"txtu\">אל בעדת׳ם להשׁם את כל המונ׳ם ומעשׁי׳הם לנדה לפני׳ו ׃ </span>"
      ],
      "text/plain": [
       "<IPython.core.display.HTML object>"
      ]
     },
     "metadata": {},
     "output_type": "display_data"
    },
    {
     "data": {
      "text/html": [
       "<a href=\"https://www.deadseascrolls.org.il/explore-the-archive/search#q='4Q266'\" title=\"4Q266 f2ii:1\" sec=\"4Q266 f2ii:1\">4Q266 f2ii:1&nbsp;</a><span class=\"txtu\">ויחר אף אל <span class=\"unc4\">ב</span><span class=\"rec1\">ע</span><span class=\"unc4\">ד</span><span class=\"unc4\">ת</span>׳<span class=\"unc4\">ם</span> <span class=\"rec1\">ל</span><span class=\"rec1\">ה</span><span class=\"rec1\">שׁ</span><span class=\"rec1\">ם</span> <span class=\"rec1\">א</span><span class=\"rec1\">ת</span> <span class=\"rec1\">כ</span><span class=\"rec1\">ו</span><span class=\"rec1\">ל</span> <span class=\"rec1\">ה</span><span class=\"rec1\">מ</span><span class=\"rec1\">ו</span><span class=\"rec1\">נ</span><span class=\"rec1\">׳</span><span class=\"rec1\">ם</span> <span class=\"rec1\">ו</span><span class=\"rec1\">מ</span><span class=\"rec1\">ע</span><span class=\"rec1\">שׁ</span><span class=\"rec1\">י</span><span class=\"rec1\">׳</span><span class=\"rec1\">ה</span><span class=\"rec1\">ם</span> <span class=\"rec1\">ל</span><span class=\"rec1\">נ</span><span class=\"rec1\">ד</span><span class=\"rec1\">ה</span> </span>"
      ],
      "text/plain": [
       "<IPython.core.display.HTML object>"
      ]
     },
     "metadata": {},
     "output_type": "display_data"
    },
    {
     "data": {
      "text/markdown": [
       "---\n"
      ],
      "text/plain": [
       "<IPython.core.display.Markdown object>"
      ]
     },
     "metadata": {},
     "output_type": "display_data"
    },
    {
     "name": "stdout",
     "output_type": "stream",
     "text": [
      "similarity 79\n"
     ]
    },
    {
     "data": {
      "text/html": [
       "<a href=\"https://www.deadseascrolls.org.il/explore-the-archive/search#q='CD'\" title=\"CD 2:2\" sec=\"CD 2:2\">CD 2:2&nbsp;</a><span class=\"txtu\"><span class=\"vac1\"> </span> ועתה שׁמעו אל׳י כל באי ברית ואגלה אזנ׳כם בדרכי </span>"
      ],
      "text/plain": [
       "<IPython.core.display.HTML object>"
      ]
     },
     "metadata": {},
     "output_type": "display_data"
    },
    {
     "data": {
      "text/html": [
       "<a href=\"https://www.deadseascrolls.org.il/explore-the-archive/search#q='4Q266'\" title=\"4Q266 f2ii:2\" sec=\"4Q266 f2ii:2\">4Q266 f2ii:2&nbsp;</a><span class=\"txtu\">לפנ׳ו ׃ <span class=\"vac1\"> </span> ועתה שׁ<span class=\"unc4\">מ</span><span class=\"rec1\">ע</span><span class=\"rec1\">ו</span> <span class=\"rec1\">א</span><span class=\"rec1\">ל</span><span class=\"rec1\">׳</span><span class=\"rec1\">י</span> <span class=\"rec1\">כ</span><span class=\"rec1\">ו</span><span class=\"rec1\">ל</span> <span class=\"rec1\">ב</span><span class=\"rec1\">א</span><span class=\"rec1\">י</span> <span class=\"rec1\">ב</span><span class=\"rec1\">ר</span><span class=\"rec1\">י</span><span class=\"rec1\">ת</span> <span class=\"rec1\">ו</span><span class=\"rec1\">א</span><span class=\"rec1\">ג</span><span class=\"rec1\">ל</span><span class=\"rec1\">ה</span> <span class=\"rec1\">א</span><span class=\"rec1\">ז</span><span class=\"rec1\">נ</span><span class=\"rec1\">׳</span><span class=\"rec1\">כ</span><span class=\"rec1\">ם</span> <span class=\"rec1\">ב</span><span class=\"rec1\">ד</span><span class=\"rec1\">ר</span><span class=\"rec1\">כ</span><span class=\"rec1\">י</span> <span class=\"rec1\">ר</span><span class=\"rec1\">שׁ</span><span class=\"rec1\">ע</span><span class=\"rec1\">י</span><span class=\"rec1\">ם</span> </span>"
      ],
      "text/plain": [
       "<IPython.core.display.HTML object>"
      ]
     },
     "metadata": {},
     "output_type": "display_data"
    }
   ],
   "source": [
    "for (x, y) in pairs[0:10]:\n",
    "  dm('---\\n')\n",
    "  print(f'similarity {similarity[(x,y)]}')\n",
    "  A.plain(x, fmt='layout-orig-full')\n",
    "  A.plain(y, fmt='layout-orig-full')"
   ]
  },
  {
   "cell_type": "markdown",
   "metadata": {},
   "source": [
    "Why not make an overview of exactly how wide-spread parallel lines are?\n",
    "\n",
    "We count how many lines have how many parallels."
   ]
  },
  {
   "cell_type": "code",
   "execution_count": 30,
   "metadata": {},
   "outputs": [
    {
     "name": "stdout",
     "output_type": "stream",
     "text": [
      " 445 lines have        n >  100 sisters\n",
      " 720 lines have  20 <  n <=  50 sisters\n",
      "1047 lines have  10 <  n <=  20 sisters\n",
      "6476 lines have   2 <  n <=  10 sisters\n",
      "7424 lines have        n <=   2 sisters\n"
     ]
    }
   ],
   "source": [
    "parallelCount = collections.Counter()\n",
    "\n",
    "buckets = (2, 10, 20, 50, 100)\n",
    "\n",
    "bucketRep = {}\n",
    "prevBucket = None\n",
    "for bucket in buckets:\n",
    "  if prevBucket is None:\n",
    "    bucketRep[bucket] = f'       n <= {bucket:>3}'\n",
    "  elif bucket == buckets[-1]:\n",
    "    bucketRep[bucket] = f'       n >  {bucket:>3}'\n",
    "  else:\n",
    "    bucketRep[bucket] = f'{prevBucket:>3} <  n <= {bucket:>3}'\n",
    "  prevBucket = bucket\n",
    "\n",
    "for (l, paras) in rankedParallels:\n",
    "  clusterSize = len(paras) + 1\n",
    "  if clusterSize > buckets[-1]:\n",
    "    theBucket = buckets[-1]\n",
    "  else:\n",
    "    for bucket in buckets:\n",
    "      if clusterSize <= bucket:\n",
    "        theBucket = bucket\n",
    "        break\n",
    "  parallelCount[theBucket] += 1\n",
    "  \n",
    "for (bucket, amount) in sorted(\n",
    "  parallelCount.items(),\n",
    "  key=lambda x: (-x[0], x[1]),\n",
    "):\n",
    "  print(f'{amount:>4} lines have {bucketRep[bucket]} sisters')"
   ]
  },
  {
   "cell_type": "markdown",
   "metadata": {},
   "source": [
    "# Add parallels to the TF dataset\n",
    "\n",
    "We can add this information to the DSS dataset as an *edge feature*.\n",
    "\n",
    "An edge feature links two nodes and may annotate that link with a value.\n",
    "\n",
    "For parallels, we link each line to each of its parallel lines and we annotate that link with the similarity between\n",
    "the two lines. The similarity is a percentage, and we round it to integer values.\n",
    "\n",
    "If *n1* is similar to *n2*, then *n2* is similar to *n1*.\n",
    "In order to save space, we only add such links once.\n",
    "\n",
    "We can then use\n",
    "[`E.sim.b(node)`](https://annotation.github.io/text-fabric/Api/Features/#edge-features)\n",
    "to find all nodes that are parallel to node.\n"
   ]
  },
  {
   "cell_type": "code",
   "execution_count": 31,
   "metadata": {},
   "outputs": [],
   "source": [
    "metaData = {\n",
    "  '': {\n",
    "    'acronym': 'dss',\n",
    "    'description': 'parallel lines in the DSS (computed)',\n",
    "    'createdBy': 'Dirk Roorda',\n",
    "    'createdDate': '2019-05-09',\n",
    "    'sourceCreatedDate': '2015',\n",
    "    'sourceCreatedBy': 'Martin G. Abegg, Jr., James E. Bowley, and Edward M. Cook',\n",
    "    'convertedBy': 'Jarod Jacobs, Martijn Naaijer and Dirk Roorda',\n",
    "    'source': \"Martin Abegg's data files, personal communication\",\n",
    "    'license': 'Creative Commons Attribution-NonCommercial 4.0 International License',\n",
    "    'licenseUrl': 'http://creativecommons.org/licenses/by-nc/4.0/',\n",
    "    'sourceDescription': 'Dead Sea Scrolls: biblical and non-biblical scrolls',\n",
    "  },\n",
    "  'sim': {\n",
    "    'valueType': 'int',\n",
    "    'edgeValues': True,\n",
    "    'description': 'similarity between lines, as a percentage of the common material wrt the combined material',\n",
    "  },\n",
    "}"
   ]
  },
  {
   "cell_type": "code",
   "execution_count": 34,
   "metadata": {},
   "outputs": [],
   "source": [
    "simData = {}\n",
    "\n",
    "for ((f, t), d) in similarity.items():\n",
    "  simData.setdefault(f, {})[t] = d"
   ]
  },
  {
   "cell_type": "code",
   "execution_count": 35,
   "metadata": {},
   "outputs": [],
   "source": [
    "ghBase = os.path.expanduser('~/github')\n",
    "subdir = 'parallels'\n",
    "path = f'{A.org}/{A.repo}/{subdir}/tf'\n",
    "location = f'{ghBase}/{path}'\n",
    "module = A.version"
   ]
  },
  {
   "cell_type": "code",
   "execution_count": 36,
   "metadata": {},
   "outputs": [
    {
     "name": "stdout",
     "output_type": "stream",
     "text": [
      "   |     0.11s T sim                  to /Users/dirk/github/etcbc/dss/parallels/tf/0.4\n"
     ]
    },
    {
     "data": {
      "text/plain": [
       "True"
      ]
     },
     "execution_count": 36,
     "metadata": {},
     "output_type": "execute_result"
    }
   ],
   "source": [
    "TF.save(edgeFeatures=dict(sim=simData), metaData=metaData, location=location, module=module)"
   ]
  },
  {
   "cell_type": "markdown",
   "metadata": {},
   "source": [
    "# Turn the parallels feature into a module\n",
    "\n",
    "Here we show how to turn the new feature `sim` into a module, so that users can easily load it in a Jupyter notebook or in the TF browser."
   ]
  },
  {
   "cell_type": "code",
   "execution_count": 37,
   "metadata": {},
   "outputs": [
    {
     "name": "stdout",
     "output_type": "stream",
     "text": [
      "True\n",
      "Create release data for etcbc/dss/parallels/tf\n",
      "Found 1 versions\n",
      "zip files end up in /Users/dirk/Downloads/etcbc-release/dss\n",
      "zipping etcbc/dss                  0.4 with   1 features ==> parallels-tf-0.4.zip\n"
     ]
    }
   ],
   "source": [
    "%%bash\n",
    "text-fabric-zip 'etcbc/dss/parallels/tf'"
   ]
  },
  {
   "cell_type": "markdown",
   "metadata": {},
   "source": [
    "I have added this file to a new release of the DSS Github repo."
   ]
  },
  {
   "cell_type": "markdown",
   "metadata": {},
   "source": [
    "# Use the parallels module\n",
    "\n",
    "We load the DSS corpus again, but now with the parallels module."
   ]
  },
  {
   "cell_type": "code",
   "execution_count": 38,
   "metadata": {},
   "outputs": [
    {
     "name": "stdout",
     "output_type": "stream",
     "text": [
      "Using TF-app in /Users/dirk/github/annotation/app-dss/code:\n",
      "\trepo clone offline under ~/github (local github)\n",
      "Using data in /Users/dirk/github/etcbc/dss/tf/0.4:\n",
      "\trepo clone offline under ~/github (local github)\n",
      "Using data in /Users/dirk/github/etcbc/dss/parallels/tf/0.4:\n",
      "\trepo clone offline under ~/github (local github)\n"
     ]
    },
    {
     "data": {
      "text/html": [
       "<b>Documentation:</b> <a target=\"_blank\" href=\"https://github.com/etcbc/dss/blob/master/docs/\" title=\"provenance of Dead Sea Scrolls\">DSS</a> <a target=\"_blank\" href=\"https://annotation.github.io/text-fabric/Writing/Hebrew.html\" title=\"Hebrew characters and transcriptions\">Character table</a> <a target=\"_blank\" href=\"https://github.com/etcbc/dss/blob/master/docs//transcription.md\" title=\"DSS feature documentation\">Feature docs</a> <a target=\"_blank\" href=\"https://github.com/annotation/app-dss\" title=\"dss API documentation\">dss API</a> <a target=\"_blank\" href=\"https://annotation.github.io/text-fabric/Api/Fabric/\" title=\"text-fabric-api\">Text-Fabric API 7.7.0</a> <a target=\"_blank\" href=\"https://annotation.github.io/text-fabric/Use/Search/\" title=\"Search Templates Introduction and Reference\">Search Reference</a><details open><summary><b>Loaded features</b>:</summary>\n",
       "<p><b>Dead Sea Scrolls</b>: <a target=\"_blank\" href=\"https://github.com/etcbc/dss/blob/master/docs//transcription.md\" title=\"/Users/dirk/github/etcbc/dss/tf/0.4/after.tf\">after</a>  <a target=\"_blank\" href=\"https://github.com/etcbc/dss/blob/master/docs//transcription.md\" title=\"/Users/dirk/github/etcbc/dss/tf/0.4/alt.tf\">alt</a>  <a target=\"_blank\" href=\"https://github.com/etcbc/dss/blob/master/docs//transcription.md\" title=\"/Users/dirk/github/etcbc/dss/tf/0.4/biblical.tf\">biblical</a>  <a target=\"_blank\" href=\"https://github.com/etcbc/dss/blob/master/docs//transcription.md\" title=\"/Users/dirk/github/etcbc/dss/tf/0.4/book.tf\">book</a>  <a target=\"_blank\" href=\"https://github.com/etcbc/dss/blob/master/docs//transcription.md\" title=\"/Users/dirk/github/etcbc/dss/tf/0.4/chapter.tf\">chapter</a>  <a target=\"_blank\" href=\"https://github.com/etcbc/dss/blob/master/docs//transcription.md\" title=\"/Users/dirk/github/etcbc/dss/tf/0.4/cl.tf\">cl</a>  <a target=\"_blank\" href=\"https://github.com/etcbc/dss/blob/master/docs//transcription.md\" title=\"/Users/dirk/github/etcbc/dss/tf/0.4/cl2.tf\">cl2</a>  <a target=\"_blank\" href=\"https://github.com/etcbc/dss/blob/master/docs//transcription.md\" title=\"/Users/dirk/github/etcbc/dss/tf/0.4/cor.tf\">cor</a>  <a target=\"_blank\" href=\"https://github.com/etcbc/dss/blob/master/docs//transcription.md\" title=\"/Users/dirk/github/etcbc/dss/tf/0.4/fragment.tf\">fragment</a>  <a target=\"_blank\" href=\"https://github.com/etcbc/dss/blob/master/docs//transcription.md\" title=\"/Users/dirk/github/etcbc/dss/tf/0.4/full.tf\">full</a>  <a target=\"_blank\" href=\"https://github.com/etcbc/dss/blob/master/docs//transcription.md\" title=\"/Users/dirk/github/etcbc/dss/tf/0.4/fulle.tf\">fulle</a>  <a target=\"_blank\" href=\"https://github.com/etcbc/dss/blob/master/docs//transcription.md\" title=\"/Users/dirk/github/etcbc/dss/tf/0.4/fullo.tf\">fullo</a>  <a target=\"_blank\" href=\"https://github.com/etcbc/dss/blob/master/docs//transcription.md\" title=\"/Users/dirk/github/etcbc/dss/tf/0.4/glex.tf\">glex</a>  <a target=\"_blank\" href=\"https://github.com/etcbc/dss/blob/master/docs//transcription.md\" title=\"/Users/dirk/github/etcbc/dss/tf/0.4/glexe.tf\">glexe</a>  <a target=\"_blank\" href=\"https://github.com/etcbc/dss/blob/master/docs//transcription.md\" title=\"/Users/dirk/github/etcbc/dss/tf/0.4/glexo.tf\">glexo</a>  <a target=\"_blank\" href=\"https://github.com/etcbc/dss/blob/master/docs//transcription.md\" title=\"/Users/dirk/github/etcbc/dss/tf/0.4/glyph.tf\">glyph</a>  <a target=\"_blank\" href=\"https://github.com/etcbc/dss/blob/master/docs//transcription.md\" title=\"/Users/dirk/github/etcbc/dss/tf/0.4/glyphe.tf\">glyphe</a>  <a target=\"_blank\" href=\"https://github.com/etcbc/dss/blob/master/docs//transcription.md\" title=\"/Users/dirk/github/etcbc/dss/tf/0.4/glypho.tf\">glypho</a>  <a target=\"_blank\" href=\"https://github.com/etcbc/dss/blob/master/docs//transcription.md\" title=\"/Users/dirk/github/etcbc/dss/tf/0.4/gn.tf\">gn</a>  <a target=\"_blank\" href=\"https://github.com/etcbc/dss/blob/master/docs//transcription.md\" title=\"/Users/dirk/github/etcbc/dss/tf/0.4/gn2.tf\">gn2</a>  <a target=\"_blank\" href=\"https://github.com/etcbc/dss/blob/master/docs//transcription.md\" title=\"/Users/dirk/github/etcbc/dss/tf/0.4/gn3.tf\">gn3</a>  <a target=\"_blank\" href=\"https://github.com/etcbc/dss/blob/master/docs//transcription.md\" title=\"/Users/dirk/github/etcbc/dss/tf/0.4/halfverse.tf\">halfverse</a>  <a target=\"_blank\" href=\"https://github.com/etcbc/dss/blob/master/docs//transcription.md\" title=\"/Users/dirk/github/etcbc/dss/tf/0.4/intl.tf\">intl</a>  <a target=\"_blank\" href=\"https://github.com/etcbc/dss/blob/master/docs//transcription.md\" title=\"/Users/dirk/github/etcbc/dss/tf/0.4/lang.tf\">lang</a>  <a target=\"_blank\" href=\"https://github.com/etcbc/dss/blob/master/docs//transcription.md\" title=\"/Users/dirk/github/etcbc/dss/tf/0.4/lex.tf\">lex</a>  <a target=\"_blank\" href=\"https://github.com/etcbc/dss/blob/master/docs//transcription.md\" title=\"/Users/dirk/github/etcbc/dss/tf/0.4/lexe.tf\">lexe</a>  <a target=\"_blank\" href=\"https://github.com/etcbc/dss/blob/master/docs//transcription.md\" title=\"/Users/dirk/github/etcbc/dss/tf/0.4/lexo.tf\">lexo</a>  <a target=\"_blank\" href=\"https://github.com/etcbc/dss/blob/master/docs//transcription.md\" title=\"/Users/dirk/github/etcbc/dss/tf/0.4/line.tf\">line</a>  <a target=\"_blank\" href=\"https://github.com/etcbc/dss/blob/master/docs//transcription.md\" title=\"/Users/dirk/github/etcbc/dss/tf/0.4/md.tf\">md</a>  <a target=\"_blank\" href=\"https://github.com/etcbc/dss/blob/master/docs//transcription.md\" title=\"/Users/dirk/github/etcbc/dss/tf/0.4/merr.tf\">merr</a>  <a target=\"_blank\" href=\"https://github.com/etcbc/dss/blob/master/docs//transcription.md\" title=\"/Users/dirk/github/etcbc/dss/tf/0.4/morpho.tf\">morpho</a>  <a target=\"_blank\" href=\"https://github.com/etcbc/dss/blob/master/docs//transcription.md\" title=\"/Users/dirk/github/etcbc/dss/tf/0.4/nu.tf\">nu</a>  <a target=\"_blank\" href=\"https://github.com/etcbc/dss/blob/master/docs//transcription.md\" title=\"/Users/dirk/github/etcbc/dss/tf/0.4/nu2.tf\">nu2</a>  <a target=\"_blank\" href=\"https://github.com/etcbc/dss/blob/master/docs//transcription.md\" title=\"/Users/dirk/github/etcbc/dss/tf/0.4/nu3.tf\">nu3</a>  <a target=\"_blank\" href=\"https://github.com/etcbc/dss/blob/master/docs//transcription.md\" title=\"/Users/dirk/github/etcbc/dss/tf/0.4/otype.tf\">otype</a>  <a target=\"_blank\" href=\"https://github.com/etcbc/dss/blob/master/docs//transcription.md\" title=\"/Users/dirk/github/etcbc/dss/tf/0.4/ps.tf\">ps</a>  <a target=\"_blank\" href=\"https://github.com/etcbc/dss/blob/master/docs//transcription.md\" title=\"/Users/dirk/github/etcbc/dss/tf/0.4/ps2.tf\">ps2</a>  <a target=\"_blank\" href=\"https://github.com/etcbc/dss/blob/master/docs//transcription.md\" title=\"/Users/dirk/github/etcbc/dss/tf/0.4/ps3.tf\">ps3</a>  <a target=\"_blank\" href=\"https://github.com/etcbc/dss/blob/master/docs//transcription.md\" title=\"/Users/dirk/github/etcbc/dss/tf/0.4/punc.tf\">punc</a>  <a target=\"_blank\" href=\"https://github.com/etcbc/dss/blob/master/docs//transcription.md\" title=\"/Users/dirk/github/etcbc/dss/tf/0.4/punce.tf\">punce</a>  <a target=\"_blank\" href=\"https://github.com/etcbc/dss/blob/master/docs//transcription.md\" title=\"/Users/dirk/github/etcbc/dss/tf/0.4/punco.tf\">punco</a>  <a target=\"_blank\" href=\"https://github.com/etcbc/dss/blob/master/docs//transcription.md\" title=\"/Users/dirk/github/etcbc/dss/tf/0.4/rec.tf\">rec</a>  <a target=\"_blank\" href=\"https://github.com/etcbc/dss/blob/master/docs//transcription.md\" title=\"/Users/dirk/github/etcbc/dss/tf/0.4/rem.tf\">rem</a>  <a target=\"_blank\" href=\"https://github.com/etcbc/dss/blob/master/docs//transcription.md\" title=\"/Users/dirk/github/etcbc/dss/tf/0.4/script.tf\">script</a>  <a target=\"_blank\" href=\"https://github.com/etcbc/dss/blob/master/docs//transcription.md\" title=\"/Users/dirk/github/etcbc/dss/tf/0.4/scroll.tf\">scroll</a>  <a target=\"_blank\" href=\"https://github.com/etcbc/dss/blob/master/docs//transcription.md\" title=\"/Users/dirk/github/etcbc/dss/tf/0.4/sp.tf\">sp</a>  <a target=\"_blank\" href=\"https://github.com/etcbc/dss/blob/master/docs//transcription.md\" title=\"/Users/dirk/github/etcbc/dss/tf/0.4/srcLn.tf\">srcLn</a>  <a target=\"_blank\" href=\"https://github.com/etcbc/dss/blob/master/docs//transcription.md\" title=\"/Users/dirk/github/etcbc/dss/tf/0.4/st.tf\">st</a>  <a target=\"_blank\" href=\"https://github.com/etcbc/dss/blob/master/docs//transcription.md\" title=\"/Users/dirk/github/etcbc/dss/tf/0.4/type.tf\">type</a>  <a target=\"_blank\" href=\"https://github.com/etcbc/dss/blob/master/docs//transcription.md\" title=\"/Users/dirk/github/etcbc/dss/tf/0.4/unc.tf\">unc</a>  <a target=\"_blank\" href=\"https://github.com/etcbc/dss/blob/master/docs//transcription.md\" title=\"/Users/dirk/github/etcbc/dss/tf/0.4/vac.tf\">vac</a>  <a target=\"_blank\" href=\"https://github.com/etcbc/dss/blob/master/docs//transcription.md\" title=\"/Users/dirk/github/etcbc/dss/tf/0.4/verse.tf\">verse</a>  <a target=\"_blank\" href=\"https://github.com/etcbc/dss/blob/master/docs//transcription.md\" title=\"/Users/dirk/github/etcbc/dss/tf/0.4/vs.tf\">vs</a>  <a target=\"_blank\" href=\"https://github.com/etcbc/dss/blob/master/docs//transcription.md\" title=\"/Users/dirk/github/etcbc/dss/tf/0.4/vt.tf\">vt</a>  <b><i><a target=\"_blank\" href=\"https://github.com/etcbc/dss/blob/master/docs//transcription.md\" title=\"/Users/dirk/github/etcbc/dss/tf/0.4/occ.tf\">occ</a></i></b>  <b><i><a target=\"_blank\" href=\"https://github.com/etcbc/dss/blob/master/docs//transcription.md\" title=\"/Users/dirk/github/etcbc/dss/tf/0.4/oslots.tf\">oslots</a></i></b> </p><p><b>etcbc/dss/parallels/tf</b>: <b><i><a target=\"_blank\" href=\"https://github.com/etcbc/dss/tree/master/parallels/tf\" title=\"/Users/dirk/github/etcbc/dss/parallels/tf/0.4/sim.tf\">sim</a></i></b> </p></details>"
      ],
      "text/plain": [
       "<IPython.core.display.HTML object>"
      ]
     },
     "metadata": {},
     "output_type": "display_data"
    },
    {
     "data": {
      "text/html": [
       "<style>\n",
       "@font-face {\n",
       "  font-family: \"Ezra SIL\";\n",
       "  src:\n",
       "    local(\"SILEOT.ttf\"),\n",
       "    url(\"https://github.com/annotation/text-fabric/blob/master/tf/server/static/fonts/SILEOT.woff?raw=true\");\n",
       "}\n",
       ".txtn,.txtn a:visited,.txtn a:link {\n",
       "    font-family: sans-serif;\n",
       "    font-size: normal;\n",
       "    text-decoration: none;\n",
       "    direction: ltr;\n",
       "}\n",
       ".txte,.txte a:visited,.txte a:link {\n",
       "    font-family: monospace;\n",
       "    font-size: normal;\n",
       "    text-decoration: none;\n",
       "    direction: ltr;\n",
       "}\n",
       ".txto,.txto a:visited,.txto a:link {\n",
       "    font-family: serif;\n",
       "    font-size: large;\n",
       "    text-decoration: none;\n",
       "    direction: ltr;\n",
       "}\n",
       ".txtu,.txtu a:visited,.txtu a:link {\n",
       "    font-family: \"Ezra SIL\", \"SBL Hebrew\", sans-serif;\n",
       "    font-size: x-large;\n",
       "    text-decoration: none;\n",
       "    direction: rtl;\n",
       "}\n",
       ".features {\n",
       "    font-family: monospace;\n",
       "    font-size: medium;\n",
       "    font-weight: bold;\n",
       "    color: #0a6611;\n",
       "    display: flex;\n",
       "    flex-flow: column nowrap;\n",
       "    padding: 0.1em;\n",
       "    margin: 0.1em;\n",
       "    direction: ltr;\n",
       "}\n",
       ".features div,.features span {\n",
       "    padding: 0;\n",
       "    margin: -0.1rem 0;\n",
       "}\n",
       ".features .f {\n",
       "    font-family: sans-serif;\n",
       "    font-size: x-small;\n",
       "    font-weight: normal;\n",
       "    color: #5555bb;\n",
       "}\n",
       ".features .xft {\n",
       "  color: #000000;\n",
       "  background-color: #eeeeee;\n",
       "  font-size: medium;\n",
       "  margin: 0.1em 0em;\n",
       "}\n",
       ".features .xft .f {\n",
       "  color: #000000;\n",
       "  background-color: #eeeeee;\n",
       "  font-style: italic;\n",
       "  font-size: small;\n",
       "  font-weight: normal;\n",
       "}\n",
       ".ltr {\n",
       "    direction: ltr ! important;\n",
       "}\n",
       ".nd {\n",
       "    font-family: monospace;\n",
       "    font-size: x-small;\n",
       "    color: #999999;\n",
       "}\n",
       ".meta {\n",
       "    display: flex;\n",
       "    justify-content: flex-start;\n",
       "    align-items: flex-start;\n",
       "    align-content: flex-start;\n",
       "    flex-flow: row nowrap;\n",
       "}\n",
       ".features {\n",
       "    display: flex;\n",
       "    justify-content: flex-start;\n",
       "    align-items: flex-start;\n",
       "    align-content: flex-start;\n",
       "    flex-flow: column nowrap;\n",
       "}\n",
       ".children {\n",
       "    display: flex;\n",
       "    justify-content: flex-start;\n",
       "    align-items: flex-start;\n",
       "    align-content: flex-start;\n",
       "    border: 0;\n",
       "    background-color: #ffffff;\n",
       "}\n",
       ".children.scroll {\n",
       "    flex-flow: column nowrap;\n",
       "}\n",
       ".children.fragment {\n",
       "    flex-flow: column nowrap;\n",
       "}\n",
       ".children.line {\n",
       "    align-items: stretch;\n",
       "    flex-flow: row wrap;\n",
       "}\n",
       ".children.cluster {\n",
       "    flex-flow: row wrap;\n",
       "}\n",
       ".children.word {\n",
       "    align-items: stretch;\n",
       "    flex-flow: row nowrap;\n",
       "}\n",
       ".children.sign {\n",
       "    flex-flow: column nowrap;\n",
       "}\n",
       ".contnr {\n",
       "    width: fit-content;\n",
       "    direction: rtl;\n",
       "}\n",
       ".contnr.scroll,.contnr.fragment,\n",
       ".contnr.line,\n",
       ".contnr.cluster,\n",
       ".contnr.word,\n",
       ".contnr.sign {\n",
       "    display: flex;\n",
       "    justify-content: flex-start;\n",
       "    align-items: flex-start;\n",
       "    align-content: flex-start;\n",
       "    flex-flow: column nowrap;\n",
       "    background: #ffffff none repeat scroll 0 0;\n",
       "    padding:  0.5em 0.1em 0.1em 0.1em;\n",
       "    margin: 0.8em 0.1em 0.1em 0.1em;\n",
       "    border-radius: 0.2em;\n",
       "    border-style: solid;\n",
       "    border-width: 0.2em;\n",
       "    font-size: small;\n",
       "}\n",
       ".contnr.scroll,.contnr.fragment {\n",
       "    border-color: #bb8800;\n",
       "}\n",
       ".contnr.line {\n",
       "    border-color: #0088bb;\n",
       "}\n",
       ".contnr.cluster {\n",
       "    flex-flow: row wrap;\n",
       "    border: 0;\n",
       "}\n",
       ".contnr.word {\n",
       "    border-color: #44bbff;\n",
       "}\n",
       ".contnr.sign {\n",
       "    border-color: #bbbbbb;\n",
       "}\n",
       ".contnr.hl {\n",
       "    background-color: #ffee66;\n",
       "}\n",
       ".lbl.scroll,.lbl.fragment,\n",
       ".lbl.line,\n",
       ".lbl.cluster,\n",
       ".lbl.sign,.lbl.word {\n",
       "    margin-top: -1.2em;\n",
       "    margin-left: 1em;\n",
       "    background: #ffffff none repeat scroll 0 0;\n",
       "    padding: 0 0.3em;\n",
       "    border-style: solid;\n",
       "    font-size: small;\n",
       "    display: block;\n",
       "}\n",
       ".lbl.scroll,.lbl.fragment {\n",
       "    border-color: #bb8800;\n",
       "    border-width: 0.3em;\n",
       "    border-radius: 0.3em;\n",
       "    color: #bb8800;\n",
       "}\n",
       ".lbl.line {\n",
       "    border-color: #0088bb;\n",
       "    border-width: 0.3em;\n",
       "    border-radius: 0.3em;\n",
       "    color: #0088bb;\n",
       "}\n",
       ".lbl.cluster {\n",
       "    border-color: #dddddd;\n",
       "    border-width: 0.2em;\n",
       "    border-radius: 0.2em;\n",
       "    color: #0000cc;\n",
       "}\n",
       ".lbl.word {\n",
       "    border-color: #44bbff;\n",
       "    border-width: 0.2em;\n",
       "    border-radius: 0.2em;\n",
       "    font-size: medium;\n",
       "    color: #000000;\n",
       "}\n",
       ".lbl.sign {\n",
       "    border-color: #bbbbbb;\n",
       "    border-width: 0.1em;\n",
       "    border-radius: 0.1em;\n",
       "    font-size: small;\n",
       "    color: #000000;\n",
       "}\n",
       ".name {\n",
       "    font-family: monospace;\n",
       "    font-size: medium;\n",
       "    color: #0000bb;\n",
       "}\n",
       ".text {\n",
       "    font-family: sans-serif;\n",
       "    font-size: x-small;\n",
       "    color: #000000;\n",
       "}\n",
       ".srcln {\n",
       "    font-family: monospace;\n",
       "    font-size: x-small;\n",
       "    color: #0000bb;\n",
       "}\n",
       ".scriptpaleohebrew {\n",
       "    border: 1px dashed navy;\n",
       "}\n",
       ".scriptgreekcapital {\n",
       "    border: 1px dashed brown;\n",
       "}\n",
       ".langa {\n",
       "    text-decoration: underline;\n",
       "}\n",
       ".intl1 {\n",
       "    vertical-align: -0.25em;\n",
       "}\n",
       ".intl2 {\n",
       "    vertical-align: -0.5em;\n",
       "}\n",
       ".langg {\n",
       "    font-family: serif;\n",
       "    text-decoration: underline;\n",
       "}\n",
       ".vac1 {\n",
       "    background-color: #aaaaaa;\n",
       "    border 2pt solid #dd3333;\n",
       "    border-radius: 4pt;\n",
       "}\n",
       ".rem1 {\n",
       "    font-weight: bold;\n",
       "    color: red;\n",
       "    text-decoration: line-through;\n",
       "}\n",
       ".rem2 {\n",
       "    font-weight: bold;\n",
       "    color: maroon;\n",
       "    text-decoration: line-through;\n",
       "}\n",
       ".rec1 {\n",
       "    color: teal;\n",
       "    font-size: 80%;\n",
       "}\n",
       ".cor1 {\n",
       "    font-weight: bold;\n",
       "    color: dodgerblue;\n",
       "    text-decoration: overline;\n",
       "}\n",
       ".cor2 {\n",
       "    font-weight: bold;\n",
       "    color: navy;\n",
       "    text-decoration: overline;\n",
       "}\n",
       ".cor3 {\n",
       "    font-weight: bold;\n",
       "    color: navy;\n",
       "    text-decoration: overline;\n",
       "    vertical-align: super;\n",
       "}\n",
       ".alt1 {\n",
       "    text-decoration: overline;\n",
       "}\n",
       "\n",
       "/* UNSURE: italic*/\n",
       "\n",
       ".unc1 {\n",
       "    font-weight: bold;\n",
       "    color: #888888;\n",
       "}\n",
       ".unc2 {\n",
       "    font-weight: bold;\n",
       "    color: #bbbbbb;\n",
       "}\n",
       ".unc3 {\n",
       "    font-weight: bold;\n",
       "    color: #bbbbbb;\n",
       "    text-shadow: #cccccc 1px 1px;\n",
       "}\n",
       ".unc4 {\n",
       "    font-weight: bold;\n",
       "    color: #dddddd;\n",
       "    text-shadow: #eeeeee 2px 2px;\n",
       "}\n",
       "\n",
       "/* cluster */\n",
       ".empty {\n",
       "  color: #ff0000;\n",
       "}\n",
       "\n",
       "\n",
       "tr.tf, td.tf, th.tf {\n",
       "  text-align: left;\n",
       "}\n",
       "\n",
       "span.hldot {\n",
       "\tbackground-color: var(--hl-strong);\n",
       "\tborder: 0.2rem solid var(--hl-rim);\n",
       "\tborder-radius: 0.4rem;\n",
       "\t/*\n",
       "\tdisplay: inline-block;\n",
       "\twidth: 0.8rem;\n",
       "\theight: 0.8rem;\n",
       "\t*/\n",
       "}\n",
       "span.hl {\n",
       "\tbackground-color: var(--hl-strong);\n",
       "\tborder-width: 0;\n",
       "\tborder-radius: 0.1rem;\n",
       "\tborder-style: solid;\n",
       "}\n",
       "\n",
       "span.hlup {\n",
       "\tborder-color: var(--hl-dark);\n",
       "\tborder-width: 0.1rem;\n",
       "\tborder-style: solid;\n",
       "\tborder-radius: 0.2rem;\n",
       "  padding: 0.2rem;\n",
       "}\n",
       "\n",
       ":root {\n",
       "\t--hl-strong:        hsla( 60, 100%,  70%, 0.9  );\n",
       "\t--hl-rim:           hsla( 55, 100%,  60%, 0.9  );\n",
       "\t--hl-dark:          hsla( 55, 100%,  40%, 0.9  );\n",
       "}\n",
       "</style>"
      ],
      "text/plain": [
       "<IPython.core.display.HTML object>"
      ]
     },
     "metadata": {},
     "output_type": "display_data"
    },
    {
     "data": {
      "text/html": [
       "<details open><summary><b>API members</b>:</summary>\n",
       "<a target=\"_blank\" href=\"https://annotation.github.io/text-fabric/Api/Computed/#computed-data\" title=\"doc\">C Computed</a>, <a target=\"_blank\" href=\"https://annotation.github.io/text-fabric/Api/Computed/#computed-data\" title=\"doc\">Call AllComputeds</a>, <a target=\"_blank\" href=\"https://annotation.github.io/text-fabric/Api/Computed/#computed-data\" title=\"doc\">Cs ComputedString</a><br/>\n",
       "<a target=\"_blank\" href=\"https://annotation.github.io/text-fabric/Api/Features/#edge-features\" title=\"doc\">E Edge</a>, <a target=\"_blank\" href=\"https://annotation.github.io/text-fabric/Api/Features/#edge-features\" title=\"doc\">Eall AllEdges</a>, <a target=\"_blank\" href=\"https://annotation.github.io/text-fabric/Api/Features/#edge-features\" title=\"doc\">Es EdgeString</a><br/>\n",
       "<a target=\"_blank\" href=\"https://annotation.github.io/text-fabric/Api/Fabric/#loading\" title=\"doc\">ensureLoaded</a>, <a target=\"_blank\" href=\"https://annotation.github.io/text-fabric/Api/Fabric/#loading\" title=\"doc\">TF</a>, <a target=\"_blank\" href=\"https://annotation.github.io/text-fabric/Api/Fabric/#loading\" title=\"doc\">ignored</a>, <a target=\"_blank\" href=\"https://annotation.github.io/text-fabric/Api/Fabric/#loading\" title=\"doc\">loadLog</a><br/>\n",
       "<a target=\"_blank\" href=\"https://annotation.github.io/text-fabric/Api/Locality/#locality\" title=\"doc\">L Locality</a><br/>\n",
       "<a target=\"_blank\" href=\"https://annotation.github.io/text-fabric/Api/Misc/#messaging\" title=\"doc\">cache</a>, <a target=\"_blank\" href=\"https://annotation.github.io/text-fabric/Api/Misc/#messaging\" title=\"doc\">error</a>, <a target=\"_blank\" href=\"https://annotation.github.io/text-fabric/Api/Misc/#messaging\" title=\"doc\">indent</a>, <a target=\"_blank\" href=\"https://annotation.github.io/text-fabric/Api/Misc/#messaging\" title=\"doc\">info</a>, <a target=\"_blank\" href=\"https://annotation.github.io/text-fabric/Api/Misc/#messaging\" title=\"doc\">reset</a><br/>\n",
       "<a target=\"_blank\" href=\"https://annotation.github.io/text-fabric/Api/Nodes/#navigating-nodes\" title=\"doc\">N Nodes</a>, <a target=\"_blank\" href=\"https://annotation.github.io/text-fabric/Api/Nodes/#navigating-nodes\" title=\"doc\">sortKey</a>, <a target=\"_blank\" href=\"https://annotation.github.io/text-fabric/Api/Nodes/#navigating-nodes\" title=\"doc\">sortKeyTuple</a>, <a target=\"_blank\" href=\"https://annotation.github.io/text-fabric/Api/Nodes/#navigating-nodes\" title=\"doc\">otypeRank</a>, <a target=\"_blank\" href=\"https://annotation.github.io/text-fabric/Api/Nodes/#navigating-nodes\" title=\"doc\">sortNodes</a><br/>\n",
       "<a target=\"_blank\" href=\"https://annotation.github.io/text-fabric/Api/Features/#node-features\" title=\"doc\">F Feature</a>, <a target=\"_blank\" href=\"https://annotation.github.io/text-fabric/Api/Features/#node-features\" title=\"doc\">Fall AllFeatures</a>, <a target=\"_blank\" href=\"https://annotation.github.io/text-fabric/Api/Features/#node-features\" title=\"doc\">Fs FeatureString</a><br/>\n",
       "<a target=\"_blank\" href=\"https://annotation.github.io/text-fabric/Api/Search/#search\" title=\"doc\">S Search</a><br/>\n",
       "<a target=\"_blank\" href=\"https://annotation.github.io/text-fabric/Api/Text/#text\" title=\"doc\">T Text</a></details>"
      ],
      "text/plain": [
       "<IPython.core.display.HTML object>"
      ]
     },
     "metadata": {},
     "output_type": "display_data"
    }
   ],
   "source": [
    "A = use('dss:clone', checkout='clone', hoist=globals(), mod='etcbc/dss/parallels/tf:clone')"
   ]
  },
  {
   "cell_type": "markdown",
   "metadata": {},
   "source": [
    "Lo and behold: you see the parallels module listed with one feature: `sim`. It is in *italics*, which indicates\n",
    "it is an edge feature.\n",
    "\n",
    "We just do a quick check here and in another notebook we study parallels a bit more, using the feature `sim`.\n",
    "\n",
    "We count how many similar pairs their are, and how many 100% similar pairs there are."
   ]
  },
  {
   "cell_type": "code",
   "execution_count": 39,
   "metadata": {},
   "outputs": [
    {
     "name": "stdout",
     "output_type": "stream",
     "text": [
      "  0.26s 51860 results\n"
     ]
    }
   ],
   "source": [
    "query = '''\n",
    "line\n",
    "-sim> line\n",
    "'''\n",
    "results = A.search(query)"
   ]
  },
  {
   "cell_type": "code",
   "execution_count": 40,
   "metadata": {},
   "outputs": [
    {
     "name": "stdout",
     "output_type": "stream",
     "text": [
      "  0.12s 3647 results\n"
     ]
    }
   ],
   "source": [
    "query = '''\n",
    "line\n",
    "-sim=100> line\n",
    "'''\n",
    "results = A.search(query)"
   ]
  },
  {
   "cell_type": "markdown",
   "metadata": {},
   "source": [
    "Let's show a few of the pairs are 100 percent similar."
   ]
  },
  {
   "cell_type": "code",
   "execution_count": 41,
   "metadata": {},
   "outputs": [
    {
     "data": {
      "text/html": [
       "<table>\n",
       "<tr class=\"tf\">\n",
       "  <th class=\"tf\">n</th><th class=\"tf\">p</th>\n",
       "  <th class=\"tf\">line</th><th>line</th>\n",
       "</tr>\n",
       "\n",
       "<tr class=\"tf\"><td class=\"tf\">1</td><td class=\"tf\"> <a href=\"https://www.deadseascrolls.org.il/explore-the-archive/search#q='4Q268'\" title=\"show this scroll in the Leon Levy library\" sec=\"4Q268 f1:15\">4Q268 f1:15</a></td><td class=\"tf\"><span class=\"txtu\">את ארצ׳ו ולדשׁן בטוב אדמת׳ו ׃ ויבינו בעונ׳ם וידעו כי </span> <i>1552976</i> </td><td class=\"tf\"><span class=\"txtu\">את ארצ׳ו ולדשׁן בטוב אדמת׳ו ׃ ויבינו בעוונ׳מה וידעו כי </span> <i>1563771</i> </td></tr>\n",
       "<tr class=\"tf\"><td class=\"tf\">2</td><td class=\"tf\"> <a href=\"https://www.deadseascrolls.org.il/explore-the-archive/search#q='4Q267'\" title=\"show this scroll in the Leon Levy library\" sec=\"4Q267 f2:4\">4Q267 f2:4</a></td><td class=\"tf\"><span class=\"txtu\">  ובקץ חרבן הארץ עמדו מסיגי הגבול ויתעו את ישׁראל ׃ </span> <i>1553072</i> </td><td class=\"tf\"><span class=\"txtu\">ובקץ חורבן הארץ עמדו מסיגי גבול ויתעו את ישׁראל </span> <i>1563606</i> </td></tr>\n",
       "<tr class=\"tf\"><td class=\"tf\">3</td><td class=\"tf\"> <a href=\"https://www.deadseascrolls.org.il/explore-the-archive/search#q='4Q266'\" title=\"show this scroll in the Leon Levy library\" sec=\"4Q266 f3iii:19\">4Q266 f3iii:19</a></td><td class=\"tf\"><span class=\"txtu\">אשׁר בזה ישׁראל את דברי׳הם ׃   והכוכב הוא דורשׁ התורה </span> <i>1553112</i> </td><td class=\"tf\"><span class=\"txtu\">אשׁר בזה ישׁראל את דברי׳הם ׃ והכוכב הוא דורשׁ התורה </span> <i>1563153</i> </td></tr>\n",
       "<tr class=\"tf\"><td class=\"tf\">4</td><td class=\"tf\"> <a href=\"https://www.deadseascrolls.org.il/explore-the-archive/search#q='4Q266'\" title=\"show this scroll in the Leon Levy library\" sec=\"4Q266 f9i:3\">4Q266 f9i:3</a></td><td class=\"tf\"><span class=\"txtu\">אל יעל׳ה אישׁ בסולם וחבל וכלי ׃   אל יעל אישׁ למזבח בשׁבת </span> <i>1553199</i> </td><td class=\"tf\"><span class=\"txtu\">בסולם וחבל וכלי ׃ אל יעל אישׁ למזבח בשׁבת </span> <i>1563341</i> </td></tr>\n",
       "<tr class=\"tf\"><td class=\"tf\">5</td><td class=\"tf\"> <a href=\"https://www.deadseascrolls.org.il/explore-the-archive/search#q='4Q464b'\" title=\"show this scroll in the Leon Levy library\" sec=\"4Q464b f1:1\">4Q464b f1:1</a></td><td class=\"tf\"><span class=\"txtu\">ε אמר ל׳הם </span> <i>1553292</i> </td><td class=\"tf\"><span class=\"txtu\">ε לאמר ל ε ׃ </span> <i>1575436</i> </td></tr>\n",
       "<tr class=\"tf\"><td class=\"tf\">6</td><td class=\"tf\"> <a href=\"https://www.deadseascrolls.org.il/explore-the-archive/search#q='PAM43663'\" title=\"show this scroll in the Leon Levy library\" sec=\"PAM43663 f43:1\">PAM43663 f43:1</a></td><td class=\"tf\"><span class=\"txtu\">ε אמר ל׳הם </span> <i>1553292</i> </td><td class=\"tf\"><span class=\"txtu\">ε  # אמר ל׳י ε </span> <i>1588429</i> </td></tr>\n",
       "<tr class=\"tf\"><td class=\"tf\">7</td><td class=\"tf\"> <a href=\"https://www.deadseascrolls.org.il/explore-the-archive/search#q='1Q4'\" title=\"show this scroll in the Leon Levy library\" sec=\"1Q4 f18:1\">1Q4 f18:1</a></td><td class=\"tf\"><span class=\"txtu\">ε אמר ל׳הם </span> <i>1553292</i> </td><td class=\"tf\"><span class=\"txtu\">ε לאמור ε ׃ </span> <i>1589779</i> </td></tr>\n",
       "<tr class=\"tf\"><td class=\"tf\">8</td><td class=\"tf\"> <a href=\"https://www.deadseascrolls.org.il/explore-the-archive/search#q='4Q264'\" title=\"show this scroll in the Leon Levy library\" sec=\"4Q264 f1:10\">4Q264 f1:10</a></td><td class=\"tf\"><span class=\"txtu\">חמר קורצ ולעפר תשׁוקת׳ו ׃ מה ישׁיב חמר ויוצר יד ולעצת מה יבין ׃ </span> <i>1553665</i> </td><td class=\"tf\"><span class=\"txtu\">קורץ ולעפר תשׁוקת׳ו ׃ מה ישׁיב חמר ויוצר יד לעצת מה יבין   ׃ </span> <i>1562920</i> </td></tr>\n",
       "<tr class=\"tf\"><td class=\"tf\">9</td><td class=\"tf\"> <a href=\"https://www.deadseascrolls.org.il/explore-the-archive/search#q='4Q286'\" title=\"show this scroll in the Leon Levy library\" sec=\"4Q286 f11:3\">4Q286 f11:3</a></td><td class=\"tf\"><span class=\"txtu\">ε קודשׁ׳ו  #  ε ׃ </span> <i>1553726</i> </td><td class=\"tf\"><span class=\"txtu\">ε ת קודשׁ ε ׃ </span> <i>1564736</i> </td></tr>\n",
       "<tr class=\"tf\"><td class=\"tf\">10</td><td class=\"tf\"> <a href=\"https://www.deadseascrolls.org.il/explore-the-archive/search#q='4Q401'\" title=\"show this scroll in the Leon Levy library\" sec=\"4Q401 f31:3\">4Q401 f31:3</a></td><td class=\"tf\"><span class=\"txtu\">ε קודשׁ׳ו  #  ε ׃ </span> <i>1553726</i> </td><td class=\"tf\"><span class=\"txtu\">ε י קודשׁ ε ׃ </span> <i>1571114</i> </td></tr></table>"
      ],
      "text/plain": [
       "<IPython.core.display.HTML object>"
      ]
     },
     "metadata": {},
     "output_type": "display_data"
    }
   ],
   "source": [
    "A.table(results, start=1, end=10, withNodes=True)"
   ]
  },
  {
   "cell_type": "markdown",
   "metadata": {},
   "source": [
    "There is also a lower level way to work with edge features.\n",
    "\n",
    "We can list all edges going out from a reference node.\n",
    "What we see is tuple of pairs: the target node and the similarity between the reference node and that target node."
   ]
  },
  {
   "cell_type": "code",
   "execution_count": 42,
   "metadata": {},
   "outputs": [
    {
     "data": {
      "text/plain": [
       "((1592677, 67), (1592988, 75))"
      ]
     },
     "execution_count": 42,
     "metadata": {},
     "output_type": "execute_result"
    }
   ],
   "source": [
    "refNode = 1589779\n",
    "\n",
    "E.sim.f(refNode)"
   ]
  },
  {
   "cell_type": "markdown",
   "metadata": {},
   "source": [
    "Likewise, we can observe the nodes that target the reference node:"
   ]
  },
  {
   "cell_type": "code",
   "execution_count": 43,
   "metadata": {},
   "outputs": [
    {
     "data": {
      "text/plain": [
       "((1553292, 100),\n",
       " (1556965, 60),\n",
       " (1557940, 60),\n",
       " (1558853, 67),\n",
       " (1564995, 60),\n",
       " (1567451, 60),\n",
       " (1568541, 75),\n",
       " (1569896, 60),\n",
       " (1569966, 75),\n",
       " (1570382, 75),\n",
       " (1573003, 67),\n",
       " (1575170, 60),\n",
       " (1575178, 75),\n",
       " (1575436, 100),\n",
       " (1577905, 75),\n",
       " (1579952, 75),\n",
       " (1588429, 100),\n",
       " (1588886, 75))"
      ]
     },
     "execution_count": 43,
     "metadata": {},
     "output_type": "execute_result"
    }
   ],
   "source": [
    "E.sim.t(refNode)"
   ]
  },
  {
   "cell_type": "markdown",
   "metadata": {},
   "source": [
    "Both sets of nodes are similar to the reference node and it is inconvenient to use both `.f()` and `.t()` to get the similar lines.\n",
    "\n",
    "But there is another way:"
   ]
  },
  {
   "cell_type": "code",
   "execution_count": 44,
   "metadata": {},
   "outputs": [
    {
     "data": {
      "text/plain": [
       "((1553292, 100),\n",
       " (1556965, 60),\n",
       " (1557940, 60),\n",
       " (1558853, 67),\n",
       " (1564995, 60),\n",
       " (1567451, 60),\n",
       " (1568541, 75),\n",
       " (1569896, 60),\n",
       " (1569966, 75),\n",
       " (1570382, 75),\n",
       " (1573003, 67),\n",
       " (1575170, 60),\n",
       " (1575178, 75),\n",
       " (1575436, 100),\n",
       " (1577905, 75),\n",
       " (1579952, 75),\n",
       " (1588429, 100),\n",
       " (1588886, 75),\n",
       " (1592677, 67),\n",
       " (1592988, 75))"
      ]
     },
     "execution_count": 44,
     "metadata": {},
     "output_type": "execute_result"
    }
   ],
   "source": [
    "E.sim.b(refNode)"
   ]
  },
  {
   "cell_type": "markdown",
   "metadata": {},
   "source": [
    "Let's make sure that `.b()` gives the combination of `.f()` and `.t()`."
   ]
  },
  {
   "cell_type": "code",
   "execution_count": 45,
   "metadata": {},
   "outputs": [
    {
     "name": "stdout",
     "output_type": "stream",
     "text": [
      "the intersection of f and t is set()\n",
      "t | f = b ? True\n"
     ]
    }
   ],
   "source": [
    "f = {x[0] for x in E.sim.f(refNode)}\n",
    "b = {x[0] for x in E.sim.b(refNode)}\n",
    "t = {x[0] for x in E.sim.t(refNode)}\n",
    "\n",
    "# are f and t disjoint ?\n",
    "\n",
    "print(f'the intersection of f and t is {f & t}')\n",
    "\n",
    "# is b the union of f and t ?\n",
    "\n",
    "print(f't | f = b ? {f | t == b}')"
   ]
  }
 ],
 "metadata": {
  "kernelspec": {
   "display_name": "Python 3",
   "language": "python",
   "name": "python3"
  },
  "language_info": {
   "codemirror_mode": {
    "name": "ipython",
    "version": 3
   },
   "file_extension": ".py",
   "mimetype": "text/x-python",
   "name": "python",
   "nbconvert_exporter": "python",
   "pygments_lexer": "ipython3",
   "version": "3.7.2"
  }
 },
 "nbformat": 4,
 "nbformat_minor": 2
}
