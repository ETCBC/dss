{
 "cells": [
  {
   "cell_type": "code",
   "execution_count": 1,
   "metadata": {},
   "outputs": [],
   "source": [
    "%load_ext autoreload\n",
    "%autoreload 2"
   ]
  },
  {
   "cell_type": "code",
   "execution_count": 2,
   "metadata": {
    "lines_to_next_cell": 2
   },
   "outputs": [],
   "source": [
    "import os\n",
    "import pickle\n",
    "import gzip\n",
    "\n",
    "from tf.app import use\n",
    "from tf.fabric import Fabric"
   ]
  },
  {
   "cell_type": "code",
   "execution_count": 3,
   "metadata": {},
   "outputs": [],
   "source": [
    "ghBase = os.path.expanduser(\"~/github\")\n",
    "org = \"etcbc\"\n",
    "repo = \"dss\"\n",
    "subdir = \"parallels\"\n",
    "mainpath = f\"{org}/{repo}/tf\"\n",
    "path = f\"{org}/{repo}/{subdir}/tf\"\n",
    "location = f\"{ghBase}/{path}\"\n",
    "mainlocation = f\"{ghBase}/{mainpath}\"\n",
    "version = \"0.6\"\n",
    "module = version\n",
    "tempdir = f\"{ghBase}/{org}/{repo}/_temp\""
   ]
  },
  {
   "cell_type": "code",
   "execution_count": 7,
   "metadata": {},
   "outputs": [
    {
     "name": "stdout",
     "output_type": "stream",
     "text": [
      "This is Text-Fabric 7.8.2\n",
      "Api reference : https://annotation.github.io/text-fabric/Api/Fabric/\n",
      "\n",
      "57 features found and 0 ignored\n"
     ]
    }
   ],
   "source": [
    "TF = Fabric(locations=mainlocation, modules=module)"
   ]
  },
  {
   "cell_type": "code",
   "execution_count": 8,
   "metadata": {},
   "outputs": [
    {
     "name": "stdout",
     "output_type": "stream",
     "text": [
      "  0.00s loading features ...\n",
      "   |     0.00s No structure info in otext, the structure part of the T-API cannot be used\n",
      "  5.51s All features loaded/computed - for details use loadLog()\n"
     ]
    }
   ],
   "source": [
    "api = TF.load(\"lex type\")\n",
    "docs = api.makeAvailableIn(globals())"
   ]
  },
  {
   "cell_type": "markdown",
   "metadata": {},
   "source": [
    "# Parallels\n",
    "\n",
    "We make edges between similar lines.\n",
    "\n",
    "When are lines similar?\n",
    "\n",
    "If a certain distance metric is above a certain threshold.\n",
    "\n",
    "We choose this metric:\n",
    "\n",
    "* we reduce a line to the set of lexemes in it.\n",
    "* the similarity between two lines is the length of the intersection divided by the length of the union of their sets times 100."
   ]
  },
  {
   "cell_type": "markdown",
   "metadata": {},
   "source": [
    "# Preparation\n",
    "\n",
    "We pre-compute all sets for lines.\n",
    "\n",
    "But because not all lines are filled with definite material, we exclude lines with 5 or less consonants."
   ]
  },
  {
   "cell_type": "code",
   "execution_count": 9,
   "metadata": {},
   "outputs": [
    {
     "name": "stdout",
     "output_type": "stream",
     "text": [
      "  0.82s 37106 contentful lines out of 52895\n"
     ]
    }
   ],
   "source": [
    "CONS = \"cons\"\n",
    "\n",
    "valid = set()\n",
    "\n",
    "allLines = F.otype.s(\"line\")\n",
    "\n",
    "TF.indent(reset=True)\n",
    "for ln in F.otype.s(\"line\"):\n",
    "    if ln in valid:\n",
    "        continue\n",
    "    if sum(1 for s in L.d(ln, otype=\"sign\") if F.type.v(s) == CONS) >= 5:\n",
    "        valid.add(ln)\n",
    "\n",
    "TF.info(f\"{len(valid)} contentful lines out of {len(allLines)}\")"
   ]
  },
  {
   "cell_type": "code",
   "execution_count": 10,
   "metadata": {},
   "outputs": [],
   "source": [
    "def makeSet(ln):\n",
    "    lineSet = set()\n",
    "    for s in L.d(ln, otype=\"word\"):\n",
    "        r = F.lex.v(s)\n",
    "        if r:\n",
    "            lineSet.add(r)\n",
    "    return lineSet"
   ]
  },
  {
   "cell_type": "code",
   "execution_count": 11,
   "metadata": {},
   "outputs": [
    {
     "name": "stdout",
     "output_type": "stream",
     "text": [
      "  0.88s 37106 lines\n"
     ]
    }
   ],
   "source": [
    "lines = {}\n",
    "\n",
    "TF.indent(reset=True)\n",
    "for ln in valid:\n",
    "    lineSet = makeSet(ln)\n",
    "    if lineSet:\n",
    "        lines[ln] = lineSet\n",
    "\n",
    "nLines = len(lines)\n",
    "TF.info(f\"{nLines} lines\")"
   ]
  },
  {
   "cell_type": "markdown",
   "metadata": {
    "lines_to_next_cell": 2
   },
   "source": [
    "# Measure"
   ]
  },
  {
   "cell_type": "code",
   "execution_count": 12,
   "metadata": {},
   "outputs": [],
   "source": [
    "def sim(lSet, mSet):\n",
    "    return int(round(100 * len(lSet & mSet) / len(lSet | mSet)))"
   ]
  },
  {
   "cell_type": "markdown",
   "metadata": {},
   "source": [
    "# Compute all similarities\n",
    "\n",
    "We are going to perform more than half a billion of comparisons, each of which is more than an elemetary operation.\n",
    "\n",
    "Let's measure time."
   ]
  },
  {
   "cell_type": "code",
   "execution_count": 13,
   "metadata": {},
   "outputs": [],
   "source": [
    "THRESHOLD = 60\n",
    "\n",
    "\n",
    "def computeSim(limit=None):\n",
    "    similarity = {}\n",
    "\n",
    "    lineNodes = sorted(lines.keys())\n",
    "    nLines = len(lineNodes)\n",
    "\n",
    "    nComparisons = nLines * (nLines - 1) // 2\n",
    "\n",
    "    print(f\"{nComparisons} comparisons to make\")\n",
    "    chunkSize = nComparisons // 1000\n",
    "\n",
    "    co = 0\n",
    "    b = 0\n",
    "    si = 0\n",
    "    p = 0\n",
    "\n",
    "    TF.indent(reset=True)\n",
    "\n",
    "    stop = False\n",
    "    for i in range(nLines):\n",
    "        nodeI = lineNodes[i]\n",
    "        lineI = lines[nodeI]\n",
    "        for j in range(i + 1, nLines):\n",
    "            nodeJ = lineNodes[j]\n",
    "            lineJ = lines[nodeJ]\n",
    "            s = sim(lineI, lineJ)\n",
    "            co += 1\n",
    "            b += 1\n",
    "            if b == chunkSize:\n",
    "                p += 1\n",
    "                TF.info(f\"{p:>3}‰ - {co:>12} comparisons and {si:>10} similarities\")\n",
    "                b = 0\n",
    "                if limit is not None and p >= limit:\n",
    "                    stop = True\n",
    "                    break\n",
    "\n",
    "            if s < THRESHOLD:\n",
    "                continue\n",
    "            similarity[(nodeI, nodeJ)] = sim(lineI, lineJ)\n",
    "            si += 1\n",
    "        if stop:\n",
    "            break\n",
    "\n",
    "    TF.info(f\"{p:>3}% - {co:>12} comparisons and {si:>10} similarities\")\n",
    "    return similarity"
   ]
  },
  {
   "cell_type": "markdown",
   "metadata": {},
   "source": [
    "We are going to run it to several ‰ first and do some checks then."
   ]
  },
  {
   "cell_type": "code",
   "execution_count": 14,
   "metadata": {},
   "outputs": [
    {
     "name": "stdout",
     "output_type": "stream",
     "text": [
      "688409065 comparisons to make\n",
      "  0.99s   1‰ -       688409 comparisons and         12 similarities\n",
      "  1.98s   2‰ -      1376818 comparisons and         20 similarities\n",
      "  2.96s   3‰ -      2065227 comparisons and         28 similarities\n",
      "  2.96s   3% -      2065227 comparisons and         28 similarities\n"
     ]
    }
   ],
   "source": [
    "similarity = computeSim(limit=3)"
   ]
  },
  {
   "cell_type": "markdown",
   "metadata": {},
   "source": [
    "We check the sanity of the results."
   ]
  },
  {
   "cell_type": "code",
   "execution_count": 15,
   "metadata": {},
   "outputs": [
    {
     "name": "stdout",
     "output_type": "stream",
     "text": [
      "60\n",
      "100\n"
     ]
    }
   ],
   "source": [
    "print(min(similarity.values()))\n",
    "print(max(similarity.values()))"
   ]
  },
  {
   "cell_type": "code",
   "execution_count": 16,
   "metadata": {},
   "outputs": [],
   "source": [
    "eq = [x for x in similarity.items() if x[1] >= 100]\n",
    "neq = [x for x in similarity.items() if x[1] <= 70]"
   ]
  },
  {
   "cell_type": "code",
   "execution_count": 17,
   "metadata": {},
   "outputs": [
    {
     "name": "stdout",
     "output_type": "stream",
     "text": [
      "1\n",
      "9\n"
     ]
    }
   ],
   "source": [
    "print(len(eq))\n",
    "print(len(neq))"
   ]
  },
  {
   "cell_type": "code",
   "execution_count": 18,
   "metadata": {},
   "outputs": [
    {
     "name": "stdout",
     "output_type": "stream",
     "text": [
      "((1552980, 1563775), 100)\n",
      "((1552973, 1563769), 69)\n"
     ]
    }
   ],
   "source": [
    "print(eq[0])\n",
    "print(neq[0])"
   ]
  },
  {
   "cell_type": "code",
   "execution_count": 19,
   "metadata": {},
   "outputs": [
    {
     "name": "stdout",
     "output_type": "stream",
     "text": [
      "את ארצ׳ו ולדשן בטוב אדמת׳ו ׃ ויבינו בעונ׳ם וידעו כי \n",
      "את ארצ׳ו ולדשן בטוב אדמת׳ו ׃ ויבינו בעוונ׳מה וידעו כי \n"
     ]
    }
   ],
   "source": [
    "print(T.text(eq[0][0][0]))\n",
    "print(T.text(eq[0][0][1]))"
   ]
  },
  {
   "cell_type": "markdown",
   "metadata": {},
   "source": [
    "Looks good.\n",
    "\n",
    "Now the whole computation.\n",
    "\n",
    "But if we have done this before, and nothing has changed, we load previous results from disk.\n",
    "\n",
    "If we do not find previous results, we compute them and save the results to disk."
   ]
  },
  {
   "cell_type": "code",
   "execution_count": 20,
   "metadata": {},
   "outputs": [],
   "source": [
    "PARA_DIR = f\"{tempdir}/parallels\"\n",
    "\n",
    "\n",
    "def writeResults(data, location, name):\n",
    "    if not os.path.exists(location):\n",
    "        os.makedirs(location, exist_ok=True)\n",
    "    path = f\"{location}/{name}\"\n",
    "    with gzip.open(path, \"wb\") as f:\n",
    "        pickle.dump(data, f)\n",
    "    TF.info(f\"Data written to {path}\")\n",
    "\n",
    "\n",
    "def readResults(location, name):\n",
    "    TF.indent(reset=True)\n",
    "    path = f\"{location}/{name}\"\n",
    "    if not os.path.exists(path):\n",
    "        print(f\"File not found: {path}\")\n",
    "        return None\n",
    "    with gzip.open(path, \"rb\") as f:\n",
    "        data = pickle.load(f)\n",
    "    TF.info(f\"Data read from {path}\")\n",
    "    return data"
   ]
  },
  {
   "cell_type": "code",
   "execution_count": 22,
   "metadata": {},
   "outputs": [
    {
     "name": "stdout",
     "output_type": "stream",
     "text": [
      "  0.06s Data read from /Users/dirk/github/etcbc/dss/_temp/parallels/sim-0.6.zip\n"
     ]
    }
   ],
   "source": [
    "similarity = readResults(PARA_DIR, f\"sim-{version}.zip\")\n",
    "if not similarity:\n",
    "    similarity = computeSim()\n",
    "    writeResults(similarity, PARA_DIR, f\"sim-{version}.zip\")"
   ]
  },
  {
   "cell_type": "code",
   "execution_count": 23,
   "metadata": {},
   "outputs": [
    {
     "data": {
      "text/plain": [
       "51862"
      ]
     },
     "execution_count": 23,
     "metadata": {},
     "output_type": "execute_result"
    }
   ],
   "source": [
    "len(similarity)"
   ]
  },
  {
   "cell_type": "markdown",
   "metadata": {},
   "source": [
    "So, just over 50,000 pairs of similar lines."
   ]
  },
  {
   "cell_type": "markdown",
   "metadata": {},
   "source": [
    "# Add parallels to the TF dataset\n",
    "\n",
    "We can add this information to the DSS dataset as an *edge feature*.\n",
    "\n",
    "An edge feature links two nodes and may annotate that link with a value.\n",
    "\n",
    "For parallels, we link each line to each of its parallel lines and we annotate that link with the similarity between\n",
    "the two lines. The similarity is a percentage, and we round it to integer values.\n",
    "\n",
    "If *n1* is similar to *n2*, then *n2* is similar to *n1*.\n",
    "In order to save space, we only add such links once.\n",
    "\n",
    "We can then use\n",
    "[`E.sim.b(node)`](https://annotation.github.io/text-fabric/tf/core/edgefeature.html#tf.core.edgefeature)\n",
    "to find all nodes that are parallel to node.\n"
   ]
  },
  {
   "cell_type": "code",
   "execution_count": 24,
   "metadata": {},
   "outputs": [],
   "source": [
    "metaData = {\n",
    "    \"\": {\n",
    "        \"acronym\": \"dss\",\n",
    "        \"description\": \"parallel lines in the DSS (computed)\",\n",
    "        \"createdBy\": \"Dirk Roorda\",\n",
    "        \"createdDate\": \"2019-05-09\",\n",
    "        \"sourceCreatedDate\": \"2015\",\n",
    "        \"sourceCreatedBy\": \"Martin G. Abegg, Jr., James E. Bowley, and Edward M. Cook\",\n",
    "        \"convertedBy\": \"Jarod Jacobs, Martijn Naaijer and Dirk Roorda\",\n",
    "        \"source\": \"Martin Abegg's data files, personal communication\",\n",
    "        \"license\": \"Creative Commons Attribution-NonCommercial 4.0 International License\",\n",
    "        \"licenseUrl\": \"http://creativecommons.org/licenses/by-nc/4.0/\",\n",
    "        \"sourceDescription\": \"Dead Sea Scrolls: biblical and non-biblical scrolls\",\n",
    "    },\n",
    "    \"sim\": {\n",
    "        \"valueType\": \"int\",\n",
    "        \"edgeValues\": True,\n",
    "        \"description\": \"similarity between lines, as a percentage of the common material wrt the combined material\",\n",
    "    },\n",
    "}"
   ]
  },
  {
   "cell_type": "code",
   "execution_count": 25,
   "metadata": {},
   "outputs": [],
   "source": [
    "simData = {}\n",
    "\n",
    "for ((f, t), d) in similarity.items():\n",
    "    simData.setdefault(f, {})[t] = d"
   ]
  },
  {
   "cell_type": "code",
   "execution_count": 26,
   "metadata": {},
   "outputs": [
    {
     "name": "stdout",
     "output_type": "stream",
     "text": [
      "  0.00s Exporting 0 node and 1 edge and 0 config features to /Users/dirk/github/etcbc/dss/parallels/tf/0.6:\n",
      "   |     0.10s T sim                  to /Users/dirk/github/etcbc/dss/parallels/tf/0.6\n",
      "  0.10s Exported 0 node features and 1 edge features and 0 config features to /Users/dirk/github/etcbc/dss/parallels/tf/0.6\n"
     ]
    },
    {
     "data": {
      "text/plain": [
       "True"
      ]
     },
     "execution_count": 26,
     "metadata": {},
     "output_type": "execute_result"
    }
   ],
   "source": [
    "TF.save(\n",
    "    edgeFeatures=dict(sim=simData), metaData=metaData, location=location, module=module\n",
    ")"
   ]
  },
  {
   "cell_type": "markdown",
   "metadata": {},
   "source": [
    "# Turn the parallels feature into a module\n",
    "\n",
    "Here we show how to turn the new feature `sim` into a module, so that users can easily load it in a Jupyter notebook or in the TF browser."
   ]
  },
  {
   "cell_type": "code",
   "execution_count": 27,
   "metadata": {},
   "outputs": [
    {
     "name": "stdout",
     "output_type": "stream",
     "text": [
      "True\n",
      "Create release data for etcbc/dss/parallels/tf\n",
      "Found 4 versions\n",
      "zip files end up in /Users/dirk/Downloads/etcbc-release/dss\n",
      "zipping etcbc/dss                  0.4 with   1 features ==> parallels-tf-0.4.zip\n",
      "zipping etcbc/dss                 0.4.1 with   1 features ==> parallels-tf-0.4.1.zip\n",
      "zipping etcbc/dss                  0.5 with   1 features ==> parallels-tf-0.5.zip\n",
      "zipping etcbc/dss                  0.6 with   1 features ==> parallels-tf-0.6.zip\n"
     ]
    }
   ],
   "source": [
    "%%bash\n",
    "text-fabric-zip 'etcbc/dss/parallels/tf'"
   ]
  },
  {
   "cell_type": "markdown",
   "metadata": {},
   "source": [
    "I have added this file to a new release of the DSS Github repo."
   ]
  },
  {
   "cell_type": "markdown",
   "metadata": {},
   "source": [
    "# Use the parallels module\n",
    "\n",
    "We load the DSS corpus again, but now with the parallels module."
   ]
  },
  {
   "cell_type": "code",
   "execution_count": 30,
   "metadata": {},
   "outputs": [
    {
     "name": "stdout",
     "output_type": "stream",
     "text": [
      "Using TF-app in /Users/dirk/github/annotation/app-dss/code:\n",
      "\trepo clone offline under ~/github (local github)\n",
      "Using data in /Users/dirk/github/etcbc/dss/tf/0.6:\n",
      "\trepo clone offline under ~/github (local github)\n",
      "Using data in /Users/dirk/github/etcbc/dss/parallels/tf/0.6:\n",
      "\trepo clone offline under ~/github (local github)\n",
      "   |     0.00s No structure info in otext, the structure part of the T-API cannot be used\n"
     ]
    },
    {
     "data": {
      "text/html": [
       "<b>Documentation:</b> <a target=\"_blank\" href=\"https://github.com/etcbc/dss/blob/master/docs/\" title=\"provenance of Dead Sea Scrolls\">DSS</a> <a target=\"_blank\" href=\"https://annotation.github.io/text-fabric/writing/hebrew.html\" title=\"Hebrew characters and transcriptions\">Character table</a> <a target=\"_blank\" href=\"https://github.com/etcbc/dss/blob/master/docs//transcription.md\" title=\"DSS feature documentation\">Feature docs</a> <a target=\"_blank\" href=\"https://github.com/annotation/app-dss\" title=\"dss API documentation\">dss API</a> <a target=\"_blank\" href=\"https://annotation.github.io/text-fabric/Api/Fabric/\" title=\"text-fabric-api\">Text-Fabric API 7.8.2</a> <a target=\"_blank\" href=\"https://annotation.github.io/text-fabric/Use/Search/\" title=\"Search Templates Introduction and Reference\">Search Reference</a><details open><summary><b>Loaded features</b>:</summary>\n",
       "<p><b>Dead Sea Scrolls</b>: <a target=\"_blank\" href=\"https://github.com/etcbc/dss/blob/master/docs//transcription.md\" title=\"/Users/dirk/github/etcbc/dss/tf/0.6/after.tf\">after</a>  <a target=\"_blank\" href=\"https://github.com/etcbc/dss/blob/master/docs//transcription.md\" title=\"/Users/dirk/github/etcbc/dss/tf/0.6/alt.tf\">alt</a>  <a target=\"_blank\" href=\"https://github.com/etcbc/dss/blob/master/docs//transcription.md\" title=\"/Users/dirk/github/etcbc/dss/tf/0.6/biblical.tf\">biblical</a>  <a target=\"_blank\" href=\"https://github.com/etcbc/dss/blob/master/docs//transcription.md\" title=\"/Users/dirk/github/etcbc/dss/tf/0.6/book.tf\">book</a>  <a target=\"_blank\" href=\"https://github.com/etcbc/dss/blob/master/docs//transcription.md\" title=\"/Users/dirk/github/etcbc/dss/tf/0.6/chapter.tf\">chapter</a>  <a target=\"_blank\" href=\"https://github.com/etcbc/dss/blob/master/docs//transcription.md\" title=\"/Users/dirk/github/etcbc/dss/tf/0.6/cl.tf\">cl</a>  <a target=\"_blank\" href=\"https://github.com/etcbc/dss/blob/master/docs//transcription.md\" title=\"/Users/dirk/github/etcbc/dss/tf/0.6/cl2.tf\">cl2</a>  <a target=\"_blank\" href=\"https://github.com/etcbc/dss/blob/master/docs//transcription.md\" title=\"/Users/dirk/github/etcbc/dss/tf/0.6/cor.tf\">cor</a>  <a target=\"_blank\" href=\"https://github.com/etcbc/dss/blob/master/docs//transcription.md\" title=\"/Users/dirk/github/etcbc/dss/tf/0.6/fragment.tf\">fragment</a>  <a target=\"_blank\" href=\"https://github.com/etcbc/dss/blob/master/docs//transcription.md\" title=\"/Users/dirk/github/etcbc/dss/tf/0.6/full.tf\">full</a>  <a target=\"_blank\" href=\"https://github.com/etcbc/dss/blob/master/docs//transcription.md\" title=\"/Users/dirk/github/etcbc/dss/tf/0.6/fulle.tf\">fulle</a>  <a target=\"_blank\" href=\"https://github.com/etcbc/dss/blob/master/docs//transcription.md\" title=\"/Users/dirk/github/etcbc/dss/tf/0.6/fullo.tf\">fullo</a>  <a target=\"_blank\" href=\"https://github.com/etcbc/dss/blob/master/docs//transcription.md\" title=\"/Users/dirk/github/etcbc/dss/tf/0.6/glex.tf\">glex</a>  <a target=\"_blank\" href=\"https://github.com/etcbc/dss/blob/master/docs//transcription.md\" title=\"/Users/dirk/github/etcbc/dss/tf/0.6/glexe.tf\">glexe</a>  <a target=\"_blank\" href=\"https://github.com/etcbc/dss/blob/master/docs//transcription.md\" title=\"/Users/dirk/github/etcbc/dss/tf/0.6/glexo.tf\">glexo</a>  <a target=\"_blank\" href=\"https://github.com/etcbc/dss/blob/master/docs//transcription.md\" title=\"/Users/dirk/github/etcbc/dss/tf/0.6/glyph.tf\">glyph</a>  <a target=\"_blank\" href=\"https://github.com/etcbc/dss/blob/master/docs//transcription.md\" title=\"/Users/dirk/github/etcbc/dss/tf/0.6/glyphe.tf\">glyphe</a>  <a target=\"_blank\" href=\"https://github.com/etcbc/dss/blob/master/docs//transcription.md\" title=\"/Users/dirk/github/etcbc/dss/tf/0.6/glypho.tf\">glypho</a>  <a target=\"_blank\" href=\"https://github.com/etcbc/dss/blob/master/docs//transcription.md\" title=\"/Users/dirk/github/etcbc/dss/tf/0.6/gn.tf\">gn</a>  <a target=\"_blank\" href=\"https://github.com/etcbc/dss/blob/master/docs//transcription.md\" title=\"/Users/dirk/github/etcbc/dss/tf/0.6/gn2.tf\">gn2</a>  <a target=\"_blank\" href=\"https://github.com/etcbc/dss/blob/master/docs//transcription.md\" title=\"/Users/dirk/github/etcbc/dss/tf/0.6/gn3.tf\">gn3</a>  <a target=\"_blank\" href=\"https://github.com/etcbc/dss/blob/master/docs//transcription.md\" title=\"/Users/dirk/github/etcbc/dss/tf/0.6/halfverse.tf\">halfverse</a>  <a target=\"_blank\" href=\"https://github.com/etcbc/dss/blob/master/docs//transcription.md\" title=\"/Users/dirk/github/etcbc/dss/tf/0.6/intl.tf\">intl</a>  <a target=\"_blank\" href=\"https://github.com/etcbc/dss/blob/master/docs//transcription.md\" title=\"/Users/dirk/github/etcbc/dss/tf/0.6/lang.tf\">lang</a>  <a target=\"_blank\" href=\"https://github.com/etcbc/dss/blob/master/docs//transcription.md\" title=\"/Users/dirk/github/etcbc/dss/tf/0.6/lex.tf\">lex</a>  <a target=\"_blank\" href=\"https://github.com/etcbc/dss/blob/master/docs//transcription.md\" title=\"/Users/dirk/github/etcbc/dss/tf/0.6/lexe.tf\">lexe</a>  <a target=\"_blank\" href=\"https://github.com/etcbc/dss/blob/master/docs//transcription.md\" title=\"/Users/dirk/github/etcbc/dss/tf/0.6/lexo.tf\">lexo</a>  <a target=\"_blank\" href=\"https://github.com/etcbc/dss/blob/master/docs//transcription.md\" title=\"/Users/dirk/github/etcbc/dss/tf/0.6/line.tf\">line</a>  <a target=\"_blank\" href=\"https://github.com/etcbc/dss/blob/master/docs//transcription.md\" title=\"/Users/dirk/github/etcbc/dss/tf/0.6/md.tf\">md</a>  <a target=\"_blank\" href=\"https://github.com/etcbc/dss/blob/master/docs//transcription.md\" title=\"/Users/dirk/github/etcbc/dss/tf/0.6/merr.tf\">merr</a>  <a target=\"_blank\" href=\"https://github.com/etcbc/dss/blob/master/docs//transcription.md\" title=\"/Users/dirk/github/etcbc/dss/tf/0.6/morpho.tf\">morpho</a>  <a target=\"_blank\" href=\"https://github.com/etcbc/dss/blob/master/docs//transcription.md\" title=\"/Users/dirk/github/etcbc/dss/tf/0.6/nu.tf\">nu</a>  <a target=\"_blank\" href=\"https://github.com/etcbc/dss/blob/master/docs//transcription.md\" title=\"/Users/dirk/github/etcbc/dss/tf/0.6/nu2.tf\">nu2</a>  <a target=\"_blank\" href=\"https://github.com/etcbc/dss/blob/master/docs//transcription.md\" title=\"/Users/dirk/github/etcbc/dss/tf/0.6/nu3.tf\">nu3</a>  <a target=\"_blank\" href=\"https://github.com/etcbc/dss/blob/master/docs//transcription.md\" title=\"/Users/dirk/github/etcbc/dss/tf/0.6/otype.tf\">otype</a>  <a target=\"_blank\" href=\"https://github.com/etcbc/dss/blob/master/docs//transcription.md\" title=\"/Users/dirk/github/etcbc/dss/tf/0.6/ps.tf\">ps</a>  <a target=\"_blank\" href=\"https://github.com/etcbc/dss/blob/master/docs//transcription.md\" title=\"/Users/dirk/github/etcbc/dss/tf/0.6/ps2.tf\">ps2</a>  <a target=\"_blank\" href=\"https://github.com/etcbc/dss/blob/master/docs//transcription.md\" title=\"/Users/dirk/github/etcbc/dss/tf/0.6/ps3.tf\">ps3</a>  <a target=\"_blank\" href=\"https://github.com/etcbc/dss/blob/master/docs//transcription.md\" title=\"/Users/dirk/github/etcbc/dss/tf/0.6/punc.tf\">punc</a>  <a target=\"_blank\" href=\"https://github.com/etcbc/dss/blob/master/docs//transcription.md\" title=\"/Users/dirk/github/etcbc/dss/tf/0.6/punce.tf\">punce</a>  <a target=\"_blank\" href=\"https://github.com/etcbc/dss/blob/master/docs//transcription.md\" title=\"/Users/dirk/github/etcbc/dss/tf/0.6/punco.tf\">punco</a>  <a target=\"_blank\" href=\"https://github.com/etcbc/dss/blob/master/docs//transcription.md\" title=\"/Users/dirk/github/etcbc/dss/tf/0.6/rec.tf\">rec</a>  <a target=\"_blank\" href=\"https://github.com/etcbc/dss/blob/master/docs//transcription.md\" title=\"/Users/dirk/github/etcbc/dss/tf/0.6/rem.tf\">rem</a>  <a target=\"_blank\" href=\"https://github.com/etcbc/dss/blob/master/docs//transcription.md\" title=\"/Users/dirk/github/etcbc/dss/tf/0.6/script.tf\">script</a>  <a target=\"_blank\" href=\"https://github.com/etcbc/dss/blob/master/docs//transcription.md\" title=\"/Users/dirk/github/etcbc/dss/tf/0.6/scroll.tf\">scroll</a>  <a target=\"_blank\" href=\"https://github.com/etcbc/dss/blob/master/docs//transcription.md\" title=\"/Users/dirk/github/etcbc/dss/tf/0.6/sp.tf\">sp</a>  <a target=\"_blank\" href=\"https://github.com/etcbc/dss/blob/master/docs//transcription.md\" title=\"/Users/dirk/github/etcbc/dss/tf/0.6/srcLn.tf\">srcLn</a>  <a target=\"_blank\" href=\"https://github.com/etcbc/dss/blob/master/docs//transcription.md\" title=\"/Users/dirk/github/etcbc/dss/tf/0.6/st.tf\">st</a>  <a target=\"_blank\" href=\"https://github.com/etcbc/dss/blob/master/docs//transcription.md\" title=\"/Users/dirk/github/etcbc/dss/tf/0.6/type.tf\">type</a>  <a target=\"_blank\" href=\"https://github.com/etcbc/dss/blob/master/docs//transcription.md\" title=\"/Users/dirk/github/etcbc/dss/tf/0.6/unc.tf\">unc</a>  <a target=\"_blank\" href=\"https://github.com/etcbc/dss/blob/master/docs//transcription.md\" title=\"/Users/dirk/github/etcbc/dss/tf/0.6/vac.tf\">vac</a>  <a target=\"_blank\" href=\"https://github.com/etcbc/dss/blob/master/docs//transcription.md\" title=\"/Users/dirk/github/etcbc/dss/tf/0.6/verse.tf\">verse</a>  <a target=\"_blank\" href=\"https://github.com/etcbc/dss/blob/master/docs//transcription.md\" title=\"/Users/dirk/github/etcbc/dss/tf/0.6/vs.tf\">vs</a>  <a target=\"_blank\" href=\"https://github.com/etcbc/dss/blob/master/docs//transcription.md\" title=\"/Users/dirk/github/etcbc/dss/tf/0.6/vt.tf\">vt</a>  <b><i><a target=\"_blank\" href=\"https://github.com/etcbc/dss/blob/master/docs//transcription.md\" title=\"/Users/dirk/github/etcbc/dss/tf/0.6/occ.tf\">occ</a></i></b>  <b><i><a target=\"_blank\" href=\"https://github.com/etcbc/dss/blob/master/docs//transcription.md\" title=\"/Users/dirk/github/etcbc/dss/tf/0.6/oslots.tf\">oslots</a></i></b> </p><p><b>Parallel Passages</b>: <b><i><a target=\"_blank\" href=\"https://nbviewer.jupyter.org/github/etcbc/dss/blob/master/programs/parallels.ipynb\" title=\"/Users/dirk/github/etcbc/dss/parallels/tf/0.6/sim.tf\">sim</a></i></b> </p></details>"
      ],
      "text/plain": [
       "<IPython.core.display.HTML object>"
      ]
     },
     "metadata": {},
     "output_type": "display_data"
    },
    {
     "data": {
      "text/html": [
       "<style>\n",
       "@font-face {\n",
       "  font-family: \"Ezra SIL\";\n",
       "  src:\n",
       "    local(\"SILEOT.ttf\"),\n",
       "    url(\"https://github.com/annotation/text-fabric/blob/master/tf/server/static/fonts/SILEOT.woff?raw=true\");\n",
       "}\n",
       ".txtn,.txtn a:visited,.txtn a:link {\n",
       "    font-family: sans-serif;\n",
       "    font-size: normal;\n",
       "    text-decoration: none;\n",
       "    direction: ltr;\n",
       "}\n",
       ".txte,.txte a:visited,.txte a:link {\n",
       "    font-family: monospace;\n",
       "    font-size: normal;\n",
       "    text-decoration: none;\n",
       "    direction: ltr;\n",
       "}\n",
       ".txto,.txto a:visited,.txto a:link {\n",
       "    font-family: serif;\n",
       "    font-size: large;\n",
       "    text-decoration: none;\n",
       "    direction: ltr;\n",
       "}\n",
       ".txtu,.txtu a:visited,.txtu a:link {\n",
       "    font-family: \"Ezra SIL\", \"SBL Hebrew\", sans-serif;\n",
       "    font-size: x-large;\n",
       "    text-decoration: none;\n",
       "    direction: rtl;\n",
       "}\n",
       ".full,.glyph,.lex,.punc {\n",
       "    font-family: \"Ezra SIL\", \"SBL Hebrew\", sans-serif;\n",
       "}\n",
       ".lex {\n",
       "  color: mediumblue;\n",
       "}\n",
       ".features {\n",
       "    font-family: monospace;\n",
       "    font-size: medium;\n",
       "    font-weight: bold;\n",
       "    color: #0a6611;\n",
       "    display: flex;\n",
       "    flex-flow: column nowrap;\n",
       "    padding: 0.1em;\n",
       "    margin: 0.1em;\n",
       "    direction: ltr;\n",
       "}\n",
       ".features div,.features span {\n",
       "    padding: 0;\n",
       "    margin: -0.1rem 0;\n",
       "}\n",
       ".features .f {\n",
       "    font-family: sans-serif;\n",
       "    font-size: x-small;\n",
       "    font-weight: normal;\n",
       "    color: #5555bb;\n",
       "}\n",
       ".features .xft {\n",
       "  color: #000000;\n",
       "  background-color: #eeeeee;\n",
       "  font-size: medium;\n",
       "  margin: 0.1em 0em;\n",
       "}\n",
       ".features .xft .f {\n",
       "  color: #000000;\n",
       "  background-color: #eeeeee;\n",
       "  font-style: italic;\n",
       "  font-size: small;\n",
       "  font-weight: normal;\n",
       "}\n",
       ".ltr {\n",
       "    direction: ltr ! important;\n",
       "}\n",
       ".nd {\n",
       "    font-family: monospace;\n",
       "    font-size: x-small;\n",
       "    color: #999999;\n",
       "}\n",
       ".meta {\n",
       "    display: flex;\n",
       "    justify-content: flex-start;\n",
       "    align-items: flex-start;\n",
       "    align-content: flex-start;\n",
       "    flex-flow: row nowrap;\n",
       "}\n",
       ".features {\n",
       "    display: flex;\n",
       "    justify-content: flex-start;\n",
       "    align-items: flex-start;\n",
       "    align-content: flex-start;\n",
       "    flex-flow: column nowrap;\n",
       "}\n",
       ".children {\n",
       "    display: flex;\n",
       "    justify-content: flex-start;\n",
       "    align-items: flex-start;\n",
       "    align-content: flex-start;\n",
       "    border: 0;\n",
       "    background-color: #ffffff;\n",
       "}\n",
       ".children.scroll {\n",
       "    flex-flow: column nowrap;\n",
       "}\n",
       ".children.fragment {\n",
       "    flex-flow: column nowrap;\n",
       "}\n",
       ".children.line {\n",
       "    align-items: stretch;\n",
       "    flex-flow: row wrap;\n",
       "}\n",
       ".children.cluster {\n",
       "    flex-flow: row wrap;\n",
       "}\n",
       ".children.word {\n",
       "    align-items: stretch;\n",
       "    flex-flow: row nowrap;\n",
       "}\n",
       ".children.sign {\n",
       "    flex-flow: column nowrap;\n",
       "}\n",
       ".contnr {\n",
       "    width: fit-content;\n",
       "    direction: rtl;\n",
       "}\n",
       ".contnr.scroll,.contnr.fragment,\n",
       ".contnr.line,\n",
       ".contnr.cluster,\n",
       ".contnr.word,\n",
       ".contnr.sign {\n",
       "    display: flex;\n",
       "    justify-content: flex-start;\n",
       "    align-items: flex-start;\n",
       "    align-content: flex-start;\n",
       "    flex-flow: column nowrap;\n",
       "    background: #ffffff none repeat scroll 0 0;\n",
       "    padding:  0.5em 0.1em 0.1em 0.1em;\n",
       "    margin: 0.8em 0.1em 0.1em 0.1em;\n",
       "    border-radius: 0.2em;\n",
       "    border-style: solid;\n",
       "    border-width: 0.2em;\n",
       "    font-size: small;\n",
       "}\n",
       ".contnr.scroll,.contnr.fragment {\n",
       "    border-color: #bb8800;\n",
       "}\n",
       ".contnr.line {\n",
       "    border-color: #0088bb;\n",
       "}\n",
       ".contnr.cluster {\n",
       "    flex-flow: row wrap;\n",
       "    border: 0;\n",
       "}\n",
       ".contnr.word {\n",
       "    border-color: #44bbff;\n",
       "}\n",
       ".contnr.sign {\n",
       "    border-color: #bbbbbb;\n",
       "}\n",
       ".contnr.hl {\n",
       "    background-color: #ffee66;\n",
       "}\n",
       ".lbl.scroll,.lbl.fragment,\n",
       ".lbl.line,\n",
       ".lbl.cluster,\n",
       ".lbl.sign,.lbl.word {\n",
       "    margin-top: -1.2em;\n",
       "    margin-left: 1em;\n",
       "    background: #ffffff none repeat scroll 0 0;\n",
       "    padding: 0 0.3em;\n",
       "    border-style: solid;\n",
       "    font-size: small;\n",
       "    display: block;\n",
       "}\n",
       ".lbl.scroll,.lbl.fragment {\n",
       "    border-color: #bb8800;\n",
       "    border-width: 0.3em;\n",
       "    border-radius: 0.3em;\n",
       "    color: #bb8800;\n",
       "}\n",
       ".lbl.line {\n",
       "    border-color: #0088bb;\n",
       "    border-width: 0.3em;\n",
       "    border-radius: 0.3em;\n",
       "    color: #0088bb;\n",
       "}\n",
       ".lbl.cluster {\n",
       "    border-color: #dddddd;\n",
       "    border-width: 0.2em;\n",
       "    border-radius: 0.2em;\n",
       "    color: #0000cc;\n",
       "}\n",
       ".lbl.word {\n",
       "    border-color: #44bbff;\n",
       "    border-width: 0.2em;\n",
       "    border-radius: 0.2em;\n",
       "    font-size: medium;\n",
       "    color: #000000;\n",
       "}\n",
       ".lbl.sign {\n",
       "    border-color: #bbbbbb;\n",
       "    border-width: 0.1em;\n",
       "    border-radius: 0.1em;\n",
       "    font-size: small;\n",
       "    color: #000000;\n",
       "}\n",
       ".name {\n",
       "    font-family: monospace;\n",
       "    font-size: medium;\n",
       "    color: #0000bb;\n",
       "}\n",
       ".text {\n",
       "    font-family: sans-serif;\n",
       "    font-size: x-small;\n",
       "    color: #000000;\n",
       "}\n",
       ".srcln {\n",
       "    font-family: monospace;\n",
       "    font-size: x-small;\n",
       "    color: #0000bb;\n",
       "}\n",
       ".scriptpaleohebrew {\n",
       "    border: 1px dashed navy;\n",
       "}\n",
       ".scriptgreekcapital {\n",
       "    border: 1px dashed brown;\n",
       "}\n",
       ".langa {\n",
       "    text-decoration: underline;\n",
       "}\n",
       ".intl1 {\n",
       "    vertical-align: -0.25em;\n",
       "}\n",
       ".intl2 {\n",
       "    vertical-align: -0.5em;\n",
       "}\n",
       ".langg {\n",
       "    font-family: serif;\n",
       "    text-decoration: underline;\n",
       "}\n",
       ".vac1 {\n",
       "    background-color: #aaaaaa;\n",
       "    border 2pt solid #dd3333;\n",
       "    border-radius: 4pt;\n",
       "}\n",
       ".rem1 {\n",
       "    font-weight: bold;\n",
       "    color: red;\n",
       "    text-decoration: line-through;\n",
       "}\n",
       ".rem2 {\n",
       "    font-weight: bold;\n",
       "    color: maroon;\n",
       "    text-decoration: line-through;\n",
       "}\n",
       ".rec1 {\n",
       "    color: teal;\n",
       "    font-size: 80%;\n",
       "}\n",
       ".cor1 {\n",
       "    font-weight: bold;\n",
       "    color: dodgerblue;\n",
       "    text-decoration: overline;\n",
       "}\n",
       ".cor2 {\n",
       "    font-weight: bold;\n",
       "    color: navy;\n",
       "    text-decoration: overline;\n",
       "}\n",
       ".cor3 {\n",
       "    font-weight: bold;\n",
       "    color: navy;\n",
       "    text-decoration: overline;\n",
       "    vertical-align: super;\n",
       "}\n",
       ".alt1 {\n",
       "    text-decoration: overline;\n",
       "}\n",
       "\n",
       "/* UNSURE: italic*/\n",
       "\n",
       ".unc1 {\n",
       "    font-weight: bold;\n",
       "    color: #888888;\n",
       "}\n",
       ".unc2 {\n",
       "    font-weight: bold;\n",
       "    color: #bbbbbb;\n",
       "}\n",
       ".unc3 {\n",
       "    font-weight: bold;\n",
       "    color: #bbbbbb;\n",
       "    text-shadow: #cccccc 1px 1px;\n",
       "}\n",
       ".unc4 {\n",
       "    font-weight: bold;\n",
       "    color: #dddddd;\n",
       "    text-shadow: #eeeeee 2px 2px;\n",
       "}\n",
       "\n",
       ".empty {\n",
       "  color: #ff0000;\n",
       "}\n",
       "\n",
       "\n",
       "tr.tf, td.tf, th.tf {\n",
       "  text-align: left;\n",
       "}\n",
       "\n",
       "span.hldot {\n",
       "\tbackground-color: var(--hl-strong);\n",
       "\tborder: 0.2rem solid var(--hl-rim);\n",
       "\tborder-radius: 0.4rem;\n",
       "\t/*\n",
       "\tdisplay: inline-block;\n",
       "\twidth: 0.8rem;\n",
       "\theight: 0.8rem;\n",
       "\t*/\n",
       "}\n",
       "span.hl {\n",
       "\tbackground-color: var(--hl-strong);\n",
       "\tborder-width: 0;\n",
       "\tborder-radius: 0.1rem;\n",
       "\tborder-style: solid;\n",
       "}\n",
       "\n",
       "span.hlup {\n",
       "\tborder-color: var(--hl-dark);\n",
       "\tborder-width: 0.1rem;\n",
       "\tborder-style: solid;\n",
       "\tborder-radius: 0.2rem;\n",
       "  padding: 0.2rem;\n",
       "}\n",
       "\n",
       ":root {\n",
       "\t--hl-strong:        hsla( 60, 100%,  70%, 0.9  );\n",
       "\t--hl-rim:           hsla( 55, 100%,  60%, 0.9  );\n",
       "\t--hl-dark:          hsla( 55, 100%,  40%, 0.9  );\n",
       "}\n",
       "</style>"
      ],
      "text/plain": [
       "<IPython.core.display.HTML object>"
      ]
     },
     "metadata": {},
     "output_type": "display_data"
    },
    {
     "data": {
      "text/html": [
       "<details open><summary><b>API members</b>:</summary>\n",
       "<a target=\"_blank\" href=\"https://annotation.github.io/text-fabric/Api/Computed/#computed-data\" title=\"doc\">C Computed</a>, <a target=\"_blank\" href=\"https://annotation.github.io/text-fabric/Api/Computed/#computed-data\" title=\"doc\">Call AllComputeds</a>, <a target=\"_blank\" href=\"https://annotation.github.io/text-fabric/Api/Computed/#computed-data\" title=\"doc\">Cs ComputedString</a><br/>\n",
       "<a target=\"_blank\" href=\"https://annotation.github.io/text-fabric/Api/Features/#edge-features\" title=\"doc\">E Edge</a>, <a target=\"_blank\" href=\"https://annotation.github.io/text-fabric/Api/Features/#edge-features\" title=\"doc\">Eall AllEdges</a>, <a target=\"_blank\" href=\"https://annotation.github.io/text-fabric/Api/Features/#edge-features\" title=\"doc\">Es EdgeString</a><br/>\n",
       "<a target=\"_blank\" href=\"https://annotation.github.io/text-fabric/Api/Fabric/#loading\" title=\"doc\">ensureLoaded</a>, <a target=\"_blank\" href=\"https://annotation.github.io/text-fabric/Api/Fabric/#loading\" title=\"doc\">TF</a>, <a target=\"_blank\" href=\"https://annotation.github.io/text-fabric/Api/Fabric/#loading\" title=\"doc\">ignored</a>, <a target=\"_blank\" href=\"https://annotation.github.io/text-fabric/Api/Fabric/#loading\" title=\"doc\">loadLog</a><br/>\n",
       "<a target=\"_blank\" href=\"https://annotation.github.io/text-fabric/Api/Locality/#locality\" title=\"doc\">L Locality</a><br/>\n",
       "<a target=\"_blank\" href=\"https://annotation.github.io/text-fabric/Api/Misc/#messaging\" title=\"doc\">cache</a>, <a target=\"_blank\" href=\"https://annotation.github.io/text-fabric/Api/Misc/#messaging\" title=\"doc\">error</a>, <a target=\"_blank\" href=\"https://annotation.github.io/text-fabric/Api/Misc/#messaging\" title=\"doc\">indent</a>, <a target=\"_blank\" href=\"https://annotation.github.io/text-fabric/Api/Misc/#messaging\" title=\"doc\">info</a>, <a target=\"_blank\" href=\"https://annotation.github.io/text-fabric/Api/Misc/#messaging\" title=\"doc\">isSilent</a>, <a target=\"_blank\" href=\"https://annotation.github.io/text-fabric/Api/Misc/#messaging\" title=\"doc\">reset</a>, <a target=\"_blank\" href=\"https://annotation.github.io/text-fabric/Api/Misc/#messaging\" title=\"doc\">setSilent</a>, <a target=\"_blank\" href=\"https://annotation.github.io/text-fabric/Api/Misc/#messaging\" title=\"doc\">silentOff</a>, <a target=\"_blank\" href=\"https://annotation.github.io/text-fabric/Api/Misc/#messaging\" title=\"doc\">silentOn</a>, <a target=\"_blank\" href=\"https://annotation.github.io/text-fabric/Api/Misc/#messaging\" title=\"doc\">warning</a><br/>\n",
       "<a target=\"_blank\" href=\"https://annotation.github.io/text-fabric/Api/Nodes/#navigating-nodes\" title=\"doc\">N Nodes</a>, <a target=\"_blank\" href=\"https://annotation.github.io/text-fabric/Api/Nodes/#navigating-nodes\" title=\"doc\">sortKey</a>, <a target=\"_blank\" href=\"https://annotation.github.io/text-fabric/Api/Nodes/#navigating-nodes\" title=\"doc\">sortKeyTuple</a>, <a target=\"_blank\" href=\"https://annotation.github.io/text-fabric/Api/Nodes/#navigating-nodes\" title=\"doc\">otypeRank</a>, <a target=\"_blank\" href=\"https://annotation.github.io/text-fabric/Api/Nodes/#navigating-nodes\" title=\"doc\">sortNodes</a><br/>\n",
       "<a target=\"_blank\" href=\"https://annotation.github.io/text-fabric/Api/Features/#node-features\" title=\"doc\">F Feature</a>, <a target=\"_blank\" href=\"https://annotation.github.io/text-fabric/Api/Features/#node-features\" title=\"doc\">Fall AllFeatures</a>, <a target=\"_blank\" href=\"https://annotation.github.io/text-fabric/Api/Features/#node-features\" title=\"doc\">Fs FeatureString</a><br/>\n",
       "<a target=\"_blank\" href=\"https://annotation.github.io/text-fabric/Api/Search/#search\" title=\"doc\">S Search</a><br/>\n",
       "<a target=\"_blank\" href=\"https://annotation.github.io/text-fabric/Api/Text/#text\" title=\"doc\">T Text</a></details>"
      ],
      "text/plain": [
       "<IPython.core.display.HTML object>"
      ]
     },
     "metadata": {},
     "output_type": "display_data"
    }
   ],
   "source": [
    "A = use(\"dss:clone\", checkout=\"clone\", hoist=globals())"
   ]
  },
  {
   "cell_type": "markdown",
   "metadata": {},
   "source": [
    "Lo and behold: you see the parallels module listed with one feature: `sim`. It is in *italics*, which indicates\n",
    "it is an edge feature.\n",
    "\n",
    "We just do a quick check here and in another notebook we study parallels a bit more, using the feature `sim`.\n",
    "\n",
    "We count how many similar pairs their are, and how many 100% similar pairs there are."
   ]
  },
  {
   "cell_type": "code",
   "execution_count": 31,
   "metadata": {},
   "outputs": [
    {
     "name": "stdout",
     "output_type": "stream",
     "text": [
      "  0.25s 51862 results\n"
     ]
    },
    {
     "data": {
      "text/plain": [
       "1565737"
      ]
     },
     "execution_count": 31,
     "metadata": {},
     "output_type": "execute_result"
    }
   ],
   "source": [
    "query = \"\"\"\n",
    "line\n",
    "-sim> line\n",
    "\"\"\"\n",
    "results = A.search(query)\n",
    "refNode = results[20000][0]\n",
    "refNode"
   ]
  },
  {
   "cell_type": "code",
   "execution_count": 32,
   "metadata": {},
   "outputs": [
    {
     "name": "stdout",
     "output_type": "stream",
     "text": [
      "  0.14s 3646 results\n"
     ]
    }
   ],
   "source": [
    "query = \"\"\"\n",
    "line\n",
    "-sim=100> line\n",
    "\"\"\"\n",
    "results = A.search(query)"
   ]
  },
  {
   "cell_type": "markdown",
   "metadata": {},
   "source": [
    "Let's show a few of the pairs are 100 percent similar."
   ]
  },
  {
   "cell_type": "code",
   "execution_count": 33,
   "metadata": {},
   "outputs": [
    {
     "data": {
      "text/html": [
       "<table>\n",
       "<tr class=\"tf\">\n",
       "  <th class=\"tf\">n</th><th class=\"tf\">p</th>\n",
       "  <th class=\"tf\">line</th><th>line</th>\n",
       "</tr>\n",
       "\n",
       "<tr class=\"tf\"><td class=\"tf\">1</td><td class=\"tf\"> <a href=\"https://www.deadseascrolls.org.il/explore-the-archive/search#q='4Q268'\" title=\"show this scroll in the Leon Levy library\" sec=\"4Q268 f1:15\">4Q268 f1:15</a></td><td class=\"tf\"><span class=\"txtu\">את ארצ׳ו ולדשן בטוב אדמת׳ו ׃ ויבינו בעונ׳ם וידעו כי </span> <i>1552980</i> </td><td class=\"tf\"><span class=\"txtu\">את ארצ׳ו ולדשן בטוב אדמת׳ו ׃ ויבינו בעוונ׳מה וידעו כי </span> <i>1563775</i> </td></tr>\n",
       "<tr class=\"tf\"><td class=\"tf\">2</td><td class=\"tf\"> <a href=\"https://www.deadseascrolls.org.il/explore-the-archive/search#q='4Q267'\" title=\"show this scroll in the Leon Levy library\" sec=\"4Q267 f2:4\">4Q267 f2:4</a></td><td class=\"tf\"><span class=\"txtu\">ובקץ חרבן הארץ עמדו מסיגי הגבול ויתעו את ישראל ׃ </span> <i>1553076</i> </td><td class=\"tf\"><span class=\"txtu\">ובקץ חורבן הארץ עמדו מסיגי גבול ויתעו את ישראל </span> <i>1563610</i> </td></tr>\n",
       "<tr class=\"tf\"><td class=\"tf\">3</td><td class=\"tf\"> <a href=\"https://www.deadseascrolls.org.il/explore-the-archive/search#q='4Q266'\" title=\"show this scroll in the Leon Levy library\" sec=\"4Q266 f3iii:19\">4Q266 f3iii:19</a></td><td class=\"tf\"><span class=\"txtu\">אשר בזה ישראל את דברי׳הם ׃ והכוכב הוא דורש התורה </span> <i>1553116</i> </td><td class=\"tf\"><span class=\"txtu\">אשר בזה ישראל את דברי׳הם ׃ והכוכב הוא דורש התורה </span> <i>1563157</i> </td></tr>\n",
       "<tr class=\"tf\"><td class=\"tf\">4</td><td class=\"tf\"> <a href=\"https://www.deadseascrolls.org.il/explore-the-archive/search#q='4Q266'\" title=\"show this scroll in the Leon Levy library\" sec=\"4Q266 f9i:3\">4Q266 f9i:3</a></td><td class=\"tf\"><span class=\"txtu\">אל יעל׳ה איש בסולם וחבל וכלי ׃ אל יעל איש למזבח בשבת </span> <i>1553203</i> </td><td class=\"tf\"><span class=\"txtu\">בסולם וחבל וכלי ׃ אל יעל איש למזבח בשבת </span> <i>1563345</i> </td></tr>\n",
       "<tr class=\"tf\"><td class=\"tf\">5</td><td class=\"tf\"> <a href=\"https://www.deadseascrolls.org.il/explore-the-archive/search#q='4Q464b'\" title=\"show this scroll in the Leon Levy library\" sec=\"4Q464b f1:1\">4Q464b f1:1</a></td><td class=\"tf\"><span class=\"txtu\">ε אמר ל׳הם </span> <i>1553296</i> </td><td class=\"tf\"><span class=\"txtu\">ε לאמר ל ε ׃ </span> <i>1575440</i> </td></tr>\n",
       "<tr class=\"tf\"><td class=\"tf\">6</td><td class=\"tf\"> <a href=\"https://www.deadseascrolls.org.il/explore-the-archive/search#q='PAM43663'\" title=\"show this scroll in the Leon Levy library\" sec=\"PAM43663 f43:1\">PAM43663 f43:1</a></td><td class=\"tf\"><span class=\"txtu\">ε אמר ל׳הם </span> <i>1553296</i> </td><td class=\"tf\"><span class=\"txtu\">ε  # אמר ל׳י ε </span> <i>1588433</i> </td></tr>\n",
       "<tr class=\"tf\"><td class=\"tf\">7</td><td class=\"tf\"> <a href=\"https://www.deadseascrolls.org.il/explore-the-archive/search#q='1Q4'\" title=\"show this scroll in the Leon Levy library\" sec=\"1Q4 f18:1\">1Q4 f18:1</a></td><td class=\"tf\"><span class=\"txtu\">ε אמר ל׳הם </span> <i>1553296</i> </td><td class=\"tf\"><span class=\"txtu\">ε לאמור ε ׃ </span> <i>1589783</i> </td></tr>\n",
       "<tr class=\"tf\"><td class=\"tf\">8</td><td class=\"tf\"> <a href=\"https://www.deadseascrolls.org.il/explore-the-archive/search#q='4Q264'\" title=\"show this scroll in the Leon Levy library\" sec=\"4Q264 f1:10\">4Q264 f1:10</a></td><td class=\"tf\"><span class=\"txtu\">חמר קורצ ולעפר תשוקת׳ו ׃ מה ישיב חמר ויוצר יד ולעצת מה יבין ׃ </span> <i>1553669</i> </td><td class=\"tf\"><span class=\"txtu\">קורץ ולעפר תשוקת׳ו ׃ מה ישיב חמר ויוצר יד לעצת מה יבין ׃ </span> <i>1562924</i> </td></tr>\n",
       "<tr class=\"tf\"><td class=\"tf\">9</td><td class=\"tf\"> <a href=\"https://www.deadseascrolls.org.il/explore-the-archive/search#q='4Q286'\" title=\"show this scroll in the Leon Levy library\" sec=\"4Q286 f11:3\">4Q286 f11:3</a></td><td class=\"tf\"><span class=\"txtu\">ε קודש׳ו  #  ε ׃ </span> <i>1553730</i> </td><td class=\"tf\"><span class=\"txtu\">ε ת קודש ε ׃ </span> <i>1564740</i> </td></tr>\n",
       "<tr class=\"tf\"><td class=\"tf\">10</td><td class=\"tf\"> <a href=\"https://www.deadseascrolls.org.il/explore-the-archive/search#q='4Q401'\" title=\"show this scroll in the Leon Levy library\" sec=\"4Q401 f31:3\">4Q401 f31:3</a></td><td class=\"tf\"><span class=\"txtu\">ε קודש׳ו  #  ε ׃ </span> <i>1553730</i> </td><td class=\"tf\"><span class=\"txtu\">ε י קודש ε ׃ </span> <i>1571118</i> </td></tr></table>"
      ],
      "text/plain": [
       "<IPython.core.display.HTML object>"
      ]
     },
     "metadata": {},
     "output_type": "display_data"
    }
   ],
   "source": [
    "A.table(results, start=1, end=10, withNodes=True)"
   ]
  },
  {
   "cell_type": "markdown",
   "metadata": {},
   "source": [
    "There is also a lower level way to work with edge features.\n",
    "\n",
    "We can list all edges going out from a reference node.\n",
    "What we see is tuple of pairs: the target node and the similarity between the reference node and that target node."
   ]
  },
  {
   "cell_type": "code",
   "execution_count": 34,
   "metadata": {},
   "outputs": [
    {
     "data": {
      "text/plain": [
       "((1565738, 100),\n",
       " (1565739, 100),\n",
       " (1565740, 100),\n",
       " (1565741, 100),\n",
       " (1565742, 100),\n",
       " (1565744, 67),\n",
       " (1565745, 62),\n",
       " (1565781, 60),\n",
       " (1565782, 60),\n",
       " (1565783, 60),\n",
       " (1565791, 67),\n",
       " (1565792, 67),\n",
       " (1565793, 67),\n",
       " (1565794, 60),\n",
       " (1565796, 60),\n",
       " (1565808, 60),\n",
       " (1565809, 71),\n",
       " (1565811, 71),\n",
       " (1565813, 71),\n",
       " (1565815, 71),\n",
       " (1565819, 67),\n",
       " (1565847, 67),\n",
       " (1565848, 67),\n",
       " (1565854, 75),\n",
       " (1565855, 75),\n",
       " (1565856, 67),\n",
       " (1565857, 67),\n",
       " (1565858, 67),\n",
       " (1565859, 67),\n",
       " (1565887, 71),\n",
       " (1565900, 71),\n",
       " (1565901, 71),\n",
       " (1565902, 71),\n",
       " (1565903, 71),\n",
       " (1565905, 71),\n",
       " (1565906, 71),\n",
       " (1565907, 71),\n",
       " (1565974, 100),\n",
       " (1565976, 67),\n",
       " (1565980, 67),\n",
       " (1565982, 67),\n",
       " (1566001, 67),\n",
       " (1566018, 71),\n",
       " (1566032, 71),\n",
       " (1573353, 67))"
      ]
     },
     "execution_count": 34,
     "metadata": {},
     "output_type": "execute_result"
    }
   ],
   "source": [
    "E.sim.f(refNode)"
   ]
  },
  {
   "cell_type": "markdown",
   "metadata": {},
   "source": [
    "Likewise, we can observe the nodes that target the reference node:"
   ]
  },
  {
   "cell_type": "code",
   "execution_count": 35,
   "metadata": {},
   "outputs": [
    {
     "data": {
      "text/plain": [
       "((1565730, 100),\n",
       " (1565731, 100),\n",
       " (1565732, 100),\n",
       " (1565733, 100),\n",
       " (1565734, 100),\n",
       " (1565735, 100),\n",
       " (1565736, 100))"
      ]
     },
     "execution_count": 35,
     "metadata": {},
     "output_type": "execute_result"
    }
   ],
   "source": [
    "E.sim.t(refNode)"
   ]
  },
  {
   "cell_type": "markdown",
   "metadata": {},
   "source": [
    "Both sets of nodes are similar to the reference node and it is inconvenient to use both `.f()` and `.t()` to get the similar lines.\n",
    "\n",
    "But there is another way:"
   ]
  },
  {
   "cell_type": "code",
   "execution_count": 36,
   "metadata": {},
   "outputs": [
    {
     "data": {
      "text/plain": [
       "((1565730, 100),\n",
       " (1565731, 100),\n",
       " (1565732, 100),\n",
       " (1565733, 100),\n",
       " (1565734, 100),\n",
       " (1565735, 100),\n",
       " (1565736, 100),\n",
       " (1565738, 100),\n",
       " (1565739, 100),\n",
       " (1565740, 100),\n",
       " (1565741, 100),\n",
       " (1565742, 100),\n",
       " (1565744, 67),\n",
       " (1565745, 62),\n",
       " (1565781, 60),\n",
       " (1565782, 60),\n",
       " (1565783, 60),\n",
       " (1565791, 67),\n",
       " (1565792, 67),\n",
       " (1565793, 67),\n",
       " (1565794, 60),\n",
       " (1565796, 60),\n",
       " (1565808, 60),\n",
       " (1565809, 71),\n",
       " (1565811, 71),\n",
       " (1565813, 71),\n",
       " (1565815, 71),\n",
       " (1565819, 67),\n",
       " (1565847, 67),\n",
       " (1565848, 67),\n",
       " (1565854, 75),\n",
       " (1565855, 75),\n",
       " (1565856, 67),\n",
       " (1565857, 67),\n",
       " (1565858, 67),\n",
       " (1565859, 67),\n",
       " (1565887, 71),\n",
       " (1565900, 71),\n",
       " (1565901, 71),\n",
       " (1565902, 71),\n",
       " (1565903, 71),\n",
       " (1565905, 71),\n",
       " (1565906, 71),\n",
       " (1565907, 71),\n",
       " (1565974, 100),\n",
       " (1565976, 67),\n",
       " (1565980, 67),\n",
       " (1565982, 67),\n",
       " (1566001, 67),\n",
       " (1566018, 71),\n",
       " (1566032, 71),\n",
       " (1573353, 67))"
      ]
     },
     "execution_count": 36,
     "metadata": {},
     "output_type": "execute_result"
    }
   ],
   "source": [
    "E.sim.b(refNode)"
   ]
  },
  {
   "cell_type": "markdown",
   "metadata": {},
   "source": [
    "Let's make sure that `.b()` gives the combination of `.f()` and `.t()`."
   ]
  },
  {
   "cell_type": "code",
   "execution_count": 37,
   "metadata": {},
   "outputs": [
    {
     "name": "stdout",
     "output_type": "stream",
     "text": [
      "the intersection of f and t is set()\n",
      "t | f = b ? True\n"
     ]
    }
   ],
   "source": [
    "f = {x[0] for x in E.sim.f(refNode)}\n",
    "b = {x[0] for x in E.sim.b(refNode)}\n",
    "t = {x[0] for x in E.sim.t(refNode)}\n",
    "\n",
    "# are f and t disjoint ?\n",
    "\n",
    "print(f\"the intersection of f and t is {f & t}\")\n",
    "\n",
    "# is b the union of f and t ?\n",
    "\n",
    "print(f\"t | f = b ? {f | t == b}\")"
   ]
  }
 ],
 "metadata": {
  "jupytext": {
   "encoding": "# -*- coding: utf-8 -*-"
  },
  "kernelspec": {
   "display_name": "Python 3 (ipykernel)",
   "language": "python",
   "name": "python3"
  },
  "language_info": {
   "codemirror_mode": {
    "name": "ipython",
    "version": 3
   },
   "file_extension": ".py",
   "mimetype": "text/x-python",
   "name": "python",
   "nbconvert_exporter": "python",
   "pygments_lexer": "ipython3",
   "version": "3.10.2"
  },
  "widgets": {
   "application/vnd.jupyter.widget-state+json": {
    "state": {},
    "version_major": 2,
    "version_minor": 0
   }
  }
 },
 "nbformat": 4,
 "nbformat_minor": 4
}
