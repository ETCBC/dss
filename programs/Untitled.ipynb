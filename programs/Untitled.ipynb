{
 "cells": [
  {
   "cell_type": "code",
   "execution_count": 3,
   "id": "541efe8f",
   "metadata": {},
   "outputs": [
    {
     "data": {
      "text/html": [
       "<b title=\"local release\">TF-app:</b> <span title=\"rv1.4=#4fd3f7178c5269d63bb37cb18afc481513c8f7e2 offline under ~/text-fabric-data/github\">~/text-fabric-data/github/etcbc/dss/app</span>"
      ],
      "text/plain": [
       "<IPython.core.display.HTML object>"
      ]
     },
     "metadata": {},
     "output_type": "display_data"
    },
    {
     "name": "stdout",
     "output_type": "stream",
     "text": [
      "The requested data is not available offline\n",
      "\t~/text-fabric-data/github/etcbc/dss/tf/1.5 not found\n",
      "rate limit is 60 requests per hour, with 30 left for this hour\n",
      "To increase the rate,see https://annotation.github.io/text-fabric/tf/advanced/repo.html#github\n",
      "\tconnecting to online GitHub repo etcbc/dss ... connected\n",
      "No directory tf/1.5 in #4fd3f7178c5269d63bb37cb18afc481513c8f7e2Will try something else\n",
      "\tFailed"
     ]
    },
    {
     "name": "stderr",
     "output_type": "stream",
     "text": [
      "No directory tf/1.5 in #4fd3f7178c5269d63bb37cb18afc481513c8f7e2\tFailed"
     ]
    },
    {
     "name": "stdout",
     "output_type": "stream",
     "text": [
      "The requested data is not available offline\n",
      "\t~/text-fabric-data/github/etcbc/dss/parallels/tf/1.5 not found\n",
      "rate limit is 60 requests per hour, with 15 left for this hour\n",
      "To increase the rate,see https://annotation.github.io/text-fabric/tf/advanced/repo.html#github\n",
      "\tconnecting to online GitHub repo etcbc/dss ... connected\n",
      "No directory parallels/tf/1.5 in #4fd3f7178c5269d63bb37cb18afc481513c8f7e2Will try something else\n",
      "\tFailed"
     ]
    },
    {
     "name": "stderr",
     "output_type": "stream",
     "text": [
      "No directory parallels/tf/1.5 in #4fd3f7178c5269d63bb37cb18afc481513c8f7e2\tFailedThere were problems with loading data.\n",
      "The Text-Fabric API has not been loaded!\n",
      "The app \"etcbc/dss\" will not work!\n"
     ]
    }
   ],
   "source": [
    "from tf.app import use\n",
    "A = use('etcbc/dss', hoist=globals())"
   ]
  }
 ],
 "metadata": {
  "kernelspec": {
   "display_name": "Python 3 (ipykernel)",
   "language": "python",
   "name": "python3"
  },
  "language_info": {
   "codemirror_mode": {
    "name": "ipython",
    "version": 3
   },
   "file_extension": ".py",
   "mimetype": "text/x-python",
   "name": "python",
   "nbconvert_exporter": "python",
   "pygments_lexer": "ipython3",
   "version": "3.9.7"
  }
 },
 "nbformat": 4,
 "nbformat_minor": 5
}
