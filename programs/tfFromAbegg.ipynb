{
 "cells": [
  {
   "cell_type": "code",
   "execution_count": 2,
   "metadata": {},
   "outputs": [],
   "source": [
    "import os\n",
    "import collections"
   ]
  },
  {
   "cell_type": "markdown",
   "metadata": {},
   "source": [
    "# Local topography\n",
    "\n",
    "**Note that the data source files are not on GitHub!**\n",
    "\n",
    "They are in my `~/local` directory and also in the Dropbox folder with the Abegg files."
   ]
  },
  {
   "cell_type": "code",
   "execution_count": 3,
   "metadata": {},
   "outputs": [],
   "source": [
    "BASE = os.path.expanduser('~/github')\n",
    "ORG = 'etcbc'\n",
    "REPO = 'dss'\n",
    "VERSION = '0.1'\n",
    "\n",
    "REPO_DIR = f'{BASE}/{ORG}/{REPO}'\n",
    "META_DIR = f'{REPO_DIR}/sources/meta'\n",
    "\n",
    "CHAR_TABLE = f'{META_DIR}/chars.txt'\n",
    "MAN_TABLE = f'{META_DIR}/mans.txt'\n",
    "\n",
    "LOCAL = os.path.expanduser('~/local')\n",
    "DATA_DIR = f'{LOCAL}/{REPO}/sanitized'"
   ]
  },
  {
   "cell_type": "markdown",
   "metadata": {},
   "source": [
    "# Sources\n",
    "\n",
    "We have two source files:\n",
    "\n",
    "* `dss_bib.txt` with biblical material\n",
    "* `dss_nonbib.txt` with non-biblical material\n",
    "\n",
    "Throughout this conversion program\n",
    "we use `True` for the biblical material and `False` for the other material."
   ]
  },
  {
   "cell_type": "code",
   "execution_count": 4,
   "metadata": {},
   "outputs": [],
   "source": [
    "SOURCES = dict(\n",
    "  bib=True,\n",
    "  nonbib=False,\n",
    ")"
   ]
  },
  {
   "cell_type": "markdown",
   "metadata": {},
   "source": [
    "## Tables\n",
    "\n",
    "We have two tables for mapping certain values in the source data to other values\n",
    "in a systematic way:\n",
    "\n",
    "* a manuscript table in order to represent mamuscript codes by their names.\n",
    "  In most cases the name *is* the code.\n",
    "* a character table relating unicode characters to their transliterations."
   ]
  },
  {
   "cell_type": "code",
   "execution_count": 5,
   "metadata": {},
   "outputs": [
    {
     "name": "stdout",
     "output_type": "stream",
     "text": [
      "  38 characters mapped\n",
      " 265 mans mapped\n"
     ]
    }
   ],
   "source": [
    "origFromTrans = {}\n",
    "bookFromCode = {}\n",
    "\n",
    "def readChars():\n",
    "  with open(CHAR_TABLE) as fh:\n",
    "    for line in fh:\n",
    "      (orig, trans) = line.rstrip().split('\\t')\n",
    "      origFromTrans[trans] = orig\n",
    "  print(f'{len(origFromTrans):>4} characters mapped')\n",
    "\n",
    "\n",
    "def readBooks():\n",
    "  with open(MAN_TABLE) as fh:\n",
    "    for line in fh:\n",
    "      (code, book) = line.rstrip().split('\\t')\n",
    "      bookFromCode[code] = book\n",
    "  print(f'{len(bookFromCode):>4} mans mapped')\n",
    "  \n",
    "readChars()\n",
    "readBooks()"
   ]
  },
  {
   "cell_type": "markdown",
   "metadata": {},
   "source": [
    "# Slurp the data\n",
    "\n",
    "We take in the data and store the lines in a dictionary of lists of lines,\n",
    "keyed by the boolean \"is biblical?\""
   ]
  },
  {
   "cell_type": "code",
   "execution_count": 6,
   "metadata": {},
   "outputs": [
    {
     "name": "stdout",
     "output_type": "stream",
     "text": [
      "bib            : 243157 lines\n",
      "nonbib         : 378023 lines\n"
     ]
    }
   ],
   "source": [
    "lines = collections.defaultdict(list)\n",
    "\n",
    "def getSourceLines():\n",
    "  for (src, isBib) in SOURCES.items():\n",
    "    with open(f'{DATA_DIR}/{REPO}_{src}.txt') as fh:\n",
    "      for line in fh:\n",
    "        lines[isBib].append(line.strip())\n",
    "      print(f'{src:<15}: {len(lines[isBib]):>5} lines')\n",
    "    \n",
    "getSourceLines()"
   ]
  },
  {
   "cell_type": "markdown",
   "metadata": {},
   "source": [
    "# Parse lines\n",
    "\n",
    "We read the stored lines and parse them.\n",
    "\n",
    "If there are errors, we store all occurrences of them in a dict, keyed by:\n",
    "\n",
    "* kind of error\n",
    "* the sore point\n",
    "* the source (`True` or `False` - biblical or not)\n",
    "\n",
    "And then we get a list of list indices.\n",
    "\n",
    "Later when we display the errors\n",
    "\n",
    "* we replace `True` by `bib` and `False` by `nonbib`\n",
    "* we display line numbers (one higher than list indices)\n",
    "* we retrieve the corresponding source line\n",
    "\n",
    "We only show at most `batch` many lines per error and per sore point and per source."
   ]
  },
  {
   "cell_type": "markdown",
   "metadata": {},
   "source": [
    "## Line splitting\n",
    "\n",
    "We have to split lines differently in both sources.\n",
    "\n",
    "source | separator | # fields\n",
    "--- | --- | ---\n",
    "bib | tab | 5\n",
    "nonbib | space | 4\n",
    "\n",
    "Several fields are made up of parts themselves.\n",
    "\n",
    "**bib**\n",
    "\n",
    "```Gen 1:19\t1Q1 f1:1\tw\tw◊@Pc\t32.5```\n",
    "\n",
    "* `Gen` is book acronym\n",
    "* `1` is the chapter\n",
    "* `19` is the verse\n",
    "* `1Q1` is the manuscript name\n",
    "* `f1` *what is this called? folio, part, page?*\n",
    "* `1` *is the line?*\n",
    "* `w` is the transcription\n",
    "* `w◊` is the lexeme\n",
    "* `Pc` is the morphology code\n",
    "* `32` is the word number\n",
    "* `5` *what is this? Sub-number, or part of the wordnumber?*\n",
    "\n",
    "**nonbib**\n",
    "\n",
    "```CD 1:2,3.1 ky k;Iy_2@Pc```\n",
    "\n",
    "* `CD` is manuscript name\n",
    "* `1` is column\n",
    "* `2` is line\n",
    "* `3` is line (again! are lines nested, is it a sub-line, *how shall I call it?*)\n",
    "* `ky` is transcription (this goes into the plain text)\n",
    "* `k;ly_2` is lexeme, (*the `_2` is disambiguation?*)\n",
    "* `Pc` is morphology code"
   ]
  },
  {
   "cell_type": "code",
   "execution_count": 7,
   "metadata": {},
   "outputs": [],
   "source": [
    "def splitLine(isBib, ln, line):\n",
    "  parts = line.split('\\t' if isBib else ' ')\n",
    "  expFields = 5 if isBib else 4\n",
    "  nFields = len(parts)\n",
    "  if nFields != expFields:\n",
    "    errors['wrong number of fields'][nFields][isBib].append(ln)\n",
    "    return False\n",
    "  return parts"
   ]
  },
  {
   "cell_type": "code",
   "execution_count": 8,
   "metadata": {},
   "outputs": [
    {
     "name": "stdout",
     "output_type": "stream",
     "text": [
      "ERROR wrong number of fields:\n",
      "\t1:\n",
      "\t\tnonbib:   1144x:\n",
      "\t\t\t 15051 \"\u001b(fl)\"\n",
      "\t\t\t 15053 \"\u001b(fy)\"\n",
      "\t\t\t 15799 \"\u001b(fl)\"\n",
      "\t\t\t 15801 \"\u001b(fy)\"\n",
      "\t\t\t 15807 \"\u001b(fl)\"\n",
      "\t\t\t 15809 \"\u001b(fy)\"\n",
      "\t\t\t 16153 \"\u001b(fl)\"\n",
      "\t\t\t 16155 \"\u001b(fy)\"\n",
      "\t\t\t 16843 \"\u001b(fl)\"\n",
      "\t\t\t 16845 \"\u001b(fy)\"\n",
      "\t\t\t...\n",
      "\t2:\n",
      "\t\tnonbib:     85x:\n",
      "\t\t\t 13082 \"1QSa 1:8,6.1\"\n",
      "\t\t\t 24811 \"1QHa 4:14,8.1\"\n",
      "\t\t\t 24870 \"1QHa 4:19,7.1\"\n",
      "\t\t\t 39282 \"\u001be\u001b(s9).\u001b(xb5). (a)\"\n",
      "\t\t\t 51846 \"\u001be\u001b(s9).\u001b(xb5). (a)\"\n",
      "\t\t\t 60231 \"\u001be\u001b(s9).\u001b(xb5). (a)\"\n",
      "\t\t\t 64990 \"\u001be\u001b(s9).\u001b(xb5). (a)\"\n",
      "\t\t\t 66125 \"\u001be\u001b(s9).\u001b(xb5). (a)\"\n",
      "\t\t\t 67575 \"\u001be\u001b(s9).\u001b(xb5). (a)\"\n",
      "\t\t\t 69024 \"\u001be\u001b(s9).\u001b(xb5). (a)\"\n",
      "\t\t\t...\n",
      "\t3:\n",
      "\t\tnonbib:  74516x:\n",
      "\t\t\t     2 \"CD 1:1,1.1 ≥\"\n",
      "\t\t\t     3 \"CD 1:1,2.1 ≤\"\n",
      "\t\t\t    16 \"CD 1:2,2.1 .\"\n",
      "\t\t\t    29 \"CD 1:2,13.1 .\"\n",
      "\t\t\t    48 \"CD 1:4,3.1 .\"\n",
      "\t\t\t    64 \"CD 1:5,5.1 .\"\n",
      "\t\t\t    85 \"CD 1:7,2.1 .\"\n",
      "\t\t\t   106 \"CD 1:8,6.1 .\"\n",
      "\t\t\t   118 \"CD 1:9,4.1 .\"\n",
      "\t\t\t   130 \"CD 1:10,3.1 .\"\n",
      "\t\t\t...\n",
      "\t\tbib   :    496x:\n",
      "\t\t\t 42273 \"Ps 127:3\t1Q11 f2_5:3\t\u001b(fl)\"\n",
      "\t\t\t 42275 \"Ps 127:3\t1Q11 f2_5:3\t\u001b(fy)\"\n",
      "\t\t\t 45253 \"Ex 4:31\t2Q3 f1:1\t\u001b(fl)\"\n",
      "\t\t\t 45255 \"Ex 4:31\t2Q3 f1:1\t\u001b(fy)\"\n",
      "\t\t\t 45294 \"Ex 12:27\t2Q3 f2:2\t\u001b(fl)\"\n",
      "\t\t\t 45296 \"Ex 12:27\t2Q3 f2:2\t\u001b(fy)\"\n",
      "\t\t\t 45573 \"Ex 31:16\t2Q3 f7:1\t\u001b(fl)\"\n",
      "\t\t\t 45575 \"Ex 31:16\t2Q3 f7:1\t\u001b(fy)\"\n",
      "\t\t\t 45619 \"Ex 19:9\t2Q3 f8:1\t\u001b(fl)\"\n",
      "\t\t\t 45621 \"Ex 19:9\t2Q3 f8:1\t\u001b(fy)\"\n",
      "\t\t\t...\n",
      "\t5:\n",
      "\t\tnonbib:      1x:\n",
      "\t\t\t256841 \"4Q491 f36:2,4.1 [\\\\]  \\\\\\@0\"\n",
      "\t6:\n",
      "\t\tbib   :      1x:\n",
      "\t\t\t208179 \"8Q3 f12_16:17\t8Q3 f12_16:17\t--\t\\@0\t\t949\"\n"
     ]
    }
   ],
   "source": [
    "errors = collections.defaultdict(\n",
    "  lambda: collections.defaultdict(\n",
    "    lambda: collections.defaultdict(list)\n",
    "  )\n",
    ")\n",
    "batch = 10\n",
    "\n",
    "def showErrors():\n",
    "  for (kind, soreSources) in sorted(errors.items()):\n",
    "    print(f'ERROR {kind}:')\n",
    "    for (sore, srcOccs) in sorted(soreSources.items()):\n",
    "      print(f'\\t{sore}:')\n",
    "      for (isBib, occs) in sorted(srcOccs.items()):\n",
    "        nOccs = len(occs)\n",
    "        srcStr = 'bib' if isBib else 'nonbib'\n",
    "        print(f'\\t\\t{srcStr:<6}: {nOccs:>6}x:')\n",
    "        for occ in occs[0:batch]:\n",
    "          print(f'\\t\\t\\t{occ + 1:>6} \"{lines[isBib][occ]}\"')\n",
    "        if nOccs > batch:\n",
    "          print('\\t\\t\\t...')\n",
    "\n",
    "def readData():\n",
    "  for isBib in lines:\n",
    "    for (i, line) in enumerate(lines[isBib]):\n",
    "      if line.startswith('>'):\n",
    "        continue\n",
    "      parts = splitLine(isBib, i, line)\n",
    "      if not parts:\n",
    "        continue\n",
    "    \n",
    "readData()\n",
    "showErrors()"
   ]
  },
  {
   "cell_type": "code",
   "execution_count": 9,
   "metadata": {},
   "outputs": [],
   "source": [
    "def convert():\n",
    "  pass\n",
    "\n",
    "convert()"
   ]
  },
  {
   "cell_type": "code",
   "execution_count": null,
   "metadata": {},
   "outputs": [],
   "source": []
  }
 ],
 "metadata": {
  "kernelspec": {
   "display_name": "Python 3",
   "language": "python",
   "name": "python3"
  },
  "language_info": {
   "codemirror_mode": {
    "name": "ipython",
    "version": 3
   },
   "file_extension": ".py",
   "mimetype": "text/x-python",
   "name": "python",
   "nbconvert_exporter": "python",
   "pygments_lexer": "ipython3",
   "version": "3.7.2"
  }
 },
 "nbformat": 4,
 "nbformat_minor": 2
}
