{
 "cells": [
  {
   "cell_type": "code",
   "execution_count": 1,
   "metadata": {},
   "outputs": [],
   "source": [
    "import os\n",
    "import collections\n",
    "\n",
    "from tf.fabric import Fabric"
   ]
  },
  {
   "cell_type": "code",
   "execution_count": 2,
   "metadata": {},
   "outputs": [],
   "source": [
    "BASE = os.path.expanduser('~/github')\n",
    "ORG = 'etcbc'\n",
    "REPO = 'dss'\n",
    "PATH = 'tf'\n",
    "VERSION = '1.0'\n",
    "\n",
    "LOCATIONS = f'{BASE}/{ORG}/{REPO}/{PATH}/{VERSION}'"
   ]
  },
  {
   "cell_type": "code",
   "execution_count": 3,
   "metadata": {},
   "outputs": [
    {
     "name": "stdout",
     "output_type": "stream",
     "text": [
      "This is Text-Fabric 7.6.8\n",
      "Api reference : https://annotation.github.io/text-fabric/Api/Fabric/\n",
      "\n",
      "50 features found and 0 ignored\n"
     ]
    }
   ],
   "source": [
    "TF = Fabric(locations=LOCATIONS)"
   ]
  },
  {
   "cell_type": "code",
   "execution_count": 4,
   "metadata": {},
   "outputs": [
    {
     "name": "stdout",
     "output_type": "stream",
     "text": [
      "  0.00s loading features ...\n",
      "   |     0.01s B otype                from /Users/dirk/github/etcbc/dss/tf/1.0\n",
      "   |     0.64s B oslots               from /Users/dirk/github/etcbc/dss/tf/1.0\n",
      "   |     0.00s B acro                 from /Users/dirk/github/etcbc/dss/tf/1.0\n",
      "   |     0.02s B label                from /Users/dirk/github/etcbc/dss/tf/1.0\n",
      "   |     0.02s B after                from /Users/dirk/github/etcbc/dss/tf/1.0\n",
      "   |     0.17s B full                 from /Users/dirk/github/etcbc/dss/tf/1.0\n",
      "   |     0.12s B fulle                from /Users/dirk/github/etcbc/dss/tf/1.0\n",
      "   |     0.12s B fullo                from /Users/dirk/github/etcbc/dss/tf/1.0\n",
      "   |     0.53s B glyph                from /Users/dirk/github/etcbc/dss/tf/1.0\n",
      "   |     0.30s B glyphe               from /Users/dirk/github/etcbc/dss/tf/1.0\n",
      "   |     0.27s B glypho               from /Users/dirk/github/etcbc/dss/tf/1.0\n",
      "   |     0.14s B lex                  from /Users/dirk/github/etcbc/dss/tf/1.0\n",
      "   |     0.11s B lexe                 from /Users/dirk/github/etcbc/dss/tf/1.0\n",
      "   |     0.13s B lexo                 from /Users/dirk/github/etcbc/dss/tf/1.0\n",
      "   |     0.01s B punc                 from /Users/dirk/github/etcbc/dss/tf/1.0\n",
      "   |     0.01s B punce                from /Users/dirk/github/etcbc/dss/tf/1.0\n",
      "   |     0.01s B punco                from /Users/dirk/github/etcbc/dss/tf/1.0\n",
      "   |     0.00s B alternative          from /Users/dirk/github/etcbc/dss/tf/1.0\n",
      "   |     0.03s B biblical             from /Users/dirk/github/etcbc/dss/tf/1.0\n",
      "   |     0.07s B cl                   from /Users/dirk/github/etcbc/dss/tf/1.0\n",
      "   |     0.00s B cl2                  from /Users/dirk/github/etcbc/dss/tf/1.0\n",
      "   |     0.00s B correction           from /Users/dirk/github/etcbc/dss/tf/1.0\n",
      "   |     0.03s B gn                   from /Users/dirk/github/etcbc/dss/tf/1.0\n",
      "   |     0.01s B gn2                  from /Users/dirk/github/etcbc/dss/tf/1.0\n",
      "   |     0.00s B gn3                  from /Users/dirk/github/etcbc/dss/tf/1.0\n",
      "   |     0.00s B interlinear          from /Users/dirk/github/etcbc/dss/tf/1.0\n",
      "   |     0.05s B language             from /Users/dirk/github/etcbc/dss/tf/1.0\n",
      "   |     0.00s B md                   from /Users/dirk/github/etcbc/dss/tf/1.0\n",
      "   |     0.00s B merr                 from /Users/dirk/github/etcbc/dss/tf/1.0\n",
      "   |     0.11s B morpho               from /Users/dirk/github/etcbc/dss/tf/1.0\n",
      "   |     0.02s B nu                   from /Users/dirk/github/etcbc/dss/tf/1.0\n",
      "   |     0.01s B nu2                  from /Users/dirk/github/etcbc/dss/tf/1.0\n",
      "   |     0.00s B nu3                  from /Users/dirk/github/etcbc/dss/tf/1.0\n",
      "   |     0.01s B number               from /Users/dirk/github/etcbc/dss/tf/1.0\n",
      "   |     0.10s B occ                  from /Users/dirk/github/etcbc/dss/tf/1.0\n",
      "   |     0.01s B ps                   from /Users/dirk/github/etcbc/dss/tf/1.0\n",
      "   |     0.01s B ps2                  from /Users/dirk/github/etcbc/dss/tf/1.0\n",
      "   |     0.00s B ps3                  from /Users/dirk/github/etcbc/dss/tf/1.0\n",
      "   |     0.08s B reconstruction       from /Users/dirk/github/etcbc/dss/tf/1.0\n",
      "   |     0.00s B removed              from /Users/dirk/github/etcbc/dss/tf/1.0\n",
      "   |     0.00s B script               from /Users/dirk/github/etcbc/dss/tf/1.0\n",
      "   |     0.12s B sp                   from /Users/dirk/github/etcbc/dss/tf/1.0\n",
      "   |     0.08s B srcLn                from /Users/dirk/github/etcbc/dss/tf/1.0\n",
      "   |     0.01s B st                   from /Users/dirk/github/etcbc/dss/tf/1.0\n",
      "   |     0.45s B type                 from /Users/dirk/github/etcbc/dss/tf/1.0\n",
      "   |     0.02s B uncertain            from /Users/dirk/github/etcbc/dss/tf/1.0\n",
      "   |     0.00s B vacat                from /Users/dirk/github/etcbc/dss/tf/1.0\n",
      "   |     0.02s B vs                   from /Users/dirk/github/etcbc/dss/tf/1.0\n",
      "   |     0.02s B vt                   from /Users/dirk/github/etcbc/dss/tf/1.0\n",
      "  6.08s All features loaded/computed - for details use loadLog()\n"
     ]
    },
    {
     "data": {
      "text/plain": [
       "[('Computed',\n",
       "  'computed-data',\n",
       "  ('C Computed', 'Call AllComputeds', 'Cs ComputedString')),\n",
       " ('Features', 'edge-features', ('E Edge', 'Eall AllEdges', 'Es EdgeString')),\n",
       " ('Fabric', 'loading', ('ensureLoaded', 'TF', 'ignored', 'loadLog')),\n",
       " ('Locality', 'locality', ('L Locality',)),\n",
       " ('Misc', 'messaging', ('cache', 'error', 'indent', 'info', 'reset')),\n",
       " ('Nodes',\n",
       "  'navigating-nodes',\n",
       "  ('N Nodes', 'sortKey', 'sortKeyTuple', 'otypeRank', 'sortNodes')),\n",
       " ('Features',\n",
       "  'node-features',\n",
       "  ('F Feature', 'Fall AllFeatures', 'Fs FeatureString')),\n",
       " ('Search', 'search', ('S Search',)),\n",
       " ('Text', 'text', ('T Text',))]"
      ]
     },
     "execution_count": 4,
     "metadata": {},
     "output_type": "execute_result"
    }
   ],
   "source": [
    "allFeatures = TF.explore(silent=True, show=True)\n",
    "loadableFeatures = allFeatures['nodes'] + allFeatures['edges']\n",
    "api = TF.load(loadableFeatures, silent=False)\n",
    "api.makeAvailableIn(globals())"
   ]
  },
  {
   "cell_type": "code",
   "execution_count": 5,
   "metadata": {},
   "outputs": [
    {
     "data": {
      "text/plain": [
       "(('ו', 188886),\n",
       " ('י', 125357),\n",
       " ('ה', 114863),\n",
       " ('ל', 105707),\n",
       " ('', 92893),\n",
       " ('א', 90906),\n",
       " ('ב', 82615),\n",
       " ('ר', 65004),\n",
       " ('מ', 63346),\n",
       " ('ת', 59235),\n",
       " ('שׁ', 56362),\n",
       " ('ε', 53880),\n",
       " ('׳', 46062),\n",
       " ('ע', 44220),\n",
       " ('כ', 41739),\n",
       " ('ם', 36169),\n",
       " ('נ', 35146),\n",
       " ('ד', 33134),\n",
       " ('׃', 29915),\n",
       " (' # ', 26568))"
      ]
     },
     "execution_count": 5,
     "metadata": {},
     "output_type": "execute_result"
    }
   ],
   "source": [
    "F.glyph.freqList()[0:20]"
   ]
  },
  {
   "cell_type": "code",
   "execution_count": 6,
   "metadata": {},
   "outputs": [
    {
     "data": {
      "text/plain": [
       "'ויראאלהיםכיטוב׃ויה'"
      ]
     },
     "execution_count": 6,
     "metadata": {},
     "output_type": "execute_result"
    }
   ],
   "source": [
    "T.text(range(20))"
   ]
  },
  {
   "cell_type": "code",
   "execution_count": 9,
   "metadata": {},
   "outputs": [],
   "source": [
    "words = dict(\n",
    "  aramaic=[w for w in F.otype.s('word') if F.language.v(w) == 'aramaic'],\n",
    "  greek=[w for w in F.otype.s('word') if F.language.v(w) == 'greek'],\n",
    ")"
   ]
  },
  {
   "cell_type": "code",
   "execution_count": 13,
   "metadata": {},
   "outputs": [],
   "source": [
    "def firstOnes(language, limit):\n",
    "  print(language)\n",
    "  for w in words[language][0:limit]:\n",
    "    print(f'\\t{w} {F.fullo.v(w)} {F.fulle.v(w)} {F.full.v(w)}')"
   ]
  },
  {
   "cell_type": "code",
   "execution_count": 14,
   "metadata": {},
   "outputs": [
    {
     "name": "stdout",
     "output_type": "stream",
     "text": [
      "aramaic\n",
      "\t1662762 mlk MLK מלכ\n",
      "\t1662763 a > א\n",
      "\t1662764 l L ל\n",
      "\t1662765 olmyN <LMJn עלמין\n",
      "\t1662766 j[yy X[ JJ ח[ יי\n",
      "\t1662767 amr >MR אמר\n",
      "\t1662768 jlm XLM חלמ\n",
      "\t1662769 a > א\n",
      "\t1662770 l L ל\n",
      "\t1662771 obdy/K] ╱ ╱\n"
     ]
    }
   ],
   "source": [
    "firstOnes('aramaic', 10)"
   ]
  },
  {
   "cell_type": "code",
   "execution_count": 15,
   "metadata": {},
   "outputs": [
    {
     "name": "stdout",
     "output_type": "stream",
     "text": [
      "greek\n",
      "\t1889836 KEN ΚΕΝ ΚΕΝ\n",
      "\t1889910 CHAG ΧΑΓ ΧΑΓ\n",
      "\t1889943 HN ΗΝ ΗΝ\n",
      "\t1889961 THE ΘΕ ΘΕ\n",
      "\t1890002 DI ΔΙ ΔΙ\n",
      "\t1890089 TR ΤΡ ΤΡ\n",
      "\t1890140 SK ΣΚ ΣΚ\n"
     ]
    }
   ],
   "source": [
    "firstOnes('greek', 10)"
   ]
  },
  {
   "cell_type": "code",
   "execution_count": null,
   "metadata": {},
   "outputs": [],
   "source": []
  }
 ],
 "metadata": {
  "kernelspec": {
   "display_name": "Python 3",
   "language": "python",
   "name": "python3"
  },
  "language_info": {
   "codemirror_mode": {
    "name": "ipython",
    "version": 3
   },
   "file_extension": ".py",
   "mimetype": "text/x-python",
   "name": "python",
   "nbconvert_exporter": "python",
   "pygments_lexer": "ipython3",
   "version": "3.7.2"
  }
 },
 "nbformat": 4,
 "nbformat_minor": 2
}
