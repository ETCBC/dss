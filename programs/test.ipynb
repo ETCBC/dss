{
 "cells": [
  {
   "cell_type": "code",
   "execution_count": 1,
   "metadata": {},
   "outputs": [],
   "source": [
    "import os\n",
    "import collections\n",
    "\n",
    "from tf.fabric import Fabric"
   ]
  },
  {
   "cell_type": "code",
   "execution_count": 2,
   "metadata": {},
   "outputs": [],
   "source": [
    "BASE = os.path.expanduser('~/github')\n",
    "ORG = 'etcbc'\n",
    "REPO = 'dss'\n",
    "PATH = 'tf'\n",
    "VERSION = '1.0'\n",
    "\n",
    "LOCATIONS = f'{BASE}/{ORG}/{REPO}/{PATH}/{VERSION}'"
   ]
  },
  {
   "cell_type": "code",
   "execution_count": 3,
   "metadata": {},
   "outputs": [
    {
     "name": "stdout",
     "output_type": "stream",
     "text": [
      "This is Text-Fabric 7.6.4\n",
      "Api reference : https://annotation.github.io/text-fabric/Api/Fabric/\n",
      "\n",
      "26 features found and 0 ignored\n"
     ]
    }
   ],
   "source": [
    "TF = Fabric(locations=LOCATIONS)"
   ]
  },
  {
   "cell_type": "code",
   "execution_count": 4,
   "metadata": {},
   "outputs": [
    {
     "name": "stdout",
     "output_type": "stream",
     "text": [
      "  0.00s loading features ...\n",
      "   |     0.01s B otype                from /Users/dirk/github/etcbc/dss/tf/1.0\n",
      "   |     0.67s B oslots               from /Users/dirk/github/etcbc/dss/tf/1.0\n",
      "   |     0.00s B acro                 from /Users/dirk/github/etcbc/dss/tf/1.0\n",
      "   |     0.01s B label                from /Users/dirk/github/etcbc/dss/tf/1.0\n",
      "   |     0.01s B number               from /Users/dirk/github/etcbc/dss/tf/1.0\n",
      "   |     0.02s B after                from /Users/dirk/github/etcbc/dss/tf/1.0\n",
      "   |     0.16s B full                 from /Users/dirk/github/etcbc/dss/tf/1.0\n",
      "   |     0.12s B fulla                from /Users/dirk/github/etcbc/dss/tf/1.0\n",
      "   |     0.12s B fulle                from /Users/dirk/github/etcbc/dss/tf/1.0\n",
      "   |     0.55s B glyph                from /Users/dirk/github/etcbc/dss/tf/1.0\n",
      "   |     0.31s B glypha               from /Users/dirk/github/etcbc/dss/tf/1.0\n",
      "   |     0.33s B glyphe               from /Users/dirk/github/etcbc/dss/tf/1.0\n",
      "   |     0.15s B lex                  from /Users/dirk/github/etcbc/dss/tf/1.0\n",
      "   |     0.12s B lexa                 from /Users/dirk/github/etcbc/dss/tf/1.0\n",
      "   |     0.11s B lexe                 from /Users/dirk/github/etcbc/dss/tf/1.0\n",
      "   |     0.01s B punc                 from /Users/dirk/github/etcbc/dss/tf/1.0\n",
      "   |     0.01s B punca                from /Users/dirk/github/etcbc/dss/tf/1.0\n",
      "   |     0.01s B punce                from /Users/dirk/github/etcbc/dss/tf/1.0\n",
      "   |     0.00s B alternative          from /Users/dirk/github/etcbc/dss/tf/1.0\n",
      "   |     0.00s B correction           from /Users/dirk/github/etcbc/dss/tf/1.0\n",
      "   |     0.09s B reconstruction       from /Users/dirk/github/etcbc/dss/tf/1.0\n",
      "   |     0.00s B removed              from /Users/dirk/github/etcbc/dss/tf/1.0\n",
      "   |     0.38s B type                 from /Users/dirk/github/etcbc/dss/tf/1.0\n",
      "   |     0.02s B uncertain            from /Users/dirk/github/etcbc/dss/tf/1.0\n",
      "   |     0.00s B vacat                from /Users/dirk/github/etcbc/dss/tf/1.0\n",
      "  4.77s All features loaded/computed - for details use loadLog()\n"
     ]
    },
    {
     "data": {
      "text/plain": [
       "[('Computed',\n",
       "  'computed-data',\n",
       "  ('C Computed', 'Call AllComputeds', 'Cs ComputedString')),\n",
       " ('Features', 'edge-features', ('E Edge', 'Eall AllEdges', 'Es EdgeString')),\n",
       " ('Fabric', 'loading', ('ensureLoaded', 'TF', 'ignored', 'loadLog')),\n",
       " ('Locality', 'locality', ('L Locality',)),\n",
       " ('Misc', 'messaging', ('cache', 'error', 'indent', 'info', 'reset')),\n",
       " ('Nodes',\n",
       "  'navigating-nodes',\n",
       "  ('N Nodes', 'sortKey', 'sortKeyTuple', 'otypeRank', 'sortNodes')),\n",
       " ('Features',\n",
       "  'node-features',\n",
       "  ('F Feature', 'Fall AllFeatures', 'Fs FeatureString')),\n",
       " ('Search', 'search', ('S Search',)),\n",
       " ('Text', 'text', ('T Text',))]"
      ]
     },
     "execution_count": 4,
     "metadata": {},
     "output_type": "execute_result"
    }
   ],
   "source": [
    "allFeatures = TF.explore(silent=True, show=True)\n",
    "loadableFeatures = allFeatures['nodes'] + allFeatures['edges']\n",
    "api = TF.load(loadableFeatures, silent=False)\n",
    "api.makeAvailableIn(globals())"
   ]
  },
  {
   "cell_type": "code",
   "execution_count": 6,
   "metadata": {},
   "outputs": [
    {
     "data": {
      "text/plain": [
       "(('ו', 188886),\n",
       " ('י', 125357),\n",
       " ('ה', 114863),\n",
       " ('ε', 107760),\n",
       " ('ל', 105707),\n",
       " ('׳', 92124),\n",
       " ('א', 90908),\n",
       " ('ב', 82615),\n",
       " ('ר', 65004),\n",
       " ('מ', 63346),\n",
       " ('׃', 59830),\n",
       " ('ת', 59235),\n",
       " (' 10 ', 56434),\n",
       " (' # ', 53136),\n",
       " ('ע', 44220),\n",
       " ('כ', 41739),\n",
       " (' M ', 36169),\n",
       " ('נ', 35146),\n",
       " ('ד', 33134),\n",
       " ('╱', 31064))"
      ]
     },
     "execution_count": 6,
     "metadata": {},
     "output_type": "execute_result"
    }
   ],
   "source": [
    "F.glyph.freqList()[0:20]"
   ]
  },
  {
   "cell_type": "code",
   "execution_count": 8,
   "metadata": {},
   "outputs": [
    {
     "data": {
      "text/plain": [
       "'ויראאלהי M כיטוב׃׃ויה'"
      ]
     },
     "execution_count": 8,
     "metadata": {},
     "output_type": "execute_result"
    }
   ],
   "source": [
    "T.text(range(20))"
   ]
  },
  {
   "cell_type": "code",
   "execution_count": null,
   "metadata": {},
   "outputs": [],
   "source": []
  }
 ],
 "metadata": {
  "kernelspec": {
   "display_name": "Python 3",
   "language": "python",
   "name": "python3"
  },
  "language_info": {
   "codemirror_mode": {
    "name": "ipython",
    "version": 3
   },
   "file_extension": ".py",
   "mimetype": "text/x-python",
   "name": "python",
   "nbconvert_exporter": "python",
   "pygments_lexer": "ipython3",
   "version": "3.7.2"
  }
 },
 "nbformat": 4,
 "nbformat_minor": 2
}
